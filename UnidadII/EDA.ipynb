{
  "cells": [
    {
      "cell_type": "markdown",
      "metadata": {
        "id": "ARMa5hZcE5mG"
      },
      "source": [
        "# Exploratory data analysis\n",
        "\n",
        "```{r}\n",
        "source(\"https://raw.githubusercontent.com/ricardo-rios/fund_prog_est/main/_common.R\")\n",
        "```\n"
      ]
    },
    {
      "cell_type": "code",
      "source": [],
      "metadata": {
        "id": "lEzV6izSFMgL"
      },
      "execution_count": null,
      "outputs": []
    },
    {
      "cell_type": "markdown",
      "source": [
        "## Introduction\n",
        "\n",
        "This chapter will show you how to use visualization and transformation to explore your data in a systematic way, a task that statisticians call exploratory data analysis, or EDA for short.\n",
        "EDA is an iterative cycle.\n",
        "You:\n",
        "\n",
        "1.  Generate questions about your data.\n",
        "\n",
        "2.  Search for answers by visualizing, transforming, and modelling your data.\n",
        "\n",
        "3.  Use what you learn to refine your questions and/or generate new questions.\n",
        "\n",
        "EDA is not a formal process with a strict set of rules.\n",
        "More than anything, EDA is a state of mind.\n",
        "During the initial phases of EDA you should feel free to investigate every idea that occurs to you.\n",
        "Some of these ideas will pan out, and some will be dead ends.\n",
        "As your exploration continues, you will home in on a few particularly productive insights that you'll eventually write up and communicate to others.\n",
        "\n",
        "EDA is an important part of any data analysis, even if the primary research questions are handed to you on a platter, because you always need to investigate the quality of your data.\n",
        "Data cleaning is just one application of EDA: you ask questions about whether your data meets your expectations or not.\n",
        "To do data cleaning, you'll need to deploy all the tools of EDA: visualization, transformation, and modelling.\n"
      ],
      "metadata": {
        "id": "tpyFaK5TFN36"
      }
    },
    {
      "cell_type": "markdown",
      "source": [
        "### Prerequisites\n",
        "\n",
        "In this chapter we'll combine what you've learned about dplyr and ggplot2 to interactively ask questions, answer them with data, and then ask new questions.\n",
        "\n",
        "```{r}\n",
        "library(tidyverse)\n",
        "```\n"
      ],
      "metadata": {
        "id": "s1HmoSjrFR61"
      }
    },
    {
      "cell_type": "code",
      "source": [],
      "metadata": {
        "id": "5IXr-mPkFQlp"
      },
      "execution_count": null,
      "outputs": []
    },
    {
      "cell_type": "markdown",
      "source": [
        "## Questions\n",
        "\n",
        "> \"There are no routine statistical questions, only questionable statistical routines.\" --- Sir David Cox\n",
        "\n",
        "> \"Far better an approximate answer to the right question, which is often vague, than an exact answer to the wrong question, which can always be made precise.\" --- John Tukey\n",
        "\n",
        "Your goal during EDA is to develop an understanding of your data.\n",
        "The easiest way to do this is to use questions as tools to guide your investigation.\n",
        "When you ask a question, the question focuses your attention on a specific part of your dataset and helps you decide which graphs, models, or transformations to make.\n",
        "\n",
        "EDA is fundamentally a creative process.\n",
        "And like most creative processes, the key to asking *quality* questions is to generate a large *quantity* of questions.\n",
        "It is difficult to ask revealing questions at the start of your analysis because you do not know what insights can be gleaned from your dataset.\n",
        "On the other hand, each new question that you ask will expose you to a new aspect of your data and increase your chance of making a discovery.\n",
        "You can quickly drill down into the most interesting parts of your data---and develop a set of thought-provoking questions---if you follow up each question with a new question based on what you find.\n",
        "\n",
        "There is no rule about which questions you should ask to guide your research.\n",
        "However, two types of questions will always be useful for making discoveries within your data.\n",
        "You can loosely word these questions as:\n",
        "\n",
        "1.  What type of variation occurs within my variables?\n",
        "\n",
        "2.  What type of covariation occurs between my variables?\n",
        "\n",
        "The rest of this chapter will look at these two questions.\n",
        "We'll explain what variation and covariation are, and we'll show you several ways to answer each question.\n",
        "\n",
        "## Variation\n",
        "\n",
        "**Variation** is the tendency of the values of a variable to change from measurement to measurement.\n",
        "You can see variation easily in real life; if you measure any continuous variable twice, you will get two different results.\n",
        "This is true even if you measure quantities that are constant, like the speed of light.\n",
        "Each of your measurements will include a small amount of error that varies from measurement to measurement.\n",
        "Variables can also vary if you measure across different subjects (e.g., the eye colors of different people) or at different times (e.g., the energy levels of an electron at different moments).\n",
        "Every variable has its own pattern of variation, which can reveal interesting information about how that it varies between measurements on the same observation as well as across observations.\n",
        "The best way to understand that pattern is to visualize the distribution of the variable's values, which you've learned about in @sec-data-visualization.\n",
        "\n",
        "We'll start our exploration by visualizing the distribution of weights (`carat`) of \\~54,000 diamonds from the `diamonds` dataset.\n",
        "Since `carat` is a numerical variable, we can use a histogram:\n",
        "\n",
        "```{r}\n",
        "\n",
        "ggplot(diamonds, aes(x = carat)) +\n",
        "  geom_histogram(binwidth = 0.5)\n",
        "```\n"
      ],
      "metadata": {
        "id": "34_gVDeTFVCp"
      }
    },
    {
      "cell_type": "code",
      "source": [],
      "metadata": {
        "id": "5FfZz0hbFcUm"
      },
      "execution_count": null,
      "outputs": []
    },
    {
      "cell_type": "markdown",
      "source": [
        "Now that you can visualize variation, what should you look for in your plots?\n",
        "And what type of follow-up questions should you ask?\n",
        "We've put together a list below of the most useful types of information that you will find in your graphs, along with some follow-up questions for each type of information.\n",
        "The key to asking good follow-up questions will be to rely on your curiosity (What do you want to learn more about?) as well as your skepticism (How could this be misleading?).\n",
        "\n",
        "### Typical values\n",
        "\n",
        "In both bar charts and histograms, tall bars show the common values of a variable, and shorter bars show less-common values.\n",
        "Places that do not have bars reveal values that were not seen in your data.\n",
        "To turn this information into useful questions, look for anything unexpected:\n",
        "\n",
        "-   Which values are the most common?\n",
        "    Why?\n",
        "\n",
        "-   Which values are rare?\n",
        "    Why?\n",
        "    Does that match your expectations?\n",
        "\n",
        "-   Can you see any unusual patterns?\n",
        "    What might explain them?\n",
        "\n",
        "Let's take a look at the distribution of `carat` for smaller diamonds.\n",
        "\n",
        "```{r}\n",
        "\n",
        "smaller <- diamonds |>\n",
        "  filter(carat < 3)\n",
        "\n",
        "ggplot(smaller, aes(x = carat)) +\n",
        "  geom_histogram(binwidth = 0.01)\n",
        "```\n"
      ],
      "metadata": {
        "id": "F5OaNzHqFeRM"
      }
    },
    {
      "cell_type": "code",
      "source": [],
      "metadata": {
        "id": "V8Z9LMmvGyPd"
      },
      "execution_count": null,
      "outputs": []
    },
    {
      "cell_type": "markdown",
      "source": [
        "This histogram suggests several interesting questions:\n",
        "\n",
        "-   Why are there more diamonds at whole carats and common fractions of carats?\n",
        "\n",
        "-   Why are there more diamonds slightly to the right of each peak than there are slightly to the left of each peak?\n",
        "\n",
        "Visualizations can also reveal clusters, which suggest that subgroups exist in your data.\n",
        "To understand the subgroups, ask:\n",
        "\n",
        "-   How are the observations within each subgroup similar to each other?\n",
        "\n",
        "-   How are the observations in separate clusters different from each other?\n",
        "\n",
        "-   How can you explain or describe the clusters?\n",
        "\n",
        "-   Why might the appearance of clusters be misleading?\n",
        "\n",
        "Some of these questions can be answered with the data while some will require domain expertise about the data.\n",
        "Many of them will prompt you to explore a relationship *between* variables, for example, to see if the values of one variable can explain the behavior of another variable.\n",
        "We'll get to that shortly.\n"
      ],
      "metadata": {
        "id": "96TMvjBnG0Ds"
      }
    },
    {
      "cell_type": "markdown",
      "source": [
        "### Unusual values\n",
        "\n",
        "Outliers are observations that are unusual; data points that don't seem to fit the pattern.\n",
        "Sometimes outliers are data entry errors, sometimes they are simply values at the extremes that happened to be observed in this data collection, and other times they suggest important new discoveries.\n",
        "When you have a lot of data, outliers are sometimes difficult to see in a histogram.\n",
        "For example, take the distribution of the `y` variable from the diamonds dataset.\n",
        "The only evidence of outliers is the unusually wide limits on the x-axis.\n",
        "\n",
        "```{r}\n",
        "\n",
        "ggplot(diamonds, aes(x = y)) +\n",
        "  geom_histogram(binwidth = 0.5)\n",
        "```\n"
      ],
      "metadata": {
        "id": "gcvKPnexG59i"
      }
    },
    {
      "cell_type": "code",
      "source": [],
      "metadata": {
        "id": "dBsEp1JXG3cz"
      },
      "execution_count": null,
      "outputs": []
    },
    {
      "cell_type": "markdown",
      "source": [
        "There are so many observations in the common bins that the rare bins are very short, making it very difficult to see them (although maybe if you stare intently at 0 you'll spot something).\n",
        "To make it easy to see the unusual values, we need to zoom to small values of the y-axis with `coord_cartesian()`:\n",
        "\n",
        "```{r}\n",
        "\n",
        "ggplot(diamonds, aes(x = y)) +\n",
        "  geom_histogram(binwidth = 0.5) +\n",
        "  coord_cartesian(ylim = c(0, 50))\n",
        "```\n"
      ],
      "metadata": {
        "id": "fAsmEjf3HBze"
      }
    },
    {
      "cell_type": "code",
      "source": [],
      "metadata": {
        "id": "WiPEaSrBHDiI"
      },
      "execution_count": null,
      "outputs": []
    },
    {
      "cell_type": "markdown",
      "source": [
        "`coord_cartesian()` also has an `xlim()` argument for when you need to zoom into the x-axis.\n",
        "ggplot2 also has `xlim()` and `ylim()` functions that work slightly differently: they throw away the data outside the limits.\n",
        "\n",
        "This allows us to see that there are three unusual values: 0, \\~30, and \\~60.\n",
        "We pluck them out with dplyr:\n",
        "\n",
        "```{r}\n",
        "old <- options(tibble.print_max = 10, tibble.print_min = 10)\n",
        "```\n",
        "\n",
        "```{r}\n",
        "unusual <- diamonds |>\n",
        "  filter(y < 3 | y > 20) |>\n",
        "  select(price, x, y, z) |>\n",
        "  arrange(y)\n",
        "unusual\n",
        "```\n",
        "\n",
        "```{r}\n",
        "options(old)\n",
        "```\n"
      ],
      "metadata": {
        "id": "S6CrKyx5HKjX"
      }
    },
    {
      "cell_type": "code",
      "source": [],
      "metadata": {
        "id": "hSfWSzM8HNFm"
      },
      "execution_count": null,
      "outputs": []
    },
    {
      "cell_type": "code",
      "source": [],
      "metadata": {
        "id": "gHBzCqxvHPw7"
      },
      "execution_count": null,
      "outputs": []
    },
    {
      "cell_type": "code",
      "source": [],
      "metadata": {
        "id": "KHjxjj_0HP4j"
      },
      "execution_count": null,
      "outputs": []
    },
    {
      "cell_type": "markdown",
      "source": [
        "The `y` variable measures one of the three dimensions of these diamonds, in mm.\n",
        "We know that diamonds can't have a width of 0mm, so these values must be incorrect.\n",
        "By doing EDA, we have discovered missing data that was coded as 0, which we never would have found by simply searching for `NA`s.\n",
        "Going forward we might choose to re-code these values as `NA`s in order to prevent misleading calculations.\n",
        "We might also suspect that measurements of 32mm and 59mm are implausible: those diamonds are over an inch long, but don't cost hundreds of thousands of dollars!\n",
        "\n",
        "It's good practice to repeat your analysis with and without the outliers.\n",
        "If they have minimal effect on the results, and you can't figure out why they're there, it's reasonable to omit them, and move on.\n",
        "However, if they have a substantial effect on your results, you shouldn't drop them without justification.\n",
        "You'll need to figure out what caused them (e.g., a data entry error) and disclose that you removed them in your write-up.\n",
        "\n",
        "### Exercises\n",
        "\n",
        "1.  Explore the distribution of each of the `x`, `y`, and `z` variables in `diamonds`.\n",
        "    What do you learn?\n",
        "    Think about a diamond and how you might decide which dimension is the length, width, and depth.\n",
        "\n",
        "2.  Explore the distribution of `price`.\n",
        "    Do you discover anything unusual or surprising?\n",
        "    (Hint: Carefully think about the `binwidth` and make sure you try a wide range of values.)\n",
        "\n",
        "3.  How many diamonds are 0.99 carat?\n",
        "    How many are 1 carat?\n",
        "    What do you think is the cause of the difference?\n",
        "\n",
        "4.  Compare and contrast `coord_cartesian()` vs. `xlim()` or `ylim()` when zooming in on a histogram.\n",
        "    What happens if you leave `binwidth` unset?\n",
        "    What happens if you try and zoom so only half a bar shows?\n"
      ],
      "metadata": {
        "id": "LDbUySHGHQYU"
      }
    },
    {
      "cell_type": "code",
      "source": [],
      "metadata": {
        "id": "DdqUsmSSHTQL"
      },
      "execution_count": null,
      "outputs": []
    },
    {
      "cell_type": "markdown",
      "source": [
        "## Unusual values {#sec-unusual-values-eda}\n",
        "\n",
        "If you've encountered unusual values in your dataset, and simply want to move on to the rest of your analysis, you have two options.\n",
        "\n",
        "1.  Drop the entire row with the strange values:\n",
        "\n",
        "    ```{r}\n",
        "    diamonds2 <- diamonds |>\n",
        "      filter(between(y, 3, 20))\n",
        "    ```\n"
      ],
      "metadata": {
        "id": "tNfi2dtDHWUZ"
      }
    },
    {
      "cell_type": "code",
      "source": [],
      "metadata": {
        "id": "0oqvVaEXHbS_"
      },
      "execution_count": null,
      "outputs": []
    },
    {
      "cell_type": "markdown",
      "source": [
        "      We don't recommend this option because one invalid value doesn't imply that all the other values for that observation are also invalid.\n",
        "    Additionally, if you have low quality data, by the time that you've applied this approach to every variable you might find that you don't have any data left!\n",
        "\n",
        "2.  Instead, we recommend replacing the unusual values with missing values.\n",
        "    The easiest way to do this is to use `mutate()` to replace the variable with a modified copy.\n",
        "    You can use the `if_else()` function to replace unusual values with `NA`:\n",
        "\n",
        "    ```{r}\n",
        "    diamonds2 <- diamonds |>\n",
        "      mutate(y = if_else(y < 3 | y > 20, NA, y))\n",
        "    ```\n"
      ],
      "metadata": {
        "id": "xpa8B1JdHbvF"
      }
    },
    {
      "cell_type": "code",
      "source": [],
      "metadata": {
        "id": "yCwkLjBGHhH7"
      },
      "execution_count": null,
      "outputs": []
    },
    {
      "cell_type": "markdown",
      "source": [
        "It's not obvious where you should plot missing values, so ggplot2 doesn't include them in the plot, but it does warn that they've been removed:\n",
        "\n",
        "```{r}\n",
        "\n",
        "ggplot(diamonds2, aes(x = x, y = y)) +\n",
        "  geom_point()\n",
        "```\n"
      ],
      "metadata": {
        "id": "IR4-qN8RHh6b"
      }
    },
    {
      "cell_type": "code",
      "source": [],
      "metadata": {
        "id": "SxuSILXZHnDy"
      },
      "execution_count": null,
      "outputs": []
    },
    {
      "cell_type": "markdown",
      "source": [
        "To suppress that warning, set `na.rm = TRUE`:\n",
        "\n",
        "```{r}\n",
        "\n",
        "ggplot(diamonds2, aes(x = x, y = y)) +\n",
        "  geom_point(na.rm = TRUE)\n",
        "```\n"
      ],
      "metadata": {
        "id": "RHaa-nSnHsKv"
      }
    },
    {
      "cell_type": "code",
      "source": [],
      "metadata": {
        "id": "s4VN0AueHtJX"
      },
      "execution_count": null,
      "outputs": []
    },
    {
      "cell_type": "markdown",
      "source": [
        "Other times you want to understand what makes observations with missing values different to observations with recorded values.\n",
        "For example, in `nycflights13::flights` missing values in the `dep_time` variable indicate that the flight was cancelled.\n",
        "So you might want to compare the scheduled departure times for cancelled and non-cancelled times.\n",
        "You can do this by making a new variable, using `is.na()` to check if `dep_time` is missing.\n",
        "\n",
        "Remember that when we need to be explicit about where a function (or dataset) comes from, we'll use the special form `package::function()` or `package::dataset`.\n",
        "\n",
        "```{r}\n",
        "\n",
        "nycflights13::flights |>\n",
        "  mutate(\n",
        "    cancelled = is.na(dep_time),\n",
        "    sched_hour = sched_dep_time %/% 100,\n",
        "    sched_min = sched_dep_time %% 100,\n",
        "    sched_dep_time = sched_hour + (sched_min / 60)\n",
        "  ) |>\n",
        "  ggplot(aes(x = sched_dep_time)) +\n",
        "  geom_freqpoly(aes(color = cancelled), binwidth = 1/4)\n",
        "```\n"
      ],
      "metadata": {
        "id": "U2cwsJROHzpF"
      }
    },
    {
      "cell_type": "code",
      "source": [],
      "metadata": {
        "id": "VMgQCzV7H6zb"
      },
      "execution_count": null,
      "outputs": []
    },
    {
      "cell_type": "markdown",
      "source": [
        "However this plot isn't great because there are many more non-cancelled flights than cancelled flights.\n",
        "In the next section we'll explore some techniques for improving this comparison.\n",
        "\n",
        "### Exercises\n",
        "\n",
        "1.  What happens to missing values in a histogram?\n",
        "    What happens to missing values in a bar chart?\n",
        "    Why is there a difference in how missing values are handled in histograms and bar charts?\n",
        "\n",
        "2.  What does `na.rm = TRUE` do in `mean()` and `sum()`?\n",
        "\n",
        "3.  Recreate the frequency plot of `scheduled_dep_time` colored by whether the flight was cancelled or not.\n",
        "    Also facet by the `cancelled` variable.\n",
        "    Experiment with different values of the `scales` variable in the faceting function to mitigate the effect of more non-cancelled flights than cancelled flights.\n",
        "\n",
        "## Covariation\n",
        "\n",
        "If variation describes the behavior *within* a variable, covariation describes the behavior *between* variables.\n",
        "**Covariation** is the tendency for the values of two or more variables to vary together in a related way.\n",
        "The best way to spot covariation is to visualize the relationship between two or more variables.\n",
        "\n",
        "### A categorical and a numerical variable\n",
        "\n",
        "For example, let's explore how the price of a diamond varies with its quality (measured by `cut`) using `geom_freqpoly()`:\n",
        "\n",
        "```{r}\n",
        "\n",
        "ggplot(diamonds, aes(x = price)) +\n",
        "  geom_freqpoly(aes(color = cut), binwidth = 500, linewidth = 0.75)\n",
        "```\n"
      ],
      "metadata": {
        "id": "a4GSXbbkH9t7"
      }
    },
    {
      "cell_type": "code",
      "source": [],
      "metadata": {
        "id": "FcOxz0_-IERp"
      },
      "execution_count": null,
      "outputs": []
    },
    {
      "cell_type": "markdown",
      "source": [
        "Note that ggplot2 uses an ordered color scale for `cut` because it's defined as an ordered factor variable in the data.\n",
        "You'll learn more about these in @sec-ordered-factors.\n",
        "\n",
        "The default appearance of `geom_freqpoly()` is not that useful here because the height, determined by the overall count, differs so much across `cut`s, making it hard to see the differences in the shapes of their distributions.\n",
        "\n",
        "To make the comparison easier we need to swap what is displayed on the y-axis.\n",
        "Instead of displaying count, we'll display the **density**, which is the count standardized so that the area under each frequency polygon is one.\n",
        "\n",
        "```{r}\n",
        "\n",
        "ggplot(diamonds, aes(x = price, y = after_stat(density))) +\n",
        "  geom_freqpoly(aes(color = cut), binwidth = 500, linewidth = 0.75)\n",
        "```\n"
      ],
      "metadata": {
        "id": "JESsc-p0IMWs"
      }
    },
    {
      "cell_type": "code",
      "source": [],
      "metadata": {
        "id": "90KMXPJSIOed"
      },
      "execution_count": null,
      "outputs": []
    },
    {
      "cell_type": "markdown",
      "source": [
        "Note that we're mapping the density to `y`, but since `density` is not a variable in the `diamonds` dataset, we need to first calculate it.\n",
        "We use the `after_stat()` function to do so.\n",
        "\n",
        "There's something rather surprising about this plot - it appears that fair diamonds (the lowest quality) have the highest average price!\n",
        "But maybe that's because frequency polygons are a little hard to interpret - there's a lot going on in this plot.\n",
        "\n",
        "A visually simpler plot for exploring this relationship is using side-by-side boxplots.\n",
        "\n",
        "```{r}\n",
        "\n",
        "ggplot(diamonds, aes(x = cut, y = price)) +\n",
        "  geom_boxplot()\n",
        "```\n"
      ],
      "metadata": {
        "id": "C5zPS8wQIPoT"
      }
    },
    {
      "cell_type": "code",
      "source": [],
      "metadata": {
        "id": "n4kO56nxITaj"
      },
      "execution_count": null,
      "outputs": []
    },
    {
      "cell_type": "markdown",
      "source": [
        "We see much less information about the distribution, but the boxplots are much more compact so we can more easily compare them (and fit more on one plot).\n",
        "It supports the counter-intuitive finding that better quality diamonds are typically cheaper!\n",
        "In the exercises, you'll be challenged to figure out why.\n",
        "\n",
        "`cut` is an ordered factor: fair is worse than good, which is worse than very good and so on.\n",
        "Many categorical variables don't have such an intrinsic order, so you might want to reorder them to make a more informative display.\n",
        "One way to do that is with `fct_reorder()`.\n",
        "You'll learn more about that function in @sec-modifying-factor-order, but we want to give you a quick preview here because it's so useful.\n",
        "For example, take the `class` variable in the `mpg` dataset.\n",
        "You might be interested to know how highway mileage varies across classes:\n",
        "\n",
        "```{r}\n",
        "ggplot(mpg, aes(x = class, y = hwy)) +\n",
        "  geom_boxplot()\n",
        "```\n"
      ],
      "metadata": {
        "id": "6IJfF9dyIZNw"
      }
    },
    {
      "cell_type": "code",
      "source": [],
      "metadata": {
        "id": "GWwZJ3HtIaq4"
      },
      "execution_count": null,
      "outputs": []
    },
    {
      "cell_type": "markdown",
      "source": [
        "To make the trend easier to see, we can reorder `class` based on the median value of `hwy`:\n",
        "\n",
        "```{r}\n",
        "ggplot(mpg, aes(x = fct_reorder(class, hwy, median), y = hwy)) +\n",
        "  geom_boxplot()\n",
        "```\n"
      ],
      "metadata": {
        "id": "UuFl1uuEIeXS"
      }
    },
    {
      "cell_type": "code",
      "source": [],
      "metadata": {
        "id": "nbq0owoIIfrv"
      },
      "execution_count": null,
      "outputs": []
    },
    {
      "cell_type": "markdown",
      "source": [
        "If you have long variable names, `geom_boxplot()` will work better if you flip it 90°.\n",
        "You can do that by exchanging the x and y aesthetic mappings.\n",
        "\n",
        "```{r}\n",
        "\n",
        "ggplot(mpg, aes(x = hwy, y = fct_reorder(class, hwy, median))) +\n",
        "  geom_boxplot()\n",
        "```\n"
      ],
      "metadata": {
        "id": "D30h-pVlI6OH"
      }
    },
    {
      "cell_type": "code",
      "source": [],
      "metadata": {
        "id": "4Vhu1VgrI9B3"
      },
      "execution_count": null,
      "outputs": []
    },
    {
      "cell_type": "markdown",
      "source": [
        "#### Exercises\n",
        "\n",
        "1.  Use what you've learned to improve the visualization of the departure times of cancelled vs. non-cancelled flights.\n",
        "\n",
        "2.  Based on EDA, what variable in the diamonds dataset appears to be most important for predicting the price of a diamond?\n",
        "    How is that variable correlated with cut?\n",
        "    Why does the combination of those two relationships lead to lower quality diamonds being more expensive?\n",
        "\n",
        "3.  Instead of exchanging the x and y variables, add `coord_flip()` as a new layer to the vertical boxplot to create a horizontal one.\n",
        "    How does this compare to exchanging the variables?\n",
        "\n",
        "4.  One problem with boxplots is that they were developed in an era of much smaller datasets and tend to display a prohibitively large number of \"outlying values\".\n",
        "    One approach to remedy this problem is the letter value plot.\n",
        "    Install the lvplot package, and try using `geom_lv()` to display the distribution of price vs. cut.\n",
        "    What do you learn?\n",
        "    How do you interpret the plots?\n",
        "\n",
        "5.  Create a visualization of diamond prices vs. a categorical variable from the `diamonds` dataset using `geom_violin()`, then a faceted `geom_histogram()`, then a colored `geom_freqpoly()`, and then a colored `geom_density()`.\n",
        "    Compare and contrast the four plots.\n",
        "    What are the pros and cons of each method of visualizing the distribution of a numerical variable based on the levels of a categorical variable?\n",
        "\n",
        "6.  If you have a small dataset, it's sometimes useful to use `geom_jitter()` to avoid overplotting to more easily see the relationship between a continuous and categorical variable.\n",
        "    The ggbeeswarm package provides a number of methods similar to `geom_jitter()`.\n",
        "    List them and briefly describe what each one does.\n"
      ],
      "metadata": {
        "id": "iasFX80jJE2y"
      }
    },
    {
      "cell_type": "code",
      "source": [],
      "metadata": {
        "id": "K_vak6-NJFcL"
      },
      "execution_count": null,
      "outputs": []
    },
    {
      "cell_type": "markdown",
      "source": [
        "### Two categorical variables\n",
        "\n",
        "To visualize the covariation between categorical variables, you'll need to count the number of observations for each combination of levels of these categorical variables.\n",
        "One way to do that is to rely on the built-in `geom_count()`:\n",
        "\n",
        "```{r}\n",
        "\n",
        "ggplot(diamonds, aes(x = cut, y = color)) +\n",
        "  geom_count()\n",
        "```\n"
      ],
      "metadata": {
        "id": "XLH18Fn6JHjy"
      }
    },
    {
      "cell_type": "code",
      "source": [],
      "metadata": {
        "id": "bv8UuWIFJLbZ"
      },
      "execution_count": null,
      "outputs": []
    },
    {
      "cell_type": "markdown",
      "source": [
        "The size of each circle in the plot displays how many observations occurred at each combination of values.\n",
        "Covariation will appear as a strong correlation between specific x values and specific y values.\n",
        "\n",
        "Another approach for exploring the relationship between these variables is computing the counts with dplyr:\n",
        "\n",
        "```{r}\n",
        "diamonds |>\n",
        "  count(color, cut)\n",
        "```\n"
      ],
      "metadata": {
        "id": "H4Au6WUoJMlp"
      }
    },
    {
      "cell_type": "code",
      "source": [],
      "metadata": {
        "id": "5-QvE7cKJQ7w"
      },
      "execution_count": null,
      "outputs": []
    },
    {
      "cell_type": "markdown",
      "source": [
        "Then visualize with `geom_tile()` and the fill aesthetic:\n",
        "\n",
        "```{r}\n",
        "\n",
        "diamonds |>\n",
        "  count(color, cut) |>  \n",
        "  ggplot(aes(x = color, y = cut)) +\n",
        "  geom_tile(aes(fill = n))\n",
        "```\n"
      ],
      "metadata": {
        "id": "103kOFGaJR62"
      }
    },
    {
      "cell_type": "code",
      "source": [],
      "metadata": {
        "id": "EZigb_RNJVkW"
      },
      "execution_count": null,
      "outputs": []
    },
    {
      "cell_type": "markdown",
      "source": [
        "If the categorical variables are unordered, you might want to use the seriation package to simultaneously reorder the rows and columns in order to more clearly reveal interesting patterns.\n",
        "For larger plots, you might want to try the heatmaply package, which creates interactive plots.\n",
        "\n",
        "#### Exercises\n",
        "\n",
        "1.  How could you rescale the count dataset above to more clearly show the distribution of cut within color, or color within cut?\n",
        "\n",
        "2.  What different data insights do you get with a segmented bar chart if color is mapped to the `x` aesthetic and `cut` is mapped to the `fill` aesthetic?\n",
        "    Calculate the counts that fall into each of the segments.\n",
        "\n",
        "3.  Use `geom_tile()` together with dplyr to explore how average flight departure delays vary by destination and month of year.\n",
        "    What makes the plot difficult to read?\n",
        "    How could you improve it?\n"
      ],
      "metadata": {
        "id": "fvBMYJwTJV9s"
      }
    },
    {
      "cell_type": "code",
      "source": [],
      "metadata": {
        "id": "-t0KrVFHJYMF"
      },
      "execution_count": null,
      "outputs": []
    },
    {
      "cell_type": "markdown",
      "source": [
        "### Two numerical variables\n",
        "\n",
        "You've already seen one great way to visualize the covariation between two numerical variables: draw a scatterplot with `geom_point()`.\n",
        "You can see covariation as a pattern in the points.\n",
        "For example, you can see a positive relationship between the carat size and price of a diamond: diamonds with more carats have a higher price.\n",
        "The relationship is exponential.\n",
        "\n",
        "```{r}\n",
        "\n",
        "ggplot(smaller, aes(x = carat, y = price)) +\n",
        "  geom_point()\n",
        "```\n"
      ],
      "metadata": {
        "id": "Iv8TccKCJbiT"
      }
    },
    {
      "cell_type": "code",
      "source": [],
      "metadata": {
        "id": "5eXQXtGlJcrL"
      },
      "execution_count": null,
      "outputs": []
    },
    {
      "cell_type": "markdown",
      "source": [
        "(In this section we'll use the `smaller` dataset to stay focused on the bulk of the diamonds that are smaller than 3 carats)\n",
        "\n",
        "Scatterplots become less useful as the size of your dataset grows, because points begin to overplot, and pile up into areas of uniform black, making it hard to judge differences in the density of the data across the 2-dimensional space as well as making it hard to spot the trend.\n",
        "You've already seen one way to fix the problem: using the `alpha` aesthetic to add transparency.\n",
        "\n",
        "```{r}\n",
        "\n",
        "ggplot(smaller, aes(x = carat, y = price)) +\n",
        "  geom_point(alpha = 1 / 100)\n",
        "```\n"
      ],
      "metadata": {
        "id": "pv_mXQ6VJe16"
      }
    },
    {
      "cell_type": "code",
      "source": [],
      "metadata": {
        "id": "5gsWt0i1Jjkh"
      },
      "execution_count": null,
      "outputs": []
    },
    {
      "cell_type": "markdown",
      "source": [
        "But using transparency can be challenging for very large datasets.\n",
        "Another solution is to use bin.\n",
        "Previously you used `geom_histogram()` and `geom_freqpoly()` to bin in one dimension.\n",
        "Now you'll learn how to use `geom_bin2d()` and `geom_hex()` to bin in two dimensions.\n",
        "\n",
        "`geom_bin2d()` and `geom_hex()` divide the coordinate plane into 2d bins and then use a fill color to display how many points fall into each bin.\n",
        "`geom_bin2d()` creates rectangular bins.\n",
        "`geom_hex()` creates hexagonal bins.\n",
        "You will need to install the hexbin package to use `geom_hex()`.\n",
        "\n",
        "```{r}\n",
        "\n",
        "ggplot(smaller, aes(x = carat, y = price)) +\n",
        "  geom_bin2d()\n",
        "\n",
        "# install.packages(\"hexbin\")\n",
        "ggplot(smaller, aes(x = carat, y = price)) +\n",
        "  geom_hex()\n",
        "```\n"
      ],
      "metadata": {
        "id": "ck2anouSJkVA"
      }
    },
    {
      "cell_type": "code",
      "source": [],
      "metadata": {
        "id": "B2b3nrtgJrTv"
      },
      "execution_count": null,
      "outputs": []
    },
    {
      "cell_type": "markdown",
      "source": [
        "Another option is to bin one continuous variable so it acts like a categorical variable.\n",
        "Then you can use one of the techniques for visualizing the combination of a categorical and a continuous variable that you learned about.\n",
        "For example, you could bin `carat` and then for each group, display a boxplot:\n",
        "\n",
        "```{r}\n",
        "\n",
        "ggplot(smaller, aes(x = carat, y = price)) +\n",
        "  geom_boxplot(aes(group = cut_width(carat, 0.1)))\n",
        "```\n"
      ],
      "metadata": {
        "id": "HR2OyhIOJsUF"
      }
    },
    {
      "cell_type": "code",
      "source": [],
      "metadata": {
        "id": "rrcHFhZbJ158"
      },
      "execution_count": null,
      "outputs": []
    },
    {
      "cell_type": "markdown",
      "source": [
        "`cut_width(x, width)`, as used above, divides `x` into bins of width `width`.\n",
        "By default, boxplots look roughly the same (apart from number of outliers) regardless of how many observations there are, so it's difficult to tell that each boxplot summaries a different number of points.\n",
        "One way to show that is to make the width of the boxplot proportional to the number of points with `varwidth = TRUE`.\n",
        "\n",
        "#### Exercises\n",
        "\n",
        "1.  Instead of summarizing the conditional distribution with a boxplot, you could use a frequency polygon.\n",
        "    What do you need to consider when using `cut_width()` vs. `cut_number()`?\n",
        "    How does that impact a visualization of the 2d distribution of `carat` and `price`?\n",
        "\n",
        "2.  Visualize the distribution of `carat`, partitioned by `price`.\n",
        "\n",
        "3.  How does the price distribution of very large diamonds compare to small diamonds?\n",
        "    Is it as you expect, or does it surprise you?\n",
        "\n",
        "4.  Combine two of the techniques you've learned to visualize the combined distribution of cut, carat, and price.\n",
        "\n",
        "5.  Two dimensional plots reveal outliers that are not visible in one dimensional plots.\n",
        "    For example, some points in the following plot have an unusual combination of `x` and `y` values, which makes the points outliers even though their `x` and `y` values appear normal when examined separately.\n",
        "    Why is a scatterplot a better display than a binned plot for this case?\n",
        "\n",
        "    ```{r}\n",
        "    diamonds |>\n",
        "      filter(x >= 4) |>\n",
        "      ggplot(aes(x = x, y = y)) +\n",
        "      geom_point() +\n",
        "      coord_cartesian(xlim = c(4, 11), ylim = c(4, 11))\n",
        "    ```\n",
        "\n",
        "6.  Instead of creating boxes of equal width with `cut_width()`, we could create boxes that contain roughly equal number of points with `cut_number()`.\n",
        "    What are the advantages and disadvantages of this approach?\n",
        "\n",
        "    ```{r}\n",
        "    ggplot(smaller, aes(x = carat, y = price)) +\n",
        "      geom_boxplot(aes(group = cut_number(carat, 20)))\n",
        "    ```\n"
      ],
      "metadata": {
        "id": "JAB55tLWJ8bb"
      }
    },
    {
      "cell_type": "code",
      "source": [],
      "metadata": {
        "id": "tL_wdWa2KAnC"
      },
      "execution_count": null,
      "outputs": []
    },
    {
      "cell_type": "markdown",
      "source": [
        "## Patterns and models\n",
        "\n",
        "If a systematic relationship exists between two variables it will appear as a pattern in the data.\n",
        "If you spot a pattern, ask yourself:\n",
        "\n",
        "-   Could this pattern be due to coincidence (i.e. random chance)?\n",
        "\n",
        "-   How can you describe the relationship implied by the pattern?\n",
        "\n",
        "-   How strong is the relationship implied by the pattern?\n",
        "\n",
        "-   What other variables might affect the relationship?\n",
        "\n",
        "-   Does the relationship change if you look at individual subgroups of the data?\n",
        "\n",
        "Patterns in your data provide clues about relationships, i.e., they reveal covariation.\n",
        "If you think of variation as a phenomenon that creates uncertainty, covariation is a phenomenon that reduces it.\n",
        "If two variables covary, you can use the values of one variable to make better predictions about the values of the second.\n",
        "If the covariation is due to a causal relationship (a special case), then you can use the value of one variable to control the value of the second.\n",
        "\n",
        "Models are a tool for extracting patterns out of data.\n",
        "For example, consider the diamonds data.\n",
        "It's hard to understand the relationship between cut and price, because cut and carat, and carat and price are tightly related.\n",
        "It's possible to use a model to remove the very strong relationship between price and carat so we can explore the subtleties that remain.\n",
        "The following code fits a model that predicts `price` from `carat` and then computes the residuals (the difference between the predicted value and the actual value).\n",
        "The residuals give us a view of the price of the diamond, once the effect of carat has been removed.\n",
        "Note that instead of using the raw values of `price` and `carat`, we log transform them first, and fit a model to the log-transformed values.\n",
        "Then, we exponentiate the residuals to put them back in the scale of raw prices.\n",
        "\n",
        "\n",
        "```{r}\n",
        "#| message: false\n",
        "#| dev: \"png\"\n",
        "#| fig-alt: |\n",
        "#|   A scatterplot of residuals vs. carat of diamonds. The x-axis ranges from 0\n",
        "#|   to 5, the y-axis ranges from 0 to almost 4. Much of the data are clustered\n",
        "#|   around low values of carat and residuals. There is a clear, curved pattern\n",
        "#|   showing decrease in residuals as carat increases.\n",
        "\n",
        "library(tidymodels)\n",
        "\n",
        "diamonds <- diamonds |>\n",
        "  mutate(\n",
        "    log_price = log(price),\n",
        "    log_carat = log(carat)\n",
        "  )\n",
        "\n",
        "diamonds_fit <- linear_reg() |>\n",
        "  fit(log_price ~ log_carat, data = diamonds)\n",
        "\n",
        "diamonds_aug <- augment(diamonds_fit, new_data = diamonds) |>\n",
        "  mutate(.resid = exp(.resid))\n",
        "\n",
        "ggplot(diamonds_aug, aes(x = carat, y = .resid)) +\n",
        "  geom_point()\n",
        "```\n",
        "\n"
      ],
      "metadata": {
        "id": "IeJk8oGzKBhK"
      }
    },
    {
      "cell_type": "code",
      "source": [],
      "metadata": {
        "id": "hKsxeEpEKQuk"
      },
      "execution_count": null,
      "outputs": []
    },
    {
      "cell_type": "markdown",
      "source": [
        "Once you've removed the strong relationship between carat and price, you can see what you expect in the relationship between cut and price: relative to their size, better quality diamonds are more expensive.\n",
        "\n",
        "```{r}\n",
        "\n",
        "ggplot(diamonds_aug, aes(x = cut, y = .resid)) +\n",
        "  geom_boxplot()\n",
        "```\n"
      ],
      "metadata": {
        "id": "6HTKFYdAKPo0"
      }
    },
    {
      "cell_type": "code",
      "source": [],
      "metadata": {
        "id": "p4z13aXCKTbs"
      },
      "execution_count": null,
      "outputs": []
    },
    {
      "cell_type": "markdown",
      "source": [
        "\n",
        "We're not discussing modelling in this book because understanding what models are and how they work is easiest once you have tools of data wrangling and programming in hand.\n",
        "\n",
        "## Summary\n",
        "\n",
        "In this chapter you've learned a variety of tools to help you understand the variation within your data.\n",
        "You've seen techniques that work with a single variable at a time and with a pair of variables.\n",
        "This might seem painfully restrictive if you have tens or hundreds of variables in your data, but they're the foundation upon which all other techniques are built.\n",
        "\n",
        "In the next chapter, we'll focus on the tools we can use to communicate our results."
      ],
      "metadata": {
        "id": "IYaGyzieKUMT"
      }
    },
    {
      "cell_type": "code",
      "source": [],
      "metadata": {
        "id": "gQFyp5kqKWVD"
      },
      "execution_count": null,
      "outputs": []
    }
  ],
  "metadata": {
    "kernelspec": {
      "name": "python3",
      "language": "python",
      "display_name": "Python 3"
    },
    "colab": {
      "provenance": []
    }
  },
  "nbformat": 4,
  "nbformat_minor": 0
}