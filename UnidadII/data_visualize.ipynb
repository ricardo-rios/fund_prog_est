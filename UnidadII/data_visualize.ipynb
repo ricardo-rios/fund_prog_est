{
  "cells": [
    {
      "cell_type": "markdown",
      "metadata": {
        "id": "sRUBGRei1tft"
      },
      "source": [
        "# Data visualization\n",
        "\n",
        "\n",
        "\n"
      ]
    },
    {
      "cell_type": "code",
      "source": [
        "source(\"https://raw.githubusercontent.com/ricardo-rios/fund_prog_est/main/_common.R\")"
      ],
      "metadata": {
        "id": "hX_hdqm_1xGc"
      },
      "execution_count": null,
      "outputs": []
    },
    {
      "cell_type": "markdown",
      "source": [
        "## Introduction\n",
        "\n",
        "> \"The simple graph has brought more information to the data analyst's mind than any other device.\" --- John Tukey\n",
        "\n",
        "R has several systems for making graphs, but ggplot2 is one of the most elegant and most versatile.\n",
        "ggplot2 implements the **grammar of graphics**, a coherent system for describing and building graphs.\n",
        "With ggplot2, you can do more and faster by learning one system and applying it in many places.\n",
        "\n",
        "This chapter will teach you how to visualize your data using **ggplot2**.\n",
        "We will start by creating a simple scatterplot and use that to introduce aesthetic mappings and geometric objects -- the fundamental building blocks of ggplot2.\n",
        "We will then walk you through visualizing distributions of single variables as well as visualizing relationships between two or more variables.\n",
        "We'll finish off with saving your plots and troubleshooting tips.\n",
        "\n",
        "### Prerequisites\n",
        "\n",
        "This chapter focuses on ggplot2, one of the core packages in the tidyverse.\n",
        "To access the datasets, help pages, and functions used in this chapter, load the tidyverse by running:\n",
        "\n"
      ],
      "metadata": {
        "id": "XXvo8F5c1xub"
      }
    },
    {
      "cell_type": "code",
      "source": [
        "library(tidyverse)"
      ],
      "metadata": {
        "id": "p9aBbUla2R_4"
      },
      "execution_count": null,
      "outputs": []
    },
    {
      "cell_type": "markdown",
      "source": [
        "That one line of code loads the core tidyverse; the packages that you will use in almost every data analysis.\n",
        "It also tells you which functions from the tidyverse conflict with functions in base R (or from other packages you might have loaded)[^data-visualize-1].\n",
        "\n",
        "[^data-visualize-1]: You can eliminate that message and force conflict resolution to happen on demand by using the conflicted package, which becomes more important as you load more packages.\n",
        "    You can learn more about conflicted at <https://conflicted.r-lib.org>.\n",
        "\n",
        "If you run this code and get the error message `there is no package called 'tidyverse'`, you'll need to first install it, then run `library()` once again.\n",
        "\n",
        "```{r}\n",
        "install.packages(\"tidyverse\")\n",
        "library(tidyverse)\n",
        "```\n",
        "\n"
      ],
      "metadata": {
        "id": "I0WcsTIb2SSn"
      }
    },
    {
      "cell_type": "code",
      "source": [],
      "metadata": {
        "id": "J1B3t_3o2jzD"
      },
      "execution_count": null,
      "outputs": []
    },
    {
      "cell_type": "markdown",
      "source": [
        "You only need to install a package once, but you need to load it every time you start a new session.\n",
        "\n",
        "In addition to tidyverse, we will also use the **palmerpenguins** package, which includes the `penguins` dataset containing body measurements for penguins on three islands in the Palmer Archipelago, and the ggthemes package, which offers a colorblind safe color palette.\n",
        "\n",
        "\n",
        "```{r}\n",
        "install.packages(\"palmerpenguins\")\n",
        "install.packages(\"ggthemes\")\n",
        "```\n",
        "\n",
        "\n",
        "\n",
        "```{r}\n",
        "library(palmerpenguins)\n",
        "library(ggthemes)\n",
        "```\n",
        "\n"
      ],
      "metadata": {
        "id": "sogJYfMQ2kAR"
      }
    },
    {
      "cell_type": "code",
      "source": [
        "install.packages(\"palmerpenguins\")\n",
        "install.packages(\"ggthemes\")"
      ],
      "metadata": {
        "id": "nUA4-kER2z6u"
      },
      "execution_count": null,
      "outputs": []
    },
    {
      "cell_type": "code",
      "source": [
        "library(palmerpenguins)\n",
        "library(ggthemes)"
      ],
      "metadata": {
        "id": "sHTgaV7i2_cb"
      },
      "execution_count": null,
      "outputs": []
    },
    {
      "cell_type": "markdown",
      "source": [
        "## First steps\n",
        "\n",
        "Do penguins with longer flippers weigh more or less than penguins with shorter flippers?\n",
        "You probably already have an answer, but try to make your answer precise.\n",
        "What does the relationship between flipper length and body mass look like?\n",
        "Is it positive?\n",
        "Negative?\n",
        "Linear?\n",
        "Nonlinear?\n",
        "Does the relationship vary by the species of the penguin?\n",
        "How about by the island where the penguin lives?\n",
        "Let's create visualizations that we can use to answer these questions.\n",
        "\n",
        "### The `penguins` data frame\n",
        "\n",
        "You can test your answers to those questions with the `penguins` **data frame** found in palmerpenguins (a.k.a. `palmerpenguins::penguins`).\n",
        "A data frame is a rectangular collection of variables (in the columns) and observations (in the rows).\n",
        "`penguins` contains `r nrow(penguins)` observations collected and made available by Dr. Kristen Gorman and the Palmer Station, Antarctica LTER[^data-visualize-2].\n",
        "\n",
        "[^data-visualize-2]: Horst AM, Hill AP, Gorman KB (2020).\n",
        "    palmerpenguins: Palmer Archipelago (Antarctica) penguin data.\n",
        "    R package version 0.1.0.\n",
        "    <https://allisonhorst.github.io/palmerpenguins/>.\n",
        "    doi: 10.5281/zenodo.3960218.\n",
        "\n",
        "To make the discussion easier, let's define some terms:\n",
        "\n",
        "-   A **variable** is a quantity, quality, or property that you can measure.\n",
        "\n",
        "-   A **value** is the state of a variable when you measure it.\n",
        "    The value of a variable may change from measurement to measurement.\n",
        "\n",
        "-   An **observation** is a set of measurements made under similar conditions (you usually make all of the measurements in an observation at the same time and on the same object).\n",
        "    An observation will contain several values, each associated with a different variable.\n",
        "    We'll sometimes refer to an observation as a data point.\n",
        "\n",
        "-   **Tabular data** is a set of values, each associated with a variable and an observation.\n",
        "    Tabular data is *tidy* if each value is placed in its own \"cell\", each variable in its own column, and each observation in its own row.\n",
        "\n",
        "In this context, a variable refers to an attribute of all the penguins, and an observation refers to all the attributes of a single penguin.\n",
        "\n",
        "Type the name of the data frame in the console and R will print a preview of its contents.\n",
        "Note that it says `tibble` on top of this preview.\n",
        "In the tidyverse, we use special data frames called **tibbles** that you will learn more about soon.\n",
        "\n",
        "```{r}\n",
        "penguins\n",
        "```\n",
        "\n"
      ],
      "metadata": {
        "id": "sK004Pf020Je"
      }
    },
    {
      "cell_type": "code",
      "source": [],
      "metadata": {
        "id": "dC_LkLN73_mD"
      },
      "execution_count": null,
      "outputs": []
    },
    {
      "cell_type": "markdown",
      "source": [
        "This data frame contains `r ncol(penguins)` columns.\n",
        "For an alternative view, where you can see all variables and the first few observations of each variable, use `glimpse()`.\n",
        "Or, if you're in RStudio, run `View(penguins)` to open an interactive data viewer.\n",
        "\n",
        "```{r}\n",
        "glimpse(penguins)\n",
        "```\n"
      ],
      "metadata": {
        "id": "AkLWvowf3_0C"
      }
    },
    {
      "cell_type": "code",
      "source": [],
      "metadata": {
        "id": "B2QzR6uf2kdp"
      },
      "execution_count": null,
      "outputs": []
    },
    {
      "cell_type": "markdown",
      "source": [
        "Among the variables in `penguins` are:\n",
        "\n",
        "1.  `species`: a penguin's species (Adelie, Chinstrap, or Gentoo).\n",
        "\n",
        "2.  `flipper_length_mm`: length of a penguin's flipper, in millimeters.\n",
        "\n",
        "3.  `body_mass_g`: body mass of a penguin, in grams.\n",
        "\n",
        "To learn more about `penguins`, open its help page by running `?penguins`.\n",
        "\n",
        "### Ultimate goal {#sec-ultimate-goal}\n",
        "\n",
        "Our ultimate goal in this chapter is to recreate the following visualization displaying the relationship between flipper lengths and body masses of these penguins, taking into consideration the species of the penguin.\n",
        "\n",
        "\n",
        "```{r}\n",
        "\n",
        "ggplot(penguins, aes(x = flipper_length_mm, y = body_mass_g)) +\n",
        "  geom_point(aes(color = species, shape = species)) +\n",
        "  geom_smooth(method = \"lm\") +\n",
        "  labs(\n",
        "    title = \"Body mass and flipper length\",\n",
        "    subtitle = \"Dimensions for Adelie, Chinstrap, and Gentoo Penguins\",\n",
        "    x = \"Flipper length (mm)\",\n",
        "    y = \"Body mass (g)\",\n",
        "    color = \"Species\",\n",
        "    shape = \"Species\"\n",
        "  ) +\n",
        "  scale_color_colorblind()\n",
        "```\n"
      ],
      "metadata": {
        "id": "NV6MRZcY4TLV"
      }
    },
    {
      "cell_type": "code",
      "source": [],
      "metadata": {
        "id": "V7oRvXvp4eok"
      },
      "execution_count": null,
      "outputs": []
    },
    {
      "cell_type": "markdown",
      "source": [
        "### Creating a ggplot\n",
        "\n",
        "Let's recreate this plot step-by-step.\n",
        "\n",
        "With ggplot2, you begin a plot with the function `ggplot()`, defining a plot object that you then add **layers** to.\n",
        "The first argument of `ggplot()` is the dataset to use in the graph and so `ggplot(data = penguins)` creates an empty graph that is primed to display the `penguins` data, but since we haven't told it how to visualize it yet, for now it's empty.\n",
        "This is not a very exciting plot, but you can think of it like an empty canvas you'll paint the remaining layers of your plot onto.\n",
        "\n",
        "```{r}\n",
        "ggplot(data = penguins)\n",
        "```\n"
      ],
      "metadata": {
        "id": "Ziak-JOK45sH"
      }
    },
    {
      "cell_type": "code",
      "source": [],
      "metadata": {
        "id": "fDW-IqRY47MS"
      },
      "execution_count": null,
      "outputs": []
    },
    {
      "cell_type": "markdown",
      "source": [
        "Next, we need to tell `ggplot()` how the information from our data will be visually represented.\n",
        "The `mapping` argument of the `ggplot()` function defines how variables in your dataset are mapped to visual properties (**aesthetics**) of your plot.\n",
        "The `mapping` argument is always defined in the `aes()` function, and the `x` and `y` arguments of `aes()` specify which variables to map to the x and y axes.\n",
        "For now, we will only map flipper length to the `x` aesthetic and body mass to the `y` aesthetic.\n",
        "ggplot2 looks for the mapped variables in the `data` argument, in this case, `penguins`.\n",
        "\n",
        "The following plot shows the result of adding these mappings.\n",
        "\n",
        "```{r}\n",
        "\n",
        "ggplot(\n",
        "  data = penguins,\n",
        "  mapping = aes(x = flipper_length_mm, y = body_mass_g)\n",
        ")\n",
        "```\n"
      ],
      "metadata": {
        "id": "jfPFx12m5TjL"
      }
    },
    {
      "cell_type": "code",
      "source": [],
      "metadata": {
        "id": "eh8_XFhG5VD9"
      },
      "execution_count": null,
      "outputs": []
    },
    {
      "cell_type": "markdown",
      "source": [
        "Our empty canvas now has more structure -- it's clear where flipper lengths will be displayed (on the x-axis) and where body masses will be displayed (on the y-axis).\n",
        "But the penguins themselves are not yet on the plot.\n",
        "This is because we have not yet articulated, in our code, how to represent the observations from our data frame on our plot.\n",
        "\n",
        "To do so, we need to define a **geom**: the geometrical object that a plot uses to represent data.\n",
        "These geometric objects are made available in ggplot2 with functions that start with `geom_`.\n",
        "People often describe plots by the type of geom that the plot uses.\n",
        "For example, bar charts use bar geoms (`geom_bar()`), line charts use line geoms (`geom_line()`), boxplots use boxplot geoms (`geom_boxplot()`), scatterplots use point geoms (`geom_point()`), and so on.\n",
        "\n",
        "The function `geom_point()` adds a layer of points to your plot, which creates a scatterplot.\n",
        "ggplot2 comes with many geom functions that each adds a different type of layer to a plot.\n",
        "You'll learn a whole bunch of geoms throughout the book, particularly in @sec-layers.\n",
        "\n",
        "```{r}\n",
        "\n",
        "ggplot(\n",
        "  data = penguins,\n",
        "  mapping = aes(x = flipper_length_mm, y = body_mass_g)\n",
        ") +\n",
        "  geom_point()\n",
        "```\n"
      ],
      "metadata": {
        "id": "Ksg59mKX5cPf"
      }
    },
    {
      "cell_type": "code",
      "source": [],
      "metadata": {
        "id": "YS_deBic5hrl"
      },
      "execution_count": null,
      "outputs": []
    },
    {
      "cell_type": "markdown",
      "source": [
        "Now we have something that looks like what we might think of as a \"scatterplot\".\n",
        "It doesn't yet match our \"ultimate goal\" plot, but using this plot we can start answering the question that motivated our exploration: \"What does the relationship between flipper length and body mass look like?\" The relationship appears to be positive (as flipper length increases, so does body mass), fairly linear (the points are clustered around a line instead of a curve), and moderately strong (there isn't too much scatter around such a line).\n",
        "Penguins with longer flippers are generally larger in terms of their body mass.\n",
        "\n",
        "Before we add more layers to this plot, let's pause for a moment and review the warning message we got:\n",
        "\n",
        "> Removed 2 rows containing missing values (`geom_point()`).\n",
        "\n",
        "We're seeing this message because there are two penguins in our dataset with missing body mass and/or flipper length values and ggplot2 has no way of representing them on the plot without both of these values.\n",
        "Like R, ggplot2 subscribes to the philosophy that missing values should never silently go missing.\n",
        "This type of warning is probably one of the most common types of warnings you will see when working with real data -- missing values are a very common issue and you'll learn more about them throughout the book, particularly in @sec-missing-values.\n",
        "For the remaining plots in this chapter we will suppress this warning so it's not printed alongside every single plot we make.\n"
      ],
      "metadata": {
        "id": "xz6lOhLX6sj1"
      }
    },
    {
      "cell_type": "markdown",
      "source": [
        "### Adding aesthetics and layers\n",
        "\n",
        "Scatterplots are useful for displaying the relationship between two numerical variables, but it's always a good idea to be skeptical of any apparent relationship between two variables and ask if there may be other variables that explain or change the nature of this apparent relationship.\n",
        "For example, does the relationship between flipper length and body mass differ by species?\n",
        "Let's incorporate species into our plot and see if this reveals any additional insights into the apparent relationship between these variables.\n",
        "We will do this by representing species with different colored points.\n",
        "\n",
        "To achieve this, will we need to modify the aesthetic or the geom?\n",
        "If you guessed \"in the aesthetic mapping, inside of `aes()`\", you're already getting the hang of creating data visualizations with ggplot2!\n",
        "And if not, don't worry.\n",
        "Throughout the book you will make many more ggplots and have many more opportunities to check your intuition as you make them.\n",
        "\n",
        "```{r}\n",
        "ggplot(\n",
        "  data = penguins,\n",
        "  mapping = aes(x = flipper_length_mm, y = body_mass_g, color = species)\n",
        ") +\n",
        "  geom_point()\n",
        "```\n"
      ],
      "metadata": {
        "id": "m2LeHPPV6yEj"
      }
    },
    {
      "cell_type": "code",
      "source": [],
      "metadata": {
        "id": "DxVlvT_066HA"
      },
      "execution_count": null,
      "outputs": []
    },
    {
      "cell_type": "markdown",
      "source": [
        "When a categorical variable is mapped to an aesthetic, ggplot2 will automatically assign a unique value of the aesthetic (here a unique color) to each unique level of the variable (each of the three species), a process known as **scaling**.\n",
        "ggplot2 will also add a legend that explains which values correspond to which levels.\n",
        "\n",
        "Now let's add one more layer: a smooth curve displaying the relationship between body mass and flipper length.\n",
        "Before you proceed, refer back to the code above, and think about how we can add this to our existing plot.\n",
        "\n",
        "Since this is a new geometric object representing our data, we will add a new geom as a layer on top of our point geom: `geom_smooth()`.\n",
        "And we will specify that we want to draw the line of best fit based on a `l`inear `m`odel with `method = \"lm\"`.\n",
        "\n",
        "```{r}\n",
        "\n",
        "ggplot(\n",
        "  data = penguins,\n",
        "  mapping = aes(x = flipper_length_mm, y = body_mass_g, color = species)\n",
        ") +\n",
        "  geom_point() +\n",
        "  geom_smooth(method = \"lm\")\n",
        "```\n"
      ],
      "metadata": {
        "id": "zF6tODPw678H"
      }
    },
    {
      "cell_type": "code",
      "source": [
        "ggplot(\n",
        "  data = penguins,\n",
        "  mapping = aes(x = flipper_length_mm, y = body_mass_g, color = species)\n",
        ") +\n",
        "  geom_point() +\n",
        "  geom_smooth(method = \"lm\")"
      ],
      "metadata": {
        "id": "m8VSb_aM7ACv"
      },
      "execution_count": null,
      "outputs": []
    },
    {
      "cell_type": "markdown",
      "source": [
        "We have successfully added lines, but this plot doesn't look like the plot from @sec-ultimate-goal, which only has one line for the entire dataset as opposed to separate lines for each of the penguin species.\n",
        "\n",
        "When aesthetic mappings are defined in `ggplot()`, at the *global* level, they're passed down to each of the subsequent geom layers of the plot.\n",
        "However, each geom function in ggplot2 can also take a `mapping` argument, which allows for aesthetic mappings at the *local* level that are added to those inherited from the global level.\n",
        "Since we want points to be colored based on species but don't want the lines to be separated out for them, we should specify `color = species` for `geom_point()` only.\n",
        "\n",
        "```{r}\n",
        "\n",
        "ggplot(\n",
        "  data = penguins,\n",
        "  mapping = aes(x = flipper_length_mm, y = body_mass_g)\n",
        ") +\n",
        "  geom_point(mapping = aes(color = species)) +\n",
        "  geom_smooth(method = \"lm\")\n",
        "```\n"
      ],
      "metadata": {
        "id": "Ajy5aFNC7CXu"
      }
    },
    {
      "cell_type": "code",
      "source": [],
      "metadata": {
        "id": "QUJC7EJh7WJw"
      },
      "execution_count": null,
      "outputs": []
    },
    {
      "cell_type": "markdown",
      "source": [
        "Voila!\n",
        "We have something that looks very much like our ultimate goal, though it's not yet perfect.\n",
        "We still need to use different shapes for each species of penguins and improve labels.\n",
        "\n",
        "It's generally not a good idea to represent information using only colors on a plot, as people perceive colors differently due to color blindness or other color vision differences.\n",
        "Therefore, in addition to color, we can also map `species` to the `shape` aesthetic.\n",
        "\n",
        "```{r}\n",
        "\n",
        "ggplot(\n",
        "  data = penguins,\n",
        "  mapping = aes(x = flipper_length_mm, y = body_mass_g)\n",
        ") +\n",
        "  geom_point(mapping = aes(color = species, shape = species)) +\n",
        "  geom_smooth(method = \"lm\")\n",
        "```\n"
      ],
      "metadata": {
        "id": "SRbNwvCa7Woe"
      }
    },
    {
      "cell_type": "code",
      "source": [],
      "metadata": {
        "id": "M2sGstEj8NQ2"
      },
      "execution_count": null,
      "outputs": []
    },
    {
      "cell_type": "markdown",
      "source": [
        "\n",
        "\n",
        "\n",
        "Note that the legend is automatically updated to reflect the different shapes of the points as well.\n",
        "\n",
        "And finally, we can improve the labels of our plot using the `labs()` function in a new layer.\n",
        "Some of the arguments to `labs()` might be self explanatory: `title` adds a title and `subtitle` adds a subtitle to the plot.\n",
        "Other arguments match the aesthetic mappings, `x` is the x-axis label, `y` is the y-axis label, and `color` and `shape` define the label for the legend.\n",
        "In addition, we can improve the color palette to be colorblind safe with the `scale_color_colorblind()` function from the ggthemes package.\n",
        "\n",
        "```{r}\n",
        "\n",
        "ggplot(\n",
        "  data = penguins,\n",
        "  mapping = aes(x = flipper_length_mm, y = body_mass_g)\n",
        ") +\n",
        "  geom_point(aes(color = species, shape = species)) +\n",
        "  geom_smooth(method = \"lm\") +\n",
        "  labs(\n",
        "    title = \"Body mass and flipper length\",\n",
        "    subtitle = \"Dimensions for Adelie, Chinstrap, and Gentoo Penguins\",\n",
        "    x = \"Flipper length (mm)\", y = \"Body mass (g)\",\n",
        "    color = \"Species\", shape = \"Species\"\n",
        "  ) +\n",
        "  scale_color_colorblind()\n",
        "```\n"
      ],
      "metadata": {
        "id": "0zcSIhBK8YMq"
      }
    },
    {
      "cell_type": "code",
      "source": [],
      "metadata": {
        "id": "uMsrerQ89huQ"
      },
      "execution_count": null,
      "outputs": []
    },
    {
      "cell_type": "markdown",
      "source": [
        "We finally have a plot that perfectly matches our \"ultimate goal\"!\n",
        "\n",
        "### Exercises\n",
        "\n",
        "1.  How many rows are in `penguins`?\n",
        "    How many columns?\n",
        "\n",
        "2.  What does the `bill_depth_mm` variable in the `penguins` data frame describe?\n",
        "    Read the help for `?penguins` to find out.\n",
        "\n",
        "3.  Make a scatterplot of `bill_depth_mm` vs. `bill_length_mm`.\n",
        "    That is, make a scatterplot with `bill_depth_mm` on the y-axis and `bill_length_mm` on the x-axis.\n",
        "    Describe the relationship between these two variables.\n",
        "\n",
        "4.  What happens if you make a scatterplot of `species` vs. `bill_depth_mm`?\n",
        "    What might be a better choice of geom?\n",
        "\n",
        "5.  Why does the following give an error and how would you fix it?\n",
        "\n",
        "    ```{r}\n",
        "\n",
        "\n",
        "    ggplot(data = penguins) +\n",
        "      geom_point()\n",
        "    ```\n",
        "\n",
        "6.  What does the `na.rm` argument do in `geom_point()`?\n",
        "    What is the default value of the argument?\n",
        "    Create a scatterplot where you successfully use this argument set to `TRUE`.\n",
        "\n",
        "7.  Add the following caption to the plot you made in the previous exercise: \"Data come from the palmerpenguins package.\" Hint: Take a look at the documentation for `labs()`.\n",
        "\n",
        "8.  Recreate the following visualization.\n",
        "    What aesthetic should `bill_depth_mm` be mapped to?\n",
        "    And should it be mapped at the global level or at the geom level?\n",
        "\n",
        "    ```{r}\n",
        "\n",
        "    ggplot(\n",
        "      data = penguins,\n",
        "      mapping = aes(x = flipper_length_mm, y = body_mass_g)\n",
        "    ) +\n",
        "      geom_point(aes(color = bill_depth_mm)) +\n",
        "      geom_smooth()\n",
        "    ```\n",
        "\n",
        "9.  Run this code in your head and predict what the output will look like.\n",
        "    Then, run the code in R and check your predictions.\n",
        "\n",
        "    ```{r}\n",
        "\n",
        "\n",
        "    ggplot(\n",
        "      data = penguins,\n",
        "      mapping = aes(x = flipper_length_mm, y = body_mass_g, color = island)\n",
        "    ) +\n",
        "      geom_point() +\n",
        "      geom_smooth(se = FALSE)\n",
        "    ```\n",
        "\n",
        "10. Will these two graphs look different?\n",
        "    Why/why not?\n",
        "\n",
        "    ```{r}\n",
        "\n",
        "    ggplot(\n",
        "      data = penguins,\n",
        "      mapping = aes(x = flipper_length_mm, y = body_mass_g)\n",
        "    ) +\n",
        "      geom_point() +\n",
        "      geom_smooth()\n",
        "\n",
        "    ggplot() +\n",
        "      geom_point(\n",
        "        data = penguins,\n",
        "        mapping = aes(x = flipper_length_mm, y = body_mass_g)\n",
        "      ) +\n",
        "      geom_smooth(\n",
        "        data = penguins,\n",
        "        mapping = aes(x = flipper_length_mm, y = body_mass_g)\n",
        "      )\n",
        "    ```\n"
      ],
      "metadata": {
        "id": "GKP-ekfY9ijA"
      }
    },
    {
      "cell_type": "code",
      "source": [],
      "metadata": {
        "id": "MSJ6QW989pib"
      },
      "execution_count": null,
      "outputs": []
    },
    {
      "cell_type": "markdown",
      "source": [
        "## ggplot2 calls\n",
        "\n",
        "As we move on from these introductory sections, we'll transition to a more concise expression of ggplot2 code.\n",
        "So far we've been very explicit, which is helpful when you are learning:\n",
        "\n",
        "```{r}\n",
        "\n",
        "\n",
        "ggplot(\n",
        "  data = penguins,\n",
        "  mapping = aes(x = flipper_length_mm, y = body_mass_g)\n",
        ") +\n",
        "  geom_point()\n",
        "```\n",
        "\n",
        "Typically, the first one or two arguments to a function are so important that you should know them by heart.\n",
        "The first two arguments to `ggplot()` are `data` and `mapping`, in the remainder of the book, we won't supply those names.\n",
        "That saves typing, and, by reducing the amount of extra text, makes it easier to see what's different between plots.\n",
        "That's a really important programming concern that we'll come back to in @sec-functions.\n",
        "\n",
        "Rewriting the previous plot more concisely yields:\n",
        "\n",
        "```{r}\n",
        "ggplot(penguins, aes(x = flipper_length_mm, y = body_mass_g)) +\n",
        "  geom_point()\n",
        "```\n",
        "\n"
      ],
      "metadata": {
        "id": "xu1faH9Y9zu5"
      }
    },
    {
      "cell_type": "code",
      "source": [],
      "metadata": {
        "id": "AmA9NmuA92ZJ"
      },
      "execution_count": null,
      "outputs": []
    },
    {
      "cell_type": "markdown",
      "source": [
        "In the future, you'll also learn about the pipe, `|>`, which will allow you to create that plot with:\n",
        "\n",
        "```{r}\n",
        "\n",
        "penguins |>\n",
        "  ggplot(aes(x = flipper_length_mm, y = body_mass_g)) +\n",
        "  geom_point()\n",
        "```\n"
      ],
      "metadata": {
        "id": "oggpb1B499NG"
      }
    },
    {
      "cell_type": "code",
      "source": [],
      "metadata": {
        "id": "qbtmmBNl9-JP"
      },
      "execution_count": null,
      "outputs": []
    },
    {
      "cell_type": "markdown",
      "source": [
        "## Visualizing distributions\n",
        "\n",
        "How you visualize the distribution of a variable depends on the type of variable: categorical or numerical.\n",
        "\n",
        "### A categorical variable\n",
        "\n",
        "A variable is **categorical** if it can only take one of a small set of values.\n",
        "To examine the distribution of a categorical variable, you can use a bar chart.\n",
        "The height of the bars displays how many observations occurred with each `x` value.\n",
        "\n",
        "```{r}\n",
        "ggplot(penguins, aes(x = species)) +\n",
        "  geom_bar()\n",
        "```\n"
      ],
      "metadata": {
        "id": "aJV-w-fV2y6Y"
      }
    },
    {
      "cell_type": "code",
      "source": [],
      "metadata": {
        "id": "HOu5U9ab3ClF"
      },
      "execution_count": null,
      "outputs": []
    },
    {
      "cell_type": "markdown",
      "source": [
        "In bar plots of categorical variables with non-ordered levels, like the penguin `species` above, it's often preferable to reorder the bars based on their frequencies.\n",
        "Doing so requires transforming the variable to a factor (how R handles categorical data) and then reordering the levels of that factor.\n",
        "\n",
        "```{r}\n",
        "ggplot(penguins, aes(x = fct_infreq(species))) +\n",
        "  geom_bar()\n",
        "```\n"
      ],
      "metadata": {
        "id": "VFTiY8W-3D-C"
      }
    },
    {
      "cell_type": "code",
      "source": [],
      "metadata": {
        "id": "EbAHmSUi3JdL"
      },
      "execution_count": null,
      "outputs": []
    },
    {
      "cell_type": "markdown",
      "source": [
        "You will learn more about factors and functions for dealing with factors (like `fct_infreq()` shown above) in @sec-factors.\n",
        "\n",
        "### A numerical variable\n",
        "\n",
        "A variable is **numerical** (or quantitative) if it can take on a wide range of numerical values, and it is sensible to add, subtract, or take averages with those values.\n",
        "Numerical variables can be continuous or discrete.\n",
        "\n",
        "One commonly used visualization for distributions of continuous variables is a histogram.\n",
        "\n",
        "```{r}\n",
        "ggplot(penguins, aes(x = body_mass_g)) +\n",
        "  geom_histogram(binwidth = 200)\n",
        "```\n"
      ],
      "metadata": {
        "id": "M0NtIu_L3K6I"
      }
    },
    {
      "cell_type": "code",
      "source": [],
      "metadata": {
        "id": "OrpzO_Tx3Tzt"
      },
      "execution_count": null,
      "outputs": []
    },
    {
      "cell_type": "markdown",
      "source": [
        "A histogram divides the x-axis into equally spaced bins and then uses the height of a bar to display the number of observations that fall in each bin.\n",
        "In the graph above, the tallest bar shows that 39 observations have a `body_mass_g` value between 3,500 and 3,700 grams, which are the left and right edges of the bar.\n",
        "\n",
        "You can set the width of the intervals in a histogram with the binwidth argument, which is measured in the units of the `x` variable.\n",
        "You should always explore a variety of binwidths when working with histograms, as different binwidths can reveal different patterns.\n",
        "In the plots below a binwidth of 20 is too narrow, resulting in too many bars, making it difficult to determine the shape of the distribution.\n",
        "Similarly, a binwidth of 2,000 is too high, resulting in all data being binned into only three bars, and also making it difficult to determine the shape of the distribution.\n",
        "A binwidth of 200 provides a sensible balance.\n",
        "\n",
        "```{r}\n",
        "ggplot(penguins, aes(x = body_mass_g)) +\n",
        "  geom_histogram(binwidth = 20)\n",
        "ggplot(penguins, aes(x = body_mass_g)) +\n",
        "  geom_histogram(binwidth = 2000)\n",
        "```\n"
      ],
      "metadata": {
        "id": "R4XhS4bE3U2s"
      }
    },
    {
      "cell_type": "code",
      "source": [],
      "metadata": {
        "id": "PiH-15IG3c9D"
      },
      "execution_count": null,
      "outputs": []
    },
    {
      "cell_type": "markdown",
      "source": [
        "An alternative visualization for distributions of numerical variables is a density plot.\n",
        "A density plot is a smoothed-out version of a histogram and a practical alternative, particularly for continuous data that comes from an underlying smooth distribution.\n",
        "We won't go into how `geom_density()` estimates the density (you can read more about that in the function documentation), but let's explain how the density curve is drawn with an analogy.\n",
        "Imagine a histogram made out of wooden blocks.\n",
        "Then, imagine that you drop a cooked spaghetti string over it.\n",
        "The shape the spaghetti will take draped over blocks can be thought of as the shape of the density curve.\n",
        "It shows fewer details than a histogram but can make it easier to quickly glean the shape of the distribution, particularly with respect to modes and skewness.\n",
        "\n",
        "```{r}\n",
        "ggplot(penguins, aes(x = body_mass_g)) +\n",
        "  geom_density()\n",
        "```\n"
      ],
      "metadata": {
        "id": "tDaBa0L23d7k"
      }
    },
    {
      "cell_type": "code",
      "source": [],
      "metadata": {
        "id": "20nYQH-A339n"
      },
      "execution_count": null,
      "outputs": []
    },
    {
      "cell_type": "markdown",
      "source": [
        "### Exercises\n",
        "\n",
        "1.  Make a bar plot of `species` of `penguins`, where you assign `species` to the `y` aesthetic.\n",
        "    How is this plot different?\n",
        "\n",
        "2.  How are the following two plots different?\n",
        "    Which aesthetic, `color` or `fill`, is more useful for changing the color of bars?\n",
        "\n",
        "    ```{r}\n",
        "    ggplot(penguins, aes(x = species)) +\n",
        "      geom_bar(color = \"red\")\n",
        "\n",
        "    ggplot(penguins, aes(x = species)) +\n",
        "      geom_bar(fill = \"red\")\n",
        "    ```\n",
        "\n",
        "3.  What does the `bins` argument in `geom_histogram()` do?\n",
        "\n",
        "4.  Make a histogram of the `carat` variable in the `diamonds` dataset that is available when you load the tidyverse package.\n",
        "    Experiment with different binwidths.\n",
        "    What binwidth reveals the most interesting patterns?\n"
      ],
      "metadata": {
        "id": "2T76yOhO34gO"
      }
    },
    {
      "cell_type": "markdown",
      "source": [
        "## Visualizing relationships\n",
        "\n",
        "To visualize a relationship we need to have at least two variables mapped to aesthetics of a plot.\n",
        "In the following sections you will learn about commonly used plots for visualizing relationships between two or more variables and the geoms used for creating them.\n",
        "\n",
        "### A numerical and a categorical variable\n",
        "\n",
        "To visualize the relationship between a numerical and a categorical variable we can use side-by-side box plots.\n",
        "A **boxplot** is a type of visual shorthand for measures of position (percentiles) that describe a distribution.\n",
        "It is also useful for identifying potential outliers.\n",
        "As shown in @fig-eda-boxplot, each boxplot consists of:\n",
        "\n",
        "-   A box that indicates the range of the middle half of the data, a distance known as the interquartile range (IQR), stretching from the 25th percentile of the distribution to the 75th percentile.\n",
        "    In the middle of the box is a line that displays the median, i.e. 50th percentile, of the distribution.\n",
        "    These three lines give you a sense of the spread of the distribution and whether or not the distribution is symmetric about the median or skewed to one side.\n",
        "\n",
        "-   Visual points that display observations that fall more than 1.5 times the IQR from either edge of the box.\n",
        "    These outlying points are unusual so are plotted individually.\n",
        "\n",
        "-   A line (or whisker) that extends from each end of the box and goes to the farthest non-outlier point in the distribution.\n",
        "\n",
        "![Box Plot](https://raw.githubusercontent.com/ricardo-rios/fund_prog_est/main/images/EDA-boxplot.png)"
      ],
      "metadata": {
        "id": "uWHZKxqj4A9z"
      }
    },
    {
      "cell_type": "markdown",
      "source": [
        "Let's take a look at the distribution of body mass by species using `geom_boxplot()`:\n",
        "\n",
        "```{r}\n",
        "ggplot(penguins, aes(x = species, y = body_mass_g)) +\n",
        "  geom_boxplot()\n",
        "```\n"
      ],
      "metadata": {
        "id": "-ExMX0dX4mad"
      }
    },
    {
      "cell_type": "code",
      "source": [],
      "metadata": {
        "id": "Sd2A-z_O4L8o"
      },
      "execution_count": null,
      "outputs": []
    },
    {
      "cell_type": "markdown",
      "source": [
        "Alternatively, we can make density plots with `geom_density()`.\n",
        "\n",
        "```{r}\n",
        "ggplot(penguins, aes(x = body_mass_g, color = species)) +\n",
        "  geom_density(linewidth = 0.75)\n",
        "```\n"
      ],
      "metadata": {
        "id": "E8OyRppq4sUT"
      }
    },
    {
      "cell_type": "code",
      "source": [],
      "metadata": {
        "id": "-SS0wifs4v7S"
      },
      "execution_count": null,
      "outputs": []
    },
    {
      "cell_type": "markdown",
      "source": [
        "We've also customized the thickness of the lines using the `linewidth` argument in order to make them stand out a bit more against the background.\n",
        "\n",
        "Additionally, we can map `species` to both `color` and `fill` aesthetics and use the `alpha` aesthetic to add transparency to the filled density curves.\n",
        "This aesthetic takes values between 0 (completely transparent) and 1 (completely opaque).\n",
        "In the following plot it's *set* to 0.5.\n",
        "\n",
        "```{r}\n",
        "ggplot(penguins, aes(x = body_mass_g, color = species, fill = species)) +\n",
        "  geom_density(alpha = 0.5)\n",
        "```\n"
      ],
      "metadata": {
        "id": "zWnkdAB24xVi"
      }
    },
    {
      "cell_type": "code",
      "source": [],
      "metadata": {
        "id": "2ISiPRBI40sa"
      },
      "execution_count": null,
      "outputs": []
    },
    {
      "cell_type": "markdown",
      "source": [
        "Note the terminology we have used here:\n",
        "\n",
        "-   We *map* variables to aesthetics if we want the visual attribute represented by that aesthetic to vary based on the values of that variable.\n",
        "-   Otherwise, we *set* the value of an aesthetic.\n"
      ],
      "metadata": {
        "id": "qJ21RgzT4215"
      }
    },
    {
      "cell_type": "markdown",
      "source": [
        "### Two categorical variables\n",
        "\n",
        "We can use stacked bar plots to visualize the relationship between two categorical variables.\n",
        "For example, the following two stacked bar plots both display the relationship between `island` and `species`, or specifically, visualizing the distribution of `species` within each island.\n",
        "\n",
        "The first plot shows the frequencies of each species of penguins on each island.\n",
        "The plot of frequencies shows that there are equal numbers of Adelies on each island.\n",
        "But we don't have a good sense of the percentage balance within each island.\n",
        "\n",
        "```{r}\n",
        "ggplot(penguins, aes(x = island, fill = species)) +\n",
        "  geom_bar()\n",
        "```\n"
      ],
      "metadata": {
        "id": "uK69-lHY46c9"
      }
    },
    {
      "cell_type": "code",
      "source": [],
      "metadata": {
        "id": "g4SMZd5W43Pg"
      },
      "execution_count": null,
      "outputs": []
    },
    {
      "cell_type": "markdown",
      "source": [
        "The second plot, a relative frequency plot created by setting `position = \"fill\"` in the geom, is more useful for comparing species distributions across islands since it's not affected by the unequal numbers of penguins across the islands.\n",
        "Using this plot we can see that Gentoo penguins all live on Biscoe island and make up roughly 75% of the penguins on that island, Chinstrap all live on Dream island and make up roughly 50% of the penguins on that island, and Adelie live on all three islands and make up all of the penguins on Torgersen.\n",
        "\n",
        "```{r}\n",
        "ggplot(penguins, aes(x = island, fill = species)) +\n",
        "  geom_bar(position = \"fill\")\n",
        "```\n"
      ],
      "metadata": {
        "id": "zxENkEAN48Ue"
      }
    },
    {
      "cell_type": "code",
      "source": [],
      "metadata": {
        "id": "6Zj1CjOJ4_OV"
      },
      "execution_count": null,
      "outputs": []
    },
    {
      "cell_type": "markdown",
      "source": [
        "In creating these bar charts, we map the variable that will be separated into bars to the `x` aesthetic, and the variable that will change the colors inside the bars to the `fill` aesthetic.\n"
      ],
      "metadata": {
        "id": "qjqAd9Vc5AK7"
      }
    },
    {
      "cell_type": "markdown",
      "source": [
        "### Two numerical variables\n",
        "\n",
        "So far you've learned about scatterplots (created with `geom_point()`) and smooth curves (created with `geom_smooth()`) for visualizing the relationship between two numerical variables.\n",
        "A scatterplot is probably the most commonly used plot for visualizing the relationship between two numerical variables.\n",
        "\n",
        "```{r}\n",
        "ggplot(penguins, aes(x = flipper_length_mm, y = body_mass_g)) +\n",
        "  geom_point()\n",
        "```\n"
      ],
      "metadata": {
        "id": "Bkor9MHl5Cvc"
      }
    },
    {
      "cell_type": "code",
      "source": [],
      "metadata": {
        "id": "fKPrcYKI5Bg0"
      },
      "execution_count": null,
      "outputs": []
    },
    {
      "cell_type": "markdown",
      "source": [
        "### Three or more variables\n",
        "\n",
        "As we saw in @sec-adding-aesthetics-layers, we can incorporate more variables into a plot by mapping them to additional aesthetics.\n",
        "For example, in the following scatterplot the colors of points represent species and the shapes of points represent islands.\n",
        "\n",
        "```{r}\n",
        "ggplot(penguins, aes(x = flipper_length_mm, y = body_mass_g)) +\n",
        "  geom_point(aes(color = species, shape = island))\n",
        "```\n"
      ],
      "metadata": {
        "id": "aDZT7GN25H47"
      }
    },
    {
      "cell_type": "code",
      "source": [],
      "metadata": {
        "id": "EfuI6B2l5JfA"
      },
      "execution_count": null,
      "outputs": []
    },
    {
      "cell_type": "markdown",
      "source": [
        "However adding too many aesthetic mappings to a plot makes it cluttered and difficult to make sense of.\n",
        "Another way, which is particularly useful for categorical variables, is to split your plot into **facets**, subplots that each display one subset of the data.\n",
        "\n",
        "To facet your plot by a single variable, use `facet_wrap()`.\n",
        "The first argument of `facet_wrap()` is a formula[^data-visualize-3], which you create with `~` followed by a variable name.\n",
        "The variable that you pass to `facet_wrap()` should be categorical.\n",
        "\n",
        "[^data-visualize-3]: Here \"formula\" is the name of the thing created by `~`, not a synonym for \"equation\".\n",
        "\n",
        "```{r}\n",
        "ggplot(penguins, aes(x = flipper_length_mm, y = body_mass_g)) +\n",
        "  geom_point(aes(color = species, shape = species)) +\n",
        "  facet_wrap(~island)\n",
        "```\n"
      ],
      "metadata": {
        "id": "VERS_AKC5KU_"
      }
    },
    {
      "cell_type": "code",
      "source": [],
      "metadata": {
        "id": "nU4Da45M5SSW"
      },
      "execution_count": null,
      "outputs": []
    },
    {
      "cell_type": "markdown",
      "source": [
        "You will learn about many other geoms for visualizing distributions of variables and relationships between them in @sec-layers.\n",
        "\n",
        "### Exercises\n",
        "\n",
        "1.  The `mpg` data frame that is bundled with the ggplot2 package contains `r nrow(mpg)` observations collected by the US Environmental Protection Agency on `r mpg |> distinct(model) |> nrow()` car models.\n",
        "    Which variables in `mpg` are categorical?\n",
        "    Which variables are numerical?\n",
        "    (Hint: Type `?mpg` to read the documentation for the dataset.) How can you see this information when you run `mpg`?\n",
        "\n",
        "2.  Make a scatterplot of `hwy` vs. `displ` using the `mpg` data frame.\n",
        "    Next, map a third, numerical variable to `color`, then `size`, then both `color` and `size`, then `shape`.\n",
        "    How do these aesthetics behave differently for categorical vs. numerical variables?\n",
        "\n",
        "3.  In the scatterplot of `hwy` vs. `displ`, what happens if you map a third variable to `linewidth`?\n",
        "\n",
        "4.  What happens if you map the same variable to multiple aesthetics?\n",
        "\n",
        "5.  Make a scatterplot of `bill_depth_mm` vs. `bill_length_mm` and color the points by `species`.\n",
        "    What does adding coloring by species reveal about the relationship between these two variables?\n",
        "    What about faceting by `species`?\n",
        "\n",
        "6.  Why does the following yield two separate legends?\n",
        "    How would you fix it to combine the two legends?\n",
        "\n",
        "    ```{r}\n",
        "    ggplot(\n",
        "      data = penguins,\n",
        "      mapping = aes(\n",
        "        x = bill_length_mm, y = bill_depth_mm,\n",
        "        color = species, shape = species\n",
        "      )\n",
        "    ) +\n",
        "      geom_point() +\n",
        "      labs(color = \"Species\")\n",
        "    ```\n"
      ],
      "metadata": {
        "id": "832YJqqY5TCM"
      }
    },
    {
      "cell_type": "code",
      "source": [],
      "metadata": {
        "id": "ifvkXMoK5aLS"
      },
      "execution_count": null,
      "outputs": []
    },
    {
      "cell_type": "markdown",
      "source": [
        "7.  Create the two following stacked bar plots.\n",
        "    Which question can you answer with the first one?\n",
        "    Which question can you answer with the second one?\n",
        "\n",
        "    ```{r}\n",
        "    ggplot(penguins, aes(x = island, fill = species)) +\n",
        "      geom_bar(position = \"fill\")\n",
        "    ggplot(penguins, aes(x = species, fill = island)) +\n",
        "      geom_bar(position = \"fill\")\n",
        "    ```\n"
      ],
      "metadata": {
        "id": "7tZCEKAp5n1x"
      }
    },
    {
      "cell_type": "code",
      "source": [],
      "metadata": {
        "id": "ZsU-UOVc5oYU"
      },
      "execution_count": null,
      "outputs": []
    },
    {
      "cell_type": "markdown",
      "source": [
        "## Saving your plots\n",
        "\n",
        "Once you've made a plot, you might want to get it out of R by saving it as an image that you can use elsewhere.\n",
        "That's the job of `ggsave()`, which will save the plot most recently created to disk:\n",
        "\n",
        "```{r}\n",
        "ggplot(penguins, aes(x = flipper_length_mm, y = body_mass_g)) +\n",
        "  geom_point()\n",
        "ggsave(filename = \"penguin-plot.png\")\n",
        "```\n"
      ],
      "metadata": {
        "id": "6AWYJi66505G"
      }
    },
    {
      "cell_type": "code",
      "source": [],
      "metadata": {
        "id": "n1iJVRB-54lG"
      },
      "execution_count": null,
      "outputs": []
    },
    {
      "cell_type": "markdown",
      "source": [
        "```{r}\n",
        "file.remove(\"penguin-plot.png\")\n",
        "```\n"
      ],
      "metadata": {
        "id": "HaoTBx8V55G9"
      }
    },
    {
      "cell_type": "code",
      "source": [],
      "metadata": {
        "id": "Egj5jDTt57Md"
      },
      "execution_count": null,
      "outputs": []
    },
    {
      "cell_type": "markdown",
      "source": [
        "This will save your plot to your working directory, a concept you'll learn more about in @sec-workflow-scripts-projects.\n",
        "\n",
        "If you don't specify the `width` and `height` they will be taken from the dimensions of the current plotting device.\n",
        "For reproducible code, you'll want to specify them.\n",
        "You can learn more about `ggsave()` in the documentation.\n",
        "\n",
        "Generally, however, we recommend that you assemble your final reports using Quarto, a reproducible authoring system that allows you to interleave your code and your prose and automatically include your plots in your write-ups.\n",
        "You will learn more about Quarto in @sec-quarto.\n"
      ],
      "metadata": {
        "id": "Pb_eG5K857wn"
      }
    },
    {
      "cell_type": "markdown",
      "source": [
        "### Exercises\n",
        "\n",
        "1.  Run the following lines of code.\n",
        "    Which of the two plots is saved as `mpg-plot.png`?\n",
        "    Why?\n",
        "\n",
        "    ```{r}\n",
        "    ggplot(mpg, aes(x = class)) +\n",
        "      geom_bar()\n",
        "    ggplot(mpg, aes(x = cty, y = hwy)) +\n",
        "      geom_point()\n",
        "    ggsave(\"mpg-plot.png\")\n",
        "    ```\n",
        "\n",
        "2.  What do you need to change in the code above to save the plot as a PDF instead of a PNG?\n",
        "    How could you find out what types of image files would work in `ggsave()`?\n",
        "\n"
      ],
      "metadata": {
        "id": "lLsz6Byu6EvY"
      }
    },
    {
      "cell_type": "code",
      "source": [],
      "metadata": {
        "id": "D3QRM02R5-JU"
      },
      "execution_count": null,
      "outputs": []
    },
    {
      "cell_type": "markdown",
      "source": [
        "## Common problems\n",
        "\n",
        "As you start to run R code, you're likely to run into problems.\n",
        "Don't worry --- it happens to everyone.\n",
        "We have all been writing R code for years, but every day we still write code that doesn't work on the first try!\n",
        "\n",
        "Start by carefully comparing the code that you're running to the code in the book.\n",
        "R is extremely picky, and a misplaced character can make all the difference.\n",
        "Make sure that every `(` is matched with a `)` and every `\"` is paired with another `\"`.\n",
        "Sometimes you'll run the code and nothing happens.\n",
        "Check the left-hand of your console: if it's a `+`, it means that R doesn't think you've typed a complete expression and it's waiting for you to finish it.\n",
        "In this case, it's usually easy to start from scratch again by pressing ESCAPE to abort processing the current command.\n",
        "\n",
        "One common problem when creating ggplot2 graphics is to put the `+` in the wrong place: it has to come at the end of the line, not the start.\n",
        "In other words, make sure you haven't accidentally written code like this:\n",
        "\n",
        "```{r}\n",
        "ggplot(data = mpg)\n",
        "+ geom_point(mapping = aes(x = displ, y = hwy))\n",
        "```\n"
      ],
      "metadata": {
        "id": "j0yGMGV46QGv"
      }
    },
    {
      "cell_type": "code",
      "source": [],
      "metadata": {
        "id": "4OzUX17g6RMk"
      },
      "execution_count": null,
      "outputs": []
    },
    {
      "cell_type": "markdown",
      "source": [
        "If you're still stuck, try the help.\n",
        "You can get help about any R function by running `?function_name` in the console, or highlighting the function name and pressing F1 in RStudio.\n",
        "Don't worry if the help doesn't seem that helpful - instead skip down to the examples and look for code that matches what you're trying to do.\n",
        "\n",
        "If that doesn't help, carefully read the error message.\n",
        "Sometimes the answer will be buried there!\n",
        "But when you're new to R, even if the answer is in the error message, you might not yet know how to understand it.\n",
        "Another great tool is Google: try googling the error message, as it's likely someone else has had the same problem, and has gotten help online.\n",
        "\n",
        "## Summary\n",
        "\n",
        "In this chapter, you've learned the basics of data visualization with ggplot2.\n",
        "We started with the basic idea that underpins ggplot2: a visualization is a mapping from variables in your data to aesthetic properties like position, color, size and shape.\n",
        "You then learned about increasing the complexity and improving the presentation of your plots layer-by-layer.\n",
        "You also learned about commonly used plots for visualizing the distribution of a single variable as well as for visualizing relationships between two or more variables, by leveraging additional aesthetic mappings and/or splitting your plot into small multiples using faceting.\n",
        "\n",
        "We'll use visualizations again and again throughout this book, introducing new techniques as we need them as well as do a deeper dive into creating visualizations with ggplot2 in @sec-layers through @sec-communication.\n",
        "\n",
        "With the basics of visualization under your belt, in the next chapter we're going to switch gears a little and give you some practical workflow advice.\n",
        "We intersperse workflow advice with data science tools throughout this part of the book because it'll help you stay organized as you write increasing amounts of R code.\n",
        "\n",
        "\n"
      ],
      "metadata": {
        "id": "jOm8jIgc6VfS"
      }
    },
    {
      "cell_type": "code",
      "source": [],
      "metadata": {
        "id": "FB20dB-S6WD8"
      },
      "execution_count": null,
      "outputs": []
    }
  ],
  "metadata": {
    "kernelspec": {
      "name": "ir",
      "display_name": "R"
    },
    "colab": {
      "provenance": []
    },
    "language_info": {
      "name": "R"
    }
  },
  "nbformat": 4,
  "nbformat_minor": 0
}