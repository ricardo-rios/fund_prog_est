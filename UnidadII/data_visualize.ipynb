{
  "cells": [
    {
      "cell_type": "markdown",
      "metadata": {
        "id": "sRUBGRei1tft"
      },
      "source": [
        "# Data visualization {#sec-data-visualization}\n",
        "\n",
        "\n",
        "\n"
      ]
    },
    {
      "cell_type": "code",
      "source": [
        "source(\"https://raw.githubusercontent.com/ricardo-rios/fund_prog_est/main/_common.R\")"
      ],
      "metadata": {
        "id": "hX_hdqm_1xGc"
      },
      "execution_count": 1,
      "outputs": []
    },
    {
      "cell_type": "markdown",
      "source": [
        "## Introduction\n",
        "\n",
        "> \"The simple graph has brought more information to the data analyst's mind than any other device.\" --- John Tukey\n",
        "\n",
        "R has several systems for making graphs, but ggplot2 is one of the most elegant and most versatile.\n",
        "ggplot2 implements the **grammar of graphics**, a coherent system for describing and building graphs.\n",
        "With ggplot2, you can do more and faster by learning one system and applying it in many places.\n",
        "\n",
        "This chapter will teach you how to visualize your data using **ggplot2**.\n",
        "We will start by creating a simple scatterplot and use that to introduce aesthetic mappings and geometric objects -- the fundamental building blocks of ggplot2.\n",
        "We will then walk you through visualizing distributions of single variables as well as visualizing relationships between two or more variables.\n",
        "We'll finish off with saving your plots and troubleshooting tips.\n",
        "\n",
        "### Prerequisites\n",
        "\n",
        "This chapter focuses on ggplot2, one of the core packages in the tidyverse.\n",
        "To access the datasets, help pages, and functions used in this chapter, load the tidyverse by running:\n",
        "\n"
      ],
      "metadata": {
        "id": "XXvo8F5c1xub"
      }
    },
    {
      "cell_type": "code",
      "source": [
        "library(tidyverse)"
      ],
      "metadata": {
        "colab": {
          "base_uri": "https://localhost:8080/"
        },
        "id": "p9aBbUla2R_4",
        "outputId": "406c43d0-2757-4bda-ed91-53af14ad3d7c"
      },
      "execution_count": 2,
      "outputs": [
        {
          "output_type": "stream",
          "name": "stderr",
          "text": [
            "── Attaching core tidyverse packages ───────────────────── tidyverse 2.0.0 ──\n",
            "✔ dplyr     1.1.4     ✔ readr     2.1.5\n",
            "✔ forcats   1.0.0     ✔ stringr   1.5.1\n",
            "✔ ggplot2   3.4.4     ✔ tibble    3.2.1\n",
            "✔ lubridate 1.9.3     ✔ tidyr     1.3.1\n",
            "✔ purrr     1.0.2     \n",
            "── Conflicts ─────────────────────────────────────── tidyverse_conflicts() ──\n",
            "✖ purrr::%||%()   masks base::%||%()\n",
            "✖ dplyr::filter() masks stats::filter()\n",
            "✖ dplyr::lag()    masks stats::lag()\n",
            "ℹ Use the conflicted package (<http://conflicted.r-lib.org/>) to force all conflicts to become errors\n"
          ]
        }
      ]
    },
    {
      "cell_type": "markdown",
      "source": [
        "That one line of code loads the core tidyverse; the packages that you will use in almost every data analysis.\n",
        "It also tells you which functions from the tidyverse conflict with functions in base R (or from other packages you might have loaded)[^data-visualize-1].\n",
        "\n",
        "[^data-visualize-1]: You can eliminate that message and force conflict resolution to happen on demand by using the conflicted package, which becomes more important as you load more packages.\n",
        "    You can learn more about conflicted at <https://conflicted.r-lib.org>.\n",
        "\n",
        "If you run this code and get the error message `there is no package called 'tidyverse'`, you'll need to first install it, then run `library()` once again.\n",
        "\n",
        "```{r}\n",
        "install.packages(\"tidyverse\")\n",
        "library(tidyverse)\n",
        "```\n",
        "\n"
      ],
      "metadata": {
        "id": "I0WcsTIb2SSn"
      }
    },
    {
      "cell_type": "code",
      "source": [],
      "metadata": {
        "id": "J1B3t_3o2jzD"
      },
      "execution_count": null,
      "outputs": []
    },
    {
      "cell_type": "markdown",
      "source": [
        "You only need to install a package once, but you need to load it every time you start a new session.\n",
        "\n",
        "In addition to tidyverse, we will also use the **palmerpenguins** package, which includes the `penguins` dataset containing body measurements for penguins on three islands in the Palmer Archipelago, and the ggthemes package, which offers a colorblind safe color palette.\n",
        "\n",
        "\n",
        "```{r}\n",
        "install.packages(\"palmerpenguins\")\n",
        "install.packages(\"ggthemes\")\n",
        "```\n",
        "\n",
        "\n",
        "\n",
        "```{r}\n",
        "library(palmerpenguins)\n",
        "library(ggthemes)\n",
        "```\n",
        "\n"
      ],
      "metadata": {
        "id": "sogJYfMQ2kAR"
      }
    },
    {
      "cell_type": "code",
      "source": [
        "install.packages(\"palmerpenguins\")\n",
        "install.packages(\"ggthemes\")"
      ],
      "metadata": {
        "colab": {
          "base_uri": "https://localhost:8080/"
        },
        "id": "nUA4-kER2z6u",
        "outputId": "598551a0-7345-4c55-d53d-29a146a32dc9"
      },
      "execution_count": 5,
      "outputs": [
        {
          "output_type": "stream",
          "name": "stderr",
          "text": [
            "Installing package into ‘/usr/local/lib/R/site-library’\n",
            "(as ‘lib’ is unspecified)\n",
            "\n",
            "Installing package into ‘/usr/local/lib/R/site-library’\n",
            "(as ‘lib’ is unspecified)\n",
            "\n"
          ]
        }
      ]
    },
    {
      "cell_type": "code",
      "source": [
        "library(palmerpenguins)\n",
        "library(ggthemes)"
      ],
      "metadata": {
        "id": "sHTgaV7i2_cb"
      },
      "execution_count": 6,
      "outputs": []
    },
    {
      "cell_type": "markdown",
      "source": [
        "## First steps\n",
        "\n",
        "Do penguins with longer flippers weigh more or less than penguins with shorter flippers?\n",
        "You probably already have an answer, but try to make your answer precise.\n",
        "What does the relationship between flipper length and body mass look like?\n",
        "Is it positive?\n",
        "Negative?\n",
        "Linear?\n",
        "Nonlinear?\n",
        "Does the relationship vary by the species of the penguin?\n",
        "How about by the island where the penguin lives?\n",
        "Let's create visualizations that we can use to answer these questions.\n",
        "\n",
        "### The `penguins` data frame\n",
        "\n",
        "You can test your answers to those questions with the `penguins` **data frame** found in palmerpenguins (a.k.a. `palmerpenguins::penguins`).\n",
        "A data frame is a rectangular collection of variables (in the columns) and observations (in the rows).\n",
        "`penguins` contains `r nrow(penguins)` observations collected and made available by Dr. Kristen Gorman and the Palmer Station, Antarctica LTER[^data-visualize-2].\n",
        "\n",
        "[^data-visualize-2]: Horst AM, Hill AP, Gorman KB (2020).\n",
        "    palmerpenguins: Palmer Archipelago (Antarctica) penguin data.\n",
        "    R package version 0.1.0.\n",
        "    <https://allisonhorst.github.io/palmerpenguins/>.\n",
        "    doi: 10.5281/zenodo.3960218.\n",
        "\n",
        "To make the discussion easier, let's define some terms:\n",
        "\n",
        "-   A **variable** is a quantity, quality, or property that you can measure.\n",
        "\n",
        "-   A **value** is the state of a variable when you measure it.\n",
        "    The value of a variable may change from measurement to measurement.\n",
        "\n",
        "-   An **observation** is a set of measurements made under similar conditions (you usually make all of the measurements in an observation at the same time and on the same object).\n",
        "    An observation will contain several values, each associated with a different variable.\n",
        "    We'll sometimes refer to an observation as a data point.\n",
        "\n",
        "-   **Tabular data** is a set of values, each associated with a variable and an observation.\n",
        "    Tabular data is *tidy* if each value is placed in its own \"cell\", each variable in its own column, and each observation in its own row.\n",
        "\n",
        "In this context, a variable refers to an attribute of all the penguins, and an observation refers to all the attributes of a single penguin.\n",
        "\n",
        "Type the name of the data frame in the console and R will print a preview of its contents.\n",
        "Note that it says `tibble` on top of this preview.\n",
        "In the tidyverse, we use special data frames called **tibbles** that you will learn more about soon.\n",
        "\n",
        "```{r}\n",
        "penguins\n",
        "```\n",
        "\n"
      ],
      "metadata": {
        "id": "sK004Pf020Je"
      }
    },
    {
      "cell_type": "code",
      "source": [],
      "metadata": {
        "id": "dC_LkLN73_mD"
      },
      "execution_count": 11,
      "outputs": []
    },
    {
      "cell_type": "markdown",
      "source": [
        "This data frame contains `r ncol(penguins)` columns.\n",
        "For an alternative view, where you can see all variables and the first few observations of each variable, use `glimpse()`.\n",
        "Or, if you're in RStudio, run `View(penguins)` to open an interactive data viewer.\n",
        "\n",
        "```{r}\n",
        "glimpse(penguins)\n",
        "```\n"
      ],
      "metadata": {
        "id": "AkLWvowf3_0C"
      }
    },
    {
      "cell_type": "code",
      "source": [],
      "metadata": {
        "id": "B2QzR6uf2kdp"
      },
      "execution_count": null,
      "outputs": []
    },
    {
      "cell_type": "markdown",
      "source": [
        "Among the variables in `penguins` are:\n",
        "\n",
        "1.  `species`: a penguin's species (Adelie, Chinstrap, or Gentoo).\n",
        "\n",
        "2.  `flipper_length_mm`: length of a penguin's flipper, in millimeters.\n",
        "\n",
        "3.  `body_mass_g`: body mass of a penguin, in grams.\n",
        "\n",
        "To learn more about `penguins`, open its help page by running `?penguins`.\n",
        "\n",
        "### Ultimate goal {#sec-ultimate-goal}\n",
        "\n",
        "Our ultimate goal in this chapter is to recreate the following visualization displaying the relationship between flipper lengths and body masses of these penguins, taking into consideration the species of the penguin.\n",
        "\n",
        "\n",
        "```{r}\n",
        "\n",
        "ggplot(penguins, aes(x = flipper_length_mm, y = body_mass_g)) +\n",
        "  geom_point(aes(color = species, shape = species)) +\n",
        "  geom_smooth(method = \"lm\") +\n",
        "  labs(\n",
        "    title = \"Body mass and flipper length\",\n",
        "    subtitle = \"Dimensions for Adelie, Chinstrap, and Gentoo Penguins\",\n",
        "    x = \"Flipper length (mm)\",\n",
        "    y = \"Body mass (g)\",\n",
        "    color = \"Species\",\n",
        "    shape = \"Species\"\n",
        "  ) +\n",
        "  scale_color_colorblind()\n",
        "```\n"
      ],
      "metadata": {
        "id": "NV6MRZcY4TLV"
      }
    },
    {
      "cell_type": "code",
      "source": [],
      "metadata": {
        "id": "V7oRvXvp4eok"
      },
      "execution_count": 10,
      "outputs": []
    },
    {
      "cell_type": "markdown",
      "source": [
        "### Creating a ggplot\n",
        "\n",
        "Let's recreate this plot step-by-step.\n",
        "\n",
        "With ggplot2, you begin a plot with the function `ggplot()`, defining a plot object that you then add **layers** to.\n",
        "The first argument of `ggplot()` is the dataset to use in the graph and so `ggplot(data = penguins)` creates an empty graph that is primed to display the `penguins` data, but since we haven't told it how to visualize it yet, for now it's empty.\n",
        "This is not a very exciting plot, but you can think of it like an empty canvas you'll paint the remaining layers of your plot onto.\n",
        "\n",
        "```{r}\n",
        "ggplot(data = penguins)\n",
        "```\n"
      ],
      "metadata": {
        "id": "Ziak-JOK45sH"
      }
    },
    {
      "cell_type": "code",
      "source": [],
      "metadata": {
        "id": "fDW-IqRY47MS"
      },
      "execution_count": 13,
      "outputs": []
    },
    {
      "cell_type": "markdown",
      "source": [
        "Next, we need to tell `ggplot()` how the information from our data will be visually represented.\n",
        "The `mapping` argument of the `ggplot()` function defines how variables in your dataset are mapped to visual properties (**aesthetics**) of your plot.\n",
        "The `mapping` argument is always defined in the `aes()` function, and the `x` and `y` arguments of `aes()` specify which variables to map to the x and y axes.\n",
        "For now, we will only map flipper length to the `x` aesthetic and body mass to the `y` aesthetic.\n",
        "ggplot2 looks for the mapped variables in the `data` argument, in this case, `penguins`.\n",
        "\n",
        "The following plot shows the result of adding these mappings.\n",
        "\n",
        "```{r}\n",
        "\n",
        "ggplot(\n",
        "  data = penguins,\n",
        "  mapping = aes(x = flipper_length_mm, y = body_mass_g)\n",
        ")\n",
        "```\n"
      ],
      "metadata": {
        "id": "jfPFx12m5TjL"
      }
    },
    {
      "cell_type": "code",
      "source": [],
      "metadata": {
        "id": "eh8_XFhG5VD9"
      },
      "execution_count": 15,
      "outputs": []
    },
    {
      "cell_type": "markdown",
      "source": [
        "Our empty canvas now has more structure -- it's clear where flipper lengths will be displayed (on the x-axis) and where body masses will be displayed (on the y-axis).\n",
        "But the penguins themselves are not yet on the plot.\n",
        "This is because we have not yet articulated, in our code, how to represent the observations from our data frame on our plot.\n",
        "\n",
        "To do so, we need to define a **geom**: the geometrical object that a plot uses to represent data.\n",
        "These geometric objects are made available in ggplot2 with functions that start with `geom_`.\n",
        "People often describe plots by the type of geom that the plot uses.\n",
        "For example, bar charts use bar geoms (`geom_bar()`), line charts use line geoms (`geom_line()`), boxplots use boxplot geoms (`geom_boxplot()`), scatterplots use point geoms (`geom_point()`), and so on.\n",
        "\n",
        "The function `geom_point()` adds a layer of points to your plot, which creates a scatterplot.\n",
        "ggplot2 comes with many geom functions that each adds a different type of layer to a plot.\n",
        "You'll learn a whole bunch of geoms throughout the book, particularly in @sec-layers.\n",
        "\n",
        "```{r}\n",
        "\n",
        "ggplot(\n",
        "  data = penguins,\n",
        "  mapping = aes(x = flipper_length_mm, y = body_mass_g)\n",
        ") +\n",
        "  geom_point()\n",
        "```\n"
      ],
      "metadata": {
        "id": "Ksg59mKX5cPf"
      }
    },
    {
      "cell_type": "code",
      "source": [],
      "metadata": {
        "id": "YS_deBic5hrl"
      },
      "execution_count": 17,
      "outputs": []
    },
    {
      "cell_type": "markdown",
      "source": [
        "Now we have something that looks like what we might think of as a \"scatterplot\".\n",
        "It doesn't yet match our \"ultimate goal\" plot, but using this plot we can start answering the question that motivated our exploration: \"What does the relationship between flipper length and body mass look like?\" The relationship appears to be positive (as flipper length increases, so does body mass), fairly linear (the points are clustered around a line instead of a curve), and moderately strong (there isn't too much scatter around such a line).\n",
        "Penguins with longer flippers are generally larger in terms of their body mass.\n",
        "\n",
        "Before we add more layers to this plot, let's pause for a moment and review the warning message we got:\n",
        "\n",
        "> Removed 2 rows containing missing values (`geom_point()`).\n",
        "\n",
        "We're seeing this message because there are two penguins in our dataset with missing body mass and/or flipper length values and ggplot2 has no way of representing them on the plot without both of these values.\n",
        "Like R, ggplot2 subscribes to the philosophy that missing values should never silently go missing.\n",
        "This type of warning is probably one of the most common types of warnings you will see when working with real data -- missing values are a very common issue and you'll learn more about them throughout the book, particularly in @sec-missing-values.\n",
        "For the remaining plots in this chapter we will suppress this warning so it's not printed alongside every single plot we make.\n"
      ],
      "metadata": {
        "id": "xz6lOhLX6sj1"
      }
    },
    {
      "cell_type": "markdown",
      "source": [
        "### Adding aesthetics and layers {#sec-adding-aesthetics-layers}\n",
        "\n",
        "Scatterplots are useful for displaying the relationship between two numerical variables, but it's always a good idea to be skeptical of any apparent relationship between two variables and ask if there may be other variables that explain or change the nature of this apparent relationship.\n",
        "For example, does the relationship between flipper length and body mass differ by species?\n",
        "Let's incorporate species into our plot and see if this reveals any additional insights into the apparent relationship between these variables.\n",
        "We will do this by representing species with different colored points.\n",
        "\n",
        "To achieve this, will we need to modify the aesthetic or the geom?\n",
        "If you guessed \"in the aesthetic mapping, inside of `aes()`\", you're already getting the hang of creating data visualizations with ggplot2!\n",
        "And if not, don't worry.\n",
        "Throughout the book you will make many more ggplots and have many more opportunities to check your intuition as you make them.\n",
        "\n",
        "```{r}\n",
        "ggplot(\n",
        "  data = penguins,\n",
        "  mapping = aes(x = flipper_length_mm, y = body_mass_g, color = species)\n",
        ") +\n",
        "  geom_point()\n",
        "```\n"
      ],
      "metadata": {
        "id": "m2LeHPPV6yEj"
      }
    },
    {
      "cell_type": "code",
      "source": [],
      "metadata": {
        "id": "DxVlvT_066HA"
      },
      "execution_count": null,
      "outputs": []
    },
    {
      "cell_type": "markdown",
      "source": [
        "When a categorical variable is mapped to an aesthetic, ggplot2 will automatically assign a unique value of the aesthetic (here a unique color) to each unique level of the variable (each of the three species), a process known as **scaling**.\n",
        "ggplot2 will also add a legend that explains which values correspond to which levels.\n",
        "\n",
        "Now let's add one more layer: a smooth curve displaying the relationship between body mass and flipper length.\n",
        "Before you proceed, refer back to the code above, and think about how we can add this to our existing plot.\n",
        "\n",
        "Since this is a new geometric object representing our data, we will add a new geom as a layer on top of our point geom: `geom_smooth()`.\n",
        "And we will specify that we want to draw the line of best fit based on a `l`inear `m`odel with `method = \"lm\"`.\n",
        "\n",
        "```{r}\n",
        "\n",
        "ggplot(\n",
        "  data = penguins,\n",
        "  mapping = aes(x = flipper_length_mm, y = body_mass_g, color = species)\n",
        ") +\n",
        "  geom_point() +\n",
        "  geom_smooth(method = \"lm\")\n",
        "```\n"
      ],
      "metadata": {
        "id": "zF6tODPw678H"
      }
    },
    {
      "cell_type": "code",
      "source": [
        "ggplot(\n",
        "  data = penguins,\n",
        "  mapping = aes(x = flipper_length_mm, y = body_mass_g, color = species)\n",
        ") +\n",
        "  geom_point() +\n",
        "  geom_smooth(method = \"lm\")"
      ],
      "metadata": {
        "colab": {
          "base_uri": "https://localhost:8080/",
          "height": 524
        },
        "id": "m8VSb_aM7ACv",
        "outputId": "3598a40e-4e9a-4adf-90de-2681332c5d2d"
      },
      "execution_count": 19,
      "outputs": [
        {
          "output_type": "stream",
          "name": "stderr",
          "text": [
            "`geom_smooth()` using formula = 'y ~ x'\n",
            "Warning message:\n",
            "“Removed 2 rows containing non-finite values (`stat_smooth()`).”\n",
            "Warning message:\n",
            "“Removed 2 rows containing missing values (`geom_point()`).”\n"
          ]
        },
        {
          "output_type": "display_data",
          "data": {
            "text/plain": [
              "plot without title"
            ],
            "image/png": "[encoded data removed]"
          },
          "metadata": {
            "image/png": {
              "width": 420,
              "height": 420
            }
          }
        }
      ]
    },
    {
      "cell_type": "markdown",
      "source": [
        "We have successfully added lines, but this plot doesn't look like the plot from @sec-ultimate-goal, which only has one line for the entire dataset as opposed to separate lines for each of the penguin species.\n",
        "\n",
        "When aesthetic mappings are defined in `ggplot()`, at the *global* level, they're passed down to each of the subsequent geom layers of the plot.\n",
        "However, each geom function in ggplot2 can also take a `mapping` argument, which allows for aesthetic mappings at the *local* level that are added to those inherited from the global level.\n",
        "Since we want points to be colored based on species but don't want the lines to be separated out for them, we should specify `color = species` for `geom_point()` only.\n",
        "\n",
        "```{r}\n",
        "\n",
        "ggplot(\n",
        "  data = penguins,\n",
        "  mapping = aes(x = flipper_length_mm, y = body_mass_g)\n",
        ") +\n",
        "  geom_point(mapping = aes(color = species)) +\n",
        "  geom_smooth(method = \"lm\")\n",
        "```\n"
      ],
      "metadata": {
        "id": "Ajy5aFNC7CXu"
      }
    },
    {
      "cell_type": "code",
      "source": [],
      "metadata": {
        "id": "QUJC7EJh7WJw"
      },
      "execution_count": null,
      "outputs": []
    },
    {
      "cell_type": "markdown",
      "source": [
        "Voila!\n",
        "We have something that looks very much like our ultimate goal, though it's not yet perfect.\n",
        "We still need to use different shapes for each species of penguins and improve labels.\n",
        "\n",
        "It's generally not a good idea to represent information using only colors on a plot, as people perceive colors differently due to color blindness or other color vision differences.\n",
        "Therefore, in addition to color, we can also map `species` to the `shape` aesthetic.\n",
        "\n",
        "```{r}\n",
        "\n",
        "ggplot(\n",
        "  data = penguins,\n",
        "  mapping = aes(x = flipper_length_mm, y = body_mass_g)\n",
        ") +\n",
        "  geom_point(mapping = aes(color = species, shape = species)) +\n",
        "  geom_smooth(method = \"lm\")\n",
        "```\n"
      ],
      "metadata": {
        "id": "SRbNwvCa7Woe"
      }
    },
    {
      "cell_type": "code",
      "source": [],
      "metadata": {
        "id": "M2sGstEj8NQ2"
      },
      "execution_count": null,
      "outputs": []
    },
    {
      "cell_type": "markdown",
      "source": [
        "\n",
        "\n",
        "\n",
        "Note that the legend is automatically updated to reflect the different shapes of the points as well.\n",
        "\n",
        "And finally, we can improve the labels of our plot using the `labs()` function in a new layer.\n",
        "Some of the arguments to `labs()` might be self explanatory: `title` adds a title and `subtitle` adds a subtitle to the plot.\n",
        "Other arguments match the aesthetic mappings, `x` is the x-axis label, `y` is the y-axis label, and `color` and `shape` define the label for the legend.\n",
        "In addition, we can improve the color palette to be colorblind safe with the `scale_color_colorblind()` function from the ggthemes package.\n",
        "\n",
        "```{r}\n",
        "\n",
        "ggplot(\n",
        "  data = penguins,\n",
        "  mapping = aes(x = flipper_length_mm, y = body_mass_g)\n",
        ") +\n",
        "  geom_point(aes(color = species, shape = species)) +\n",
        "  geom_smooth(method = \"lm\") +\n",
        "  labs(\n",
        "    title = \"Body mass and flipper length\",\n",
        "    subtitle = \"Dimensions for Adelie, Chinstrap, and Gentoo Penguins\",\n",
        "    x = \"Flipper length (mm)\", y = \"Body mass (g)\",\n",
        "    color = \"Species\", shape = \"Species\"\n",
        "  ) +\n",
        "  scale_color_colorblind()\n",
        "```\n"
      ],
      "metadata": {
        "id": "0zcSIhBK8YMq"
      }
    },
    {
      "cell_type": "code",
      "source": [],
      "metadata": {
        "id": "uMsrerQ89huQ"
      },
      "execution_count": null,
      "outputs": []
    },
    {
      "cell_type": "markdown",
      "source": [
        "We finally have a plot that perfectly matches our \"ultimate goal\"!\n",
        "\n",
        "### Exercises\n",
        "\n",
        "1.  How many rows are in `penguins`?\n",
        "    How many columns?\n",
        "\n",
        "2.  What does the `bill_depth_mm` variable in the `penguins` data frame describe?\n",
        "    Read the help for `?penguins` to find out.\n",
        "\n",
        "3.  Make a scatterplot of `bill_depth_mm` vs. `bill_length_mm`.\n",
        "    That is, make a scatterplot with `bill_depth_mm` on the y-axis and `bill_length_mm` on the x-axis.\n",
        "    Describe the relationship between these two variables.\n",
        "\n",
        "4.  What happens if you make a scatterplot of `species` vs. `bill_depth_mm`?\n",
        "    What might be a better choice of geom?\n",
        "\n",
        "5.  Why does the following give an error and how would you fix it?\n",
        "\n",
        "    ```{r}\n",
        "\n",
        "\n",
        "    ggplot(data = penguins) +\n",
        "      geom_point()\n",
        "    ```\n",
        "\n",
        "6.  What does the `na.rm` argument do in `geom_point()`?\n",
        "    What is the default value of the argument?\n",
        "    Create a scatterplot where you successfully use this argument set to `TRUE`.\n",
        "\n",
        "7.  Add the following caption to the plot you made in the previous exercise: \"Data come from the palmerpenguins package.\" Hint: Take a look at the documentation for `labs()`.\n",
        "\n",
        "8.  Recreate the following visualization.\n",
        "    What aesthetic should `bill_depth_mm` be mapped to?\n",
        "    And should it be mapped at the global level or at the geom level?\n",
        "\n",
        "    ```{r}\n",
        "\n",
        "    ggplot(\n",
        "      data = penguins,\n",
        "      mapping = aes(x = flipper_length_mm, y = body_mass_g)\n",
        "    ) +\n",
        "      geom_point(aes(color = bill_depth_mm)) +\n",
        "      geom_smooth()\n",
        "    ```\n",
        "\n",
        "9.  Run this code in your head and predict what the output will look like.\n",
        "    Then, run the code in R and check your predictions.\n",
        "\n",
        "    ```{r}\n",
        "\n",
        "\n",
        "    ggplot(\n",
        "      data = penguins,\n",
        "      mapping = aes(x = flipper_length_mm, y = body_mass_g, color = island)\n",
        "    ) +\n",
        "      geom_point() +\n",
        "      geom_smooth(se = FALSE)\n",
        "    ```\n",
        "\n",
        "10. Will these two graphs look different?\n",
        "    Why/why not?\n",
        "\n",
        "    ```{r}\n",
        "\n",
        "    ggplot(\n",
        "      data = penguins,\n",
        "      mapping = aes(x = flipper_length_mm, y = body_mass_g)\n",
        "    ) +\n",
        "      geom_point() +\n",
        "      geom_smooth()\n",
        "\n",
        "    ggplot() +\n",
        "      geom_point(\n",
        "        data = penguins,\n",
        "        mapping = aes(x = flipper_length_mm, y = body_mass_g)\n",
        "      ) +\n",
        "      geom_smooth(\n",
        "        data = penguins,\n",
        "        mapping = aes(x = flipper_length_mm, y = body_mass_g)\n",
        "      )\n",
        "    ```\n"
      ],
      "metadata": {
        "id": "GKP-ekfY9ijA"
      }
    },
    {
      "cell_type": "code",
      "source": [],
      "metadata": {
        "id": "MSJ6QW989pib"
      },
      "execution_count": null,
      "outputs": []
    },
    {
      "cell_type": "markdown",
      "source": [
        "## ggplot2 calls\n",
        "\n",
        "As we move on from these introductory sections, we'll transition to a more concise expression of ggplot2 code.\n",
        "So far we've been very explicit, which is helpful when you are learning:\n",
        "\n",
        "```{r}\n",
        "\n",
        "\n",
        "ggplot(\n",
        "  data = penguins,\n",
        "  mapping = aes(x = flipper_length_mm, y = body_mass_g)\n",
        ") +\n",
        "  geom_point()\n",
        "```\n",
        "\n",
        "Typically, the first one or two arguments to a function are so important that you should know them by heart.\n",
        "The first two arguments to `ggplot()` are `data` and `mapping`, in the remainder of the book, we won't supply those names.\n",
        "That saves typing, and, by reducing the amount of extra text, makes it easier to see what's different between plots.\n",
        "That's a really important programming concern that we'll come back to in @sec-functions.\n",
        "\n",
        "Rewriting the previous plot more concisely yields:\n",
        "\n",
        "```{r}\n",
        "ggplot(penguins, aes(x = flipper_length_mm, y = body_mass_g)) +\n",
        "  geom_point()\n",
        "```\n",
        "\n"
      ],
      "metadata": {
        "id": "xu1faH9Y9zu5"
      }
    },
    {
      "cell_type": "code",
      "source": [],
      "metadata": {
        "id": "AmA9NmuA92ZJ"
      },
      "execution_count": null,
      "outputs": []
    },
    {
      "cell_type": "markdown",
      "source": [
        "In the future, you'll also learn about the pipe, `|>`, which will allow you to create that plot with:\n",
        "\n",
        "```{r}\n",
        "\n",
        "penguins |>\n",
        "  ggplot(aes(x = flipper_length_mm, y = body_mass_g)) +\n",
        "  geom_point()\n",
        "```\n"
      ],
      "metadata": {
        "id": "oggpb1B499NG"
      }
    },
    {
      "cell_type": "code",
      "source": [],
      "metadata": {
        "id": "qbtmmBNl9-JP"
      },
      "execution_count": null,
      "outputs": []
    }
  ],
  "metadata": {
    "kernelspec": {
      "name": "ir",
      "display_name": "R"
    },
    "colab": {
      "provenance": []
    },
    "language_info": {
      "name": "R"
    }
  },
  "nbformat": 4,
  "nbformat_minor": 0
}