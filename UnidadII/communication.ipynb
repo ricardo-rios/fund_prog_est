{
  "cells": [
    {
      "cell_type": "markdown",
      "metadata": {
        "id": "whyrOjwQH20v"
      },
      "source": [
        "# Communication\n",
        "\n",
        "```{r}\n",
        "source(\"https://raw.githubusercontent.com/ricardo-rios/fund_prog_est/main/_common.R\")\n",
        "```\n"
      ]
    },
    {
      "cell_type": "code",
      "source": [],
      "metadata": {
        "id": "8G7qVu9pIHvM"
      },
      "execution_count": null,
      "outputs": []
    },
    {
      "cell_type": "markdown",
      "source": [
        "## Introduction\n",
        "\n",
        "In @sec-exploratory-data-analysis, you learned how to use plots as tools for *exploration*.\n",
        "When you make exploratory plots, you know---even before looking---which variables the plot will display.\n",
        "You made each plot for a purpose, could quickly look at it, and then move on to the next plot.\n",
        "In the course of most analyses, you'll produce tens or hundreds of plots, most of which are immediately thrown away.\n",
        "\n",
        "Now that you understand your data, you need to *communicate* your understanding to others.\n",
        "Your audience will likely not share your background knowledge and will not be deeply invested in the data.\n",
        "To help others quickly build up a good mental model of the data, you will need to invest considerable effort in making your plots as self-explanatory as possible.\n",
        "In this chapter, you'll learn some of the tools that ggplot2 provides to do so.\n",
        "\n",
        "This chapter focuses on the tools you need to create good graphics.\n",
        "We assume that you know what you want, and just need to know how to do it.\n",
        "For that reason, we highly recommend pairing this chapter with a good general visualization book.\n",
        "We particularly like [The Truthful Art](https://www.amazon.com/gp/product/0321934075/), by Albert Cairo.\n",
        "It doesn't teach the mechanics of creating visualizations, but instead focuses on what you need to think about in order to create effective graphics.\n"
      ],
      "metadata": {
        "id": "0XNETxZ7IOwQ"
      }
    },
    {
      "cell_type": "markdown",
      "source": [
        "### Prerequisites\n",
        "\n",
        "In this chapter, we'll focus once again on ggplot2.\n",
        "We'll also use a little dplyr for data manipulation, **scales** to override the default breaks, labels, transformations and palettes, and a few ggplot2 extension packages, including **ggrepel** ([https://ggrepel.slowkow.com](https://ggrepel.slowkow.com/)) by Kamil Slowikowski and **patchwork** ([https://patchwork.data-imaginist.com](https://patchwork.data-imaginist.com/)) by Thomas Lin Pedersen.\n",
        "Don't forget that you'll need to install those packages with `install.packages()` if you don't already have them.\n",
        "\n",
        "\n",
        "```{r}\n",
        "library(tidyverse)\n",
        "library(scales)\n",
        "library(ggrepel)\n",
        "library(patchwork)\n",
        "```\n"
      ],
      "metadata": {
        "id": "DPnIeb3WIrJD"
      }
    },
    {
      "cell_type": "code",
      "source": [],
      "metadata": {
        "id": "zCN8xLNFISWP"
      },
      "execution_count": null,
      "outputs": []
    },
    {
      "cell_type": "markdown",
      "source": [
        "## Labels\n",
        "\n",
        "The easiest place to start when turning an exploratory graphic into an expository graphic is with good labels.\n",
        "You add labels with the `labs()` function.\n",
        "\n",
        "\n",
        "```{r}\n",
        "\n",
        "ggplot(mpg, aes(x = displ, y = hwy)) +\n",
        "  geom_point(aes(color = class)) +\n",
        "  geom_smooth(se = FALSE) +\n",
        "  labs(\n",
        "    x = \"Engine displacement (L)\",\n",
        "    y = \"Highway fuel economy (mpg)\",\n",
        "    color = \"Car type\",\n",
        "    title = \"Fuel efficiency generally decreases with engine size\",\n",
        "    subtitle = \"Two seaters (sports cars) are an exception because of their light weight\",\n",
        "    caption = \"Data from fueleconomy.gov\"\n",
        "  )\n",
        "\n",
        "\n",
        "```\n"
      ],
      "metadata": {
        "id": "8tzlCJzXI2Fm"
      }
    },
    {
      "cell_type": "code",
      "source": [],
      "metadata": {
        "id": "UoK_HmtmI-tT"
      },
      "execution_count": null,
      "outputs": []
    },
    {
      "cell_type": "markdown",
      "source": [
        "The purpose of a plot title is to summarize the main finding.\n",
        "Avoid titles that just describe what the plot is, e.g., \"A scatterplot of engine displacement vs. fuel economy\".\n",
        "\n",
        "If you need to add more text, there are two other useful labels: `subtitle` adds additional detail in a smaller font beneath the title and `caption` adds text at the bottom right of the plot, often used to describe the source of the data.\n",
        "You can also use `labs()` to replace the axis and legend titles.\n",
        "It's usually a good idea to replace short variable names with more detailed descriptions, and to include the units.\n",
        "\n",
        "It's possible to use mathematical equations instead of text strings.\n",
        "Just switch `\"\"` out for `quote()` and read about the available options in `?plotmath`:\n",
        "\n",
        "\n",
        "```{r}\n",
        "\n",
        "df <- tibble(\n",
        "  x = 1:10,\n",
        "  y = cumsum(x^2)\n",
        ")\n",
        "\n",
        "ggplot(df, aes(x, y)) +\n",
        "  geom_point() +\n",
        "  labs(\n",
        "    x = quote(x[i]),\n",
        "    y = quote(sum(x[i] ^ 2, i == 1, n))\n",
        "  )\n",
        "\n",
        "\n",
        "```\n"
      ],
      "metadata": {
        "id": "CfPrDs9aI_q6"
      }
    },
    {
      "cell_type": "code",
      "source": [],
      "metadata": {
        "id": "jLqSfO1LJOwE"
      },
      "execution_count": null,
      "outputs": []
    },
    {
      "cell_type": "markdown",
      "source": [
        "### Exercises\n",
        "\n",
        "1.  Create one plot on the fuel economy data with customized `title`, `subtitle`, `caption`, `x`, `y`, and `color` labels.\n",
        "\n",
        "2.  Recreate the following plot using the fuel economy data.\n",
        "    Note that both the colors and shapes of points vary by type of drive train.\n",
        "\n",
        "    ```{r}\n",
        "\n",
        "    ggplot(mpg, aes(x = cty, y = hwy, color = drv, shape = drv)) +\n",
        "      geom_point() +\n",
        "      labs(\n",
        "        x = \"City MPG\",\n",
        "        y = \"Highway MPG\",\n",
        "        shape = \"Type of\\ndrive train\",\n",
        "        color = \"Type of\\ndrive train\"\n",
        "      )\n",
        "    ```\n",
        "\n",
        "3.  Take an exploratory graphic that you've created in the last month, and add informative titles to make it easier for others to understand.\n"
      ],
      "metadata": {
        "id": "f1DFDelOJRFC"
      }
    },
    {
      "cell_type": "code",
      "source": [],
      "metadata": {
        "id": "zWRyevrNJgFk"
      },
      "execution_count": null,
      "outputs": []
    },
    {
      "cell_type": "markdown",
      "source": [
        "## Annotations\n",
        "\n",
        "In addition to labelling major components of your plot, it's often useful to label individual observations or groups of observations.\n",
        "The first tool you have at your disposal is `geom_text()`.\n",
        "`geom_text()` is similar to `geom_point()`, but it has an additional aesthetic: `label`.\n",
        "This makes it possible to add textual labels to your plots.\n",
        "\n",
        "There are two possible sources of labels.\n",
        "First, you might have a tibble that provides labels.\n",
        "In the following plot we pull out the cars with the highest engine size in each drive type and save their information as a new data frame called `label_info`.\n",
        "\n",
        "\n",
        "```{r}\n",
        "label_info <- mpg |>\n",
        "  group_by(drv) |>\n",
        "  arrange(desc(displ)) |>\n",
        "  slice_head(n = 1) |>\n",
        "  mutate(\n",
        "    drive_type = case_when(\n",
        "      drv == \"f\" ~ \"front-wheel drive\",\n",
        "      drv == \"r\" ~ \"rear-wheel drive\",\n",
        "      drv == \"4\" ~ \"4-wheel drive\"\n",
        "    )\n",
        "  ) |>\n",
        "  select(displ, hwy, drv, drive_type)\n",
        "\n",
        "label_info\n",
        "```\n"
      ],
      "metadata": {
        "id": "XQ5N_hn2JhyK"
      }
    },
    {
      "cell_type": "code",
      "source": [],
      "metadata": {
        "id": "wOrfod5pJn7m"
      },
      "execution_count": null,
      "outputs": []
    },
    {
      "cell_type": "markdown",
      "source": [
        "Then, we use this new data frame to directly label the three groups to replace the legend with labels placed directly on the plot.\n",
        "Using the `fontface` and `size` arguments we can customize the look of the text labels.\n",
        "They're larger than the rest of the text on the plot and bolded.\n",
        "(`theme(legend.position = \"none\"`) turns all the legends off --- we'll talk about it more shortly.)\n",
        "\n",
        "```{r}\n",
        "\n",
        "ggplot(mpg, aes(x = displ, y = hwy, color = drv)) +\n",
        "  geom_point(alpha = 0.3) +\n",
        "  geom_smooth(se = FALSE) +\n",
        "  geom_text(\n",
        "    data = label_info,\n",
        "    aes(x = displ, y = hwy, label = drive_type),\n",
        "    fontface = \"bold\", size = 5, hjust = \"right\", vjust = \"bottom\"\n",
        "  ) +\n",
        "  theme(legend.position = \"none\")\n",
        "  \n",
        "```\n"
      ],
      "metadata": {
        "id": "Gon2OEKBJurL"
      }
    },
    {
      "cell_type": "code",
      "source": [],
      "metadata": {
        "id": "VJSoSj-2J6HG"
      },
      "execution_count": null,
      "outputs": []
    },
    {
      "cell_type": "markdown",
      "source": [
        "Note the use of `hjust` (horizontal justification) and `vjust` (vertical justification) to control the alignment of the label.\n",
        "\n",
        "However the annotated plot we made above is hard to read because the labels overlap with each other, and with the points.\n",
        "We can use the `geom_label_repel()` function from the ggrepel package to address both of these issues.\n",
        "This useful package will automatically adjust labels so that they don't overlap:\n",
        "\n",
        "\n",
        "```{r}\n",
        "\n",
        "ggplot(mpg, aes(x = displ, y = hwy, color = drv)) +\n",
        "  geom_point(alpha = 0.3) +\n",
        "  geom_smooth(se = FALSE) +\n",
        "  geom_label_repel(\n",
        "    data = label_info,\n",
        "    aes(x = displ, y = hwy, label = drive_type),\n",
        "    fontface = \"bold\", size = 5, nudge_y = 2\n",
        "  ) +\n",
        "  theme(legend.position = \"none\")\n",
        "```\n"
      ],
      "metadata": {
        "id": "fCRExbYPKB1i"
      }
    },
    {
      "cell_type": "code",
      "source": [],
      "metadata": {
        "id": "So5ZPzVZKCni"
      },
      "execution_count": null,
      "outputs": []
    },
    {
      "cell_type": "markdown",
      "source": [
        "You can also use the same idea to highlight certain points on a plot with `geom_text_repel()` from the ggrepel package.\n",
        "Note another handy technique used here: we added a second layer of large, hollow points to further highlight the labelled points.\n",
        "\n",
        "```{r}\n",
        "potential_outliers <- mpg |>\n",
        "  filter(hwy > 40 | (hwy > 20 & displ > 5))\n",
        "  \n",
        "ggplot(mpg, aes(x = displ, y = hwy)) +\n",
        "  geom_point() +\n",
        "  geom_text_repel(data = potential_outliers, aes(label = model)) +\n",
        "  geom_point(data = potential_outliers, color = \"red\") +\n",
        "  geom_point(\n",
        "    data = potential_outliers,\n",
        "    color = \"red\", size = 3, shape = \"circle open\"\n",
        "  )\n",
        "```\n"
      ],
      "metadata": {
        "id": "HNO_AZyRKUXI"
      }
    },
    {
      "cell_type": "code",
      "source": [],
      "metadata": {
        "id": "fp-QZAqbKXkX"
      },
      "execution_count": null,
      "outputs": []
    },
    {
      "cell_type": "markdown",
      "source": [
        "Remember, in addition to `geom_text()` and `geom_label()`, you have many other geoms in ggplot2 available to help annotate your plot.\n",
        "A couple ideas:\n",
        "\n",
        "-   Use `geom_hline()` and `geom_vline()` to add reference lines.\n",
        "    We often make them thick (`linewidth = 2`) and white (`color = white`), and draw them underneath the primary data layer.\n",
        "    That makes them easy to see, without drawing attention away from the data.\n",
        "\n",
        "-   Use `geom_rect()` to draw a rectangle around points of interest.\n",
        "    The boundaries of the rectangle are defined by aesthetics `xmin`, `xmax`, `ymin`, `ymax`.\n",
        "    Alternatively, look into the [ggforce package](https://ggforce.data-imaginist.com/index.html), specifically [`geom_mark_hull()`](https://ggforce.data-imaginist.com/reference/geom_mark_hull.html), which allows you to annotate subsets of points with hulls.\n",
        "\n",
        "-   Use `geom_segment()` with the `arrow` argument to draw attention to a point with an arrow.\n",
        "    Use aesthetics `x` and `y` to define the starting location, and `xend` and `yend` to define the end location.\n",
        "\n",
        "Another handy function for adding annotations to plots is `annotate()`.\n",
        "As a rule of thumb, geoms are generally useful for highlighting a subset of the data while `annotate()` is useful for adding one or few annotation elements to a plot.\n",
        "\n",
        "To demonstrate using `annotate()`, let's create some text to add to our plot.\n",
        "The text is a bit long, so we'll use `stringr::str_wrap()` to automatically add line breaks to it given the number of characters you want per line:\n"
      ],
      "metadata": {
        "id": "Ima5VzAOKZVe"
      }
    },
    {
      "cell_type": "markdown",
      "source": [
        "```{r}\n",
        "trend_text <- \"Larger engine sizes tend to have lower fuel economy.\" |>\n",
        "  str_wrap(width = 30)\n",
        "trend_text\n",
        "```\n"
      ],
      "metadata": {
        "id": "Kzl2HtvoKlfI"
      }
    },
    {
      "cell_type": "code",
      "source": [],
      "metadata": {
        "id": "RGZzzAsGKkpC"
      },
      "execution_count": null,
      "outputs": []
    },
    {
      "cell_type": "markdown",
      "source": [
        "Then, we add two layers of annotation: one with a label geom and the other with a segment geom.\n",
        "The `x` and `y` aesthetics in both define where the annotation should start, and the `xend` and `yend` aesthetics in the segment annotation define the end location of the segment.\n",
        "Note also that the segment is styled as an arrow.\n",
        "\n",
        "```{r}\n",
        "ggplot(mpg, aes(x = displ, y = hwy)) +\n",
        "  geom_point() +\n",
        "  annotate(\n",
        "    geom = \"label\", x = 3.5, y = 38,\n",
        "    label = trend_text,\n",
        "    hjust = \"left\", color = \"red\"\n",
        "  ) +\n",
        "  annotate(\n",
        "    geom = \"segment\",\n",
        "    x = 3, y = 35, xend = 5, yend = 25, color = \"red\",\n",
        "    arrow = arrow(type = \"closed\")\n",
        "  )\n",
        "```\n"
      ],
      "metadata": {
        "id": "S8Ue7ikjKox1"
      }
    },
    {
      "cell_type": "code",
      "source": [],
      "metadata": {
        "id": "-l3BOl8LLFfz"
      },
      "execution_count": null,
      "outputs": []
    },
    {
      "cell_type": "markdown",
      "source": [
        "Annotation is a powerful tool for communicating main takeaways and interesting features of your visualizations.\n",
        "The only limit is your imagination (and your patience with positioning annotations to be aesthetically pleasing)!\n",
        "\n",
        "### Exercises\n",
        "\n",
        "1.  Use `geom_text()` with infinite positions to place text at the four corners of the plot.\n",
        "\n",
        "2.  Use `annotate()` to add a point geom in the middle of your last plot without having to create a tibble.\n",
        "    Customize the shape, size, or color of the point.\n",
        "\n",
        "3.  How do labels with `geom_text()` interact with faceting?\n",
        "    How can you add a label to a single facet?\n",
        "    How can you put a different label in each facet?\n",
        "    (Hint: Think about the dataset that is being passed to `geom_text()`.)\n",
        "\n",
        "4.  What arguments to `geom_label()` control the appearance of the background box?\n",
        "\n",
        "5.  What are the four arguments to `arrow()`?\n",
        "    How do they work?\n",
        "    Create a series of plots that demonstrate the most important options.\n",
        "\n"
      ],
      "metadata": {
        "id": "Gmw_nxIVLGwT"
      }
    },
    {
      "cell_type": "code",
      "source": [],
      "metadata": {
        "id": "nLrULARSLJTF"
      },
      "execution_count": null,
      "outputs": []
    },
    {
      "cell_type": "markdown",
      "source": [
        "## Scales\n",
        "\n",
        "The third way you can make your plot better for communication is to adjust the scales.\n",
        "Scales control how the aesthetic mappings manifest visually.\n",
        "\n",
        "### Default scales\n",
        "\n",
        "Normally, ggplot2 automatically adds scales for you.\n",
        "For example, when you type:\n",
        "\n",
        "```{r}\n",
        "ggplot(mpg, aes(x = displ, y = hwy)) +\n",
        "  geom_point(aes(color = class))\n",
        "```\n"
      ],
      "metadata": {
        "id": "WSNno5VFLJ6M"
      }
    },
    {
      "cell_type": "code",
      "source": [],
      "metadata": {
        "id": "bl1RNWU_LNP4"
      },
      "execution_count": null,
      "outputs": []
    },
    {
      "cell_type": "markdown",
      "source": [
        "ggplot2 automatically adds default scales behind the scenes:\n",
        "\n",
        "```{r}\n",
        "ggplot(mpg, aes(x = displ, y = hwy)) +\n",
        "  geom_point(aes(color = class)) +\n",
        "  scale_x_continuous() +\n",
        "  scale_y_continuous() +\n",
        "  scale_color_discrete()\n",
        "```\n"
      ],
      "metadata": {
        "id": "6ORhpIrNLNt3"
      }
    },
    {
      "cell_type": "code",
      "source": [],
      "metadata": {
        "id": "lLqp2TqJLQ7h"
      },
      "execution_count": null,
      "outputs": []
    },
    {
      "cell_type": "markdown",
      "source": [
        "Note the naming scheme for scales: `scale_` followed by the name of the aesthetic, then `_`, then the name of the scale.\n",
        "The default scales are named according to the type of variable they align with: continuous, discrete, datetime, or date.\n",
        "`scale_x_continuous()` puts the numeric values from `displ` on a continuous number line on the x-axis, `scale_color_discrete()` chooses colors for each of the `class` of car, etc.\n",
        "There are lots of non-default scales which you'll learn about below.\n",
        "\n",
        "The default scales have been carefully chosen to do a good job for a wide range of inputs.\n",
        "Nevertheless, you might want to override the defaults for two reasons:\n",
        "\n",
        "-   You might want to tweak some of the parameters of the default scale.\n",
        "    This allows you to do things like change the breaks on the axes, or the key labels on the legend.\n",
        "\n",
        "-   You might want to replace the scale altogether, and use a completely different algorithm.\n",
        "    Often you can do better than the default because you know more about the data.\n"
      ],
      "metadata": {
        "id": "9WFOSMS1LRdA"
      }
    },
    {
      "cell_type": "markdown",
      "source": [
        "### Axis ticks and legend keys\n",
        "\n",
        "Collectively axes and legends are called **guides**.\n",
        "Axes are used for x and y aesthetics; legends are used for everything else.\n",
        "\n",
        "There are two primary arguments that affect the appearance of the ticks on the axes and the keys on the legend: `breaks` and `labels`.\n",
        "Breaks controls the position of the ticks, or the values associated with the keys.\n",
        "Labels controls the text label associated with each tick/key.\n",
        "The most common use of `breaks` is to override the default choice:\n",
        "\n",
        "```{r}\n",
        "ggplot(mpg, aes(x = displ, y = hwy, color = drv)) +\n",
        "  geom_point() +\n",
        "  scale_y_continuous(breaks = seq(15, 40, by = 5))\n",
        "```\n"
      ],
      "metadata": {
        "id": "vEZYXIxaLYtj"
      }
    },
    {
      "cell_type": "code",
      "source": [],
      "metadata": {
        "id": "pH9-jkyOLT_i"
      },
      "execution_count": null,
      "outputs": []
    },
    {
      "cell_type": "markdown",
      "source": [
        "You can use `labels` in the same way (a character vector the same length as `breaks`), but you can also set it to `NULL` to suppress the labels altogether.\n",
        "This can be useful for maps, or for publishing plots where you can't share the absolute numbers.\n",
        "You can also use `breaks` and `labels` to control the appearance of legends.\n",
        "For discrete scales for categorical variables, `labels` can be a named list of the existing level names and the desired labels for them.\n",
        "\n",
        "```{r}\n",
        "ggplot(mpg, aes(x = displ, y = hwy, color = drv)) +\n",
        "  geom_point() +\n",
        "  scale_x_continuous(labels = NULL) +\n",
        "  scale_y_continuous(labels = NULL) +\n",
        "  scale_color_discrete(labels = c(\"4\" = \"4-wheel\", \"f\" = \"front\", \"r\" = \"rear\"))\n",
        "```\n"
      ],
      "metadata": {
        "id": "yGBxPsHZLb08"
      }
    },
    {
      "cell_type": "code",
      "source": [],
      "metadata": {
        "id": "KQsPu9QiLg2v"
      },
      "execution_count": null,
      "outputs": []
    },
    {
      "cell_type": "markdown",
      "source": [
        "The `labels` argument coupled with labelling functions from the scales package is also useful for formatting numbers as currency, percent, etc.\n",
        "The plot on the left shows default labelling with `label_dollar()`, which adds a dollar sign as well as a thousand separator comma.\n",
        "The plot on the right adds further customization by dividing dollar values by 1,000 and adding a suffix \"K\" (for \"thousands\") as well as adding custom breaks.\n",
        "Note that `breaks` is in the original scale of the data.\n",
        "\n",
        "```{r}\n",
        "# Left\n",
        "ggplot(diamonds, aes(x = price, y = cut)) +\n",
        "  geom_boxplot(alpha = 0.05) +\n",
        "  scale_x_continuous(labels = label_dollar())\n",
        "\n",
        "# Right\n",
        "ggplot(diamonds, aes(x = price, y = cut)) +\n",
        "  geom_boxplot(alpha = 0.05) +\n",
        "  scale_x_continuous(\n",
        "    labels = label_dollar(scale = 1/1000, suffix = \"K\"),\n",
        "    breaks = seq(1000, 19000, by = 6000)\n",
        "  )\n",
        "```\n"
      ],
      "metadata": {
        "id": "nEk2RR_nLkOm"
      }
    },
    {
      "cell_type": "code",
      "source": [],
      "metadata": {
        "id": "nLkNTnarLnzI"
      },
      "execution_count": null,
      "outputs": []
    },
    {
      "cell_type": "markdown",
      "source": [
        "Another handy label function is `label_percent()`:\n",
        "\n",
        "```{r}\n",
        "ggplot(diamonds, aes(x = cut, fill = clarity)) +\n",
        "  geom_bar(position = \"fill\") +\n",
        "  scale_y_continuous(name = \"Percentage\", labels = label_percent())\n",
        "```\n",
        "\n"
      ],
      "metadata": {
        "id": "dVaUk5j9LoaH"
      }
    },
    {
      "cell_type": "code",
      "source": [],
      "metadata": {
        "id": "9fK2MTWlLufC"
      },
      "execution_count": null,
      "outputs": []
    },
    {
      "cell_type": "markdown",
      "source": [
        "Another use of `breaks` is when you have relatively few data points and want to highlight exactly where the observations occur.\n",
        "For example, take this plot that shows when each US president started and ended their term.\n",
        "\n",
        "\n",
        "```{r}\n",
        "presidential |>\n",
        "  mutate(id = 33 + row_number()) |>\n",
        "  ggplot(aes(x = start, y = id)) +\n",
        "  geom_point() +\n",
        "  geom_segment(aes(xend = end, yend = id)) +\n",
        "  scale_x_date(name = NULL, breaks = presidential$start, date_labels = \"'%y\")\n",
        "```\n"
      ],
      "metadata": {
        "id": "bPqcvCK9Lu_Q"
      }
    },
    {
      "cell_type": "code",
      "source": [],
      "metadata": {
        "id": "k7d_YfiBLvbp"
      },
      "execution_count": null,
      "outputs": []
    },
    {
      "cell_type": "markdown",
      "source": [
        "Note that for the `breaks` argument we pulled out the `start` variable as a vector with `presidential$start` because we can't do an aesthetic mapping for this argument.\n",
        "Also note that the specification of breaks and labels for date and datetime scales is a little different:\n",
        "\n",
        "-   `date_labels` takes a format specification, in the same form as `parse_datetime()`.\n",
        "\n",
        "-   `date_breaks` (not shown here), takes a string like \"2 days\" or \"1 month\".\n",
        "\n",
        "\n",
        "\n",
        "### Legend layout\n",
        "\n",
        "You will most often use `breaks` and `labels` to tweak the axes.\n",
        "While they both also work for legends, there are a few other techniques you are more likely to use.\n",
        "\n",
        "To control the overall position of the legend, you need to use a `theme()` setting.\n",
        "We'll come back to themes at the end of the chapter, but in brief, they control the non-data parts of the plot.\n",
        "The theme setting `legend.position` controls where the legend is drawn:\n",
        "\n",
        "```{r}\n",
        "base <- ggplot(mpg, aes(x = displ, y = hwy)) +\n",
        "  geom_point(aes(color = class))\n",
        "\n",
        "base + theme(legend.position = \"right\") # the default\n",
        "base + theme(legend.position = \"left\")\n",
        "base +\n",
        "  theme(legend.position = \"top\") +\n",
        "  guides(color = guide_legend(nrow = 3))\n",
        "base +\n",
        "  theme(legend.position = \"bottom\") +\n",
        "  guides(color = guide_legend(nrow = 3))\n",
        "```\n"
      ],
      "metadata": {
        "id": "wTcwDyVSLzfQ"
      }
    },
    {
      "cell_type": "code",
      "source": [],
      "metadata": {
        "id": "G8jlqK_cL6u6"
      },
      "execution_count": null,
      "outputs": []
    },
    {
      "cell_type": "markdown",
      "source": [
        "If your plot is short and wide, place the legend at the top or bottom, and if it's tall and narrow, place the legend at the left or right.\n",
        "You can also use `legend.position = \"none\"` to suppress the display of the legend altogether.\n",
        "\n",
        "To control the display of individual legends, use `guides()` along with `guide_legend()` or `guide_colorbar()`.\n",
        "The following example shows two important settings: controlling the number of rows the legend uses with `nrow`, and overriding one of the aesthetics to make the points bigger.\n",
        "This is particularly useful if you have used a low `alpha` to display many points on a plot.\n",
        "\n",
        "```{r}\n",
        "ggplot(mpg, aes(x = displ, y = hwy)) +\n",
        "  geom_point(aes(color = class)) +\n",
        "  geom_smooth(se = FALSE) +\n",
        "  theme(legend.position = \"bottom\") +\n",
        "  guides(color = guide_legend(nrow = 2, override.aes = list(size = 4)))\n",
        "```\n"
      ],
      "metadata": {
        "id": "1Z4kUNHyL7xS"
      }
    },
    {
      "cell_type": "code",
      "source": [],
      "metadata": {
        "id": "HqD0eE1DL_66"
      },
      "execution_count": null,
      "outputs": []
    },
    {
      "cell_type": "markdown",
      "source": [
        "Note that the name of the argument in `guides()` matches the name of the aesthetic, just like in `labs()`.\n",
        "\n",
        "### Replacing a scale\n",
        "\n",
        "Instead of just tweaking the details a little, you can instead replace the scale altogether.\n",
        "There are two types of scales you're mostly likely to want to switch out: continuous position scales and color scales.\n",
        "Fortunately, the same principles apply to all the other aesthetics, so once you've mastered position and color, you'll be able to quickly pick up other scale replacements.\n",
        "\n",
        "It's very useful to plot transformations of your variable.\n",
        "For example, it's easier to see the precise relationship between `carat` and `price` if we log transform them:\n",
        "\n",
        "```{r}\n",
        "# Left\n",
        "ggplot(diamonds, aes(x = carat, y = price)) +\n",
        "  geom_bin2d()\n",
        "\n",
        "# Right\n",
        "ggplot(diamonds, aes(x = log10(carat), y = log10(price))) +\n",
        "  geom_bin2d()\n",
        "```\n"
      ],
      "metadata": {
        "id": "nDIV-kNAMAjQ"
      }
    },
    {
      "cell_type": "code",
      "source": [],
      "metadata": {
        "id": "wCWvL7fVMFzS"
      },
      "execution_count": null,
      "outputs": []
    },
    {
      "cell_type": "markdown",
      "source": [
        "However, the disadvantage of this transformation is that the axes are now labelled with the transformed values, making it hard to interpret the plot.\n",
        "Instead of doing the transformation in the aesthetic mapping, we can instead do it with the scale.\n",
        "This is visually identical, except the axes are labelled on the original data scale.\n",
        "\n",
        "```{r}\n",
        "ggplot(diamonds, aes(x = carat, y = price)) +\n",
        "  geom_bin2d() +\n",
        "  scale_x_log10() +\n",
        "  scale_y_log10()\n",
        "```\n"
      ],
      "metadata": {
        "id": "WclgRde3MHn4"
      }
    },
    {
      "cell_type": "code",
      "source": [],
      "metadata": {
        "id": "ojz9Yz7DMMZB"
      },
      "execution_count": 1,
      "outputs": []
    },
    {
      "cell_type": "markdown",
      "source": [
        "Another scale that is frequently customized is color.\n",
        "The default categorical scale picks colors that are evenly spaced around the color wheel.\n",
        "Useful alternatives are the ColorBrewer scales which have been hand tuned to work better for people with common types of color blindness.\n",
        "The two plots below look similar, but there is enough difference in the shades of red and green that the dots on the right can be distinguished even by people with red-green color blindness.[^communication-1]\n",
        "\n",
        "[^communication-1]: You can use a tool like [SimDaltonism](https://michelf.ca/projects/sim-daltonism/) to simulate color blindness to test these images.\n",
        "\n",
        "```{r}\n",
        "ggplot(mpg, aes(x = displ, y = hwy)) +\n",
        "  geom_point(aes(color = drv))\n",
        "\n",
        "ggplot(mpg, aes(x = displ, y = hwy)) +\n",
        "  geom_point(aes(color = drv)) +\n",
        "  scale_color_brewer(palette = \"Set1\")\n",
        "```\n"
      ],
      "metadata": {
        "id": "sBpUxGAlMU7B"
      }
    },
    {
      "cell_type": "code",
      "source": [],
      "metadata": {
        "id": "j97oefSUMRYJ"
      },
      "execution_count": null,
      "outputs": []
    },
    {
      "cell_type": "markdown",
      "source": [
        "Don't forget simpler techniques for improving accessibility.\n",
        "If there are just a few colors, you can add a redundant shape mapping.\n",
        "This will also help ensure your plot is interpretable in black and white.\n",
        "\n",
        "```{r}\n",
        "ggplot(mpg, aes(x = displ, y = hwy)) +\n",
        "  geom_point(aes(color = drv, shape = drv)) +\n",
        "  scale_color_brewer(palette = \"Set1\")\n",
        "```\n"
      ],
      "metadata": {
        "id": "yE9D_7_sMWso"
      }
    },
    {
      "cell_type": "code",
      "source": [],
      "metadata": {
        "id": "9_d5kK4wMl7f"
      },
      "execution_count": null,
      "outputs": []
    },
    {
      "cell_type": "markdown",
      "source": [
        "The ColorBrewer scales are documented online at <https://colorbrewer2.org/> and made available in R via the **RColorBrewer** package, by Erich Neuwirth.\n",
        "@fig-brewer shows the complete list of all palettes.\n",
        "The sequential (top) and diverging (bottom) palettes are particularly useful if your categorical values are ordered, or have a \"middle\".\n",
        "This often arises if you've used `cut()` to make a continuous variable into a categorical variable.\n",
        "\n",
        "\n",
        "```{r}\n",
        "par(mar = c(0, 3, 0, 0))\n",
        "RColorBrewer::display.brewer.all()\n",
        "```\n"
      ],
      "metadata": {
        "id": "tKzSIdw8MqDQ"
      }
    },
    {
      "cell_type": "code",
      "source": [],
      "metadata": {
        "id": "dnUHdOLBMqr1"
      },
      "execution_count": null,
      "outputs": []
    },
    {
      "cell_type": "markdown",
      "source": [
        "When you have a predefined mapping between values and colors, use `scale_color_manual()`.\n",
        "For example, if we map presidential party to color, we want to use the standard mapping of red for Republicans and blue for Democrats.\n",
        "One approach for assigning these colors is using hex color codes:\n",
        "\n",
        "```{r}\n",
        "presidential |>\n",
        "  mutate(id = 33 + row_number()) |>\n",
        "  ggplot(aes(x = start, y = id, color = party)) +\n",
        "  geom_point() +\n",
        "  geom_segment(aes(xend = end, yend = id)) +\n",
        "  scale_color_manual(values = c(Republican = \"#E81B23\", Democratic = \"#00AEF3\"))\n",
        "```\n"
      ],
      "metadata": {
        "id": "14011L0vMu1D"
      }
    },
    {
      "cell_type": "code",
      "source": [],
      "metadata": {
        "id": "skE2SuxjMyDs"
      },
      "execution_count": null,
      "outputs": []
    },
    {
      "cell_type": "markdown",
      "source": [
        "For continuous color, you can use the built-in `scale_color_gradient()` or `scale_fill_gradient()`.\n",
        "If you have a diverging scale, you can use `scale_color_gradient2()`.\n",
        "That allows you to give, for example, positive and negative values different colors.\n",
        "That's sometimes also useful if you want to distinguish points above or below the mean.\n",
        "\n",
        "Another option is to use the viridis color scales.\n",
        "The designers, Nathaniel Smith and Stéfan van der Walt, carefully tailored continuous color schemes that are perceptible to people with various forms of color blindness as well as perceptually uniform in both color and black and white.\n",
        "These scales are available as continuous (`c`), discrete (`d`), and binned (`b`) palettes in ggplot2.\n",
        "\n",
        "```{r}\n",
        "\n",
        "df <- tibble(\n",
        "  x = rnorm(10000),\n",
        "  y = rnorm(10000)\n",
        ")\n",
        "\n",
        "ggplot(df, aes(x, y)) +\n",
        "  geom_hex() +\n",
        "  coord_fixed() +\n",
        "  labs(title = \"Default, continuous\", x = NULL, y = NULL)\n",
        "\n",
        "ggplot(df, aes(x, y)) +\n",
        "  geom_hex() +\n",
        "  coord_fixed() +\n",
        "  scale_fill_viridis_c() +\n",
        "  labs(title = \"Viridis, continuous\", x = NULL, y = NULL)\n",
        "\n",
        "ggplot(df, aes(x, y)) +\n",
        "  geom_hex() +\n",
        "  coord_fixed() +\n",
        "  scale_fill_viridis_b() +\n",
        "  labs(title = \"Viridis, binned\", x = NULL, y = NULL)\n",
        "```\n"
      ],
      "metadata": {
        "id": "kbeB2Hg4My7z"
      }
    },
    {
      "cell_type": "code",
      "source": [],
      "metadata": {
        "id": "1H2aHlk6M3sc"
      },
      "execution_count": null,
      "outputs": []
    },
    {
      "cell_type": "markdown",
      "source": [
        "Note that all color scales come in two varieties: `scale_color_*()` and `scale_fill_*()` for the `color` and `fill` aesthetics respectively (the color scales are available in both UK and US spellings).\n",
        "\n",
        "### Zooming\n",
        "\n",
        "There are three ways to control the plot limits:\n",
        "\n",
        "1.  Adjusting what data are plotted.\n",
        "2.  Setting the limits in each scale.\n",
        "3.  Setting `xlim` and `ylim` in `coord_cartesian()`.\n",
        "\n",
        "We'll demonstrate these options in a series of plots.\n",
        "The plot on the left shows the relationship between engine size and fuel efficiency, colored by type of drive train.\n",
        "The plot on the right shows the same variables, but subsets the data that are plotted.\n",
        "Subsetting the data has affected the x and y scales as well as the smooth curve.\n",
        "\n",
        "```{r}\n",
        "\n",
        "# Left\n",
        "ggplot(mpg, aes(x = displ, y = hwy)) +\n",
        "  geom_point(aes(color = drv)) +\n",
        "  geom_smooth()\n",
        "\n",
        "# Right\n",
        "mpg |>\n",
        "  filter(displ >= 5 & displ <= 6 & hwy >= 10 & hwy <= 25) |>\n",
        "  ggplot(aes(x = displ, y = hwy)) +\n",
        "  geom_point(aes(color = drv)) +\n",
        "  geom_smooth()\n",
        "```\n",
        "\n"
      ],
      "metadata": {
        "id": "4wqGdlgjM4E5"
      }
    },
    {
      "cell_type": "code",
      "source": [],
      "metadata": {
        "id": "62R8dARfM-u5"
      },
      "execution_count": null,
      "outputs": []
    },
    {
      "cell_type": "markdown",
      "source": [
        "Let's compare these to the two plots below where the plot on the left sets the `limits` on individual scales and the plot on the right sets them in `coord_cartesian()`.\n",
        "We can see that reducing the limits is equivalent to subsetting the data.\n",
        "Therefore, to zoom in on a region of the plot, it's generally best to use `coord_cartesian()`.\n",
        "\n",
        "```{r}\n",
        "# Left\n",
        "ggplot(mpg, aes(x = displ, y = hwy)) +\n",
        "  geom_point(aes(color = drv)) +\n",
        "  geom_smooth() +\n",
        "  scale_x_continuous(limits = c(5, 6)) +\n",
        "  scale_y_continuous(limits = c(10, 25))\n",
        "\n",
        "# Right\n",
        "ggplot(mpg, aes(x = displ, y = hwy)) +\n",
        "  geom_point(aes(color = drv)) +\n",
        "  geom_smooth() +\n",
        "  coord_cartesian(xlim = c(5, 6), ylim = c(10, 25))\n",
        "```\n"
      ],
      "metadata": {
        "id": "jcvRpOYgM__Z"
      }
    },
    {
      "cell_type": "code",
      "source": [],
      "metadata": {
        "id": "r43T_n0_NHLX"
      },
      "execution_count": null,
      "outputs": []
    },
    {
      "cell_type": "markdown",
      "source": [
        "On the other hand, setting the `limits` on individual scales is generally more useful if you want to *expand* the limits, e.g., to match scales across different plots.\n",
        "For example, if we extract two classes of cars and plot them separately, it's difficult to compare the plots because all three scales (the x-axis, the y-axis, and the color aesthetic) have different ranges.\n",
        "\n",
        "```{r}\n",
        "\n",
        "suv <- mpg |> filter(class == \"suv\")\n",
        "compact <- mpg |> filter(class == \"compact\")\n",
        "\n",
        "# Left\n",
        "ggplot(suv, aes(x = displ, y = hwy, color = drv)) +\n",
        "  geom_point()\n",
        "\n",
        "# Right\n",
        "ggplot(compact, aes(x = displ, y = hwy, color = drv)) +\n",
        "  geom_point()\n",
        "```\n"
      ],
      "metadata": {
        "id": "H1QrRt_ANHte"
      }
    },
    {
      "cell_type": "code",
      "source": [],
      "metadata": {
        "id": "BJf8d_bpNRem"
      },
      "execution_count": null,
      "outputs": []
    },
    {
      "cell_type": "markdown",
      "source": [
        "One way to overcome this problem is to share scales across multiple plots, training the scales with the `limits` of the full data.\n",
        "\n",
        "```{r}\n",
        "\n",
        "x_scale <- scale_x_continuous(limits = range(mpg$displ))\n",
        "y_scale <- scale_y_continuous(limits = range(mpg$hwy))\n",
        "col_scale <- scale_color_discrete(limits = unique(mpg$drv))\n",
        "\n",
        "# Left\n",
        "ggplot(suv, aes(x = displ, y = hwy, color = drv)) +\n",
        "  geom_point() +\n",
        "  x_scale +\n",
        "  y_scale +\n",
        "  col_scale\n",
        "\n",
        "# Right\n",
        "ggplot(compact, aes(x = displ, y = hwy, color = drv)) +\n",
        "  geom_point() +\n",
        "  x_scale +\n",
        "  y_scale +\n",
        "  col_scale\n",
        "```\n"
      ],
      "metadata": {
        "id": "djrSKUrnNTJq"
      }
    },
    {
      "cell_type": "code",
      "source": [],
      "metadata": {
        "id": "IU-9_md5NYDb"
      },
      "execution_count": null,
      "outputs": []
    },
    {
      "cell_type": "markdown",
      "source": [
        "In this particular case, you could have simply used faceting, but this technique is useful more generally, if for instance, you want to spread plots over multiple pages of a report.\n",
        "\n",
        "### Exercises\n",
        "\n",
        "1.  Why doesn't the following code override the default scale?\n",
        "\n",
        "    ```{r}\n",
        "    df <- tibble(\n",
        "      x = rnorm(10000),\n",
        "      y = rnorm(10000)\n",
        "    )\n",
        "\n",
        "    ggplot(df, aes(x, y)) +\n",
        "      geom_hex() +\n",
        "      scale_color_gradient(low = \"white\", high = \"red\") +\n",
        "      coord_fixed()\n",
        "    ```\n",
        "\n",
        "2.  What is the first argument to every scale?\n",
        "    How does it compare to `labs()`?\n",
        "\n",
        "3.  Change the display of the presidential terms by:\n",
        "\n",
        "    a.  Combining the two variants that customize colors and x axis breaks.\n",
        "    b.  Improving the display of the y axis.\n",
        "    c.  Labelling each term with the name of the president.\n",
        "    d.  Adding informative plot labels.\n",
        "    e.  Placing breaks every 4 years (this is trickier than it seems!).\n",
        "\n",
        "4.  First, create the following plot.\n",
        "    Then, modify the code using `override.aes` to make the legend easier to see.\n",
        "\n",
        "    ```{r}\n",
        "    ggplot(diamonds, aes(x = carat, y = price)) +\n",
        "      geom_point(aes(color = cut), alpha = 1/20)\n",
        "    ```\n"
      ],
      "metadata": {
        "id": "ShYh1fiaNYjT"
      }
    },
    {
      "cell_type": "code",
      "source": [],
      "metadata": {
        "id": "HKhhsUEHNfzR"
      },
      "execution_count": null,
      "outputs": []
    },
    {
      "cell_type": "markdown",
      "source": [
        "## Themes\n",
        "\n",
        "Finally, you can customize the non-data elements of your plot with a theme:\n",
        "\n",
        "```{r}\n",
        "\n",
        "ggplot(mpg, aes(x = displ, y = hwy)) +\n",
        "  geom_point(aes(color = class)) +\n",
        "  geom_smooth(se = FALSE) +\n",
        "  theme_bw()\n",
        "```\n"
      ],
      "metadata": {
        "id": "4A6KFsAqNlAe"
      }
    },
    {
      "cell_type": "markdown",
      "source": [
        "ggplot2 includes the eight themes shown in @fig-themes, with `theme_gray()` as the default.[^communication-2]\n",
        "Many more are included in add-on packages like **ggthemes** (<https://jrnold.github.io/ggthemes>), by Jeffrey Arnold.\n",
        "You can also create your own themes, if you are trying to match a particular corporate or journal style.\n",
        "\n",
        "[^communication-2]: Many people wonder why the default theme has a gray background.\n",
        "    This was a deliberate choice because it puts the data forward while still making the grid lines visible.\n",
        "    The white grid lines are visible (which is important because they significantly aid position judgments), but they have little visual impact and we can easily tune them out.\n",
        "    The gray background gives the plot a similar typographic color to the text, ensuring that the graphics fit in with the flow of a document without jumping out with a bright white background.\n",
        "    Finally, the gray background creates a continuous field of color which ensures that the plot is perceived as a single visual entity.\n",
        "\n",
        "\n",
        "![Communication2](https://raw.githubusercontent.com/ricardo-rios/fund_prog_est/main/images/visualization-themes.png)"
      ],
      "metadata": {
        "id": "p_H6kwtzNst8"
      }
    },
    {
      "cell_type": "code",
      "source": [],
      "metadata": {
        "id": "n6xfrQCXNmJH"
      },
      "execution_count": null,
      "outputs": []
    },
    {
      "cell_type": "markdown",
      "source": [
        "It's also possible to control individual components of each theme, like the size and color of the font used for the y axis.\n",
        "We've already seen that `legend.position` controls where the legend is drawn.\n",
        "There are many other aspects of the legend that can be customized with `theme()`.\n",
        "For example, in the plot below we change the direction of the legend as well as put a black border around it.\n",
        "Note that customization of the legend box and plot title elements of the theme are done with `element_*()` functions.\n",
        "These functions specify the styling of non-data components, e.g., the title text is bolded in the `face` argument of `element_text()` and the legend border color is defined in the `color` argument of `element_rect()`.\n",
        "The theme elements that control the position of the title and the caption are `plot.title.position` and `plot.caption.position`, respectively.\n",
        "In the following plot these are set to `\"plot\"` to indicate these elements are aligned to the entire plot area, instead of the plot panel (the default).\n",
        "A few other helpful `theme()` components are used to change the placement for format of the title and caption text.\n",
        "\n",
        "```{r}\n",
        "ggplot(mpg, aes(x = displ, y = hwy, color = drv)) +\n",
        "  geom_point() +\n",
        "  labs(\n",
        "    title = \"Larger engine sizes tend to have lower fuel economy\",\n",
        "    caption = \"Source: https://fueleconomy.gov.\"\n",
        "  ) +\n",
        "  theme(\n",
        "    legend.position = c(0.6, 0.7),\n",
        "    legend.direction = \"horizontal\",\n",
        "    legend.box.background = element_rect(color = \"black\"),\n",
        "    plot.title = element_text(face = \"bold\"),\n",
        "    plot.title.position = \"plot\",\n",
        "    plot.caption.position = \"plot\",\n",
        "    plot.caption = element_text(hjust = 0)\n",
        "  )\n",
        "```\n"
      ],
      "metadata": {
        "id": "B1t6nJanN0G5"
      }
    },
    {
      "cell_type": "markdown",
      "source": [
        "For an overview of all `theme()` components, see help with `?theme`.\n",
        "The [ggplot2 book](https://ggplot2-book.org/) is also a great place to go for the full details on theming.\n",
        "\n",
        "### Exercises\n",
        "\n",
        "1.  Pick a theme offered by the ggthemes package and apply it to the last plot you made.\n",
        "2.  Make the axis labels of your plot blue and bolded.\n"
      ],
      "metadata": {
        "id": "A1Kn1lB6N9GO"
      }
    },
    {
      "cell_type": "code",
      "source": [],
      "metadata": {
        "id": "1BF-vBh0N3Wz"
      },
      "execution_count": null,
      "outputs": []
    },
    {
      "cell_type": "markdown",
      "source": [
        "## Layout\n",
        "\n",
        "So far we talked about how to create and modify a single plot.\n",
        "What if you have multiple plots you want to lay out in a certain way?\n",
        "The patchwork package allows you to combine separate plots into the same graphic.\n",
        "We loaded this package earlier in the chapter.\n",
        "\n",
        "To place two plots next to each other, you can simply add them to each other.\n",
        "Note that you first need to create the plots and save them as objects (in the following example they're called `p1` and `p2`).\n",
        "Then, you place them next to each other with `+`.\n",
        "\n",
        "```{r}\n",
        "\n",
        "p1 <- ggplot(mpg, aes(x = displ, y = hwy)) +\n",
        "  geom_point() +\n",
        "  labs(title = \"Plot 1\")\n",
        "p2 <- ggplot(mpg, aes(x = drv, y = hwy)) +\n",
        "  geom_boxplot() +\n",
        "  labs(title = \"Plot 2\")\n",
        "p1 + p2\n",
        "```\n"
      ],
      "metadata": {
        "id": "TWXAPesTOCyE"
      }
    },
    {
      "cell_type": "code",
      "source": [],
      "metadata": {
        "id": "TfiutxYAOEO-"
      },
      "execution_count": null,
      "outputs": []
    },
    {
      "cell_type": "markdown",
      "source": [
        "It's important to note that in the above code chunk we did not use a new function from the patchwork package.\n",
        "Instead, the package added a new functionality to the `+` operator.\n",
        "\n",
        "You can also create complex plot layouts with patchwork.\n",
        "In the following, `|` places the `p1` and `p3` next to each other and `/` moves `p2` to the next line.\n",
        "\n",
        "```{r}\n",
        "p3 <- ggplot(mpg, aes(x = cty, y = hwy)) +\n",
        "  geom_point() +\n",
        "  labs(title = \"Plot 3\")\n",
        "(p1 | p3) / p2\n",
        "```\n"
      ],
      "metadata": {
        "id": "YcCbr2n6OExD"
      }
    },
    {
      "cell_type": "code",
      "source": [],
      "metadata": {
        "id": "aKU-nSyzOIk0"
      },
      "execution_count": null,
      "outputs": []
    },
    {
      "cell_type": "markdown",
      "source": [
        "Additionally, patchwork allows you to collect legends from multiple plots into one common legend, customize the placement of the legend as well as dimensions of the plots, and add a common title, subtitle, caption, etc. to your plots.\n",
        "Below we create 5 plots.\n",
        "We have turned off the legends on the box plots and the scatterplot and collected the legends for the density plots at the top of the plot with `& theme(legend.position = \"top\")`.\n",
        "Note the use of the `&` operator here instead of the usual `+`.\n",
        "This is because we're modifying the theme for the patchwork plot as opposed to the individual ggplots.\n",
        "The legend is placed on top, inside the `guide_area()`.\n",
        "Finally, we have also customized the heights of the various components of our patchwork -- the guide has a height of 1, the box plots 3, density plots 2, and the faceted scatterplot 4.\n",
        "Patchwork divides up the area you have allotted for your plot using this scale and places the components accordingly.\n",
        "\n",
        "```{r}\n",
        "\n",
        "p1 <- ggplot(mpg, aes(x = drv, y = cty, color = drv)) +\n",
        "  geom_boxplot(show.legend = FALSE) +\n",
        "  labs(title = \"Plot 1\")\n",
        "\n",
        "p2 <- ggplot(mpg, aes(x = drv, y = hwy, color = drv)) +\n",
        "  geom_boxplot(show.legend = FALSE) +\n",
        "  labs(title = \"Plot 2\")\n",
        "\n",
        "p3 <- ggplot(mpg, aes(x = cty, color = drv, fill = drv)) +\n",
        "  geom_density(alpha = 0.5) +\n",
        "  labs(title = \"Plot 3\")\n",
        "\n",
        "p4 <- ggplot(mpg, aes(x = hwy, color = drv, fill = drv)) +\n",
        "  geom_density(alpha = 0.5) +\n",
        "  labs(title = \"Plot 4\")\n",
        "\n",
        "p5 <- ggplot(mpg, aes(x = cty, y = hwy, color = drv)) +\n",
        "  geom_point(show.legend = FALSE) +\n",
        "  facet_wrap(~drv) +\n",
        "  labs(title = \"Plot 5\")\n",
        "\n",
        "(guide_area() / (p1 + p2) / (p3 + p4) / p5) +\n",
        "  plot_annotation(\n",
        "    title = \"City and highway mileage for cars with different drive trains\",\n",
        "    caption = \"Source: https://fueleconomy.gov.\"\n",
        "  ) +\n",
        "  plot_layout(\n",
        "    guides = \"collect\",\n",
        "    heights = c(1, 3, 2, 4)\n",
        "    ) &\n",
        "  theme(legend.position = \"top\")\n",
        "```\n"
      ],
      "metadata": {
        "id": "P9zkbb99OJCy"
      }
    },
    {
      "cell_type": "code",
      "source": [],
      "metadata": {
        "id": "ULSk4cxFOOqq"
      },
      "execution_count": null,
      "outputs": []
    },
    {
      "cell_type": "markdown",
      "source": [
        "If you'd like to learn more about combining and layout out multiple plots with patchwork, we recommend looking through the guides on the package website: <https://patchwork.data-imaginist.com>.\n",
        "\n",
        "### Exercises\n",
        "\n",
        "1.  What happens if you omit the parentheses in the following plot layout.\n",
        "    Can you explain why this happens?\n",
        "\n",
        "    ```{r}\n",
        "    p1 <- ggplot(mpg, aes(x = displ, y = hwy)) +\n",
        "      geom_point() +\n",
        "      labs(title = \"Plot 1\")\n",
        "    p2 <- ggplot(mpg, aes(x = drv, y = hwy)) +\n",
        "      geom_boxplot() +\n",
        "      labs(title = \"Plot 2\")\n",
        "    p3 <- ggplot(mpg, aes(x = cty, y = hwy)) +\n",
        "      geom_point() +\n",
        "      labs(title = \"Plot 3\")\n",
        "\n",
        "    (p1 | p2) / p3\n",
        "    ```\n",
        "\n",
        "2.  Using the three plots from the previous exercise, recreate the following patchwork.\n",
        "\n",
        "    ```{r}\n",
        "    p1 / (p2 + p3) +\n",
        "      plot_annotation(\n",
        "        tag_levels = c(\"A\"),\n",
        "        tag_prefix = \"Fig. \",\n",
        "        tag_suffix = \":\"\n",
        "      )\n",
        "    ```\n"
      ],
      "metadata": {
        "id": "yNkf_Z6jOPEx"
      }
    },
    {
      "cell_type": "markdown",
      "source": [
        "## Summary\n",
        "\n",
        "In this chapter you've learned about adding plot labels such as title, subtitle, caption as well as modifying default axis labels, using annotation to add informational text to your plot or to highlight specific data points, customizing the axis scales, and changing the theme of your plot.\n",
        "You've also learned about combining multiple plots in a single graph using both simple and complex plot layouts.\n",
        "\n",
        "While you've so far learned about how to make many different types of plots and how to customize them using a variety of techniques, we've barely scratched the surface of what you can create with ggplot2.\n",
        "If you want to get a comprehensive understanding of ggplot2, we recommend reading the book, [*ggplot2: Elegant Graphics for Data Analysis*](https://ggplot2-book.org).\n",
        "Other useful resources are the [*R Graphics Cookbook*](https://r-graphics.org) by Winston Chang and [*Fundamentals of Data Visualization*](https://clauswilke.com/dataviz/) by Claus Wilke."
      ],
      "metadata": {
        "id": "SRbPhSLIOeeb"
      }
    },
    {
      "cell_type": "code",
      "source": [],
      "metadata": {
        "id": "cBlMcNGzOfA0"
      },
      "execution_count": null,
      "outputs": []
    }
  ],
  "metadata": {
    "kernelspec": {
      "name": "python3",
      "language": "python",
      "display_name": "Python 3"
    },
    "colab": {
      "provenance": []
    }
  },
  "nbformat": 4,
  "nbformat_minor": 0
}