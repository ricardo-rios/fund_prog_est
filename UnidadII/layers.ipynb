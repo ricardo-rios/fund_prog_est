{
  "cells": [
    {
      "cell_type": "markdown",
      "source": [
        "# Layers\n",
        "\n",
        "```{r}\n",
        "source(\"https://raw.githubusercontent.com/ricardo-rios/fund_prog_est/main/_common.R\")\n",
        "```\n"
      ],
      "metadata": {
        "id": "4Gi7PNzOIsGX"
      }
    },
    {
      "cell_type": "code",
      "source": [],
      "metadata": {
        "id": "YG0fMQG0IyIl"
      },
      "execution_count": 1,
      "outputs": []
    },
    {
      "cell_type": "markdown",
      "source": [
        "## Introduction\n",
        "\n",
        "In @sec-data-visualization, you learned much more than just how to make scatterplots, bar charts, and boxplots.\n",
        "You learned a foundation that you can use to make *any* type of plot with ggplot2.\n",
        "\n",
        "In this chapter, you'll expand on that foundation as you learn about the layered grammar of graphics.\n",
        "We'll start with a deeper dive into aesthetic mappings, geometric objects, and facets.\n",
        "Then, you will learn about statistical transformations ggplot2 makes under the hood when creating a plot.\n",
        "These transformations are used to calculate new values to plot, such as the heights of bars in a bar plot or medians in a box plot.\n",
        "You will also learn about position adjustments, which modify how geoms are displayed in your plots.\n",
        "Finally, we'll briefly introduce coordinate systems.\n",
        "\n",
        "We will not cover every single function and option for each of these layers, but we will walk you through the most important and commonly used functionality provided by ggplot2 as well as introduce you to packages that extend ggplot2.\n"
      ],
      "metadata": {
        "id": "KF9_7dGiJQGC"
      }
    },
    {
      "cell_type": "markdown",
      "source": [
        "### Prerequisites\n",
        "\n",
        "This chapter focuses on ggplot2.\n",
        "To access the datasets, help pages, and functions used in this chapter, load the tidyverse by running this code:\n",
        "\n",
        "```{r}\n",
        "library(tidyverse)\n",
        "```\n"
      ],
      "metadata": {
        "id": "S8cIBuRJJciQ"
      }
    },
    {
      "cell_type": "code",
      "source": [],
      "metadata": {
        "id": "Pk63C_VtJWWg"
      },
      "execution_count": 4,
      "outputs": []
    },
    {
      "cell_type": "markdown",
      "source": [
        "## Aesthetic mappings\n",
        "\n",
        "> \"The greatest value of a picture is when it forces us to notice what we never expected to see.\" --- John Tukey\n",
        "\n",
        "Remember that the `mpg` data frame bundled with the ggplot2 package contains `r nrow(mpg)` observations on `r mpg |> distinct(model) |> nrow()` car models.\n",
        "\n",
        "```{r}\n",
        "mpg\n",
        "```\n"
      ],
      "metadata": {
        "id": "3GeNcDoAJeSW"
      }
    },
    {
      "cell_type": "code",
      "source": [],
      "metadata": {
        "id": "GnSSkzJbJhLt"
      },
      "execution_count": null,
      "outputs": []
    },
    {
      "cell_type": "markdown",
      "source": [
        "Among the variables in `mpg` are:\n",
        "\n",
        "1.  `displ`: A car's engine size, in liters.\n",
        "    A numerical variable.\n",
        "\n",
        "2.  `hwy`: A car's fuel efficiency on the highway, in miles per gallon (mpg).\n",
        "    A car with a low fuel efficiency consumes more fuel than a car with a high fuel efficiency when they travel the same distance.\n",
        "    A numerical variable.\n",
        "\n",
        "3.  `class`: Type of car.\n",
        "    A categorical variable.\n",
        "\n",
        "Let's start by visualizing the relationship between `displ` and `hwy` for various `class`es of cars.\n",
        "We can do this with a scatterplot where the numerical variables are mapped to the `x` and `y` aesthetics and the categorical variable is mapped to an aesthetic like `color` or `shape`.\n",
        "\n",
        "```{r}\n",
        "# Left\n",
        "ggplot(mpg, aes(x = displ, y = hwy, color = class)) +\n",
        "  geom_point()\n",
        "\n",
        "# Right\n",
        "ggplot(mpg, aes(x = displ, y = hwy, shape = class)) +\n",
        "  geom_point()\n",
        "```\n"
      ],
      "metadata": {
        "id": "9eCY9Cx4JiWc"
      }
    },
    {
      "cell_type": "code",
      "source": [],
      "metadata": {
        "id": "889AykVhJn56"
      },
      "execution_count": 7,
      "outputs": []
    },
    {
      "cell_type": "markdown",
      "source": [
        "\n",
        "When `class` is mapped to `shape`, we get two warnings:\n",
        "\n",
        "> 1: The shape palette can deal with a maximum of 6 discrete values because more than 6 becomes difficult to discriminate; you have 7.\n",
        "> Consider specifying shapes manually if you must have them.\n",
        ">\n",
        "> 2: Removed 62 rows containing missing values (`geom_point()`).\n",
        "\n",
        "Since ggplot2 will only use six shapes at a time, by default, additional groups will go unplotted when you use the shape aesthetic.\n",
        "The second warning is related -- there are 62 SUVs in the dataset and they're not plotted.\n",
        "\n",
        "Similarly, we can map `class` to `size` or `alpha` aesthetics as well, which control the shape and the transparency of the points, respectively.\n",
        "\n",
        "```{r}\n",
        "\n",
        "# Left\n",
        "ggplot(mpg, aes(x = displ, y = hwy, size = class)) +\n",
        "  geom_point()\n",
        "\n",
        "# Right\n",
        "ggplot(mpg, aes(x = displ, y = hwy, alpha = class)) +\n",
        "  geom_point()\n",
        "```\n"
      ],
      "metadata": {
        "id": "eHAyzbtdJ0S3"
      }
    },
    {
      "cell_type": "code",
      "source": [],
      "metadata": {
        "id": "JR1LBc0uJ_qL"
      },
      "execution_count": null,
      "outputs": []
    },
    {
      "cell_type": "markdown",
      "source": [
        "Both of these produce warnings as well:\n",
        "\n",
        "> Using alpha for a discrete variable is not advised.\n",
        "\n",
        "Mapping an unordered discrete (categorical) variable (`class`) to an ordered aesthetic (`size` or `alpha`) is generally not a good idea because it implies a ranking that does not in fact exist.\n",
        "\n",
        "Once you map an aesthetic, ggplot2 takes care of the rest.\n",
        "It selects a reasonable scale to use with the aesthetic, and it constructs a legend that explains the mapping between levels and values.\n",
        "For x and y aesthetics, ggplot2 does not create a legend, but it creates an axis line with tick marks and a label.\n",
        "The axis line provides the same information as a legend; it explains the mapping between locations and values.\n",
        "\n",
        "You can also set the visual properties of your geom manually as an argument of your geom function (*outside* of `aes()`) instead of relying on a variable mapping to determine the appearance.\n",
        "For example, we can make all of the points in our plot blue:\n",
        "\n",
        "```{r}\n",
        "ggplot(mpg, aes(x = displ, y = hwy)) +\n",
        "  geom_point(color = \"blue\")\n",
        "```\n"
      ],
      "metadata": {
        "id": "7QWwy3PaKAt6"
      }
    },
    {
      "cell_type": "code",
      "source": [],
      "metadata": {
        "id": "CJi_urTwKD64"
      },
      "execution_count": 9,
      "outputs": []
    },
    {
      "cell_type": "markdown",
      "source": [
        "Here, the color doesn't convey information about a variable, but only changes the appearance of the plot.\n",
        "You'll need to pick a value that makes sense for that aesthetic:\n",
        "\n",
        "-   The name of a color as a character string, e.g., `color = \"blue\"`\n",
        "-   The size of a point in mm, e.g., `size = 1`\n",
        "-   The shape of a point as a number, e.g, `shape = 1`, as shown in @fig-shapes.\n",
        "\n",
        "```{r}\n",
        "\n",
        "shapes <- tibble(\n",
        "  shape = c(0, 1, 2, 5, 3, 4, 6:19, 22, 21, 24, 23, 20),\n",
        "  x = (0:24 %/% 5) / 2,\n",
        "  y = (-(0:24 %% 5)) / 4\n",
        ")\n",
        "ggplot(shapes, aes(x, y)) +\n",
        "  geom_point(aes(shape = shape), size = 5, fill = \"red\") +\n",
        "  geom_text(aes(label = shape), hjust = 0, nudge_x = 0.15) +\n",
        "  scale_shape_identity() +\n",
        "  expand_limits(x = 4.1) +\n",
        "  scale_x_continuous(NULL, breaks = NULL) +\n",
        "  scale_y_continuous(NULL, breaks = NULL, limits = c(-1.2, 0.2)) +\n",
        "  theme_minimal() +\n",
        "  theme(aspect.ratio = 1/2.75)\n",
        "```\n"
      ],
      "metadata": {
        "id": "mnetd_yaKLht"
      }
    },
    {
      "cell_type": "code",
      "source": [],
      "metadata": {
        "id": "EOk6eTgoKVHi"
      },
      "execution_count": 11,
      "outputs": []
    },
    {
      "cell_type": "markdown",
      "source": [
        "So far we have discussed aesthetics that we can map or set in a scatterplot, when using a point geom.\n",
        "You can learn more about all possible aesthetic mappings in the aesthetic specifications vignette at <https://ggplot2.tidyverse.org/articles/ggplot2-specs.html>.\n",
        "\n",
        "The specific aesthetics you can use for a plot depend on the geom you use to represent the data.\n",
        "In the next section we dive deeper into geoms.\n",
        "\n",
        "### Exercises\n",
        "\n",
        "1.  Create a scatterplot of `hwy` vs. `displ` where the points are pink filled in triangles.\n",
        "\n",
        "2.  Why did the following code not result in a plot with blue points?\n",
        "\n",
        "    ```{r}\n",
        "    ggplot(mpg) +\n",
        "      geom_point(aes(x = displ, y = hwy, color = \"blue\"))\n",
        "    ```\n"
      ],
      "metadata": {
        "id": "FBnGaMI5KaHA"
      }
    },
    {
      "cell_type": "code",
      "source": [],
      "metadata": {
        "id": "8ymf7UpGKXoy"
      },
      "execution_count": 13,
      "outputs": []
    },
    {
      "cell_type": "markdown",
      "source": [
        "3.  What does the `stroke` aesthetic do?\n",
        "    What shapes does it work with?\n",
        "    (Hint: use `?geom_point`)\n",
        "\n",
        "4.  What happens if you map an aesthetic to something other than a variable name, like `aes(color = displ < 5)`?\n",
        "    Note, you'll also need to specify x and y.\n"
      ],
      "metadata": {
        "id": "V0KT34SLLc8w"
      }
    },
    {
      "cell_type": "markdown",
      "source": [
        "## Geometric objects {#sec-geometric-objects}\n",
        "\n",
        "How are these two plots similar?\n",
        "\n",
        "```{r}\n",
        "\n",
        "ggplot(mpg, aes(x = displ, y = hwy)) +\n",
        "  geom_point()\n",
        "\n",
        "ggplot(mpg, aes(x = displ, y = hwy)) +\n",
        "  geom_smooth()\n",
        "```\n"
      ],
      "metadata": {
        "id": "GSqIhj5mLibl"
      }
    },
    {
      "cell_type": "code",
      "source": [],
      "metadata": {
        "id": "mbo3qceLKjVt"
      },
      "execution_count": null,
      "outputs": []
    },
    {
      "cell_type": "markdown",
      "source": [
        "Both plots contain the same x variable, the same y variable, and both describe the same data.\n",
        "But the plots are not identical.\n",
        "Each plot uses a different geometric object, geom, to represent the data.\n",
        "The plot on the left uses the point geom, and the plot on the right uses the smooth geom, a smooth line fitted to the data.\n",
        "\n",
        "To change the geom in your plot, change the geom function that you add to `ggplot()`.\n",
        "For instance, to make the plots above, you can use the following code:\n",
        "\n",
        "```{r}\n",
        "\n",
        "# Left\n",
        "ggplot(mpg, aes(x = displ, y = hwy)) +\n",
        "  geom_point()\n",
        "\n",
        "# Right\n",
        "ggplot(mpg, aes(x = displ, y = hwy)) +\n",
        "  geom_smooth()\n",
        "```\n"
      ],
      "metadata": {
        "id": "10f0yd65LtRB"
      }
    },
    {
      "cell_type": "code",
      "source": [],
      "metadata": {
        "id": "_LgnhAV7LtzJ"
      },
      "execution_count": null,
      "outputs": []
    },
    {
      "cell_type": "markdown",
      "source": [
        "Every geom function in ggplot2 takes a `mapping` argument, either defined locally in the geom layer or globally in the `ggplot()` layer.\n",
        "However, not every aesthetic works with every geom.\n",
        "You could set the shape of a point, but you couldn't set the \"shape\" of a line.\n",
        "If you try, ggplot2 will silently ignore that aesthetic mapping.\n",
        "On the other hand, you *could* set the linetype of a line.\n",
        "`geom_smooth()` will draw a different line, with a different linetype, for each unique value of the variable that you map to linetype.\n",
        "\n",
        "```{r}\n",
        "\n",
        "# Left\n",
        "ggplot(mpg, aes(x = displ, y = hwy, shape = drv)) +\n",
        "  geom_smooth()\n",
        "\n",
        "# Right\n",
        "ggplot(mpg, aes(x = displ, y = hwy, linetype = drv)) +\n",
        "  geom_smooth()\n",
        "```\n"
      ],
      "metadata": {
        "id": "MBgpbFyKL3kH"
      }
    },
    {
      "cell_type": "code",
      "source": [],
      "metadata": {
        "id": "JwsBewm6L5gF"
      },
      "execution_count": null,
      "outputs": []
    },
    {
      "cell_type": "markdown",
      "source": [
        "Here, `geom_smooth()` separates the cars into three lines based on their `drv` value, which describes a car's drive train.\n",
        "One line describes all of the points that have a `4` value, one line describes all of the points that have an `f` value, and one line describes all of the points that have an `r` value.\n",
        "Here, `4` stands for four-wheel drive, `f` for front-wheel drive, and `r` for rear-wheel drive.\n",
        "\n",
        "If this sounds strange, we can make it clearer by overlaying the lines on top of the raw data and then coloring everything according to `drv`.\n",
        "\n",
        "```{r}\n",
        "\n",
        "ggplot(mpg, aes(x = displ, y = hwy, color = drv)) +\n",
        "  geom_point() +\n",
        "  geom_smooth(aes(linetype = drv))\n",
        "```\n"
      ],
      "metadata": {
        "id": "f4VyLYR3MexQ"
      }
    },
    {
      "cell_type": "code",
      "source": [],
      "metadata": {
        "id": "9fuaVNWnMg4J"
      },
      "execution_count": null,
      "outputs": []
    },
    {
      "cell_type": "markdown",
      "source": [
        "Notice that this plot contains two geoms in the same graph.\n",
        "\n",
        "Many geoms, like `geom_smooth()`, use a single geometric object to display multiple rows of data.\n",
        "For these geoms, you can set the `group` aesthetic to a categorical variable to draw multiple objects.\n",
        "ggplot2 will draw a separate object for each unique value of the grouping variable.\n",
        "In practice, ggplot2 will automatically group the data for these geoms whenever you map an aesthetic to a discrete variable (as in the `linetype` example).\n",
        "It is convenient to rely on this feature because the `group` aesthetic by itself does not add a legend or distinguishing features to the geoms.\n",
        "\n",
        "```{r}\n",
        "\n",
        "# Left\n",
        "ggplot(mpg, aes(x = displ, y = hwy)) +\n",
        "  geom_smooth()\n",
        "\n",
        "# Middle\n",
        "ggplot(mpg, aes(x = displ, y = hwy)) +\n",
        "  geom_smooth(aes(group = drv))\n",
        "\n",
        "# Right\n",
        "ggplot(mpg, aes(x = displ, y = hwy)) +\n",
        "  geom_smooth(aes(color = drv), show.legend = FALSE)\n",
        "```\n"
      ],
      "metadata": {
        "id": "vVSvlM5gMqj-"
      }
    },
    {
      "cell_type": "code",
      "source": [],
      "metadata": {
        "id": "tmskG2u6Mzpr"
      },
      "execution_count": null,
      "outputs": []
    },
    {
      "cell_type": "markdown",
      "source": [
        "If you place mappings in a geom function, ggplot2 will treat them as local mappings for the layer.\n",
        "It will use these mappings to extend or overwrite the global mappings *for that layer only*.\n",
        "This makes it possible to display different aesthetics in different layers.\n",
        "\n",
        "```{r}\n",
        "\n",
        "ggplot(mpg, aes(x = displ, y = hwy)) +\n",
        "  geom_point(aes(color = class)) +\n",
        "  geom_smooth()\n",
        "```\n"
      ],
      "metadata": {
        "id": "oCAiZdi_Mz_8"
      }
    },
    {
      "cell_type": "code",
      "source": [],
      "metadata": {
        "id": "gtuwWm2tNB8w"
      },
      "execution_count": null,
      "outputs": []
    },
    {
      "cell_type": "markdown",
      "source": [
        "You can use the same idea to specify different `data` for each layer.\n",
        "Here, we use red points as well as open circles to highlight two-seater cars.\n",
        "The local data argument in `geom_point()` overrides the global data argument in `ggplot()` for that layer only.\n",
        "\n",
        "```{r}\n",
        "\n",
        "ggplot(mpg, aes(x = displ, y = hwy)) +\n",
        "  geom_point() +\n",
        "  geom_point(\n",
        "    data = mpg |> filter(class == \"2seater\"),\n",
        "    color = \"red\"\n",
        "  ) +\n",
        "  geom_point(\n",
        "    data = mpg |> filter(class == \"2seater\"),\n",
        "    shape = \"circle open\", size = 3, color = \"red\"\n",
        "  )\n",
        "```\n"
      ],
      "metadata": {
        "id": "cXv1V2CaNCRH"
      }
    },
    {
      "cell_type": "code",
      "source": [],
      "metadata": {
        "id": "INjjzvIHNGJH"
      },
      "execution_count": null,
      "outputs": []
    },
    {
      "cell_type": "markdown",
      "source": [
        "Geoms are the fundamental building blocks of ggplot2.\n",
        "You can completely transform the look of your plot by changing its geom, and different geoms can reveal different features of your data.\n",
        "For example, the histogram and density plot below reveal that the distribution of highway mileage is bimodal and right skewed while the boxplot reveals two potential outliers.\n",
        "\n",
        "```{r}\n",
        "\n",
        "# Left\n",
        "ggplot(mpg, aes(x = hwy)) +\n",
        "  geom_histogram(binwidth = 2)\n",
        "\n",
        "# Middle\n",
        "ggplot(mpg, aes(x = hwy)) +\n",
        "  geom_density()\n",
        "\n",
        "# Right\n",
        "ggplot(mpg, aes(x = hwy)) +\n",
        "  geom_boxplot()\n",
        "```\n"
      ],
      "metadata": {
        "id": "ztQ-GgvHN2Qw"
      }
    },
    {
      "cell_type": "code",
      "source": [],
      "metadata": {
        "id": "UcDMXJjKOOFJ"
      },
      "execution_count": null,
      "outputs": []
    },
    {
      "cell_type": "markdown",
      "source": [
        "ggplot2 provides more than 40 geoms but these don't cover all possible plots one could make.\n",
        "If you need a different geom, we recommend looking into extension packages first to see if someone else has already implemented it (see <https://exts.ggplot2.tidyverse.org/gallery/> for a sampling).\n",
        "For example, the **ggridges** package ([https://wilkelab.org/ggridges](https://wilkelab.org/ggridges/){.uri}) is useful for making ridgeline plots, which can be useful for visualizing the density of a numerical variable for different levels of a categorical variable.\n",
        "In the following plot not only did we use a new geom (`geom_density_ridges()`), but we have also mapped the same variable to multiple aesthetics (`drv` to `y`, `fill`, and `color`) as well as set an aesthetic (`alpha = 0.5`) to make the density curves transparent.\n",
        "\n",
        "```{r}\n",
        "\n",
        "library(ggridges)\n",
        "\n",
        "ggplot(mpg, aes(x = hwy, y = drv, fill = drv, color = drv)) +\n",
        "  geom_density_ridges(alpha = 0.5, show.legend = FALSE)\n",
        "```\n"
      ],
      "metadata": {
        "id": "H1N5i3_xORKn"
      }
    },
    {
      "cell_type": "code",
      "source": [],
      "metadata": {
        "id": "KATRFRRyOU-n"
      },
      "execution_count": null,
      "outputs": []
    },
    {
      "cell_type": "markdown",
      "source": [
        "The best place to get a comprehensive overview of all of the geoms ggplot2 offers, as well as all functions in the package, is the reference page: <https://ggplot2.tidyverse.org/reference>.\n",
        "To learn more about any single geom, use the help (e.g., `?geom_smooth`).\n",
        "\n",
        "### Exercises\n",
        "\n",
        "1.  What geom would you use to draw a line chart?\n",
        "    A boxplot?\n",
        "    A histogram?\n",
        "    An area chart?\n",
        "\n",
        "2.  Earlier in this chapter we used `show.legend` without explaining it:\n",
        "\n",
        "    ```{r}\n",
        "\n",
        "    ggplot(mpg, aes(x = displ, y = hwy)) +\n",
        "      geom_smooth(aes(color = drv), show.legend = FALSE)\n",
        "    ```\n",
        "\n",
        "    What does `show.legend = FALSE` do here?\n",
        "    What happens if you remove it?\n",
        "    Why do you think we used it earlier?\n",
        "\n",
        "3.  What does the `se` argument to `geom_smooth()` do?\n",
        "\n",
        "4.  Recreate the R code necessary to generate the following graphs.\n",
        "    Note that wherever a categorical variable is used in the plot, it's `drv`.\n",
        "\n",
        "    ```{r}\n",
        "    ggplot(mpg, aes(x = displ, y = hwy)) +\n",
        "      geom_point() +\n",
        "      geom_smooth(se = FALSE)\n",
        "    ggplot(mpg, aes(x = displ, y = hwy)) +\n",
        "      geom_smooth(aes(group = drv), se = FALSE) +\n",
        "      geom_point()\n",
        "    ggplot(mpg, aes(x = displ, y = hwy, color = drv)) +\n",
        "      geom_point() +\n",
        "      geom_smooth(se = FALSE)\n",
        "    ggplot(mpg, aes(x = displ, y = hwy)) +\n",
        "      geom_point(aes(color = drv)) +\n",
        "      geom_smooth(se = FALSE)\n",
        "    ggplot(mpg, aes(x = displ, y = hwy)) +\n",
        "      geom_point(aes(color = drv)) +\n",
        "      geom_smooth(aes(linetype = drv), se = FALSE)\n",
        "    ggplot(mpg, aes(x = displ, y = hwy)) +\n",
        "      geom_point(size = 4, color = \"white\") +\n",
        "      geom_point(aes(color = drv))\n",
        "    ```\n"
      ],
      "metadata": {
        "id": "1au3BtTpOYcM"
      }
    },
    {
      "cell_type": "code",
      "source": [],
      "metadata": {
        "id": "6TaHpaKZOh7M"
      },
      "execution_count": null,
      "outputs": []
    },
    {
      "cell_type": "markdown",
      "source": [
        "## Facets\n",
        "\n",
        "In @sec-data-visualization you learned about faceting with `facet_wrap()`, which splits a plot into subplots that each display one subset of the data based on a categorical variable.\n",
        "\n",
        "```{r}\n",
        "\n",
        "ggplot(mpg, aes(x = displ, y = hwy)) +\n",
        "  geom_point() +\n",
        "  facet_wrap(~cyl)\n",
        "```\n"
      ],
      "metadata": {
        "id": "zoxPI3LUOlu5"
      }
    },
    {
      "cell_type": "code",
      "source": [],
      "metadata": {
        "id": "9YNfc9rVOps4"
      },
      "execution_count": null,
      "outputs": []
    },
    {
      "cell_type": "markdown",
      "source": [
        "To facet your plot with the combination of two variables, switch from `facet_wrap()` to `facet_grid()`.\n",
        "The first argument of `facet_grid()` is also a formula, but now it's a double sided formula: `rows ~ cols`.\n",
        "\n",
        "```{r}\n",
        "\n",
        "ggplot(mpg, aes(x = displ, y = hwy)) +\n",
        "  geom_point() +\n",
        "  facet_grid(drv ~ cyl)\n",
        "```\n"
      ],
      "metadata": {
        "id": "8txATsiTOqJP"
      }
    },
    {
      "cell_type": "code",
      "source": [],
      "metadata": {
        "id": "6YVXqc19OtgS"
      },
      "execution_count": null,
      "outputs": []
    },
    {
      "cell_type": "markdown",
      "source": [
        "By default each of the facets share the same scale and range for x and y axes.\n",
        "This is useful when you want to compare data across facets but it can be limiting when you want to visualize the relationship within each facet better.\n",
        "Setting the `scales` argument in a faceting function to `\"free\"` will allow for different axis scales across both rows and columns, `\"free_x\"` will allow for different scales across rows, and `\"free_y\"` will allow for different scales across columns.\n",
        "\n",
        "```{r}\n",
        "\n",
        "ggplot(mpg, aes(x = displ, y = hwy)) +\n",
        "  geom_point() +\n",
        "  facet_grid(drv ~ cyl, scales = \"free_y\")\n",
        "```\n"
      ],
      "metadata": {
        "id": "VuLpNPi-Ot61"
      }
    },
    {
      "cell_type": "code",
      "source": [],
      "metadata": {
        "id": "o1MOiHnzOxZ9"
      },
      "execution_count": null,
      "outputs": []
    },
    {
      "cell_type": "markdown",
      "source": [
        "### Exercises\n",
        "\n",
        "1.  What happens if you facet on a continuous variable?\n",
        "\n",
        "2.  What do the empty cells in the plot above with `facet_grid(drv ~ cyl)` mean?\n",
        "    Run the following code.\n",
        "    How do they relate to the resulting plot?\n",
        "\n",
        "    ```{r}\n",
        "    ggplot(mpg) +\n",
        "      geom_point(aes(x = drv, y = cyl))\n",
        "    ```\n",
        "\n",
        "3.  What plots does the following code make?\n",
        "    What does `.` do?\n",
        "\n",
        "    ```{r}\n",
        "\n",
        "    ggplot(mpg) +\n",
        "      geom_point(aes(x = displ, y = hwy)) +\n",
        "      facet_grid(drv ~ .)\n",
        "\n",
        "    ggplot(mpg) +\n",
        "      geom_point(aes(x = displ, y = hwy)) +\n",
        "      facet_grid(. ~ cyl)\n",
        "    ```\n",
        "\n",
        "4.  Take the first faceted plot in this section:\n",
        "\n",
        "    ```{r}\n",
        "\n",
        "    ggplot(mpg) +\n",
        "      geom_point(aes(x = displ, y = hwy)) +\n",
        "      facet_wrap(~ class, nrow = 2)\n",
        "    ```\n",
        "\n",
        "    What are the advantages to using faceting instead of the color aesthetic?\n",
        "    What are the disadvantages?\n",
        "    How might the balance change if you had a larger dataset?\n",
        "\n",
        "5.  Read `?facet_wrap`.\n",
        "    What does `nrow` do?\n",
        "    What does `ncol` do?\n",
        "    What other options control the layout of the individual panels?\n",
        "    Why doesn't `facet_grid()` have `nrow` and `ncol` arguments?\n",
        "\n",
        "6.  Which of the following plots makes it easier to compare engine size (`displ`) across cars with different drive trains?\n",
        "    What does this say about when to place a faceting variable across rows or columns?\n",
        "\n",
        "    ```{r}\n",
        "\n",
        "    ggplot(mpg, aes(x = displ)) +\n",
        "      geom_histogram() +\n",
        "      facet_grid(drv ~ .)\n",
        "\n",
        "    ggplot(mpg, aes(x = displ)) +\n",
        "      geom_histogram() +\n",
        "      facet_grid(. ~ drv)\n",
        "    ```\n",
        "\n",
        "7.  Recreate the following plot using `facet_wrap()` instead of `facet_grid()`.\n",
        "    How do the positions of the facet labels change?\n",
        "\n",
        "    ```{r}\n",
        "\n",
        "    ggplot(mpg) +\n",
        "      geom_point(aes(x = displ, y = hwy)) +\n",
        "      facet_grid(drv ~ .)\n",
        "    ```\n"
      ],
      "metadata": {
        "id": "MmtCACSsO_No"
      }
    },
    {
      "cell_type": "code",
      "source": [],
      "metadata": {
        "id": "3my0g5XuPNWU"
      },
      "execution_count": null,
      "outputs": []
    },
    {
      "cell_type": "markdown",
      "source": [
        "## Statistical transformations\n",
        "\n",
        "Consider a basic bar chart, drawn with `geom_bar()` or `geom_col()`.\n",
        "The following chart displays the total number of diamonds in the `diamonds` dataset, grouped by `cut`.\n",
        "The `diamonds` dataset is in the ggplot2 package and contains information on \\~54,000 diamonds, including the `price`, `carat`, `color`, `clarity`, and `cut` of each diamond.\n",
        "The chart shows that more diamonds are available with high quality cuts than with low quality cuts.\n",
        "\n",
        "```{r}\n",
        "\n",
        "ggplot(diamonds, aes(x = cut)) +\n",
        "  geom_bar()\n",
        "```\n"
      ],
      "metadata": {
        "id": "gfw8lLbgPN0D"
      }
    },
    {
      "cell_type": "code",
      "source": [],
      "metadata": {
        "id": "WaVsSf6mPXFJ"
      },
      "execution_count": null,
      "outputs": []
    },
    {
      "cell_type": "markdown",
      "source": [
        "On the x-axis, the chart displays `cut`, a variable from `diamonds`.\n",
        "On the y-axis, it displays count, but count is not a variable in `diamonds`!\n",
        "Where does count come from?\n",
        "Many graphs, like scatterplots, plot the raw values of your dataset.\n",
        "Other graphs, like bar charts, calculate new values to plot:\n",
        "\n",
        "-   Bar charts, histograms, and frequency polygons bin your data and then plot bin counts, the number of points that fall in each bin.\n",
        "\n",
        "-   Smoothers fit a model to your data and then plot predictions from the model.\n",
        "\n",
        "-   Boxplots compute the five-number summary of the distribution and then display that summary as a specially formatted box.\n",
        "\n",
        "The algorithm used to calculate new values for a graph is called a **stat**, short for statistical transformation.\n",
        "@fig-vis-stat-bar shows how this process works with `geom_bar()`.\n",
        "\n",
        "\n",
        "![Visualization](https://raw.githubusercontent.com/ricardo-rios/fund_prog_est/main/images/visualization-stat-bar.png \"a title\")\n"
      ],
      "metadata": {
        "id": "8ZgAn-3GPXg5"
      }
    },
    {
      "cell_type": "markdown",
      "source": [
        "You can learn which stat a geom uses by inspecting the default value for the `stat` argument.\n",
        "For example, `?geom_bar` shows that the default value for `stat` is \"count\", which means that `geom_bar()` uses `stat_count()`.\n",
        "`stat_count()` is documented on the same page as `geom_bar()`.\n",
        "If you scroll down, the section called \"Computed variables\" explains that it computes two new variables: `count` and `prop`.\n",
        "\n",
        "Every geom has a default stat; and every stat has a default geom.\n",
        "This means that you can typically use geoms without worrying about the underlying statistical transformation.\n",
        "However, there are three reasons why you might need to use a stat explicitly:\n",
        "\n",
        "1.  You might want to override the default stat.\n",
        "    In the code below, we change the stat of `geom_bar()` from count (the default) to identity.\n",
        "    This lets us map the height of the bars to the raw values of a y variable.\n",
        "\n",
        "    ```{r}\n",
        "\n",
        "    diamonds |>\n",
        "      count(cut) |>\n",
        "      ggplot(aes(x = cut, y = n)) +\n",
        "      geom_bar(stat = \"identity\")\n",
        "    ```\n"
      ],
      "metadata": {
        "id": "6e5Jbv54QE0E"
      }
    },
    {
      "cell_type": "code",
      "source": [],
      "metadata": {
        "id": "9Yrmjx9wPgBu"
      },
      "execution_count": null,
      "outputs": []
    },
    {
      "cell_type": "markdown",
      "source": [
        "2.  You might want to override the default mapping from transformed variables to aesthetics.\n",
        "    For example, you might want to display a bar chart of proportions, rather than counts:\n",
        "\n",
        "    ```{r}\n",
        "\n",
        "    ggplot(diamonds, aes(x = cut, y = after_stat(prop), group = 1)) +\n",
        "      geom_bar()\n",
        "    ```\n"
      ],
      "metadata": {
        "id": "XEi2IIo6QIoq"
      }
    },
    {
      "cell_type": "code",
      "source": [],
      "metadata": {
        "id": "nlUpGQHDQOA3"
      },
      "execution_count": null,
      "outputs": []
    },
    {
      "cell_type": "markdown",
      "source": [
        "To find the possible variables that can be computed by the stat, look for the section titled \"computed variables\" in the help for `geom_bar()`.\n",
        "\n",
        "3.  You might want to draw greater attention to the statistical transformation in your code.\n",
        "    For example, you might use `stat_summary()`, which summarizes the y values for each unique x value, to draw attention to the summary that you're computing:\n",
        "\n",
        "    ```{r}\n",
        "\n",
        "    ggplot(diamonds) +\n",
        "      stat_summary(\n",
        "        aes(x = cut, y = depth),\n",
        "        fun.min = min,\n",
        "        fun.max = max,\n",
        "        fun = median\n",
        "      )\n",
        "    ```\n"
      ],
      "metadata": {
        "id": "pflZ_9zoQOo2"
      }
    },
    {
      "cell_type": "code",
      "source": [],
      "metadata": {
        "id": "1oJZlDTmQS9O"
      },
      "execution_count": null,
      "outputs": []
    },
    {
      "cell_type": "markdown",
      "source": [
        "ggplot2 provides more than 20 stats for you to use.\n",
        "Each stat is a function, so you can get help in the usual way, e.g., `?stat_bin`.\n",
        "\n",
        "### Exercises\n",
        "\n",
        "1.  What is the default geom associated with `stat_summary()`?\n",
        "    How could you rewrite the previous plot to use that geom function instead of the stat function?\n",
        "\n",
        "2.  What does `geom_col()` do?\n",
        "    How is it different from `geom_bar()`?\n",
        "\n",
        "3.  Most geoms and stats come in pairs that are almost always used in concert.\n",
        "    Make a list of all the pairs.\n",
        "    What do they have in common?\n",
        "    (Hint: Read through the documentation.)\n",
        "\n",
        "4.  What variables does `stat_smooth()` compute?\n",
        "    What arguments control its behavior?\n",
        "\n",
        "5.  In our proportion bar chart, we needed to set `group = 1`.\n",
        "    Why?\n",
        "    In other words, what is the problem with these two graphs?\n",
        "\n",
        "    ```{r}\n",
        "\n",
        "    ggplot(diamonds, aes(x = cut, y = after_stat(prop))) +\n",
        "      geom_bar()\n",
        "    ggplot(diamonds, aes(x = cut, fill = color, y = after_stat(prop))) +\n",
        "      geom_bar()\n",
        "    ```\n",
        "\n",
        "\n"
      ],
      "metadata": {
        "id": "XjLSWljeQZJ0"
      }
    },
    {
      "cell_type": "code",
      "source": [],
      "metadata": {
        "id": "sFSUh23PQgrg"
      },
      "execution_count": null,
      "outputs": []
    },
    {
      "cell_type": "markdown",
      "source": [
        "## Position adjustments\n",
        "\n",
        "There's one more piece of magic associated with bar charts.\n",
        "You can color a bar chart using either the `color` aesthetic, or, more usefully, the `fill` aesthetic:\n",
        "\n",
        "```{r}\n",
        "\n",
        "# Left\n",
        "ggplot(mpg, aes(x = drv, color = drv)) +\n",
        "  geom_bar()\n",
        "\n",
        "# Right\n",
        "ggplot(mpg, aes(x = drv, fill = drv)) +\n",
        "  geom_bar()\n",
        "```\n"
      ],
      "metadata": {
        "id": "LLicyb56QihI"
      }
    },
    {
      "cell_type": "code",
      "source": [],
      "metadata": {
        "id": "qGs7FiHIQlx3"
      },
      "execution_count": null,
      "outputs": []
    },
    {
      "cell_type": "markdown",
      "source": [
        "Note what happens if you map the fill aesthetic to another variable, like `class`: the bars are automatically stacked.\n",
        "Each colored rectangle represents a combination of `drv` and `class`.\n",
        "\n",
        "```{r}\n",
        "\n",
        "ggplot(mpg, aes(x = drv, fill = class)) +\n",
        "  geom_bar()\n",
        "```\n"
      ],
      "metadata": {
        "id": "_yujxf4GQvJ0"
      }
    },
    {
      "cell_type": "code",
      "source": [],
      "metadata": {
        "id": "qdYuIR52QwjT"
      },
      "execution_count": null,
      "outputs": []
    },
    {
      "cell_type": "markdown",
      "source": [
        "The stacking is performed automatically using the **position adjustment** specified by the `position` argument.\n",
        "If you don't want a stacked bar chart, you can use one of three other options: `\"identity\"`, `\"dodge\"` or `\"fill\"`.\n",
        "\n",
        "-   `position = \"identity\"` will place each object exactly where it falls in the context of the graph.\n",
        "    This is not very useful for bars, because it overlaps them.\n",
        "    To see that overlapping we either need to make the bars slightly transparent by setting `alpha` to a small value, or completely transparent by setting `fill = NA`.\n",
        "\n",
        "    ```{r}\n",
        "\n",
        "    # Left\n",
        "    ggplot(mpg, aes(x = drv, fill = class)) +\n",
        "      geom_bar(alpha = 1/5, position = \"identity\")\n",
        "\n",
        "    # Right\n",
        "    ggplot(mpg, aes(x = drv, color = class)) +\n",
        "      geom_bar(fill = NA, position = \"identity\")\n",
        "    ```\n"
      ],
      "metadata": {
        "id": "ZbeXwX35Qw7b"
      }
    },
    {
      "cell_type": "code",
      "source": [],
      "metadata": {
        "id": "KGiuIsBBQ2fh"
      },
      "execution_count": null,
      "outputs": []
    },
    {
      "cell_type": "markdown",
      "source": [
        "The identity position adjustment is more useful for 2d geoms, like points, where it is the default.\n",
        "\n",
        "-   `position = \"fill\"` works like stacking, but makes each set of stacked bars the same height.\n",
        "    This makes it easier to compare proportions across groups.\n",
        "\n",
        "-   `position = \"dodge\"` places overlapping objects directly *beside* one another.\n",
        "    This makes it easier to compare individual values.\n",
        "\n",
        "    ```{r}\n",
        "    # Left\n",
        "    ggplot(mpg, aes(x = drv, fill = class)) +\n",
        "      geom_bar(position = \"fill\")\n",
        "\n",
        "    # Right\n",
        "    ggplot(mpg, aes(x = drv, fill = class)) +\n",
        "      geom_bar(position = \"dodge\")\n",
        "    ```\n"
      ],
      "metadata": {
        "id": "Z-A-RwCMQ3jI"
      }
    },
    {
      "cell_type": "code",
      "source": [],
      "metadata": {
        "id": "4kO3G3HqQ-AH"
      },
      "execution_count": null,
      "outputs": []
    },
    {
      "cell_type": "markdown",
      "source": [
        "There's one other type of adjustment that's not useful for bar charts, but can be very useful for scatterplots.\n",
        "Recall our first scatterplot.\n",
        "Did you notice that the plot displays only 126 points, even though there are 234 observations in the dataset?\n",
        "\n",
        "```{r}\n",
        "\n",
        "ggplot(mpg, aes(x = displ, y = hwy)) +\n",
        "  geom_point()\n",
        "```\n",
        "\n"
      ],
      "metadata": {
        "id": "OY_e5UNPRDRE"
      }
    },
    {
      "cell_type": "code",
      "source": [],
      "metadata": {
        "id": "GQC69KobRIpf"
      },
      "execution_count": null,
      "outputs": []
    },
    {
      "cell_type": "markdown",
      "source": [
        "The underlying values of `hwy` and `displ` are rounded so the points appear on a grid and many points overlap each other.\n",
        "This problem is known as **overplotting**.\n",
        "This arrangement makes it difficult to see the distribution of the data.\n",
        "Are the data points spread equally throughout the graph, or is there one special combination of `hwy` and `displ` that contains 109 values?\n",
        "\n",
        "You can avoid this gridding by setting the position adjustment to \"jitter\".\n",
        "`position = \"jitter\"` adds a small amount of random noise to each point.\n",
        "This spreads the points out because no two points are likely to receive the same amount of random noise.\n",
        "\n",
        "```{r}\n",
        "\n",
        "ggplot(mpg, aes(x = displ, y = hwy)) +\n",
        "  geom_point(position = \"jitter\")\n",
        "```\n"
      ],
      "metadata": {
        "id": "tJoL1ISNRJCS"
      }
    },
    {
      "cell_type": "code",
      "source": [],
      "metadata": {
        "id": "A4hCXrsfRNXE"
      },
      "execution_count": null,
      "outputs": []
    },
    {
      "cell_type": "markdown",
      "source": [
        "Adding randomness seems like a strange way to improve your plot, but while it makes your graph less accurate at small scales, it makes your graph *more* revealing at large scales.\n",
        "Because this is such a useful operation, ggplot2 comes with a shorthand for `geom_point(position = \"jitter\")`: `geom_jitter()`.\n",
        "\n",
        "To learn more about a position adjustment, look up the help page associated with each adjustment: `?position_dodge`, `?position_fill`, `?position_identity`, `?position_jitter`, and `?position_stack`.\n",
        "\n",
        "### Exercises\n",
        "\n",
        "1.  What is the problem with the following plot?\n",
        "    How could you improve it?\n",
        "\n",
        "    ```{r}\n",
        "\n",
        "    ggplot(mpg, aes(x = cty, y = hwy)) +\n",
        "      geom_point()\n",
        "    ```\n",
        "\n",
        "2.  What, if anything, is the difference between the two plots?\n",
        "    Why?\n",
        "\n",
        "    ```{r}\n",
        "\n",
        "    ggplot(mpg, aes(x = displ, y = hwy)) +\n",
        "      geom_point()\n",
        "    ggplot(mpg, aes(x = displ, y = hwy)) +\n",
        "      geom_point(position = \"identity\")\n",
        "    ```\n",
        "\n",
        "3.  What parameters to `geom_jitter()` control the amount of jittering?\n",
        "\n",
        "4.  Compare and contrast `geom_jitter()` with `geom_count()`.\n",
        "\n",
        "5.  What's the default position adjustment for `geom_boxplot()`?\n",
        "    Create a visualization of the `mpg` dataset that demonstrates it.\n"
      ],
      "metadata": {
        "id": "ze3LZdmiROdB"
      }
    },
    {
      "cell_type": "code",
      "source": [],
      "metadata": {
        "id": "u5_0k53iRUhq"
      },
      "execution_count": null,
      "outputs": []
    },
    {
      "cell_type": "markdown",
      "source": [
        "## Coordinate systems\n",
        "\n",
        "Coordinate systems are probably the most complicated part of ggplot2.\n",
        "The default coordinate system is the Cartesian coordinate system where the x and y positions act independently to determine the location of each point.\n",
        "There are two other coordinate systems that are occasionally helpful.\n",
        "\n",
        "-   `coord_quickmap()` sets the aspect ratio correctly for geographic maps.\n",
        "    This is very important if you're plotting spatial data with ggplot2.\n",
        "    We don't have the space to discuss maps in this book, but you can learn more in the [Maps chapter](https://ggplot2-book.org/maps.html) of *ggplot2: Elegant graphics for data analysis*.\n",
        "\n",
        "    ```{r}\n",
        "\n",
        "    nz <- map_data(\"nz\")\n",
        "\n",
        "    ggplot(nz, aes(x = long, y = lat, group = group)) +\n",
        "      geom_polygon(fill = \"white\", color = \"black\")\n",
        "\n",
        "    ggplot(nz, aes(x = long, y = lat, group = group)) +\n",
        "      geom_polygon(fill = \"white\", color = \"black\") +\n",
        "      coord_quickmap()\n",
        "    ```\n"
      ],
      "metadata": {
        "id": "WT_NZREZRXC-"
      }
    },
    {
      "cell_type": "code",
      "source": [],
      "metadata": {
        "id": "994xGDjbReZk"
      },
      "execution_count": null,
      "outputs": []
    },
    {
      "cell_type": "markdown",
      "source": [
        "-   `coord_polar()` uses polar coordinates.\n",
        "    Polar coordinates reveal an interesting connection between a bar chart and a Coxcomb chart.\n",
        "\n",
        "    ```{r}\n",
        "\n",
        "    bar <- ggplot(data = diamonds) +\n",
        "      geom_bar(\n",
        "        mapping = aes(x = clarity, fill = clarity),\n",
        "        show.legend = FALSE,\n",
        "        width = 1\n",
        "      ) +\n",
        "      theme(aspect.ratio = 1)\n",
        "\n",
        "    bar + coord_flip()\n",
        "    bar + coord_polar()\n",
        "    ```\n"
      ],
      "metadata": {
        "id": "eIEXR_3wRf3z"
      }
    },
    {
      "cell_type": "code",
      "source": [],
      "metadata": {
        "id": "oYaz-UzeRjOq"
      },
      "execution_count": null,
      "outputs": []
    },
    {
      "cell_type": "markdown",
      "source": [
        "### Exercises\n",
        "\n",
        "1.  Turn a stacked bar chart into a pie chart using `coord_polar()`.\n",
        "\n",
        "2.  What's the difference between `coord_quickmap()` and `coord_map()`?\n",
        "\n",
        "3.  What does the following plot tell you about the relationship between city and highway mpg?\n",
        "    Why is `coord_fixed()` important?\n",
        "    What does `geom_abline()` do?\n",
        "\n",
        "    ```{r}\n",
        "\n",
        "    ggplot(data = mpg, mapping = aes(x = cty, y = hwy)) +\n",
        "      geom_point() +\n",
        "      geom_abline() +\n",
        "      coord_fixed()\n",
        "    ```\n"
      ],
      "metadata": {
        "id": "MEZD3bXzRlpJ"
      }
    },
    {
      "cell_type": "code",
      "source": [],
      "metadata": {
        "id": "-o1xEyT7RpHr"
      },
      "execution_count": null,
      "outputs": []
    },
    {
      "cell_type": "markdown",
      "source": [
        "## The layered grammar of graphics\n",
        "\n",
        "We can expand on the graphing template you learned in @sec-ggplot2-calls by adding position adjustments, stats, coordinate systems, and faceting:\n",
        "\n",
        "```         \n",
        "ggplot(data = <DATA>) +\n",
        "  <GEOM_FUNCTION>(\n",
        "     mapping = aes(<MAPPINGS>),\n",
        "     stat = <STAT>,\n",
        "     position = <POSITION>\n",
        "  ) +\n",
        "  <COORDINATE_FUNCTION> +\n",
        "  <FACET_FUNCTION>\n",
        "```\n",
        "\n",
        "Our new template takes seven parameters, the bracketed words that appear in the template.\n",
        "In practice, you rarely need to supply all seven parameters to make a graph because ggplot2 will provide useful defaults for everything except the data, the mappings, and the geom function.\n",
        "\n",
        "The seven parameters in the template compose the grammar of graphics, a formal system for building plots.\n",
        "The grammar of graphics is based on the insight that you can uniquely describe *any* plot as a combination of a dataset, a geom, a set of mappings, a stat, a position adjustment, a coordinate system, a faceting scheme, and a theme.\n",
        "\n",
        "To see how this works, consider how you could build a basic plot from scratch: you could start with a dataset and then transform it into the information that you want to display (with a stat).\n",
        "Next, you could choose a geometric object to represent each observation in the transformed data.\n",
        "You could then use the aesthetic properties of the geoms to represent variables in the data.\n",
        "You would map the values of each variable to the levels of an aesthetic.\n",
        "These steps are illustrated in @fig-visualization-grammar.\n",
        "You'd then select a coordinate system to place the geoms into, using the location of the objects (which is itself an aesthetic property) to display the values of the x and y variables.\n",
        "\n",
        "\n",
        "\n",
        "![Visualization](https://raw.githubusercontent.com/ricardo-rios/fund_prog_est/main/images/visualization-grammar.png \"a title\")\n"
      ],
      "metadata": {
        "id": "YxEPwzg_Rpww"
      }
    },
    {
      "cell_type": "markdown",
      "source": [
        "At this point, you would have a complete graph, but you could further adjust the positions of the geoms within the coordinate system (a position adjustment) or split the graph into subplots (faceting).\n",
        "You could also extend the plot by adding one or more additional layers, where each additional layer uses a dataset, a geom, a set of mappings, a stat, and a position adjustment.\n",
        "\n",
        "You could use this method to build *any* plot that you imagine.\n",
        "In other words, you can use the code template that you've learned in this chapter to build hundreds of thousands of unique plots.\n",
        "\n",
        "If you'd like to learn more about the theoretical underpinnings of ggplot2, you might enjoy reading \"[The Layered Grammar of Graphics](https://vita.had.co.nz/papers/layered-grammar.pdf)\", the scientific paper that describes the theory of ggplot2 in detail.\n"
      ],
      "metadata": {
        "id": "J7QQA_RvR_lP"
      }
    },
    {
      "cell_type": "markdown",
      "source": [
        "## Summary\n",
        "\n",
        "In this chapter you learned about the layered grammar of graphics starting with aesthetics and geometries to build a simple plot, facets for splitting the plot into subsets, statistics for understanding how geoms are calculated, position adjustments for controlling the fine details of position when geoms might otherwise overlap, and coordinate systems which allow you to fundamentally change what `x` and `y` mean.\n",
        "One layer we have not yet touched on is theme, which we will introduce in @sec-themes.\n",
        "\n",
        "Two very useful resources for getting an overview of the complete ggplot2 functionality are the ggplot2 cheatsheet (which you can find at <https://posit.co/resources/cheatsheets>) and the ggplot2 package website ([https://ggplot2.tidyverse.org](https://ggplot2.tidyverse.org/)).\n",
        "\n",
        "An important lesson you should take from this chapter is that when you feel the need for a geom that is not provided by ggplot2, it's always a good idea to look into whether someone else has already solved your problem by creating a ggplot2 extension package that offers that geom."
      ],
      "metadata": {
        "id": "QHrzri6eSDYe"
      }
    }
  ],
  "metadata": {
    "kernelspec": {
      "name": "ir",
      "display_name": "R"
    },
    "colab": {
      "provenance": []
    },
    "language_info": {
      "name": "R"
    }
  },
  "nbformat": 4,
  "nbformat_minor": 0
}