{
  "nbformat": 4,
  "nbformat_minor": 0,
  "metadata": {
    "colab": {
      "provenance": []
    },
    "kernelspec": {
      "name": "ir",
      "display_name": "R"
    },
    "language_info": {
      "name": "R"
    }
  },
  "cells": [
    {
      "cell_type": "markdown",
      "source": [
        "# Practicando Markdown en google colab\n",
        "\n",
        "En la siguiente celda de texto y digitar lo siguiente:\n",
        "\n",
        "```markdown\n",
        "# Sección 1\n",
        "# Sección 2\n",
        "## Sub-sección bajo Sección 2\n",
        "```"
      ],
      "metadata": {
        "id": "2ZM7p3WzcVEM"
      }
    },
    {
      "cell_type": "markdown",
      "source": [],
      "metadata": {
        "id": "1ImaWm8bdCne"
      }
    },
    {
      "cell_type": "markdown",
      "source": [
        "En la siguiente celda de texto digitar lo siguiente:\n",
        "\n",
        "```markdown\n",
        "`**texto en negrita**`\n",
        "`*texto en italica*`\n",
        "`~~subrayado~~`\n",
        "```"
      ],
      "metadata": {
        "id": "SwwhZVumdEK9"
      }
    },
    {
      "cell_type": "markdown",
      "source": [],
      "metadata": {
        "id": "LXfTINE1d-t6"
      }
    },
    {
      "cell_type": "markdown",
      "source": [
        "En la siguiente celda de texto digitar lo siguiente:\n",
        "\n",
        "```markdown\n",
        "\n",
        "`[Enlace a Google](https://www.google.com)`\n",
        "\n",
        "```"
      ],
      "metadata": {
        "id": "j_thiDKXeFFH"
      }
    },
    {
      "cell_type": "markdown",
      "source": [],
      "metadata": {
        "id": "EPRaX4wWejQF"
      }
    },
    {
      "cell_type": "markdown",
      "source": [
        "En la siguiente celda de texto digitar lo siguiente:\n",
        "\n",
        "```markdown\n",
        "\n",
        "\n",
        "`![Una imagen](https://www.google.com/images/rss.png)`\n",
        "\n",
        "\n",
        "```"
      ],
      "metadata": {
        "id": "kQtGuDvKeufK"
      }
    },
    {
      "cell_type": "markdown",
      "source": [],
      "metadata": {
        "id": "mAYJkB90fAnF"
      }
    },
    {
      "cell_type": "markdown",
      "source": [
        "En la siguiente celda de código digitar:\n",
        "\n",
        "Bloque de código\n",
        "\n",
        "````\n",
        "```python\n",
        "print(\"a\")\n",
        "```\n",
        "````\n"
      ],
      "metadata": {
        "id": "09tbPKGmfRgE"
      }
    },
    {
      "cell_type": "markdown",
      "source": [],
      "metadata": {
        "id": "tYUHKf1bfcNB"
      }
    },
    {
      "cell_type": "markdown",
      "source": [
        "En la siguiente celda digitar:\n",
        "\n",
        "Listas ordenadas\n",
        "\n",
        "1. uno\n",
        "2. dos\n",
        "3. tres"
      ],
      "metadata": {
        "id": "xMbjvhBkfcsC"
      }
    },
    {
      "cell_type": "markdown",
      "source": [],
      "metadata": {
        "id": "XxadlYBkfwST"
      }
    },
    {
      "cell_type": "markdown",
      "source": [
        "En la siguiente celda digitar:\n",
        "\n",
        "Listas no-ordenadas\n",
        "\n",
        "* uno\n",
        "* dos\n",
        "* tres"
      ],
      "metadata": {
        "id": "xARiySSlfy_U"
      }
    },
    {
      "cell_type": "markdown",
      "source": [],
      "metadata": {
        "id": "804j6AaJf-2H"
      }
    },
    {
      "cell_type": "markdown",
      "source": [
        "En la siguiente celda digitar:\n",
        "\n",
        "```markdown\n",
        "\n",
        "$y=x^2$\n",
        "\n",
        "$\\frac{n!}{k!(n-k)!} = {n \\choose k}$\n",
        "\n",
        "```"
      ],
      "metadata": {
        "id": "5dPbmek9f_Z_"
      }
    },
    {
      "cell_type": "markdown",
      "source": [],
      "metadata": {
        "id": "-ho3t0CigWPd"
      }
    },
    {
      "cell_type": "markdown",
      "source": [
        "En la siguiente celda digitar:\n",
        "\n",
        "```markdown\n",
        "Nombre de primera columna  | Nombre de segunda columna\n",
        "-------------------|------------------\n",
        "Fila 1, Columna 1       | Fila 1, Columna 2\n",
        "Fila 2, Columna 1       | Fila 2, Columna 2\n",
        "\n",
        "```\n"
      ],
      "metadata": {
        "id": "izLmCg5kgXZu"
      }
    },
    {
      "cell_type": "markdown",
      "source": [],
      "metadata": {
        "id": "KtxkkFXzhWl0"
      }
    },
    {
      "cell_type": "markdown",
      "source": [
        "En la siguiente celda digitar:\n",
        "\n",
        "```markdown\n",
        "---\n",
        "```\n"
      ],
      "metadata": {
        "id": "HrehHPJhhaoM"
      }
    },
    {
      "cell_type": "markdown",
      "source": [],
      "metadata": {
        "id": "pe0iXS2Thzpx"
      }
    },
    {
      "cell_type": "markdown",
      "source": [
        "# Palabras reservadas en R\n",
        "\n",
        "Palabras reservadas en R son un conjunto de palabras que tienen un significado especial y no pueden ser usadas como identificadores (nombres de variables, nombres de funciones, etc)\n",
        "\n",
        "Digitar lo siguiente en una celda de código:\n",
        "\n",
        "```\n",
        "    help(reserved)\n",
        "```\n"
      ],
      "metadata": {
        "id": "-HJUyV2lh0OI"
      }
    },
    {
      "cell_type": "code",
      "source": [
        "help(reserved)"
      ],
      "metadata": {
        "id": "fODS59KLhUt1"
      },
      "execution_count": null,
      "outputs": []
    },
    {
      "cell_type": "markdown",
      "source": [
        "# Variables en R\n",
        "\n",
        "Variables en R son usadas para almacenar datos, cuyos valores pueden ser cambiados según los requerimientos. Nombres unicos dados a una variable (funciones y objetos) es un identificador.\n",
        "\n",
        "Reglas para escribir identificadores en R\n",
        "\n",
        "1.  Identificadores pueden ser una combinación de letras, dígitos, punto (.) y guion bajo (\\_)\n",
        "2.  Debe iniciar con una letra o un punto. Si este inicia con un punto, este no puede ser seguido por un digito\n",
        "3.  Palabras reservadas en R no pueden ser usadas como identificadores\n",
        "\n",
        "\n",
        "Ejemplo de identificadores validos\n",
        "\n",
        "```r\n",
        "    total, Sum, .fine.with.dot, this_is_acceptable, Number5\n",
        "```\n",
        "\n",
        "Ejemplo de identificadores invalidos\n",
        "\n",
        "```r\n",
        "    tot@l, 5um, _fine, TRUE, .0ne\n",
        "```\n",
        "\n",
        "\n",
        "**Buenas prácticas**\n",
        "\n",
        "Viejas versiones de R usaron el guion bajo (*) como operador de asignación. Así, el punto (.) fue usado en nombres de variables con múltiples palabras. Versiones actuales de R soportan el guion bajo (*) como identificador válido pero es una buena práctica usar punto como separador de palabras.\n",
        "\n",
        "Por ejemplo, a.variable.name es preferible sobre a_variable_name o tambien podemos usar la notación camello aVariableName.\n",
        "\n",
        "**Ejercicio**\n",
        "\n",
        "En la siguiente celda realizar lo siguiente:\n",
        "\n",
        "-   En una celda de código crear una variable con el nombre enero que tenga el valor de 100 correspondiente al número de tuercas en un almacen en enero\n",
        "-   En otra celda de código crear una variable con el nombre febrero que tenga el valor de 50 correspondiente al número de tuercas en un almacen en febrero\n",
        "-   En otra celda sumar las variables definidas anteriormente\n",
        "\n",
        "*Sugerencia*: Usar el operador de asignación \\<-\n"
      ],
      "metadata": {
        "id": "Er0ex40GideR"
      }
    },
    {
      "cell_type": "code",
      "source": [
        "enero <- 100"
      ],
      "metadata": {
        "id": "D0JnqMhjJmrk"
      },
      "execution_count": null,
      "outputs": []
    },
    {
      "cell_type": "code",
      "source": [
        "febrero <- 50"
      ],
      "metadata": {
        "id": "EWYHY7PYJtPZ"
      },
      "execution_count": null,
      "outputs": []
    },
    {
      "cell_type": "code",
      "source": [
        "enero + febrero"
      ],
      "metadata": {
        "colab": {
          "base_uri": "https://localhost:8080/",
          "height": 34
        },
        "id": "hFqXGCJSJv78",
        "outputId": "8ae847e3-d3a0-4518-e131-3b8afbb31d60"
      },
      "execution_count": null,
      "outputs": [
        {
          "output_type": "display_data",
          "data": {
            "text/html": [
              "150"
            ],
            "text/markdown": "150",
            "text/latex": "150",
            "text/plain": [
              "[1] 150"
            ]
          },
          "metadata": {}
        }
      ]
    },
    {
      "cell_type": "markdown",
      "source": [
        "# Constantes en R\n",
        "\n",
        "Constantes, como su nombre sugiere, son entidades cuyos valores no pueden ser alterados. Tipos básicos de constantes son constantes númericas y constantes de caracter.\n",
        "\n",
        "**Constantes númericas**\n",
        "\n",
        "Todos los números caen en esta categoria. Pueden ser de tipo integer, double y complex.\n",
        "\n",
        "Digitar y ejecutar lo siguiente en celdas de código distintas.\n",
        "\n",
        "```\n",
        "typeof(5)\n",
        "typeof(5L)\n",
        "typeof(5i)\n",
        "```\n"
      ],
      "metadata": {
        "id": "a3C_6dmxjoY9"
      }
    },
    {
      "cell_type": "code",
      "source": [
        "typeof(5)"
      ],
      "metadata": {
        "colab": {
          "base_uri": "https://localhost:8080/",
          "height": 34
        },
        "id": "PwypBbQfKUV2",
        "outputId": "3e9a7847-d7b5-4fc6-eab6-84932f8236c0"
      },
      "execution_count": null,
      "outputs": [
        {
          "output_type": "display_data",
          "data": {
            "text/html": [
              "'double'"
            ],
            "text/markdown": "'double'",
            "text/latex": "'double'",
            "text/plain": [
              "[1] \"double\""
            ]
          },
          "metadata": {}
        }
      ]
    },
    {
      "cell_type": "code",
      "source": [
        "typeof(5L)"
      ],
      "metadata": {
        "colab": {
          "base_uri": "https://localhost:8080/",
          "height": 34
        },
        "id": "a5vRiunWKcNT",
        "outputId": "4e76f9a4-e948-4087-dc2f-294294a78b8c"
      },
      "execution_count": null,
      "outputs": [
        {
          "output_type": "display_data",
          "data": {
            "text/html": [
              "'integer'"
            ],
            "text/markdown": "'integer'",
            "text/latex": "'integer'",
            "text/plain": [
              "[1] \"integer\""
            ]
          },
          "metadata": {}
        }
      ]
    },
    {
      "cell_type": "code",
      "source": [
        "typeof(5i)"
      ],
      "metadata": {
        "colab": {
          "base_uri": "https://localhost:8080/",
          "height": 34
        },
        "id": "1iukuRqrKj6R",
        "outputId": "caf79f6a-d399-473e-c878-46e666c20b43"
      },
      "execution_count": null,
      "outputs": [
        {
          "output_type": "display_data",
          "data": {
            "text/html": [
              "'complex'"
            ],
            "text/markdown": "'complex'",
            "text/latex": "'complex'",
            "text/plain": [
              "[1] \"complex\""
            ]
          },
          "metadata": {}
        }
      ]
    },
    {
      "cell_type": "markdown",
      "source": [
        "**Constantes de caracter**\n",
        "\n",
        "Caracteres pueden ser representados con comilla simple ' o comillas dobles \".\n",
        "\n",
        "Digitar y ejecutar lo siguiente en celdas de código distintas.\n",
        "\n",
        "```\n",
        "'example'\n",
        "typeof(\"5\")\n",
        "```\n"
      ],
      "metadata": {
        "id": "QMQ55Rvgj8t2"
      }
    },
    {
      "cell_type": "code",
      "source": [
        "'example'"
      ],
      "metadata": {
        "colab": {
          "base_uri": "https://localhost:8080/",
          "height": 34
        },
        "id": "YQqeUtdnK5k-",
        "outputId": "04f058a4-9fcf-421e-9c6c-b82a1e7c85df"
      },
      "execution_count": null,
      "outputs": [
        {
          "output_type": "display_data",
          "data": {
            "text/html": [
              "'example'"
            ],
            "text/markdown": "'example'",
            "text/latex": "'example'",
            "text/plain": [
              "[1] \"example\""
            ]
          },
          "metadata": {}
        }
      ]
    },
    {
      "cell_type": "code",
      "source": [
        "typeof(\"5\")"
      ],
      "metadata": {
        "colab": {
          "base_uri": "https://localhost:8080/",
          "height": 34
        },
        "id": "eQCRh2d2K6Xf",
        "outputId": "d2574868-1249-46d0-edd7-3bfb3331d260"
      },
      "execution_count": null,
      "outputs": [
        {
          "output_type": "display_data",
          "data": {
            "text/html": [
              "'character'"
            ],
            "text/markdown": "'character'",
            "text/latex": "'character'",
            "text/plain": [
              "[1] \"character\""
            ]
          },
          "metadata": {}
        }
      ]
    },
    {
      "cell_type": "markdown",
      "source": [
        "**Constantes ya incorporadas en el paquete base**\n",
        "\n",
        "\n",
        "Digitar y ejecutar lo siguiente en celdas de código distintas.\n",
        "\n",
        "```\n",
        "LETTERS\n",
        "letters\n",
        "pi\n",
        "month.name\n",
        "month.abb\n",
        "```\n"
      ],
      "metadata": {
        "id": "e6DRxT0jlumu"
      }
    },
    {
      "cell_type": "code",
      "source": [
        "help(LETTERS)"
      ],
      "metadata": {
        "id": "IEHde-ZILe19"
      },
      "execution_count": null,
      "outputs": []
    },
    {
      "cell_type": "code",
      "source": [
        "LETTERS"
      ],
      "metadata": {
        "colab": {
          "base_uri": "https://localhost:8080/",
          "height": 34
        },
        "id": "KU_-4tI7Lvs9",
        "outputId": "cecda1ce-6729-4b0f-9df7-ea996f2952fc"
      },
      "execution_count": null,
      "outputs": [
        {
          "output_type": "display_data",
          "data": {
            "text/html": [
              "<style>\n",
              ".list-inline {list-style: none; margin:0; padding: 0}\n",
              ".list-inline>li {display: inline-block}\n",
              ".list-inline>li:not(:last-child)::after {content: \"\\00b7\"; padding: 0 .5ex}\n",
              "</style>\n",
              "<ol class=list-inline><li>'A'</li><li>'B'</li><li>'C'</li><li>'D'</li><li>'E'</li><li>'F'</li><li>'G'</li><li>'H'</li><li>'I'</li><li>'J'</li><li>'K'</li><li>'L'</li><li>'M'</li><li>'N'</li><li>'O'</li><li>'P'</li><li>'Q'</li><li>'R'</li><li>'S'</li><li>'T'</li><li>'U'</li><li>'V'</li><li>'W'</li><li>'X'</li><li>'Y'</li><li>'Z'</li></ol>\n"
            ],
            "text/markdown": "1. 'A'\n2. 'B'\n3. 'C'\n4. 'D'\n5. 'E'\n6. 'F'\n7. 'G'\n8. 'H'\n9. 'I'\n10. 'J'\n11. 'K'\n12. 'L'\n13. 'M'\n14. 'N'\n15. 'O'\n16. 'P'\n17. 'Q'\n18. 'R'\n19. 'S'\n20. 'T'\n21. 'U'\n22. 'V'\n23. 'W'\n24. 'X'\n25. 'Y'\n26. 'Z'\n\n\n",
            "text/latex": "\\begin{enumerate*}\n\\item 'A'\n\\item 'B'\n\\item 'C'\n\\item 'D'\n\\item 'E'\n\\item 'F'\n\\item 'G'\n\\item 'H'\n\\item 'I'\n\\item 'J'\n\\item 'K'\n\\item 'L'\n\\item 'M'\n\\item 'N'\n\\item 'O'\n\\item 'P'\n\\item 'Q'\n\\item 'R'\n\\item 'S'\n\\item 'T'\n\\item 'U'\n\\item 'V'\n\\item 'W'\n\\item 'X'\n\\item 'Y'\n\\item 'Z'\n\\end{enumerate*}\n",
            "text/plain": [
              " [1] \"A\" \"B\" \"C\" \"D\" \"E\" \"F\" \"G\" \"H\" \"I\" \"J\" \"K\" \"L\" \"M\" \"N\" \"O\" \"P\" \"Q\" \"R\" \"S\"\n",
              "[20] \"T\" \"U\" \"V\" \"W\" \"X\" \"Y\" \"Z\""
            ]
          },
          "metadata": {}
        }
      ]
    },
    {
      "cell_type": "code",
      "source": [
        "letters"
      ],
      "metadata": {
        "colab": {
          "base_uri": "https://localhost:8080/",
          "height": 34
        },
        "id": "qWPH4peTLyLj",
        "outputId": "2ad9c294-8fd0-44bd-c502-780b4183ea2c"
      },
      "execution_count": null,
      "outputs": [
        {
          "output_type": "display_data",
          "data": {
            "text/html": [
              "<style>\n",
              ".list-inline {list-style: none; margin:0; padding: 0}\n",
              ".list-inline>li {display: inline-block}\n",
              ".list-inline>li:not(:last-child)::after {content: \"\\00b7\"; padding: 0 .5ex}\n",
              "</style>\n",
              "<ol class=list-inline><li>'a'</li><li>'b'</li><li>'c'</li><li>'d'</li><li>'e'</li><li>'f'</li><li>'g'</li><li>'h'</li><li>'i'</li><li>'j'</li><li>'k'</li><li>'l'</li><li>'m'</li><li>'n'</li><li>'o'</li><li>'p'</li><li>'q'</li><li>'r'</li><li>'s'</li><li>'t'</li><li>'u'</li><li>'v'</li><li>'w'</li><li>'x'</li><li>'y'</li><li>'z'</li></ol>\n"
            ],
            "text/markdown": "1. 'a'\n2. 'b'\n3. 'c'\n4. 'd'\n5. 'e'\n6. 'f'\n7. 'g'\n8. 'h'\n9. 'i'\n10. 'j'\n11. 'k'\n12. 'l'\n13. 'm'\n14. 'n'\n15. 'o'\n16. 'p'\n17. 'q'\n18. 'r'\n19. 's'\n20. 't'\n21. 'u'\n22. 'v'\n23. 'w'\n24. 'x'\n25. 'y'\n26. 'z'\n\n\n",
            "text/latex": "\\begin{enumerate*}\n\\item 'a'\n\\item 'b'\n\\item 'c'\n\\item 'd'\n\\item 'e'\n\\item 'f'\n\\item 'g'\n\\item 'h'\n\\item 'i'\n\\item 'j'\n\\item 'k'\n\\item 'l'\n\\item 'm'\n\\item 'n'\n\\item 'o'\n\\item 'p'\n\\item 'q'\n\\item 'r'\n\\item 's'\n\\item 't'\n\\item 'u'\n\\item 'v'\n\\item 'w'\n\\item 'x'\n\\item 'y'\n\\item 'z'\n\\end{enumerate*}\n",
            "text/plain": [
              " [1] \"a\" \"b\" \"c\" \"d\" \"e\" \"f\" \"g\" \"h\" \"i\" \"j\" \"k\" \"l\" \"m\" \"n\" \"o\" \"p\" \"q\" \"r\" \"s\"\n",
              "[20] \"t\" \"u\" \"v\" \"w\" \"x\" \"y\" \"z\""
            ]
          },
          "metadata": {}
        }
      ]
    },
    {
      "cell_type": "code",
      "source": [
        "pi"
      ],
      "metadata": {
        "colab": {
          "base_uri": "https://localhost:8080/",
          "height": 34
        },
        "id": "HXhUxQ_mMqAY",
        "outputId": "c3770be3-cf0b-45c4-b55f-8e2063ecda66"
      },
      "execution_count": null,
      "outputs": [
        {
          "output_type": "display_data",
          "data": {
            "text/html": [
              "3.14159265358979"
            ],
            "text/markdown": "3.14159265358979",
            "text/latex": "3.14159265358979",
            "text/plain": [
              "[1] 3.141593"
            ]
          },
          "metadata": {}
        }
      ]
    },
    {
      "cell_type": "code",
      "source": [
        "month.name"
      ],
      "metadata": {
        "colab": {
          "base_uri": "https://localhost:8080/",
          "height": 34
        },
        "id": "xPevXD86MthK",
        "outputId": "60f89abf-653d-40d9-a45c-162c01cc549a"
      },
      "execution_count": null,
      "outputs": [
        {
          "output_type": "display_data",
          "data": {
            "text/html": [
              "<style>\n",
              ".list-inline {list-style: none; margin:0; padding: 0}\n",
              ".list-inline>li {display: inline-block}\n",
              ".list-inline>li:not(:last-child)::after {content: \"\\00b7\"; padding: 0 .5ex}\n",
              "</style>\n",
              "<ol class=list-inline><li>'January'</li><li>'February'</li><li>'March'</li><li>'April'</li><li>'May'</li><li>'June'</li><li>'July'</li><li>'August'</li><li>'September'</li><li>'October'</li><li>'November'</li><li>'December'</li></ol>\n"
            ],
            "text/markdown": "1. 'January'\n2. 'February'\n3. 'March'\n4. 'April'\n5. 'May'\n6. 'June'\n7. 'July'\n8. 'August'\n9. 'September'\n10. 'October'\n11. 'November'\n12. 'December'\n\n\n",
            "text/latex": "\\begin{enumerate*}\n\\item 'January'\n\\item 'February'\n\\item 'March'\n\\item 'April'\n\\item 'May'\n\\item 'June'\n\\item 'July'\n\\item 'August'\n\\item 'September'\n\\item 'October'\n\\item 'November'\n\\item 'December'\n\\end{enumerate*}\n",
            "text/plain": [
              " [1] \"January\"   \"February\"  \"March\"     \"April\"     \"May\"       \"June\"     \n",
              " [7] \"July\"      \"August\"    \"September\" \"October\"   \"November\"  \"December\" "
            ]
          },
          "metadata": {}
        }
      ]
    },
    {
      "cell_type": "code",
      "source": [
        "month.abb"
      ],
      "metadata": {
        "colab": {
          "base_uri": "https://localhost:8080/",
          "height": 34
        },
        "id": "6AMUywmxMv0I",
        "outputId": "426e6408-e181-467c-b558-bf62ee3b28dc"
      },
      "execution_count": null,
      "outputs": [
        {
          "output_type": "display_data",
          "data": {
            "text/html": [
              "<style>\n",
              ".list-inline {list-style: none; margin:0; padding: 0}\n",
              ".list-inline>li {display: inline-block}\n",
              ".list-inline>li:not(:last-child)::after {content: \"\\00b7\"; padding: 0 .5ex}\n",
              "</style>\n",
              "<ol class=list-inline><li>'Jan'</li><li>'Feb'</li><li>'Mar'</li><li>'Apr'</li><li>'May'</li><li>'Jun'</li><li>'Jul'</li><li>'Aug'</li><li>'Sep'</li><li>'Oct'</li><li>'Nov'</li><li>'Dec'</li></ol>\n"
            ],
            "text/markdown": "1. 'Jan'\n2. 'Feb'\n3. 'Mar'\n4. 'Apr'\n5. 'May'\n6. 'Jun'\n7. 'Jul'\n8. 'Aug'\n9. 'Sep'\n10. 'Oct'\n11. 'Nov'\n12. 'Dec'\n\n\n",
            "text/latex": "\\begin{enumerate*}\n\\item 'Jan'\n\\item 'Feb'\n\\item 'Mar'\n\\item 'Apr'\n\\item 'May'\n\\item 'Jun'\n\\item 'Jul'\n\\item 'Aug'\n\\item 'Sep'\n\\item 'Oct'\n\\item 'Nov'\n\\item 'Dec'\n\\end{enumerate*}\n",
            "text/plain": [
              " [1] \"Jan\" \"Feb\" \"Mar\" \"Apr\" \"May\" \"Jun\" \"Jul\" \"Aug\" \"Sep\" \"Oct\" \"Nov\" \"Dec\""
            ]
          },
          "metadata": {}
        }
      ]
    },
    {
      "cell_type": "markdown",
      "source": [
        "# Operadores en R\n",
        "\n",
        "R tiene muchos operadores para llevar a cabo operaciones matemáticas y lógicas. Entre los tipos de operadores se detallan los siguientes:\n",
        "\n",
        "* Operadores aritméticos\n",
        "* Operadores relacionales\n",
        "* Operadores lógicos\n",
        "* Operadores de Asignación\n",
        "\n",
        "\n",
        "\n"
      ],
      "metadata": {
        "id": "HbfTdHqLmPTh"
      }
    },
    {
      "cell_type": "markdown",
      "source": [
        "**Operadores aritméticos**\n",
        "\n",
        "| Operador | Descripción                     |\n",
        "|----------|---------------------------------|\n",
        "| `+`      | Suma                        |\n",
        "| `-`      | Resta                     |\n",
        "| `*`      | Multiplicación                  |\n",
        "| `/`      | División                  |\n",
        "| `^`      | Exponenciación                  |\n",
        "| `%%`     | Modulo             |\n",
        "| `%/%`    | División Entera                |\n",
        "\n",
        "\n",
        "Estos operadores son usados para realizar operaciones aritméticas.\n",
        "\n"
      ],
      "metadata": {
        "id": "7wIEc6Ksmna4"
      }
    },
    {
      "cell_type": "code",
      "source": [
        "# Ejercicio\n",
        "\n",
        "4 %% 2"
      ],
      "metadata": {
        "colab": {
          "base_uri": "https://localhost:8080/",
          "height": 34
        },
        "id": "IAOFHmzEPFRj",
        "outputId": "372b98fc-4c2e-4f36-dcb3-18e40f759aab"
      },
      "execution_count": null,
      "outputs": [
        {
          "output_type": "display_data",
          "data": {
            "text/html": [
              "0"
            ],
            "text/markdown": "0",
            "text/latex": "0",
            "text/plain": [
              "[1] 0"
            ]
          },
          "metadata": {}
        }
      ]
    },
    {
      "cell_type": "code",
      "source": [
        "29 %% 13"
      ],
      "metadata": {
        "colab": {
          "base_uri": "https://localhost:8080/",
          "height": 34
        },
        "id": "Q5XC45qFPJeK",
        "outputId": "3d814fc8-c96d-4b0b-ce5b-02e1b5154baa"
      },
      "execution_count": null,
      "outputs": [
        {
          "output_type": "display_data",
          "data": {
            "text/html": [
              "3"
            ],
            "text/markdown": "3",
            "text/latex": "3",
            "text/plain": [
              "[1] 3"
            ]
          },
          "metadata": {}
        }
      ]
    },
    {
      "cell_type": "code",
      "source": [
        "10 %/% 3"
      ],
      "metadata": {
        "id": "fkiIh4OJilo2",
        "colab": {
          "base_uri": "https://localhost:8080/",
          "height": 34
        },
        "outputId": "181bd0bf-659e-4fe3-c744-4fa107a6a8cf"
      },
      "execution_count": null,
      "outputs": [
        {
          "output_type": "display_data",
          "data": {
            "text/html": [
              "3"
            ],
            "text/markdown": "3",
            "text/latex": "3",
            "text/plain": [
              "[1] 3"
            ]
          },
          "metadata": {}
        }
      ]
    },
    {
      "cell_type": "code",
      "source": [
        "10 / 3"
      ],
      "metadata": {
        "colab": {
          "base_uri": "https://localhost:8080/",
          "height": 34
        },
        "id": "x5RSQv5BPZml",
        "outputId": "22cefe47-76b5-49e9-b2f5-a051b30e671e"
      },
      "execution_count": null,
      "outputs": [
        {
          "output_type": "display_data",
          "data": {
            "text/html": [
              "3.33333333333333"
            ],
            "text/markdown": "3.33333333333333",
            "text/latex": "3.33333333333333",
            "text/plain": [
              "[1] 3.333333"
            ]
          },
          "metadata": {}
        }
      ]
    },
    {
      "cell_type": "code",
      "source": [
        "10L / 3L"
      ],
      "metadata": {
        "colab": {
          "base_uri": "https://localhost:8080/",
          "height": 34
        },
        "id": "awPh2nMzPbPd",
        "outputId": "d4bb1d13-849d-4b1e-8d84-f5652b6566a0"
      },
      "execution_count": null,
      "outputs": [
        {
          "output_type": "display_data",
          "data": {
            "text/html": [
              "3.33333333333333"
            ],
            "text/markdown": "3.33333333333333",
            "text/latex": "3.33333333333333",
            "text/plain": [
              "[1] 3.333333"
            ]
          },
          "metadata": {}
        }
      ]
    },
    {
      "cell_type": "code",
      "source": [
        "10 + 2"
      ],
      "metadata": {
        "colab": {
          "base_uri": "https://localhost:8080/",
          "height": 34
        },
        "id": "IH_ITFIyPs5_",
        "outputId": "111684b0-c29e-4b63-eb1e-19f39c08661e"
      },
      "execution_count": null,
      "outputs": [
        {
          "output_type": "display_data",
          "data": {
            "text/html": [
              "12"
            ],
            "text/markdown": "12",
            "text/latex": "12",
            "text/plain": [
              "[1] 12"
            ]
          },
          "metadata": {}
        }
      ]
    },
    {
      "cell_type": "code",
      "source": [
        "28 - 10"
      ],
      "metadata": {
        "colab": {
          "base_uri": "https://localhost:8080/",
          "height": 34
        },
        "id": "qH4GrZrdPueO",
        "outputId": "00fa515f-7289-433d-95ad-7139ed141366"
      },
      "execution_count": null,
      "outputs": [
        {
          "output_type": "display_data",
          "data": {
            "text/html": [
              "18"
            ],
            "text/markdown": "18",
            "text/latex": "18",
            "text/plain": [
              "[1] 18"
            ]
          },
          "metadata": {}
        }
      ]
    },
    {
      "cell_type": "code",
      "source": [
        "2^10"
      ],
      "metadata": {
        "colab": {
          "base_uri": "https://localhost:8080/",
          "height": 34
        },
        "id": "IGVV1z0NP0Eu",
        "outputId": "66cf264d-2a03-429b-a3bf-bbde35f30b49"
      },
      "execution_count": null,
      "outputs": [
        {
          "output_type": "display_data",
          "data": {
            "text/html": [
              "1024"
            ],
            "text/markdown": "1024",
            "text/latex": "1024",
            "text/plain": [
              "[1] 1024"
            ]
          },
          "metadata": {}
        }
      ]
    },
    {
      "cell_type": "markdown",
      "source": [
        "**Ejercicio**: Usando celdas de código:\n",
        "\n",
        "Imagina que tienes un jardín con la figura de un rectángulo, y tu quieres calcular el área, perímetro y la diagonal. La longitud del jardín es 10 metros y su ancho es 5 metros."
      ],
      "metadata": {
        "id": "bBLhUHMQP9VM"
      }
    },
    {
      "cell_type": "code",
      "source": [
        "l <- 10\n",
        "w <- 5\n",
        "l * w"
      ],
      "metadata": {
        "colab": {
          "base_uri": "https://localhost:8080/",
          "height": 34
        },
        "id": "cq3jix0ZP-9I",
        "outputId": "5616e3bd-ac92-4af7-c6a5-0806ff5f4953"
      },
      "execution_count": null,
      "outputs": [
        {
          "output_type": "display_data",
          "data": {
            "text/html": [
              "50"
            ],
            "text/markdown": "50",
            "text/latex": "50",
            "text/plain": [
              "[1] 50"
            ]
          },
          "metadata": {}
        }
      ]
    },
    {
      "cell_type": "code",
      "source": [
        "(l + w)*2"
      ],
      "metadata": {
        "colab": {
          "base_uri": "https://localhost:8080/",
          "height": 34
        },
        "id": "843CXokCRO6U",
        "outputId": "feda6323-b835-419f-bf6b-92afece9b202"
      },
      "execution_count": null,
      "outputs": [
        {
          "output_type": "display_data",
          "data": {
            "text/html": [
              "30"
            ],
            "text/markdown": "30",
            "text/latex": "30",
            "text/plain": [
              "[1] 30"
            ]
          },
          "metadata": {}
        }
      ]
    },
    {
      "cell_type": "code",
      "source": [
        "(l^2 + w^2)^(1/2)"
      ],
      "metadata": {
        "colab": {
          "base_uri": "https://localhost:8080/",
          "height": 34
        },
        "id": "TglXms8wSFGJ",
        "outputId": "bec74793-8ee4-45d7-f207-34dda2e447fb"
      },
      "execution_count": null,
      "outputs": [
        {
          "output_type": "display_data",
          "data": {
            "text/html": [
              "11.1803398874989"
            ],
            "text/markdown": "11.1803398874989",
            "text/latex": "11.1803398874989",
            "text/plain": [
              "[1] 11.18034"
            ]
          },
          "metadata": {}
        }
      ]
    },
    {
      "cell_type": "code",
      "source": [
        "sqrt((l^2 + w^2))"
      ],
      "metadata": {
        "colab": {
          "base_uri": "https://localhost:8080/",
          "height": 34
        },
        "id": "y5ITHNrESKjV",
        "outputId": "724cb067-b716-4469-887e-c8e253fe8744"
      },
      "execution_count": null,
      "outputs": [
        {
          "output_type": "display_data",
          "data": {
            "text/html": [
              "11.1803398874989"
            ],
            "text/markdown": "11.1803398874989",
            "text/latex": "11.1803398874989",
            "text/plain": [
              "[1] 11.18034"
            ]
          },
          "metadata": {}
        }
      ]
    },
    {
      "cell_type": "markdown",
      "source": [
        "**Operadores relacionales**\n",
        "\n",
        "Los operadores relacionales son usados para comparar valores.\n",
        "\n",
        "| Operador | Descripción                   |\n",
        "|----------|-------------------------------|\n",
        "| `==`     | Igual                    |\n",
        "| `!=`     | No es igual a                  |\n",
        "| `<`      | Menor que                 |\n",
        "| `<=`     | Menor o igual que         |\n",
        "| `>`      | Mayor que                  |\n",
        "| `>=`     | Mayor o igual que      |\n",
        "\n",
        "\n",
        "**Ejercicio**: Usando celdas de códigos calcule lo siguiente:\n",
        "\n",
        "```r\n",
        "x <- 5\n",
        "y <- 16\n",
        "x < y\n",
        "x > y\n",
        "x <= 5\n",
        "y >= 20\n",
        "y == 16\n",
        "x != 5\n",
        "```\n"
      ],
      "metadata": {
        "id": "3D91-Uckmxp-"
      }
    },
    {
      "cell_type": "code",
      "source": [
        "x <- 5\n",
        "y <- 16"
      ],
      "metadata": {
        "id": "3ndOaGpDm1QM"
      },
      "execution_count": null,
      "outputs": []
    },
    {
      "cell_type": "code",
      "source": [
        "x < y"
      ],
      "metadata": {
        "colab": {
          "base_uri": "https://localhost:8080/",
          "height": 34
        },
        "id": "gG7vyL73SlpM",
        "outputId": "8f5588ce-a8fd-43f6-df4c-43541c28c97b"
      },
      "execution_count": null,
      "outputs": [
        {
          "output_type": "display_data",
          "data": {
            "text/html": [
              "TRUE"
            ],
            "text/markdown": "TRUE",
            "text/latex": "TRUE",
            "text/plain": [
              "[1] TRUE"
            ]
          },
          "metadata": {}
        }
      ]
    },
    {
      "cell_type": "code",
      "source": [
        "x > y"
      ],
      "metadata": {
        "colab": {
          "base_uri": "https://localhost:8080/",
          "height": 34
        },
        "id": "ZDz4pTnxSnb8",
        "outputId": "75714564-b771-4fd1-b9a7-0402d2f3cf64"
      },
      "execution_count": null,
      "outputs": [
        {
          "output_type": "display_data",
          "data": {
            "text/html": [
              "FALSE"
            ],
            "text/markdown": "FALSE",
            "text/latex": "FALSE",
            "text/plain": [
              "[1] FALSE"
            ]
          },
          "metadata": {}
        }
      ]
    },
    {
      "cell_type": "code",
      "source": [
        "x <= 5"
      ],
      "metadata": {
        "colab": {
          "base_uri": "https://localhost:8080/",
          "height": 34
        },
        "id": "pPgeviy6Sn8z",
        "outputId": "48476833-fb78-4bc6-d032-84deff1505ca"
      },
      "execution_count": null,
      "outputs": [
        {
          "output_type": "display_data",
          "data": {
            "text/html": [
              "TRUE"
            ],
            "text/markdown": "TRUE",
            "text/latex": "TRUE",
            "text/plain": [
              "[1] TRUE"
            ]
          },
          "metadata": {}
        }
      ]
    },
    {
      "cell_type": "code",
      "source": [
        "y >= 20"
      ],
      "metadata": {
        "colab": {
          "base_uri": "https://localhost:8080/",
          "height": 34
        },
        "id": "_H8RTtvQSoWL",
        "outputId": "cb0494a0-8f7f-44c7-c691-d82b2e965f2f"
      },
      "execution_count": null,
      "outputs": [
        {
          "output_type": "display_data",
          "data": {
            "text/html": [
              "FALSE"
            ],
            "text/markdown": "FALSE",
            "text/latex": "FALSE",
            "text/plain": [
              "[1] FALSE"
            ]
          },
          "metadata": {}
        }
      ]
    },
    {
      "cell_type": "code",
      "source": [
        "y == 16"
      ],
      "metadata": {
        "colab": {
          "base_uri": "https://localhost:8080/",
          "height": 34
        },
        "id": "61OkCkq-TBer",
        "outputId": "37078d5d-00e5-4435-b730-04befa11f96d"
      },
      "execution_count": null,
      "outputs": [
        {
          "output_type": "display_data",
          "data": {
            "text/html": [
              "TRUE"
            ],
            "text/markdown": "TRUE",
            "text/latex": "TRUE",
            "text/plain": [
              "[1] TRUE"
            ]
          },
          "metadata": {}
        }
      ]
    },
    {
      "cell_type": "code",
      "source": [
        "x != 5"
      ],
      "metadata": {
        "colab": {
          "base_uri": "https://localhost:8080/",
          "height": 34
        },
        "id": "18ubuyymSoq7",
        "outputId": "e3fd70a8-6f4b-4655-db5b-a5c2f0539fdc"
      },
      "execution_count": null,
      "outputs": [
        {
          "output_type": "display_data",
          "data": {
            "text/html": [
              "FALSE"
            ],
            "text/markdown": "FALSE",
            "text/latex": "FALSE",
            "text/plain": [
              "[1] FALSE"
            ]
          },
          "metadata": {}
        }
      ]
    },
    {
      "cell_type": "markdown",
      "source": [
        "**Operadores lógicos**\n",
        "\n",
        "Los operadores lógicos permiten llevar a cabo operaciones booleanas tales como AND o OR.\n",
        "\n",
        "| Operator | Descripción             |\n",
        "|----------|-------------------------|\n",
        "| `&`      | Y lógico (usa ambos operandos) |\n",
        "| `&&`     | Y lógico              |\n",
        "| `\\|`      | O lógico (usa ambos operandos)         |\n",
        "| `\\|\\|`   | O lógicos              |\n",
        "| `!`      | Negación                     |\n",
        "\n",
        "Cero es considerado FALSE y valores diferentes de cero son tomados como TRUE.\n",
        "\n",
        "**Ejercicio**: Usando celdas de código calcule lo siguiente:\n",
        "\n",
        "```r\n",
        "x <- TRUE\n",
        "y <- FALSE\n",
        "x & y\n",
        "x & x\n",
        "x | y\n",
        "!x\n",
        "```\n"
      ],
      "metadata": {
        "id": "pfuwVWpAnFaG"
      }
    },
    {
      "cell_type": "code",
      "source": [],
      "metadata": {
        "id": "l1cK1bfonS7E"
      },
      "execution_count": null,
      "outputs": []
    },
    {
      "cell_type": "markdown",
      "source": [
        "**Operadores de asignación**\n",
        "\n",
        "\n",
        "| Operator | Descripción             |\n",
        "|----------|-------------------------|\n",
        "| `<-, <<-`      | El operador de asignación hacia la izquierda |\n",
        "| `->, ->>`     | El operador de asignación hacia la derecha              |\n",
        "| `=`      | El operador de asignación que usa el símbolo de igual   |\n",
        "\n",
        "\n",
        "El operador <- y = pueden ser usados indistintamente para asignar variables en el mismo entorno.\n",
        "\n",
        "El operador <<- es usado para asignar variables en el entorno padre. El operador de asignación hacia derecha aunque disponible es raramente usado.\n",
        "\n",
        "\n",
        "**Ejercicio**: Usando celdas de código calcule lo siguiente:\n",
        "\n",
        "\n",
        "```\n",
        "x <- 5\n",
        "x\n",
        "x <- 9\n",
        "x\n",
        "10 -> x\n",
        "x\n",
        "```\n",
        "\n"
      ],
      "metadata": {
        "id": "Vs56q9YbndO1"
      }
    },
    {
      "cell_type": "markdown",
      "source": [
        "# Precedencia de operadores y asociatividad\n",
        "\n",
        "**Precedencia de operadores**\n",
        "\n",
        "Ejecutar lo siguiente:\n",
        "\n",
        "```r\n",
        "2 + 6 * 5\n",
        "```"
      ],
      "metadata": {
        "id": "jY3Q-l3uSvhZ"
      }
    },
    {
      "cell_type": "markdown",
      "source": [
        "En la anterior expresión el operador * tiene mayor precedencia que +. Puedo cambiar la precedencia usando parentesis, ejecutar el sigueinte código.\n",
        "\n",
        "```\n",
        "(2 + 6) * 5\n",
        "```"
      ],
      "metadata": {
        "id": "UP7IxjTGU6jj"
      }
    },
    {
      "cell_type": "markdown",
      "source": [
        "**Asociatividad de los operadores**\n",
        "\n",
        "Ejecutar lo siguiente:\n",
        "\n",
        "```\n",
        "3 / 4 / 5\n",
        "```"
      ],
      "metadata": {
        "id": "3CxcfOz6VTy7"
      }
    },
    {
      "cell_type": "markdown",
      "source": [
        "El operador / es evaluado de izquierda a derecha."
      ],
      "metadata": {
        "id": "_HrNCfrEVg1H"
      }
    },
    {
      "cell_type": "markdown",
      "source": [
        "# Vectores en R\n",
        "\n",
        "Un vector es una estructura en R la cual contiene elementos del mismo tipo. Los tipos de datos pueden ser logicos, enteros, double, character, complex o raw.\n",
        "\n",
        "Otra importante propiedad de un vector es su longitud. Este es el número de elementos en el vector y puede ser verificado con la función length().\n",
        "\n",
        "Digite lo siguiente en celdas de código:\n",
        "\n",
        "```r\n",
        "x <- c(1, 5, 4, 9, 0)\n",
        "typeof(x)\n",
        "\n",
        "length(x)\n",
        "x <- c(1, 5.4, TRUE, \"hello\")\n",
        "x\n",
        "typeof(x)\n",
        "\n",
        "```"
      ],
      "metadata": {
        "id": "CZFyJPHnpZcs"
      }
    },
    {
      "cell_type": "code",
      "source": [],
      "metadata": {
        "id": "cAfEKQAzniVN"
      },
      "execution_count": null,
      "outputs": []
    },
    {
      "cell_type": "markdown",
      "source": [
        "**Creando un vector usando el operador :**\n",
        "\n",
        "Digite lo siguiente en celdas de código:\n",
        "\n",
        "```r\n",
        "# creando el vector x\n",
        "x <- 1:7\n",
        "x\n",
        "# creando el vector y\n",
        "y <- 2:-2\n",
        "y\n",
        "```\n",
        "\n"
      ],
      "metadata": {
        "id": "DnE09T0HqMEe"
      }
    },
    {
      "cell_type": "code",
      "source": [
        "x <- 1:7\n",
        "x\n",
        "# creando el vector y\n",
        "y <- 2:-2\n",
        "y"
      ],
      "metadata": {
        "id": "IJ-VWJN9BD3n",
        "outputId": "59023f6a-c1f9-4f98-e83b-9096d10d9eaf",
        "colab": {
          "base_uri": "https://localhost:8080/",
          "height": 52
        }
      },
      "execution_count": null,
      "outputs": [
        {
          "output_type": "display_data",
          "data": {
            "text/html": [
              "<style>\n",
              ".list-inline {list-style: none; margin:0; padding: 0}\n",
              ".list-inline>li {display: inline-block}\n",
              ".list-inline>li:not(:last-child)::after {content: \"\\00b7\"; padding: 0 .5ex}\n",
              "</style>\n",
              "<ol class=list-inline><li>1</li><li>2</li><li>3</li><li>4</li><li>5</li><li>6</li><li>7</li></ol>\n"
            ],
            "text/markdown": "1. 1\n2. 2\n3. 3\n4. 4\n5. 5\n6. 6\n7. 7\n\n\n",
            "text/latex": "\\begin{enumerate*}\n\\item 1\n\\item 2\n\\item 3\n\\item 4\n\\item 5\n\\item 6\n\\item 7\n\\end{enumerate*}\n",
            "text/plain": [
              "[1] 1 2 3 4 5 6 7"
            ]
          },
          "metadata": {}
        },
        {
          "output_type": "display_data",
          "data": {
            "text/html": [
              "<style>\n",
              ".list-inline {list-style: none; margin:0; padding: 0}\n",
              ".list-inline>li {display: inline-block}\n",
              ".list-inline>li:not(:last-child)::after {content: \"\\00b7\"; padding: 0 .5ex}\n",
              "</style>\n",
              "<ol class=list-inline><li>2</li><li>1</li><li>0</li><li>-1</li><li>-2</li></ol>\n"
            ],
            "text/markdown": "1. 2\n2. 1\n3. 0\n4. -1\n5. -2\n\n\n",
            "text/latex": "\\begin{enumerate*}\n\\item 2\n\\item 1\n\\item 0\n\\item -1\n\\item -2\n\\end{enumerate*}\n",
            "text/plain": [
              "[1]  2  1  0 -1 -2"
            ]
          },
          "metadata": {}
        }
      ]
    },
    {
      "cell_type": "code",
      "source": [],
      "metadata": {
        "id": "IRDxMu13qQst"
      },
      "execution_count": null,
      "outputs": []
    },
    {
      "cell_type": "markdown",
      "source": [
        "**Creando un vector usando la función seq**\n",
        "\n",
        "La función seq permite generar secuencias.\n",
        "\n",
        "Digite lo siguiente en celdas de código.\n",
        "\n",
        "```r\n",
        "seq(1, 3, by=0.2) # specify step size\n",
        "\n",
        "seq(1, 5, length.out=4) # specify length of the vector\n",
        "```"
      ],
      "metadata": {
        "id": "gAbxPHzaql_-"
      }
    },
    {
      "cell_type": "code",
      "source": [],
      "metadata": {
        "id": "N0w_73DzrCa-"
      },
      "execution_count": null,
      "outputs": []
    },
    {
      "cell_type": "markdown",
      "source": [
        "**Accesando elementos de un vector**\n",
        "\n",
        "**Usando vectores de enteros**\n",
        "\n",
        "Ejecutar lo siguiente:\n",
        "\n",
        "```\n",
        "x <- 1:7\n",
        "\n",
        "x[3]    \n",
        "\n",
        "x[c(2, 4)]     \n",
        "\n",
        "x[-1]          \n",
        "\n",
        "x[c(2, -4)]\n",
        "\n",
        "```"
      ],
      "metadata": {
        "id": "4wQv0P_xY9iy"
      }
    },
    {
      "cell_type": "code",
      "source": [
        "x <- 1:7\n",
        "x\n",
        "\n",
        "x[3]\n",
        "\n",
        "x[c(2, 4)]\n",
        "\n",
        "x[-1]"
      ],
      "metadata": {
        "id": "RzaulIEnBYGV",
        "outputId": "34af42ec-2675-4621-c034-bd32d0fb2b87",
        "colab": {
          "base_uri": "https://localhost:8080/",
          "height": 86
        }
      },
      "execution_count": null,
      "outputs": [
        {
          "output_type": "display_data",
          "data": {
            "text/html": [
              "<style>\n",
              ".list-inline {list-style: none; margin:0; padding: 0}\n",
              ".list-inline>li {display: inline-block}\n",
              ".list-inline>li:not(:last-child)::after {content: \"\\00b7\"; padding: 0 .5ex}\n",
              "</style>\n",
              "<ol class=list-inline><li>1</li><li>2</li><li>3</li><li>4</li><li>5</li><li>6</li><li>7</li></ol>\n"
            ],
            "text/markdown": "1. 1\n2. 2\n3. 3\n4. 4\n5. 5\n6. 6\n7. 7\n\n\n",
            "text/latex": "\\begin{enumerate*}\n\\item 1\n\\item 2\n\\item 3\n\\item 4\n\\item 5\n\\item 6\n\\item 7\n\\end{enumerate*}\n",
            "text/plain": [
              "[1] 1 2 3 4 5 6 7"
            ]
          },
          "metadata": {}
        },
        {
          "output_type": "display_data",
          "data": {
            "text/html": [
              "3"
            ],
            "text/markdown": "3",
            "text/latex": "3",
            "text/plain": [
              "[1] 3"
            ]
          },
          "metadata": {}
        },
        {
          "output_type": "display_data",
          "data": {
            "text/html": [
              "<style>\n",
              ".list-inline {list-style: none; margin:0; padding: 0}\n",
              ".list-inline>li {display: inline-block}\n",
              ".list-inline>li:not(:last-child)::after {content: \"\\00b7\"; padding: 0 .5ex}\n",
              "</style>\n",
              "<ol class=list-inline><li>2</li><li>4</li></ol>\n"
            ],
            "text/markdown": "1. 2\n2. 4\n\n\n",
            "text/latex": "\\begin{enumerate*}\n\\item 2\n\\item 4\n\\end{enumerate*}\n",
            "text/plain": [
              "[1] 2 4"
            ]
          },
          "metadata": {}
        },
        {
          "output_type": "display_data",
          "data": {
            "text/html": [
              "<style>\n",
              ".list-inline {list-style: none; margin:0; padding: 0}\n",
              ".list-inline>li {display: inline-block}\n",
              ".list-inline>li:not(:last-child)::after {content: \"\\00b7\"; padding: 0 .5ex}\n",
              "</style>\n",
              "<ol class=list-inline><li>2</li><li>3</li><li>4</li><li>5</li><li>6</li><li>7</li></ol>\n"
            ],
            "text/markdown": "1. 2\n2. 3\n3. 4\n4. 5\n5. 6\n6. 7\n\n\n",
            "text/latex": "\\begin{enumerate*}\n\\item 2\n\\item 3\n\\item 4\n\\item 5\n\\item 6\n\\item 7\n\\end{enumerate*}\n",
            "text/plain": [
              "[1] 2 3 4 5 6 7"
            ]
          },
          "metadata": {}
        }
      ]
    },
    {
      "cell_type": "code",
      "source": [
        "x[c(2, -4)]"
      ],
      "metadata": {
        "id": "fguDAHMSDc76",
        "outputId": "b3b0b060-6c91-4ee3-8584-f46344d1a943",
        "colab": {
          "base_uri": "https://localhost:8080/",
          "height": 72
        }
      },
      "execution_count": null,
      "outputs": [
        {
          "output_type": "error",
          "ename": "ERROR",
          "evalue": "Error in x[c(2, -4)]: only 0's may be mixed with negative subscripts\n",
          "traceback": [
            "Error in x[c(2, -4)]: only 0's may be mixed with negative subscripts\nTraceback:\n"
          ]
        }
      ]
    },
    {
      "cell_type": "markdown",
      "source": [
        "**Usando vectores lógicos**\n",
        "\n",
        "Ejecutar lo siguiente.\n",
        "\n",
        "```\n",
        "x <- 1:5\n",
        "x[c(TRUE, FALSE, FALSE, TRUE)]\n",
        "# filtrando basandonos en condiciones\n",
        "# Ojo: vamos a ver mejores formas de hacer esto\n",
        "# con verbos en el tidyverse.\n",
        "x[x < 0]\n",
        "x[x > 0]\n",
        "\n",
        "```"
      ],
      "metadata": {
        "id": "9sDlFPYqap3U"
      }
    },
    {
      "cell_type": "code",
      "source": [
        "x <- 1:5\n",
        "x\n",
        "c(TRUE, FALSE, FALSE, TRUE)\n",
        "x[c(TRUE, FALSE, FALSE, TRUE)]"
      ],
      "metadata": {
        "id": "ZJbA-C5MGgZ4",
        "outputId": "23a33337-52ac-4ced-f3e6-bc93db9fd4c0",
        "colab": {
          "base_uri": "https://localhost:8080/",
          "height": 69
        }
      },
      "execution_count": null,
      "outputs": [
        {
          "output_type": "display_data",
          "data": {
            "text/html": [
              "<style>\n",
              ".list-inline {list-style: none; margin:0; padding: 0}\n",
              ".list-inline>li {display: inline-block}\n",
              ".list-inline>li:not(:last-child)::after {content: \"\\00b7\"; padding: 0 .5ex}\n",
              "</style>\n",
              "<ol class=list-inline><li>1</li><li>2</li><li>3</li><li>4</li><li>5</li></ol>\n"
            ],
            "text/markdown": "1. 1\n2. 2\n3. 3\n4. 4\n5. 5\n\n\n",
            "text/latex": "\\begin{enumerate*}\n\\item 1\n\\item 2\n\\item 3\n\\item 4\n\\item 5\n\\end{enumerate*}\n",
            "text/plain": [
              "[1] 1 2 3 4 5"
            ]
          },
          "metadata": {}
        },
        {
          "output_type": "display_data",
          "data": {
            "text/html": [
              "<style>\n",
              ".list-inline {list-style: none; margin:0; padding: 0}\n",
              ".list-inline>li {display: inline-block}\n",
              ".list-inline>li:not(:last-child)::after {content: \"\\00b7\"; padding: 0 .5ex}\n",
              "</style>\n",
              "<ol class=list-inline><li>TRUE</li><li>FALSE</li><li>FALSE</li><li>TRUE</li></ol>\n"
            ],
            "text/markdown": "1. TRUE\n2. FALSE\n3. FALSE\n4. TRUE\n\n\n",
            "text/latex": "\\begin{enumerate*}\n\\item TRUE\n\\item FALSE\n\\item FALSE\n\\item TRUE\n\\end{enumerate*}\n",
            "text/plain": [
              "[1]  TRUE FALSE FALSE  TRUE"
            ]
          },
          "metadata": {}
        },
        {
          "output_type": "display_data",
          "data": {
            "text/html": [
              "<style>\n",
              ".list-inline {list-style: none; margin:0; padding: 0}\n",
              ".list-inline>li {display: inline-block}\n",
              ".list-inline>li:not(:last-child)::after {content: \"\\00b7\"; padding: 0 .5ex}\n",
              "</style>\n",
              "<ol class=list-inline><li>1</li><li>4</li><li>5</li></ol>\n"
            ],
            "text/markdown": "1. 1\n2. 4\n3. 5\n\n\n",
            "text/latex": "\\begin{enumerate*}\n\\item 1\n\\item 4\n\\item 5\n\\end{enumerate*}\n",
            "text/plain": [
              "[1] 1 4 5"
            ]
          },
          "metadata": {}
        }
      ]
    },
    {
      "cell_type": "code",
      "source": [
        "x"
      ],
      "metadata": {
        "id": "oj2Zy5htG6Wq",
        "outputId": "c852af3a-873c-4bc2-ff22-bc8d71cd7d2a",
        "colab": {
          "base_uri": "https://localhost:8080/",
          "height": 34
        }
      },
      "execution_count": null,
      "outputs": [
        {
          "output_type": "display_data",
          "data": {
            "text/html": [
              "<style>\n",
              ".list-inline {list-style: none; margin:0; padding: 0}\n",
              ".list-inline>li {display: inline-block}\n",
              ".list-inline>li:not(:last-child)::after {content: \"\\00b7\"; padding: 0 .5ex}\n",
              "</style>\n",
              "<ol class=list-inline><li>1</li><li>2</li><li>3</li><li>4</li><li>5</li></ol>\n"
            ],
            "text/markdown": "1. 1\n2. 2\n3. 3\n4. 4\n5. 5\n\n\n",
            "text/latex": "\\begin{enumerate*}\n\\item 1\n\\item 2\n\\item 3\n\\item 4\n\\item 5\n\\end{enumerate*}\n",
            "text/plain": [
              "[1] 1 2 3 4 5"
            ]
          },
          "metadata": {}
        }
      ]
    },
    {
      "cell_type": "code",
      "source": [
        "x < 0"
      ],
      "metadata": {
        "id": "5Dug4hzjG9fQ",
        "outputId": "243005b6-3e5d-45ba-a84a-dbfef7ca8e92",
        "colab": {
          "base_uri": "https://localhost:8080/",
          "height": 34
        }
      },
      "execution_count": null,
      "outputs": [
        {
          "output_type": "display_data",
          "data": {
            "text/html": [
              "<style>\n",
              ".list-inline {list-style: none; margin:0; padding: 0}\n",
              ".list-inline>li {display: inline-block}\n",
              ".list-inline>li:not(:last-child)::after {content: \"\\00b7\"; padding: 0 .5ex}\n",
              "</style>\n",
              "<ol class=list-inline><li>FALSE</li><li>FALSE</li><li>FALSE</li><li>FALSE</li><li>FALSE</li></ol>\n"
            ],
            "text/markdown": "1. FALSE\n2. FALSE\n3. FALSE\n4. FALSE\n5. FALSE\n\n\n",
            "text/latex": "\\begin{enumerate*}\n\\item FALSE\n\\item FALSE\n\\item FALSE\n\\item FALSE\n\\item FALSE\n\\end{enumerate*}\n",
            "text/plain": [
              "[1] FALSE FALSE FALSE FALSE FALSE"
            ]
          },
          "metadata": {}
        }
      ]
    },
    {
      "cell_type": "code",
      "source": [
        "print(x[x < 0]) # vector de longitud 0\n"
      ],
      "metadata": {
        "id": "XABSb50qG1BK",
        "outputId": "92be447f-4d53-4aa1-a78f-2012d4ea5503",
        "colab": {
          "base_uri": "https://localhost:8080/"
        }
      },
      "execution_count": null,
      "outputs": [
        {
          "output_type": "stream",
          "name": "stdout",
          "text": [
            "integer(0)\n"
          ]
        }
      ]
    },
    {
      "cell_type": "code",
      "source": [
        "x[x > 0]"
      ],
      "metadata": {
        "id": "Gr5qDZaLG2Ep",
        "outputId": "f658597f-04bd-431e-c873-7a7792c3aa8a",
        "colab": {
          "base_uri": "https://localhost:8080/",
          "height": 34
        }
      },
      "execution_count": null,
      "outputs": [
        {
          "output_type": "display_data",
          "data": {
            "text/html": [
              "<style>\n",
              ".list-inline {list-style: none; margin:0; padding: 0}\n",
              ".list-inline>li {display: inline-block}\n",
              ".list-inline>li:not(:last-child)::after {content: \"\\00b7\"; padding: 0 .5ex}\n",
              "</style>\n",
              "<ol class=list-inline><li>1</li><li>2</li><li>3</li><li>4</li><li>5</li></ol>\n"
            ],
            "text/markdown": "1. 1\n2. 2\n3. 3\n4. 4\n5. 5\n\n\n",
            "text/latex": "\\begin{enumerate*}\n\\item 1\n\\item 2\n\\item 3\n\\item 4\n\\item 5\n\\end{enumerate*}\n",
            "text/plain": [
              "[1] 1 2 3 4 5"
            ]
          },
          "metadata": {}
        }
      ]
    },
    {
      "cell_type": "markdown",
      "source": [
        "**Modificando los valores de un vector**\n",
        "\n",
        "\n",
        "Ejecutar lo siguiente:\n",
        "\n",
        "```\n",
        "x <- c(-3,-2,-1,0,1,2)\n",
        "\n",
        "x[2] <- 0\n",
        "x        \n",
        "\n",
        "x[x<0] <- 5\n",
        "x   \n",
        "\n",
        "```"
      ],
      "metadata": {
        "id": "c1dNxs1ycVW3"
      }
    },
    {
      "cell_type": "code",
      "source": [
        "x <- c(-3,-2,-1,0,1,2)\n",
        "\n",
        "x[2] <- 0\n",
        "x\n",
        "\n",
        "x[x<0] <- 5\n",
        "x"
      ],
      "metadata": {
        "id": "baLAPTDgJNkF",
        "outputId": "f97add1b-2d97-4878-be14-e59063802e03",
        "colab": {
          "base_uri": "https://localhost:8080/",
          "height": 52
        }
      },
      "execution_count": null,
      "outputs": [
        {
          "output_type": "display_data",
          "data": {
            "text/html": [
              "<style>\n",
              ".list-inline {list-style: none; margin:0; padding: 0}\n",
              ".list-inline>li {display: inline-block}\n",
              ".list-inline>li:not(:last-child)::after {content: \"\\00b7\"; padding: 0 .5ex}\n",
              "</style>\n",
              "<ol class=list-inline><li>-3</li><li>0</li><li>-1</li><li>0</li><li>1</li><li>2</li></ol>\n"
            ],
            "text/markdown": "1. -3\n2. 0\n3. -1\n4. 0\n5. 1\n6. 2\n\n\n",
            "text/latex": "\\begin{enumerate*}\n\\item -3\n\\item 0\n\\item -1\n\\item 0\n\\item 1\n\\item 2\n\\end{enumerate*}\n",
            "text/plain": [
              "[1] -3  0 -1  0  1  2"
            ]
          },
          "metadata": {}
        },
        {
          "output_type": "display_data",
          "data": {
            "text/html": [
              "<style>\n",
              ".list-inline {list-style: none; margin:0; padding: 0}\n",
              ".list-inline>li {display: inline-block}\n",
              ".list-inline>li:not(:last-child)::after {content: \"\\00b7\"; padding: 0 .5ex}\n",
              "</style>\n",
              "<ol class=list-inline><li>5</li><li>0</li><li>5</li><li>0</li><li>1</li><li>2</li></ol>\n"
            ],
            "text/markdown": "1. 5\n2. 0\n3. 5\n4. 0\n5. 1\n6. 2\n\n\n",
            "text/latex": "\\begin{enumerate*}\n\\item 5\n\\item 0\n\\item 5\n\\item 0\n\\item 1\n\\item 2\n\\end{enumerate*}\n",
            "text/plain": [
              "[1] 5 0 5 0 1 2"
            ]
          },
          "metadata": {}
        }
      ]
    },
    {
      "cell_type": "markdown",
      "source": [
        "**Ejercicio**\n",
        "\n",
        "* La siguiente tabla representa datos de temperatura máxima en El Salvador del 11 al 15 de marzo.\n",
        "\n",
        "| Lunes  | Martes  | Miércoles  | Jueves  | Viernes  |\n",
        "|---|---|---|---|---|\n",
        "| 35  | 33  |  33 | 32  |  30 |\n",
        "\n",
        "* Crear un vector con la anterior información.\n",
        "\n",
        "* Calcular el máximo valor de temperatura usando la función max\n",
        "\n",
        "* Investigar como poner nombres a los elementos del vector anterior. Puede usar ChatGPT o google.\n",
        "\n",
        "* Usar la función summary sobre el vector\n",
        "\n",
        "* Accesar a los elementos que van de Lunes a Jueves\n",
        "\n",
        "* Modificar el valor de Jueves por 35\n",
        "\n"
      ],
      "metadata": {
        "id": "vIfP3CxMjw2N"
      }
    },
    {
      "cell_type": "code",
      "source": [
        " temper <-c(35  , 33  ,  33 , 32  ,  30 )"
      ],
      "metadata": {
        "id": "jc5A5wZfLnlr"
      },
      "execution_count": null,
      "outputs": []
    },
    {
      "cell_type": "code",
      "source": [
        "temper"
      ],
      "metadata": {
        "id": "FtqldewILyQ7",
        "outputId": "c3c05958-8e32-4389-922c-3305e2d8c390",
        "colab": {
          "base_uri": "https://localhost:8080/",
          "height": 34
        }
      },
      "execution_count": null,
      "outputs": [
        {
          "output_type": "display_data",
          "data": {
            "text/html": [
              "<style>\n",
              ".list-inline {list-style: none; margin:0; padding: 0}\n",
              ".list-inline>li {display: inline-block}\n",
              ".list-inline>li:not(:last-child)::after {content: \"\\00b7\"; padding: 0 .5ex}\n",
              "</style>\n",
              "<ol class=list-inline><li>35</li><li>33</li><li>33</li><li>32</li><li>30</li></ol>\n"
            ],
            "text/markdown": "1. 35\n2. 33\n3. 33\n4. 32\n5. 30\n\n\n",
            "text/latex": "\\begin{enumerate*}\n\\item 35\n\\item 33\n\\item 33\n\\item 32\n\\item 30\n\\end{enumerate*}\n",
            "text/plain": [
              "[1] 35 33 33 32 30"
            ]
          },
          "metadata": {}
        }
      ]
    },
    {
      "cell_type": "code",
      "source": [
        "temper"
      ],
      "metadata": {
        "id": "nxMGVpK7NUzt",
        "outputId": "57d6844a-0c6d-4261-ef64-1d8a3e52b2f5",
        "colab": {
          "base_uri": "https://localhost:8080/",
          "height": 34
        }
      },
      "execution_count": null,
      "outputs": [
        {
          "output_type": "display_data",
          "data": {
            "text/html": [
              "<style>\n",
              ".list-inline {list-style: none; margin:0; padding: 0}\n",
              ".list-inline>li {display: inline-block}\n",
              ".list-inline>li:not(:last-child)::after {content: \"\\00b7\"; padding: 0 .5ex}\n",
              "</style>\n",
              "<ol class=list-inline><li>35</li><li>33</li><li>33</li><li>32</li><li>30</li></ol>\n"
            ],
            "text/markdown": "1. 35\n2. 33\n3. 33\n4. 32\n5. 30\n\n\n",
            "text/latex": "\\begin{enumerate*}\n\\item 35\n\\item 33\n\\item 33\n\\item 32\n\\item 30\n\\end{enumerate*}\n",
            "text/plain": [
              "[1] 35 33 33 32 30"
            ]
          },
          "metadata": {}
        }
      ]
    },
    {
      "cell_type": "code",
      "source": [
        "max(temper)"
      ],
      "metadata": {
        "colab": {
          "base_uri": "https://localhost:8080/",
          "height": 34
        },
        "id": "zSeEvlbs27zk",
        "outputId": "4edbc257-fe3b-4c66-e15b-e6fce52b0d21"
      },
      "execution_count": null,
      "outputs": [
        {
          "output_type": "display_data",
          "data": {
            "text/html": [
              "35"
            ],
            "text/markdown": "35",
            "text/latex": "35",
            "text/plain": [
              "[1] 35"
            ]
          },
          "metadata": {}
        }
      ]
    },
    {
      "cell_type": "code",
      "source": [
        "names(temper) <- c(\"Lunes\", \"Martes\", \"Miércoles\", \"Jueves\", \"Viernes\")"
      ],
      "metadata": {
        "id": "8v_c1vN2284C"
      },
      "execution_count": null,
      "outputs": []
    },
    {
      "cell_type": "code",
      "source": [
        "as.matrix(temper)"
      ],
      "metadata": {
        "id": "URq-RWpeNfKJ",
        "outputId": "f15cad16-d697-4a71-91f6-14226eb5913c",
        "colab": {
          "base_uri": "https://localhost:8080/",
          "height": 209
        }
      },
      "execution_count": null,
      "outputs": [
        {
          "output_type": "display_data",
          "data": {
            "text/html": [
              "<table class=\"dataframe\">\n",
              "<caption>A matrix: 5 × 1 of type dbl</caption>\n",
              "<tbody>\n",
              "\t<tr><th scope=row>Lunes</th><td>35</td></tr>\n",
              "\t<tr><th scope=row>Martes</th><td>33</td></tr>\n",
              "\t<tr><th scope=row>Miércoles</th><td>33</td></tr>\n",
              "\t<tr><th scope=row>Jueves</th><td>32</td></tr>\n",
              "\t<tr><th scope=row>Viernes</th><td>30</td></tr>\n",
              "</tbody>\n",
              "</table>\n"
            ],
            "text/markdown": "\nA matrix: 5 × 1 of type dbl\n\n| Lunes | 35 |\n| Martes | 33 |\n| Miércoles | 33 |\n| Jueves | 32 |\n| Viernes | 30 |\n\n",
            "text/latex": "A matrix: 5 × 1 of type dbl\n\\begin{tabular}{r|l}\n\tLunes & 35\\\\\n\tMartes & 33\\\\\n\tMiércoles & 33\\\\\n\tJueves & 32\\\\\n\tViernes & 30\\\\\n\\end{tabular}\n",
            "text/plain": [
              "          [,1]\n",
              "Lunes     35  \n",
              "Martes    33  \n",
              "Miércoles 33  \n",
              "Jueves    32  \n",
              "Viernes   30  "
            ]
          },
          "metadata": {}
        }
      ]
    },
    {
      "cell_type": "code",
      "source": [
        "t(as.matrix(temper))"
      ],
      "metadata": {
        "id": "8_sVNY1GNxxK",
        "outputId": "cd10f3a7-fa58-4251-c379-798453ad278f",
        "colab": {
          "base_uri": "https://localhost:8080/",
          "height": 98
        }
      },
      "execution_count": null,
      "outputs": [
        {
          "output_type": "display_data",
          "data": {
            "text/html": [
              "<table class=\"dataframe\">\n",
              "<caption>A matrix: 1 × 5 of type dbl</caption>\n",
              "<thead>\n",
              "\t<tr><th scope=col>Lunes</th><th scope=col>Martes</th><th scope=col>Miércoles</th><th scope=col>Jueves</th><th scope=col>Viernes</th></tr>\n",
              "</thead>\n",
              "<tbody>\n",
              "\t<tr><td>35</td><td>33</td><td>33</td><td>32</td><td>30</td></tr>\n",
              "</tbody>\n",
              "</table>\n"
            ],
            "text/markdown": "\nA matrix: 1 × 5 of type dbl\n\n| Lunes | Martes | Miércoles | Jueves | Viernes |\n|---|---|---|---|---|\n| 35 | 33 | 33 | 32 | 30 |\n\n",
            "text/latex": "A matrix: 1 × 5 of type dbl\n\\begin{tabular}{lllll}\n Lunes & Martes & Miércoles & Jueves & Viernes\\\\\n\\hline\n\t 35 & 33 & 33 & 32 & 30\\\\\n\\end{tabular}\n",
            "text/plain": [
              "     Lunes Martes Miércoles Jueves Viernes\n",
              "[1,] 35    33     33        32     30     "
            ]
          },
          "metadata": {}
        }
      ]
    },
    {
      "cell_type": "code",
      "source": [
        "summary(temper)"
      ],
      "metadata": {
        "id": "3hKAOiUbL-lx",
        "outputId": "111af4ec-fe06-4f3e-f986-fdf3acb31498",
        "colab": {
          "base_uri": "https://localhost:8080/",
          "height": 52
        }
      },
      "execution_count": null,
      "outputs": [
        {
          "output_type": "display_data",
          "data": {
            "text/plain": [
              "   Min. 1st Qu.  Median    Mean 3rd Qu.    Max. \n",
              "   30.0    32.0    33.0    32.6    33.0    35.0 "
            ]
          },
          "metadata": {}
        }
      ]
    },
    {
      "cell_type": "code",
      "source": [
        "temper[1:4]"
      ],
      "metadata": {
        "id": "XMAfUhHmN6Er",
        "outputId": "c867e5e6-d64e-4ff4-b002-f3922995d2f9",
        "colab": {
          "base_uri": "https://localhost:8080/",
          "height": 34
        }
      },
      "execution_count": null,
      "outputs": [
        {
          "output_type": "display_data",
          "data": {
            "text/html": [
              "<style>\n",
              ".dl-inline {width: auto; margin:0; padding: 0}\n",
              ".dl-inline>dt, .dl-inline>dd {float: none; width: auto; display: inline-block}\n",
              ".dl-inline>dt::after {content: \":\\0020\"; padding-right: .5ex}\n",
              ".dl-inline>dt:not(:first-of-type) {padding-left: .5ex}\n",
              "</style><dl class=dl-inline><dt>Lunes</dt><dd>35</dd><dt>Martes</dt><dd>33</dd><dt>Miércoles</dt><dd>33</dd><dt>Jueves</dt><dd>32</dd></dl>\n"
            ],
            "text/markdown": "Lunes\n:   35Martes\n:   33Miércoles\n:   33Jueves\n:   32\n\n",
            "text/latex": "\\begin{description*}\n\\item[Lunes] 35\n\\item[Martes] 33\n\\item[Miércoles] 33\n\\item[Jueves] 32\n\\end{description*}\n",
            "text/plain": [
              "    Lunes    Martes Miércoles    Jueves \n",
              "       35        33        33        32 "
            ]
          },
          "metadata": {}
        }
      ]
    },
    {
      "cell_type": "code",
      "source": [
        "temper[\"Jueves\"] <- 35"
      ],
      "metadata": {
        "id": "J1zm1IJeOFIL"
      },
      "execution_count": null,
      "outputs": []
    },
    {
      "cell_type": "code",
      "source": [
        "temper[1:4]"
      ],
      "metadata": {
        "id": "56DKVaYaOVBZ",
        "outputId": "8b1f34b4-e798-4d57-98c6-e075b0b1d776",
        "colab": {
          "base_uri": "https://localhost:8080/",
          "height": 34
        }
      },
      "execution_count": null,
      "outputs": [
        {
          "output_type": "display_data",
          "data": {
            "text/html": [
              "<style>\n",
              ".dl-inline {width: auto; margin:0; padding: 0}\n",
              ".dl-inline>dt, .dl-inline>dd {float: none; width: auto; display: inline-block}\n",
              ".dl-inline>dt::after {content: \":\\0020\"; padding-right: .5ex}\n",
              ".dl-inline>dt:not(:first-of-type) {padding-left: .5ex}\n",
              "</style><dl class=dl-inline><dt>Lunes</dt><dd>35</dd><dt>Martes</dt><dd>33</dd><dt>Miércoles</dt><dd>33</dd><dt>Jueves</dt><dd>35</dd></dl>\n"
            ],
            "text/markdown": "Lunes\n:   35Martes\n:   33Miércoles\n:   33Jueves\n:   35\n\n",
            "text/latex": "\\begin{description*}\n\\item[Lunes] 35\n\\item[Martes] 33\n\\item[Miércoles] 33\n\\item[Jueves] 35\n\\end{description*}\n",
            "text/plain": [
              "    Lunes    Martes Miércoles    Jueves \n",
              "       35        33        33        35 "
            ]
          },
          "metadata": {}
        }
      ]
    },
    {
      "cell_type": "markdown",
      "source": [
        "# Matrices\n",
        "\n",
        "Para crear matrices debo usar la función matrix. Ejecutar lo siguiente:\n",
        "\n",
        "```\n",
        "matrix(1:9, nrow = 3, ncol = 3)\n",
        "```"
      ],
      "metadata": {
        "id": "a9Rq5oOXc2WV"
      }
    },
    {
      "cell_type": "markdown",
      "source": [
        "Ejecutar lo siguiente y verificar que da el mismo resultado de la celda anterior.\n",
        "\n",
        "```\n",
        "matrix(1:9, nrow = 3)\n",
        "```"
      ],
      "metadata": {
        "id": "pz0PFVJAdGIn"
      }
    },
    {
      "cell_type": "markdown",
      "source": [
        "Para llenar por filas, probar con el siguiente código:\n",
        "\n",
        "\n",
        "```\n",
        "matrix(1:9, nrow = 3, byrow=TRUE)\n",
        "```"
      ],
      "metadata": {
        "id": "4VRhMpz4dWay"
      }
    },
    {
      "cell_type": "markdown",
      "source": [
        "**Accesando elementos de una matriz.**\n",
        "\n",
        "Suponiendo que tenemos la matriz var la sintaxis para accesar a la fila 1 y columna 2 es:\n",
        "\n",
        "```\n",
        "var[1, 2]\n",
        "```"
      ],
      "metadata": {
        "id": "aa35CXtKd5de"
      }
    },
    {
      "cell_type": "markdown",
      "source": [
        "Ejecutar lo siguiente:\n",
        "\n",
        "```\n",
        "x <- matrix(1:9, nrow = 3, ncol = 3, byrow = TRUE)\n",
        "\n",
        "# selecccionando filas 1 y 2, y columnas 2 y 3.\n",
        "x[c(1,2),c(2,3)]    \n",
        "\n",
        "# dejando vacia una dimensión implica que\n",
        "# selecciona todos los elementos de esa dimensión\n",
        "x[c(3,2),]    \n",
        "\n",
        "\n",
        "# Selecciona todas las filas exceptuando la primera.\n",
        "x[-1,]    \n",
        "\n",
        "```"
      ],
      "metadata": {
        "id": "aErYUUDVeSgm"
      }
    },
    {
      "cell_type": "markdown",
      "source": [
        "**Ejercicio**:\n",
        "\n",
        "* Encontrar un ejemplo de como modificar una matriz\n",
        "* Encontrar un ejemplo de como asignar vectores de caracteres a los elementos de cada una de las dimensiones (filas y columnas)\n",
        "* Encontrar un ejemplo de como usar los nombres en las dimensiones para seleccionar ya sea conjuntos de columnas, filas o elementos individuales de una matriz."
      ],
      "metadata": {
        "id": "8YqjgggyfFdU"
      }
    },
    {
      "cell_type": "markdown",
      "source": [
        "Calcular lo siguiente:\n",
        "\n",
        "Matrix A:\n",
        "\n",
        "$$\n",
        "A = \\begin{pmatrix} 1 & 2 \\\\ 3 & 4 \\end{pmatrix}\n",
        "$$\n",
        "\n",
        "Matrix B:\n",
        "\n",
        "$$\n",
        "B = \\begin{pmatrix} 5 & 6 \\\\ 7 & 8 \\end{pmatrix}\n",
        "$$\n",
        "\n",
        "$$ A + B $$\n",
        "\n",
        "$$ A \\times B $$\n",
        "\n",
        "\n",
        "$$\n",
        "A^{-1}\n",
        "$$\n",
        "\n"
      ],
      "metadata": {
        "id": "OvnDqiPnfyLs"
      }
    },
    {
      "cell_type": "markdown",
      "source": [
        "Otra forma de crear matrices es usando rbind y cbind. A continuación vamos a crear dos vectores con la misma longitud con el siguiente código:\n",
        "\n",
        "```\n",
        "vec1 <- c(1, 2, 3)\n",
        "vec2 <- c(4, 5, 6)\n",
        "```"
      ],
      "metadata": {
        "id": "FKVhc_twJ0I8"
      }
    },
    {
      "cell_type": "markdown",
      "source": [
        "A partir de los anteriores vectores puedo crear una matriz de orden 2 x 3 donde los elementos del vector consituyen las filas de la nueva matriz de la siguiente forma:\n",
        "\n",
        "```\n",
        "rbind(vec1, vec2)\n",
        "```"
      ],
      "metadata": {
        "id": "mFHnxmrLKR1K"
      }
    },
    {
      "cell_type": "markdown",
      "source": [
        "Tambien puedo crear una matriz 3 x 2 con la información de los anteriores vectores con la función cbind."
      ],
      "metadata": {
        "id": "ZOc7BCgZLC-a"
      }
    },
    {
      "cell_type": "markdown",
      "source": [
        "```\n",
        "cbind(vec1, vec2)\n",
        "```"
      ],
      "metadata": {
        "id": "yc3loL5ULFAY"
      }
    },
    {
      "cell_type": "markdown",
      "source": [
        "# Listas\n",
        "\n",
        "Una lista puede ser definida como un vector donde los elementos son de distinto tipo.\n",
        "\n",
        "Vamos a ver un ejemplo de como crear una lista, ejecutar lo siguiente en una celda de código.\n",
        "\n",
        "```\n",
        "x <- list(\"a\" = 2.5, \"b\" = TRUE, \"c\" = 1:3)\n",
        "x\n",
        "```"
      ],
      "metadata": {
        "id": "aWRQIC7loEP9"
      }
    },
    {
      "cell_type": "markdown",
      "source": [
        "La estructura de la lista puede ser examinada con la función str. Ejecutar lo siguiente en una celda de código.\n",
        "\n",
        "```\n",
        "str(x)\n",
        "```\n"
      ],
      "metadata": {
        "id": "GXPeVbfDou7v"
      }
    },
    {
      "cell_type": "markdown",
      "source": [
        "Las etiquetas en los componentes de la lista son opcionales, ejecutemos lo siguiente en una celda de código:\n",
        "\n",
        "```\n",
        "x <- list(2.5,TRUE,1:3)\n",
        "x\n",
        "```"
      ],
      "metadata": {
        "id": "XuIz0aiHpHTD"
      }
    },
    {
      "cell_type": "markdown",
      "source": [
        "**Accesando elementos en una lista**\n",
        "\n",
        "Las listas pueden ser accesadas de una manera parecida a la que se usa con los vectores. Ejecutar lo siguiente en una celda de código.\n",
        "\n",
        "\n",
        "```\n",
        "x <- list(name = \"John\", age = 19, speaks = c(\"English\", \"French\"))\n",
        "\n",
        "# accesando elementos por nombre\n",
        "x$name\n",
        "x$age\n",
        "x$speaks\n",
        "\n",
        "# accesando elementos por índice entero\n",
        "x[c(1, 2)]\n",
        "x[-2]\n",
        "\n",
        "# accesando elementos usando índice lógico\n",
        "x[c(TRUE, FALSE, FALSE)]\n",
        "\n",
        "# accesando elementos por índice de caracter\n",
        "x[c(\"age\", \"speaks\")]\n",
        "\n",
        "```"
      ],
      "metadata": {
        "id": "J9rvaFlqppdq"
      }
    },
    {
      "cell_type": "markdown",
      "source": [
        "**Usando corchetes para accesar a elementos en una lista**\n",
        "\n",
        "Ejecutar lo siguiente en celdas de código.\n",
        "\n",
        "```\n",
        "\n",
        "x[\"age\"]\n",
        "\n",
        "typeof(x[\"age\"])\n",
        "\n",
        "x[[\"age\"]]\n",
        "\n",
        "typeof(x[[\"age\"]])\n",
        "\n",
        "\n",
        "```\n",
        "\n"
      ],
      "metadata": {
        "id": "KltpzwQTq7RV"
      }
    },
    {
      "cell_type": "markdown",
      "source": [
        "Hay que notar que cuando solo se usa un corchete se devuelve una lista."
      ],
      "metadata": {
        "id": "CVFkzSaqrfPZ"
      }
    },
    {
      "cell_type": "code",
      "source": [
        "x[\"age\"]"
      ],
      "metadata": {
        "colab": {
          "base_uri": "https://localhost:8080/",
          "height": 34
        },
        "id": "r86YzXzKrek5",
        "outputId": "9089316f-06d6-447f-b0e0-a72aa4301235"
      },
      "execution_count": null,
      "outputs": [
        {
          "output_type": "display_data",
          "data": {
            "text/html": [
              "<strong>$age</strong> = 19"
            ],
            "text/markdown": "**$age** = 19",
            "text/latex": "\\textbf{\\$age} = 19",
            "text/plain": [
              "$age\n",
              "[1] 19\n"
            ]
          },
          "metadata": {}
        }
      ]
    },
    {
      "cell_type": "markdown",
      "source": [
        "**Como modificar elementos de una lista**\n",
        "\n",
        "Usamos las técnicas vistas anteriormente y el operador de asignación <-. Ejecutar el siguiente código en una celda.\n",
        "\n",
        "\n",
        "```\n",
        "x <- list(name = \"John\", age = 19, speaks = c(\"English\", \"French\"))\n",
        "\n",
        "x\n",
        "\n",
        "#  accesando elementos usando [[]] y actualizando su valor\n",
        "x[[\"name\"]] <- \"Clair\"\n",
        "\n",
        "x\n",
        "```"
      ],
      "metadata": {
        "id": "lHVFgIlSr_EG"
      }
    },
    {
      "cell_type": "code",
      "source": [
        "x <- list(name = \"John\", age = 19, speaks = c(\"English\", \"French\"))"
      ],
      "metadata": {
        "id": "9a7oiL9OOvUB"
      },
      "execution_count": null,
      "outputs": []
    },
    {
      "cell_type": "code",
      "source": [
        "x"
      ],
      "metadata": {
        "colab": {
          "base_uri": "https://localhost:8080/",
          "height": 149
        },
        "id": "WlaAdQqjOz_n",
        "outputId": "2ffd965a-30f5-49db-e004-b494c5ea7219"
      },
      "execution_count": null,
      "outputs": [
        {
          "output_type": "display_data",
          "data": {
            "text/html": [
              "<dl>\n",
              "\t<dt>$name</dt>\n",
              "\t\t<dd>'John'</dd>\n",
              "\t<dt>$age</dt>\n",
              "\t\t<dd>19</dd>\n",
              "\t<dt>$speaks</dt>\n",
              "\t\t<dd><style>\n",
              ".list-inline {list-style: none; margin:0; padding: 0}\n",
              ".list-inline>li {display: inline-block}\n",
              ".list-inline>li:not(:last-child)::after {content: \"\\00b7\"; padding: 0 .5ex}\n",
              "</style>\n",
              "<ol class=list-inline><li>'English'</li><li>'French'</li></ol>\n",
              "</dd>\n",
              "</dl>\n"
            ],
            "text/markdown": "$name\n:   'John'\n$age\n:   19\n$speaks\n:   1. 'English'\n2. 'French'\n\n\n\n\n\n",
            "text/latex": "\\begin{description}\n\\item[\\$name] 'John'\n\\item[\\$age] 19\n\\item[\\$speaks] \\begin{enumerate*}\n\\item 'English'\n\\item 'French'\n\\end{enumerate*}\n\n\\end{description}\n",
            "text/plain": [
              "$name\n",
              "[1] \"John\"\n",
              "\n",
              "$age\n",
              "[1] 19\n",
              "\n",
              "$speaks\n",
              "[1] \"English\" \"French\" \n"
            ]
          },
          "metadata": {}
        }
      ]
    },
    {
      "cell_type": "code",
      "source": [
        "x[[\"name\"]] <- \"Clair\""
      ],
      "metadata": {
        "id": "1qlGU4YgPEKY"
      },
      "execution_count": null,
      "outputs": []
    },
    {
      "cell_type": "code",
      "source": [
        "x"
      ],
      "metadata": {
        "colab": {
          "base_uri": "https://localhost:8080/",
          "height": 149
        },
        "id": "SGEwliqZPTCc",
        "outputId": "b5664126-3cd8-4830-f309-e5d4b86c7dc4"
      },
      "execution_count": null,
      "outputs": [
        {
          "output_type": "display_data",
          "data": {
            "text/html": [
              "<dl>\n",
              "\t<dt>$name</dt>\n",
              "\t\t<dd>'Clair'</dd>\n",
              "\t<dt>$age</dt>\n",
              "\t\t<dd>19</dd>\n",
              "\t<dt>$speaks</dt>\n",
              "\t\t<dd><style>\n",
              ".list-inline {list-style: none; margin:0; padding: 0}\n",
              ".list-inline>li {display: inline-block}\n",
              ".list-inline>li:not(:last-child)::after {content: \"\\00b7\"; padding: 0 .5ex}\n",
              "</style>\n",
              "<ol class=list-inline><li>'English'</li><li>'French'</li></ol>\n",
              "</dd>\n",
              "</dl>\n"
            ],
            "text/markdown": "$name\n:   'Clair'\n$age\n:   19\n$speaks\n:   1. 'English'\n2. 'French'\n\n\n\n\n\n",
            "text/latex": "\\begin{description}\n\\item[\\$name] 'Clair'\n\\item[\\$age] 19\n\\item[\\$speaks] \\begin{enumerate*}\n\\item 'English'\n\\item 'French'\n\\end{enumerate*}\n\n\\end{description}\n",
            "text/plain": [
              "$name\n",
              "[1] \"Clair\"\n",
              "\n",
              "$age\n",
              "[1] 19\n",
              "\n",
              "$speaks\n",
              "[1] \"English\" \"French\" \n"
            ]
          },
          "metadata": {}
        }
      ]
    },
    {
      "cell_type": "markdown",
      "source": [
        "**Como agregar elementos a una lista**\n",
        "\n",
        "Agregando elementos a una lista es fácil. Asignamos valores usando nuevos labels.\n",
        "\n",
        "\n",
        "```\n",
        "x <- list(name = \"Clair\", age = 19, speaks = c(\"English\", \"French\"))\n",
        "\n",
        "x\n",
        "\n",
        "# asignar un nuevo elemento a una lista usando corchetes dobles [[]]\n",
        "\n",
        "x[[\"married\"]] <- FALSE\n",
        "\n",
        "\n",
        "x\n",
        "\n",
        "```"
      ],
      "metadata": {
        "id": "0y51Dd52trbq"
      }
    },
    {
      "cell_type": "code",
      "source": [
        "x"
      ],
      "metadata": {
        "colab": {
          "base_uri": "https://localhost:8080/",
          "height": 149
        },
        "id": "Mlk-j7S4PZgR",
        "outputId": "f0106f20-46b2-4249-e126-37092595c453"
      },
      "execution_count": null,
      "outputs": [
        {
          "output_type": "display_data",
          "data": {
            "text/html": [
              "<dl>\n",
              "\t<dt>$name</dt>\n",
              "\t\t<dd>'Clair'</dd>\n",
              "\t<dt>$age</dt>\n",
              "\t\t<dd>19</dd>\n",
              "\t<dt>$speaks</dt>\n",
              "\t\t<dd><style>\n",
              ".list-inline {list-style: none; margin:0; padding: 0}\n",
              ".list-inline>li {display: inline-block}\n",
              ".list-inline>li:not(:last-child)::after {content: \"\\00b7\"; padding: 0 .5ex}\n",
              "</style>\n",
              "<ol class=list-inline><li>'English'</li><li>'French'</li></ol>\n",
              "</dd>\n",
              "</dl>\n"
            ],
            "text/markdown": "$name\n:   'Clair'\n$age\n:   19\n$speaks\n:   1. 'English'\n2. 'French'\n\n\n\n\n\n",
            "text/latex": "\\begin{description}\n\\item[\\$name] 'Clair'\n\\item[\\$age] 19\n\\item[\\$speaks] \\begin{enumerate*}\n\\item 'English'\n\\item 'French'\n\\end{enumerate*}\n\n\\end{description}\n",
            "text/plain": [
              "$name\n",
              "[1] \"Clair\"\n",
              "\n",
              "$age\n",
              "[1] 19\n",
              "\n",
              "$speaks\n",
              "[1] \"English\" \"French\" \n"
            ]
          },
          "metadata": {}
        }
      ]
    },
    {
      "cell_type": "code",
      "source": [
        "x[[\"married\"]] <- FALSE"
      ],
      "metadata": {
        "id": "N-3wyIzdPgfg"
      },
      "execution_count": null,
      "outputs": []
    },
    {
      "cell_type": "code",
      "source": [
        "x"
      ],
      "metadata": {
        "colab": {
          "base_uri": "https://localhost:8080/",
          "height": 184
        },
        "id": "QwWEFIVsPowI",
        "outputId": "9be8ac18-0e2e-4256-8504-b89d38cbe5d8"
      },
      "execution_count": null,
      "outputs": [
        {
          "output_type": "display_data",
          "data": {
            "text/html": [
              "<dl>\n",
              "\t<dt>$name</dt>\n",
              "\t\t<dd>'Clair'</dd>\n",
              "\t<dt>$age</dt>\n",
              "\t\t<dd>19</dd>\n",
              "\t<dt>$speaks</dt>\n",
              "\t\t<dd><style>\n",
              ".list-inline {list-style: none; margin:0; padding: 0}\n",
              ".list-inline>li {display: inline-block}\n",
              ".list-inline>li:not(:last-child)::after {content: \"\\00b7\"; padding: 0 .5ex}\n",
              "</style>\n",
              "<ol class=list-inline><li>'English'</li><li>'French'</li></ol>\n",
              "</dd>\n",
              "\t<dt>$married</dt>\n",
              "\t\t<dd>FALSE</dd>\n",
              "</dl>\n"
            ],
            "text/markdown": "$name\n:   'Clair'\n$age\n:   19\n$speaks\n:   1. 'English'\n2. 'French'\n\n\n\n$married\n:   FALSE\n\n\n",
            "text/latex": "\\begin{description}\n\\item[\\$name] 'Clair'\n\\item[\\$age] 19\n\\item[\\$speaks] \\begin{enumerate*}\n\\item 'English'\n\\item 'French'\n\\end{enumerate*}\n\n\\item[\\$married] FALSE\n\\end{description}\n",
            "text/plain": [
              "$name\n",
              "[1] \"Clair\"\n",
              "\n",
              "$age\n",
              "[1] 19\n",
              "\n",
              "$speaks\n",
              "[1] \"English\" \"French\" \n",
              "\n",
              "$married\n",
              "[1] FALSE\n"
            ]
          },
          "metadata": {}
        }
      ]
    },
    {
      "cell_type": "markdown",
      "source": [
        "**Borrando elementos de una lista**\n",
        "\n",
        "Para borrar elementos de una lista debes de asignar al componente a borrar el valor NULL. Ejecutar lo siguiente en una celda de código.\n",
        "\n",
        "\n",
        "```\n",
        "x <- list(name = \"Clair\", age = 19, speaks = c(\"English\", \"French\"))\n",
        "\n",
        "# removiendo un elemento de la lista.\n",
        "x[[\"age\"]] <- NULL\n",
        "\n",
        "str(x)\n",
        "\n",
        "\n",
        "```"
      ],
      "metadata": {
        "id": "nyLPkynKulzn"
      }
    },
    {
      "cell_type": "code",
      "source": [
        "x <- list(name = \"Clair\", age = 19, speaks = c(\"English\", \"French\"))"
      ],
      "metadata": {
        "id": "uqwg1tdxROk-"
      },
      "execution_count": null,
      "outputs": []
    },
    {
      "cell_type": "code",
      "source": [
        "x"
      ],
      "metadata": {
        "colab": {
          "base_uri": "https://localhost:8080/",
          "height": 149
        },
        "id": "U1DgGch2RUVE",
        "outputId": "96770634-76c8-4e21-90ac-2d0f830d1b7d"
      },
      "execution_count": null,
      "outputs": [
        {
          "output_type": "display_data",
          "data": {
            "text/html": [
              "<dl>\n",
              "\t<dt>$name</dt>\n",
              "\t\t<dd>'Clair'</dd>\n",
              "\t<dt>$age</dt>\n",
              "\t\t<dd>19</dd>\n",
              "\t<dt>$speaks</dt>\n",
              "\t\t<dd><style>\n",
              ".list-inline {list-style: none; margin:0; padding: 0}\n",
              ".list-inline>li {display: inline-block}\n",
              ".list-inline>li:not(:last-child)::after {content: \"\\00b7\"; padding: 0 .5ex}\n",
              "</style>\n",
              "<ol class=list-inline><li>'English'</li><li>'French'</li></ol>\n",
              "</dd>\n",
              "</dl>\n"
            ],
            "text/markdown": "$name\n:   'Clair'\n$age\n:   19\n$speaks\n:   1. 'English'\n2. 'French'\n\n\n\n\n\n",
            "text/latex": "\\begin{description}\n\\item[\\$name] 'Clair'\n\\item[\\$age] 19\n\\item[\\$speaks] \\begin{enumerate*}\n\\item 'English'\n\\item 'French'\n\\end{enumerate*}\n\n\\end{description}\n",
            "text/plain": [
              "$name\n",
              "[1] \"Clair\"\n",
              "\n",
              "$age\n",
              "[1] 19\n",
              "\n",
              "$speaks\n",
              "[1] \"English\" \"French\" \n"
            ]
          },
          "metadata": {}
        }
      ]
    },
    {
      "cell_type": "code",
      "source": [
        "x[[\"age\"]] <- NULL"
      ],
      "metadata": {
        "id": "u6jhJ1faRcBC"
      },
      "execution_count": null,
      "outputs": []
    },
    {
      "cell_type": "code",
      "source": [
        "x"
      ],
      "metadata": {
        "colab": {
          "base_uri": "https://localhost:8080/",
          "height": 114
        },
        "id": "iHGnznyZRqaA",
        "outputId": "5136ef4c-fdc4-4025-991d-ac6b32079d71"
      },
      "execution_count": null,
      "outputs": [
        {
          "output_type": "display_data",
          "data": {
            "text/html": [
              "<dl>\n",
              "\t<dt>$name</dt>\n",
              "\t\t<dd>'Clair'</dd>\n",
              "\t<dt>$speaks</dt>\n",
              "\t\t<dd><style>\n",
              ".list-inline {list-style: none; margin:0; padding: 0}\n",
              ".list-inline>li {display: inline-block}\n",
              ".list-inline>li:not(:last-child)::after {content: \"\\00b7\"; padding: 0 .5ex}\n",
              "</style>\n",
              "<ol class=list-inline><li>'English'</li><li>'French'</li></ol>\n",
              "</dd>\n",
              "</dl>\n"
            ],
            "text/markdown": "$name\n:   'Clair'\n$speaks\n:   1. 'English'\n2. 'French'\n\n\n\n\n\n",
            "text/latex": "\\begin{description}\n\\item[\\$name] 'Clair'\n\\item[\\$speaks] \\begin{enumerate*}\n\\item 'English'\n\\item 'French'\n\\end{enumerate*}\n\n\\end{description}\n",
            "text/plain": [
              "$name\n",
              "[1] \"Clair\"\n",
              "\n",
              "$speaks\n",
              "[1] \"English\" \"French\" \n"
            ]
          },
          "metadata": {}
        }
      ]
    },
    {
      "cell_type": "code",
      "source": [
        "str(x)"
      ],
      "metadata": {
        "colab": {
          "base_uri": "https://localhost:8080/"
        },
        "id": "kbMbS_I5SBXU",
        "outputId": "93e61b25-2a18-430e-b807-be71f4eea92d"
      },
      "execution_count": null,
      "outputs": [
        {
          "output_type": "stream",
          "name": "stdout",
          "text": [
            "List of 2\n",
            " $ name  : chr \"Clair\"\n",
            " $ speaks: chr [1:2] \"English\" \"French\"\n"
          ]
        }
      ]
    },
    {
      "cell_type": "markdown",
      "source": [
        "**Ejercicio**:\n",
        "\n",
        "Imagina que estás gestionando una lista de cursos para una pequeña empresa de capacitación. Cada curso tiene un nombre, un instructor y un número de estudiantes inscritos. Representarás cada curso como una lista y luego crearás una lista de estos cursos.\n",
        "\n",
        "Crea una lista llamada curso1 que represente un curso con los siguientes detalles:\n",
        "\n",
        "    Nombre: \"Introducción a R\"\n",
        "    Instructor: \"Juan Perez\"\n",
        "    Estudiantes inscritos: 30\n",
        "\n",
        "Crea una segunda lista llamada curso2 con los siguientes detalles:\n",
        "        \n",
        "    Nombre: \"Python Avanzado\"\n",
        "    Instructor: \"Pedro Ramírez\"\n",
        "    Estudiantes inscritos: 25\n",
        "\n",
        "Combina curso1 y curso2 en una lista llamada listaCursos.\n",
        "\n",
        "* Accediendo a Elementos: Imprime el nombre del primer curso. Imprime el número de estudiantes inscritos en el segundo curso.\n",
        "\n",
        "* Actualizando Elementos: El instructor de \"Pedro Ramírez\" ha cambiado a \"Luis Gonzalez\". Actualiza el nombre del instructor en curso2.\n",
        "\n",
        "* Agregando Elementos: Agrega un nuevo curso a listaCursos con los siguientes detalles:\n",
        "    Nombre: \"Fundamentos de Ciencia de Datos\"\n",
        "    Instructor: \"Virgilio Hernandez\"\n",
        "    Estudiantes inscritos: 40\n",
        "\n",
        "* Eliminando Elementos: Elimina curso1 de listaCursos."
      ],
      "metadata": {
        "id": "hf0RFwMNv4zq"
      }
    },
    {
      "cell_type": "markdown",
      "source": [
        "**Nota**: Las listas son usadas para devolver información de una función."
      ],
      "metadata": {
        "id": "SDvntl2BN4et"
      }
    },
    {
      "cell_type": "markdown",
      "source": [
        "**Solución**:"
      ],
      "metadata": {
        "id": "ujNVJvC3XN4L"
      }
    },
    {
      "cell_type": "code",
      "source": [
        "curso1 <- list(\"Nombre\" = \"Introducción a R\",\n",
        "               \"Instructor\" = \"Juan Perez\",\n",
        "               \"Estudiantes_inscritos\" = 30)"
      ],
      "metadata": {
        "id": "ubk-OyT-WS2h"
      },
      "execution_count": null,
      "outputs": []
    },
    {
      "cell_type": "code",
      "source": [
        "curso1"
      ],
      "metadata": {
        "colab": {
          "base_uri": "https://localhost:8080/",
          "height": 149
        },
        "id": "4ij1VaQPWr1I",
        "outputId": "e51cf830-b9bd-489e-bdf6-5142d4468245"
      },
      "execution_count": null,
      "outputs": [
        {
          "output_type": "display_data",
          "data": {
            "text/html": [
              "<dl>\n",
              "\t<dt>$Nombre</dt>\n",
              "\t\t<dd>'Introducción a R'</dd>\n",
              "\t<dt>$Instructor</dt>\n",
              "\t\t<dd>'Juan Perez'</dd>\n",
              "\t<dt>$Estudiantes_inscritos</dt>\n",
              "\t\t<dd>30</dd>\n",
              "</dl>\n"
            ],
            "text/markdown": "$Nombre\n:   'Introducción a R'\n$Instructor\n:   'Juan Perez'\n$Estudiantes_inscritos\n:   30\n\n\n",
            "text/latex": "\\begin{description}\n\\item[\\$Nombre] 'Introducción a R'\n\\item[\\$Instructor] 'Juan Perez'\n\\item[\\$Estudiantes\\_inscritos] 30\n\\end{description}\n",
            "text/plain": [
              "$Nombre\n",
              "[1] \"Introducción a R\"\n",
              "\n",
              "$Instructor\n",
              "[1] \"Juan Perez\"\n",
              "\n",
              "$Estudiantes_inscritos\n",
              "[1] 30\n"
            ]
          },
          "metadata": {}
        }
      ]
    },
    {
      "cell_type": "code",
      "source": [
        "curso2 <- list(\"Nombre\" = \"Python Avanzado\",\n",
        "               \"Instructor\" = \"Pedro Ramírez\",\n",
        "               \"Estudiantes_inscritos\" = 25)"
      ],
      "metadata": {
        "id": "W7Lx1tggWxo2"
      },
      "execution_count": null,
      "outputs": []
    },
    {
      "cell_type": "code",
      "source": [
        "curso2"
      ],
      "metadata": {
        "colab": {
          "base_uri": "https://localhost:8080/",
          "height": 149
        },
        "id": "F_qdMTgkXCRS",
        "outputId": "e792732a-57f6-4e93-b536-bdb1b426f1ae"
      },
      "execution_count": null,
      "outputs": [
        {
          "output_type": "display_data",
          "data": {
            "text/html": [
              "<dl>\n",
              "\t<dt>$Nombre</dt>\n",
              "\t\t<dd>'Python Avanzado'</dd>\n",
              "\t<dt>$Instructor</dt>\n",
              "\t\t<dd>'Pedro Ramírez'</dd>\n",
              "\t<dt>$Estudiantes_inscritos</dt>\n",
              "\t\t<dd>25</dd>\n",
              "</dl>\n"
            ],
            "text/markdown": "$Nombre\n:   'Python Avanzado'\n$Instructor\n:   'Pedro Ramírez'\n$Estudiantes_inscritos\n:   25\n\n\n",
            "text/latex": "\\begin{description}\n\\item[\\$Nombre] 'Python Avanzado'\n\\item[\\$Instructor] 'Pedro Ramírez'\n\\item[\\$Estudiantes\\_inscritos] 25\n\\end{description}\n",
            "text/plain": [
              "$Nombre\n",
              "[1] \"Python Avanzado\"\n",
              "\n",
              "$Instructor\n",
              "[1] \"Pedro Ramírez\"\n",
              "\n",
              "$Estudiantes_inscritos\n",
              "[1] 25\n"
            ]
          },
          "metadata": {}
        }
      ]
    },
    {
      "cell_type": "markdown",
      "source": [
        "Combina curso1 y curso2 en una lista llamada listaCursos.\n"
      ],
      "metadata": {
        "id": "PiJ6lmwhXRLA"
      }
    },
    {
      "cell_type": "code",
      "source": [
        "listaCursos <- list( curso1 = curso1, curso2 = curso2 )"
      ],
      "metadata": {
        "id": "fmkF0zWIXYiu"
      },
      "execution_count": null,
      "outputs": []
    },
    {
      "cell_type": "code",
      "source": [
        "listaCursos"
      ],
      "metadata": {
        "colab": {
          "base_uri": "https://localhost:8080/",
          "height": 288
        },
        "id": "5Xgcc6chXgxk",
        "outputId": "143a9ad3-1047-49e5-a0b8-39d0548abd0d"
      },
      "execution_count": null,
      "outputs": [
        {
          "output_type": "display_data",
          "data": {
            "text/html": [
              "<dl>\n",
              "\t<dt>$curso1</dt>\n",
              "\t\t<dd><dl>\n",
              "\t<dt>$Nombre</dt>\n",
              "\t\t<dd>'Introducción a R'</dd>\n",
              "\t<dt>$Instructor</dt>\n",
              "\t\t<dd>'Juan Perez'</dd>\n",
              "\t<dt>$Estudiantes_inscritos</dt>\n",
              "\t\t<dd>30</dd>\n",
              "</dl>\n",
              "</dd>\n",
              "\t<dt>$curso2</dt>\n",
              "\t\t<dd><dl>\n",
              "\t<dt>$Nombre</dt>\n",
              "\t\t<dd>'Python Avanzado'</dd>\n",
              "\t<dt>$Instructor</dt>\n",
              "\t\t<dd>'Pedro Ramírez'</dd>\n",
              "\t<dt>$Estudiantes_inscritos</dt>\n",
              "\t\t<dd>25</dd>\n",
              "</dl>\n",
              "</dd>\n",
              "</dl>\n"
            ],
            "text/markdown": "$curso1\n:   $Nombre\n:   'Introducción a R'\n$Instructor\n:   'Juan Perez'\n$Estudiantes_inscritos\n:   30\n\n\n\n$curso2\n:   $Nombre\n:   'Python Avanzado'\n$Instructor\n:   'Pedro Ramírez'\n$Estudiantes_inscritos\n:   25\n\n\n\n\n\n",
            "text/latex": "\\begin{description}\n\\item[\\$curso1] \\begin{description}\n\\item[\\$Nombre] 'Introducción a R'\n\\item[\\$Instructor] 'Juan Perez'\n\\item[\\$Estudiantes\\_inscritos] 30\n\\end{description}\n\n\\item[\\$curso2] \\begin{description}\n\\item[\\$Nombre] 'Python Avanzado'\n\\item[\\$Instructor] 'Pedro Ramírez'\n\\item[\\$Estudiantes\\_inscritos] 25\n\\end{description}\n\n\\end{description}\n",
            "text/plain": [
              "$curso1\n",
              "$curso1$Nombre\n",
              "[1] \"Introducción a R\"\n",
              "\n",
              "$curso1$Instructor\n",
              "[1] \"Juan Perez\"\n",
              "\n",
              "$curso1$Estudiantes_inscritos\n",
              "[1] 30\n",
              "\n",
              "\n",
              "$curso2\n",
              "$curso2$Nombre\n",
              "[1] \"Python Avanzado\"\n",
              "\n",
              "$curso2$Instructor\n",
              "[1] \"Pedro Ramírez\"\n",
              "\n",
              "$curso2$Estudiantes_inscritos\n",
              "[1] 25\n",
              "\n"
            ]
          },
          "metadata": {}
        }
      ]
    },
    {
      "cell_type": "markdown",
      "source": [
        "Accediendo a Elementos: Imprime el nombre del primer curso. Imprime el número de estudiantes inscritos en el segundo curso."
      ],
      "metadata": {
        "id": "t0kBCpu4X2G7"
      }
    },
    {
      "cell_type": "code",
      "source": [
        "listaCursos$curso1$Nombre"
      ],
      "metadata": {
        "colab": {
          "base_uri": "https://localhost:8080/",
          "height": 34
        },
        "id": "EIkSTxYcX6tk",
        "outputId": "83dc7231-46ca-4a74-b1d1-275705e06e10"
      },
      "execution_count": null,
      "outputs": [
        {
          "output_type": "display_data",
          "data": {
            "text/html": [
              "'Introducción a R'"
            ],
            "text/markdown": "'Introducción a R'",
            "text/latex": "'Introducción a R'",
            "text/plain": [
              "[1] \"Introducción a R\""
            ]
          },
          "metadata": {}
        }
      ]
    },
    {
      "cell_type": "code",
      "source": [
        "listaCursos$curso1$Estudiantes_inscritos"
      ],
      "metadata": {
        "colab": {
          "base_uri": "https://localhost:8080/",
          "height": 34
        },
        "id": "rntClO1FYLKz",
        "outputId": "da04c2fd-57ee-4048-8afc-95186be1035d"
      },
      "execution_count": null,
      "outputs": [
        {
          "output_type": "display_data",
          "data": {
            "text/html": [
              "30"
            ],
            "text/markdown": "30",
            "text/latex": "30",
            "text/plain": [
              "[1] 30"
            ]
          },
          "metadata": {}
        }
      ]
    },
    {
      "cell_type": "markdown",
      "source": [
        "Actualizando Elementos: El instructor de \"Pedro Ramírez\" ha cambiado a \"Luis Gonzalez\". Actualiza el nombre del instructor en curso2."
      ],
      "metadata": {
        "id": "3_pNBxgKYaD4"
      }
    },
    {
      "cell_type": "code",
      "source": [
        "listaCursos$curso2$Instructor"
      ],
      "metadata": {
        "colab": {
          "base_uri": "https://localhost:8080/",
          "height": 34
        },
        "id": "z9Z0lSZXYw3x",
        "outputId": "f56bfbb1-4f11-45bf-d0d7-80c44c6e818a"
      },
      "execution_count": null,
      "outputs": [
        {
          "output_type": "display_data",
          "data": {
            "text/html": [
              "'Pedro Ramírez'"
            ],
            "text/markdown": "'Pedro Ramírez'",
            "text/latex": "'Pedro Ramírez'",
            "text/plain": [
              "[1] \"Pedro Ramírez\""
            ]
          },
          "metadata": {}
        }
      ]
    },
    {
      "cell_type": "code",
      "source": [
        "listaCursos$curso2$Instructor <- \"Luis Gonzalez\""
      ],
      "metadata": {
        "id": "uYiNFJAjYb9F"
      },
      "execution_count": null,
      "outputs": []
    },
    {
      "cell_type": "code",
      "source": [
        "listaCursos$curso2$Instructor"
      ],
      "metadata": {
        "colab": {
          "base_uri": "https://localhost:8080/",
          "height": 34
        },
        "id": "Fkman2glY1lU",
        "outputId": "5e7a6ca7-5f85-45b0-c49c-c50e638e4fe8"
      },
      "execution_count": null,
      "outputs": [
        {
          "output_type": "display_data",
          "data": {
            "text/html": [
              "'Luis Gonzalez'"
            ],
            "text/markdown": "'Luis Gonzalez'",
            "text/latex": "'Luis Gonzalez'",
            "text/plain": [
              "[1] \"Luis Gonzalez\""
            ]
          },
          "metadata": {}
        }
      ]
    },
    {
      "cell_type": "markdown",
      "source": [
        "Agregando Elementos: Agrega un nuevo curso a listaCursos con los siguientes detalles: Nombre: \"Fundamentos de Ciencia de Datos\" Instructor: \"Virgilio Hernandez\" Estudiantes inscritos: 40"
      ],
      "metadata": {
        "id": "7PVai1JVZEAG"
      }
    },
    {
      "cell_type": "code",
      "source": [
        "curso3 <- list(\"Nombre\" = \"Fundamentos de Ciencia de Datos\",\n",
        "               \"Instructor\" = \"Virgilio Hernandez\",\n",
        "               \"Estudiantes_inscritos\" = 40)"
      ],
      "metadata": {
        "id": "QKf-8wobZFzm"
      },
      "execution_count": null,
      "outputs": []
    },
    {
      "cell_type": "code",
      "source": [
        "listaCursos"
      ],
      "metadata": {
        "colab": {
          "base_uri": "https://localhost:8080/",
          "height": 288
        },
        "id": "IrpM15TDZZp1",
        "outputId": "6472e0ec-fbdf-4109-aedf-7405db57efc8"
      },
      "execution_count": null,
      "outputs": [
        {
          "output_type": "display_data",
          "data": {
            "text/html": [
              "<dl>\n",
              "\t<dt>$curso1</dt>\n",
              "\t\t<dd><dl>\n",
              "\t<dt>$Nombre</dt>\n",
              "\t\t<dd>'Introducción a R'</dd>\n",
              "\t<dt>$Instructor</dt>\n",
              "\t\t<dd>'Juan Perez'</dd>\n",
              "\t<dt>$Estudiantes_inscritos</dt>\n",
              "\t\t<dd>30</dd>\n",
              "</dl>\n",
              "</dd>\n",
              "\t<dt>$curso2</dt>\n",
              "\t\t<dd><dl>\n",
              "\t<dt>$Nombre</dt>\n",
              "\t\t<dd>'Python Avanzado'</dd>\n",
              "\t<dt>$Instructor</dt>\n",
              "\t\t<dd>'Luis Gonzalez'</dd>\n",
              "\t<dt>$Estudiantes_inscritos</dt>\n",
              "\t\t<dd>25</dd>\n",
              "</dl>\n",
              "</dd>\n",
              "</dl>\n"
            ],
            "text/markdown": "$curso1\n:   $Nombre\n:   'Introducción a R'\n$Instructor\n:   'Juan Perez'\n$Estudiantes_inscritos\n:   30\n\n\n\n$curso2\n:   $Nombre\n:   'Python Avanzado'\n$Instructor\n:   'Luis Gonzalez'\n$Estudiantes_inscritos\n:   25\n\n\n\n\n\n",
            "text/latex": "\\begin{description}\n\\item[\\$curso1] \\begin{description}\n\\item[\\$Nombre] 'Introducción a R'\n\\item[\\$Instructor] 'Juan Perez'\n\\item[\\$Estudiantes\\_inscritos] 30\n\\end{description}\n\n\\item[\\$curso2] \\begin{description}\n\\item[\\$Nombre] 'Python Avanzado'\n\\item[\\$Instructor] 'Luis Gonzalez'\n\\item[\\$Estudiantes\\_inscritos] 25\n\\end{description}\n\n\\end{description}\n",
            "text/plain": [
              "$curso1\n",
              "$curso1$Nombre\n",
              "[1] \"Introducción a R\"\n",
              "\n",
              "$curso1$Instructor\n",
              "[1] \"Juan Perez\"\n",
              "\n",
              "$curso1$Estudiantes_inscritos\n",
              "[1] 30\n",
              "\n",
              "\n",
              "$curso2\n",
              "$curso2$Nombre\n",
              "[1] \"Python Avanzado\"\n",
              "\n",
              "$curso2$Instructor\n",
              "[1] \"Luis Gonzalez\"\n",
              "\n",
              "$curso2$Estudiantes_inscritos\n",
              "[1] 25\n",
              "\n"
            ]
          },
          "metadata": {}
        }
      ]
    },
    {
      "cell_type": "code",
      "source": [
        "listaCursos$curso3 <- curso3"
      ],
      "metadata": {
        "id": "6btv55iOZUzy"
      },
      "execution_count": null,
      "outputs": []
    },
    {
      "cell_type": "code",
      "source": [
        "listaCursos"
      ],
      "metadata": {
        "colab": {
          "base_uri": "https://localhost:8080/",
          "height": 410
        },
        "id": "qUoMU5XfZeIE",
        "outputId": "9c3b8338-98b5-42f8-c755-cd53761dbc49"
      },
      "execution_count": null,
      "outputs": [
        {
          "output_type": "display_data",
          "data": {
            "text/html": [
              "<dl>\n",
              "\t<dt>$curso1</dt>\n",
              "\t\t<dd><dl>\n",
              "\t<dt>$Nombre</dt>\n",
              "\t\t<dd>'Introducción a R'</dd>\n",
              "\t<dt>$Instructor</dt>\n",
              "\t\t<dd>'Juan Perez'</dd>\n",
              "\t<dt>$Estudiantes_inscritos</dt>\n",
              "\t\t<dd>30</dd>\n",
              "</dl>\n",
              "</dd>\n",
              "\t<dt>$curso2</dt>\n",
              "\t\t<dd><dl>\n",
              "\t<dt>$Nombre</dt>\n",
              "\t\t<dd>'Python Avanzado'</dd>\n",
              "\t<dt>$Instructor</dt>\n",
              "\t\t<dd>'Luis Gonzalez'</dd>\n",
              "\t<dt>$Estudiantes_inscritos</dt>\n",
              "\t\t<dd>25</dd>\n",
              "</dl>\n",
              "</dd>\n",
              "\t<dt>$curso3</dt>\n",
              "\t\t<dd><dl>\n",
              "\t<dt>$Nombre</dt>\n",
              "\t\t<dd>'Fundamentos de Ciencia de Datos'</dd>\n",
              "\t<dt>$Instructor</dt>\n",
              "\t\t<dd>'Virgilio Hernandez'</dd>\n",
              "\t<dt>$Estudiantes_inscritos</dt>\n",
              "\t\t<dd>40</dd>\n",
              "</dl>\n",
              "</dd>\n",
              "</dl>\n"
            ],
            "text/markdown": "$curso1\n:   $Nombre\n:   'Introducción a R'\n$Instructor\n:   'Juan Perez'\n$Estudiantes_inscritos\n:   30\n\n\n\n$curso2\n:   $Nombre\n:   'Python Avanzado'\n$Instructor\n:   'Luis Gonzalez'\n$Estudiantes_inscritos\n:   25\n\n\n\n$curso3\n:   $Nombre\n:   'Fundamentos de Ciencia de Datos'\n$Instructor\n:   'Virgilio Hernandez'\n$Estudiantes_inscritos\n:   40\n\n\n\n\n\n",
            "text/latex": "\\begin{description}\n\\item[\\$curso1] \\begin{description}\n\\item[\\$Nombre] 'Introducción a R'\n\\item[\\$Instructor] 'Juan Perez'\n\\item[\\$Estudiantes\\_inscritos] 30\n\\end{description}\n\n\\item[\\$curso2] \\begin{description}\n\\item[\\$Nombre] 'Python Avanzado'\n\\item[\\$Instructor] 'Luis Gonzalez'\n\\item[\\$Estudiantes\\_inscritos] 25\n\\end{description}\n\n\\item[\\$curso3] \\begin{description}\n\\item[\\$Nombre] 'Fundamentos de Ciencia de Datos'\n\\item[\\$Instructor] 'Virgilio Hernandez'\n\\item[\\$Estudiantes\\_inscritos] 40\n\\end{description}\n\n\\end{description}\n",
            "text/plain": [
              "$curso1\n",
              "$curso1$Nombre\n",
              "[1] \"Introducción a R\"\n",
              "\n",
              "$curso1$Instructor\n",
              "[1] \"Juan Perez\"\n",
              "\n",
              "$curso1$Estudiantes_inscritos\n",
              "[1] 30\n",
              "\n",
              "\n",
              "$curso2\n",
              "$curso2$Nombre\n",
              "[1] \"Python Avanzado\"\n",
              "\n",
              "$curso2$Instructor\n",
              "[1] \"Luis Gonzalez\"\n",
              "\n",
              "$curso2$Estudiantes_inscritos\n",
              "[1] 25\n",
              "\n",
              "\n",
              "$curso3\n",
              "$curso3$Nombre\n",
              "[1] \"Fundamentos de Ciencia de Datos\"\n",
              "\n",
              "$curso3$Instructor\n",
              "[1] \"Virgilio Hernandez\"\n",
              "\n",
              "$curso3$Estudiantes_inscritos\n",
              "[1] 40\n",
              "\n"
            ]
          },
          "metadata": {}
        }
      ]
    },
    {
      "cell_type": "markdown",
      "source": [
        "Eliminando Elementos: Elimina curso1 de listaCursos."
      ],
      "metadata": {
        "id": "Ny8vUZAZZnJh"
      }
    },
    {
      "cell_type": "code",
      "source": [
        "listaCursos"
      ],
      "metadata": {
        "colab": {
          "base_uri": "https://localhost:8080/",
          "height": 410
        },
        "id": "Cis3HNK5Zomf",
        "outputId": "8897b651-77cc-407e-b782-77d853e3fc7b"
      },
      "execution_count": null,
      "outputs": [
        {
          "output_type": "display_data",
          "data": {
            "text/html": [
              "<dl>\n",
              "\t<dt>$curso1</dt>\n",
              "\t\t<dd><dl>\n",
              "\t<dt>$Nombre</dt>\n",
              "\t\t<dd>'Introducción a R'</dd>\n",
              "\t<dt>$Instructor</dt>\n",
              "\t\t<dd>'Juan Perez'</dd>\n",
              "\t<dt>$Estudiantes_inscritos</dt>\n",
              "\t\t<dd>30</dd>\n",
              "</dl>\n",
              "</dd>\n",
              "\t<dt>$curso2</dt>\n",
              "\t\t<dd><dl>\n",
              "\t<dt>$Nombre</dt>\n",
              "\t\t<dd>'Python Avanzado'</dd>\n",
              "\t<dt>$Instructor</dt>\n",
              "\t\t<dd>'Luis Gonzalez'</dd>\n",
              "\t<dt>$Estudiantes_inscritos</dt>\n",
              "\t\t<dd>25</dd>\n",
              "</dl>\n",
              "</dd>\n",
              "\t<dt>$curso3</dt>\n",
              "\t\t<dd><dl>\n",
              "\t<dt>$Nombre</dt>\n",
              "\t\t<dd>'Fundamentos de Ciencia de Datos'</dd>\n",
              "\t<dt>$Instructor</dt>\n",
              "\t\t<dd>'Virgilio Hernandez'</dd>\n",
              "\t<dt>$Estudiantes_inscritos</dt>\n",
              "\t\t<dd>40</dd>\n",
              "</dl>\n",
              "</dd>\n",
              "</dl>\n"
            ],
            "text/markdown": "$curso1\n:   $Nombre\n:   'Introducción a R'\n$Instructor\n:   'Juan Perez'\n$Estudiantes_inscritos\n:   30\n\n\n\n$curso2\n:   $Nombre\n:   'Python Avanzado'\n$Instructor\n:   'Luis Gonzalez'\n$Estudiantes_inscritos\n:   25\n\n\n\n$curso3\n:   $Nombre\n:   'Fundamentos de Ciencia de Datos'\n$Instructor\n:   'Virgilio Hernandez'\n$Estudiantes_inscritos\n:   40\n\n\n\n\n\n",
            "text/latex": "\\begin{description}\n\\item[\\$curso1] \\begin{description}\n\\item[\\$Nombre] 'Introducción a R'\n\\item[\\$Instructor] 'Juan Perez'\n\\item[\\$Estudiantes\\_inscritos] 30\n\\end{description}\n\n\\item[\\$curso2] \\begin{description}\n\\item[\\$Nombre] 'Python Avanzado'\n\\item[\\$Instructor] 'Luis Gonzalez'\n\\item[\\$Estudiantes\\_inscritos] 25\n\\end{description}\n\n\\item[\\$curso3] \\begin{description}\n\\item[\\$Nombre] 'Fundamentos de Ciencia de Datos'\n\\item[\\$Instructor] 'Virgilio Hernandez'\n\\item[\\$Estudiantes\\_inscritos] 40\n\\end{description}\n\n\\end{description}\n",
            "text/plain": [
              "$curso1\n",
              "$curso1$Nombre\n",
              "[1] \"Introducción a R\"\n",
              "\n",
              "$curso1$Instructor\n",
              "[1] \"Juan Perez\"\n",
              "\n",
              "$curso1$Estudiantes_inscritos\n",
              "[1] 30\n",
              "\n",
              "\n",
              "$curso2\n",
              "$curso2$Nombre\n",
              "[1] \"Python Avanzado\"\n",
              "\n",
              "$curso2$Instructor\n",
              "[1] \"Luis Gonzalez\"\n",
              "\n",
              "$curso2$Estudiantes_inscritos\n",
              "[1] 25\n",
              "\n",
              "\n",
              "$curso3\n",
              "$curso3$Nombre\n",
              "[1] \"Fundamentos de Ciencia de Datos\"\n",
              "\n",
              "$curso3$Instructor\n",
              "[1] \"Virgilio Hernandez\"\n",
              "\n",
              "$curso3$Estudiantes_inscritos\n",
              "[1] 40\n",
              "\n"
            ]
          },
          "metadata": {}
        }
      ]
    },
    {
      "cell_type": "code",
      "source": [
        "listaCursos$curso1 <- NULL"
      ],
      "metadata": {
        "id": "aY30hqkoZvSN"
      },
      "execution_count": null,
      "outputs": []
    },
    {
      "cell_type": "code",
      "source": [
        "listaCursos"
      ],
      "metadata": {
        "colab": {
          "base_uri": "https://localhost:8080/",
          "height": 288
        },
        "id": "hHCp4Yj7Z1r9",
        "outputId": "f98ce251-5e21-4456-f06f-54732d47c5a4"
      },
      "execution_count": null,
      "outputs": [
        {
          "output_type": "display_data",
          "data": {
            "text/html": [
              "<dl>\n",
              "\t<dt>$curso2</dt>\n",
              "\t\t<dd><dl>\n",
              "\t<dt>$Nombre</dt>\n",
              "\t\t<dd>'Python Avanzado'</dd>\n",
              "\t<dt>$Instructor</dt>\n",
              "\t\t<dd>'Luis Gonzalez'</dd>\n",
              "\t<dt>$Estudiantes_inscritos</dt>\n",
              "\t\t<dd>25</dd>\n",
              "</dl>\n",
              "</dd>\n",
              "\t<dt>$curso3</dt>\n",
              "\t\t<dd><dl>\n",
              "\t<dt>$Nombre</dt>\n",
              "\t\t<dd>'Fundamentos de Ciencia de Datos'</dd>\n",
              "\t<dt>$Instructor</dt>\n",
              "\t\t<dd>'Virgilio Hernandez'</dd>\n",
              "\t<dt>$Estudiantes_inscritos</dt>\n",
              "\t\t<dd>40</dd>\n",
              "</dl>\n",
              "</dd>\n",
              "</dl>\n"
            ],
            "text/markdown": "$curso2\n:   $Nombre\n:   'Python Avanzado'\n$Instructor\n:   'Luis Gonzalez'\n$Estudiantes_inscritos\n:   25\n\n\n\n$curso3\n:   $Nombre\n:   'Fundamentos de Ciencia de Datos'\n$Instructor\n:   'Virgilio Hernandez'\n$Estudiantes_inscritos\n:   40\n\n\n\n\n\n",
            "text/latex": "\\begin{description}\n\\item[\\$curso2] \\begin{description}\n\\item[\\$Nombre] 'Python Avanzado'\n\\item[\\$Instructor] 'Luis Gonzalez'\n\\item[\\$Estudiantes\\_inscritos] 25\n\\end{description}\n\n\\item[\\$curso3] \\begin{description}\n\\item[\\$Nombre] 'Fundamentos de Ciencia de Datos'\n\\item[\\$Instructor] 'Virgilio Hernandez'\n\\item[\\$Estudiantes\\_inscritos] 40\n\\end{description}\n\n\\end{description}\n",
            "text/plain": [
              "$curso2\n",
              "$curso2$Nombre\n",
              "[1] \"Python Avanzado\"\n",
              "\n",
              "$curso2$Instructor\n",
              "[1] \"Luis Gonzalez\"\n",
              "\n",
              "$curso2$Estudiantes_inscritos\n",
              "[1] 25\n",
              "\n",
              "\n",
              "$curso3\n",
              "$curso3$Nombre\n",
              "[1] \"Fundamentos de Ciencia de Datos\"\n",
              "\n",
              "$curso3$Instructor\n",
              "[1] \"Virgilio Hernandez\"\n",
              "\n",
              "$curso3$Estudiantes_inscritos\n",
              "[1] 40\n",
              "\n"
            ]
          },
          "metadata": {}
        }
      ]
    },
    {
      "cell_type": "markdown",
      "source": [
        "# Data Frame\n",
        "\n",
        "Un data frame es una estructura de datos bidimensional. Es un caso especial de una lista donde cada uno de sus elementos o componente tiene igual longitud. Cada componente forman las columnas y el contenido de los componentes forman las filas.\n",
        "\n",
        "**Como crear un dataframe en R**\n",
        "Para crear un dataframe en R hay que usar la función data.frame. Como en el siguiente código.\n",
        "\n",
        "```\n",
        "\n",
        "df <- data.frame( dui = 1:7, edad = c(21, 23, 27, 28, 29, 30, 35),\n",
        "                  nombre = c(\"Juan\", \"Dora\", \"Hugo\",\n",
        "                             \"Francisco\", \"Luis\", \"Carlos\",  \n",
        "                             \"Mauricio\"))\n",
        "\n",
        "```"
      ],
      "metadata": {
        "id": "mypk4aS5OV0i"
      }
    },
    {
      "cell_type": "code",
      "source": [],
      "metadata": {
        "id": "egW3DSjdZufe"
      },
      "execution_count": null,
      "outputs": []
    },
    {
      "cell_type": "code",
      "source": [],
      "metadata": {
        "id": "RnToyLvHXf5T"
      },
      "execution_count": null,
      "outputs": []
    },
    {
      "cell_type": "code",
      "source": [
        "df <- data.frame( dui = 1:7, edad = c(21, 23, 27, 28, 29, 30, 35),\n",
        "                  nombre = c(\"Juan\", \"Dora\", \"Hugo\",\n",
        "                             \"Francisco\", \"Luis\", \"Carlos\",\n",
        "                             \"Mauricio\"))"
      ],
      "metadata": {
        "id": "n1Tw_RyTWq--"
      },
      "execution_count": null,
      "outputs": []
    },
    {
      "cell_type": "code",
      "source": [
        "df"
      ],
      "metadata": {
        "id": "LwIpy7ZbkTiK",
        "outputId": "0282b11c-c5c4-470a-8b47-0f84dba705e4",
        "colab": {
          "base_uri": "https://localhost:8080/",
          "height": 317
        }
      },
      "execution_count": null,
      "outputs": [
        {
          "output_type": "display_data",
          "data": {
            "text/html": [
              "<table class=\"dataframe\">\n",
              "<caption>A data.frame: 7 × 3</caption>\n",
              "<thead>\n",
              "\t<tr><th scope=col>dui</th><th scope=col>edad</th><th scope=col>nombre</th></tr>\n",
              "\t<tr><th scope=col>&lt;int&gt;</th><th scope=col>&lt;dbl&gt;</th><th scope=col>&lt;chr&gt;</th></tr>\n",
              "</thead>\n",
              "<tbody>\n",
              "\t<tr><td>1</td><td>21</td><td>Juan     </td></tr>\n",
              "\t<tr><td>2</td><td>23</td><td>Dora     </td></tr>\n",
              "\t<tr><td>3</td><td>27</td><td>Hugo     </td></tr>\n",
              "\t<tr><td>4</td><td>28</td><td>Francisco</td></tr>\n",
              "\t<tr><td>5</td><td>29</td><td>Luis     </td></tr>\n",
              "\t<tr><td>6</td><td>30</td><td>Carlos   </td></tr>\n",
              "\t<tr><td>7</td><td>35</td><td>Mauricio </td></tr>\n",
              "</tbody>\n",
              "</table>\n"
            ],
            "text/markdown": "\nA data.frame: 7 × 3\n\n| dui &lt;int&gt; | edad &lt;dbl&gt; | nombre &lt;chr&gt; |\n|---|---|---|\n| 1 | 21 | Juan      |\n| 2 | 23 | Dora      |\n| 3 | 27 | Hugo      |\n| 4 | 28 | Francisco |\n| 5 | 29 | Luis      |\n| 6 | 30 | Carlos    |\n| 7 | 35 | Mauricio  |\n\n",
            "text/latex": "A data.frame: 7 × 3\n\\begin{tabular}{lll}\n dui & edad & nombre\\\\\n <int> & <dbl> & <chr>\\\\\n\\hline\n\t 1 & 21 & Juan     \\\\\n\t 2 & 23 & Dora     \\\\\n\t 3 & 27 & Hugo     \\\\\n\t 4 & 28 & Francisco\\\\\n\t 5 & 29 & Luis     \\\\\n\t 6 & 30 & Carlos   \\\\\n\t 7 & 35 & Mauricio \\\\\n\\end{tabular}\n",
            "text/plain": [
              "  dui edad nombre   \n",
              "1 1   21   Juan     \n",
              "2 2   23   Dora     \n",
              "3 3   27   Hugo     \n",
              "4 4   28   Francisco\n",
              "5 5   29   Luis     \n",
              "6 6   30   Carlos   \n",
              "7 7   35   Mauricio "
            ]
          },
          "metadata": {}
        }
      ]
    },
    {
      "cell_type": "markdown",
      "source": [
        "Funciones usuales para visualizar la información en un data frame son:\n",
        "\n",
        "* head: muestra por defecto las primeras 6 observaciones de un data frame.\n",
        "* tail: muestra por defecto las últimas 6 observaciones de un data frame.\n",
        "* str: permite ver la estructura interna de un data frame.\n",
        "\n",
        "**Ejercicio** Probar las anteriores funciones en el data frame df.\n",
        "\n"
      ],
      "metadata": {
        "id": "43tXW-6YrT6O"
      }
    },
    {
      "cell_type": "code",
      "source": [
        "summary(df)"
      ],
      "metadata": {
        "id": "j-ytL_XakSeC",
        "outputId": "e3a2400c-c16d-48a0-e58a-968b539d2a12",
        "colab": {
          "base_uri": "https://localhost:8080/",
          "height": 139
        }
      },
      "execution_count": null,
      "outputs": [
        {
          "output_type": "display_data",
          "data": {
            "text/plain": [
              "      dui           edad          nombre         \n",
              " Min.   :1.0   Min.   :21.00   Length:7          \n",
              " 1st Qu.:2.5   1st Qu.:25.00   Class :character  \n",
              " Median :4.0   Median :28.00   Mode  :character  \n",
              " Mean   :4.0   Mean   :27.57                     \n",
              " 3rd Qu.:5.5   3rd Qu.:29.50                     \n",
              " Max.   :7.0   Max.   :35.00                     "
            ]
          },
          "metadata": {}
        }
      ]
    },
    {
      "cell_type": "code",
      "source": [],
      "metadata": {
        "id": "1vAj1GXYkS-K"
      },
      "execution_count": null,
      "outputs": []
    },
    {
      "cell_type": "markdown",
      "source": [
        "**Como accesar a los componentes de un data frame.**\n",
        "\n",
        "La forma más usual para accesar a los componentes de un data frame es usando el operador $ que se ha usado previamente en las listas. Ejecutar lo siguiente para accesar a los elementos individuales del data frame df.\n",
        "\n",
        "```\n",
        "df$dui\n",
        "df$edad\n",
        "df$nombre\n",
        "```"
      ],
      "metadata": {
        "id": "7ol1KpK7yDtm"
      }
    },
    {
      "cell_type": "code",
      "source": [
        "df$dui"
      ],
      "metadata": {
        "id": "4inZcMOkkes2",
        "outputId": "d1a84fe9-3b0f-4703-da17-f9cb8feda690",
        "colab": {
          "base_uri": "https://localhost:8080/",
          "height": 34
        }
      },
      "execution_count": null,
      "outputs": [
        {
          "output_type": "display_data",
          "data": {
            "text/html": [
              "<style>\n",
              ".list-inline {list-style: none; margin:0; padding: 0}\n",
              ".list-inline>li {display: inline-block}\n",
              ".list-inline>li:not(:last-child)::after {content: \"\\00b7\"; padding: 0 .5ex}\n",
              "</style>\n",
              "<ol class=list-inline><li>1</li><li>2</li><li>3</li><li>4</li><li>5</li><li>6</li><li>7</li></ol>\n"
            ],
            "text/markdown": "1. 1\n2. 2\n3. 3\n4. 4\n5. 5\n6. 6\n7. 7\n\n\n",
            "text/latex": "\\begin{enumerate*}\n\\item 1\n\\item 2\n\\item 3\n\\item 4\n\\item 5\n\\item 6\n\\item 7\n\\end{enumerate*}\n",
            "text/plain": [
              "[1] 1 2 3 4 5 6 7"
            ]
          },
          "metadata": {}
        }
      ]
    },
    {
      "cell_type": "markdown",
      "source": [
        "**Accesando a elementos de un data frame como una matriz**\n",
        "\n",
        "Ejecutar lo siguiente en una celda de código.\n",
        "\n",
        "```\n",
        "library(help=\"datasets\")\n",
        "```"
      ],
      "metadata": {
        "id": "21D4SufZ2kEH"
      }
    },
    {
      "cell_type": "markdown",
      "source": [
        "El anterior código nos permite visualizar los conjuntos de datos que estan en el paquete datasets, los paquetes en R nos permiten extender la funcionalidad de R. Hay una serie de paquetes en R que se cargan por defecto uno de ellos es el paquete datasets que tienen conjuntos de datos, lo podemos verificar con el siguiente código.\n",
        "\n",
        "```\n",
        "\"package:datasets\" %in% search()\n",
        "```"
      ],
      "metadata": {
        "id": "h-GJV-fI3VzZ"
      }
    },
    {
      "cell_type": "markdown",
      "source": [
        "**Ejercicio**:\n",
        "\n",
        "Cuando se ejecuta R automáticamente se carga el data frame tree, ejecutar los siguientes comandos para tener una idea de este conjunto de datos.\n",
        "\n",
        "```\n",
        "str(trees)\n",
        "\n",
        "head(trees)\n",
        "\n",
        "head(trees, n = 10)\n",
        "\n",
        "tail(trees)\n",
        "\n",
        "tail(trees, n = 10)\n",
        "\n",
        "```"
      ],
      "metadata": {
        "id": "tvMpY-C65ti9"
      }
    },
    {
      "cell_type": "code",
      "source": [
        "str(trees)"
      ],
      "metadata": {
        "id": "oqGHC1s6k452",
        "outputId": "a489d865-f5be-4de0-c76e-48213c16a67c",
        "colab": {
          "base_uri": "https://localhost:8080/"
        }
      },
      "execution_count": null,
      "outputs": [
        {
          "output_type": "stream",
          "name": "stdout",
          "text": [
            "'data.frame':\t31 obs. of  3 variables:\n",
            " $ Girth : num  8.3 8.6 8.8 10.5 10.7 10.8 11 11 11.1 11.2 ...\n",
            " $ Height: num  70 65 63 72 81 83 66 75 80 75 ...\n",
            " $ Volume: num  10.3 10.3 10.2 16.4 18.8 19.7 15.6 18.2 22.6 19.9 ...\n"
          ]
        }
      ]
    },
    {
      "cell_type": "markdown",
      "source": [
        "**Nota**: Puedes tener más información del data frame trees con el siguiente comando.\n",
        "\n",
        "```\n",
        "help(trees)\n",
        "```\n",
        "\n",
        "A continuación vamos a ejecutar funciones que nos permiten *seleccionar* parte del data frame trees.\n",
        "\n",
        "```\n",
        "# seleccionando filas 2 y 3 del data frame trees\n",
        "trees[2:3, ]\n",
        "\n",
        "```\n",
        "\n"
      ],
      "metadata": {
        "id": "FBI_xH036t4L"
      }
    },
    {
      "cell_type": "code",
      "source": [
        "trees[2:3, ]"
      ],
      "metadata": {
        "id": "trEod4GqlEUY",
        "outputId": "88d96cbd-dc26-4e78-929c-852c42ccfdd1",
        "colab": {
          "base_uri": "https://localhost:8080/",
          "height": 160
        }
      },
      "execution_count": null,
      "outputs": [
        {
          "output_type": "display_data",
          "data": {
            "text/html": [
              "<table class=\"dataframe\">\n",
              "<caption>A data.frame: 2 × 3</caption>\n",
              "<thead>\n",
              "\t<tr><th></th><th scope=col>Girth</th><th scope=col>Height</th><th scope=col>Volume</th></tr>\n",
              "\t<tr><th></th><th scope=col>&lt;dbl&gt;</th><th scope=col>&lt;dbl&gt;</th><th scope=col>&lt;dbl&gt;</th></tr>\n",
              "</thead>\n",
              "<tbody>\n",
              "\t<tr><th scope=row>2</th><td>8.6</td><td>65</td><td>10.3</td></tr>\n",
              "\t<tr><th scope=row>3</th><td>8.8</td><td>63</td><td>10.2</td></tr>\n",
              "</tbody>\n",
              "</table>\n"
            ],
            "text/markdown": "\nA data.frame: 2 × 3\n\n| <!--/--> | Girth &lt;dbl&gt; | Height &lt;dbl&gt; | Volume &lt;dbl&gt; |\n|---|---|---|---|\n| 2 | 8.6 | 65 | 10.3 |\n| 3 | 8.8 | 63 | 10.2 |\n\n",
            "text/latex": "A data.frame: 2 × 3\n\\begin{tabular}{r|lll}\n  & Girth & Height & Volume\\\\\n  & <dbl> & <dbl> & <dbl>\\\\\n\\hline\n\t2 & 8.6 & 65 & 10.3\\\\\n\t3 & 8.8 & 63 & 10.2\\\\\n\\end{tabular}\n",
            "text/plain": [
              "  Girth Height Volume\n",
              "2 8.6   65     10.3  \n",
              "3 8.8   63     10.2  "
            ]
          },
          "metadata": {}
        }
      ]
    },
    {
      "cell_type": "markdown",
      "source": [
        "```\n",
        "# seleccionar la columna Height y las filas de la 10 a la 12\n",
        "trees[10:12, \"Height\"]\n",
        "\n",
        "```\n"
      ],
      "metadata": {
        "id": "8zK5NgId76tw"
      }
    },
    {
      "cell_type": "code",
      "source": [
        "trees[10:12, \"Height\"]"
      ],
      "metadata": {
        "id": "nvawZlN4lKH4",
        "outputId": "c2783ab6-dd1b-4c50-ec4e-b62a82bd91cc",
        "colab": {
          "base_uri": "https://localhost:8080/",
          "height": 34
        }
      },
      "execution_count": null,
      "outputs": [
        {
          "output_type": "display_data",
          "data": {
            "text/html": [
              "<style>\n",
              ".list-inline {list-style: none; margin:0; padding: 0}\n",
              ".list-inline>li {display: inline-block}\n",
              ".list-inline>li:not(:last-child)::after {content: \"\\00b7\"; padding: 0 .5ex}\n",
              "</style>\n",
              "<ol class=list-inline><li>75</li><li>79</li><li>76</li></ol>\n"
            ],
            "text/markdown": "1. 75\n2. 79\n3. 76\n\n\n",
            "text/latex": "\\begin{enumerate*}\n\\item 75\n\\item 79\n\\item 76\n\\end{enumerate*}\n",
            "text/plain": [
              "[1] 75 79 76"
            ]
          },
          "metadata": {}
        }
      ]
    },
    {
      "cell_type": "markdown",
      "source": [
        "```\n",
        "# seleccionar las columnas \"Height\" y \"Volume\", y las filas 1, 3, y 10.\n",
        "trees[c(1,3,10), c(\"Height\", \"Volume\")]\n",
        "\n",
        "```\n"
      ],
      "metadata": {
        "id": "YZ4AEspc_C0_"
      }
    },
    {
      "cell_type": "markdown",
      "source": [
        "```\n",
        "# seleccionar las filas que cumplen la siguiente cóndición:\n",
        "\n",
        "# Seleccionar filas donde Girth es mayor que 10 pulgadas y Height es mayor que 70 pies.\n",
        "\n",
        "trees[trees$Girth > 10 & trees$Height > 70, ]\n",
        "\n",
        "\n",
        "```"
      ],
      "metadata": {
        "id": "AdhY77QwBGGL"
      }
    },
    {
      "cell_type": "markdown",
      "source": [
        "```\n",
        "# seleccionar las filas que cumplen la siguiente cóndición:\n",
        "\n",
        "# Seleccionar filas donde Girth es mayor que 18 pulgadas o Height es mayor que 75 pies.\n",
        "\n",
        "trees[trees$Girth > 18 | trees$Height > 75, ]\n",
        "\n",
        "\n",
        "```"
      ],
      "metadata": {
        "id": "vvkVZ724DJWl"
      }
    },
    {
      "cell_type": "markdown",
      "source": [
        "```\n",
        "\n",
        "# Seleccionar filas donde Girth no es mayor que 18 pulgadas.\n",
        "\n",
        "trees[!trees$Girth > 18, ]\n",
        "\n",
        "```"
      ],
      "metadata": {
        "id": "6T2Dofv0Df_l"
      }
    },
    {
      "cell_type": "markdown",
      "source": [
        "```\n",
        "\n",
        "# Seleccionar filas donde Girth es mayor que 10 pulgadas y Height no es mayor que 75 pies.\n",
        "\n",
        "trees[trees$Girth > 10 & !(trees$Height > 75), ]\n",
        "\n",
        "```"
      ],
      "metadata": {
        "id": "AdSLC6zQExSQ"
      }
    },
    {
      "cell_type": "markdown",
      "source": [
        "**Ejercicio**\n",
        "\n",
        "Con respecto al dataset iris perteneciente al paquete datasets, realizar lo siguiente:\n",
        "\n",
        "* Realizar exploraciones iniciales usando las funciones head, tail, y str.\n",
        "* Usar la función summary para obtener resumenes númericos del dataset iris.  \n",
        "* Seleccionar filas donde el Sepal.Length es mayor o igual que 5.0 y Sepal.Width es menor que 3.5.\n",
        "* Seleccionar filas donde la especie es setosa o el Petal.Width es mayor que 2.0.\n",
        "* Seleccionar filas donde la especie no es Virginica\n",
        "* Seleccionar filas donde no se cumpla lo siguiente el Petal.Width sea mayor que 0.5 y que el Petal.Width sea menor que 1.5.\n",
        "* Seleccionar filas donde la especie sea virginica y se cumpla lo siguiente Petal.Length es mayor que 5.0 o Petal.Width es menor que 1.5.\n",
        "\n"
      ],
      "metadata": {
        "id": "sC1Ef2473jee"
      }
    },
    {
      "cell_type": "code",
      "source": [
        "head(iris)"
      ],
      "metadata": {
        "colab": {
          "base_uri": "https://localhost:8080/",
          "height": 286
        },
        "id": "XQuZv7hrAdA-",
        "outputId": "b25d9f28-d446-4b4d-8725-a53163ec3df6"
      },
      "execution_count": null,
      "outputs": [
        {
          "output_type": "display_data",
          "data": {
            "text/html": [
              "<table class=\"dataframe\">\n",
              "<caption>A data.frame: 6 × 5</caption>\n",
              "<thead>\n",
              "\t<tr><th></th><th scope=col>Sepal.Length</th><th scope=col>Sepal.Width</th><th scope=col>Petal.Length</th><th scope=col>Petal.Width</th><th scope=col>Species</th></tr>\n",
              "\t<tr><th></th><th scope=col>&lt;dbl&gt;</th><th scope=col>&lt;dbl&gt;</th><th scope=col>&lt;dbl&gt;</th><th scope=col>&lt;dbl&gt;</th><th scope=col>&lt;fct&gt;</th></tr>\n",
              "</thead>\n",
              "<tbody>\n",
              "\t<tr><th scope=row>1</th><td>5.1</td><td>3.5</td><td>1.4</td><td>0.2</td><td>setosa</td></tr>\n",
              "\t<tr><th scope=row>2</th><td>4.9</td><td>3.0</td><td>1.4</td><td>0.2</td><td>setosa</td></tr>\n",
              "\t<tr><th scope=row>3</th><td>4.7</td><td>3.2</td><td>1.3</td><td>0.2</td><td>setosa</td></tr>\n",
              "\t<tr><th scope=row>4</th><td>4.6</td><td>3.1</td><td>1.5</td><td>0.2</td><td>setosa</td></tr>\n",
              "\t<tr><th scope=row>5</th><td>5.0</td><td>3.6</td><td>1.4</td><td>0.2</td><td>setosa</td></tr>\n",
              "\t<tr><th scope=row>6</th><td>5.4</td><td>3.9</td><td>1.7</td><td>0.4</td><td>setosa</td></tr>\n",
              "</tbody>\n",
              "</table>\n"
            ],
            "text/markdown": "\nA data.frame: 6 × 5\n\n| <!--/--> | Sepal.Length &lt;dbl&gt; | Sepal.Width &lt;dbl&gt; | Petal.Length &lt;dbl&gt; | Petal.Width &lt;dbl&gt; | Species &lt;fct&gt; |\n|---|---|---|---|---|---|\n| 1 | 5.1 | 3.5 | 1.4 | 0.2 | setosa |\n| 2 | 4.9 | 3.0 | 1.4 | 0.2 | setosa |\n| 3 | 4.7 | 3.2 | 1.3 | 0.2 | setosa |\n| 4 | 4.6 | 3.1 | 1.5 | 0.2 | setosa |\n| 5 | 5.0 | 3.6 | 1.4 | 0.2 | setosa |\n| 6 | 5.4 | 3.9 | 1.7 | 0.4 | setosa |\n\n",
            "text/latex": "A data.frame: 6 × 5\n\\begin{tabular}{r|lllll}\n  & Sepal.Length & Sepal.Width & Petal.Length & Petal.Width & Species\\\\\n  & <dbl> & <dbl> & <dbl> & <dbl> & <fct>\\\\\n\\hline\n\t1 & 5.1 & 3.5 & 1.4 & 0.2 & setosa\\\\\n\t2 & 4.9 & 3.0 & 1.4 & 0.2 & setosa\\\\\n\t3 & 4.7 & 3.2 & 1.3 & 0.2 & setosa\\\\\n\t4 & 4.6 & 3.1 & 1.5 & 0.2 & setosa\\\\\n\t5 & 5.0 & 3.6 & 1.4 & 0.2 & setosa\\\\\n\t6 & 5.4 & 3.9 & 1.7 & 0.4 & setosa\\\\\n\\end{tabular}\n",
            "text/plain": [
              "  Sepal.Length Sepal.Width Petal.Length Petal.Width Species\n",
              "1 5.1          3.5         1.4          0.2         setosa \n",
              "2 4.9          3.0         1.4          0.2         setosa \n",
              "3 4.7          3.2         1.3          0.2         setosa \n",
              "4 4.6          3.1         1.5          0.2         setosa \n",
              "5 5.0          3.6         1.4          0.2         setosa \n",
              "6 5.4          3.9         1.7          0.4         setosa "
            ]
          },
          "metadata": {}
        }
      ]
    },
    {
      "cell_type": "code",
      "source": [
        "tail(iris)"
      ],
      "metadata": {
        "colab": {
          "base_uri": "https://localhost:8080/",
          "height": 286
        },
        "id": "N-O5I1bCAsVp",
        "outputId": "550fe411-7122-4501-a783-c95ac7295f27"
      },
      "execution_count": null,
      "outputs": [
        {
          "output_type": "display_data",
          "data": {
            "text/html": [
              "<table class=\"dataframe\">\n",
              "<caption>A data.frame: 6 × 5</caption>\n",
              "<thead>\n",
              "\t<tr><th></th><th scope=col>Sepal.Length</th><th scope=col>Sepal.Width</th><th scope=col>Petal.Length</th><th scope=col>Petal.Width</th><th scope=col>Species</th></tr>\n",
              "\t<tr><th></th><th scope=col>&lt;dbl&gt;</th><th scope=col>&lt;dbl&gt;</th><th scope=col>&lt;dbl&gt;</th><th scope=col>&lt;dbl&gt;</th><th scope=col>&lt;fct&gt;</th></tr>\n",
              "</thead>\n",
              "<tbody>\n",
              "\t<tr><th scope=row>145</th><td>6.7</td><td>3.3</td><td>5.7</td><td>2.5</td><td>virginica</td></tr>\n",
              "\t<tr><th scope=row>146</th><td>6.7</td><td>3.0</td><td>5.2</td><td>2.3</td><td>virginica</td></tr>\n",
              "\t<tr><th scope=row>147</th><td>6.3</td><td>2.5</td><td>5.0</td><td>1.9</td><td>virginica</td></tr>\n",
              "\t<tr><th scope=row>148</th><td>6.5</td><td>3.0</td><td>5.2</td><td>2.0</td><td>virginica</td></tr>\n",
              "\t<tr><th scope=row>149</th><td>6.2</td><td>3.4</td><td>5.4</td><td>2.3</td><td>virginica</td></tr>\n",
              "\t<tr><th scope=row>150</th><td>5.9</td><td>3.0</td><td>5.1</td><td>1.8</td><td>virginica</td></tr>\n",
              "</tbody>\n",
              "</table>\n"
            ],
            "text/markdown": "\nA data.frame: 6 × 5\n\n| <!--/--> | Sepal.Length &lt;dbl&gt; | Sepal.Width &lt;dbl&gt; | Petal.Length &lt;dbl&gt; | Petal.Width &lt;dbl&gt; | Species &lt;fct&gt; |\n|---|---|---|---|---|---|\n| 145 | 6.7 | 3.3 | 5.7 | 2.5 | virginica |\n| 146 | 6.7 | 3.0 | 5.2 | 2.3 | virginica |\n| 147 | 6.3 | 2.5 | 5.0 | 1.9 | virginica |\n| 148 | 6.5 | 3.0 | 5.2 | 2.0 | virginica |\n| 149 | 6.2 | 3.4 | 5.4 | 2.3 | virginica |\n| 150 | 5.9 | 3.0 | 5.1 | 1.8 | virginica |\n\n",
            "text/latex": "A data.frame: 6 × 5\n\\begin{tabular}{r|lllll}\n  & Sepal.Length & Sepal.Width & Petal.Length & Petal.Width & Species\\\\\n  & <dbl> & <dbl> & <dbl> & <dbl> & <fct>\\\\\n\\hline\n\t145 & 6.7 & 3.3 & 5.7 & 2.5 & virginica\\\\\n\t146 & 6.7 & 3.0 & 5.2 & 2.3 & virginica\\\\\n\t147 & 6.3 & 2.5 & 5.0 & 1.9 & virginica\\\\\n\t148 & 6.5 & 3.0 & 5.2 & 2.0 & virginica\\\\\n\t149 & 6.2 & 3.4 & 5.4 & 2.3 & virginica\\\\\n\t150 & 5.9 & 3.0 & 5.1 & 1.8 & virginica\\\\\n\\end{tabular}\n",
            "text/plain": [
              "    Sepal.Length Sepal.Width Petal.Length Petal.Width Species  \n",
              "145 6.7          3.3         5.7          2.5         virginica\n",
              "146 6.7          3.0         5.2          2.3         virginica\n",
              "147 6.3          2.5         5.0          1.9         virginica\n",
              "148 6.5          3.0         5.2          2.0         virginica\n",
              "149 6.2          3.4         5.4          2.3         virginica\n",
              "150 5.9          3.0         5.1          1.8         virginica"
            ]
          },
          "metadata": {}
        }
      ]
    },
    {
      "cell_type": "code",
      "source": [
        "str(iris)"
      ],
      "metadata": {
        "colab": {
          "base_uri": "https://localhost:8080/"
        },
        "id": "Eqs-Uj2tAstR",
        "outputId": "7c5b73ab-149e-498f-839d-22b1525f6164"
      },
      "execution_count": null,
      "outputs": [
        {
          "output_type": "stream",
          "name": "stdout",
          "text": [
            "'data.frame':\t150 obs. of  5 variables:\n",
            " $ Sepal.Length: num  5.1 4.9 4.7 4.6 5 5.4 4.6 5 4.4 4.9 ...\n",
            " $ Sepal.Width : num  3.5 3 3.2 3.1 3.6 3.9 3.4 3.4 2.9 3.1 ...\n",
            " $ Petal.Length: num  1.4 1.4 1.3 1.5 1.4 1.7 1.4 1.5 1.4 1.5 ...\n",
            " $ Petal.Width : num  0.2 0.2 0.2 0.2 0.2 0.4 0.3 0.2 0.2 0.1 ...\n",
            " $ Species     : Factor w/ 3 levels \"setosa\",\"versicolor\",..: 1 1 1 1 1 1 1 1 1 1 ...\n"
          ]
        }
      ]
    },
    {
      "cell_type": "code",
      "source": [
        "summary(iris)"
      ],
      "metadata": {
        "colab": {
          "base_uri": "https://localhost:8080/",
          "height": 260
        },
        "id": "7s4z_4f1A2CW",
        "outputId": "c7365461-d3ea-4410-8429-be704df0cb5d"
      },
      "execution_count": null,
      "outputs": [
        {
          "output_type": "display_data",
          "data": {
            "text/plain": [
              "  Sepal.Length    Sepal.Width     Petal.Length    Petal.Width   \n",
              " Min.   :4.300   Min.   :2.000   Min.   :1.000   Min.   :0.100  \n",
              " 1st Qu.:5.100   1st Qu.:2.800   1st Qu.:1.600   1st Qu.:0.300  \n",
              " Median :5.800   Median :3.000   Median :4.350   Median :1.300  \n",
              " Mean   :5.843   Mean   :3.057   Mean   :3.758   Mean   :1.199  \n",
              " 3rd Qu.:6.400   3rd Qu.:3.300   3rd Qu.:5.100   3rd Qu.:1.800  \n",
              " Max.   :7.900   Max.   :4.400   Max.   :6.900   Max.   :2.500  \n",
              "       Species  \n",
              " setosa    :50  \n",
              " versicolor:50  \n",
              " virginica :50  \n",
              "                \n",
              "                \n",
              "                "
            ]
          },
          "metadata": {}
        }
      ]
    },
    {
      "cell_type": "markdown",
      "source": [
        "Seleccionar filas donde el Sepal.Length es mayor o igual que 5.0 y Sepal.Width es menor que 3.5."
      ],
      "metadata": {
        "id": "_PmIN_eWBFpi"
      }
    },
    {
      "cell_type": "code",
      "source": [
        "iris[ iris$Sepal.Length >= 5.5 & iris$Sepal.Width < 3.5 , ]"
      ],
      "metadata": {
        "colab": {
          "base_uri": "https://localhost:8080/",
          "height": 1000
        },
        "id": "xF8htht0BBmT",
        "outputId": "a983f0cd-a5a4-4f35-e45f-1adb58135a16"
      },
      "execution_count": null,
      "outputs": [
        {
          "output_type": "display_data",
          "data": {
            "text/html": [
              "<table class=\"dataframe\">\n",
              "<caption>A data.frame: 90 × 5</caption>\n",
              "<thead>\n",
              "\t<tr><th></th><th scope=col>Sepal.Length</th><th scope=col>Sepal.Width</th><th scope=col>Petal.Length</th><th scope=col>Petal.Width</th><th scope=col>Species</th></tr>\n",
              "\t<tr><th></th><th scope=col>&lt;dbl&gt;</th><th scope=col>&lt;dbl&gt;</th><th scope=col>&lt;dbl&gt;</th><th scope=col>&lt;dbl&gt;</th><th scope=col>&lt;fct&gt;</th></tr>\n",
              "</thead>\n",
              "<tbody>\n",
              "\t<tr><th scope=row>51</th><td>7.0</td><td>3.2</td><td>4.7</td><td>1.4</td><td>versicolor</td></tr>\n",
              "\t<tr><th scope=row>52</th><td>6.4</td><td>3.2</td><td>4.5</td><td>1.5</td><td>versicolor</td></tr>\n",
              "\t<tr><th scope=row>53</th><td>6.9</td><td>3.1</td><td>4.9</td><td>1.5</td><td>versicolor</td></tr>\n",
              "\t<tr><th scope=row>54</th><td>5.5</td><td>2.3</td><td>4.0</td><td>1.3</td><td>versicolor</td></tr>\n",
              "\t<tr><th scope=row>55</th><td>6.5</td><td>2.8</td><td>4.6</td><td>1.5</td><td>versicolor</td></tr>\n",
              "\t<tr><th scope=row>56</th><td>5.7</td><td>2.8</td><td>4.5</td><td>1.3</td><td>versicolor</td></tr>\n",
              "\t<tr><th scope=row>57</th><td>6.3</td><td>3.3</td><td>4.7</td><td>1.6</td><td>versicolor</td></tr>\n",
              "\t<tr><th scope=row>59</th><td>6.6</td><td>2.9</td><td>4.6</td><td>1.3</td><td>versicolor</td></tr>\n",
              "\t<tr><th scope=row>62</th><td>5.9</td><td>3.0</td><td>4.2</td><td>1.5</td><td>versicolor</td></tr>\n",
              "\t<tr><th scope=row>63</th><td>6.0</td><td>2.2</td><td>4.0</td><td>1.0</td><td>versicolor</td></tr>\n",
              "\t<tr><th scope=row>64</th><td>6.1</td><td>2.9</td><td>4.7</td><td>1.4</td><td>versicolor</td></tr>\n",
              "\t<tr><th scope=row>65</th><td>5.6</td><td>2.9</td><td>3.6</td><td>1.3</td><td>versicolor</td></tr>\n",
              "\t<tr><th scope=row>66</th><td>6.7</td><td>3.1</td><td>4.4</td><td>1.4</td><td>versicolor</td></tr>\n",
              "\t<tr><th scope=row>67</th><td>5.6</td><td>3.0</td><td>4.5</td><td>1.5</td><td>versicolor</td></tr>\n",
              "\t<tr><th scope=row>68</th><td>5.8</td><td>2.7</td><td>4.1</td><td>1.0</td><td>versicolor</td></tr>\n",
              "\t<tr><th scope=row>69</th><td>6.2</td><td>2.2</td><td>4.5</td><td>1.5</td><td>versicolor</td></tr>\n",
              "\t<tr><th scope=row>70</th><td>5.6</td><td>2.5</td><td>3.9</td><td>1.1</td><td>versicolor</td></tr>\n",
              "\t<tr><th scope=row>71</th><td>5.9</td><td>3.2</td><td>4.8</td><td>1.8</td><td>versicolor</td></tr>\n",
              "\t<tr><th scope=row>72</th><td>6.1</td><td>2.8</td><td>4.0</td><td>1.3</td><td>versicolor</td></tr>\n",
              "\t<tr><th scope=row>73</th><td>6.3</td><td>2.5</td><td>4.9</td><td>1.5</td><td>versicolor</td></tr>\n",
              "\t<tr><th scope=row>74</th><td>6.1</td><td>2.8</td><td>4.7</td><td>1.2</td><td>versicolor</td></tr>\n",
              "\t<tr><th scope=row>75</th><td>6.4</td><td>2.9</td><td>4.3</td><td>1.3</td><td>versicolor</td></tr>\n",
              "\t<tr><th scope=row>76</th><td>6.6</td><td>3.0</td><td>4.4</td><td>1.4</td><td>versicolor</td></tr>\n",
              "\t<tr><th scope=row>77</th><td>6.8</td><td>2.8</td><td>4.8</td><td>1.4</td><td>versicolor</td></tr>\n",
              "\t<tr><th scope=row>78</th><td>6.7</td><td>3.0</td><td>5.0</td><td>1.7</td><td>versicolor</td></tr>\n",
              "\t<tr><th scope=row>79</th><td>6.0</td><td>2.9</td><td>4.5</td><td>1.5</td><td>versicolor</td></tr>\n",
              "\t<tr><th scope=row>80</th><td>5.7</td><td>2.6</td><td>3.5</td><td>1.0</td><td>versicolor</td></tr>\n",
              "\t<tr><th scope=row>81</th><td>5.5</td><td>2.4</td><td>3.8</td><td>1.1</td><td>versicolor</td></tr>\n",
              "\t<tr><th scope=row>82</th><td>5.5</td><td>2.4</td><td>3.7</td><td>1.0</td><td>versicolor</td></tr>\n",
              "\t<tr><th scope=row>83</th><td>5.8</td><td>2.7</td><td>3.9</td><td>1.2</td><td>versicolor</td></tr>\n",
              "\t<tr><th scope=row>⋮</th><td>⋮</td><td>⋮</td><td>⋮</td><td>⋮</td><td>⋮</td></tr>\n",
              "\t<tr><th scope=row>120</th><td>6.0</td><td>2.2</td><td>5.0</td><td>1.5</td><td>virginica</td></tr>\n",
              "\t<tr><th scope=row>121</th><td>6.9</td><td>3.2</td><td>5.7</td><td>2.3</td><td>virginica</td></tr>\n",
              "\t<tr><th scope=row>122</th><td>5.6</td><td>2.8</td><td>4.9</td><td>2.0</td><td>virginica</td></tr>\n",
              "\t<tr><th scope=row>123</th><td>7.7</td><td>2.8</td><td>6.7</td><td>2.0</td><td>virginica</td></tr>\n",
              "\t<tr><th scope=row>124</th><td>6.3</td><td>2.7</td><td>4.9</td><td>1.8</td><td>virginica</td></tr>\n",
              "\t<tr><th scope=row>125</th><td>6.7</td><td>3.3</td><td>5.7</td><td>2.1</td><td>virginica</td></tr>\n",
              "\t<tr><th scope=row>126</th><td>7.2</td><td>3.2</td><td>6.0</td><td>1.8</td><td>virginica</td></tr>\n",
              "\t<tr><th scope=row>127</th><td>6.2</td><td>2.8</td><td>4.8</td><td>1.8</td><td>virginica</td></tr>\n",
              "\t<tr><th scope=row>128</th><td>6.1</td><td>3.0</td><td>4.9</td><td>1.8</td><td>virginica</td></tr>\n",
              "\t<tr><th scope=row>129</th><td>6.4</td><td>2.8</td><td>5.6</td><td>2.1</td><td>virginica</td></tr>\n",
              "\t<tr><th scope=row>130</th><td>7.2</td><td>3.0</td><td>5.8</td><td>1.6</td><td>virginica</td></tr>\n",
              "\t<tr><th scope=row>131</th><td>7.4</td><td>2.8</td><td>6.1</td><td>1.9</td><td>virginica</td></tr>\n",
              "\t<tr><th scope=row>133</th><td>6.4</td><td>2.8</td><td>5.6</td><td>2.2</td><td>virginica</td></tr>\n",
              "\t<tr><th scope=row>134</th><td>6.3</td><td>2.8</td><td>5.1</td><td>1.5</td><td>virginica</td></tr>\n",
              "\t<tr><th scope=row>135</th><td>6.1</td><td>2.6</td><td>5.6</td><td>1.4</td><td>virginica</td></tr>\n",
              "\t<tr><th scope=row>136</th><td>7.7</td><td>3.0</td><td>6.1</td><td>2.3</td><td>virginica</td></tr>\n",
              "\t<tr><th scope=row>137</th><td>6.3</td><td>3.4</td><td>5.6</td><td>2.4</td><td>virginica</td></tr>\n",
              "\t<tr><th scope=row>138</th><td>6.4</td><td>3.1</td><td>5.5</td><td>1.8</td><td>virginica</td></tr>\n",
              "\t<tr><th scope=row>139</th><td>6.0</td><td>3.0</td><td>4.8</td><td>1.8</td><td>virginica</td></tr>\n",
              "\t<tr><th scope=row>140</th><td>6.9</td><td>3.1</td><td>5.4</td><td>2.1</td><td>virginica</td></tr>\n",
              "\t<tr><th scope=row>141</th><td>6.7</td><td>3.1</td><td>5.6</td><td>2.4</td><td>virginica</td></tr>\n",
              "\t<tr><th scope=row>142</th><td>6.9</td><td>3.1</td><td>5.1</td><td>2.3</td><td>virginica</td></tr>\n",
              "\t<tr><th scope=row>143</th><td>5.8</td><td>2.7</td><td>5.1</td><td>1.9</td><td>virginica</td></tr>\n",
              "\t<tr><th scope=row>144</th><td>6.8</td><td>3.2</td><td>5.9</td><td>2.3</td><td>virginica</td></tr>\n",
              "\t<tr><th scope=row>145</th><td>6.7</td><td>3.3</td><td>5.7</td><td>2.5</td><td>virginica</td></tr>\n",
              "\t<tr><th scope=row>146</th><td>6.7</td><td>3.0</td><td>5.2</td><td>2.3</td><td>virginica</td></tr>\n",
              "\t<tr><th scope=row>147</th><td>6.3</td><td>2.5</td><td>5.0</td><td>1.9</td><td>virginica</td></tr>\n",
              "\t<tr><th scope=row>148</th><td>6.5</td><td>3.0</td><td>5.2</td><td>2.0</td><td>virginica</td></tr>\n",
              "\t<tr><th scope=row>149</th><td>6.2</td><td>3.4</td><td>5.4</td><td>2.3</td><td>virginica</td></tr>\n",
              "\t<tr><th scope=row>150</th><td>5.9</td><td>3.0</td><td>5.1</td><td>1.8</td><td>virginica</td></tr>\n",
              "</tbody>\n",
              "</table>\n"
            ],
            "text/markdown": "\nA data.frame: 90 × 5\n\n| <!--/--> | Sepal.Length &lt;dbl&gt; | Sepal.Width &lt;dbl&gt; | Petal.Length &lt;dbl&gt; | Petal.Width &lt;dbl&gt; | Species &lt;fct&gt; |\n|---|---|---|---|---|---|\n| 51 | 7.0 | 3.2 | 4.7 | 1.4 | versicolor |\n| 52 | 6.4 | 3.2 | 4.5 | 1.5 | versicolor |\n| 53 | 6.9 | 3.1 | 4.9 | 1.5 | versicolor |\n| 54 | 5.5 | 2.3 | 4.0 | 1.3 | versicolor |\n| 55 | 6.5 | 2.8 | 4.6 | 1.5 | versicolor |\n| 56 | 5.7 | 2.8 | 4.5 | 1.3 | versicolor |\n| 57 | 6.3 | 3.3 | 4.7 | 1.6 | versicolor |\n| 59 | 6.6 | 2.9 | 4.6 | 1.3 | versicolor |\n| 62 | 5.9 | 3.0 | 4.2 | 1.5 | versicolor |\n| 63 | 6.0 | 2.2 | 4.0 | 1.0 | versicolor |\n| 64 | 6.1 | 2.9 | 4.7 | 1.4 | versicolor |\n| 65 | 5.6 | 2.9 | 3.6 | 1.3 | versicolor |\n| 66 | 6.7 | 3.1 | 4.4 | 1.4 | versicolor |\n| 67 | 5.6 | 3.0 | 4.5 | 1.5 | versicolor |\n| 68 | 5.8 | 2.7 | 4.1 | 1.0 | versicolor |\n| 69 | 6.2 | 2.2 | 4.5 | 1.5 | versicolor |\n| 70 | 5.6 | 2.5 | 3.9 | 1.1 | versicolor |\n| 71 | 5.9 | 3.2 | 4.8 | 1.8 | versicolor |\n| 72 | 6.1 | 2.8 | 4.0 | 1.3 | versicolor |\n| 73 | 6.3 | 2.5 | 4.9 | 1.5 | versicolor |\n| 74 | 6.1 | 2.8 | 4.7 | 1.2 | versicolor |\n| 75 | 6.4 | 2.9 | 4.3 | 1.3 | versicolor |\n| 76 | 6.6 | 3.0 | 4.4 | 1.4 | versicolor |\n| 77 | 6.8 | 2.8 | 4.8 | 1.4 | versicolor |\n| 78 | 6.7 | 3.0 | 5.0 | 1.7 | versicolor |\n| 79 | 6.0 | 2.9 | 4.5 | 1.5 | versicolor |\n| 80 | 5.7 | 2.6 | 3.5 | 1.0 | versicolor |\n| 81 | 5.5 | 2.4 | 3.8 | 1.1 | versicolor |\n| 82 | 5.5 | 2.4 | 3.7 | 1.0 | versicolor |\n| 83 | 5.8 | 2.7 | 3.9 | 1.2 | versicolor |\n| ⋮ | ⋮ | ⋮ | ⋮ | ⋮ | ⋮ |\n| 120 | 6.0 | 2.2 | 5.0 | 1.5 | virginica |\n| 121 | 6.9 | 3.2 | 5.7 | 2.3 | virginica |\n| 122 | 5.6 | 2.8 | 4.9 | 2.0 | virginica |\n| 123 | 7.7 | 2.8 | 6.7 | 2.0 | virginica |\n| 124 | 6.3 | 2.7 | 4.9 | 1.8 | virginica |\n| 125 | 6.7 | 3.3 | 5.7 | 2.1 | virginica |\n| 126 | 7.2 | 3.2 | 6.0 | 1.8 | virginica |\n| 127 | 6.2 | 2.8 | 4.8 | 1.8 | virginica |\n| 128 | 6.1 | 3.0 | 4.9 | 1.8 | virginica |\n| 129 | 6.4 | 2.8 | 5.6 | 2.1 | virginica |\n| 130 | 7.2 | 3.0 | 5.8 | 1.6 | virginica |\n| 131 | 7.4 | 2.8 | 6.1 | 1.9 | virginica |\n| 133 | 6.4 | 2.8 | 5.6 | 2.2 | virginica |\n| 134 | 6.3 | 2.8 | 5.1 | 1.5 | virginica |\n| 135 | 6.1 | 2.6 | 5.6 | 1.4 | virginica |\n| 136 | 7.7 | 3.0 | 6.1 | 2.3 | virginica |\n| 137 | 6.3 | 3.4 | 5.6 | 2.4 | virginica |\n| 138 | 6.4 | 3.1 | 5.5 | 1.8 | virginica |\n| 139 | 6.0 | 3.0 | 4.8 | 1.8 | virginica |\n| 140 | 6.9 | 3.1 | 5.4 | 2.1 | virginica |\n| 141 | 6.7 | 3.1 | 5.6 | 2.4 | virginica |\n| 142 | 6.9 | 3.1 | 5.1 | 2.3 | virginica |\n| 143 | 5.8 | 2.7 | 5.1 | 1.9 | virginica |\n| 144 | 6.8 | 3.2 | 5.9 | 2.3 | virginica |\n| 145 | 6.7 | 3.3 | 5.7 | 2.5 | virginica |\n| 146 | 6.7 | 3.0 | 5.2 | 2.3 | virginica |\n| 147 | 6.3 | 2.5 | 5.0 | 1.9 | virginica |\n| 148 | 6.5 | 3.0 | 5.2 | 2.0 | virginica |\n| 149 | 6.2 | 3.4 | 5.4 | 2.3 | virginica |\n| 150 | 5.9 | 3.0 | 5.1 | 1.8 | virginica |\n\n",
            "text/latex": "A data.frame: 90 × 5\n\\begin{tabular}{r|lllll}\n  & Sepal.Length & Sepal.Width & Petal.Length & Petal.Width & Species\\\\\n  & <dbl> & <dbl> & <dbl> & <dbl> & <fct>\\\\\n\\hline\n\t51 & 7.0 & 3.2 & 4.7 & 1.4 & versicolor\\\\\n\t52 & 6.4 & 3.2 & 4.5 & 1.5 & versicolor\\\\\n\t53 & 6.9 & 3.1 & 4.9 & 1.5 & versicolor\\\\\n\t54 & 5.5 & 2.3 & 4.0 & 1.3 & versicolor\\\\\n\t55 & 6.5 & 2.8 & 4.6 & 1.5 & versicolor\\\\\n\t56 & 5.7 & 2.8 & 4.5 & 1.3 & versicolor\\\\\n\t57 & 6.3 & 3.3 & 4.7 & 1.6 & versicolor\\\\\n\t59 & 6.6 & 2.9 & 4.6 & 1.3 & versicolor\\\\\n\t62 & 5.9 & 3.0 & 4.2 & 1.5 & versicolor\\\\\n\t63 & 6.0 & 2.2 & 4.0 & 1.0 & versicolor\\\\\n\t64 & 6.1 & 2.9 & 4.7 & 1.4 & versicolor\\\\\n\t65 & 5.6 & 2.9 & 3.6 & 1.3 & versicolor\\\\\n\t66 & 6.7 & 3.1 & 4.4 & 1.4 & versicolor\\\\\n\t67 & 5.6 & 3.0 & 4.5 & 1.5 & versicolor\\\\\n\t68 & 5.8 & 2.7 & 4.1 & 1.0 & versicolor\\\\\n\t69 & 6.2 & 2.2 & 4.5 & 1.5 & versicolor\\\\\n\t70 & 5.6 & 2.5 & 3.9 & 1.1 & versicolor\\\\\n\t71 & 5.9 & 3.2 & 4.8 & 1.8 & versicolor\\\\\n\t72 & 6.1 & 2.8 & 4.0 & 1.3 & versicolor\\\\\n\t73 & 6.3 & 2.5 & 4.9 & 1.5 & versicolor\\\\\n\t74 & 6.1 & 2.8 & 4.7 & 1.2 & versicolor\\\\\n\t75 & 6.4 & 2.9 & 4.3 & 1.3 & versicolor\\\\\n\t76 & 6.6 & 3.0 & 4.4 & 1.4 & versicolor\\\\\n\t77 & 6.8 & 2.8 & 4.8 & 1.4 & versicolor\\\\\n\t78 & 6.7 & 3.0 & 5.0 & 1.7 & versicolor\\\\\n\t79 & 6.0 & 2.9 & 4.5 & 1.5 & versicolor\\\\\n\t80 & 5.7 & 2.6 & 3.5 & 1.0 & versicolor\\\\\n\t81 & 5.5 & 2.4 & 3.8 & 1.1 & versicolor\\\\\n\t82 & 5.5 & 2.4 & 3.7 & 1.0 & versicolor\\\\\n\t83 & 5.8 & 2.7 & 3.9 & 1.2 & versicolor\\\\\n\t⋮ & ⋮ & ⋮ & ⋮ & ⋮ & ⋮\\\\\n\t120 & 6.0 & 2.2 & 5.0 & 1.5 & virginica\\\\\n\t121 & 6.9 & 3.2 & 5.7 & 2.3 & virginica\\\\\n\t122 & 5.6 & 2.8 & 4.9 & 2.0 & virginica\\\\\n\t123 & 7.7 & 2.8 & 6.7 & 2.0 & virginica\\\\\n\t124 & 6.3 & 2.7 & 4.9 & 1.8 & virginica\\\\\n\t125 & 6.7 & 3.3 & 5.7 & 2.1 & virginica\\\\\n\t126 & 7.2 & 3.2 & 6.0 & 1.8 & virginica\\\\\n\t127 & 6.2 & 2.8 & 4.8 & 1.8 & virginica\\\\\n\t128 & 6.1 & 3.0 & 4.9 & 1.8 & virginica\\\\\n\t129 & 6.4 & 2.8 & 5.6 & 2.1 & virginica\\\\\n\t130 & 7.2 & 3.0 & 5.8 & 1.6 & virginica\\\\\n\t131 & 7.4 & 2.8 & 6.1 & 1.9 & virginica\\\\\n\t133 & 6.4 & 2.8 & 5.6 & 2.2 & virginica\\\\\n\t134 & 6.3 & 2.8 & 5.1 & 1.5 & virginica\\\\\n\t135 & 6.1 & 2.6 & 5.6 & 1.4 & virginica\\\\\n\t136 & 7.7 & 3.0 & 6.1 & 2.3 & virginica\\\\\n\t137 & 6.3 & 3.4 & 5.6 & 2.4 & virginica\\\\\n\t138 & 6.4 & 3.1 & 5.5 & 1.8 & virginica\\\\\n\t139 & 6.0 & 3.0 & 4.8 & 1.8 & virginica\\\\\n\t140 & 6.9 & 3.1 & 5.4 & 2.1 & virginica\\\\\n\t141 & 6.7 & 3.1 & 5.6 & 2.4 & virginica\\\\\n\t142 & 6.9 & 3.1 & 5.1 & 2.3 & virginica\\\\\n\t143 & 5.8 & 2.7 & 5.1 & 1.9 & virginica\\\\\n\t144 & 6.8 & 3.2 & 5.9 & 2.3 & virginica\\\\\n\t145 & 6.7 & 3.3 & 5.7 & 2.5 & virginica\\\\\n\t146 & 6.7 & 3.0 & 5.2 & 2.3 & virginica\\\\\n\t147 & 6.3 & 2.5 & 5.0 & 1.9 & virginica\\\\\n\t148 & 6.5 & 3.0 & 5.2 & 2.0 & virginica\\\\\n\t149 & 6.2 & 3.4 & 5.4 & 2.3 & virginica\\\\\n\t150 & 5.9 & 3.0 & 5.1 & 1.8 & virginica\\\\\n\\end{tabular}\n",
            "text/plain": [
              "    Sepal.Length Sepal.Width Petal.Length Petal.Width Species   \n",
              "51  7.0          3.2         4.7          1.4         versicolor\n",
              "52  6.4          3.2         4.5          1.5         versicolor\n",
              "53  6.9          3.1         4.9          1.5         versicolor\n",
              "54  5.5          2.3         4.0          1.3         versicolor\n",
              "55  6.5          2.8         4.6          1.5         versicolor\n",
              "56  5.7          2.8         4.5          1.3         versicolor\n",
              "57  6.3          3.3         4.7          1.6         versicolor\n",
              "59  6.6          2.9         4.6          1.3         versicolor\n",
              "62  5.9          3.0         4.2          1.5         versicolor\n",
              "63  6.0          2.2         4.0          1.0         versicolor\n",
              "64  6.1          2.9         4.7          1.4         versicolor\n",
              "65  5.6          2.9         3.6          1.3         versicolor\n",
              "66  6.7          3.1         4.4          1.4         versicolor\n",
              "67  5.6          3.0         4.5          1.5         versicolor\n",
              "68  5.8          2.7         4.1          1.0         versicolor\n",
              "69  6.2          2.2         4.5          1.5         versicolor\n",
              "70  5.6          2.5         3.9          1.1         versicolor\n",
              "71  5.9          3.2         4.8          1.8         versicolor\n",
              "72  6.1          2.8         4.0          1.3         versicolor\n",
              "73  6.3          2.5         4.9          1.5         versicolor\n",
              "74  6.1          2.8         4.7          1.2         versicolor\n",
              "75  6.4          2.9         4.3          1.3         versicolor\n",
              "76  6.6          3.0         4.4          1.4         versicolor\n",
              "77  6.8          2.8         4.8          1.4         versicolor\n",
              "78  6.7          3.0         5.0          1.7         versicolor\n",
              "79  6.0          2.9         4.5          1.5         versicolor\n",
              "80  5.7          2.6         3.5          1.0         versicolor\n",
              "81  5.5          2.4         3.8          1.1         versicolor\n",
              "82  5.5          2.4         3.7          1.0         versicolor\n",
              "83  5.8          2.7         3.9          1.2         versicolor\n",
              "⋮   ⋮            ⋮           ⋮            ⋮           ⋮         \n",
              "120 6.0          2.2         5.0          1.5         virginica \n",
              "121 6.9          3.2         5.7          2.3         virginica \n",
              "122 5.6          2.8         4.9          2.0         virginica \n",
              "123 7.7          2.8         6.7          2.0         virginica \n",
              "124 6.3          2.7         4.9          1.8         virginica \n",
              "125 6.7          3.3         5.7          2.1         virginica \n",
              "126 7.2          3.2         6.0          1.8         virginica \n",
              "127 6.2          2.8         4.8          1.8         virginica \n",
              "128 6.1          3.0         4.9          1.8         virginica \n",
              "129 6.4          2.8         5.6          2.1         virginica \n",
              "130 7.2          3.0         5.8          1.6         virginica \n",
              "131 7.4          2.8         6.1          1.9         virginica \n",
              "133 6.4          2.8         5.6          2.2         virginica \n",
              "134 6.3          2.8         5.1          1.5         virginica \n",
              "135 6.1          2.6         5.6          1.4         virginica \n",
              "136 7.7          3.0         6.1          2.3         virginica \n",
              "137 6.3          3.4         5.6          2.4         virginica \n",
              "138 6.4          3.1         5.5          1.8         virginica \n",
              "139 6.0          3.0         4.8          1.8         virginica \n",
              "140 6.9          3.1         5.4          2.1         virginica \n",
              "141 6.7          3.1         5.6          2.4         virginica \n",
              "142 6.9          3.1         5.1          2.3         virginica \n",
              "143 5.8          2.7         5.1          1.9         virginica \n",
              "144 6.8          3.2         5.9          2.3         virginica \n",
              "145 6.7          3.3         5.7          2.5         virginica \n",
              "146 6.7          3.0         5.2          2.3         virginica \n",
              "147 6.3          2.5         5.0          1.9         virginica \n",
              "148 6.5          3.0         5.2          2.0         virginica \n",
              "149 6.2          3.4         5.4          2.3         virginica \n",
              "150 5.9          3.0         5.1          1.8         virginica "
            ]
          },
          "metadata": {}
        }
      ]
    },
    {
      "cell_type": "markdown",
      "source": [
        "Seleccionar filas donde la especie es setosa o el Petal.Width es mayor que 2.0."
      ],
      "metadata": {
        "id": "3OudZrWVDZ9p"
      }
    },
    {
      "cell_type": "code",
      "source": [
        "iris[iris$Species == \"setosa\" | iris$Petal.Width > 2.0, ]"
      ],
      "metadata": {
        "colab": {
          "base_uri": "https://localhost:8080/",
          "height": 1000
        },
        "id": "-gwAcjBBEShQ",
        "outputId": "dbe6a518-d3de-4264-aec3-737a251b1687"
      },
      "execution_count": null,
      "outputs": [
        {
          "output_type": "display_data",
          "data": {
            "text/html": [
              "<table class=\"dataframe\">\n",
              "<caption>A data.frame: 73 × 5</caption>\n",
              "<thead>\n",
              "\t<tr><th></th><th scope=col>Sepal.Length</th><th scope=col>Sepal.Width</th><th scope=col>Petal.Length</th><th scope=col>Petal.Width</th><th scope=col>Species</th></tr>\n",
              "\t<tr><th></th><th scope=col>&lt;dbl&gt;</th><th scope=col>&lt;dbl&gt;</th><th scope=col>&lt;dbl&gt;</th><th scope=col>&lt;dbl&gt;</th><th scope=col>&lt;fct&gt;</th></tr>\n",
              "</thead>\n",
              "<tbody>\n",
              "\t<tr><th scope=row>1</th><td>5.1</td><td>3.5</td><td>1.4</td><td>0.2</td><td>setosa</td></tr>\n",
              "\t<tr><th scope=row>2</th><td>4.9</td><td>3.0</td><td>1.4</td><td>0.2</td><td>setosa</td></tr>\n",
              "\t<tr><th scope=row>3</th><td>4.7</td><td>3.2</td><td>1.3</td><td>0.2</td><td>setosa</td></tr>\n",
              "\t<tr><th scope=row>4</th><td>4.6</td><td>3.1</td><td>1.5</td><td>0.2</td><td>setosa</td></tr>\n",
              "\t<tr><th scope=row>5</th><td>5.0</td><td>3.6</td><td>1.4</td><td>0.2</td><td>setosa</td></tr>\n",
              "\t<tr><th scope=row>6</th><td>5.4</td><td>3.9</td><td>1.7</td><td>0.4</td><td>setosa</td></tr>\n",
              "\t<tr><th scope=row>7</th><td>4.6</td><td>3.4</td><td>1.4</td><td>0.3</td><td>setosa</td></tr>\n",
              "\t<tr><th scope=row>8</th><td>5.0</td><td>3.4</td><td>1.5</td><td>0.2</td><td>setosa</td></tr>\n",
              "\t<tr><th scope=row>9</th><td>4.4</td><td>2.9</td><td>1.4</td><td>0.2</td><td>setosa</td></tr>\n",
              "\t<tr><th scope=row>10</th><td>4.9</td><td>3.1</td><td>1.5</td><td>0.1</td><td>setosa</td></tr>\n",
              "\t<tr><th scope=row>11</th><td>5.4</td><td>3.7</td><td>1.5</td><td>0.2</td><td>setosa</td></tr>\n",
              "\t<tr><th scope=row>12</th><td>4.8</td><td>3.4</td><td>1.6</td><td>0.2</td><td>setosa</td></tr>\n",
              "\t<tr><th scope=row>13</th><td>4.8</td><td>3.0</td><td>1.4</td><td>0.1</td><td>setosa</td></tr>\n",
              "\t<tr><th scope=row>14</th><td>4.3</td><td>3.0</td><td>1.1</td><td>0.1</td><td>setosa</td></tr>\n",
              "\t<tr><th scope=row>15</th><td>5.8</td><td>4.0</td><td>1.2</td><td>0.2</td><td>setosa</td></tr>\n",
              "\t<tr><th scope=row>16</th><td>5.7</td><td>4.4</td><td>1.5</td><td>0.4</td><td>setosa</td></tr>\n",
              "\t<tr><th scope=row>17</th><td>5.4</td><td>3.9</td><td>1.3</td><td>0.4</td><td>setosa</td></tr>\n",
              "\t<tr><th scope=row>18</th><td>5.1</td><td>3.5</td><td>1.4</td><td>0.3</td><td>setosa</td></tr>\n",
              "\t<tr><th scope=row>19</th><td>5.7</td><td>3.8</td><td>1.7</td><td>0.3</td><td>setosa</td></tr>\n",
              "\t<tr><th scope=row>20</th><td>5.1</td><td>3.8</td><td>1.5</td><td>0.3</td><td>setosa</td></tr>\n",
              "\t<tr><th scope=row>21</th><td>5.4</td><td>3.4</td><td>1.7</td><td>0.2</td><td>setosa</td></tr>\n",
              "\t<tr><th scope=row>22</th><td>5.1</td><td>3.7</td><td>1.5</td><td>0.4</td><td>setosa</td></tr>\n",
              "\t<tr><th scope=row>23</th><td>4.6</td><td>3.6</td><td>1.0</td><td>0.2</td><td>setosa</td></tr>\n",
              "\t<tr><th scope=row>24</th><td>5.1</td><td>3.3</td><td>1.7</td><td>0.5</td><td>setosa</td></tr>\n",
              "\t<tr><th scope=row>25</th><td>4.8</td><td>3.4</td><td>1.9</td><td>0.2</td><td>setosa</td></tr>\n",
              "\t<tr><th scope=row>26</th><td>5.0</td><td>3.0</td><td>1.6</td><td>0.2</td><td>setosa</td></tr>\n",
              "\t<tr><th scope=row>27</th><td>5.0</td><td>3.4</td><td>1.6</td><td>0.4</td><td>setosa</td></tr>\n",
              "\t<tr><th scope=row>28</th><td>5.2</td><td>3.5</td><td>1.5</td><td>0.2</td><td>setosa</td></tr>\n",
              "\t<tr><th scope=row>29</th><td>5.2</td><td>3.4</td><td>1.4</td><td>0.2</td><td>setosa</td></tr>\n",
              "\t<tr><th scope=row>30</th><td>4.7</td><td>3.2</td><td>1.6</td><td>0.2</td><td>setosa</td></tr>\n",
              "\t<tr><th scope=row>⋮</th><td>⋮</td><td>⋮</td><td>⋮</td><td>⋮</td><td>⋮</td></tr>\n",
              "\t<tr><th scope=row>44</th><td>5.0</td><td>3.5</td><td>1.6</td><td>0.6</td><td>setosa   </td></tr>\n",
              "\t<tr><th scope=row>45</th><td>5.1</td><td>3.8</td><td>1.9</td><td>0.4</td><td>setosa   </td></tr>\n",
              "\t<tr><th scope=row>46</th><td>4.8</td><td>3.0</td><td>1.4</td><td>0.3</td><td>setosa   </td></tr>\n",
              "\t<tr><th scope=row>47</th><td>5.1</td><td>3.8</td><td>1.6</td><td>0.2</td><td>setosa   </td></tr>\n",
              "\t<tr><th scope=row>48</th><td>4.6</td><td>3.2</td><td>1.4</td><td>0.2</td><td>setosa   </td></tr>\n",
              "\t<tr><th scope=row>49</th><td>5.3</td><td>3.7</td><td>1.5</td><td>0.2</td><td>setosa   </td></tr>\n",
              "\t<tr><th scope=row>50</th><td>5.0</td><td>3.3</td><td>1.4</td><td>0.2</td><td>setosa   </td></tr>\n",
              "\t<tr><th scope=row>101</th><td>6.3</td><td>3.3</td><td>6.0</td><td>2.5</td><td>virginica</td></tr>\n",
              "\t<tr><th scope=row>103</th><td>7.1</td><td>3.0</td><td>5.9</td><td>2.1</td><td>virginica</td></tr>\n",
              "\t<tr><th scope=row>105</th><td>6.5</td><td>3.0</td><td>5.8</td><td>2.2</td><td>virginica</td></tr>\n",
              "\t<tr><th scope=row>106</th><td>7.6</td><td>3.0</td><td>6.6</td><td>2.1</td><td>virginica</td></tr>\n",
              "\t<tr><th scope=row>110</th><td>7.2</td><td>3.6</td><td>6.1</td><td>2.5</td><td>virginica</td></tr>\n",
              "\t<tr><th scope=row>113</th><td>6.8</td><td>3.0</td><td>5.5</td><td>2.1</td><td>virginica</td></tr>\n",
              "\t<tr><th scope=row>115</th><td>5.8</td><td>2.8</td><td>5.1</td><td>2.4</td><td>virginica</td></tr>\n",
              "\t<tr><th scope=row>116</th><td>6.4</td><td>3.2</td><td>5.3</td><td>2.3</td><td>virginica</td></tr>\n",
              "\t<tr><th scope=row>118</th><td>7.7</td><td>3.8</td><td>6.7</td><td>2.2</td><td>virginica</td></tr>\n",
              "\t<tr><th scope=row>119</th><td>7.7</td><td>2.6</td><td>6.9</td><td>2.3</td><td>virginica</td></tr>\n",
              "\t<tr><th scope=row>121</th><td>6.9</td><td>3.2</td><td>5.7</td><td>2.3</td><td>virginica</td></tr>\n",
              "\t<tr><th scope=row>125</th><td>6.7</td><td>3.3</td><td>5.7</td><td>2.1</td><td>virginica</td></tr>\n",
              "\t<tr><th scope=row>129</th><td>6.4</td><td>2.8</td><td>5.6</td><td>2.1</td><td>virginica</td></tr>\n",
              "\t<tr><th scope=row>133</th><td>6.4</td><td>2.8</td><td>5.6</td><td>2.2</td><td>virginica</td></tr>\n",
              "\t<tr><th scope=row>136</th><td>7.7</td><td>3.0</td><td>6.1</td><td>2.3</td><td>virginica</td></tr>\n",
              "\t<tr><th scope=row>137</th><td>6.3</td><td>3.4</td><td>5.6</td><td>2.4</td><td>virginica</td></tr>\n",
              "\t<tr><th scope=row>140</th><td>6.9</td><td>3.1</td><td>5.4</td><td>2.1</td><td>virginica</td></tr>\n",
              "\t<tr><th scope=row>141</th><td>6.7</td><td>3.1</td><td>5.6</td><td>2.4</td><td>virginica</td></tr>\n",
              "\t<tr><th scope=row>142</th><td>6.9</td><td>3.1</td><td>5.1</td><td>2.3</td><td>virginica</td></tr>\n",
              "\t<tr><th scope=row>144</th><td>6.8</td><td>3.2</td><td>5.9</td><td>2.3</td><td>virginica</td></tr>\n",
              "\t<tr><th scope=row>145</th><td>6.7</td><td>3.3</td><td>5.7</td><td>2.5</td><td>virginica</td></tr>\n",
              "\t<tr><th scope=row>146</th><td>6.7</td><td>3.0</td><td>5.2</td><td>2.3</td><td>virginica</td></tr>\n",
              "\t<tr><th scope=row>149</th><td>6.2</td><td>3.4</td><td>5.4</td><td>2.3</td><td>virginica</td></tr>\n",
              "</tbody>\n",
              "</table>\n"
            ],
            "text/markdown": "\nA data.frame: 73 × 5\n\n| <!--/--> | Sepal.Length &lt;dbl&gt; | Sepal.Width &lt;dbl&gt; | Petal.Length &lt;dbl&gt; | Petal.Width &lt;dbl&gt; | Species &lt;fct&gt; |\n|---|---|---|---|---|---|\n| 1 | 5.1 | 3.5 | 1.4 | 0.2 | setosa |\n| 2 | 4.9 | 3.0 | 1.4 | 0.2 | setosa |\n| 3 | 4.7 | 3.2 | 1.3 | 0.2 | setosa |\n| 4 | 4.6 | 3.1 | 1.5 | 0.2 | setosa |\n| 5 | 5.0 | 3.6 | 1.4 | 0.2 | setosa |\n| 6 | 5.4 | 3.9 | 1.7 | 0.4 | setosa |\n| 7 | 4.6 | 3.4 | 1.4 | 0.3 | setosa |\n| 8 | 5.0 | 3.4 | 1.5 | 0.2 | setosa |\n| 9 | 4.4 | 2.9 | 1.4 | 0.2 | setosa |\n| 10 | 4.9 | 3.1 | 1.5 | 0.1 | setosa |\n| 11 | 5.4 | 3.7 | 1.5 | 0.2 | setosa |\n| 12 | 4.8 | 3.4 | 1.6 | 0.2 | setosa |\n| 13 | 4.8 | 3.0 | 1.4 | 0.1 | setosa |\n| 14 | 4.3 | 3.0 | 1.1 | 0.1 | setosa |\n| 15 | 5.8 | 4.0 | 1.2 | 0.2 | setosa |\n| 16 | 5.7 | 4.4 | 1.5 | 0.4 | setosa |\n| 17 | 5.4 | 3.9 | 1.3 | 0.4 | setosa |\n| 18 | 5.1 | 3.5 | 1.4 | 0.3 | setosa |\n| 19 | 5.7 | 3.8 | 1.7 | 0.3 | setosa |\n| 20 | 5.1 | 3.8 | 1.5 | 0.3 | setosa |\n| 21 | 5.4 | 3.4 | 1.7 | 0.2 | setosa |\n| 22 | 5.1 | 3.7 | 1.5 | 0.4 | setosa |\n| 23 | 4.6 | 3.6 | 1.0 | 0.2 | setosa |\n| 24 | 5.1 | 3.3 | 1.7 | 0.5 | setosa |\n| 25 | 4.8 | 3.4 | 1.9 | 0.2 | setosa |\n| 26 | 5.0 | 3.0 | 1.6 | 0.2 | setosa |\n| 27 | 5.0 | 3.4 | 1.6 | 0.4 | setosa |\n| 28 | 5.2 | 3.5 | 1.5 | 0.2 | setosa |\n| 29 | 5.2 | 3.4 | 1.4 | 0.2 | setosa |\n| 30 | 4.7 | 3.2 | 1.6 | 0.2 | setosa |\n| ⋮ | ⋮ | ⋮ | ⋮ | ⋮ | ⋮ |\n| 44 | 5.0 | 3.5 | 1.6 | 0.6 | setosa    |\n| 45 | 5.1 | 3.8 | 1.9 | 0.4 | setosa    |\n| 46 | 4.8 | 3.0 | 1.4 | 0.3 | setosa    |\n| 47 | 5.1 | 3.8 | 1.6 | 0.2 | setosa    |\n| 48 | 4.6 | 3.2 | 1.4 | 0.2 | setosa    |\n| 49 | 5.3 | 3.7 | 1.5 | 0.2 | setosa    |\n| 50 | 5.0 | 3.3 | 1.4 | 0.2 | setosa    |\n| 101 | 6.3 | 3.3 | 6.0 | 2.5 | virginica |\n| 103 | 7.1 | 3.0 | 5.9 | 2.1 | virginica |\n| 105 | 6.5 | 3.0 | 5.8 | 2.2 | virginica |\n| 106 | 7.6 | 3.0 | 6.6 | 2.1 | virginica |\n| 110 | 7.2 | 3.6 | 6.1 | 2.5 | virginica |\n| 113 | 6.8 | 3.0 | 5.5 | 2.1 | virginica |\n| 115 | 5.8 | 2.8 | 5.1 | 2.4 | virginica |\n| 116 | 6.4 | 3.2 | 5.3 | 2.3 | virginica |\n| 118 | 7.7 | 3.8 | 6.7 | 2.2 | virginica |\n| 119 | 7.7 | 2.6 | 6.9 | 2.3 | virginica |\n| 121 | 6.9 | 3.2 | 5.7 | 2.3 | virginica |\n| 125 | 6.7 | 3.3 | 5.7 | 2.1 | virginica |\n| 129 | 6.4 | 2.8 | 5.6 | 2.1 | virginica |\n| 133 | 6.4 | 2.8 | 5.6 | 2.2 | virginica |\n| 136 | 7.7 | 3.0 | 6.1 | 2.3 | virginica |\n| 137 | 6.3 | 3.4 | 5.6 | 2.4 | virginica |\n| 140 | 6.9 | 3.1 | 5.4 | 2.1 | virginica |\n| 141 | 6.7 | 3.1 | 5.6 | 2.4 | virginica |\n| 142 | 6.9 | 3.1 | 5.1 | 2.3 | virginica |\n| 144 | 6.8 | 3.2 | 5.9 | 2.3 | virginica |\n| 145 | 6.7 | 3.3 | 5.7 | 2.5 | virginica |\n| 146 | 6.7 | 3.0 | 5.2 | 2.3 | virginica |\n| 149 | 6.2 | 3.4 | 5.4 | 2.3 | virginica |\n\n",
            "text/latex": "A data.frame: 73 × 5\n\\begin{tabular}{r|lllll}\n  & Sepal.Length & Sepal.Width & Petal.Length & Petal.Width & Species\\\\\n  & <dbl> & <dbl> & <dbl> & <dbl> & <fct>\\\\\n\\hline\n\t1 & 5.1 & 3.5 & 1.4 & 0.2 & setosa\\\\\n\t2 & 4.9 & 3.0 & 1.4 & 0.2 & setosa\\\\\n\t3 & 4.7 & 3.2 & 1.3 & 0.2 & setosa\\\\\n\t4 & 4.6 & 3.1 & 1.5 & 0.2 & setosa\\\\\n\t5 & 5.0 & 3.6 & 1.4 & 0.2 & setosa\\\\\n\t6 & 5.4 & 3.9 & 1.7 & 0.4 & setosa\\\\\n\t7 & 4.6 & 3.4 & 1.4 & 0.3 & setosa\\\\\n\t8 & 5.0 & 3.4 & 1.5 & 0.2 & setosa\\\\\n\t9 & 4.4 & 2.9 & 1.4 & 0.2 & setosa\\\\\n\t10 & 4.9 & 3.1 & 1.5 & 0.1 & setosa\\\\\n\t11 & 5.4 & 3.7 & 1.5 & 0.2 & setosa\\\\\n\t12 & 4.8 & 3.4 & 1.6 & 0.2 & setosa\\\\\n\t13 & 4.8 & 3.0 & 1.4 & 0.1 & setosa\\\\\n\t14 & 4.3 & 3.0 & 1.1 & 0.1 & setosa\\\\\n\t15 & 5.8 & 4.0 & 1.2 & 0.2 & setosa\\\\\n\t16 & 5.7 & 4.4 & 1.5 & 0.4 & setosa\\\\\n\t17 & 5.4 & 3.9 & 1.3 & 0.4 & setosa\\\\\n\t18 & 5.1 & 3.5 & 1.4 & 0.3 & setosa\\\\\n\t19 & 5.7 & 3.8 & 1.7 & 0.3 & setosa\\\\\n\t20 & 5.1 & 3.8 & 1.5 & 0.3 & setosa\\\\\n\t21 & 5.4 & 3.4 & 1.7 & 0.2 & setosa\\\\\n\t22 & 5.1 & 3.7 & 1.5 & 0.4 & setosa\\\\\n\t23 & 4.6 & 3.6 & 1.0 & 0.2 & setosa\\\\\n\t24 & 5.1 & 3.3 & 1.7 & 0.5 & setosa\\\\\n\t25 & 4.8 & 3.4 & 1.9 & 0.2 & setosa\\\\\n\t26 & 5.0 & 3.0 & 1.6 & 0.2 & setosa\\\\\n\t27 & 5.0 & 3.4 & 1.6 & 0.4 & setosa\\\\\n\t28 & 5.2 & 3.5 & 1.5 & 0.2 & setosa\\\\\n\t29 & 5.2 & 3.4 & 1.4 & 0.2 & setosa\\\\\n\t30 & 4.7 & 3.2 & 1.6 & 0.2 & setosa\\\\\n\t⋮ & ⋮ & ⋮ & ⋮ & ⋮ & ⋮\\\\\n\t44 & 5.0 & 3.5 & 1.6 & 0.6 & setosa   \\\\\n\t45 & 5.1 & 3.8 & 1.9 & 0.4 & setosa   \\\\\n\t46 & 4.8 & 3.0 & 1.4 & 0.3 & setosa   \\\\\n\t47 & 5.1 & 3.8 & 1.6 & 0.2 & setosa   \\\\\n\t48 & 4.6 & 3.2 & 1.4 & 0.2 & setosa   \\\\\n\t49 & 5.3 & 3.7 & 1.5 & 0.2 & setosa   \\\\\n\t50 & 5.0 & 3.3 & 1.4 & 0.2 & setosa   \\\\\n\t101 & 6.3 & 3.3 & 6.0 & 2.5 & virginica\\\\\n\t103 & 7.1 & 3.0 & 5.9 & 2.1 & virginica\\\\\n\t105 & 6.5 & 3.0 & 5.8 & 2.2 & virginica\\\\\n\t106 & 7.6 & 3.0 & 6.6 & 2.1 & virginica\\\\\n\t110 & 7.2 & 3.6 & 6.1 & 2.5 & virginica\\\\\n\t113 & 6.8 & 3.0 & 5.5 & 2.1 & virginica\\\\\n\t115 & 5.8 & 2.8 & 5.1 & 2.4 & virginica\\\\\n\t116 & 6.4 & 3.2 & 5.3 & 2.3 & virginica\\\\\n\t118 & 7.7 & 3.8 & 6.7 & 2.2 & virginica\\\\\n\t119 & 7.7 & 2.6 & 6.9 & 2.3 & virginica\\\\\n\t121 & 6.9 & 3.2 & 5.7 & 2.3 & virginica\\\\\n\t125 & 6.7 & 3.3 & 5.7 & 2.1 & virginica\\\\\n\t129 & 6.4 & 2.8 & 5.6 & 2.1 & virginica\\\\\n\t133 & 6.4 & 2.8 & 5.6 & 2.2 & virginica\\\\\n\t136 & 7.7 & 3.0 & 6.1 & 2.3 & virginica\\\\\n\t137 & 6.3 & 3.4 & 5.6 & 2.4 & virginica\\\\\n\t140 & 6.9 & 3.1 & 5.4 & 2.1 & virginica\\\\\n\t141 & 6.7 & 3.1 & 5.6 & 2.4 & virginica\\\\\n\t142 & 6.9 & 3.1 & 5.1 & 2.3 & virginica\\\\\n\t144 & 6.8 & 3.2 & 5.9 & 2.3 & virginica\\\\\n\t145 & 6.7 & 3.3 & 5.7 & 2.5 & virginica\\\\\n\t146 & 6.7 & 3.0 & 5.2 & 2.3 & virginica\\\\\n\t149 & 6.2 & 3.4 & 5.4 & 2.3 & virginica\\\\\n\\end{tabular}\n",
            "text/plain": [
              "    Sepal.Length Sepal.Width Petal.Length Petal.Width Species  \n",
              "1   5.1          3.5         1.4          0.2         setosa   \n",
              "2   4.9          3.0         1.4          0.2         setosa   \n",
              "3   4.7          3.2         1.3          0.2         setosa   \n",
              "4   4.6          3.1         1.5          0.2         setosa   \n",
              "5   5.0          3.6         1.4          0.2         setosa   \n",
              "6   5.4          3.9         1.7          0.4         setosa   \n",
              "7   4.6          3.4         1.4          0.3         setosa   \n",
              "8   5.0          3.4         1.5          0.2         setosa   \n",
              "9   4.4          2.9         1.4          0.2         setosa   \n",
              "10  4.9          3.1         1.5          0.1         setosa   \n",
              "11  5.4          3.7         1.5          0.2         setosa   \n",
              "12  4.8          3.4         1.6          0.2         setosa   \n",
              "13  4.8          3.0         1.4          0.1         setosa   \n",
              "14  4.3          3.0         1.1          0.1         setosa   \n",
              "15  5.8          4.0         1.2          0.2         setosa   \n",
              "16  5.7          4.4         1.5          0.4         setosa   \n",
              "17  5.4          3.9         1.3          0.4         setosa   \n",
              "18  5.1          3.5         1.4          0.3         setosa   \n",
              "19  5.7          3.8         1.7          0.3         setosa   \n",
              "20  5.1          3.8         1.5          0.3         setosa   \n",
              "21  5.4          3.4         1.7          0.2         setosa   \n",
              "22  5.1          3.7         1.5          0.4         setosa   \n",
              "23  4.6          3.6         1.0          0.2         setosa   \n",
              "24  5.1          3.3         1.7          0.5         setosa   \n",
              "25  4.8          3.4         1.9          0.2         setosa   \n",
              "26  5.0          3.0         1.6          0.2         setosa   \n",
              "27  5.0          3.4         1.6          0.4         setosa   \n",
              "28  5.2          3.5         1.5          0.2         setosa   \n",
              "29  5.2          3.4         1.4          0.2         setosa   \n",
              "30  4.7          3.2         1.6          0.2         setosa   \n",
              "⋮   ⋮            ⋮           ⋮            ⋮           ⋮        \n",
              "44  5.0          3.5         1.6          0.6         setosa   \n",
              "45  5.1          3.8         1.9          0.4         setosa   \n",
              "46  4.8          3.0         1.4          0.3         setosa   \n",
              "47  5.1          3.8         1.6          0.2         setosa   \n",
              "48  4.6          3.2         1.4          0.2         setosa   \n",
              "49  5.3          3.7         1.5          0.2         setosa   \n",
              "50  5.0          3.3         1.4          0.2         setosa   \n",
              "101 6.3          3.3         6.0          2.5         virginica\n",
              "103 7.1          3.0         5.9          2.1         virginica\n",
              "105 6.5          3.0         5.8          2.2         virginica\n",
              "106 7.6          3.0         6.6          2.1         virginica\n",
              "110 7.2          3.6         6.1          2.5         virginica\n",
              "113 6.8          3.0         5.5          2.1         virginica\n",
              "115 5.8          2.8         5.1          2.4         virginica\n",
              "116 6.4          3.2         5.3          2.3         virginica\n",
              "118 7.7          3.8         6.7          2.2         virginica\n",
              "119 7.7          2.6         6.9          2.3         virginica\n",
              "121 6.9          3.2         5.7          2.3         virginica\n",
              "125 6.7          3.3         5.7          2.1         virginica\n",
              "129 6.4          2.8         5.6          2.1         virginica\n",
              "133 6.4          2.8         5.6          2.2         virginica\n",
              "136 7.7          3.0         6.1          2.3         virginica\n",
              "137 6.3          3.4         5.6          2.4         virginica\n",
              "140 6.9          3.1         5.4          2.1         virginica\n",
              "141 6.7          3.1         5.6          2.4         virginica\n",
              "142 6.9          3.1         5.1          2.3         virginica\n",
              "144 6.8          3.2         5.9          2.3         virginica\n",
              "145 6.7          3.3         5.7          2.5         virginica\n",
              "146 6.7          3.0         5.2          2.3         virginica\n",
              "149 6.2          3.4         5.4          2.3         virginica"
            ]
          },
          "metadata": {}
        }
      ]
    },
    {
      "cell_type": "markdown",
      "source": [
        "Seleccionar filas donde la especie no es Virginica"
      ],
      "metadata": {
        "id": "St9PlFqCE_qN"
      }
    },
    {
      "cell_type": "code",
      "source": [
        "iris[iris$Species != \"virginica\", ]"
      ],
      "metadata": {
        "colab": {
          "base_uri": "https://localhost:8080/",
          "height": 1000
        },
        "id": "lbs9CSSEGbPg",
        "outputId": "c0907b7a-2ae6-4f58-af0a-bc41283e7723"
      },
      "execution_count": null,
      "outputs": [
        {
          "output_type": "display_data",
          "data": {
            "text/html": [
              "<table class=\"dataframe\">\n",
              "<caption>A data.frame: 100 × 5</caption>\n",
              "<thead>\n",
              "\t<tr><th></th><th scope=col>Sepal.Length</th><th scope=col>Sepal.Width</th><th scope=col>Petal.Length</th><th scope=col>Petal.Width</th><th scope=col>Species</th></tr>\n",
              "\t<tr><th></th><th scope=col>&lt;dbl&gt;</th><th scope=col>&lt;dbl&gt;</th><th scope=col>&lt;dbl&gt;</th><th scope=col>&lt;dbl&gt;</th><th scope=col>&lt;fct&gt;</th></tr>\n",
              "</thead>\n",
              "<tbody>\n",
              "\t<tr><th scope=row>1</th><td>5.1</td><td>3.5</td><td>1.4</td><td>0.2</td><td>setosa</td></tr>\n",
              "\t<tr><th scope=row>2</th><td>4.9</td><td>3.0</td><td>1.4</td><td>0.2</td><td>setosa</td></tr>\n",
              "\t<tr><th scope=row>3</th><td>4.7</td><td>3.2</td><td>1.3</td><td>0.2</td><td>setosa</td></tr>\n",
              "\t<tr><th scope=row>4</th><td>4.6</td><td>3.1</td><td>1.5</td><td>0.2</td><td>setosa</td></tr>\n",
              "\t<tr><th scope=row>5</th><td>5.0</td><td>3.6</td><td>1.4</td><td>0.2</td><td>setosa</td></tr>\n",
              "\t<tr><th scope=row>6</th><td>5.4</td><td>3.9</td><td>1.7</td><td>0.4</td><td>setosa</td></tr>\n",
              "\t<tr><th scope=row>7</th><td>4.6</td><td>3.4</td><td>1.4</td><td>0.3</td><td>setosa</td></tr>\n",
              "\t<tr><th scope=row>8</th><td>5.0</td><td>3.4</td><td>1.5</td><td>0.2</td><td>setosa</td></tr>\n",
              "\t<tr><th scope=row>9</th><td>4.4</td><td>2.9</td><td>1.4</td><td>0.2</td><td>setosa</td></tr>\n",
              "\t<tr><th scope=row>10</th><td>4.9</td><td>3.1</td><td>1.5</td><td>0.1</td><td>setosa</td></tr>\n",
              "\t<tr><th scope=row>11</th><td>5.4</td><td>3.7</td><td>1.5</td><td>0.2</td><td>setosa</td></tr>\n",
              "\t<tr><th scope=row>12</th><td>4.8</td><td>3.4</td><td>1.6</td><td>0.2</td><td>setosa</td></tr>\n",
              "\t<tr><th scope=row>13</th><td>4.8</td><td>3.0</td><td>1.4</td><td>0.1</td><td>setosa</td></tr>\n",
              "\t<tr><th scope=row>14</th><td>4.3</td><td>3.0</td><td>1.1</td><td>0.1</td><td>setosa</td></tr>\n",
              "\t<tr><th scope=row>15</th><td>5.8</td><td>4.0</td><td>1.2</td><td>0.2</td><td>setosa</td></tr>\n",
              "\t<tr><th scope=row>16</th><td>5.7</td><td>4.4</td><td>1.5</td><td>0.4</td><td>setosa</td></tr>\n",
              "\t<tr><th scope=row>17</th><td>5.4</td><td>3.9</td><td>1.3</td><td>0.4</td><td>setosa</td></tr>\n",
              "\t<tr><th scope=row>18</th><td>5.1</td><td>3.5</td><td>1.4</td><td>0.3</td><td>setosa</td></tr>\n",
              "\t<tr><th scope=row>19</th><td>5.7</td><td>3.8</td><td>1.7</td><td>0.3</td><td>setosa</td></tr>\n",
              "\t<tr><th scope=row>20</th><td>5.1</td><td>3.8</td><td>1.5</td><td>0.3</td><td>setosa</td></tr>\n",
              "\t<tr><th scope=row>21</th><td>5.4</td><td>3.4</td><td>1.7</td><td>0.2</td><td>setosa</td></tr>\n",
              "\t<tr><th scope=row>22</th><td>5.1</td><td>3.7</td><td>1.5</td><td>0.4</td><td>setosa</td></tr>\n",
              "\t<tr><th scope=row>23</th><td>4.6</td><td>3.6</td><td>1.0</td><td>0.2</td><td>setosa</td></tr>\n",
              "\t<tr><th scope=row>24</th><td>5.1</td><td>3.3</td><td>1.7</td><td>0.5</td><td>setosa</td></tr>\n",
              "\t<tr><th scope=row>25</th><td>4.8</td><td>3.4</td><td>1.9</td><td>0.2</td><td>setosa</td></tr>\n",
              "\t<tr><th scope=row>26</th><td>5.0</td><td>3.0</td><td>1.6</td><td>0.2</td><td>setosa</td></tr>\n",
              "\t<tr><th scope=row>27</th><td>5.0</td><td>3.4</td><td>1.6</td><td>0.4</td><td>setosa</td></tr>\n",
              "\t<tr><th scope=row>28</th><td>5.2</td><td>3.5</td><td>1.5</td><td>0.2</td><td>setosa</td></tr>\n",
              "\t<tr><th scope=row>29</th><td>5.2</td><td>3.4</td><td>1.4</td><td>0.2</td><td>setosa</td></tr>\n",
              "\t<tr><th scope=row>30</th><td>4.7</td><td>3.2</td><td>1.6</td><td>0.2</td><td>setosa</td></tr>\n",
              "\t<tr><th scope=row>⋮</th><td>⋮</td><td>⋮</td><td>⋮</td><td>⋮</td><td>⋮</td></tr>\n",
              "\t<tr><th scope=row>71</th><td>5.9</td><td>3.2</td><td>4.8</td><td>1.8</td><td>versicolor</td></tr>\n",
              "\t<tr><th scope=row>72</th><td>6.1</td><td>2.8</td><td>4.0</td><td>1.3</td><td>versicolor</td></tr>\n",
              "\t<tr><th scope=row>73</th><td>6.3</td><td>2.5</td><td>4.9</td><td>1.5</td><td>versicolor</td></tr>\n",
              "\t<tr><th scope=row>74</th><td>6.1</td><td>2.8</td><td>4.7</td><td>1.2</td><td>versicolor</td></tr>\n",
              "\t<tr><th scope=row>75</th><td>6.4</td><td>2.9</td><td>4.3</td><td>1.3</td><td>versicolor</td></tr>\n",
              "\t<tr><th scope=row>76</th><td>6.6</td><td>3.0</td><td>4.4</td><td>1.4</td><td>versicolor</td></tr>\n",
              "\t<tr><th scope=row>77</th><td>6.8</td><td>2.8</td><td>4.8</td><td>1.4</td><td>versicolor</td></tr>\n",
              "\t<tr><th scope=row>78</th><td>6.7</td><td>3.0</td><td>5.0</td><td>1.7</td><td>versicolor</td></tr>\n",
              "\t<tr><th scope=row>79</th><td>6.0</td><td>2.9</td><td>4.5</td><td>1.5</td><td>versicolor</td></tr>\n",
              "\t<tr><th scope=row>80</th><td>5.7</td><td>2.6</td><td>3.5</td><td>1.0</td><td>versicolor</td></tr>\n",
              "\t<tr><th scope=row>81</th><td>5.5</td><td>2.4</td><td>3.8</td><td>1.1</td><td>versicolor</td></tr>\n",
              "\t<tr><th scope=row>82</th><td>5.5</td><td>2.4</td><td>3.7</td><td>1.0</td><td>versicolor</td></tr>\n",
              "\t<tr><th scope=row>83</th><td>5.8</td><td>2.7</td><td>3.9</td><td>1.2</td><td>versicolor</td></tr>\n",
              "\t<tr><th scope=row>84</th><td>6.0</td><td>2.7</td><td>5.1</td><td>1.6</td><td>versicolor</td></tr>\n",
              "\t<tr><th scope=row>85</th><td>5.4</td><td>3.0</td><td>4.5</td><td>1.5</td><td>versicolor</td></tr>\n",
              "\t<tr><th scope=row>86</th><td>6.0</td><td>3.4</td><td>4.5</td><td>1.6</td><td>versicolor</td></tr>\n",
              "\t<tr><th scope=row>87</th><td>6.7</td><td>3.1</td><td>4.7</td><td>1.5</td><td>versicolor</td></tr>\n",
              "\t<tr><th scope=row>88</th><td>6.3</td><td>2.3</td><td>4.4</td><td>1.3</td><td>versicolor</td></tr>\n",
              "\t<tr><th scope=row>89</th><td>5.6</td><td>3.0</td><td>4.1</td><td>1.3</td><td>versicolor</td></tr>\n",
              "\t<tr><th scope=row>90</th><td>5.5</td><td>2.5</td><td>4.0</td><td>1.3</td><td>versicolor</td></tr>\n",
              "\t<tr><th scope=row>91</th><td>5.5</td><td>2.6</td><td>4.4</td><td>1.2</td><td>versicolor</td></tr>\n",
              "\t<tr><th scope=row>92</th><td>6.1</td><td>3.0</td><td>4.6</td><td>1.4</td><td>versicolor</td></tr>\n",
              "\t<tr><th scope=row>93</th><td>5.8</td><td>2.6</td><td>4.0</td><td>1.2</td><td>versicolor</td></tr>\n",
              "\t<tr><th scope=row>94</th><td>5.0</td><td>2.3</td><td>3.3</td><td>1.0</td><td>versicolor</td></tr>\n",
              "\t<tr><th scope=row>95</th><td>5.6</td><td>2.7</td><td>4.2</td><td>1.3</td><td>versicolor</td></tr>\n",
              "\t<tr><th scope=row>96</th><td>5.7</td><td>3.0</td><td>4.2</td><td>1.2</td><td>versicolor</td></tr>\n",
              "\t<tr><th scope=row>97</th><td>5.7</td><td>2.9</td><td>4.2</td><td>1.3</td><td>versicolor</td></tr>\n",
              "\t<tr><th scope=row>98</th><td>6.2</td><td>2.9</td><td>4.3</td><td>1.3</td><td>versicolor</td></tr>\n",
              "\t<tr><th scope=row>99</th><td>5.1</td><td>2.5</td><td>3.0</td><td>1.1</td><td>versicolor</td></tr>\n",
              "\t<tr><th scope=row>100</th><td>5.7</td><td>2.8</td><td>4.1</td><td>1.3</td><td>versicolor</td></tr>\n",
              "</tbody>\n",
              "</table>\n"
            ],
            "text/markdown": "\nA data.frame: 100 × 5\n\n| <!--/--> | Sepal.Length &lt;dbl&gt; | Sepal.Width &lt;dbl&gt; | Petal.Length &lt;dbl&gt; | Petal.Width &lt;dbl&gt; | Species &lt;fct&gt; |\n|---|---|---|---|---|---|\n| 1 | 5.1 | 3.5 | 1.4 | 0.2 | setosa |\n| 2 | 4.9 | 3.0 | 1.4 | 0.2 | setosa |\n| 3 | 4.7 | 3.2 | 1.3 | 0.2 | setosa |\n| 4 | 4.6 | 3.1 | 1.5 | 0.2 | setosa |\n| 5 | 5.0 | 3.6 | 1.4 | 0.2 | setosa |\n| 6 | 5.4 | 3.9 | 1.7 | 0.4 | setosa |\n| 7 | 4.6 | 3.4 | 1.4 | 0.3 | setosa |\n| 8 | 5.0 | 3.4 | 1.5 | 0.2 | setosa |\n| 9 | 4.4 | 2.9 | 1.4 | 0.2 | setosa |\n| 10 | 4.9 | 3.1 | 1.5 | 0.1 | setosa |\n| 11 | 5.4 | 3.7 | 1.5 | 0.2 | setosa |\n| 12 | 4.8 | 3.4 | 1.6 | 0.2 | setosa |\n| 13 | 4.8 | 3.0 | 1.4 | 0.1 | setosa |\n| 14 | 4.3 | 3.0 | 1.1 | 0.1 | setosa |\n| 15 | 5.8 | 4.0 | 1.2 | 0.2 | setosa |\n| 16 | 5.7 | 4.4 | 1.5 | 0.4 | setosa |\n| 17 | 5.4 | 3.9 | 1.3 | 0.4 | setosa |\n| 18 | 5.1 | 3.5 | 1.4 | 0.3 | setosa |\n| 19 | 5.7 | 3.8 | 1.7 | 0.3 | setosa |\n| 20 | 5.1 | 3.8 | 1.5 | 0.3 | setosa |\n| 21 | 5.4 | 3.4 | 1.7 | 0.2 | setosa |\n| 22 | 5.1 | 3.7 | 1.5 | 0.4 | setosa |\n| 23 | 4.6 | 3.6 | 1.0 | 0.2 | setosa |\n| 24 | 5.1 | 3.3 | 1.7 | 0.5 | setosa |\n| 25 | 4.8 | 3.4 | 1.9 | 0.2 | setosa |\n| 26 | 5.0 | 3.0 | 1.6 | 0.2 | setosa |\n| 27 | 5.0 | 3.4 | 1.6 | 0.4 | setosa |\n| 28 | 5.2 | 3.5 | 1.5 | 0.2 | setosa |\n| 29 | 5.2 | 3.4 | 1.4 | 0.2 | setosa |\n| 30 | 4.7 | 3.2 | 1.6 | 0.2 | setosa |\n| ⋮ | ⋮ | ⋮ | ⋮ | ⋮ | ⋮ |\n| 71 | 5.9 | 3.2 | 4.8 | 1.8 | versicolor |\n| 72 | 6.1 | 2.8 | 4.0 | 1.3 | versicolor |\n| 73 | 6.3 | 2.5 | 4.9 | 1.5 | versicolor |\n| 74 | 6.1 | 2.8 | 4.7 | 1.2 | versicolor |\n| 75 | 6.4 | 2.9 | 4.3 | 1.3 | versicolor |\n| 76 | 6.6 | 3.0 | 4.4 | 1.4 | versicolor |\n| 77 | 6.8 | 2.8 | 4.8 | 1.4 | versicolor |\n| 78 | 6.7 | 3.0 | 5.0 | 1.7 | versicolor |\n| 79 | 6.0 | 2.9 | 4.5 | 1.5 | versicolor |\n| 80 | 5.7 | 2.6 | 3.5 | 1.0 | versicolor |\n| 81 | 5.5 | 2.4 | 3.8 | 1.1 | versicolor |\n| 82 | 5.5 | 2.4 | 3.7 | 1.0 | versicolor |\n| 83 | 5.8 | 2.7 | 3.9 | 1.2 | versicolor |\n| 84 | 6.0 | 2.7 | 5.1 | 1.6 | versicolor |\n| 85 | 5.4 | 3.0 | 4.5 | 1.5 | versicolor |\n| 86 | 6.0 | 3.4 | 4.5 | 1.6 | versicolor |\n| 87 | 6.7 | 3.1 | 4.7 | 1.5 | versicolor |\n| 88 | 6.3 | 2.3 | 4.4 | 1.3 | versicolor |\n| 89 | 5.6 | 3.0 | 4.1 | 1.3 | versicolor |\n| 90 | 5.5 | 2.5 | 4.0 | 1.3 | versicolor |\n| 91 | 5.5 | 2.6 | 4.4 | 1.2 | versicolor |\n| 92 | 6.1 | 3.0 | 4.6 | 1.4 | versicolor |\n| 93 | 5.8 | 2.6 | 4.0 | 1.2 | versicolor |\n| 94 | 5.0 | 2.3 | 3.3 | 1.0 | versicolor |\n| 95 | 5.6 | 2.7 | 4.2 | 1.3 | versicolor |\n| 96 | 5.7 | 3.0 | 4.2 | 1.2 | versicolor |\n| 97 | 5.7 | 2.9 | 4.2 | 1.3 | versicolor |\n| 98 | 6.2 | 2.9 | 4.3 | 1.3 | versicolor |\n| 99 | 5.1 | 2.5 | 3.0 | 1.1 | versicolor |\n| 100 | 5.7 | 2.8 | 4.1 | 1.3 | versicolor |\n\n",
            "text/latex": "A data.frame: 100 × 5\n\\begin{tabular}{r|lllll}\n  & Sepal.Length & Sepal.Width & Petal.Length & Petal.Width & Species\\\\\n  & <dbl> & <dbl> & <dbl> & <dbl> & <fct>\\\\\n\\hline\n\t1 & 5.1 & 3.5 & 1.4 & 0.2 & setosa\\\\\n\t2 & 4.9 & 3.0 & 1.4 & 0.2 & setosa\\\\\n\t3 & 4.7 & 3.2 & 1.3 & 0.2 & setosa\\\\\n\t4 & 4.6 & 3.1 & 1.5 & 0.2 & setosa\\\\\n\t5 & 5.0 & 3.6 & 1.4 & 0.2 & setosa\\\\\n\t6 & 5.4 & 3.9 & 1.7 & 0.4 & setosa\\\\\n\t7 & 4.6 & 3.4 & 1.4 & 0.3 & setosa\\\\\n\t8 & 5.0 & 3.4 & 1.5 & 0.2 & setosa\\\\\n\t9 & 4.4 & 2.9 & 1.4 & 0.2 & setosa\\\\\n\t10 & 4.9 & 3.1 & 1.5 & 0.1 & setosa\\\\\n\t11 & 5.4 & 3.7 & 1.5 & 0.2 & setosa\\\\\n\t12 & 4.8 & 3.4 & 1.6 & 0.2 & setosa\\\\\n\t13 & 4.8 & 3.0 & 1.4 & 0.1 & setosa\\\\\n\t14 & 4.3 & 3.0 & 1.1 & 0.1 & setosa\\\\\n\t15 & 5.8 & 4.0 & 1.2 & 0.2 & setosa\\\\\n\t16 & 5.7 & 4.4 & 1.5 & 0.4 & setosa\\\\\n\t17 & 5.4 & 3.9 & 1.3 & 0.4 & setosa\\\\\n\t18 & 5.1 & 3.5 & 1.4 & 0.3 & setosa\\\\\n\t19 & 5.7 & 3.8 & 1.7 & 0.3 & setosa\\\\\n\t20 & 5.1 & 3.8 & 1.5 & 0.3 & setosa\\\\\n\t21 & 5.4 & 3.4 & 1.7 & 0.2 & setosa\\\\\n\t22 & 5.1 & 3.7 & 1.5 & 0.4 & setosa\\\\\n\t23 & 4.6 & 3.6 & 1.0 & 0.2 & setosa\\\\\n\t24 & 5.1 & 3.3 & 1.7 & 0.5 & setosa\\\\\n\t25 & 4.8 & 3.4 & 1.9 & 0.2 & setosa\\\\\n\t26 & 5.0 & 3.0 & 1.6 & 0.2 & setosa\\\\\n\t27 & 5.0 & 3.4 & 1.6 & 0.4 & setosa\\\\\n\t28 & 5.2 & 3.5 & 1.5 & 0.2 & setosa\\\\\n\t29 & 5.2 & 3.4 & 1.4 & 0.2 & setosa\\\\\n\t30 & 4.7 & 3.2 & 1.6 & 0.2 & setosa\\\\\n\t⋮ & ⋮ & ⋮ & ⋮ & ⋮ & ⋮\\\\\n\t71 & 5.9 & 3.2 & 4.8 & 1.8 & versicolor\\\\\n\t72 & 6.1 & 2.8 & 4.0 & 1.3 & versicolor\\\\\n\t73 & 6.3 & 2.5 & 4.9 & 1.5 & versicolor\\\\\n\t74 & 6.1 & 2.8 & 4.7 & 1.2 & versicolor\\\\\n\t75 & 6.4 & 2.9 & 4.3 & 1.3 & versicolor\\\\\n\t76 & 6.6 & 3.0 & 4.4 & 1.4 & versicolor\\\\\n\t77 & 6.8 & 2.8 & 4.8 & 1.4 & versicolor\\\\\n\t78 & 6.7 & 3.0 & 5.0 & 1.7 & versicolor\\\\\n\t79 & 6.0 & 2.9 & 4.5 & 1.5 & versicolor\\\\\n\t80 & 5.7 & 2.6 & 3.5 & 1.0 & versicolor\\\\\n\t81 & 5.5 & 2.4 & 3.8 & 1.1 & versicolor\\\\\n\t82 & 5.5 & 2.4 & 3.7 & 1.0 & versicolor\\\\\n\t83 & 5.8 & 2.7 & 3.9 & 1.2 & versicolor\\\\\n\t84 & 6.0 & 2.7 & 5.1 & 1.6 & versicolor\\\\\n\t85 & 5.4 & 3.0 & 4.5 & 1.5 & versicolor\\\\\n\t86 & 6.0 & 3.4 & 4.5 & 1.6 & versicolor\\\\\n\t87 & 6.7 & 3.1 & 4.7 & 1.5 & versicolor\\\\\n\t88 & 6.3 & 2.3 & 4.4 & 1.3 & versicolor\\\\\n\t89 & 5.6 & 3.0 & 4.1 & 1.3 & versicolor\\\\\n\t90 & 5.5 & 2.5 & 4.0 & 1.3 & versicolor\\\\\n\t91 & 5.5 & 2.6 & 4.4 & 1.2 & versicolor\\\\\n\t92 & 6.1 & 3.0 & 4.6 & 1.4 & versicolor\\\\\n\t93 & 5.8 & 2.6 & 4.0 & 1.2 & versicolor\\\\\n\t94 & 5.0 & 2.3 & 3.3 & 1.0 & versicolor\\\\\n\t95 & 5.6 & 2.7 & 4.2 & 1.3 & versicolor\\\\\n\t96 & 5.7 & 3.0 & 4.2 & 1.2 & versicolor\\\\\n\t97 & 5.7 & 2.9 & 4.2 & 1.3 & versicolor\\\\\n\t98 & 6.2 & 2.9 & 4.3 & 1.3 & versicolor\\\\\n\t99 & 5.1 & 2.5 & 3.0 & 1.1 & versicolor\\\\\n\t100 & 5.7 & 2.8 & 4.1 & 1.3 & versicolor\\\\\n\\end{tabular}\n",
            "text/plain": [
              "    Sepal.Length Sepal.Width Petal.Length Petal.Width Species   \n",
              "1   5.1          3.5         1.4          0.2         setosa    \n",
              "2   4.9          3.0         1.4          0.2         setosa    \n",
              "3   4.7          3.2         1.3          0.2         setosa    \n",
              "4   4.6          3.1         1.5          0.2         setosa    \n",
              "5   5.0          3.6         1.4          0.2         setosa    \n",
              "6   5.4          3.9         1.7          0.4         setosa    \n",
              "7   4.6          3.4         1.4          0.3         setosa    \n",
              "8   5.0          3.4         1.5          0.2         setosa    \n",
              "9   4.4          2.9         1.4          0.2         setosa    \n",
              "10  4.9          3.1         1.5          0.1         setosa    \n",
              "11  5.4          3.7         1.5          0.2         setosa    \n",
              "12  4.8          3.4         1.6          0.2         setosa    \n",
              "13  4.8          3.0         1.4          0.1         setosa    \n",
              "14  4.3          3.0         1.1          0.1         setosa    \n",
              "15  5.8          4.0         1.2          0.2         setosa    \n",
              "16  5.7          4.4         1.5          0.4         setosa    \n",
              "17  5.4          3.9         1.3          0.4         setosa    \n",
              "18  5.1          3.5         1.4          0.3         setosa    \n",
              "19  5.7          3.8         1.7          0.3         setosa    \n",
              "20  5.1          3.8         1.5          0.3         setosa    \n",
              "21  5.4          3.4         1.7          0.2         setosa    \n",
              "22  5.1          3.7         1.5          0.4         setosa    \n",
              "23  4.6          3.6         1.0          0.2         setosa    \n",
              "24  5.1          3.3         1.7          0.5         setosa    \n",
              "25  4.8          3.4         1.9          0.2         setosa    \n",
              "26  5.0          3.0         1.6          0.2         setosa    \n",
              "27  5.0          3.4         1.6          0.4         setosa    \n",
              "28  5.2          3.5         1.5          0.2         setosa    \n",
              "29  5.2          3.4         1.4          0.2         setosa    \n",
              "30  4.7          3.2         1.6          0.2         setosa    \n",
              "⋮   ⋮            ⋮           ⋮            ⋮           ⋮         \n",
              "71  5.9          3.2         4.8          1.8         versicolor\n",
              "72  6.1          2.8         4.0          1.3         versicolor\n",
              "73  6.3          2.5         4.9          1.5         versicolor\n",
              "74  6.1          2.8         4.7          1.2         versicolor\n",
              "75  6.4          2.9         4.3          1.3         versicolor\n",
              "76  6.6          3.0         4.4          1.4         versicolor\n",
              "77  6.8          2.8         4.8          1.4         versicolor\n",
              "78  6.7          3.0         5.0          1.7         versicolor\n",
              "79  6.0          2.9         4.5          1.5         versicolor\n",
              "80  5.7          2.6         3.5          1.0         versicolor\n",
              "81  5.5          2.4         3.8          1.1         versicolor\n",
              "82  5.5          2.4         3.7          1.0         versicolor\n",
              "83  5.8          2.7         3.9          1.2         versicolor\n",
              "84  6.0          2.7         5.1          1.6         versicolor\n",
              "85  5.4          3.0         4.5          1.5         versicolor\n",
              "86  6.0          3.4         4.5          1.6         versicolor\n",
              "87  6.7          3.1         4.7          1.5         versicolor\n",
              "88  6.3          2.3         4.4          1.3         versicolor\n",
              "89  5.6          3.0         4.1          1.3         versicolor\n",
              "90  5.5          2.5         4.0          1.3         versicolor\n",
              "91  5.5          2.6         4.4          1.2         versicolor\n",
              "92  6.1          3.0         4.6          1.4         versicolor\n",
              "93  5.8          2.6         4.0          1.2         versicolor\n",
              "94  5.0          2.3         3.3          1.0         versicolor\n",
              "95  5.6          2.7         4.2          1.3         versicolor\n",
              "96  5.7          3.0         4.2          1.2         versicolor\n",
              "97  5.7          2.9         4.2          1.3         versicolor\n",
              "98  6.2          2.9         4.3          1.3         versicolor\n",
              "99  5.1          2.5         3.0          1.1         versicolor\n",
              "100 5.7          2.8         4.1          1.3         versicolor"
            ]
          },
          "metadata": {}
        }
      ]
    },
    {
      "cell_type": "markdown",
      "source": [
        "Seleccionar filas donde no se cumpla lo siguiente el Petal.Width sea mayor que 0.5 y además que el Petal.Width sea menor que 1.5."
      ],
      "metadata": {
        "id": "M_ME4K3LGzY4"
      }
    },
    {
      "cell_type": "code",
      "source": [
        "iris[! ( iris$Petal.Width > 0.5 & iris$Petal.Width < 1.5 ), ]"
      ],
      "metadata": {
        "colab": {
          "base_uri": "https://localhost:8080/",
          "height": 1000
        },
        "id": "gETGwuQPIfig",
        "outputId": "77c14bf8-2800-4abb-99d5-6d3f024f57e2"
      },
      "execution_count": null,
      "outputs": [
        {
          "output_type": "display_data",
          "data": {
            "text/html": [
              "<table class=\"dataframe\">\n",
              "<caption>A data.frame: 113 × 5</caption>\n",
              "<thead>\n",
              "\t<tr><th></th><th scope=col>Sepal.Length</th><th scope=col>Sepal.Width</th><th scope=col>Petal.Length</th><th scope=col>Petal.Width</th><th scope=col>Species</th></tr>\n",
              "\t<tr><th></th><th scope=col>&lt;dbl&gt;</th><th scope=col>&lt;dbl&gt;</th><th scope=col>&lt;dbl&gt;</th><th scope=col>&lt;dbl&gt;</th><th scope=col>&lt;fct&gt;</th></tr>\n",
              "</thead>\n",
              "<tbody>\n",
              "\t<tr><th scope=row>1</th><td>5.1</td><td>3.5</td><td>1.4</td><td>0.2</td><td>setosa</td></tr>\n",
              "\t<tr><th scope=row>2</th><td>4.9</td><td>3.0</td><td>1.4</td><td>0.2</td><td>setosa</td></tr>\n",
              "\t<tr><th scope=row>3</th><td>4.7</td><td>3.2</td><td>1.3</td><td>0.2</td><td>setosa</td></tr>\n",
              "\t<tr><th scope=row>4</th><td>4.6</td><td>3.1</td><td>1.5</td><td>0.2</td><td>setosa</td></tr>\n",
              "\t<tr><th scope=row>5</th><td>5.0</td><td>3.6</td><td>1.4</td><td>0.2</td><td>setosa</td></tr>\n",
              "\t<tr><th scope=row>6</th><td>5.4</td><td>3.9</td><td>1.7</td><td>0.4</td><td>setosa</td></tr>\n",
              "\t<tr><th scope=row>7</th><td>4.6</td><td>3.4</td><td>1.4</td><td>0.3</td><td>setosa</td></tr>\n",
              "\t<tr><th scope=row>8</th><td>5.0</td><td>3.4</td><td>1.5</td><td>0.2</td><td>setosa</td></tr>\n",
              "\t<tr><th scope=row>9</th><td>4.4</td><td>2.9</td><td>1.4</td><td>0.2</td><td>setosa</td></tr>\n",
              "\t<tr><th scope=row>10</th><td>4.9</td><td>3.1</td><td>1.5</td><td>0.1</td><td>setosa</td></tr>\n",
              "\t<tr><th scope=row>11</th><td>5.4</td><td>3.7</td><td>1.5</td><td>0.2</td><td>setosa</td></tr>\n",
              "\t<tr><th scope=row>12</th><td>4.8</td><td>3.4</td><td>1.6</td><td>0.2</td><td>setosa</td></tr>\n",
              "\t<tr><th scope=row>13</th><td>4.8</td><td>3.0</td><td>1.4</td><td>0.1</td><td>setosa</td></tr>\n",
              "\t<tr><th scope=row>14</th><td>4.3</td><td>3.0</td><td>1.1</td><td>0.1</td><td>setosa</td></tr>\n",
              "\t<tr><th scope=row>15</th><td>5.8</td><td>4.0</td><td>1.2</td><td>0.2</td><td>setosa</td></tr>\n",
              "\t<tr><th scope=row>16</th><td>5.7</td><td>4.4</td><td>1.5</td><td>0.4</td><td>setosa</td></tr>\n",
              "\t<tr><th scope=row>17</th><td>5.4</td><td>3.9</td><td>1.3</td><td>0.4</td><td>setosa</td></tr>\n",
              "\t<tr><th scope=row>18</th><td>5.1</td><td>3.5</td><td>1.4</td><td>0.3</td><td>setosa</td></tr>\n",
              "\t<tr><th scope=row>19</th><td>5.7</td><td>3.8</td><td>1.7</td><td>0.3</td><td>setosa</td></tr>\n",
              "\t<tr><th scope=row>20</th><td>5.1</td><td>3.8</td><td>1.5</td><td>0.3</td><td>setosa</td></tr>\n",
              "\t<tr><th scope=row>21</th><td>5.4</td><td>3.4</td><td>1.7</td><td>0.2</td><td>setosa</td></tr>\n",
              "\t<tr><th scope=row>22</th><td>5.1</td><td>3.7</td><td>1.5</td><td>0.4</td><td>setosa</td></tr>\n",
              "\t<tr><th scope=row>23</th><td>4.6</td><td>3.6</td><td>1.0</td><td>0.2</td><td>setosa</td></tr>\n",
              "\t<tr><th scope=row>24</th><td>5.1</td><td>3.3</td><td>1.7</td><td>0.5</td><td>setosa</td></tr>\n",
              "\t<tr><th scope=row>25</th><td>4.8</td><td>3.4</td><td>1.9</td><td>0.2</td><td>setosa</td></tr>\n",
              "\t<tr><th scope=row>26</th><td>5.0</td><td>3.0</td><td>1.6</td><td>0.2</td><td>setosa</td></tr>\n",
              "\t<tr><th scope=row>27</th><td>5.0</td><td>3.4</td><td>1.6</td><td>0.4</td><td>setosa</td></tr>\n",
              "\t<tr><th scope=row>28</th><td>5.2</td><td>3.5</td><td>1.5</td><td>0.2</td><td>setosa</td></tr>\n",
              "\t<tr><th scope=row>29</th><td>5.2</td><td>3.4</td><td>1.4</td><td>0.2</td><td>setosa</td></tr>\n",
              "\t<tr><th scope=row>30</th><td>4.7</td><td>3.2</td><td>1.6</td><td>0.2</td><td>setosa</td></tr>\n",
              "\t<tr><th scope=row>⋮</th><td>⋮</td><td>⋮</td><td>⋮</td><td>⋮</td><td>⋮</td></tr>\n",
              "\t<tr><th scope=row>120</th><td>6.0</td><td>2.2</td><td>5.0</td><td>1.5</td><td>virginica</td></tr>\n",
              "\t<tr><th scope=row>121</th><td>6.9</td><td>3.2</td><td>5.7</td><td>2.3</td><td>virginica</td></tr>\n",
              "\t<tr><th scope=row>122</th><td>5.6</td><td>2.8</td><td>4.9</td><td>2.0</td><td>virginica</td></tr>\n",
              "\t<tr><th scope=row>123</th><td>7.7</td><td>2.8</td><td>6.7</td><td>2.0</td><td>virginica</td></tr>\n",
              "\t<tr><th scope=row>124</th><td>6.3</td><td>2.7</td><td>4.9</td><td>1.8</td><td>virginica</td></tr>\n",
              "\t<tr><th scope=row>125</th><td>6.7</td><td>3.3</td><td>5.7</td><td>2.1</td><td>virginica</td></tr>\n",
              "\t<tr><th scope=row>126</th><td>7.2</td><td>3.2</td><td>6.0</td><td>1.8</td><td>virginica</td></tr>\n",
              "\t<tr><th scope=row>127</th><td>6.2</td><td>2.8</td><td>4.8</td><td>1.8</td><td>virginica</td></tr>\n",
              "\t<tr><th scope=row>128</th><td>6.1</td><td>3.0</td><td>4.9</td><td>1.8</td><td>virginica</td></tr>\n",
              "\t<tr><th scope=row>129</th><td>6.4</td><td>2.8</td><td>5.6</td><td>2.1</td><td>virginica</td></tr>\n",
              "\t<tr><th scope=row>130</th><td>7.2</td><td>3.0</td><td>5.8</td><td>1.6</td><td>virginica</td></tr>\n",
              "\t<tr><th scope=row>131</th><td>7.4</td><td>2.8</td><td>6.1</td><td>1.9</td><td>virginica</td></tr>\n",
              "\t<tr><th scope=row>132</th><td>7.9</td><td>3.8</td><td>6.4</td><td>2.0</td><td>virginica</td></tr>\n",
              "\t<tr><th scope=row>133</th><td>6.4</td><td>2.8</td><td>5.6</td><td>2.2</td><td>virginica</td></tr>\n",
              "\t<tr><th scope=row>134</th><td>6.3</td><td>2.8</td><td>5.1</td><td>1.5</td><td>virginica</td></tr>\n",
              "\t<tr><th scope=row>136</th><td>7.7</td><td>3.0</td><td>6.1</td><td>2.3</td><td>virginica</td></tr>\n",
              "\t<tr><th scope=row>137</th><td>6.3</td><td>3.4</td><td>5.6</td><td>2.4</td><td>virginica</td></tr>\n",
              "\t<tr><th scope=row>138</th><td>6.4</td><td>3.1</td><td>5.5</td><td>1.8</td><td>virginica</td></tr>\n",
              "\t<tr><th scope=row>139</th><td>6.0</td><td>3.0</td><td>4.8</td><td>1.8</td><td>virginica</td></tr>\n",
              "\t<tr><th scope=row>140</th><td>6.9</td><td>3.1</td><td>5.4</td><td>2.1</td><td>virginica</td></tr>\n",
              "\t<tr><th scope=row>141</th><td>6.7</td><td>3.1</td><td>5.6</td><td>2.4</td><td>virginica</td></tr>\n",
              "\t<tr><th scope=row>142</th><td>6.9</td><td>3.1</td><td>5.1</td><td>2.3</td><td>virginica</td></tr>\n",
              "\t<tr><th scope=row>143</th><td>5.8</td><td>2.7</td><td>5.1</td><td>1.9</td><td>virginica</td></tr>\n",
              "\t<tr><th scope=row>144</th><td>6.8</td><td>3.2</td><td>5.9</td><td>2.3</td><td>virginica</td></tr>\n",
              "\t<tr><th scope=row>145</th><td>6.7</td><td>3.3</td><td>5.7</td><td>2.5</td><td>virginica</td></tr>\n",
              "\t<tr><th scope=row>146</th><td>6.7</td><td>3.0</td><td>5.2</td><td>2.3</td><td>virginica</td></tr>\n",
              "\t<tr><th scope=row>147</th><td>6.3</td><td>2.5</td><td>5.0</td><td>1.9</td><td>virginica</td></tr>\n",
              "\t<tr><th scope=row>148</th><td>6.5</td><td>3.0</td><td>5.2</td><td>2.0</td><td>virginica</td></tr>\n",
              "\t<tr><th scope=row>149</th><td>6.2</td><td>3.4</td><td>5.4</td><td>2.3</td><td>virginica</td></tr>\n",
              "\t<tr><th scope=row>150</th><td>5.9</td><td>3.0</td><td>5.1</td><td>1.8</td><td>virginica</td></tr>\n",
              "</tbody>\n",
              "</table>\n"
            ],
            "text/markdown": "\nA data.frame: 113 × 5\n\n| <!--/--> | Sepal.Length &lt;dbl&gt; | Sepal.Width &lt;dbl&gt; | Petal.Length &lt;dbl&gt; | Petal.Width &lt;dbl&gt; | Species &lt;fct&gt; |\n|---|---|---|---|---|---|\n| 1 | 5.1 | 3.5 | 1.4 | 0.2 | setosa |\n| 2 | 4.9 | 3.0 | 1.4 | 0.2 | setosa |\n| 3 | 4.7 | 3.2 | 1.3 | 0.2 | setosa |\n| 4 | 4.6 | 3.1 | 1.5 | 0.2 | setosa |\n| 5 | 5.0 | 3.6 | 1.4 | 0.2 | setosa |\n| 6 | 5.4 | 3.9 | 1.7 | 0.4 | setosa |\n| 7 | 4.6 | 3.4 | 1.4 | 0.3 | setosa |\n| 8 | 5.0 | 3.4 | 1.5 | 0.2 | setosa |\n| 9 | 4.4 | 2.9 | 1.4 | 0.2 | setosa |\n| 10 | 4.9 | 3.1 | 1.5 | 0.1 | setosa |\n| 11 | 5.4 | 3.7 | 1.5 | 0.2 | setosa |\n| 12 | 4.8 | 3.4 | 1.6 | 0.2 | setosa |\n| 13 | 4.8 | 3.0 | 1.4 | 0.1 | setosa |\n| 14 | 4.3 | 3.0 | 1.1 | 0.1 | setosa |\n| 15 | 5.8 | 4.0 | 1.2 | 0.2 | setosa |\n| 16 | 5.7 | 4.4 | 1.5 | 0.4 | setosa |\n| 17 | 5.4 | 3.9 | 1.3 | 0.4 | setosa |\n| 18 | 5.1 | 3.5 | 1.4 | 0.3 | setosa |\n| 19 | 5.7 | 3.8 | 1.7 | 0.3 | setosa |\n| 20 | 5.1 | 3.8 | 1.5 | 0.3 | setosa |\n| 21 | 5.4 | 3.4 | 1.7 | 0.2 | setosa |\n| 22 | 5.1 | 3.7 | 1.5 | 0.4 | setosa |\n| 23 | 4.6 | 3.6 | 1.0 | 0.2 | setosa |\n| 24 | 5.1 | 3.3 | 1.7 | 0.5 | setosa |\n| 25 | 4.8 | 3.4 | 1.9 | 0.2 | setosa |\n| 26 | 5.0 | 3.0 | 1.6 | 0.2 | setosa |\n| 27 | 5.0 | 3.4 | 1.6 | 0.4 | setosa |\n| 28 | 5.2 | 3.5 | 1.5 | 0.2 | setosa |\n| 29 | 5.2 | 3.4 | 1.4 | 0.2 | setosa |\n| 30 | 4.7 | 3.2 | 1.6 | 0.2 | setosa |\n| ⋮ | ⋮ | ⋮ | ⋮ | ⋮ | ⋮ |\n| 120 | 6.0 | 2.2 | 5.0 | 1.5 | virginica |\n| 121 | 6.9 | 3.2 | 5.7 | 2.3 | virginica |\n| 122 | 5.6 | 2.8 | 4.9 | 2.0 | virginica |\n| 123 | 7.7 | 2.8 | 6.7 | 2.0 | virginica |\n| 124 | 6.3 | 2.7 | 4.9 | 1.8 | virginica |\n| 125 | 6.7 | 3.3 | 5.7 | 2.1 | virginica |\n| 126 | 7.2 | 3.2 | 6.0 | 1.8 | virginica |\n| 127 | 6.2 | 2.8 | 4.8 | 1.8 | virginica |\n| 128 | 6.1 | 3.0 | 4.9 | 1.8 | virginica |\n| 129 | 6.4 | 2.8 | 5.6 | 2.1 | virginica |\n| 130 | 7.2 | 3.0 | 5.8 | 1.6 | virginica |\n| 131 | 7.4 | 2.8 | 6.1 | 1.9 | virginica |\n| 132 | 7.9 | 3.8 | 6.4 | 2.0 | virginica |\n| 133 | 6.4 | 2.8 | 5.6 | 2.2 | virginica |\n| 134 | 6.3 | 2.8 | 5.1 | 1.5 | virginica |\n| 136 | 7.7 | 3.0 | 6.1 | 2.3 | virginica |\n| 137 | 6.3 | 3.4 | 5.6 | 2.4 | virginica |\n| 138 | 6.4 | 3.1 | 5.5 | 1.8 | virginica |\n| 139 | 6.0 | 3.0 | 4.8 | 1.8 | virginica |\n| 140 | 6.9 | 3.1 | 5.4 | 2.1 | virginica |\n| 141 | 6.7 | 3.1 | 5.6 | 2.4 | virginica |\n| 142 | 6.9 | 3.1 | 5.1 | 2.3 | virginica |\n| 143 | 5.8 | 2.7 | 5.1 | 1.9 | virginica |\n| 144 | 6.8 | 3.2 | 5.9 | 2.3 | virginica |\n| 145 | 6.7 | 3.3 | 5.7 | 2.5 | virginica |\n| 146 | 6.7 | 3.0 | 5.2 | 2.3 | virginica |\n| 147 | 6.3 | 2.5 | 5.0 | 1.9 | virginica |\n| 148 | 6.5 | 3.0 | 5.2 | 2.0 | virginica |\n| 149 | 6.2 | 3.4 | 5.4 | 2.3 | virginica |\n| 150 | 5.9 | 3.0 | 5.1 | 1.8 | virginica |\n\n",
            "text/latex": "A data.frame: 113 × 5\n\\begin{tabular}{r|lllll}\n  & Sepal.Length & Sepal.Width & Petal.Length & Petal.Width & Species\\\\\n  & <dbl> & <dbl> & <dbl> & <dbl> & <fct>\\\\\n\\hline\n\t1 & 5.1 & 3.5 & 1.4 & 0.2 & setosa\\\\\n\t2 & 4.9 & 3.0 & 1.4 & 0.2 & setosa\\\\\n\t3 & 4.7 & 3.2 & 1.3 & 0.2 & setosa\\\\\n\t4 & 4.6 & 3.1 & 1.5 & 0.2 & setosa\\\\\n\t5 & 5.0 & 3.6 & 1.4 & 0.2 & setosa\\\\\n\t6 & 5.4 & 3.9 & 1.7 & 0.4 & setosa\\\\\n\t7 & 4.6 & 3.4 & 1.4 & 0.3 & setosa\\\\\n\t8 & 5.0 & 3.4 & 1.5 & 0.2 & setosa\\\\\n\t9 & 4.4 & 2.9 & 1.4 & 0.2 & setosa\\\\\n\t10 & 4.9 & 3.1 & 1.5 & 0.1 & setosa\\\\\n\t11 & 5.4 & 3.7 & 1.5 & 0.2 & setosa\\\\\n\t12 & 4.8 & 3.4 & 1.6 & 0.2 & setosa\\\\\n\t13 & 4.8 & 3.0 & 1.4 & 0.1 & setosa\\\\\n\t14 & 4.3 & 3.0 & 1.1 & 0.1 & setosa\\\\\n\t15 & 5.8 & 4.0 & 1.2 & 0.2 & setosa\\\\\n\t16 & 5.7 & 4.4 & 1.5 & 0.4 & setosa\\\\\n\t17 & 5.4 & 3.9 & 1.3 & 0.4 & setosa\\\\\n\t18 & 5.1 & 3.5 & 1.4 & 0.3 & setosa\\\\\n\t19 & 5.7 & 3.8 & 1.7 & 0.3 & setosa\\\\\n\t20 & 5.1 & 3.8 & 1.5 & 0.3 & setosa\\\\\n\t21 & 5.4 & 3.4 & 1.7 & 0.2 & setosa\\\\\n\t22 & 5.1 & 3.7 & 1.5 & 0.4 & setosa\\\\\n\t23 & 4.6 & 3.6 & 1.0 & 0.2 & setosa\\\\\n\t24 & 5.1 & 3.3 & 1.7 & 0.5 & setosa\\\\\n\t25 & 4.8 & 3.4 & 1.9 & 0.2 & setosa\\\\\n\t26 & 5.0 & 3.0 & 1.6 & 0.2 & setosa\\\\\n\t27 & 5.0 & 3.4 & 1.6 & 0.4 & setosa\\\\\n\t28 & 5.2 & 3.5 & 1.5 & 0.2 & setosa\\\\\n\t29 & 5.2 & 3.4 & 1.4 & 0.2 & setosa\\\\\n\t30 & 4.7 & 3.2 & 1.6 & 0.2 & setosa\\\\\n\t⋮ & ⋮ & ⋮ & ⋮ & ⋮ & ⋮\\\\\n\t120 & 6.0 & 2.2 & 5.0 & 1.5 & virginica\\\\\n\t121 & 6.9 & 3.2 & 5.7 & 2.3 & virginica\\\\\n\t122 & 5.6 & 2.8 & 4.9 & 2.0 & virginica\\\\\n\t123 & 7.7 & 2.8 & 6.7 & 2.0 & virginica\\\\\n\t124 & 6.3 & 2.7 & 4.9 & 1.8 & virginica\\\\\n\t125 & 6.7 & 3.3 & 5.7 & 2.1 & virginica\\\\\n\t126 & 7.2 & 3.2 & 6.0 & 1.8 & virginica\\\\\n\t127 & 6.2 & 2.8 & 4.8 & 1.8 & virginica\\\\\n\t128 & 6.1 & 3.0 & 4.9 & 1.8 & virginica\\\\\n\t129 & 6.4 & 2.8 & 5.6 & 2.1 & virginica\\\\\n\t130 & 7.2 & 3.0 & 5.8 & 1.6 & virginica\\\\\n\t131 & 7.4 & 2.8 & 6.1 & 1.9 & virginica\\\\\n\t132 & 7.9 & 3.8 & 6.4 & 2.0 & virginica\\\\\n\t133 & 6.4 & 2.8 & 5.6 & 2.2 & virginica\\\\\n\t134 & 6.3 & 2.8 & 5.1 & 1.5 & virginica\\\\\n\t136 & 7.7 & 3.0 & 6.1 & 2.3 & virginica\\\\\n\t137 & 6.3 & 3.4 & 5.6 & 2.4 & virginica\\\\\n\t138 & 6.4 & 3.1 & 5.5 & 1.8 & virginica\\\\\n\t139 & 6.0 & 3.0 & 4.8 & 1.8 & virginica\\\\\n\t140 & 6.9 & 3.1 & 5.4 & 2.1 & virginica\\\\\n\t141 & 6.7 & 3.1 & 5.6 & 2.4 & virginica\\\\\n\t142 & 6.9 & 3.1 & 5.1 & 2.3 & virginica\\\\\n\t143 & 5.8 & 2.7 & 5.1 & 1.9 & virginica\\\\\n\t144 & 6.8 & 3.2 & 5.9 & 2.3 & virginica\\\\\n\t145 & 6.7 & 3.3 & 5.7 & 2.5 & virginica\\\\\n\t146 & 6.7 & 3.0 & 5.2 & 2.3 & virginica\\\\\n\t147 & 6.3 & 2.5 & 5.0 & 1.9 & virginica\\\\\n\t148 & 6.5 & 3.0 & 5.2 & 2.0 & virginica\\\\\n\t149 & 6.2 & 3.4 & 5.4 & 2.3 & virginica\\\\\n\t150 & 5.9 & 3.0 & 5.1 & 1.8 & virginica\\\\\n\\end{tabular}\n",
            "text/plain": [
              "    Sepal.Length Sepal.Width Petal.Length Petal.Width Species  \n",
              "1   5.1          3.5         1.4          0.2         setosa   \n",
              "2   4.9          3.0         1.4          0.2         setosa   \n",
              "3   4.7          3.2         1.3          0.2         setosa   \n",
              "4   4.6          3.1         1.5          0.2         setosa   \n",
              "5   5.0          3.6         1.4          0.2         setosa   \n",
              "6   5.4          3.9         1.7          0.4         setosa   \n",
              "7   4.6          3.4         1.4          0.3         setosa   \n",
              "8   5.0          3.4         1.5          0.2         setosa   \n",
              "9   4.4          2.9         1.4          0.2         setosa   \n",
              "10  4.9          3.1         1.5          0.1         setosa   \n",
              "11  5.4          3.7         1.5          0.2         setosa   \n",
              "12  4.8          3.4         1.6          0.2         setosa   \n",
              "13  4.8          3.0         1.4          0.1         setosa   \n",
              "14  4.3          3.0         1.1          0.1         setosa   \n",
              "15  5.8          4.0         1.2          0.2         setosa   \n",
              "16  5.7          4.4         1.5          0.4         setosa   \n",
              "17  5.4          3.9         1.3          0.4         setosa   \n",
              "18  5.1          3.5         1.4          0.3         setosa   \n",
              "19  5.7          3.8         1.7          0.3         setosa   \n",
              "20  5.1          3.8         1.5          0.3         setosa   \n",
              "21  5.4          3.4         1.7          0.2         setosa   \n",
              "22  5.1          3.7         1.5          0.4         setosa   \n",
              "23  4.6          3.6         1.0          0.2         setosa   \n",
              "24  5.1          3.3         1.7          0.5         setosa   \n",
              "25  4.8          3.4         1.9          0.2         setosa   \n",
              "26  5.0          3.0         1.6          0.2         setosa   \n",
              "27  5.0          3.4         1.6          0.4         setosa   \n",
              "28  5.2          3.5         1.5          0.2         setosa   \n",
              "29  5.2          3.4         1.4          0.2         setosa   \n",
              "30  4.7          3.2         1.6          0.2         setosa   \n",
              "⋮   ⋮            ⋮           ⋮            ⋮           ⋮        \n",
              "120 6.0          2.2         5.0          1.5         virginica\n",
              "121 6.9          3.2         5.7          2.3         virginica\n",
              "122 5.6          2.8         4.9          2.0         virginica\n",
              "123 7.7          2.8         6.7          2.0         virginica\n",
              "124 6.3          2.7         4.9          1.8         virginica\n",
              "125 6.7          3.3         5.7          2.1         virginica\n",
              "126 7.2          3.2         6.0          1.8         virginica\n",
              "127 6.2          2.8         4.8          1.8         virginica\n",
              "128 6.1          3.0         4.9          1.8         virginica\n",
              "129 6.4          2.8         5.6          2.1         virginica\n",
              "130 7.2          3.0         5.8          1.6         virginica\n",
              "131 7.4          2.8         6.1          1.9         virginica\n",
              "132 7.9          3.8         6.4          2.0         virginica\n",
              "133 6.4          2.8         5.6          2.2         virginica\n",
              "134 6.3          2.8         5.1          1.5         virginica\n",
              "136 7.7          3.0         6.1          2.3         virginica\n",
              "137 6.3          3.4         5.6          2.4         virginica\n",
              "138 6.4          3.1         5.5          1.8         virginica\n",
              "139 6.0          3.0         4.8          1.8         virginica\n",
              "140 6.9          3.1         5.4          2.1         virginica\n",
              "141 6.7          3.1         5.6          2.4         virginica\n",
              "142 6.9          3.1         5.1          2.3         virginica\n",
              "143 5.8          2.7         5.1          1.9         virginica\n",
              "144 6.8          3.2         5.9          2.3         virginica\n",
              "145 6.7          3.3         5.7          2.5         virginica\n",
              "146 6.7          3.0         5.2          2.3         virginica\n",
              "147 6.3          2.5         5.0          1.9         virginica\n",
              "148 6.5          3.0         5.2          2.0         virginica\n",
              "149 6.2          3.4         5.4          2.3         virginica\n",
              "150 5.9          3.0         5.1          1.8         virginica"
            ]
          },
          "metadata": {}
        }
      ]
    },
    {
      "cell_type": "markdown",
      "source": [
        "Seleccionar filas donde la especie sea virginica y se cumpla lo siguiente Petal.Length es mayor que 5.0 o Petal.Width es menor que 1.5."
      ],
      "metadata": {
        "id": "DmIpKLb0JraC"
      }
    },
    {
      "cell_type": "code",
      "source": [
        "ind <- iris$Species == \"virginica\" & ( iris$Petal.Length > 5.0 | iris$Petal.Width < 1.5 )\n",
        "iris[ind, ]"
      ],
      "metadata": {
        "colab": {
          "base_uri": "https://localhost:8080/",
          "height": 1000
        },
        "id": "jwV-RKIdJtyR",
        "outputId": "dd58c5e3-d9fa-42be-8be6-8683f8fd15c1"
      },
      "execution_count": null,
      "outputs": [
        {
          "output_type": "display_data",
          "data": {
            "text/html": [
              "<table class=\"dataframe\">\n",
              "<caption>A data.frame: 41 × 5</caption>\n",
              "<thead>\n",
              "\t<tr><th></th><th scope=col>Sepal.Length</th><th scope=col>Sepal.Width</th><th scope=col>Petal.Length</th><th scope=col>Petal.Width</th><th scope=col>Species</th></tr>\n",
              "\t<tr><th></th><th scope=col>&lt;dbl&gt;</th><th scope=col>&lt;dbl&gt;</th><th scope=col>&lt;dbl&gt;</th><th scope=col>&lt;dbl&gt;</th><th scope=col>&lt;fct&gt;</th></tr>\n",
              "</thead>\n",
              "<tbody>\n",
              "\t<tr><th scope=row>101</th><td>6.3</td><td>3.3</td><td>6.0</td><td>2.5</td><td>virginica</td></tr>\n",
              "\t<tr><th scope=row>102</th><td>5.8</td><td>2.7</td><td>5.1</td><td>1.9</td><td>virginica</td></tr>\n",
              "\t<tr><th scope=row>103</th><td>7.1</td><td>3.0</td><td>5.9</td><td>2.1</td><td>virginica</td></tr>\n",
              "\t<tr><th scope=row>104</th><td>6.3</td><td>2.9</td><td>5.6</td><td>1.8</td><td>virginica</td></tr>\n",
              "\t<tr><th scope=row>105</th><td>6.5</td><td>3.0</td><td>5.8</td><td>2.2</td><td>virginica</td></tr>\n",
              "\t<tr><th scope=row>106</th><td>7.6</td><td>3.0</td><td>6.6</td><td>2.1</td><td>virginica</td></tr>\n",
              "\t<tr><th scope=row>108</th><td>7.3</td><td>2.9</td><td>6.3</td><td>1.8</td><td>virginica</td></tr>\n",
              "\t<tr><th scope=row>109</th><td>6.7</td><td>2.5</td><td>5.8</td><td>1.8</td><td>virginica</td></tr>\n",
              "\t<tr><th scope=row>110</th><td>7.2</td><td>3.6</td><td>6.1</td><td>2.5</td><td>virginica</td></tr>\n",
              "\t<tr><th scope=row>111</th><td>6.5</td><td>3.2</td><td>5.1</td><td>2.0</td><td>virginica</td></tr>\n",
              "\t<tr><th scope=row>112</th><td>6.4</td><td>2.7</td><td>5.3</td><td>1.9</td><td>virginica</td></tr>\n",
              "\t<tr><th scope=row>113</th><td>6.8</td><td>3.0</td><td>5.5</td><td>2.1</td><td>virginica</td></tr>\n",
              "\t<tr><th scope=row>115</th><td>5.8</td><td>2.8</td><td>5.1</td><td>2.4</td><td>virginica</td></tr>\n",
              "\t<tr><th scope=row>116</th><td>6.4</td><td>3.2</td><td>5.3</td><td>2.3</td><td>virginica</td></tr>\n",
              "\t<tr><th scope=row>117</th><td>6.5</td><td>3.0</td><td>5.5</td><td>1.8</td><td>virginica</td></tr>\n",
              "\t<tr><th scope=row>118</th><td>7.7</td><td>3.8</td><td>6.7</td><td>2.2</td><td>virginica</td></tr>\n",
              "\t<tr><th scope=row>119</th><td>7.7</td><td>2.6</td><td>6.9</td><td>2.3</td><td>virginica</td></tr>\n",
              "\t<tr><th scope=row>121</th><td>6.9</td><td>3.2</td><td>5.7</td><td>2.3</td><td>virginica</td></tr>\n",
              "\t<tr><th scope=row>123</th><td>7.7</td><td>2.8</td><td>6.7</td><td>2.0</td><td>virginica</td></tr>\n",
              "\t<tr><th scope=row>125</th><td>6.7</td><td>3.3</td><td>5.7</td><td>2.1</td><td>virginica</td></tr>\n",
              "\t<tr><th scope=row>126</th><td>7.2</td><td>3.2</td><td>6.0</td><td>1.8</td><td>virginica</td></tr>\n",
              "\t<tr><th scope=row>129</th><td>6.4</td><td>2.8</td><td>5.6</td><td>2.1</td><td>virginica</td></tr>\n",
              "\t<tr><th scope=row>130</th><td>7.2</td><td>3.0</td><td>5.8</td><td>1.6</td><td>virginica</td></tr>\n",
              "\t<tr><th scope=row>131</th><td>7.4</td><td>2.8</td><td>6.1</td><td>1.9</td><td>virginica</td></tr>\n",
              "\t<tr><th scope=row>132</th><td>7.9</td><td>3.8</td><td>6.4</td><td>2.0</td><td>virginica</td></tr>\n",
              "\t<tr><th scope=row>133</th><td>6.4</td><td>2.8</td><td>5.6</td><td>2.2</td><td>virginica</td></tr>\n",
              "\t<tr><th scope=row>134</th><td>6.3</td><td>2.8</td><td>5.1</td><td>1.5</td><td>virginica</td></tr>\n",
              "\t<tr><th scope=row>135</th><td>6.1</td><td>2.6</td><td>5.6</td><td>1.4</td><td>virginica</td></tr>\n",
              "\t<tr><th scope=row>136</th><td>7.7</td><td>3.0</td><td>6.1</td><td>2.3</td><td>virginica</td></tr>\n",
              "\t<tr><th scope=row>137</th><td>6.3</td><td>3.4</td><td>5.6</td><td>2.4</td><td>virginica</td></tr>\n",
              "\t<tr><th scope=row>138</th><td>6.4</td><td>3.1</td><td>5.5</td><td>1.8</td><td>virginica</td></tr>\n",
              "\t<tr><th scope=row>140</th><td>6.9</td><td>3.1</td><td>5.4</td><td>2.1</td><td>virginica</td></tr>\n",
              "\t<tr><th scope=row>141</th><td>6.7</td><td>3.1</td><td>5.6</td><td>2.4</td><td>virginica</td></tr>\n",
              "\t<tr><th scope=row>142</th><td>6.9</td><td>3.1</td><td>5.1</td><td>2.3</td><td>virginica</td></tr>\n",
              "\t<tr><th scope=row>143</th><td>5.8</td><td>2.7</td><td>5.1</td><td>1.9</td><td>virginica</td></tr>\n",
              "\t<tr><th scope=row>144</th><td>6.8</td><td>3.2</td><td>5.9</td><td>2.3</td><td>virginica</td></tr>\n",
              "\t<tr><th scope=row>145</th><td>6.7</td><td>3.3</td><td>5.7</td><td>2.5</td><td>virginica</td></tr>\n",
              "\t<tr><th scope=row>146</th><td>6.7</td><td>3.0</td><td>5.2</td><td>2.3</td><td>virginica</td></tr>\n",
              "\t<tr><th scope=row>148</th><td>6.5</td><td>3.0</td><td>5.2</td><td>2.0</td><td>virginica</td></tr>\n",
              "\t<tr><th scope=row>149</th><td>6.2</td><td>3.4</td><td>5.4</td><td>2.3</td><td>virginica</td></tr>\n",
              "\t<tr><th scope=row>150</th><td>5.9</td><td>3.0</td><td>5.1</td><td>1.8</td><td>virginica</td></tr>\n",
              "</tbody>\n",
              "</table>\n"
            ],
            "text/markdown": "\nA data.frame: 41 × 5\n\n| <!--/--> | Sepal.Length &lt;dbl&gt; | Sepal.Width &lt;dbl&gt; | Petal.Length &lt;dbl&gt; | Petal.Width &lt;dbl&gt; | Species &lt;fct&gt; |\n|---|---|---|---|---|---|\n| 101 | 6.3 | 3.3 | 6.0 | 2.5 | virginica |\n| 102 | 5.8 | 2.7 | 5.1 | 1.9 | virginica |\n| 103 | 7.1 | 3.0 | 5.9 | 2.1 | virginica |\n| 104 | 6.3 | 2.9 | 5.6 | 1.8 | virginica |\n| 105 | 6.5 | 3.0 | 5.8 | 2.2 | virginica |\n| 106 | 7.6 | 3.0 | 6.6 | 2.1 | virginica |\n| 108 | 7.3 | 2.9 | 6.3 | 1.8 | virginica |\n| 109 | 6.7 | 2.5 | 5.8 | 1.8 | virginica |\n| 110 | 7.2 | 3.6 | 6.1 | 2.5 | virginica |\n| 111 | 6.5 | 3.2 | 5.1 | 2.0 | virginica |\n| 112 | 6.4 | 2.7 | 5.3 | 1.9 | virginica |\n| 113 | 6.8 | 3.0 | 5.5 | 2.1 | virginica |\n| 115 | 5.8 | 2.8 | 5.1 | 2.4 | virginica |\n| 116 | 6.4 | 3.2 | 5.3 | 2.3 | virginica |\n| 117 | 6.5 | 3.0 | 5.5 | 1.8 | virginica |\n| 118 | 7.7 | 3.8 | 6.7 | 2.2 | virginica |\n| 119 | 7.7 | 2.6 | 6.9 | 2.3 | virginica |\n| 121 | 6.9 | 3.2 | 5.7 | 2.3 | virginica |\n| 123 | 7.7 | 2.8 | 6.7 | 2.0 | virginica |\n| 125 | 6.7 | 3.3 | 5.7 | 2.1 | virginica |\n| 126 | 7.2 | 3.2 | 6.0 | 1.8 | virginica |\n| 129 | 6.4 | 2.8 | 5.6 | 2.1 | virginica |\n| 130 | 7.2 | 3.0 | 5.8 | 1.6 | virginica |\n| 131 | 7.4 | 2.8 | 6.1 | 1.9 | virginica |\n| 132 | 7.9 | 3.8 | 6.4 | 2.0 | virginica |\n| 133 | 6.4 | 2.8 | 5.6 | 2.2 | virginica |\n| 134 | 6.3 | 2.8 | 5.1 | 1.5 | virginica |\n| 135 | 6.1 | 2.6 | 5.6 | 1.4 | virginica |\n| 136 | 7.7 | 3.0 | 6.1 | 2.3 | virginica |\n| 137 | 6.3 | 3.4 | 5.6 | 2.4 | virginica |\n| 138 | 6.4 | 3.1 | 5.5 | 1.8 | virginica |\n| 140 | 6.9 | 3.1 | 5.4 | 2.1 | virginica |\n| 141 | 6.7 | 3.1 | 5.6 | 2.4 | virginica |\n| 142 | 6.9 | 3.1 | 5.1 | 2.3 | virginica |\n| 143 | 5.8 | 2.7 | 5.1 | 1.9 | virginica |\n| 144 | 6.8 | 3.2 | 5.9 | 2.3 | virginica |\n| 145 | 6.7 | 3.3 | 5.7 | 2.5 | virginica |\n| 146 | 6.7 | 3.0 | 5.2 | 2.3 | virginica |\n| 148 | 6.5 | 3.0 | 5.2 | 2.0 | virginica |\n| 149 | 6.2 | 3.4 | 5.4 | 2.3 | virginica |\n| 150 | 5.9 | 3.0 | 5.1 | 1.8 | virginica |\n\n",
            "text/latex": "A data.frame: 41 × 5\n\\begin{tabular}{r|lllll}\n  & Sepal.Length & Sepal.Width & Petal.Length & Petal.Width & Species\\\\\n  & <dbl> & <dbl> & <dbl> & <dbl> & <fct>\\\\\n\\hline\n\t101 & 6.3 & 3.3 & 6.0 & 2.5 & virginica\\\\\n\t102 & 5.8 & 2.7 & 5.1 & 1.9 & virginica\\\\\n\t103 & 7.1 & 3.0 & 5.9 & 2.1 & virginica\\\\\n\t104 & 6.3 & 2.9 & 5.6 & 1.8 & virginica\\\\\n\t105 & 6.5 & 3.0 & 5.8 & 2.2 & virginica\\\\\n\t106 & 7.6 & 3.0 & 6.6 & 2.1 & virginica\\\\\n\t108 & 7.3 & 2.9 & 6.3 & 1.8 & virginica\\\\\n\t109 & 6.7 & 2.5 & 5.8 & 1.8 & virginica\\\\\n\t110 & 7.2 & 3.6 & 6.1 & 2.5 & virginica\\\\\n\t111 & 6.5 & 3.2 & 5.1 & 2.0 & virginica\\\\\n\t112 & 6.4 & 2.7 & 5.3 & 1.9 & virginica\\\\\n\t113 & 6.8 & 3.0 & 5.5 & 2.1 & virginica\\\\\n\t115 & 5.8 & 2.8 & 5.1 & 2.4 & virginica\\\\\n\t116 & 6.4 & 3.2 & 5.3 & 2.3 & virginica\\\\\n\t117 & 6.5 & 3.0 & 5.5 & 1.8 & virginica\\\\\n\t118 & 7.7 & 3.8 & 6.7 & 2.2 & virginica\\\\\n\t119 & 7.7 & 2.6 & 6.9 & 2.3 & virginica\\\\\n\t121 & 6.9 & 3.2 & 5.7 & 2.3 & virginica\\\\\n\t123 & 7.7 & 2.8 & 6.7 & 2.0 & virginica\\\\\n\t125 & 6.7 & 3.3 & 5.7 & 2.1 & virginica\\\\\n\t126 & 7.2 & 3.2 & 6.0 & 1.8 & virginica\\\\\n\t129 & 6.4 & 2.8 & 5.6 & 2.1 & virginica\\\\\n\t130 & 7.2 & 3.0 & 5.8 & 1.6 & virginica\\\\\n\t131 & 7.4 & 2.8 & 6.1 & 1.9 & virginica\\\\\n\t132 & 7.9 & 3.8 & 6.4 & 2.0 & virginica\\\\\n\t133 & 6.4 & 2.8 & 5.6 & 2.2 & virginica\\\\\n\t134 & 6.3 & 2.8 & 5.1 & 1.5 & virginica\\\\\n\t135 & 6.1 & 2.6 & 5.6 & 1.4 & virginica\\\\\n\t136 & 7.7 & 3.0 & 6.1 & 2.3 & virginica\\\\\n\t137 & 6.3 & 3.4 & 5.6 & 2.4 & virginica\\\\\n\t138 & 6.4 & 3.1 & 5.5 & 1.8 & virginica\\\\\n\t140 & 6.9 & 3.1 & 5.4 & 2.1 & virginica\\\\\n\t141 & 6.7 & 3.1 & 5.6 & 2.4 & virginica\\\\\n\t142 & 6.9 & 3.1 & 5.1 & 2.3 & virginica\\\\\n\t143 & 5.8 & 2.7 & 5.1 & 1.9 & virginica\\\\\n\t144 & 6.8 & 3.2 & 5.9 & 2.3 & virginica\\\\\n\t145 & 6.7 & 3.3 & 5.7 & 2.5 & virginica\\\\\n\t146 & 6.7 & 3.0 & 5.2 & 2.3 & virginica\\\\\n\t148 & 6.5 & 3.0 & 5.2 & 2.0 & virginica\\\\\n\t149 & 6.2 & 3.4 & 5.4 & 2.3 & virginica\\\\\n\t150 & 5.9 & 3.0 & 5.1 & 1.8 & virginica\\\\\n\\end{tabular}\n",
            "text/plain": [
              "    Sepal.Length Sepal.Width Petal.Length Petal.Width Species  \n",
              "101 6.3          3.3         6.0          2.5         virginica\n",
              "102 5.8          2.7         5.1          1.9         virginica\n",
              "103 7.1          3.0         5.9          2.1         virginica\n",
              "104 6.3          2.9         5.6          1.8         virginica\n",
              "105 6.5          3.0         5.8          2.2         virginica\n",
              "106 7.6          3.0         6.6          2.1         virginica\n",
              "108 7.3          2.9         6.3          1.8         virginica\n",
              "109 6.7          2.5         5.8          1.8         virginica\n",
              "110 7.2          3.6         6.1          2.5         virginica\n",
              "111 6.5          3.2         5.1          2.0         virginica\n",
              "112 6.4          2.7         5.3          1.9         virginica\n",
              "113 6.8          3.0         5.5          2.1         virginica\n",
              "115 5.8          2.8         5.1          2.4         virginica\n",
              "116 6.4          3.2         5.3          2.3         virginica\n",
              "117 6.5          3.0         5.5          1.8         virginica\n",
              "118 7.7          3.8         6.7          2.2         virginica\n",
              "119 7.7          2.6         6.9          2.3         virginica\n",
              "121 6.9          3.2         5.7          2.3         virginica\n",
              "123 7.7          2.8         6.7          2.0         virginica\n",
              "125 6.7          3.3         5.7          2.1         virginica\n",
              "126 7.2          3.2         6.0          1.8         virginica\n",
              "129 6.4          2.8         5.6          2.1         virginica\n",
              "130 7.2          3.0         5.8          1.6         virginica\n",
              "131 7.4          2.8         6.1          1.9         virginica\n",
              "132 7.9          3.8         6.4          2.0         virginica\n",
              "133 6.4          2.8         5.6          2.2         virginica\n",
              "134 6.3          2.8         5.1          1.5         virginica\n",
              "135 6.1          2.6         5.6          1.4         virginica\n",
              "136 7.7          3.0         6.1          2.3         virginica\n",
              "137 6.3          3.4         5.6          2.4         virginica\n",
              "138 6.4          3.1         5.5          1.8         virginica\n",
              "140 6.9          3.1         5.4          2.1         virginica\n",
              "141 6.7          3.1         5.6          2.4         virginica\n",
              "142 6.9          3.1         5.1          2.3         virginica\n",
              "143 5.8          2.7         5.1          1.9         virginica\n",
              "144 6.8          3.2         5.9          2.3         virginica\n",
              "145 6.7          3.3         5.7          2.5         virginica\n",
              "146 6.7          3.0         5.2          2.3         virginica\n",
              "148 6.5          3.0         5.2          2.0         virginica\n",
              "149 6.2          3.4         5.4          2.3         virginica\n",
              "150 5.9          3.0         5.1          1.8         virginica"
            ]
          },
          "metadata": {}
        }
      ]
    },
    {
      "cell_type": "markdown",
      "source": [
        "**Ejercicio**\n",
        "\n",
        "A continuación instalaremos el paquete nycflights13 el cual contiene información de vuelos que salieron de la ciudad de Nueva York en el 2013.\n",
        "\n",
        "**Nota**: Un paquete en R es una colección de funciones, datos, y código en un formato bien definido. Este es usado para extender la funcionalidad de R promoviendo que el usuario de R realize tareas específicas o use algoritmos que no estan disponibles en la instalación básica de R.\n",
        "\n",
        "\n",
        "```\n",
        "install.packages(\"nycflights13\")\n",
        "```"
      ],
      "metadata": {
        "id": "ckO7PIjlVbF0"
      }
    },
    {
      "cell_type": "code",
      "source": [
        "install.packages(\"nycflights13\")"
      ],
      "metadata": {
        "colab": {
          "base_uri": "https://localhost:8080/"
        },
        "id": "oiPRrFa-WCEY",
        "outputId": "6b0a7ace-a20a-446f-d6b9-637c5e265dbd"
      },
      "execution_count": null,
      "outputs": [
        {
          "output_type": "stream",
          "name": "stderr",
          "text": [
            "Installing package into ‘/usr/local/lib/R/site-library’\n",
            "(as ‘lib’ is unspecified)\n",
            "\n"
          ]
        }
      ]
    },
    {
      "cell_type": "markdown",
      "source": [
        "Luego cargaremos el paquete nycflights13  de la siguiente manera:\n",
        "\n",
        "```\n",
        "library(nycflights13)\n",
        "```"
      ],
      "metadata": {
        "id": "gIbDHOR3Wu9A"
      }
    },
    {
      "cell_type": "code",
      "source": [
        "library(nycflights13)"
      ],
      "metadata": {
        "id": "JRL6xs5uVgL6"
      },
      "execution_count": null,
      "outputs": []
    },
    {
      "cell_type": "markdown",
      "source": [
        "Cuando se carga el paquete nycflights13 automáticamente tengo acceso a el siguiente dataframe:\n",
        "\n",
        "```\n",
        "flights\n",
        "```\n",
        "\n",
        "A continuación realizar los siguiente literales.\n",
        "\n",
        "* Realizar exploraciones iniciales usando las funciones head, tail, y str.\n",
        "* Seleccionar todos los vuelos que salieron el primero de Enero.\n",
        "* Seleccionar todos los vuelos que salieron el veinticinco de Diciembre.\n",
        "* Cual es el problema con el siguiente código:\n",
        "```\n",
        "flights[flights$moth = 1, ]\n",
        "```\n",
        "* Seleccionar todos los vuelos que salieron en Noviembre o Diciembre.\n",
        "\n",
        "* Use el operador %in% para re-escribir el ejercicio anterior.\n",
        "\n",
        "* Seleccionar todos los vuelos que no fueron retrasados (en llegada o partida) por más de dos horas, intentar hacerlo de dos formas. **Sugerencia**: Revise las Leyes de De Morgan."
      ],
      "metadata": {
        "id": "IwsCUHzFYChB"
      }
    },
    {
      "cell_type": "code",
      "source": [
        "head(flights)"
      ],
      "metadata": {
        "id": "FVaL5OXTnaxE",
        "outputId": "60559d64-45b4-41c9-bece-dcb7230423d1",
        "colab": {
          "base_uri": "https://localhost:8080/",
          "height": 410
        }
      },
      "execution_count": null,
      "outputs": [
        {
          "output_type": "display_data",
          "data": {
            "text/html": [
              "<table class=\"dataframe\">\n",
              "<caption>A tibble: 6 × 19</caption>\n",
              "<thead>\n",
              "\t<tr><th scope=col>year</th><th scope=col>month</th><th scope=col>day</th><th scope=col>dep_time</th><th scope=col>sched_dep_time</th><th scope=col>dep_delay</th><th scope=col>arr_time</th><th scope=col>sched_arr_time</th><th scope=col>arr_delay</th><th scope=col>carrier</th><th scope=col>flight</th><th scope=col>tailnum</th><th scope=col>origin</th><th scope=col>dest</th><th scope=col>air_time</th><th scope=col>distance</th><th scope=col>hour</th><th scope=col>minute</th><th scope=col>time_hour</th></tr>\n",
              "\t<tr><th scope=col>&lt;int&gt;</th><th scope=col>&lt;int&gt;</th><th scope=col>&lt;int&gt;</th><th scope=col>&lt;int&gt;</th><th scope=col>&lt;int&gt;</th><th scope=col>&lt;dbl&gt;</th><th scope=col>&lt;int&gt;</th><th scope=col>&lt;int&gt;</th><th scope=col>&lt;dbl&gt;</th><th scope=col>&lt;chr&gt;</th><th scope=col>&lt;int&gt;</th><th scope=col>&lt;chr&gt;</th><th scope=col>&lt;chr&gt;</th><th scope=col>&lt;chr&gt;</th><th scope=col>&lt;dbl&gt;</th><th scope=col>&lt;dbl&gt;</th><th scope=col>&lt;dbl&gt;</th><th scope=col>&lt;dbl&gt;</th><th scope=col>&lt;dttm&gt;</th></tr>\n",
              "</thead>\n",
              "<tbody>\n",
              "\t<tr><td>2013</td><td>1</td><td>1</td><td>517</td><td>515</td><td> 2</td><td> 830</td><td> 819</td><td> 11</td><td>UA</td><td>1545</td><td>N14228</td><td>EWR</td><td>IAH</td><td>227</td><td>1400</td><td>5</td><td>15</td><td>2013-01-01 05:00:00</td></tr>\n",
              "\t<tr><td>2013</td><td>1</td><td>1</td><td>533</td><td>529</td><td> 4</td><td> 850</td><td> 830</td><td> 20</td><td>UA</td><td>1714</td><td>N24211</td><td>LGA</td><td>IAH</td><td>227</td><td>1416</td><td>5</td><td>29</td><td>2013-01-01 05:00:00</td></tr>\n",
              "\t<tr><td>2013</td><td>1</td><td>1</td><td>542</td><td>540</td><td> 2</td><td> 923</td><td> 850</td><td> 33</td><td>AA</td><td>1141</td><td>N619AA</td><td>JFK</td><td>MIA</td><td>160</td><td>1089</td><td>5</td><td>40</td><td>2013-01-01 05:00:00</td></tr>\n",
              "\t<tr><td>2013</td><td>1</td><td>1</td><td>544</td><td>545</td><td>-1</td><td>1004</td><td>1022</td><td>-18</td><td>B6</td><td> 725</td><td>N804JB</td><td>JFK</td><td>BQN</td><td>183</td><td>1576</td><td>5</td><td>45</td><td>2013-01-01 05:00:00</td></tr>\n",
              "\t<tr><td>2013</td><td>1</td><td>1</td><td>554</td><td>600</td><td>-6</td><td> 812</td><td> 837</td><td>-25</td><td>DL</td><td> 461</td><td>N668DN</td><td>LGA</td><td>ATL</td><td>116</td><td> 762</td><td>6</td><td> 0</td><td>2013-01-01 06:00:00</td></tr>\n",
              "\t<tr><td>2013</td><td>1</td><td>1</td><td>554</td><td>558</td><td>-4</td><td> 740</td><td> 728</td><td> 12</td><td>UA</td><td>1696</td><td>N39463</td><td>EWR</td><td>ORD</td><td>150</td><td> 719</td><td>5</td><td>58</td><td>2013-01-01 05:00:00</td></tr>\n",
              "</tbody>\n",
              "</table>\n"
            ],
            "text/markdown": "\nA tibble: 6 × 19\n\n| year &lt;int&gt; | month &lt;int&gt; | day &lt;int&gt; | dep_time &lt;int&gt; | sched_dep_time &lt;int&gt; | dep_delay &lt;dbl&gt; | arr_time &lt;int&gt; | sched_arr_time &lt;int&gt; | arr_delay &lt;dbl&gt; | carrier &lt;chr&gt; | flight &lt;int&gt; | tailnum &lt;chr&gt; | origin &lt;chr&gt; | dest &lt;chr&gt; | air_time &lt;dbl&gt; | distance &lt;dbl&gt; | hour &lt;dbl&gt; | minute &lt;dbl&gt; | time_hour &lt;dttm&gt; |\n|---|---|---|---|---|---|---|---|---|---|---|---|---|---|---|---|---|---|---|\n| 2013 | 1 | 1 | 517 | 515 |  2 |  830 |  819 |  11 | UA | 1545 | N14228 | EWR | IAH | 227 | 1400 | 5 | 15 | 2013-01-01 05:00:00 |\n| 2013 | 1 | 1 | 533 | 529 |  4 |  850 |  830 |  20 | UA | 1714 | N24211 | LGA | IAH | 227 | 1416 | 5 | 29 | 2013-01-01 05:00:00 |\n| 2013 | 1 | 1 | 542 | 540 |  2 |  923 |  850 |  33 | AA | 1141 | N619AA | JFK | MIA | 160 | 1089 | 5 | 40 | 2013-01-01 05:00:00 |\n| 2013 | 1 | 1 | 544 | 545 | -1 | 1004 | 1022 | -18 | B6 |  725 | N804JB | JFK | BQN | 183 | 1576 | 5 | 45 | 2013-01-01 05:00:00 |\n| 2013 | 1 | 1 | 554 | 600 | -6 |  812 |  837 | -25 | DL |  461 | N668DN | LGA | ATL | 116 |  762 | 6 |  0 | 2013-01-01 06:00:00 |\n| 2013 | 1 | 1 | 554 | 558 | -4 |  740 |  728 |  12 | UA | 1696 | N39463 | EWR | ORD | 150 |  719 | 5 | 58 | 2013-01-01 05:00:00 |\n\n",
            "text/latex": "A tibble: 6 × 19\n\\begin{tabular}{lllllllllllllllllll}\n year & month & day & dep\\_time & sched\\_dep\\_time & dep\\_delay & arr\\_time & sched\\_arr\\_time & arr\\_delay & carrier & flight & tailnum & origin & dest & air\\_time & distance & hour & minute & time\\_hour\\\\\n <int> & <int> & <int> & <int> & <int> & <dbl> & <int> & <int> & <dbl> & <chr> & <int> & <chr> & <chr> & <chr> & <dbl> & <dbl> & <dbl> & <dbl> & <dttm>\\\\\n\\hline\n\t 2013 & 1 & 1 & 517 & 515 &  2 &  830 &  819 &  11 & UA & 1545 & N14228 & EWR & IAH & 227 & 1400 & 5 & 15 & 2013-01-01 05:00:00\\\\\n\t 2013 & 1 & 1 & 533 & 529 &  4 &  850 &  830 &  20 & UA & 1714 & N24211 & LGA & IAH & 227 & 1416 & 5 & 29 & 2013-01-01 05:00:00\\\\\n\t 2013 & 1 & 1 & 542 & 540 &  2 &  923 &  850 &  33 & AA & 1141 & N619AA & JFK & MIA & 160 & 1089 & 5 & 40 & 2013-01-01 05:00:00\\\\\n\t 2013 & 1 & 1 & 544 & 545 & -1 & 1004 & 1022 & -18 & B6 &  725 & N804JB & JFK & BQN & 183 & 1576 & 5 & 45 & 2013-01-01 05:00:00\\\\\n\t 2013 & 1 & 1 & 554 & 600 & -6 &  812 &  837 & -25 & DL &  461 & N668DN & LGA & ATL & 116 &  762 & 6 &  0 & 2013-01-01 06:00:00\\\\\n\t 2013 & 1 & 1 & 554 & 558 & -4 &  740 &  728 &  12 & UA & 1696 & N39463 & EWR & ORD & 150 &  719 & 5 & 58 & 2013-01-01 05:00:00\\\\\n\\end{tabular}\n",
            "text/plain": [
              "  year month day dep_time sched_dep_time dep_delay arr_time sched_arr_time\n",
              "1 2013 1     1   517      515             2         830      819          \n",
              "2 2013 1     1   533      529             4         850      830          \n",
              "3 2013 1     1   542      540             2         923      850          \n",
              "4 2013 1     1   544      545            -1        1004     1022          \n",
              "5 2013 1     1   554      600            -6         812      837          \n",
              "6 2013 1     1   554      558            -4         740      728          \n",
              "  arr_delay carrier flight tailnum origin dest air_time distance hour minute\n",
              "1  11       UA      1545   N14228  EWR    IAH  227      1400     5    15    \n",
              "2  20       UA      1714   N24211  LGA    IAH  227      1416     5    29    \n",
              "3  33       AA      1141   N619AA  JFK    MIA  160      1089     5    40    \n",
              "4 -18       B6       725   N804JB  JFK    BQN  183      1576     5    45    \n",
              "5 -25       DL       461   N668DN  LGA    ATL  116       762     6     0    \n",
              "6  12       UA      1696   N39463  EWR    ORD  150       719     5    58    \n",
              "  time_hour          \n",
              "1 2013-01-01 05:00:00\n",
              "2 2013-01-01 05:00:00\n",
              "3 2013-01-01 05:00:00\n",
              "4 2013-01-01 05:00:00\n",
              "5 2013-01-01 06:00:00\n",
              "6 2013-01-01 05:00:00"
            ]
          },
          "metadata": {}
        }
      ]
    },
    {
      "cell_type": "code",
      "source": [
        "tail(flights)"
      ],
      "metadata": {
        "id": "jfJgDskPntSv",
        "outputId": "e86edbde-957e-42fe-b203-e1ac405820b6",
        "colab": {
          "base_uri": "https://localhost:8080/",
          "height": 410
        }
      },
      "execution_count": null,
      "outputs": [
        {
          "output_type": "display_data",
          "data": {
            "text/html": [
              "<table class=\"dataframe\">\n",
              "<caption>A tibble: 6 × 19</caption>\n",
              "<thead>\n",
              "\t<tr><th scope=col>year</th><th scope=col>month</th><th scope=col>day</th><th scope=col>dep_time</th><th scope=col>sched_dep_time</th><th scope=col>dep_delay</th><th scope=col>arr_time</th><th scope=col>sched_arr_time</th><th scope=col>arr_delay</th><th scope=col>carrier</th><th scope=col>flight</th><th scope=col>tailnum</th><th scope=col>origin</th><th scope=col>dest</th><th scope=col>air_time</th><th scope=col>distance</th><th scope=col>hour</th><th scope=col>minute</th><th scope=col>time_hour</th></tr>\n",
              "\t<tr><th scope=col>&lt;int&gt;</th><th scope=col>&lt;int&gt;</th><th scope=col>&lt;int&gt;</th><th scope=col>&lt;int&gt;</th><th scope=col>&lt;int&gt;</th><th scope=col>&lt;dbl&gt;</th><th scope=col>&lt;int&gt;</th><th scope=col>&lt;int&gt;</th><th scope=col>&lt;dbl&gt;</th><th scope=col>&lt;chr&gt;</th><th scope=col>&lt;int&gt;</th><th scope=col>&lt;chr&gt;</th><th scope=col>&lt;chr&gt;</th><th scope=col>&lt;chr&gt;</th><th scope=col>&lt;dbl&gt;</th><th scope=col>&lt;dbl&gt;</th><th scope=col>&lt;dbl&gt;</th><th scope=col>&lt;dbl&gt;</th><th scope=col>&lt;dttm&gt;</th></tr>\n",
              "</thead>\n",
              "<tbody>\n",
              "\t<tr><td>2013</td><td>9</td><td>30</td><td>NA</td><td>1842</td><td>NA</td><td>NA</td><td>2019</td><td>NA</td><td>EV</td><td>5274</td><td>N740EV</td><td>LGA</td><td>BNA</td><td>NA</td><td>764</td><td>18</td><td>42</td><td>2013-09-30 18:00:00</td></tr>\n",
              "\t<tr><td>2013</td><td>9</td><td>30</td><td>NA</td><td>1455</td><td>NA</td><td>NA</td><td>1634</td><td>NA</td><td>9E</td><td>3393</td><td>NA    </td><td>JFK</td><td>DCA</td><td>NA</td><td>213</td><td>14</td><td>55</td><td>2013-09-30 14:00:00</td></tr>\n",
              "\t<tr><td>2013</td><td>9</td><td>30</td><td>NA</td><td>2200</td><td>NA</td><td>NA</td><td>2312</td><td>NA</td><td>9E</td><td>3525</td><td>NA    </td><td>LGA</td><td>SYR</td><td>NA</td><td>198</td><td>22</td><td> 0</td><td>2013-09-30 22:00:00</td></tr>\n",
              "\t<tr><td>2013</td><td>9</td><td>30</td><td>NA</td><td>1210</td><td>NA</td><td>NA</td><td>1330</td><td>NA</td><td>MQ</td><td>3461</td><td>N535MQ</td><td>LGA</td><td>BNA</td><td>NA</td><td>764</td><td>12</td><td>10</td><td>2013-09-30 12:00:00</td></tr>\n",
              "\t<tr><td>2013</td><td>9</td><td>30</td><td>NA</td><td>1159</td><td>NA</td><td>NA</td><td>1344</td><td>NA</td><td>MQ</td><td>3572</td><td>N511MQ</td><td>LGA</td><td>CLE</td><td>NA</td><td>419</td><td>11</td><td>59</td><td>2013-09-30 11:00:00</td></tr>\n",
              "\t<tr><td>2013</td><td>9</td><td>30</td><td>NA</td><td> 840</td><td>NA</td><td>NA</td><td>1020</td><td>NA</td><td>MQ</td><td>3531</td><td>N839MQ</td><td>LGA</td><td>RDU</td><td>NA</td><td>431</td><td> 8</td><td>40</td><td>2013-09-30 08:00:00</td></tr>\n",
              "</tbody>\n",
              "</table>\n"
            ],
            "text/markdown": "\nA tibble: 6 × 19\n\n| year &lt;int&gt; | month &lt;int&gt; | day &lt;int&gt; | dep_time &lt;int&gt; | sched_dep_time &lt;int&gt; | dep_delay &lt;dbl&gt; | arr_time &lt;int&gt; | sched_arr_time &lt;int&gt; | arr_delay &lt;dbl&gt; | carrier &lt;chr&gt; | flight &lt;int&gt; | tailnum &lt;chr&gt; | origin &lt;chr&gt; | dest &lt;chr&gt; | air_time &lt;dbl&gt; | distance &lt;dbl&gt; | hour &lt;dbl&gt; | minute &lt;dbl&gt; | time_hour &lt;dttm&gt; |\n|---|---|---|---|---|---|---|---|---|---|---|---|---|---|---|---|---|---|---|\n| 2013 | 9 | 30 | NA | 1842 | NA | NA | 2019 | NA | EV | 5274 | N740EV | LGA | BNA | NA | 764 | 18 | 42 | 2013-09-30 18:00:00 |\n| 2013 | 9 | 30 | NA | 1455 | NA | NA | 1634 | NA | 9E | 3393 | NA     | JFK | DCA | NA | 213 | 14 | 55 | 2013-09-30 14:00:00 |\n| 2013 | 9 | 30 | NA | 2200 | NA | NA | 2312 | NA | 9E | 3525 | NA     | LGA | SYR | NA | 198 | 22 |  0 | 2013-09-30 22:00:00 |\n| 2013 | 9 | 30 | NA | 1210 | NA | NA | 1330 | NA | MQ | 3461 | N535MQ | LGA | BNA | NA | 764 | 12 | 10 | 2013-09-30 12:00:00 |\n| 2013 | 9 | 30 | NA | 1159 | NA | NA | 1344 | NA | MQ | 3572 | N511MQ | LGA | CLE | NA | 419 | 11 | 59 | 2013-09-30 11:00:00 |\n| 2013 | 9 | 30 | NA |  840 | NA | NA | 1020 | NA | MQ | 3531 | N839MQ | LGA | RDU | NA | 431 |  8 | 40 | 2013-09-30 08:00:00 |\n\n",
            "text/latex": "A tibble: 6 × 19\n\\begin{tabular}{lllllllllllllllllll}\n year & month & day & dep\\_time & sched\\_dep\\_time & dep\\_delay & arr\\_time & sched\\_arr\\_time & arr\\_delay & carrier & flight & tailnum & origin & dest & air\\_time & distance & hour & minute & time\\_hour\\\\\n <int> & <int> & <int> & <int> & <int> & <dbl> & <int> & <int> & <dbl> & <chr> & <int> & <chr> & <chr> & <chr> & <dbl> & <dbl> & <dbl> & <dbl> & <dttm>\\\\\n\\hline\n\t 2013 & 9 & 30 & NA & 1842 & NA & NA & 2019 & NA & EV & 5274 & N740EV & LGA & BNA & NA & 764 & 18 & 42 & 2013-09-30 18:00:00\\\\\n\t 2013 & 9 & 30 & NA & 1455 & NA & NA & 1634 & NA & 9E & 3393 & NA     & JFK & DCA & NA & 213 & 14 & 55 & 2013-09-30 14:00:00\\\\\n\t 2013 & 9 & 30 & NA & 2200 & NA & NA & 2312 & NA & 9E & 3525 & NA     & LGA & SYR & NA & 198 & 22 &  0 & 2013-09-30 22:00:00\\\\\n\t 2013 & 9 & 30 & NA & 1210 & NA & NA & 1330 & NA & MQ & 3461 & N535MQ & LGA & BNA & NA & 764 & 12 & 10 & 2013-09-30 12:00:00\\\\\n\t 2013 & 9 & 30 & NA & 1159 & NA & NA & 1344 & NA & MQ & 3572 & N511MQ & LGA & CLE & NA & 419 & 11 & 59 & 2013-09-30 11:00:00\\\\\n\t 2013 & 9 & 30 & NA &  840 & NA & NA & 1020 & NA & MQ & 3531 & N839MQ & LGA & RDU & NA & 431 &  8 & 40 & 2013-09-30 08:00:00\\\\\n\\end{tabular}\n",
            "text/plain": [
              "  year month day dep_time sched_dep_time dep_delay arr_time sched_arr_time\n",
              "1 2013 9     30  NA       1842           NA        NA       2019          \n",
              "2 2013 9     30  NA       1455           NA        NA       1634          \n",
              "3 2013 9     30  NA       2200           NA        NA       2312          \n",
              "4 2013 9     30  NA       1210           NA        NA       1330          \n",
              "5 2013 9     30  NA       1159           NA        NA       1344          \n",
              "6 2013 9     30  NA        840           NA        NA       1020          \n",
              "  arr_delay carrier flight tailnum origin dest air_time distance hour minute\n",
              "1 NA        EV      5274   N740EV  LGA    BNA  NA       764      18   42    \n",
              "2 NA        9E      3393   NA      JFK    DCA  NA       213      14   55    \n",
              "3 NA        9E      3525   NA      LGA    SYR  NA       198      22    0    \n",
              "4 NA        MQ      3461   N535MQ  LGA    BNA  NA       764      12   10    \n",
              "5 NA        MQ      3572   N511MQ  LGA    CLE  NA       419      11   59    \n",
              "6 NA        MQ      3531   N839MQ  LGA    RDU  NA       431       8   40    \n",
              "  time_hour          \n",
              "1 2013-09-30 18:00:00\n",
              "2 2013-09-30 14:00:00\n",
              "3 2013-09-30 22:00:00\n",
              "4 2013-09-30 12:00:00\n",
              "5 2013-09-30 11:00:00\n",
              "6 2013-09-30 08:00:00"
            ]
          },
          "metadata": {}
        }
      ]
    },
    {
      "cell_type": "code",
      "source": [
        "str(flights)"
      ],
      "metadata": {
        "id": "5d_GrM8NnzIN",
        "outputId": "ded9682c-c481-411e-b435-ecf5bf4aa453",
        "colab": {
          "base_uri": "https://localhost:8080/"
        }
      },
      "execution_count": null,
      "outputs": [
        {
          "output_type": "stream",
          "name": "stdout",
          "text": [
            "tibble [336,776 × 19] (S3: tbl_df/tbl/data.frame)\n",
            " $ year          : int [1:336776] 2013 2013 2013 2013 2013 2013 2013 2013 2013 2013 ...\n",
            " $ month         : int [1:336776] 1 1 1 1 1 1 1 1 1 1 ...\n",
            " $ day           : int [1:336776] 1 1 1 1 1 1 1 1 1 1 ...\n",
            " $ dep_time      : int [1:336776] 517 533 542 544 554 554 555 557 557 558 ...\n",
            " $ sched_dep_time: int [1:336776] 515 529 540 545 600 558 600 600 600 600 ...\n",
            " $ dep_delay     : num [1:336776] 2 4 2 -1 -6 -4 -5 -3 -3 -2 ...\n",
            " $ arr_time      : int [1:336776] 830 850 923 1004 812 740 913 709 838 753 ...\n",
            " $ sched_arr_time: int [1:336776] 819 830 850 1022 837 728 854 723 846 745 ...\n",
            " $ arr_delay     : num [1:336776] 11 20 33 -18 -25 12 19 -14 -8 8 ...\n",
            " $ carrier       : chr [1:336776] \"UA\" \"UA\" \"AA\" \"B6\" ...\n",
            " $ flight        : int [1:336776] 1545 1714 1141 725 461 1696 507 5708 79 301 ...\n",
            " $ tailnum       : chr [1:336776] \"N14228\" \"N24211\" \"N619AA\" \"N804JB\" ...\n",
            " $ origin        : chr [1:336776] \"EWR\" \"LGA\" \"JFK\" \"JFK\" ...\n",
            " $ dest          : chr [1:336776] \"IAH\" \"IAH\" \"MIA\" \"BQN\" ...\n",
            " $ air_time      : num [1:336776] 227 227 160 183 116 150 158 53 140 138 ...\n",
            " $ distance      : num [1:336776] 1400 1416 1089 1576 762 ...\n",
            " $ hour          : num [1:336776] 5 5 5 5 6 5 6 6 6 6 ...\n",
            " $ minute        : num [1:336776] 15 29 40 45 0 58 0 0 0 0 ...\n",
            " $ time_hour     : POSIXct[1:336776], format: \"2013-01-01 05:00:00\" \"2013-01-01 05:00:00\" ...\n"
          ]
        }
      ]
    },
    {
      "cell_type": "code",
      "source": [
        "help(flights)"
      ],
      "metadata": {
        "id": "QIFFuyGMoEa2"
      },
      "execution_count": null,
      "outputs": []
    },
    {
      "cell_type": "code",
      "source": [
        "summary(flights)"
      ],
      "metadata": {
        "id": "vqEreVRKpXGw",
        "outputId": "c4d3d766-6990-4b18-a19d-269b13f4a89c",
        "colab": {
          "base_uri": "https://localhost:8080/",
          "height": 712
        }
      },
      "execution_count": null,
      "outputs": [
        {
          "output_type": "display_data",
          "data": {
            "text/plain": [
              "      year          month             day           dep_time    sched_dep_time\n",
              " Min.   :2013   Min.   : 1.000   Min.   : 1.00   Min.   :   1   Min.   : 106  \n",
              " 1st Qu.:2013   1st Qu.: 4.000   1st Qu.: 8.00   1st Qu.: 907   1st Qu.: 906  \n",
              " Median :2013   Median : 7.000   Median :16.00   Median :1401   Median :1359  \n",
              " Mean   :2013   Mean   : 6.549   Mean   :15.71   Mean   :1349   Mean   :1344  \n",
              " 3rd Qu.:2013   3rd Qu.:10.000   3rd Qu.:23.00   3rd Qu.:1744   3rd Qu.:1729  \n",
              " Max.   :2013   Max.   :12.000   Max.   :31.00   Max.   :2400   Max.   :2359  \n",
              "                                                 NA's   :8255                 \n",
              "   dep_delay          arr_time    sched_arr_time   arr_delay       \n",
              " Min.   : -43.00   Min.   :   1   Min.   :   1   Min.   : -86.000  \n",
              " 1st Qu.:  -5.00   1st Qu.:1104   1st Qu.:1124   1st Qu.: -17.000  \n",
              " Median :  -2.00   Median :1535   Median :1556   Median :  -5.000  \n",
              " Mean   :  12.64   Mean   :1502   Mean   :1536   Mean   :   6.895  \n",
              " 3rd Qu.:  11.00   3rd Qu.:1940   3rd Qu.:1945   3rd Qu.:  14.000  \n",
              " Max.   :1301.00   Max.   :2400   Max.   :2359   Max.   :1272.000  \n",
              " NA's   :8255      NA's   :8713                  NA's   :9430      \n",
              "   carrier              flight       tailnum             origin         \n",
              " Length:336776      Min.   :   1   Length:336776      Length:336776     \n",
              " Class :character   1st Qu.: 553   Class :character   Class :character  \n",
              " Mode  :character   Median :1496   Mode  :character   Mode  :character  \n",
              "                    Mean   :1972                                        \n",
              "                    3rd Qu.:3465                                        \n",
              "                    Max.   :8500                                        \n",
              "                                                                        \n",
              "     dest              air_time        distance         hour      \n",
              " Length:336776      Min.   : 20.0   Min.   :  17   Min.   : 1.00  \n",
              " Class :character   1st Qu.: 82.0   1st Qu.: 502   1st Qu.: 9.00  \n",
              " Mode  :character   Median :129.0   Median : 872   Median :13.00  \n",
              "                    Mean   :150.7   Mean   :1040   Mean   :13.18  \n",
              "                    3rd Qu.:192.0   3rd Qu.:1389   3rd Qu.:17.00  \n",
              "                    Max.   :695.0   Max.   :4983   Max.   :23.00  \n",
              "                    NA's   :9430                                  \n",
              "     minute        time_hour                     \n",
              " Min.   : 0.00   Min.   :2013-01-01 05:00:00.00  \n",
              " 1st Qu.: 8.00   1st Qu.:2013-04-04 13:00:00.00  \n",
              " Median :29.00   Median :2013-07-03 10:00:00.00  \n",
              " Mean   :26.23   Mean   :2013-07-03 05:22:54.64  \n",
              " 3rd Qu.:44.00   3rd Qu.:2013-10-01 07:00:00.00  \n",
              " Max.   :59.00   Max.   :2013-12-31 23:00:00.00  \n",
              "                                                 "
            ]
          },
          "metadata": {}
        }
      ]
    },
    {
      "cell_type": "markdown",
      "source": [
        "Seleccionar todos los vuelos que salieron el primero de Enero."
      ],
      "metadata": {
        "id": "X9k8WyILodh2"
      }
    },
    {
      "cell_type": "code",
      "source": [
        "head(flights[ flights$month == 1 & flights$day == 1 , ])"
      ],
      "metadata": {
        "id": "p76vq9Z-pekX",
        "outputId": "313ae22b-918e-472a-8ceb-f9c26444d3a1",
        "colab": {
          "base_uri": "https://localhost:8080/",
          "height": 410
        }
      },
      "execution_count": null,
      "outputs": [
        {
          "output_type": "display_data",
          "data": {
            "text/html": [
              "<table class=\"dataframe\">\n",
              "<caption>A tibble: 6 × 19</caption>\n",
              "<thead>\n",
              "\t<tr><th scope=col>year</th><th scope=col>month</th><th scope=col>day</th><th scope=col>dep_time</th><th scope=col>sched_dep_time</th><th scope=col>dep_delay</th><th scope=col>arr_time</th><th scope=col>sched_arr_time</th><th scope=col>arr_delay</th><th scope=col>carrier</th><th scope=col>flight</th><th scope=col>tailnum</th><th scope=col>origin</th><th scope=col>dest</th><th scope=col>air_time</th><th scope=col>distance</th><th scope=col>hour</th><th scope=col>minute</th><th scope=col>time_hour</th></tr>\n",
              "\t<tr><th scope=col>&lt;int&gt;</th><th scope=col>&lt;int&gt;</th><th scope=col>&lt;int&gt;</th><th scope=col>&lt;int&gt;</th><th scope=col>&lt;int&gt;</th><th scope=col>&lt;dbl&gt;</th><th scope=col>&lt;int&gt;</th><th scope=col>&lt;int&gt;</th><th scope=col>&lt;dbl&gt;</th><th scope=col>&lt;chr&gt;</th><th scope=col>&lt;int&gt;</th><th scope=col>&lt;chr&gt;</th><th scope=col>&lt;chr&gt;</th><th scope=col>&lt;chr&gt;</th><th scope=col>&lt;dbl&gt;</th><th scope=col>&lt;dbl&gt;</th><th scope=col>&lt;dbl&gt;</th><th scope=col>&lt;dbl&gt;</th><th scope=col>&lt;dttm&gt;</th></tr>\n",
              "</thead>\n",
              "<tbody>\n",
              "\t<tr><td>2013</td><td>1</td><td>1</td><td>517</td><td>515</td><td> 2</td><td> 830</td><td> 819</td><td> 11</td><td>UA</td><td>1545</td><td>N14228</td><td>EWR</td><td>IAH</td><td>227</td><td>1400</td><td>5</td><td>15</td><td>2013-01-01 05:00:00</td></tr>\n",
              "\t<tr><td>2013</td><td>1</td><td>1</td><td>533</td><td>529</td><td> 4</td><td> 850</td><td> 830</td><td> 20</td><td>UA</td><td>1714</td><td>N24211</td><td>LGA</td><td>IAH</td><td>227</td><td>1416</td><td>5</td><td>29</td><td>2013-01-01 05:00:00</td></tr>\n",
              "\t<tr><td>2013</td><td>1</td><td>1</td><td>542</td><td>540</td><td> 2</td><td> 923</td><td> 850</td><td> 33</td><td>AA</td><td>1141</td><td>N619AA</td><td>JFK</td><td>MIA</td><td>160</td><td>1089</td><td>5</td><td>40</td><td>2013-01-01 05:00:00</td></tr>\n",
              "\t<tr><td>2013</td><td>1</td><td>1</td><td>544</td><td>545</td><td>-1</td><td>1004</td><td>1022</td><td>-18</td><td>B6</td><td> 725</td><td>N804JB</td><td>JFK</td><td>BQN</td><td>183</td><td>1576</td><td>5</td><td>45</td><td>2013-01-01 05:00:00</td></tr>\n",
              "\t<tr><td>2013</td><td>1</td><td>1</td><td>554</td><td>600</td><td>-6</td><td> 812</td><td> 837</td><td>-25</td><td>DL</td><td> 461</td><td>N668DN</td><td>LGA</td><td>ATL</td><td>116</td><td> 762</td><td>6</td><td> 0</td><td>2013-01-01 06:00:00</td></tr>\n",
              "\t<tr><td>2013</td><td>1</td><td>1</td><td>554</td><td>558</td><td>-4</td><td> 740</td><td> 728</td><td> 12</td><td>UA</td><td>1696</td><td>N39463</td><td>EWR</td><td>ORD</td><td>150</td><td> 719</td><td>5</td><td>58</td><td>2013-01-01 05:00:00</td></tr>\n",
              "</tbody>\n",
              "</table>\n"
            ],
            "text/markdown": "\nA tibble: 6 × 19\n\n| year &lt;int&gt; | month &lt;int&gt; | day &lt;int&gt; | dep_time &lt;int&gt; | sched_dep_time &lt;int&gt; | dep_delay &lt;dbl&gt; | arr_time &lt;int&gt; | sched_arr_time &lt;int&gt; | arr_delay &lt;dbl&gt; | carrier &lt;chr&gt; | flight &lt;int&gt; | tailnum &lt;chr&gt; | origin &lt;chr&gt; | dest &lt;chr&gt; | air_time &lt;dbl&gt; | distance &lt;dbl&gt; | hour &lt;dbl&gt; | minute &lt;dbl&gt; | time_hour &lt;dttm&gt; |\n|---|---|---|---|---|---|---|---|---|---|---|---|---|---|---|---|---|---|---|\n| 2013 | 1 | 1 | 517 | 515 |  2 |  830 |  819 |  11 | UA | 1545 | N14228 | EWR | IAH | 227 | 1400 | 5 | 15 | 2013-01-01 05:00:00 |\n| 2013 | 1 | 1 | 533 | 529 |  4 |  850 |  830 |  20 | UA | 1714 | N24211 | LGA | IAH | 227 | 1416 | 5 | 29 | 2013-01-01 05:00:00 |\n| 2013 | 1 | 1 | 542 | 540 |  2 |  923 |  850 |  33 | AA | 1141 | N619AA | JFK | MIA | 160 | 1089 | 5 | 40 | 2013-01-01 05:00:00 |\n| 2013 | 1 | 1 | 544 | 545 | -1 | 1004 | 1022 | -18 | B6 |  725 | N804JB | JFK | BQN | 183 | 1576 | 5 | 45 | 2013-01-01 05:00:00 |\n| 2013 | 1 | 1 | 554 | 600 | -6 |  812 |  837 | -25 | DL |  461 | N668DN | LGA | ATL | 116 |  762 | 6 |  0 | 2013-01-01 06:00:00 |\n| 2013 | 1 | 1 | 554 | 558 | -4 |  740 |  728 |  12 | UA | 1696 | N39463 | EWR | ORD | 150 |  719 | 5 | 58 | 2013-01-01 05:00:00 |\n\n",
            "text/latex": "A tibble: 6 × 19\n\\begin{tabular}{lllllllllllllllllll}\n year & month & day & dep\\_time & sched\\_dep\\_time & dep\\_delay & arr\\_time & sched\\_arr\\_time & arr\\_delay & carrier & flight & tailnum & origin & dest & air\\_time & distance & hour & minute & time\\_hour\\\\\n <int> & <int> & <int> & <int> & <int> & <dbl> & <int> & <int> & <dbl> & <chr> & <int> & <chr> & <chr> & <chr> & <dbl> & <dbl> & <dbl> & <dbl> & <dttm>\\\\\n\\hline\n\t 2013 & 1 & 1 & 517 & 515 &  2 &  830 &  819 &  11 & UA & 1545 & N14228 & EWR & IAH & 227 & 1400 & 5 & 15 & 2013-01-01 05:00:00\\\\\n\t 2013 & 1 & 1 & 533 & 529 &  4 &  850 &  830 &  20 & UA & 1714 & N24211 & LGA & IAH & 227 & 1416 & 5 & 29 & 2013-01-01 05:00:00\\\\\n\t 2013 & 1 & 1 & 542 & 540 &  2 &  923 &  850 &  33 & AA & 1141 & N619AA & JFK & MIA & 160 & 1089 & 5 & 40 & 2013-01-01 05:00:00\\\\\n\t 2013 & 1 & 1 & 544 & 545 & -1 & 1004 & 1022 & -18 & B6 &  725 & N804JB & JFK & BQN & 183 & 1576 & 5 & 45 & 2013-01-01 05:00:00\\\\\n\t 2013 & 1 & 1 & 554 & 600 & -6 &  812 &  837 & -25 & DL &  461 & N668DN & LGA & ATL & 116 &  762 & 6 &  0 & 2013-01-01 06:00:00\\\\\n\t 2013 & 1 & 1 & 554 & 558 & -4 &  740 &  728 &  12 & UA & 1696 & N39463 & EWR & ORD & 150 &  719 & 5 & 58 & 2013-01-01 05:00:00\\\\\n\\end{tabular}\n",
            "text/plain": [
              "  year month day dep_time sched_dep_time dep_delay arr_time sched_arr_time\n",
              "1 2013 1     1   517      515             2         830      819          \n",
              "2 2013 1     1   533      529             4         850      830          \n",
              "3 2013 1     1   542      540             2         923      850          \n",
              "4 2013 1     1   544      545            -1        1004     1022          \n",
              "5 2013 1     1   554      600            -6         812      837          \n",
              "6 2013 1     1   554      558            -4         740      728          \n",
              "  arr_delay carrier flight tailnum origin dest air_time distance hour minute\n",
              "1  11       UA      1545   N14228  EWR    IAH  227      1400     5    15    \n",
              "2  20       UA      1714   N24211  LGA    IAH  227      1416     5    29    \n",
              "3  33       AA      1141   N619AA  JFK    MIA  160      1089     5    40    \n",
              "4 -18       B6       725   N804JB  JFK    BQN  183      1576     5    45    \n",
              "5 -25       DL       461   N668DN  LGA    ATL  116       762     6     0    \n",
              "6  12       UA      1696   N39463  EWR    ORD  150       719     5    58    \n",
              "  time_hour          \n",
              "1 2013-01-01 05:00:00\n",
              "2 2013-01-01 05:00:00\n",
              "3 2013-01-01 05:00:00\n",
              "4 2013-01-01 05:00:00\n",
              "5 2013-01-01 06:00:00\n",
              "6 2013-01-01 05:00:00"
            ]
          },
          "metadata": {}
        }
      ]
    },
    {
      "cell_type": "markdown",
      "source": [
        "Seleccionar todos los vuelos que salieron el veinticinco de Diciembre."
      ],
      "metadata": {
        "id": "B4PMh4q_p-gb"
      }
    },
    {
      "cell_type": "code",
      "source": [
        "head(flights[ flights$month == 12 & flights$day == 25, ])"
      ],
      "metadata": {
        "id": "pgimqxCop9at",
        "outputId": "3347d8dc-db20-4f9d-b1d1-6672189be94b",
        "colab": {
          "base_uri": "https://localhost:8080/",
          "height": 410
        }
      },
      "execution_count": null,
      "outputs": [
        {
          "output_type": "display_data",
          "data": {
            "text/html": [
              "<table class=\"dataframe\">\n",
              "<caption>A tibble: 6 × 19</caption>\n",
              "<thead>\n",
              "\t<tr><th scope=col>year</th><th scope=col>month</th><th scope=col>day</th><th scope=col>dep_time</th><th scope=col>sched_dep_time</th><th scope=col>dep_delay</th><th scope=col>arr_time</th><th scope=col>sched_arr_time</th><th scope=col>arr_delay</th><th scope=col>carrier</th><th scope=col>flight</th><th scope=col>tailnum</th><th scope=col>origin</th><th scope=col>dest</th><th scope=col>air_time</th><th scope=col>distance</th><th scope=col>hour</th><th scope=col>minute</th><th scope=col>time_hour</th></tr>\n",
              "\t<tr><th scope=col>&lt;int&gt;</th><th scope=col>&lt;int&gt;</th><th scope=col>&lt;int&gt;</th><th scope=col>&lt;int&gt;</th><th scope=col>&lt;int&gt;</th><th scope=col>&lt;dbl&gt;</th><th scope=col>&lt;int&gt;</th><th scope=col>&lt;int&gt;</th><th scope=col>&lt;dbl&gt;</th><th scope=col>&lt;chr&gt;</th><th scope=col>&lt;int&gt;</th><th scope=col>&lt;chr&gt;</th><th scope=col>&lt;chr&gt;</th><th scope=col>&lt;chr&gt;</th><th scope=col>&lt;dbl&gt;</th><th scope=col>&lt;dbl&gt;</th><th scope=col>&lt;dbl&gt;</th><th scope=col>&lt;dbl&gt;</th><th scope=col>&lt;dttm&gt;</th></tr>\n",
              "</thead>\n",
              "<tbody>\n",
              "\t<tr><td>2013</td><td>12</td><td>25</td><td>456</td><td>500</td><td>-4</td><td> 649</td><td> 651</td><td> -2</td><td>US</td><td>1895</td><td>N156UW</td><td>EWR</td><td>CLT</td><td> 98</td><td> 529</td><td>5</td><td> 0</td><td>2013-12-25 05:00:00</td></tr>\n",
              "\t<tr><td>2013</td><td>12</td><td>25</td><td>524</td><td>515</td><td> 9</td><td> 805</td><td> 814</td><td> -9</td><td>UA</td><td>1016</td><td>N32404</td><td>EWR</td><td>IAH</td><td>203</td><td>1400</td><td>5</td><td>15</td><td>2013-12-25 05:00:00</td></tr>\n",
              "\t<tr><td>2013</td><td>12</td><td>25</td><td>542</td><td>540</td><td> 2</td><td> 832</td><td> 850</td><td>-18</td><td>AA</td><td>2243</td><td>N5EBAA</td><td>JFK</td><td>MIA</td><td>146</td><td>1089</td><td>5</td><td>40</td><td>2013-12-25 05:00:00</td></tr>\n",
              "\t<tr><td>2013</td><td>12</td><td>25</td><td>546</td><td>550</td><td>-4</td><td>1022</td><td>1027</td><td> -5</td><td>B6</td><td> 939</td><td>N665JB</td><td>JFK</td><td>BQN</td><td>191</td><td>1576</td><td>5</td><td>50</td><td>2013-12-25 05:00:00</td></tr>\n",
              "\t<tr><td>2013</td><td>12</td><td>25</td><td>556</td><td>600</td><td>-4</td><td> 730</td><td> 745</td><td>-15</td><td>AA</td><td> 301</td><td>N3JLAA</td><td>LGA</td><td>ORD</td><td>123</td><td> 733</td><td>6</td><td> 0</td><td>2013-12-25 06:00:00</td></tr>\n",
              "\t<tr><td>2013</td><td>12</td><td>25</td><td>557</td><td>600</td><td>-3</td><td> 743</td><td> 752</td><td> -9</td><td>DL</td><td> 731</td><td>N369NB</td><td>LGA</td><td>DTW</td><td> 88</td><td> 502</td><td>6</td><td> 0</td><td>2013-12-25 06:00:00</td></tr>\n",
              "</tbody>\n",
              "</table>\n"
            ],
            "text/markdown": "\nA tibble: 6 × 19\n\n| year &lt;int&gt; | month &lt;int&gt; | day &lt;int&gt; | dep_time &lt;int&gt; | sched_dep_time &lt;int&gt; | dep_delay &lt;dbl&gt; | arr_time &lt;int&gt; | sched_arr_time &lt;int&gt; | arr_delay &lt;dbl&gt; | carrier &lt;chr&gt; | flight &lt;int&gt; | tailnum &lt;chr&gt; | origin &lt;chr&gt; | dest &lt;chr&gt; | air_time &lt;dbl&gt; | distance &lt;dbl&gt; | hour &lt;dbl&gt; | minute &lt;dbl&gt; | time_hour &lt;dttm&gt; |\n|---|---|---|---|---|---|---|---|---|---|---|---|---|---|---|---|---|---|---|\n| 2013 | 12 | 25 | 456 | 500 | -4 |  649 |  651 |  -2 | US | 1895 | N156UW | EWR | CLT |  98 |  529 | 5 |  0 | 2013-12-25 05:00:00 |\n| 2013 | 12 | 25 | 524 | 515 |  9 |  805 |  814 |  -9 | UA | 1016 | N32404 | EWR | IAH | 203 | 1400 | 5 | 15 | 2013-12-25 05:00:00 |\n| 2013 | 12 | 25 | 542 | 540 |  2 |  832 |  850 | -18 | AA | 2243 | N5EBAA | JFK | MIA | 146 | 1089 | 5 | 40 | 2013-12-25 05:00:00 |\n| 2013 | 12 | 25 | 546 | 550 | -4 | 1022 | 1027 |  -5 | B6 |  939 | N665JB | JFK | BQN | 191 | 1576 | 5 | 50 | 2013-12-25 05:00:00 |\n| 2013 | 12 | 25 | 556 | 600 | -4 |  730 |  745 | -15 | AA |  301 | N3JLAA | LGA | ORD | 123 |  733 | 6 |  0 | 2013-12-25 06:00:00 |\n| 2013 | 12 | 25 | 557 | 600 | -3 |  743 |  752 |  -9 | DL |  731 | N369NB | LGA | DTW |  88 |  502 | 6 |  0 | 2013-12-25 06:00:00 |\n\n",
            "text/latex": "A tibble: 6 × 19\n\\begin{tabular}{lllllllllllllllllll}\n year & month & day & dep\\_time & sched\\_dep\\_time & dep\\_delay & arr\\_time & sched\\_arr\\_time & arr\\_delay & carrier & flight & tailnum & origin & dest & air\\_time & distance & hour & minute & time\\_hour\\\\\n <int> & <int> & <int> & <int> & <int> & <dbl> & <int> & <int> & <dbl> & <chr> & <int> & <chr> & <chr> & <chr> & <dbl> & <dbl> & <dbl> & <dbl> & <dttm>\\\\\n\\hline\n\t 2013 & 12 & 25 & 456 & 500 & -4 &  649 &  651 &  -2 & US & 1895 & N156UW & EWR & CLT &  98 &  529 & 5 &  0 & 2013-12-25 05:00:00\\\\\n\t 2013 & 12 & 25 & 524 & 515 &  9 &  805 &  814 &  -9 & UA & 1016 & N32404 & EWR & IAH & 203 & 1400 & 5 & 15 & 2013-12-25 05:00:00\\\\\n\t 2013 & 12 & 25 & 542 & 540 &  2 &  832 &  850 & -18 & AA & 2243 & N5EBAA & JFK & MIA & 146 & 1089 & 5 & 40 & 2013-12-25 05:00:00\\\\\n\t 2013 & 12 & 25 & 546 & 550 & -4 & 1022 & 1027 &  -5 & B6 &  939 & N665JB & JFK & BQN & 191 & 1576 & 5 & 50 & 2013-12-25 05:00:00\\\\\n\t 2013 & 12 & 25 & 556 & 600 & -4 &  730 &  745 & -15 & AA &  301 & N3JLAA & LGA & ORD & 123 &  733 & 6 &  0 & 2013-12-25 06:00:00\\\\\n\t 2013 & 12 & 25 & 557 & 600 & -3 &  743 &  752 &  -9 & DL &  731 & N369NB & LGA & DTW &  88 &  502 & 6 &  0 & 2013-12-25 06:00:00\\\\\n\\end{tabular}\n",
            "text/plain": [
              "  year month day dep_time sched_dep_time dep_delay arr_time sched_arr_time\n",
              "1 2013 12    25  456      500            -4         649      651          \n",
              "2 2013 12    25  524      515             9         805      814          \n",
              "3 2013 12    25  542      540             2         832      850          \n",
              "4 2013 12    25  546      550            -4        1022     1027          \n",
              "5 2013 12    25  556      600            -4         730      745          \n",
              "6 2013 12    25  557      600            -3         743      752          \n",
              "  arr_delay carrier flight tailnum origin dest air_time distance hour minute\n",
              "1  -2       US      1895   N156UW  EWR    CLT   98       529     5     0    \n",
              "2  -9       UA      1016   N32404  EWR    IAH  203      1400     5    15    \n",
              "3 -18       AA      2243   N5EBAA  JFK    MIA  146      1089     5    40    \n",
              "4  -5       B6       939   N665JB  JFK    BQN  191      1576     5    50    \n",
              "5 -15       AA       301   N3JLAA  LGA    ORD  123       733     6     0    \n",
              "6  -9       DL       731   N369NB  LGA    DTW   88       502     6     0    \n",
              "  time_hour          \n",
              "1 2013-12-25 05:00:00\n",
              "2 2013-12-25 05:00:00\n",
              "3 2013-12-25 05:00:00\n",
              "4 2013-12-25 05:00:00\n",
              "5 2013-12-25 06:00:00\n",
              "6 2013-12-25 06:00:00"
            ]
          },
          "metadata": {}
        }
      ]
    },
    {
      "cell_type": "markdown",
      "source": [
        "Cuál es el problema con el siguiente código:\n",
        "\n",
        "```\n",
        "flights[flights$moth = 1, ]\n",
        "```"
      ],
      "metadata": {
        "id": "2z0fsFK7q3a3"
      }
    },
    {
      "cell_type": "code",
      "source": [
        "flights[flights$month = 1, ]"
      ],
      "metadata": {
        "id": "nzjp7u86rx4O",
        "outputId": "e64f5d9a-c104-48ce-be70-78bef8033997",
        "colab": {
          "base_uri": "https://localhost:8080/",
          "height": 106
        }
      },
      "execution_count": null,
      "outputs": [
        {
          "output_type": "error",
          "ename": "ERROR",
          "evalue": "Error in parse(text = x, srcfile = src): <text>:1:22: unexpected '='\n1: flights[flights$moth =\n                         ^\n",
          "traceback": [
            "Error in parse(text = x, srcfile = src): <text>:1:22: unexpected '='\n1: flights[flights$moth =\n                         ^\nTraceback:\n"
          ]
        }
      ]
    },
    {
      "cell_type": "code",
      "source": [
        "head(flights[flights$month == 1, ])"
      ],
      "metadata": {
        "id": "u4GpWPFOscbN",
        "outputId": "7c57c138-25e2-449a-d13f-c24df5ab8988",
        "colab": {
          "base_uri": "https://localhost:8080/",
          "height": 410
        }
      },
      "execution_count": null,
      "outputs": [
        {
          "output_type": "display_data",
          "data": {
            "text/html": [
              "<table class=\"dataframe\">\n",
              "<caption>A tibble: 6 × 19</caption>\n",
              "<thead>\n",
              "\t<tr><th scope=col>year</th><th scope=col>month</th><th scope=col>day</th><th scope=col>dep_time</th><th scope=col>sched_dep_time</th><th scope=col>dep_delay</th><th scope=col>arr_time</th><th scope=col>sched_arr_time</th><th scope=col>arr_delay</th><th scope=col>carrier</th><th scope=col>flight</th><th scope=col>tailnum</th><th scope=col>origin</th><th scope=col>dest</th><th scope=col>air_time</th><th scope=col>distance</th><th scope=col>hour</th><th scope=col>minute</th><th scope=col>time_hour</th></tr>\n",
              "\t<tr><th scope=col>&lt;int&gt;</th><th scope=col>&lt;int&gt;</th><th scope=col>&lt;int&gt;</th><th scope=col>&lt;int&gt;</th><th scope=col>&lt;int&gt;</th><th scope=col>&lt;dbl&gt;</th><th scope=col>&lt;int&gt;</th><th scope=col>&lt;int&gt;</th><th scope=col>&lt;dbl&gt;</th><th scope=col>&lt;chr&gt;</th><th scope=col>&lt;int&gt;</th><th scope=col>&lt;chr&gt;</th><th scope=col>&lt;chr&gt;</th><th scope=col>&lt;chr&gt;</th><th scope=col>&lt;dbl&gt;</th><th scope=col>&lt;dbl&gt;</th><th scope=col>&lt;dbl&gt;</th><th scope=col>&lt;dbl&gt;</th><th scope=col>&lt;dttm&gt;</th></tr>\n",
              "</thead>\n",
              "<tbody>\n",
              "\t<tr><td>2013</td><td>1</td><td>1</td><td>517</td><td>515</td><td> 2</td><td> 830</td><td> 819</td><td> 11</td><td>UA</td><td>1545</td><td>N14228</td><td>EWR</td><td>IAH</td><td>227</td><td>1400</td><td>5</td><td>15</td><td>2013-01-01 05:00:00</td></tr>\n",
              "\t<tr><td>2013</td><td>1</td><td>1</td><td>533</td><td>529</td><td> 4</td><td> 850</td><td> 830</td><td> 20</td><td>UA</td><td>1714</td><td>N24211</td><td>LGA</td><td>IAH</td><td>227</td><td>1416</td><td>5</td><td>29</td><td>2013-01-01 05:00:00</td></tr>\n",
              "\t<tr><td>2013</td><td>1</td><td>1</td><td>542</td><td>540</td><td> 2</td><td> 923</td><td> 850</td><td> 33</td><td>AA</td><td>1141</td><td>N619AA</td><td>JFK</td><td>MIA</td><td>160</td><td>1089</td><td>5</td><td>40</td><td>2013-01-01 05:00:00</td></tr>\n",
              "\t<tr><td>2013</td><td>1</td><td>1</td><td>544</td><td>545</td><td>-1</td><td>1004</td><td>1022</td><td>-18</td><td>B6</td><td> 725</td><td>N804JB</td><td>JFK</td><td>BQN</td><td>183</td><td>1576</td><td>5</td><td>45</td><td>2013-01-01 05:00:00</td></tr>\n",
              "\t<tr><td>2013</td><td>1</td><td>1</td><td>554</td><td>600</td><td>-6</td><td> 812</td><td> 837</td><td>-25</td><td>DL</td><td> 461</td><td>N668DN</td><td>LGA</td><td>ATL</td><td>116</td><td> 762</td><td>6</td><td> 0</td><td>2013-01-01 06:00:00</td></tr>\n",
              "\t<tr><td>2013</td><td>1</td><td>1</td><td>554</td><td>558</td><td>-4</td><td> 740</td><td> 728</td><td> 12</td><td>UA</td><td>1696</td><td>N39463</td><td>EWR</td><td>ORD</td><td>150</td><td> 719</td><td>5</td><td>58</td><td>2013-01-01 05:00:00</td></tr>\n",
              "</tbody>\n",
              "</table>\n"
            ],
            "text/markdown": "\nA tibble: 6 × 19\n\n| year &lt;int&gt; | month &lt;int&gt; | day &lt;int&gt; | dep_time &lt;int&gt; | sched_dep_time &lt;int&gt; | dep_delay &lt;dbl&gt; | arr_time &lt;int&gt; | sched_arr_time &lt;int&gt; | arr_delay &lt;dbl&gt; | carrier &lt;chr&gt; | flight &lt;int&gt; | tailnum &lt;chr&gt; | origin &lt;chr&gt; | dest &lt;chr&gt; | air_time &lt;dbl&gt; | distance &lt;dbl&gt; | hour &lt;dbl&gt; | minute &lt;dbl&gt; | time_hour &lt;dttm&gt; |\n|---|---|---|---|---|---|---|---|---|---|---|---|---|---|---|---|---|---|---|\n| 2013 | 1 | 1 | 517 | 515 |  2 |  830 |  819 |  11 | UA | 1545 | N14228 | EWR | IAH | 227 | 1400 | 5 | 15 | 2013-01-01 05:00:00 |\n| 2013 | 1 | 1 | 533 | 529 |  4 |  850 |  830 |  20 | UA | 1714 | N24211 | LGA | IAH | 227 | 1416 | 5 | 29 | 2013-01-01 05:00:00 |\n| 2013 | 1 | 1 | 542 | 540 |  2 |  923 |  850 |  33 | AA | 1141 | N619AA | JFK | MIA | 160 | 1089 | 5 | 40 | 2013-01-01 05:00:00 |\n| 2013 | 1 | 1 | 544 | 545 | -1 | 1004 | 1022 | -18 | B6 |  725 | N804JB | JFK | BQN | 183 | 1576 | 5 | 45 | 2013-01-01 05:00:00 |\n| 2013 | 1 | 1 | 554 | 600 | -6 |  812 |  837 | -25 | DL |  461 | N668DN | LGA | ATL | 116 |  762 | 6 |  0 | 2013-01-01 06:00:00 |\n| 2013 | 1 | 1 | 554 | 558 | -4 |  740 |  728 |  12 | UA | 1696 | N39463 | EWR | ORD | 150 |  719 | 5 | 58 | 2013-01-01 05:00:00 |\n\n",
            "text/latex": "A tibble: 6 × 19\n\\begin{tabular}{lllllllllllllllllll}\n year & month & day & dep\\_time & sched\\_dep\\_time & dep\\_delay & arr\\_time & sched\\_arr\\_time & arr\\_delay & carrier & flight & tailnum & origin & dest & air\\_time & distance & hour & minute & time\\_hour\\\\\n <int> & <int> & <int> & <int> & <int> & <dbl> & <int> & <int> & <dbl> & <chr> & <int> & <chr> & <chr> & <chr> & <dbl> & <dbl> & <dbl> & <dbl> & <dttm>\\\\\n\\hline\n\t 2013 & 1 & 1 & 517 & 515 &  2 &  830 &  819 &  11 & UA & 1545 & N14228 & EWR & IAH & 227 & 1400 & 5 & 15 & 2013-01-01 05:00:00\\\\\n\t 2013 & 1 & 1 & 533 & 529 &  4 &  850 &  830 &  20 & UA & 1714 & N24211 & LGA & IAH & 227 & 1416 & 5 & 29 & 2013-01-01 05:00:00\\\\\n\t 2013 & 1 & 1 & 542 & 540 &  2 &  923 &  850 &  33 & AA & 1141 & N619AA & JFK & MIA & 160 & 1089 & 5 & 40 & 2013-01-01 05:00:00\\\\\n\t 2013 & 1 & 1 & 544 & 545 & -1 & 1004 & 1022 & -18 & B6 &  725 & N804JB & JFK & BQN & 183 & 1576 & 5 & 45 & 2013-01-01 05:00:00\\\\\n\t 2013 & 1 & 1 & 554 & 600 & -6 &  812 &  837 & -25 & DL &  461 & N668DN & LGA & ATL & 116 &  762 & 6 &  0 & 2013-01-01 06:00:00\\\\\n\t 2013 & 1 & 1 & 554 & 558 & -4 &  740 &  728 &  12 & UA & 1696 & N39463 & EWR & ORD & 150 &  719 & 5 & 58 & 2013-01-01 05:00:00\\\\\n\\end{tabular}\n",
            "text/plain": [
              "  year month day dep_time sched_dep_time dep_delay arr_time sched_arr_time\n",
              "1 2013 1     1   517      515             2         830      819          \n",
              "2 2013 1     1   533      529             4         850      830          \n",
              "3 2013 1     1   542      540             2         923      850          \n",
              "4 2013 1     1   544      545            -1        1004     1022          \n",
              "5 2013 1     1   554      600            -6         812      837          \n",
              "6 2013 1     1   554      558            -4         740      728          \n",
              "  arr_delay carrier flight tailnum origin dest air_time distance hour minute\n",
              "1  11       UA      1545   N14228  EWR    IAH  227      1400     5    15    \n",
              "2  20       UA      1714   N24211  LGA    IAH  227      1416     5    29    \n",
              "3  33       AA      1141   N619AA  JFK    MIA  160      1089     5    40    \n",
              "4 -18       B6       725   N804JB  JFK    BQN  183      1576     5    45    \n",
              "5 -25       DL       461   N668DN  LGA    ATL  116       762     6     0    \n",
              "6  12       UA      1696   N39463  EWR    ORD  150       719     5    58    \n",
              "  time_hour          \n",
              "1 2013-01-01 05:00:00\n",
              "2 2013-01-01 05:00:00\n",
              "3 2013-01-01 05:00:00\n",
              "4 2013-01-01 05:00:00\n",
              "5 2013-01-01 06:00:00\n",
              "6 2013-01-01 05:00:00"
            ]
          },
          "metadata": {}
        }
      ]
    },
    {
      "cell_type": "markdown",
      "source": [
        "Seleccionar todos los vuelos que salieron en Noviembre o Diciembre."
      ],
      "metadata": {
        "id": "7_TIYetGsqwX"
      }
    },
    {
      "cell_type": "code",
      "source": [
        "head(flights[  flights$month == 11 | flights$month == 12,  ])"
      ],
      "metadata": {
        "id": "WDUxIhNrsuYP",
        "outputId": "a12ad135-dd24-4775-be77-ee9bc497a227",
        "colab": {
          "base_uri": "https://localhost:8080/",
          "height": 410
        }
      },
      "execution_count": null,
      "outputs": [
        {
          "output_type": "display_data",
          "data": {
            "text/html": [
              "<table class=\"dataframe\">\n",
              "<caption>A tibble: 6 × 19</caption>\n",
              "<thead>\n",
              "\t<tr><th scope=col>year</th><th scope=col>month</th><th scope=col>day</th><th scope=col>dep_time</th><th scope=col>sched_dep_time</th><th scope=col>dep_delay</th><th scope=col>arr_time</th><th scope=col>sched_arr_time</th><th scope=col>arr_delay</th><th scope=col>carrier</th><th scope=col>flight</th><th scope=col>tailnum</th><th scope=col>origin</th><th scope=col>dest</th><th scope=col>air_time</th><th scope=col>distance</th><th scope=col>hour</th><th scope=col>minute</th><th scope=col>time_hour</th></tr>\n",
              "\t<tr><th scope=col>&lt;int&gt;</th><th scope=col>&lt;int&gt;</th><th scope=col>&lt;int&gt;</th><th scope=col>&lt;int&gt;</th><th scope=col>&lt;int&gt;</th><th scope=col>&lt;dbl&gt;</th><th scope=col>&lt;int&gt;</th><th scope=col>&lt;int&gt;</th><th scope=col>&lt;dbl&gt;</th><th scope=col>&lt;chr&gt;</th><th scope=col>&lt;int&gt;</th><th scope=col>&lt;chr&gt;</th><th scope=col>&lt;chr&gt;</th><th scope=col>&lt;chr&gt;</th><th scope=col>&lt;dbl&gt;</th><th scope=col>&lt;dbl&gt;</th><th scope=col>&lt;dbl&gt;</th><th scope=col>&lt;dbl&gt;</th><th scope=col>&lt;dttm&gt;</th></tr>\n",
              "</thead>\n",
              "<tbody>\n",
              "\t<tr><td>2013</td><td>11</td><td>1</td><td>  5</td><td>2359</td><td>  6</td><td>352</td><td> 345</td><td>  7</td><td>B6</td><td> 745</td><td>N568JB</td><td>JFK</td><td>PSE</td><td>205</td><td>1617</td><td>23</td><td>59</td><td>2013-11-01 23:00:00</td></tr>\n",
              "\t<tr><td>2013</td><td>11</td><td>1</td><td> 35</td><td>2250</td><td>105</td><td>123</td><td>2356</td><td> 87</td><td>B6</td><td>1816</td><td>N353JB</td><td>JFK</td><td>SYR</td><td> 36</td><td> 209</td><td>22</td><td>50</td><td>2013-11-01 22:00:00</td></tr>\n",
              "\t<tr><td>2013</td><td>11</td><td>1</td><td>455</td><td> 500</td><td> -5</td><td>641</td><td> 651</td><td>-10</td><td>US</td><td>1895</td><td>N192UW</td><td>EWR</td><td>CLT</td><td> 88</td><td> 529</td><td> 5</td><td> 0</td><td>2013-11-01 05:00:00</td></tr>\n",
              "\t<tr><td>2013</td><td>11</td><td>1</td><td>539</td><td> 545</td><td> -6</td><td>856</td><td> 827</td><td> 29</td><td>UA</td><td>1714</td><td>N38727</td><td>LGA</td><td>IAH</td><td>229</td><td>1416</td><td> 5</td><td>45</td><td>2013-11-01 05:00:00</td></tr>\n",
              "\t<tr><td>2013</td><td>11</td><td>1</td><td>542</td><td> 545</td><td> -3</td><td>831</td><td> 855</td><td>-24</td><td>AA</td><td>2243</td><td>N5CLAA</td><td>JFK</td><td>MIA</td><td>147</td><td>1089</td><td> 5</td><td>45</td><td>2013-11-01 05:00:00</td></tr>\n",
              "\t<tr><td>2013</td><td>11</td><td>1</td><td>549</td><td> 600</td><td>-11</td><td>912</td><td> 923</td><td>-11</td><td>UA</td><td> 303</td><td>N595UA</td><td>JFK</td><td>SFO</td><td>359</td><td>2586</td><td> 6</td><td> 0</td><td>2013-11-01 06:00:00</td></tr>\n",
              "</tbody>\n",
              "</table>\n"
            ],
            "text/markdown": "\nA tibble: 6 × 19\n\n| year &lt;int&gt; | month &lt;int&gt; | day &lt;int&gt; | dep_time &lt;int&gt; | sched_dep_time &lt;int&gt; | dep_delay &lt;dbl&gt; | arr_time &lt;int&gt; | sched_arr_time &lt;int&gt; | arr_delay &lt;dbl&gt; | carrier &lt;chr&gt; | flight &lt;int&gt; | tailnum &lt;chr&gt; | origin &lt;chr&gt; | dest &lt;chr&gt; | air_time &lt;dbl&gt; | distance &lt;dbl&gt; | hour &lt;dbl&gt; | minute &lt;dbl&gt; | time_hour &lt;dttm&gt; |\n|---|---|---|---|---|---|---|---|---|---|---|---|---|---|---|---|---|---|---|\n| 2013 | 11 | 1 |   5 | 2359 |   6 | 352 |  345 |   7 | B6 |  745 | N568JB | JFK | PSE | 205 | 1617 | 23 | 59 | 2013-11-01 23:00:00 |\n| 2013 | 11 | 1 |  35 | 2250 | 105 | 123 | 2356 |  87 | B6 | 1816 | N353JB | JFK | SYR |  36 |  209 | 22 | 50 | 2013-11-01 22:00:00 |\n| 2013 | 11 | 1 | 455 |  500 |  -5 | 641 |  651 | -10 | US | 1895 | N192UW | EWR | CLT |  88 |  529 |  5 |  0 | 2013-11-01 05:00:00 |\n| 2013 | 11 | 1 | 539 |  545 |  -6 | 856 |  827 |  29 | UA | 1714 | N38727 | LGA | IAH | 229 | 1416 |  5 | 45 | 2013-11-01 05:00:00 |\n| 2013 | 11 | 1 | 542 |  545 |  -3 | 831 |  855 | -24 | AA | 2243 | N5CLAA | JFK | MIA | 147 | 1089 |  5 | 45 | 2013-11-01 05:00:00 |\n| 2013 | 11 | 1 | 549 |  600 | -11 | 912 |  923 | -11 | UA |  303 | N595UA | JFK | SFO | 359 | 2586 |  6 |  0 | 2013-11-01 06:00:00 |\n\n",
            "text/latex": "A tibble: 6 × 19\n\\begin{tabular}{lllllllllllllllllll}\n year & month & day & dep\\_time & sched\\_dep\\_time & dep\\_delay & arr\\_time & sched\\_arr\\_time & arr\\_delay & carrier & flight & tailnum & origin & dest & air\\_time & distance & hour & minute & time\\_hour\\\\\n <int> & <int> & <int> & <int> & <int> & <dbl> & <int> & <int> & <dbl> & <chr> & <int> & <chr> & <chr> & <chr> & <dbl> & <dbl> & <dbl> & <dbl> & <dttm>\\\\\n\\hline\n\t 2013 & 11 & 1 &   5 & 2359 &   6 & 352 &  345 &   7 & B6 &  745 & N568JB & JFK & PSE & 205 & 1617 & 23 & 59 & 2013-11-01 23:00:00\\\\\n\t 2013 & 11 & 1 &  35 & 2250 & 105 & 123 & 2356 &  87 & B6 & 1816 & N353JB & JFK & SYR &  36 &  209 & 22 & 50 & 2013-11-01 22:00:00\\\\\n\t 2013 & 11 & 1 & 455 &  500 &  -5 & 641 &  651 & -10 & US & 1895 & N192UW & EWR & CLT &  88 &  529 &  5 &  0 & 2013-11-01 05:00:00\\\\\n\t 2013 & 11 & 1 & 539 &  545 &  -6 & 856 &  827 &  29 & UA & 1714 & N38727 & LGA & IAH & 229 & 1416 &  5 & 45 & 2013-11-01 05:00:00\\\\\n\t 2013 & 11 & 1 & 542 &  545 &  -3 & 831 &  855 & -24 & AA & 2243 & N5CLAA & JFK & MIA & 147 & 1089 &  5 & 45 & 2013-11-01 05:00:00\\\\\n\t 2013 & 11 & 1 & 549 &  600 & -11 & 912 &  923 & -11 & UA &  303 & N595UA & JFK & SFO & 359 & 2586 &  6 &  0 & 2013-11-01 06:00:00\\\\\n\\end{tabular}\n",
            "text/plain": [
              "  year month day dep_time sched_dep_time dep_delay arr_time sched_arr_time\n",
              "1 2013 11    1     5      2359             6       352       345          \n",
              "2 2013 11    1    35      2250           105       123      2356          \n",
              "3 2013 11    1   455       500            -5       641       651          \n",
              "4 2013 11    1   539       545            -6       856       827          \n",
              "5 2013 11    1   542       545            -3       831       855          \n",
              "6 2013 11    1   549       600           -11       912       923          \n",
              "  arr_delay carrier flight tailnum origin dest air_time distance hour minute\n",
              "1   7       B6       745   N568JB  JFK    PSE  205      1617     23   59    \n",
              "2  87       B6      1816   N353JB  JFK    SYR   36       209     22   50    \n",
              "3 -10       US      1895   N192UW  EWR    CLT   88       529      5    0    \n",
              "4  29       UA      1714   N38727  LGA    IAH  229      1416      5   45    \n",
              "5 -24       AA      2243   N5CLAA  JFK    MIA  147      1089      5   45    \n",
              "6 -11       UA       303   N595UA  JFK    SFO  359      2586      6    0    \n",
              "  time_hour          \n",
              "1 2013-11-01 23:00:00\n",
              "2 2013-11-01 22:00:00\n",
              "3 2013-11-01 05:00:00\n",
              "4 2013-11-01 05:00:00\n",
              "5 2013-11-01 05:00:00\n",
              "6 2013-11-01 06:00:00"
            ]
          },
          "metadata": {}
        }
      ]
    },
    {
      "cell_type": "markdown",
      "source": [
        "Use el operador %in% para re-escribir el ejercicio anterior."
      ],
      "metadata": {
        "id": "btPokyCstC6w"
      }
    },
    {
      "cell_type": "code",
      "source": [
        " flights[flights$month %in% c(11, 12),  ]"
      ],
      "metadata": {
        "id": "ABKRdERGtF8-",
        "outputId": "45bef0e3-8329-4f8a-93c0-daca12897710",
        "colab": {
          "base_uri": "https://localhost:8080/",
          "height": 1000
        }
      },
      "execution_count": null,
      "outputs": [
        {
          "output_type": "display_data",
          "data": {
            "text/html": [
              "<table class=\"dataframe\">\n",
              "<caption>A tibble: 55403 × 19</caption>\n",
              "<thead>\n",
              "\t<tr><th scope=col>year</th><th scope=col>month</th><th scope=col>day</th><th scope=col>dep_time</th><th scope=col>sched_dep_time</th><th scope=col>dep_delay</th><th scope=col>arr_time</th><th scope=col>sched_arr_time</th><th scope=col>arr_delay</th><th scope=col>carrier</th><th scope=col>flight</th><th scope=col>tailnum</th><th scope=col>origin</th><th scope=col>dest</th><th scope=col>air_time</th><th scope=col>distance</th><th scope=col>hour</th><th scope=col>minute</th><th scope=col>time_hour</th></tr>\n",
              "\t<tr><th scope=col>&lt;int&gt;</th><th scope=col>&lt;int&gt;</th><th scope=col>&lt;int&gt;</th><th scope=col>&lt;int&gt;</th><th scope=col>&lt;int&gt;</th><th scope=col>&lt;dbl&gt;</th><th scope=col>&lt;int&gt;</th><th scope=col>&lt;int&gt;</th><th scope=col>&lt;dbl&gt;</th><th scope=col>&lt;chr&gt;</th><th scope=col>&lt;int&gt;</th><th scope=col>&lt;chr&gt;</th><th scope=col>&lt;chr&gt;</th><th scope=col>&lt;chr&gt;</th><th scope=col>&lt;dbl&gt;</th><th scope=col>&lt;dbl&gt;</th><th scope=col>&lt;dbl&gt;</th><th scope=col>&lt;dbl&gt;</th><th scope=col>&lt;dttm&gt;</th></tr>\n",
              "</thead>\n",
              "<tbody>\n",
              "\t<tr><td>2013</td><td>11</td><td>1</td><td>  5</td><td>2359</td><td>  6</td><td>352</td><td> 345</td><td>  7</td><td>B6</td><td> 745</td><td>N568JB</td><td>JFK</td><td>PSE</td><td>205</td><td>1617</td><td>23</td><td>59</td><td>2013-11-01 23:00:00</td></tr>\n",
              "\t<tr><td>2013</td><td>11</td><td>1</td><td> 35</td><td>2250</td><td>105</td><td>123</td><td>2356</td><td> 87</td><td>B6</td><td>1816</td><td>N353JB</td><td>JFK</td><td>SYR</td><td> 36</td><td> 209</td><td>22</td><td>50</td><td>2013-11-01 22:00:00</td></tr>\n",
              "\t<tr><td>2013</td><td>11</td><td>1</td><td>455</td><td> 500</td><td> -5</td><td>641</td><td> 651</td><td>-10</td><td>US</td><td>1895</td><td>N192UW</td><td>EWR</td><td>CLT</td><td> 88</td><td> 529</td><td> 5</td><td> 0</td><td>2013-11-01 05:00:00</td></tr>\n",
              "\t<tr><td>2013</td><td>11</td><td>1</td><td>539</td><td> 545</td><td> -6</td><td>856</td><td> 827</td><td> 29</td><td>UA</td><td>1714</td><td>N38727</td><td>LGA</td><td>IAH</td><td>229</td><td>1416</td><td> 5</td><td>45</td><td>2013-11-01 05:00:00</td></tr>\n",
              "\t<tr><td>2013</td><td>11</td><td>1</td><td>542</td><td> 545</td><td> -3</td><td>831</td><td> 855</td><td>-24</td><td>AA</td><td>2243</td><td>N5CLAA</td><td>JFK</td><td>MIA</td><td>147</td><td>1089</td><td> 5</td><td>45</td><td>2013-11-01 05:00:00</td></tr>\n",
              "\t<tr><td>2013</td><td>11</td><td>1</td><td>549</td><td> 600</td><td>-11</td><td>912</td><td> 923</td><td>-11</td><td>UA</td><td> 303</td><td>N595UA</td><td>JFK</td><td>SFO</td><td>359</td><td>2586</td><td> 6</td><td> 0</td><td>2013-11-01 06:00:00</td></tr>\n",
              "\t<tr><td>2013</td><td>11</td><td>1</td><td>550</td><td> 600</td><td>-10</td><td>705</td><td> 659</td><td>  6</td><td>US</td><td>2167</td><td>N748UW</td><td>LGA</td><td>DCA</td><td> 57</td><td> 214</td><td> 6</td><td> 0</td><td>2013-11-01 06:00:00</td></tr>\n",
              "\t<tr><td>2013</td><td>11</td><td>1</td><td>554</td><td> 600</td><td> -6</td><td>659</td><td> 701</td><td> -2</td><td>US</td><td>2134</td><td>N742PS</td><td>LGA</td><td>BOS</td><td> 40</td><td> 184</td><td> 6</td><td> 0</td><td>2013-11-01 06:00:00</td></tr>\n",
              "\t<tr><td>2013</td><td>11</td><td>1</td><td>554</td><td> 600</td><td> -6</td><td>826</td><td> 827</td><td> -1</td><td>DL</td><td> 563</td><td>N912DE</td><td>LGA</td><td>ATL</td><td>126</td><td> 762</td><td> 6</td><td> 0</td><td>2013-11-01 06:00:00</td></tr>\n",
              "\t<tr><td>2013</td><td>11</td><td>1</td><td>554</td><td> 600</td><td> -6</td><td>749</td><td> 751</td><td> -2</td><td>DL</td><td> 731</td><td>N315NB</td><td>LGA</td><td>DTW</td><td> 93</td><td> 502</td><td> 6</td><td> 0</td><td>2013-11-01 06:00:00</td></tr>\n",
              "\t<tr><td>2013</td><td>11</td><td>1</td><td>555</td><td> 600</td><td> -5</td><td>847</td><td> 854</td><td> -7</td><td>B6</td><td> 605</td><td>N640JB</td><td>EWR</td><td>FLL</td><td>149</td><td>1065</td><td> 6</td><td> 0</td><td>2013-11-01 06:00:00</td></tr>\n",
              "\t<tr><td>2013</td><td>11</td><td>1</td><td>555</td><td> 600</td><td> -5</td><td>839</td><td> 846</td><td> -7</td><td>B6</td><td> 583</td><td>N661JB</td><td>JFK</td><td>MCO</td><td>136</td><td> 944</td><td> 6</td><td> 0</td><td>2013-11-01 06:00:00</td></tr>\n",
              "\t<tr><td>2013</td><td>11</td><td>1</td><td>555</td><td> 600</td><td> -5</td><td>929</td><td> 943</td><td>-14</td><td>B6</td><td>1403</td><td>N746JB</td><td>JFK</td><td>SJU</td><td>196</td><td>1598</td><td> 6</td><td> 0</td><td>2013-11-01 06:00:00</td></tr>\n",
              "\t<tr><td>2013</td><td>11</td><td>1</td><td>556</td><td> 600</td><td> -4</td><td>834</td><td> 851</td><td>-17</td><td>UA</td><td> 407</td><td>N834UA</td><td>EWR</td><td>TPA</td><td>142</td><td> 997</td><td> 6</td><td> 0</td><td>2013-11-01 06:00:00</td></tr>\n",
              "\t<tr><td>2013</td><td>11</td><td>1</td><td>558</td><td> 600</td><td> -2</td><td>727</td><td> 730</td><td> -3</td><td>UA</td><td> 279</td><td>N459UA</td><td>EWR</td><td>ORD</td><td>118</td><td> 719</td><td> 6</td><td> 0</td><td>2013-11-01 06:00:00</td></tr>\n",
              "\t<tr><td>2013</td><td>11</td><td>1</td><td>558</td><td> 600</td><td> -2</td><td>650</td><td> 658</td><td> -8</td><td>US</td><td>1909</td><td>N950UW</td><td>LGA</td><td>PHL</td><td> 38</td><td>  96</td><td> 6</td><td> 0</td><td>2013-11-01 06:00:00</td></tr>\n",
              "\t<tr><td>2013</td><td>11</td><td>1</td><td>558</td><td> 600</td><td> -2</td><td>914</td><td> 905</td><td>  9</td><td>AA</td><td>1175</td><td>N3GHAA</td><td>LGA</td><td>MIA</td><td>155</td><td>1096</td><td> 6</td><td> 0</td><td>2013-11-01 06:00:00</td></tr>\n",
              "\t<tr><td>2013</td><td>11</td><td>1</td><td>558</td><td> 600</td><td> -2</td><td>720</td><td> 715</td><td>  5</td><td>WN</td><td> 464</td><td>N390SW</td><td>EWR</td><td>MDW</td><td>117</td><td> 711</td><td> 6</td><td> 0</td><td>2013-11-01 06:00:00</td></tr>\n",
              "\t<tr><td>2013</td><td>11</td><td>1</td><td>559</td><td> 600</td><td> -1</td><td>756</td><td> 730</td><td> 26</td><td>AA</td><td> 301</td><td>N4YHAA</td><td>LGA</td><td>ORD</td><td>119</td><td> 733</td><td> 6</td><td> 0</td><td>2013-11-01 06:00:00</td></tr>\n",
              "\t<tr><td>2013</td><td>11</td><td>1</td><td>600</td><td> 600</td><td>  0</td><td>709</td><td> 716</td><td> -7</td><td>EV</td><td>5716</td><td>N820AS</td><td>JFK</td><td>IAD</td><td> 49</td><td> 228</td><td> 6</td><td> 0</td><td>2013-11-01 06:00:00</td></tr>\n",
              "\t<tr><td>2013</td><td>11</td><td>1</td><td>600</td><td> 600</td><td>  0</td><td>725</td><td> 721</td><td>  4</td><td>UA</td><td>1198</td><td>N23707</td><td>LGA</td><td>ORD</td><td>121</td><td> 733</td><td> 6</td><td> 0</td><td>2013-11-01 06:00:00</td></tr>\n",
              "\t<tr><td>2013</td><td>11</td><td>1</td><td>601</td><td> 600</td><td>  1</td><td>853</td><td> 856</td><td> -3</td><td>B6</td><td> 371</td><td>N570JB</td><td>LGA</td><td>FLL</td><td>150</td><td>1076</td><td> 6</td><td> 0</td><td>2013-11-01 06:00:00</td></tr>\n",
              "\t<tr><td>2013</td><td>11</td><td>1</td><td>601</td><td> 610</td><td> -9</td><td>803</td><td> 813</td><td>-10</td><td>DL</td><td>1919</td><td>N922DL</td><td>LGA</td><td>MSP</td><td>153</td><td>1020</td><td> 6</td><td>10</td><td>2013-11-01 06:00:00</td></tr>\n",
              "\t<tr><td>2013</td><td>11</td><td>1</td><td>602</td><td> 600</td><td>  2</td><td>843</td><td> 815</td><td> 28</td><td>FL</td><td> 345</td><td>N353AT</td><td>LGA</td><td>ATL</td><td>131</td><td> 762</td><td> 6</td><td> 0</td><td>2013-11-01 06:00:00</td></tr>\n",
              "\t<tr><td>2013</td><td>11</td><td>1</td><td>603</td><td> 600</td><td>  3</td><td>717</td><td> 711</td><td>  6</td><td>EV</td><td>4533</td><td>N11109</td><td>EWR</td><td>BUF</td><td> 53</td><td> 282</td><td> 6</td><td> 0</td><td>2013-11-01 06:00:00</td></tr>\n",
              "\t<tr><td>2013</td><td>11</td><td>1</td><td>604</td><td> 610</td><td> -6</td><td>855</td><td> 855</td><td>  0</td><td>AA</td><td>1103</td><td>N3FTAA</td><td>LGA</td><td>DFW</td><td>205</td><td>1389</td><td> 6</td><td>10</td><td>2013-11-01 06:00:00</td></tr>\n",
              "\t<tr><td>2013</td><td>11</td><td>1</td><td>606</td><td> 615</td><td> -9</td><td>746</td><td> 750</td><td> -4</td><td>MQ</td><td>3525</td><td>N834MQ</td><td>LGA</td><td>RDU</td><td> 74</td><td> 431</td><td> 6</td><td>15</td><td>2013-11-01 06:00:00</td></tr>\n",
              "\t<tr><td>2013</td><td>11</td><td>1</td><td>606</td><td> 615</td><td> -9</td><td>807</td><td> 817</td><td>-10</td><td>US</td><td>1899</td><td>N199UW</td><td>JFK</td><td>CLT</td><td> 93</td><td> 541</td><td> 6</td><td>15</td><td>2013-11-01 06:00:00</td></tr>\n",
              "\t<tr><td>2013</td><td>11</td><td>1</td><td>606</td><td> 610</td><td> -4</td><td>752</td><td> 745</td><td>  7</td><td>WN</td><td>2609</td><td>N440LV</td><td>LGA</td><td>STL</td><td>142</td><td> 888</td><td> 6</td><td>10</td><td>2013-11-01 06:00:00</td></tr>\n",
              "\t<tr><td>2013</td><td>11</td><td>1</td><td>607</td><td> 611</td><td> -4</td><td>857</td><td> 912</td><td>-15</td><td>B6</td><td> 601</td><td>N597JB</td><td>JFK</td><td>FLL</td><td>149</td><td>1069</td><td> 6</td><td>11</td><td>2013-11-01 06:00:00</td></tr>\n",
              "\t<tr><td>⋮</td><td>⋮</td><td>⋮</td><td>⋮</td><td>⋮</td><td>⋮</td><td>⋮</td><td>⋮</td><td>⋮</td><td>⋮</td><td>⋮</td><td>⋮</td><td>⋮</td><td>⋮</td><td>⋮</td><td>⋮</td><td>⋮</td><td>⋮</td><td>⋮</td></tr>\n",
              "\t<tr><td>2013</td><td>12</td><td>31</td><td>2155</td><td>2039</td><td> 76</td><td> 253</td><td>2355</td><td> NA</td><td>B6</td><td>1205</td><td>N627JB</td><td>JFK</td><td>PDX</td><td> NA</td><td>2454</td><td>20</td><td>39</td><td>2013-12-31 20:00:00</td></tr>\n",
              "\t<tr><td>2013</td><td>12</td><td>31</td><td>2155</td><td>2150</td><td>  5</td><td> 110</td><td>  51</td><td> 19</td><td>B6</td><td>1901</td><td>N729JB</td><td>JFK</td><td>FLL</td><td>164</td><td>1069</td><td>21</td><td>50</td><td>2013-12-31 21:00:00</td></tr>\n",
              "\t<tr><td>2013</td><td>12</td><td>31</td><td>2159</td><td>2155</td><td>  4</td><td>  55</td><td>  46</td><td>  9</td><td>B6</td><td>2053</td><td>N593JB</td><td>JFK</td><td>PBI</td><td>155</td><td>1028</td><td>21</td><td>55</td><td>2013-12-31 21:00:00</td></tr>\n",
              "\t<tr><td>2013</td><td>12</td><td>31</td><td>2206</td><td>2110</td><td> 56</td><td>  44</td><td>2339</td><td> 65</td><td>B6</td><td> 775</td><td>N184JB</td><td>JFK</td><td>MSY</td><td>195</td><td>1182</td><td>21</td><td>10</td><td>2013-12-31 21:00:00</td></tr>\n",
              "\t<tr><td>2013</td><td>12</td><td>31</td><td>2211</td><td>2159</td><td> 12</td><td> 100</td><td>  45</td><td> 15</td><td>B6</td><td>1183</td><td>N715JB</td><td>JFK</td><td>MCO</td><td>148</td><td> 944</td><td>21</td><td>59</td><td>2013-12-31 21:00:00</td></tr>\n",
              "\t<tr><td>2013</td><td>12</td><td>31</td><td>2218</td><td>2219</td><td> -1</td><td> 315</td><td> 304</td><td> 11</td><td>B6</td><td>1203</td><td>N625JB</td><td>JFK</td><td>SJU</td><td>202</td><td>1598</td><td>22</td><td>19</td><td>2013-12-31 22:00:00</td></tr>\n",
              "\t<tr><td>2013</td><td>12</td><td>31</td><td>2235</td><td>2245</td><td>-10</td><td>2351</td><td>2355</td><td> -4</td><td>B6</td><td> 234</td><td>N355JB</td><td>JFK</td><td>BTV</td><td> 49</td><td> 266</td><td>22</td><td>45</td><td>2013-12-31 22:00:00</td></tr>\n",
              "\t<tr><td>2013</td><td>12</td><td>31</td><td>2245</td><td>2250</td><td> -5</td><td>2359</td><td>2356</td><td>  3</td><td>B6</td><td>1816</td><td>N318JB</td><td>JFK</td><td>SYR</td><td> 51</td><td> 209</td><td>22</td><td>50</td><td>2013-12-31 22:00:00</td></tr>\n",
              "\t<tr><td>2013</td><td>12</td><td>31</td><td>2310</td><td>2255</td><td> 15</td><td>   7</td><td>2356</td><td> 11</td><td>B6</td><td> 718</td><td>N279JB</td><td>JFK</td><td>BOS</td><td> 40</td><td> 187</td><td>22</td><td>55</td><td>2013-12-31 22:00:00</td></tr>\n",
              "\t<tr><td>2013</td><td>12</td><td>31</td><td>2321</td><td>2250</td><td> 31</td><td>  46</td><td>   8</td><td> 38</td><td>B6</td><td>2002</td><td>N179JB</td><td>JFK</td><td>BUF</td><td> 66</td><td> 301</td><td>22</td><td>50</td><td>2013-12-31 22:00:00</td></tr>\n",
              "\t<tr><td>2013</td><td>12</td><td>31</td><td>2328</td><td>2330</td><td> -2</td><td> 412</td><td> 409</td><td>  3</td><td>B6</td><td>1389</td><td>N651JB</td><td>EWR</td><td>SJU</td><td>198</td><td>1608</td><td>23</td><td>30</td><td>2013-12-31 23:00:00</td></tr>\n",
              "\t<tr><td>2013</td><td>12</td><td>31</td><td>2332</td><td>2245</td><td> 47</td><td>  58</td><td>   3</td><td> 55</td><td>B6</td><td> 486</td><td>N334JB</td><td>JFK</td><td>ROC</td><td> 60</td><td> 264</td><td>22</td><td>45</td><td>2013-12-31 22:00:00</td></tr>\n",
              "\t<tr><td>2013</td><td>12</td><td>31</td><td>2355</td><td>2359</td><td> -4</td><td> 430</td><td> 440</td><td>-10</td><td>B6</td><td>1503</td><td>N509JB</td><td>JFK</td><td>SJU</td><td>195</td><td>1598</td><td>23</td><td>59</td><td>2013-12-31 23:00:00</td></tr>\n",
              "\t<tr><td>2013</td><td>12</td><td>31</td><td>2356</td><td>2359</td><td> -3</td><td> 436</td><td> 445</td><td> -9</td><td>B6</td><td> 745</td><td>N665JB</td><td>JFK</td><td>PSE</td><td>200</td><td>1617</td><td>23</td><td>59</td><td>2013-12-31 23:00:00</td></tr>\n",
              "\t<tr><td>2013</td><td>12</td><td>31</td><td>  NA</td><td>1520</td><td> NA</td><td>  NA</td><td>1705</td><td> NA</td><td>AA</td><td> 341</td><td>N568AA</td><td>LGA</td><td>ORD</td><td> NA</td><td> 733</td><td>15</td><td>20</td><td>2013-12-31 15:00:00</td></tr>\n",
              "\t<tr><td>2013</td><td>12</td><td>31</td><td>  NA</td><td>2025</td><td> NA</td><td>  NA</td><td>2205</td><td> NA</td><td>AA</td><td> 371</td><td>N482AA</td><td>LGA</td><td>ORD</td><td> NA</td><td> 733</td><td>20</td><td>25</td><td>2013-12-31 20:00:00</td></tr>\n",
              "\t<tr><td>2013</td><td>12</td><td>31</td><td>  NA</td><td>1932</td><td> NA</td><td>  NA</td><td>2305</td><td> NA</td><td>B6</td><td> 161</td><td>N516JB</td><td>JFK</td><td>SMF</td><td> NA</td><td>2521</td><td>19</td><td>32</td><td>2013-12-31 19:00:00</td></tr>\n",
              "\t<tr><td>2013</td><td>12</td><td>31</td><td>  NA</td><td>1505</td><td> NA</td><td>  NA</td><td>1725</td><td> NA</td><td>EV</td><td>4181</td><td>N24103</td><td>EWR</td><td>MCI</td><td> NA</td><td>1092</td><td>15</td><td> 5</td><td>2013-12-31 15:00:00</td></tr>\n",
              "\t<tr><td>2013</td><td>12</td><td>31</td><td>  NA</td><td>1000</td><td> NA</td><td>  NA</td><td>1252</td><td> NA</td><td>UA</td><td>1124</td><td>NA    </td><td>EWR</td><td>EGE</td><td> NA</td><td>1725</td><td>10</td><td> 0</td><td>2013-12-31 10:00:00</td></tr>\n",
              "\t<tr><td>2013</td><td>12</td><td>31</td><td>  NA</td><td> 840</td><td> NA</td><td>  NA</td><td>1205</td><td> NA</td><td>UA</td><td>1151</td><td>NA    </td><td>EWR</td><td>SEA</td><td> NA</td><td>2402</td><td> 8</td><td>40</td><td>2013-12-31 08:00:00</td></tr>\n",
              "\t<tr><td>2013</td><td>12</td><td>31</td><td>  NA</td><td> 754</td><td> NA</td><td>  NA</td><td>1118</td><td> NA</td><td>UA</td><td>1455</td><td>NA    </td><td>EWR</td><td>LAX</td><td> NA</td><td>2454</td><td> 7</td><td>54</td><td>2013-12-31 07:00:00</td></tr>\n",
              "\t<tr><td>2013</td><td>12</td><td>31</td><td>  NA</td><td>2000</td><td> NA</td><td>  NA</td><td>2146</td><td> NA</td><td>UA</td><td>1482</td><td>NA    </td><td>EWR</td><td>ORD</td><td> NA</td><td> 719</td><td>20</td><td> 0</td><td>2013-12-31 20:00:00</td></tr>\n",
              "\t<tr><td>2013</td><td>12</td><td>31</td><td>  NA</td><td>1500</td><td> NA</td><td>  NA</td><td>1817</td><td> NA</td><td>UA</td><td>1483</td><td>NA    </td><td>EWR</td><td>AUS</td><td> NA</td><td>1504</td><td>15</td><td> 0</td><td>2013-12-31 15:00:00</td></tr>\n",
              "\t<tr><td>2013</td><td>12</td><td>31</td><td>  NA</td><td>1430</td><td> NA</td><td>  NA</td><td>1750</td><td> NA</td><td>UA</td><td>1493</td><td>NA    </td><td>EWR</td><td>LAX</td><td> NA</td><td>2454</td><td>14</td><td>30</td><td>2013-12-31 14:00:00</td></tr>\n",
              "\t<tr><td>2013</td><td>12</td><td>31</td><td>  NA</td><td> 855</td><td> NA</td><td>  NA</td><td>1142</td><td> NA</td><td>UA</td><td>1506</td><td>NA    </td><td>EWR</td><td>JAC</td><td> NA</td><td>1874</td><td> 8</td><td>55</td><td>2013-12-31 08:00:00</td></tr>\n",
              "\t<tr><td>2013</td><td>12</td><td>31</td><td>  NA</td><td> 705</td><td> NA</td><td>  NA</td><td> 931</td><td> NA</td><td>UA</td><td>1729</td><td>NA    </td><td>EWR</td><td>DEN</td><td> NA</td><td>1605</td><td> 7</td><td> 5</td><td>2013-12-31 07:00:00</td></tr>\n",
              "\t<tr><td>2013</td><td>12</td><td>31</td><td>  NA</td><td> 825</td><td> NA</td><td>  NA</td><td>1029</td><td> NA</td><td>US</td><td>1831</td><td>NA    </td><td>JFK</td><td>CLT</td><td> NA</td><td> 541</td><td> 8</td><td>25</td><td>2013-12-31 08:00:00</td></tr>\n",
              "\t<tr><td>2013</td><td>12</td><td>31</td><td>  NA</td><td>1615</td><td> NA</td><td>  NA</td><td>1800</td><td> NA</td><td>MQ</td><td>3301</td><td>N844MQ</td><td>LGA</td><td>RDU</td><td> NA</td><td> 431</td><td>16</td><td>15</td><td>2013-12-31 16:00:00</td></tr>\n",
              "\t<tr><td>2013</td><td>12</td><td>31</td><td>  NA</td><td> 600</td><td> NA</td><td>  NA</td><td> 735</td><td> NA</td><td>UA</td><td> 219</td><td>NA    </td><td>EWR</td><td>ORD</td><td> NA</td><td> 719</td><td> 6</td><td> 0</td><td>2013-12-31 06:00:00</td></tr>\n",
              "\t<tr><td>2013</td><td>12</td><td>31</td><td>  NA</td><td> 830</td><td> NA</td><td>  NA</td><td>1154</td><td> NA</td><td>UA</td><td> 443</td><td>NA    </td><td>JFK</td><td>LAX</td><td> NA</td><td>2475</td><td> 8</td><td>30</td><td>2013-12-31 08:00:00</td></tr>\n",
              "</tbody>\n",
              "</table>\n"
            ],
            "text/markdown": "\nA tibble: 55403 × 19\n\n| year &lt;int&gt; | month &lt;int&gt; | day &lt;int&gt; | dep_time &lt;int&gt; | sched_dep_time &lt;int&gt; | dep_delay &lt;dbl&gt; | arr_time &lt;int&gt; | sched_arr_time &lt;int&gt; | arr_delay &lt;dbl&gt; | carrier &lt;chr&gt; | flight &lt;int&gt; | tailnum &lt;chr&gt; | origin &lt;chr&gt; | dest &lt;chr&gt; | air_time &lt;dbl&gt; | distance &lt;dbl&gt; | hour &lt;dbl&gt; | minute &lt;dbl&gt; | time_hour &lt;dttm&gt; |\n|---|---|---|---|---|---|---|---|---|---|---|---|---|---|---|---|---|---|---|\n| 2013 | 11 | 1 |   5 | 2359 |   6 | 352 |  345 |   7 | B6 |  745 | N568JB | JFK | PSE | 205 | 1617 | 23 | 59 | 2013-11-01 23:00:00 |\n| 2013 | 11 | 1 |  35 | 2250 | 105 | 123 | 2356 |  87 | B6 | 1816 | N353JB | JFK | SYR |  36 |  209 | 22 | 50 | 2013-11-01 22:00:00 |\n| 2013 | 11 | 1 | 455 |  500 |  -5 | 641 |  651 | -10 | US | 1895 | N192UW | EWR | CLT |  88 |  529 |  5 |  0 | 2013-11-01 05:00:00 |\n| 2013 | 11 | 1 | 539 |  545 |  -6 | 856 |  827 |  29 | UA | 1714 | N38727 | LGA | IAH | 229 | 1416 |  5 | 45 | 2013-11-01 05:00:00 |\n| 2013 | 11 | 1 | 542 |  545 |  -3 | 831 |  855 | -24 | AA | 2243 | N5CLAA | JFK | MIA | 147 | 1089 |  5 | 45 | 2013-11-01 05:00:00 |\n| 2013 | 11 | 1 | 549 |  600 | -11 | 912 |  923 | -11 | UA |  303 | N595UA | JFK | SFO | 359 | 2586 |  6 |  0 | 2013-11-01 06:00:00 |\n| 2013 | 11 | 1 | 550 |  600 | -10 | 705 |  659 |   6 | US | 2167 | N748UW | LGA | DCA |  57 |  214 |  6 |  0 | 2013-11-01 06:00:00 |\n| 2013 | 11 | 1 | 554 |  600 |  -6 | 659 |  701 |  -2 | US | 2134 | N742PS | LGA | BOS |  40 |  184 |  6 |  0 | 2013-11-01 06:00:00 |\n| 2013 | 11 | 1 | 554 |  600 |  -6 | 826 |  827 |  -1 | DL |  563 | N912DE | LGA | ATL | 126 |  762 |  6 |  0 | 2013-11-01 06:00:00 |\n| 2013 | 11 | 1 | 554 |  600 |  -6 | 749 |  751 |  -2 | DL |  731 | N315NB | LGA | DTW |  93 |  502 |  6 |  0 | 2013-11-01 06:00:00 |\n| 2013 | 11 | 1 | 555 |  600 |  -5 | 847 |  854 |  -7 | B6 |  605 | N640JB | EWR | FLL | 149 | 1065 |  6 |  0 | 2013-11-01 06:00:00 |\n| 2013 | 11 | 1 | 555 |  600 |  -5 | 839 |  846 |  -7 | B6 |  583 | N661JB | JFK | MCO | 136 |  944 |  6 |  0 | 2013-11-01 06:00:00 |\n| 2013 | 11 | 1 | 555 |  600 |  -5 | 929 |  943 | -14 | B6 | 1403 | N746JB | JFK | SJU | 196 | 1598 |  6 |  0 | 2013-11-01 06:00:00 |\n| 2013 | 11 | 1 | 556 |  600 |  -4 | 834 |  851 | -17 | UA |  407 | N834UA | EWR | TPA | 142 |  997 |  6 |  0 | 2013-11-01 06:00:00 |\n| 2013 | 11 | 1 | 558 |  600 |  -2 | 727 |  730 |  -3 | UA |  279 | N459UA | EWR | ORD | 118 |  719 |  6 |  0 | 2013-11-01 06:00:00 |\n| 2013 | 11 | 1 | 558 |  600 |  -2 | 650 |  658 |  -8 | US | 1909 | N950UW | LGA | PHL |  38 |   96 |  6 |  0 | 2013-11-01 06:00:00 |\n| 2013 | 11 | 1 | 558 |  600 |  -2 | 914 |  905 |   9 | AA | 1175 | N3GHAA | LGA | MIA | 155 | 1096 |  6 |  0 | 2013-11-01 06:00:00 |\n| 2013 | 11 | 1 | 558 |  600 |  -2 | 720 |  715 |   5 | WN |  464 | N390SW | EWR | MDW | 117 |  711 |  6 |  0 | 2013-11-01 06:00:00 |\n| 2013 | 11 | 1 | 559 |  600 |  -1 | 756 |  730 |  26 | AA |  301 | N4YHAA | LGA | ORD | 119 |  733 |  6 |  0 | 2013-11-01 06:00:00 |\n| 2013 | 11 | 1 | 600 |  600 |   0 | 709 |  716 |  -7 | EV | 5716 | N820AS | JFK | IAD |  49 |  228 |  6 |  0 | 2013-11-01 06:00:00 |\n| 2013 | 11 | 1 | 600 |  600 |   0 | 725 |  721 |   4 | UA | 1198 | N23707 | LGA | ORD | 121 |  733 |  6 |  0 | 2013-11-01 06:00:00 |\n| 2013 | 11 | 1 | 601 |  600 |   1 | 853 |  856 |  -3 | B6 |  371 | N570JB | LGA | FLL | 150 | 1076 |  6 |  0 | 2013-11-01 06:00:00 |\n| 2013 | 11 | 1 | 601 |  610 |  -9 | 803 |  813 | -10 | DL | 1919 | N922DL | LGA | MSP | 153 | 1020 |  6 | 10 | 2013-11-01 06:00:00 |\n| 2013 | 11 | 1 | 602 |  600 |   2 | 843 |  815 |  28 | FL |  345 | N353AT | LGA | ATL | 131 |  762 |  6 |  0 | 2013-11-01 06:00:00 |\n| 2013 | 11 | 1 | 603 |  600 |   3 | 717 |  711 |   6 | EV | 4533 | N11109 | EWR | BUF |  53 |  282 |  6 |  0 | 2013-11-01 06:00:00 |\n| 2013 | 11 | 1 | 604 |  610 |  -6 | 855 |  855 |   0 | AA | 1103 | N3FTAA | LGA | DFW | 205 | 1389 |  6 | 10 | 2013-11-01 06:00:00 |\n| 2013 | 11 | 1 | 606 |  615 |  -9 | 746 |  750 |  -4 | MQ | 3525 | N834MQ | LGA | RDU |  74 |  431 |  6 | 15 | 2013-11-01 06:00:00 |\n| 2013 | 11 | 1 | 606 |  615 |  -9 | 807 |  817 | -10 | US | 1899 | N199UW | JFK | CLT |  93 |  541 |  6 | 15 | 2013-11-01 06:00:00 |\n| 2013 | 11 | 1 | 606 |  610 |  -4 | 752 |  745 |   7 | WN | 2609 | N440LV | LGA | STL | 142 |  888 |  6 | 10 | 2013-11-01 06:00:00 |\n| 2013 | 11 | 1 | 607 |  611 |  -4 | 857 |  912 | -15 | B6 |  601 | N597JB | JFK | FLL | 149 | 1069 |  6 | 11 | 2013-11-01 06:00:00 |\n| ⋮ | ⋮ | ⋮ | ⋮ | ⋮ | ⋮ | ⋮ | ⋮ | ⋮ | ⋮ | ⋮ | ⋮ | ⋮ | ⋮ | ⋮ | ⋮ | ⋮ | ⋮ | ⋮ |\n| 2013 | 12 | 31 | 2155 | 2039 |  76 |  253 | 2355 |  NA | B6 | 1205 | N627JB | JFK | PDX |  NA | 2454 | 20 | 39 | 2013-12-31 20:00:00 |\n| 2013 | 12 | 31 | 2155 | 2150 |   5 |  110 |   51 |  19 | B6 | 1901 | N729JB | JFK | FLL | 164 | 1069 | 21 | 50 | 2013-12-31 21:00:00 |\n| 2013 | 12 | 31 | 2159 | 2155 |   4 |   55 |   46 |   9 | B6 | 2053 | N593JB | JFK | PBI | 155 | 1028 | 21 | 55 | 2013-12-31 21:00:00 |\n| 2013 | 12 | 31 | 2206 | 2110 |  56 |   44 | 2339 |  65 | B6 |  775 | N184JB | JFK | MSY | 195 | 1182 | 21 | 10 | 2013-12-31 21:00:00 |\n| 2013 | 12 | 31 | 2211 | 2159 |  12 |  100 |   45 |  15 | B6 | 1183 | N715JB | JFK | MCO | 148 |  944 | 21 | 59 | 2013-12-31 21:00:00 |\n| 2013 | 12 | 31 | 2218 | 2219 |  -1 |  315 |  304 |  11 | B6 | 1203 | N625JB | JFK | SJU | 202 | 1598 | 22 | 19 | 2013-12-31 22:00:00 |\n| 2013 | 12 | 31 | 2235 | 2245 | -10 | 2351 | 2355 |  -4 | B6 |  234 | N355JB | JFK | BTV |  49 |  266 | 22 | 45 | 2013-12-31 22:00:00 |\n| 2013 | 12 | 31 | 2245 | 2250 |  -5 | 2359 | 2356 |   3 | B6 | 1816 | N318JB | JFK | SYR |  51 |  209 | 22 | 50 | 2013-12-31 22:00:00 |\n| 2013 | 12 | 31 | 2310 | 2255 |  15 |    7 | 2356 |  11 | B6 |  718 | N279JB | JFK | BOS |  40 |  187 | 22 | 55 | 2013-12-31 22:00:00 |\n| 2013 | 12 | 31 | 2321 | 2250 |  31 |   46 |    8 |  38 | B6 | 2002 | N179JB | JFK | BUF |  66 |  301 | 22 | 50 | 2013-12-31 22:00:00 |\n| 2013 | 12 | 31 | 2328 | 2330 |  -2 |  412 |  409 |   3 | B6 | 1389 | N651JB | EWR | SJU | 198 | 1608 | 23 | 30 | 2013-12-31 23:00:00 |\n| 2013 | 12 | 31 | 2332 | 2245 |  47 |   58 |    3 |  55 | B6 |  486 | N334JB | JFK | ROC |  60 |  264 | 22 | 45 | 2013-12-31 22:00:00 |\n| 2013 | 12 | 31 | 2355 | 2359 |  -4 |  430 |  440 | -10 | B6 | 1503 | N509JB | JFK | SJU | 195 | 1598 | 23 | 59 | 2013-12-31 23:00:00 |\n| 2013 | 12 | 31 | 2356 | 2359 |  -3 |  436 |  445 |  -9 | B6 |  745 | N665JB | JFK | PSE | 200 | 1617 | 23 | 59 | 2013-12-31 23:00:00 |\n| 2013 | 12 | 31 |   NA | 1520 |  NA |   NA | 1705 |  NA | AA |  341 | N568AA | LGA | ORD |  NA |  733 | 15 | 20 | 2013-12-31 15:00:00 |\n| 2013 | 12 | 31 |   NA | 2025 |  NA |   NA | 2205 |  NA | AA |  371 | N482AA | LGA | ORD |  NA |  733 | 20 | 25 | 2013-12-31 20:00:00 |\n| 2013 | 12 | 31 |   NA | 1932 |  NA |   NA | 2305 |  NA | B6 |  161 | N516JB | JFK | SMF |  NA | 2521 | 19 | 32 | 2013-12-31 19:00:00 |\n| 2013 | 12 | 31 |   NA | 1505 |  NA |   NA | 1725 |  NA | EV | 4181 | N24103 | EWR | MCI |  NA | 1092 | 15 |  5 | 2013-12-31 15:00:00 |\n| 2013 | 12 | 31 |   NA | 1000 |  NA |   NA | 1252 |  NA | UA | 1124 | NA     | EWR | EGE |  NA | 1725 | 10 |  0 | 2013-12-31 10:00:00 |\n| 2013 | 12 | 31 |   NA |  840 |  NA |   NA | 1205 |  NA | UA | 1151 | NA     | EWR | SEA |  NA | 2402 |  8 | 40 | 2013-12-31 08:00:00 |\n| 2013 | 12 | 31 |   NA |  754 |  NA |   NA | 1118 |  NA | UA | 1455 | NA     | EWR | LAX |  NA | 2454 |  7 | 54 | 2013-12-31 07:00:00 |\n| 2013 | 12 | 31 |   NA | 2000 |  NA |   NA | 2146 |  NA | UA | 1482 | NA     | EWR | ORD |  NA |  719 | 20 |  0 | 2013-12-31 20:00:00 |\n| 2013 | 12 | 31 |   NA | 1500 |  NA |   NA | 1817 |  NA | UA | 1483 | NA     | EWR | AUS |  NA | 1504 | 15 |  0 | 2013-12-31 15:00:00 |\n| 2013 | 12 | 31 |   NA | 1430 |  NA |   NA | 1750 |  NA | UA | 1493 | NA     | EWR | LAX |  NA | 2454 | 14 | 30 | 2013-12-31 14:00:00 |\n| 2013 | 12 | 31 |   NA |  855 |  NA |   NA | 1142 |  NA | UA | 1506 | NA     | EWR | JAC |  NA | 1874 |  8 | 55 | 2013-12-31 08:00:00 |\n| 2013 | 12 | 31 |   NA |  705 |  NA |   NA |  931 |  NA | UA | 1729 | NA     | EWR | DEN |  NA | 1605 |  7 |  5 | 2013-12-31 07:00:00 |\n| 2013 | 12 | 31 |   NA |  825 |  NA |   NA | 1029 |  NA | US | 1831 | NA     | JFK | CLT |  NA |  541 |  8 | 25 | 2013-12-31 08:00:00 |\n| 2013 | 12 | 31 |   NA | 1615 |  NA |   NA | 1800 |  NA | MQ | 3301 | N844MQ | LGA | RDU |  NA |  431 | 16 | 15 | 2013-12-31 16:00:00 |\n| 2013 | 12 | 31 |   NA |  600 |  NA |   NA |  735 |  NA | UA |  219 | NA     | EWR | ORD |  NA |  719 |  6 |  0 | 2013-12-31 06:00:00 |\n| 2013 | 12 | 31 |   NA |  830 |  NA |   NA | 1154 |  NA | UA |  443 | NA     | JFK | LAX |  NA | 2475 |  8 | 30 | 2013-12-31 08:00:00 |\n\n",
            "text/latex": "A tibble: 55403 × 19\n\\begin{tabular}{lllllllllllllllllll}\n year & month & day & dep\\_time & sched\\_dep\\_time & dep\\_delay & arr\\_time & sched\\_arr\\_time & arr\\_delay & carrier & flight & tailnum & origin & dest & air\\_time & distance & hour & minute & time\\_hour\\\\\n <int> & <int> & <int> & <int> & <int> & <dbl> & <int> & <int> & <dbl> & <chr> & <int> & <chr> & <chr> & <chr> & <dbl> & <dbl> & <dbl> & <dbl> & <dttm>\\\\\n\\hline\n\t 2013 & 11 & 1 &   5 & 2359 &   6 & 352 &  345 &   7 & B6 &  745 & N568JB & JFK & PSE & 205 & 1617 & 23 & 59 & 2013-11-01 23:00:00\\\\\n\t 2013 & 11 & 1 &  35 & 2250 & 105 & 123 & 2356 &  87 & B6 & 1816 & N353JB & JFK & SYR &  36 &  209 & 22 & 50 & 2013-11-01 22:00:00\\\\\n\t 2013 & 11 & 1 & 455 &  500 &  -5 & 641 &  651 & -10 & US & 1895 & N192UW & EWR & CLT &  88 &  529 &  5 &  0 & 2013-11-01 05:00:00\\\\\n\t 2013 & 11 & 1 & 539 &  545 &  -6 & 856 &  827 &  29 & UA & 1714 & N38727 & LGA & IAH & 229 & 1416 &  5 & 45 & 2013-11-01 05:00:00\\\\\n\t 2013 & 11 & 1 & 542 &  545 &  -3 & 831 &  855 & -24 & AA & 2243 & N5CLAA & JFK & MIA & 147 & 1089 &  5 & 45 & 2013-11-01 05:00:00\\\\\n\t 2013 & 11 & 1 & 549 &  600 & -11 & 912 &  923 & -11 & UA &  303 & N595UA & JFK & SFO & 359 & 2586 &  6 &  0 & 2013-11-01 06:00:00\\\\\n\t 2013 & 11 & 1 & 550 &  600 & -10 & 705 &  659 &   6 & US & 2167 & N748UW & LGA & DCA &  57 &  214 &  6 &  0 & 2013-11-01 06:00:00\\\\\n\t 2013 & 11 & 1 & 554 &  600 &  -6 & 659 &  701 &  -2 & US & 2134 & N742PS & LGA & BOS &  40 &  184 &  6 &  0 & 2013-11-01 06:00:00\\\\\n\t 2013 & 11 & 1 & 554 &  600 &  -6 & 826 &  827 &  -1 & DL &  563 & N912DE & LGA & ATL & 126 &  762 &  6 &  0 & 2013-11-01 06:00:00\\\\\n\t 2013 & 11 & 1 & 554 &  600 &  -6 & 749 &  751 &  -2 & DL &  731 & N315NB & LGA & DTW &  93 &  502 &  6 &  0 & 2013-11-01 06:00:00\\\\\n\t 2013 & 11 & 1 & 555 &  600 &  -5 & 847 &  854 &  -7 & B6 &  605 & N640JB & EWR & FLL & 149 & 1065 &  6 &  0 & 2013-11-01 06:00:00\\\\\n\t 2013 & 11 & 1 & 555 &  600 &  -5 & 839 &  846 &  -7 & B6 &  583 & N661JB & JFK & MCO & 136 &  944 &  6 &  0 & 2013-11-01 06:00:00\\\\\n\t 2013 & 11 & 1 & 555 &  600 &  -5 & 929 &  943 & -14 & B6 & 1403 & N746JB & JFK & SJU & 196 & 1598 &  6 &  0 & 2013-11-01 06:00:00\\\\\n\t 2013 & 11 & 1 & 556 &  600 &  -4 & 834 &  851 & -17 & UA &  407 & N834UA & EWR & TPA & 142 &  997 &  6 &  0 & 2013-11-01 06:00:00\\\\\n\t 2013 & 11 & 1 & 558 &  600 &  -2 & 727 &  730 &  -3 & UA &  279 & N459UA & EWR & ORD & 118 &  719 &  6 &  0 & 2013-11-01 06:00:00\\\\\n\t 2013 & 11 & 1 & 558 &  600 &  -2 & 650 &  658 &  -8 & US & 1909 & N950UW & LGA & PHL &  38 &   96 &  6 &  0 & 2013-11-01 06:00:00\\\\\n\t 2013 & 11 & 1 & 558 &  600 &  -2 & 914 &  905 &   9 & AA & 1175 & N3GHAA & LGA & MIA & 155 & 1096 &  6 &  0 & 2013-11-01 06:00:00\\\\\n\t 2013 & 11 & 1 & 558 &  600 &  -2 & 720 &  715 &   5 & WN &  464 & N390SW & EWR & MDW & 117 &  711 &  6 &  0 & 2013-11-01 06:00:00\\\\\n\t 2013 & 11 & 1 & 559 &  600 &  -1 & 756 &  730 &  26 & AA &  301 & N4YHAA & LGA & ORD & 119 &  733 &  6 &  0 & 2013-11-01 06:00:00\\\\\n\t 2013 & 11 & 1 & 600 &  600 &   0 & 709 &  716 &  -7 & EV & 5716 & N820AS & JFK & IAD &  49 &  228 &  6 &  0 & 2013-11-01 06:00:00\\\\\n\t 2013 & 11 & 1 & 600 &  600 &   0 & 725 &  721 &   4 & UA & 1198 & N23707 & LGA & ORD & 121 &  733 &  6 &  0 & 2013-11-01 06:00:00\\\\\n\t 2013 & 11 & 1 & 601 &  600 &   1 & 853 &  856 &  -3 & B6 &  371 & N570JB & LGA & FLL & 150 & 1076 &  6 &  0 & 2013-11-01 06:00:00\\\\\n\t 2013 & 11 & 1 & 601 &  610 &  -9 & 803 &  813 & -10 & DL & 1919 & N922DL & LGA & MSP & 153 & 1020 &  6 & 10 & 2013-11-01 06:00:00\\\\\n\t 2013 & 11 & 1 & 602 &  600 &   2 & 843 &  815 &  28 & FL &  345 & N353AT & LGA & ATL & 131 &  762 &  6 &  0 & 2013-11-01 06:00:00\\\\\n\t 2013 & 11 & 1 & 603 &  600 &   3 & 717 &  711 &   6 & EV & 4533 & N11109 & EWR & BUF &  53 &  282 &  6 &  0 & 2013-11-01 06:00:00\\\\\n\t 2013 & 11 & 1 & 604 &  610 &  -6 & 855 &  855 &   0 & AA & 1103 & N3FTAA & LGA & DFW & 205 & 1389 &  6 & 10 & 2013-11-01 06:00:00\\\\\n\t 2013 & 11 & 1 & 606 &  615 &  -9 & 746 &  750 &  -4 & MQ & 3525 & N834MQ & LGA & RDU &  74 &  431 &  6 & 15 & 2013-11-01 06:00:00\\\\\n\t 2013 & 11 & 1 & 606 &  615 &  -9 & 807 &  817 & -10 & US & 1899 & N199UW & JFK & CLT &  93 &  541 &  6 & 15 & 2013-11-01 06:00:00\\\\\n\t 2013 & 11 & 1 & 606 &  610 &  -4 & 752 &  745 &   7 & WN & 2609 & N440LV & LGA & STL & 142 &  888 &  6 & 10 & 2013-11-01 06:00:00\\\\\n\t 2013 & 11 & 1 & 607 &  611 &  -4 & 857 &  912 & -15 & B6 &  601 & N597JB & JFK & FLL & 149 & 1069 &  6 & 11 & 2013-11-01 06:00:00\\\\\n\t ⋮ & ⋮ & ⋮ & ⋮ & ⋮ & ⋮ & ⋮ & ⋮ & ⋮ & ⋮ & ⋮ & ⋮ & ⋮ & ⋮ & ⋮ & ⋮ & ⋮ & ⋮ & ⋮\\\\\n\t 2013 & 12 & 31 & 2155 & 2039 &  76 &  253 & 2355 &  NA & B6 & 1205 & N627JB & JFK & PDX &  NA & 2454 & 20 & 39 & 2013-12-31 20:00:00\\\\\n\t 2013 & 12 & 31 & 2155 & 2150 &   5 &  110 &   51 &  19 & B6 & 1901 & N729JB & JFK & FLL & 164 & 1069 & 21 & 50 & 2013-12-31 21:00:00\\\\\n\t 2013 & 12 & 31 & 2159 & 2155 &   4 &   55 &   46 &   9 & B6 & 2053 & N593JB & JFK & PBI & 155 & 1028 & 21 & 55 & 2013-12-31 21:00:00\\\\\n\t 2013 & 12 & 31 & 2206 & 2110 &  56 &   44 & 2339 &  65 & B6 &  775 & N184JB & JFK & MSY & 195 & 1182 & 21 & 10 & 2013-12-31 21:00:00\\\\\n\t 2013 & 12 & 31 & 2211 & 2159 &  12 &  100 &   45 &  15 & B6 & 1183 & N715JB & JFK & MCO & 148 &  944 & 21 & 59 & 2013-12-31 21:00:00\\\\\n\t 2013 & 12 & 31 & 2218 & 2219 &  -1 &  315 &  304 &  11 & B6 & 1203 & N625JB & JFK & SJU & 202 & 1598 & 22 & 19 & 2013-12-31 22:00:00\\\\\n\t 2013 & 12 & 31 & 2235 & 2245 & -10 & 2351 & 2355 &  -4 & B6 &  234 & N355JB & JFK & BTV &  49 &  266 & 22 & 45 & 2013-12-31 22:00:00\\\\\n\t 2013 & 12 & 31 & 2245 & 2250 &  -5 & 2359 & 2356 &   3 & B6 & 1816 & N318JB & JFK & SYR &  51 &  209 & 22 & 50 & 2013-12-31 22:00:00\\\\\n\t 2013 & 12 & 31 & 2310 & 2255 &  15 &    7 & 2356 &  11 & B6 &  718 & N279JB & JFK & BOS &  40 &  187 & 22 & 55 & 2013-12-31 22:00:00\\\\\n\t 2013 & 12 & 31 & 2321 & 2250 &  31 &   46 &    8 &  38 & B6 & 2002 & N179JB & JFK & BUF &  66 &  301 & 22 & 50 & 2013-12-31 22:00:00\\\\\n\t 2013 & 12 & 31 & 2328 & 2330 &  -2 &  412 &  409 &   3 & B6 & 1389 & N651JB & EWR & SJU & 198 & 1608 & 23 & 30 & 2013-12-31 23:00:00\\\\\n\t 2013 & 12 & 31 & 2332 & 2245 &  47 &   58 &    3 &  55 & B6 &  486 & N334JB & JFK & ROC &  60 &  264 & 22 & 45 & 2013-12-31 22:00:00\\\\\n\t 2013 & 12 & 31 & 2355 & 2359 &  -4 &  430 &  440 & -10 & B6 & 1503 & N509JB & JFK & SJU & 195 & 1598 & 23 & 59 & 2013-12-31 23:00:00\\\\\n\t 2013 & 12 & 31 & 2356 & 2359 &  -3 &  436 &  445 &  -9 & B6 &  745 & N665JB & JFK & PSE & 200 & 1617 & 23 & 59 & 2013-12-31 23:00:00\\\\\n\t 2013 & 12 & 31 &   NA & 1520 &  NA &   NA & 1705 &  NA & AA &  341 & N568AA & LGA & ORD &  NA &  733 & 15 & 20 & 2013-12-31 15:00:00\\\\\n\t 2013 & 12 & 31 &   NA & 2025 &  NA &   NA & 2205 &  NA & AA &  371 & N482AA & LGA & ORD &  NA &  733 & 20 & 25 & 2013-12-31 20:00:00\\\\\n\t 2013 & 12 & 31 &   NA & 1932 &  NA &   NA & 2305 &  NA & B6 &  161 & N516JB & JFK & SMF &  NA & 2521 & 19 & 32 & 2013-12-31 19:00:00\\\\\n\t 2013 & 12 & 31 &   NA & 1505 &  NA &   NA & 1725 &  NA & EV & 4181 & N24103 & EWR & MCI &  NA & 1092 & 15 &  5 & 2013-12-31 15:00:00\\\\\n\t 2013 & 12 & 31 &   NA & 1000 &  NA &   NA & 1252 &  NA & UA & 1124 & NA     & EWR & EGE &  NA & 1725 & 10 &  0 & 2013-12-31 10:00:00\\\\\n\t 2013 & 12 & 31 &   NA &  840 &  NA &   NA & 1205 &  NA & UA & 1151 & NA     & EWR & SEA &  NA & 2402 &  8 & 40 & 2013-12-31 08:00:00\\\\\n\t 2013 & 12 & 31 &   NA &  754 &  NA &   NA & 1118 &  NA & UA & 1455 & NA     & EWR & LAX &  NA & 2454 &  7 & 54 & 2013-12-31 07:00:00\\\\\n\t 2013 & 12 & 31 &   NA & 2000 &  NA &   NA & 2146 &  NA & UA & 1482 & NA     & EWR & ORD &  NA &  719 & 20 &  0 & 2013-12-31 20:00:00\\\\\n\t 2013 & 12 & 31 &   NA & 1500 &  NA &   NA & 1817 &  NA & UA & 1483 & NA     & EWR & AUS &  NA & 1504 & 15 &  0 & 2013-12-31 15:00:00\\\\\n\t 2013 & 12 & 31 &   NA & 1430 &  NA &   NA & 1750 &  NA & UA & 1493 & NA     & EWR & LAX &  NA & 2454 & 14 & 30 & 2013-12-31 14:00:00\\\\\n\t 2013 & 12 & 31 &   NA &  855 &  NA &   NA & 1142 &  NA & UA & 1506 & NA     & EWR & JAC &  NA & 1874 &  8 & 55 & 2013-12-31 08:00:00\\\\\n\t 2013 & 12 & 31 &   NA &  705 &  NA &   NA &  931 &  NA & UA & 1729 & NA     & EWR & DEN &  NA & 1605 &  7 &  5 & 2013-12-31 07:00:00\\\\\n\t 2013 & 12 & 31 &   NA &  825 &  NA &   NA & 1029 &  NA & US & 1831 & NA     & JFK & CLT &  NA &  541 &  8 & 25 & 2013-12-31 08:00:00\\\\\n\t 2013 & 12 & 31 &   NA & 1615 &  NA &   NA & 1800 &  NA & MQ & 3301 & N844MQ & LGA & RDU &  NA &  431 & 16 & 15 & 2013-12-31 16:00:00\\\\\n\t 2013 & 12 & 31 &   NA &  600 &  NA &   NA &  735 &  NA & UA &  219 & NA     & EWR & ORD &  NA &  719 &  6 &  0 & 2013-12-31 06:00:00\\\\\n\t 2013 & 12 & 31 &   NA &  830 &  NA &   NA & 1154 &  NA & UA &  443 & NA     & JFK & LAX &  NA & 2475 &  8 & 30 & 2013-12-31 08:00:00\\\\\n\\end{tabular}\n",
            "text/plain": [
              "      year month day dep_time sched_dep_time dep_delay arr_time sched_arr_time\n",
              "1     2013 11    1     5      2359             6       352       345          \n",
              "2     2013 11    1    35      2250           105       123      2356          \n",
              "3     2013 11    1   455       500            -5       641       651          \n",
              "4     2013 11    1   539       545            -6       856       827          \n",
              "5     2013 11    1   542       545            -3       831       855          \n",
              "6     2013 11    1   549       600           -11       912       923          \n",
              "7     2013 11    1   550       600           -10       705       659          \n",
              "8     2013 11    1   554       600            -6       659       701          \n",
              "9     2013 11    1   554       600            -6       826       827          \n",
              "10    2013 11    1   554       600            -6       749       751          \n",
              "11    2013 11    1   555       600            -5       847       854          \n",
              "12    2013 11    1   555       600            -5       839       846          \n",
              "13    2013 11    1   555       600            -5       929       943          \n",
              "14    2013 11    1   556       600            -4       834       851          \n",
              "15    2013 11    1   558       600            -2       727       730          \n",
              "16    2013 11    1   558       600            -2       650       658          \n",
              "17    2013 11    1   558       600            -2       914       905          \n",
              "18    2013 11    1   558       600            -2       720       715          \n",
              "19    2013 11    1   559       600            -1       756       730          \n",
              "20    2013 11    1   600       600             0       709       716          \n",
              "21    2013 11    1   600       600             0       725       721          \n",
              "22    2013 11    1   601       600             1       853       856          \n",
              "23    2013 11    1   601       610            -9       803       813          \n",
              "24    2013 11    1   602       600             2       843       815          \n",
              "25    2013 11    1   603       600             3       717       711          \n",
              "26    2013 11    1   604       610            -6       855       855          \n",
              "27    2013 11    1   606       615            -9       746       750          \n",
              "28    2013 11    1   606       615            -9       807       817          \n",
              "29    2013 11    1   606       610            -4       752       745          \n",
              "30    2013 11    1   607       611            -4       857       912          \n",
              "⋮     ⋮    ⋮     ⋮   ⋮        ⋮              ⋮         ⋮        ⋮             \n",
              "55374 2013 12    31  2155     2039            76        253     2355          \n",
              "55375 2013 12    31  2155     2150             5        110       51          \n",
              "55376 2013 12    31  2159     2155             4         55       46          \n",
              "55377 2013 12    31  2206     2110            56         44     2339          \n",
              "55378 2013 12    31  2211     2159            12        100       45          \n",
              "55379 2013 12    31  2218     2219            -1        315      304          \n",
              "55380 2013 12    31  2235     2245           -10       2351     2355          \n",
              "55381 2013 12    31  2245     2250            -5       2359     2356          \n",
              "55382 2013 12    31  2310     2255            15          7     2356          \n",
              "55383 2013 12    31  2321     2250            31         46        8          \n",
              "55384 2013 12    31  2328     2330            -2        412      409          \n",
              "55385 2013 12    31  2332     2245            47         58        3          \n",
              "55386 2013 12    31  2355     2359            -4        430      440          \n",
              "55387 2013 12    31  2356     2359            -3        436      445          \n",
              "55388 2013 12    31    NA     1520            NA         NA     1705          \n",
              "55389 2013 12    31    NA     2025            NA         NA     2205          \n",
              "55390 2013 12    31    NA     1932            NA         NA     2305          \n",
              "55391 2013 12    31    NA     1505            NA         NA     1725          \n",
              "55392 2013 12    31    NA     1000            NA         NA     1252          \n",
              "55393 2013 12    31    NA      840            NA         NA     1205          \n",
              "55394 2013 12    31    NA      754            NA         NA     1118          \n",
              "55395 2013 12    31    NA     2000            NA         NA     2146          \n",
              "55396 2013 12    31    NA     1500            NA         NA     1817          \n",
              "55397 2013 12    31    NA     1430            NA         NA     1750          \n",
              "55398 2013 12    31    NA      855            NA         NA     1142          \n",
              "55399 2013 12    31    NA      705            NA         NA      931          \n",
              "55400 2013 12    31    NA      825            NA         NA     1029          \n",
              "55401 2013 12    31    NA     1615            NA         NA     1800          \n",
              "55402 2013 12    31    NA      600            NA         NA      735          \n",
              "55403 2013 12    31    NA      830            NA         NA     1154          \n",
              "      arr_delay carrier flight tailnum origin dest air_time distance hour\n",
              "1       7       B6       745   N568JB  JFK    PSE  205      1617     23  \n",
              "2      87       B6      1816   N353JB  JFK    SYR   36       209     22  \n",
              "3     -10       US      1895   N192UW  EWR    CLT   88       529      5  \n",
              "4      29       UA      1714   N38727  LGA    IAH  229      1416      5  \n",
              "5     -24       AA      2243   N5CLAA  JFK    MIA  147      1089      5  \n",
              "6     -11       UA       303   N595UA  JFK    SFO  359      2586      6  \n",
              "7       6       US      2167   N748UW  LGA    DCA   57       214      6  \n",
              "8      -2       US      2134   N742PS  LGA    BOS   40       184      6  \n",
              "9      -1       DL       563   N912DE  LGA    ATL  126       762      6  \n",
              "10     -2       DL       731   N315NB  LGA    DTW   93       502      6  \n",
              "11     -7       B6       605   N640JB  EWR    FLL  149      1065      6  \n",
              "12     -7       B6       583   N661JB  JFK    MCO  136       944      6  \n",
              "13    -14       B6      1403   N746JB  JFK    SJU  196      1598      6  \n",
              "14    -17       UA       407   N834UA  EWR    TPA  142       997      6  \n",
              "15     -3       UA       279   N459UA  EWR    ORD  118       719      6  \n",
              "16     -8       US      1909   N950UW  LGA    PHL   38        96      6  \n",
              "17      9       AA      1175   N3GHAA  LGA    MIA  155      1096      6  \n",
              "18      5       WN       464   N390SW  EWR    MDW  117       711      6  \n",
              "19     26       AA       301   N4YHAA  LGA    ORD  119       733      6  \n",
              "20     -7       EV      5716   N820AS  JFK    IAD   49       228      6  \n",
              "21      4       UA      1198   N23707  LGA    ORD  121       733      6  \n",
              "22     -3       B6       371   N570JB  LGA    FLL  150      1076      6  \n",
              "23    -10       DL      1919   N922DL  LGA    MSP  153      1020      6  \n",
              "24     28       FL       345   N353AT  LGA    ATL  131       762      6  \n",
              "25      6       EV      4533   N11109  EWR    BUF   53       282      6  \n",
              "26      0       AA      1103   N3FTAA  LGA    DFW  205      1389      6  \n",
              "27     -4       MQ      3525   N834MQ  LGA    RDU   74       431      6  \n",
              "28    -10       US      1899   N199UW  JFK    CLT   93       541      6  \n",
              "29      7       WN      2609   N440LV  LGA    STL  142       888      6  \n",
              "30    -15       B6       601   N597JB  JFK    FLL  149      1069      6  \n",
              "⋮     ⋮         ⋮       ⋮      ⋮       ⋮      ⋮    ⋮        ⋮        ⋮   \n",
              "55374  NA       B6      1205   N627JB  JFK    PDX   NA      2454     20  \n",
              "55375  19       B6      1901   N729JB  JFK    FLL  164      1069     21  \n",
              "55376   9       B6      2053   N593JB  JFK    PBI  155      1028     21  \n",
              "55377  65       B6       775   N184JB  JFK    MSY  195      1182     21  \n",
              "55378  15       B6      1183   N715JB  JFK    MCO  148       944     21  \n",
              "55379  11       B6      1203   N625JB  JFK    SJU  202      1598     22  \n",
              "55380  -4       B6       234   N355JB  JFK    BTV   49       266     22  \n",
              "55381   3       B6      1816   N318JB  JFK    SYR   51       209     22  \n",
              "55382  11       B6       718   N279JB  JFK    BOS   40       187     22  \n",
              "55383  38       B6      2002   N179JB  JFK    BUF   66       301     22  \n",
              "55384   3       B6      1389   N651JB  EWR    SJU  198      1608     23  \n",
              "55385  55       B6       486   N334JB  JFK    ROC   60       264     22  \n",
              "55386 -10       B6      1503   N509JB  JFK    SJU  195      1598     23  \n",
              "55387  -9       B6       745   N665JB  JFK    PSE  200      1617     23  \n",
              "55388  NA       AA       341   N568AA  LGA    ORD   NA       733     15  \n",
              "55389  NA       AA       371   N482AA  LGA    ORD   NA       733     20  \n",
              "55390  NA       B6       161   N516JB  JFK    SMF   NA      2521     19  \n",
              "55391  NA       EV      4181   N24103  EWR    MCI   NA      1092     15  \n",
              "55392  NA       UA      1124   NA      EWR    EGE   NA      1725     10  \n",
              "55393  NA       UA      1151   NA      EWR    SEA   NA      2402      8  \n",
              "55394  NA       UA      1455   NA      EWR    LAX   NA      2454      7  \n",
              "55395  NA       UA      1482   NA      EWR    ORD   NA       719     20  \n",
              "55396  NA       UA      1483   NA      EWR    AUS   NA      1504     15  \n",
              "55397  NA       UA      1493   NA      EWR    LAX   NA      2454     14  \n",
              "55398  NA       UA      1506   NA      EWR    JAC   NA      1874      8  \n",
              "55399  NA       UA      1729   NA      EWR    DEN   NA      1605      7  \n",
              "55400  NA       US      1831   NA      JFK    CLT   NA       541      8  \n",
              "55401  NA       MQ      3301   N844MQ  LGA    RDU   NA       431     16  \n",
              "55402  NA       UA       219   NA      EWR    ORD   NA       719      6  \n",
              "55403  NA       UA       443   NA      JFK    LAX   NA      2475      8  \n",
              "      minute time_hour          \n",
              "1     59     2013-11-01 23:00:00\n",
              "2     50     2013-11-01 22:00:00\n",
              "3      0     2013-11-01 05:00:00\n",
              "4     45     2013-11-01 05:00:00\n",
              "5     45     2013-11-01 05:00:00\n",
              "6      0     2013-11-01 06:00:00\n",
              "7      0     2013-11-01 06:00:00\n",
              "8      0     2013-11-01 06:00:00\n",
              "9      0     2013-11-01 06:00:00\n",
              "10     0     2013-11-01 06:00:00\n",
              "11     0     2013-11-01 06:00:00\n",
              "12     0     2013-11-01 06:00:00\n",
              "13     0     2013-11-01 06:00:00\n",
              "14     0     2013-11-01 06:00:00\n",
              "15     0     2013-11-01 06:00:00\n",
              "16     0     2013-11-01 06:00:00\n",
              "17     0     2013-11-01 06:00:00\n",
              "18     0     2013-11-01 06:00:00\n",
              "19     0     2013-11-01 06:00:00\n",
              "20     0     2013-11-01 06:00:00\n",
              "21     0     2013-11-01 06:00:00\n",
              "22     0     2013-11-01 06:00:00\n",
              "23    10     2013-11-01 06:00:00\n",
              "24     0     2013-11-01 06:00:00\n",
              "25     0     2013-11-01 06:00:00\n",
              "26    10     2013-11-01 06:00:00\n",
              "27    15     2013-11-01 06:00:00\n",
              "28    15     2013-11-01 06:00:00\n",
              "29    10     2013-11-01 06:00:00\n",
              "30    11     2013-11-01 06:00:00\n",
              "⋮     ⋮      ⋮                  \n",
              "55374 39     2013-12-31 20:00:00\n",
              "55375 50     2013-12-31 21:00:00\n",
              "55376 55     2013-12-31 21:00:00\n",
              "55377 10     2013-12-31 21:00:00\n",
              "55378 59     2013-12-31 21:00:00\n",
              "55379 19     2013-12-31 22:00:00\n",
              "55380 45     2013-12-31 22:00:00\n",
              "55381 50     2013-12-31 22:00:00\n",
              "55382 55     2013-12-31 22:00:00\n",
              "55383 50     2013-12-31 22:00:00\n",
              "55384 30     2013-12-31 23:00:00\n",
              "55385 45     2013-12-31 22:00:00\n",
              "55386 59     2013-12-31 23:00:00\n",
              "55387 59     2013-12-31 23:00:00\n",
              "55388 20     2013-12-31 15:00:00\n",
              "55389 25     2013-12-31 20:00:00\n",
              "55390 32     2013-12-31 19:00:00\n",
              "55391  5     2013-12-31 15:00:00\n",
              "55392  0     2013-12-31 10:00:00\n",
              "55393 40     2013-12-31 08:00:00\n",
              "55394 54     2013-12-31 07:00:00\n",
              "55395  0     2013-12-31 20:00:00\n",
              "55396  0     2013-12-31 15:00:00\n",
              "55397 30     2013-12-31 14:00:00\n",
              "55398 55     2013-12-31 08:00:00\n",
              "55399  5     2013-12-31 07:00:00\n",
              "55400 25     2013-12-31 08:00:00\n",
              "55401 15     2013-12-31 16:00:00\n",
              "55402  0     2013-12-31 06:00:00\n",
              "55403 30     2013-12-31 08:00:00"
            ]
          },
          "metadata": {}
        }
      ]
    },
    {
      "cell_type": "markdown",
      "source": [
        "Seleccionar todos los vuelos que no fueron retrasados (en llegada o partida) por más de dos horas, intentar hacerlo de dos formas. **Sugerencia**: Revise las Leyes de De Morgan."
      ],
      "metadata": {
        "id": "mkF5F5R4t0-W"
      }
    },
    {
      "cell_type": "code",
      "source": [
        "dim(flights[ !( flights$dep_delay > 120 | flights$arr_delay > 120 ),   ])"
      ],
      "metadata": {
        "id": "YisRST8duxCL",
        "outputId": "80c0e087-3e55-4b18-abfa-acd5aa4759a2",
        "colab": {
          "base_uri": "https://localhost:8080/",
          "height": 34
        }
      },
      "execution_count": null,
      "outputs": [
        {
          "output_type": "display_data",
          "data": {
            "text/html": [
              "<style>\n",
              ".list-inline {list-style: none; margin:0; padding: 0}\n",
              ".list-inline>li {display: inline-block}\n",
              ".list-inline>li:not(:last-child)::after {content: \"\\00b7\"; padding: 0 .5ex}\n",
              "</style>\n",
              "<ol class=list-inline><li>325354</li><li>19</li></ol>\n"
            ],
            "text/markdown": "1. 325354\n2. 19\n\n\n",
            "text/latex": "\\begin{enumerate*}\n\\item 325354\n\\item 19\n\\end{enumerate*}\n",
            "text/plain": [
              "[1] 325354     19"
            ]
          },
          "metadata": {}
        }
      ]
    },
    {
      "cell_type": "code",
      "source": [
        "head(flights[ !( flights$dep_delay > 120 | flights$arr_delay > 120 ),   ])"
      ],
      "metadata": {
        "id": "pUC_B7iJt3Ac",
        "outputId": "258f3eda-25a8-4fc1-959a-4d8ded68cfc8",
        "colab": {
          "base_uri": "https://localhost:8080/",
          "height": 410
        }
      },
      "execution_count": null,
      "outputs": [
        {
          "output_type": "display_data",
          "data": {
            "text/html": [
              "<table class=\"dataframe\">\n",
              "<caption>A tibble: 6 × 19</caption>\n",
              "<thead>\n",
              "\t<tr><th scope=col>year</th><th scope=col>month</th><th scope=col>day</th><th scope=col>dep_time</th><th scope=col>sched_dep_time</th><th scope=col>dep_delay</th><th scope=col>arr_time</th><th scope=col>sched_arr_time</th><th scope=col>arr_delay</th><th scope=col>carrier</th><th scope=col>flight</th><th scope=col>tailnum</th><th scope=col>origin</th><th scope=col>dest</th><th scope=col>air_time</th><th scope=col>distance</th><th scope=col>hour</th><th scope=col>minute</th><th scope=col>time_hour</th></tr>\n",
              "\t<tr><th scope=col>&lt;int&gt;</th><th scope=col>&lt;int&gt;</th><th scope=col>&lt;int&gt;</th><th scope=col>&lt;int&gt;</th><th scope=col>&lt;int&gt;</th><th scope=col>&lt;dbl&gt;</th><th scope=col>&lt;int&gt;</th><th scope=col>&lt;int&gt;</th><th scope=col>&lt;dbl&gt;</th><th scope=col>&lt;chr&gt;</th><th scope=col>&lt;int&gt;</th><th scope=col>&lt;chr&gt;</th><th scope=col>&lt;chr&gt;</th><th scope=col>&lt;chr&gt;</th><th scope=col>&lt;dbl&gt;</th><th scope=col>&lt;dbl&gt;</th><th scope=col>&lt;dbl&gt;</th><th scope=col>&lt;dbl&gt;</th><th scope=col>&lt;dttm&gt;</th></tr>\n",
              "</thead>\n",
              "<tbody>\n",
              "\t<tr><td>2013</td><td>1</td><td>1</td><td>517</td><td>515</td><td> 2</td><td> 830</td><td> 819</td><td> 11</td><td>UA</td><td>1545</td><td>N14228</td><td>EWR</td><td>IAH</td><td>227</td><td>1400</td><td>5</td><td>15</td><td>2013-01-01 05:00:00</td></tr>\n",
              "\t<tr><td>2013</td><td>1</td><td>1</td><td>533</td><td>529</td><td> 4</td><td> 850</td><td> 830</td><td> 20</td><td>UA</td><td>1714</td><td>N24211</td><td>LGA</td><td>IAH</td><td>227</td><td>1416</td><td>5</td><td>29</td><td>2013-01-01 05:00:00</td></tr>\n",
              "\t<tr><td>2013</td><td>1</td><td>1</td><td>542</td><td>540</td><td> 2</td><td> 923</td><td> 850</td><td> 33</td><td>AA</td><td>1141</td><td>N619AA</td><td>JFK</td><td>MIA</td><td>160</td><td>1089</td><td>5</td><td>40</td><td>2013-01-01 05:00:00</td></tr>\n",
              "\t<tr><td>2013</td><td>1</td><td>1</td><td>544</td><td>545</td><td>-1</td><td>1004</td><td>1022</td><td>-18</td><td>B6</td><td> 725</td><td>N804JB</td><td>JFK</td><td>BQN</td><td>183</td><td>1576</td><td>5</td><td>45</td><td>2013-01-01 05:00:00</td></tr>\n",
              "\t<tr><td>2013</td><td>1</td><td>1</td><td>554</td><td>600</td><td>-6</td><td> 812</td><td> 837</td><td>-25</td><td>DL</td><td> 461</td><td>N668DN</td><td>LGA</td><td>ATL</td><td>116</td><td> 762</td><td>6</td><td> 0</td><td>2013-01-01 06:00:00</td></tr>\n",
              "\t<tr><td>2013</td><td>1</td><td>1</td><td>554</td><td>558</td><td>-4</td><td> 740</td><td> 728</td><td> 12</td><td>UA</td><td>1696</td><td>N39463</td><td>EWR</td><td>ORD</td><td>150</td><td> 719</td><td>5</td><td>58</td><td>2013-01-01 05:00:00</td></tr>\n",
              "</tbody>\n",
              "</table>\n"
            ],
            "text/markdown": "\nA tibble: 6 × 19\n\n| year &lt;int&gt; | month &lt;int&gt; | day &lt;int&gt; | dep_time &lt;int&gt; | sched_dep_time &lt;int&gt; | dep_delay &lt;dbl&gt; | arr_time &lt;int&gt; | sched_arr_time &lt;int&gt; | arr_delay &lt;dbl&gt; | carrier &lt;chr&gt; | flight &lt;int&gt; | tailnum &lt;chr&gt; | origin &lt;chr&gt; | dest &lt;chr&gt; | air_time &lt;dbl&gt; | distance &lt;dbl&gt; | hour &lt;dbl&gt; | minute &lt;dbl&gt; | time_hour &lt;dttm&gt; |\n|---|---|---|---|---|---|---|---|---|---|---|---|---|---|---|---|---|---|---|\n| 2013 | 1 | 1 | 517 | 515 |  2 |  830 |  819 |  11 | UA | 1545 | N14228 | EWR | IAH | 227 | 1400 | 5 | 15 | 2013-01-01 05:00:00 |\n| 2013 | 1 | 1 | 533 | 529 |  4 |  850 |  830 |  20 | UA | 1714 | N24211 | LGA | IAH | 227 | 1416 | 5 | 29 | 2013-01-01 05:00:00 |\n| 2013 | 1 | 1 | 542 | 540 |  2 |  923 |  850 |  33 | AA | 1141 | N619AA | JFK | MIA | 160 | 1089 | 5 | 40 | 2013-01-01 05:00:00 |\n| 2013 | 1 | 1 | 544 | 545 | -1 | 1004 | 1022 | -18 | B6 |  725 | N804JB | JFK | BQN | 183 | 1576 | 5 | 45 | 2013-01-01 05:00:00 |\n| 2013 | 1 | 1 | 554 | 600 | -6 |  812 |  837 | -25 | DL |  461 | N668DN | LGA | ATL | 116 |  762 | 6 |  0 | 2013-01-01 06:00:00 |\n| 2013 | 1 | 1 | 554 | 558 | -4 |  740 |  728 |  12 | UA | 1696 | N39463 | EWR | ORD | 150 |  719 | 5 | 58 | 2013-01-01 05:00:00 |\n\n",
            "text/latex": "A tibble: 6 × 19\n\\begin{tabular}{lllllllllllllllllll}\n year & month & day & dep\\_time & sched\\_dep\\_time & dep\\_delay & arr\\_time & sched\\_arr\\_time & arr\\_delay & carrier & flight & tailnum & origin & dest & air\\_time & distance & hour & minute & time\\_hour\\\\\n <int> & <int> & <int> & <int> & <int> & <dbl> & <int> & <int> & <dbl> & <chr> & <int> & <chr> & <chr> & <chr> & <dbl> & <dbl> & <dbl> & <dbl> & <dttm>\\\\\n\\hline\n\t 2013 & 1 & 1 & 517 & 515 &  2 &  830 &  819 &  11 & UA & 1545 & N14228 & EWR & IAH & 227 & 1400 & 5 & 15 & 2013-01-01 05:00:00\\\\\n\t 2013 & 1 & 1 & 533 & 529 &  4 &  850 &  830 &  20 & UA & 1714 & N24211 & LGA & IAH & 227 & 1416 & 5 & 29 & 2013-01-01 05:00:00\\\\\n\t 2013 & 1 & 1 & 542 & 540 &  2 &  923 &  850 &  33 & AA & 1141 & N619AA & JFK & MIA & 160 & 1089 & 5 & 40 & 2013-01-01 05:00:00\\\\\n\t 2013 & 1 & 1 & 544 & 545 & -1 & 1004 & 1022 & -18 & B6 &  725 & N804JB & JFK & BQN & 183 & 1576 & 5 & 45 & 2013-01-01 05:00:00\\\\\n\t 2013 & 1 & 1 & 554 & 600 & -6 &  812 &  837 & -25 & DL &  461 & N668DN & LGA & ATL & 116 &  762 & 6 &  0 & 2013-01-01 06:00:00\\\\\n\t 2013 & 1 & 1 & 554 & 558 & -4 &  740 &  728 &  12 & UA & 1696 & N39463 & EWR & ORD & 150 &  719 & 5 & 58 & 2013-01-01 05:00:00\\\\\n\\end{tabular}\n",
            "text/plain": [
              "  year month day dep_time sched_dep_time dep_delay arr_time sched_arr_time\n",
              "1 2013 1     1   517      515             2         830      819          \n",
              "2 2013 1     1   533      529             4         850      830          \n",
              "3 2013 1     1   542      540             2         923      850          \n",
              "4 2013 1     1   544      545            -1        1004     1022          \n",
              "5 2013 1     1   554      600            -6         812      837          \n",
              "6 2013 1     1   554      558            -4         740      728          \n",
              "  arr_delay carrier flight tailnum origin dest air_time distance hour minute\n",
              "1  11       UA      1545   N14228  EWR    IAH  227      1400     5    15    \n",
              "2  20       UA      1714   N24211  LGA    IAH  227      1416     5    29    \n",
              "3  33       AA      1141   N619AA  JFK    MIA  160      1089     5    40    \n",
              "4 -18       B6       725   N804JB  JFK    BQN  183      1576     5    45    \n",
              "5 -25       DL       461   N668DN  LGA    ATL  116       762     6     0    \n",
              "6  12       UA      1696   N39463  EWR    ORD  150       719     5    58    \n",
              "  time_hour          \n",
              "1 2013-01-01 05:00:00\n",
              "2 2013-01-01 05:00:00\n",
              "3 2013-01-01 05:00:00\n",
              "4 2013-01-01 05:00:00\n",
              "5 2013-01-01 06:00:00\n",
              "6 2013-01-01 05:00:00"
            ]
          },
          "metadata": {}
        }
      ]
    },
    {
      "cell_type": "code",
      "source": [
        "head(flights[ ( flights$dep_delay <= 120 & flights$arr_delay <= 120 ),   ])"
      ],
      "metadata": {
        "id": "qKn2mRJauqT7",
        "outputId": "f615eda9-ce42-4a7d-d24f-6230fdc38f77",
        "colab": {
          "base_uri": "https://localhost:8080/",
          "height": 410
        }
      },
      "execution_count": null,
      "outputs": [
        {
          "output_type": "display_data",
          "data": {
            "text/html": [
              "<table class=\"dataframe\">\n",
              "<caption>A tibble: 6 × 19</caption>\n",
              "<thead>\n",
              "\t<tr><th scope=col>year</th><th scope=col>month</th><th scope=col>day</th><th scope=col>dep_time</th><th scope=col>sched_dep_time</th><th scope=col>dep_delay</th><th scope=col>arr_time</th><th scope=col>sched_arr_time</th><th scope=col>arr_delay</th><th scope=col>carrier</th><th scope=col>flight</th><th scope=col>tailnum</th><th scope=col>origin</th><th scope=col>dest</th><th scope=col>air_time</th><th scope=col>distance</th><th scope=col>hour</th><th scope=col>minute</th><th scope=col>time_hour</th></tr>\n",
              "\t<tr><th scope=col>&lt;int&gt;</th><th scope=col>&lt;int&gt;</th><th scope=col>&lt;int&gt;</th><th scope=col>&lt;int&gt;</th><th scope=col>&lt;int&gt;</th><th scope=col>&lt;dbl&gt;</th><th scope=col>&lt;int&gt;</th><th scope=col>&lt;int&gt;</th><th scope=col>&lt;dbl&gt;</th><th scope=col>&lt;chr&gt;</th><th scope=col>&lt;int&gt;</th><th scope=col>&lt;chr&gt;</th><th scope=col>&lt;chr&gt;</th><th scope=col>&lt;chr&gt;</th><th scope=col>&lt;dbl&gt;</th><th scope=col>&lt;dbl&gt;</th><th scope=col>&lt;dbl&gt;</th><th scope=col>&lt;dbl&gt;</th><th scope=col>&lt;dttm&gt;</th></tr>\n",
              "</thead>\n",
              "<tbody>\n",
              "\t<tr><td>2013</td><td>1</td><td>1</td><td>517</td><td>515</td><td> 2</td><td> 830</td><td> 819</td><td> 11</td><td>UA</td><td>1545</td><td>N14228</td><td>EWR</td><td>IAH</td><td>227</td><td>1400</td><td>5</td><td>15</td><td>2013-01-01 05:00:00</td></tr>\n",
              "\t<tr><td>2013</td><td>1</td><td>1</td><td>533</td><td>529</td><td> 4</td><td> 850</td><td> 830</td><td> 20</td><td>UA</td><td>1714</td><td>N24211</td><td>LGA</td><td>IAH</td><td>227</td><td>1416</td><td>5</td><td>29</td><td>2013-01-01 05:00:00</td></tr>\n",
              "\t<tr><td>2013</td><td>1</td><td>1</td><td>542</td><td>540</td><td> 2</td><td> 923</td><td> 850</td><td> 33</td><td>AA</td><td>1141</td><td>N619AA</td><td>JFK</td><td>MIA</td><td>160</td><td>1089</td><td>5</td><td>40</td><td>2013-01-01 05:00:00</td></tr>\n",
              "\t<tr><td>2013</td><td>1</td><td>1</td><td>544</td><td>545</td><td>-1</td><td>1004</td><td>1022</td><td>-18</td><td>B6</td><td> 725</td><td>N804JB</td><td>JFK</td><td>BQN</td><td>183</td><td>1576</td><td>5</td><td>45</td><td>2013-01-01 05:00:00</td></tr>\n",
              "\t<tr><td>2013</td><td>1</td><td>1</td><td>554</td><td>600</td><td>-6</td><td> 812</td><td> 837</td><td>-25</td><td>DL</td><td> 461</td><td>N668DN</td><td>LGA</td><td>ATL</td><td>116</td><td> 762</td><td>6</td><td> 0</td><td>2013-01-01 06:00:00</td></tr>\n",
              "\t<tr><td>2013</td><td>1</td><td>1</td><td>554</td><td>558</td><td>-4</td><td> 740</td><td> 728</td><td> 12</td><td>UA</td><td>1696</td><td>N39463</td><td>EWR</td><td>ORD</td><td>150</td><td> 719</td><td>5</td><td>58</td><td>2013-01-01 05:00:00</td></tr>\n",
              "</tbody>\n",
              "</table>\n"
            ],
            "text/markdown": "\nA tibble: 6 × 19\n\n| year &lt;int&gt; | month &lt;int&gt; | day &lt;int&gt; | dep_time &lt;int&gt; | sched_dep_time &lt;int&gt; | dep_delay &lt;dbl&gt; | arr_time &lt;int&gt; | sched_arr_time &lt;int&gt; | arr_delay &lt;dbl&gt; | carrier &lt;chr&gt; | flight &lt;int&gt; | tailnum &lt;chr&gt; | origin &lt;chr&gt; | dest &lt;chr&gt; | air_time &lt;dbl&gt; | distance &lt;dbl&gt; | hour &lt;dbl&gt; | minute &lt;dbl&gt; | time_hour &lt;dttm&gt; |\n|---|---|---|---|---|---|---|---|---|---|---|---|---|---|---|---|---|---|---|\n| 2013 | 1 | 1 | 517 | 515 |  2 |  830 |  819 |  11 | UA | 1545 | N14228 | EWR | IAH | 227 | 1400 | 5 | 15 | 2013-01-01 05:00:00 |\n| 2013 | 1 | 1 | 533 | 529 |  4 |  850 |  830 |  20 | UA | 1714 | N24211 | LGA | IAH | 227 | 1416 | 5 | 29 | 2013-01-01 05:00:00 |\n| 2013 | 1 | 1 | 542 | 540 |  2 |  923 |  850 |  33 | AA | 1141 | N619AA | JFK | MIA | 160 | 1089 | 5 | 40 | 2013-01-01 05:00:00 |\n| 2013 | 1 | 1 | 544 | 545 | -1 | 1004 | 1022 | -18 | B6 |  725 | N804JB | JFK | BQN | 183 | 1576 | 5 | 45 | 2013-01-01 05:00:00 |\n| 2013 | 1 | 1 | 554 | 600 | -6 |  812 |  837 | -25 | DL |  461 | N668DN | LGA | ATL | 116 |  762 | 6 |  0 | 2013-01-01 06:00:00 |\n| 2013 | 1 | 1 | 554 | 558 | -4 |  740 |  728 |  12 | UA | 1696 | N39463 | EWR | ORD | 150 |  719 | 5 | 58 | 2013-01-01 05:00:00 |\n\n",
            "text/latex": "A tibble: 6 × 19\n\\begin{tabular}{lllllllllllllllllll}\n year & month & day & dep\\_time & sched\\_dep\\_time & dep\\_delay & arr\\_time & sched\\_arr\\_time & arr\\_delay & carrier & flight & tailnum & origin & dest & air\\_time & distance & hour & minute & time\\_hour\\\\\n <int> & <int> & <int> & <int> & <int> & <dbl> & <int> & <int> & <dbl> & <chr> & <int> & <chr> & <chr> & <chr> & <dbl> & <dbl> & <dbl> & <dbl> & <dttm>\\\\\n\\hline\n\t 2013 & 1 & 1 & 517 & 515 &  2 &  830 &  819 &  11 & UA & 1545 & N14228 & EWR & IAH & 227 & 1400 & 5 & 15 & 2013-01-01 05:00:00\\\\\n\t 2013 & 1 & 1 & 533 & 529 &  4 &  850 &  830 &  20 & UA & 1714 & N24211 & LGA & IAH & 227 & 1416 & 5 & 29 & 2013-01-01 05:00:00\\\\\n\t 2013 & 1 & 1 & 542 & 540 &  2 &  923 &  850 &  33 & AA & 1141 & N619AA & JFK & MIA & 160 & 1089 & 5 & 40 & 2013-01-01 05:00:00\\\\\n\t 2013 & 1 & 1 & 544 & 545 & -1 & 1004 & 1022 & -18 & B6 &  725 & N804JB & JFK & BQN & 183 & 1576 & 5 & 45 & 2013-01-01 05:00:00\\\\\n\t 2013 & 1 & 1 & 554 & 600 & -6 &  812 &  837 & -25 & DL &  461 & N668DN & LGA & ATL & 116 &  762 & 6 &  0 & 2013-01-01 06:00:00\\\\\n\t 2013 & 1 & 1 & 554 & 558 & -4 &  740 &  728 &  12 & UA & 1696 & N39463 & EWR & ORD & 150 &  719 & 5 & 58 & 2013-01-01 05:00:00\\\\\n\\end{tabular}\n",
            "text/plain": [
              "  year month day dep_time sched_dep_time dep_delay arr_time sched_arr_time\n",
              "1 2013 1     1   517      515             2         830      819          \n",
              "2 2013 1     1   533      529             4         850      830          \n",
              "3 2013 1     1   542      540             2         923      850          \n",
              "4 2013 1     1   544      545            -1        1004     1022          \n",
              "5 2013 1     1   554      600            -6         812      837          \n",
              "6 2013 1     1   554      558            -4         740      728          \n",
              "  arr_delay carrier flight tailnum origin dest air_time distance hour minute\n",
              "1  11       UA      1545   N14228  EWR    IAH  227      1400     5    15    \n",
              "2  20       UA      1714   N24211  LGA    IAH  227      1416     5    29    \n",
              "3  33       AA      1141   N619AA  JFK    MIA  160      1089     5    40    \n",
              "4 -18       B6       725   N804JB  JFK    BQN  183      1576     5    45    \n",
              "5 -25       DL       461   N668DN  LGA    ATL  116       762     6     0    \n",
              "6  12       UA      1696   N39463  EWR    ORD  150       719     5    58    \n",
              "  time_hour          \n",
              "1 2013-01-01 05:00:00\n",
              "2 2013-01-01 05:00:00\n",
              "3 2013-01-01 05:00:00\n",
              "4 2013-01-01 05:00:00\n",
              "5 2013-01-01 06:00:00\n",
              "6 2013-01-01 05:00:00"
            ]
          },
          "metadata": {}
        }
      ]
    },
    {
      "cell_type": "code",
      "source": [
        "dim(flights[ ( flights$dep_delay <= 120 & flights$arr_delay <= 120 ),   ])"
      ],
      "metadata": {
        "id": "tcRiqprXu4_G",
        "outputId": "79f2e993-a743-47a8-86ea-053163559a2a",
        "colab": {
          "base_uri": "https://localhost:8080/",
          "height": 34
        }
      },
      "execution_count": null,
      "outputs": [
        {
          "output_type": "display_data",
          "data": {
            "text/html": [
              "<style>\n",
              ".list-inline {list-style: none; margin:0; padding: 0}\n",
              ".list-inline>li {display: inline-block}\n",
              ".list-inline>li:not(:last-child)::after {content: \"\\00b7\"; padding: 0 .5ex}\n",
              "</style>\n",
              "<ol class=list-inline><li>325354</li><li>19</li></ol>\n"
            ],
            "text/markdown": "1. 325354\n2. 19\n\n\n",
            "text/latex": "\\begin{enumerate*}\n\\item 325354\n\\item 19\n\\end{enumerate*}\n",
            "text/plain": [
              "[1] 325354     19"
            ]
          },
          "metadata": {}
        }
      ]
    },
    {
      "cell_type": "markdown",
      "source": [
        "**Como modificar un data frame**\n",
        "\n",
        "Para modificar un data frame debemos usar el operador de asignación (o reasignación), por ejemplo con el siguiente data frame:\n",
        "\n",
        "```\n",
        "df <- data.frame( dui = 1:7, edad = c(21, 23, 27, 28, 29, 30, 35),\n",
        "                  nombre = c(\"Juan\", \"Dora\", \"Hugo\",\n",
        "                             \"Francisco\", \"Luis\", \"Carlos\",  \n",
        "                             \"Mauricio\"))\n",
        "```    \n",
        "\n",
        "Podemos modificar el valor del nombre de la primera fila con la siguiente re-asignación:\n",
        "\n",
        "```\n",
        "df[1, \"nombre\"] <- \"Francisco\"\n",
        "```"
      ],
      "metadata": {
        "id": "0i5QeoXQUgpS"
      }
    },
    {
      "cell_type": "markdown",
      "source": [
        "**Como agregar filas a un data frame**\n",
        "\n",
        "Podemos agregar filas a un data frame usando la función rbind y creando una lista de la siguiente forma:\n",
        "\n",
        "```\n",
        "new_row <- list(dui = 8, edad = 46, nombre = \"Andres\")\n",
        "df <- rbind(df, new_row)\n",
        "```"
      ],
      "metadata": {
        "id": "xttNdUgnZrYp"
      }
    },
    {
      "cell_type": "code",
      "source": [
        "new_row <- list(dui = 8, edad = 46, nombre = \"Andres\")\n",
        "df <- rbind(df, new_row)"
      ],
      "metadata": {
        "id": "XW6qZWSlaQz-"
      },
      "execution_count": null,
      "outputs": []
    },
    {
      "cell_type": "markdown",
      "source": [
        "**Borrando columnas de un data frame**\n",
        "\n",
        "Para borrar las columnas de un data frame se debe asignar la columna al valor NULL, a continuación vamos a borrar la variable edad del data frame df.\n",
        "\n",
        "```\n",
        "head(df)\n",
        "df$edad <- NULL\n",
        "head(df)\n",
        "```"
      ],
      "metadata": {
        "id": "_8pwRurcYbk0"
      }
    },
    {
      "cell_type": "markdown",
      "source": [
        "**Borrando filas en un data frame**\n",
        "\n",
        "Para borrar filas en un data frame se puede hacer de dos formas:\n",
        "\n",
        "* Borrando filas basandome en una condición específica.  \n",
        "* Borrando filas por su índice.\n",
        "\n",
        "Puedes ver más detalles en el siguiente enlace:\n",
        "\n",
        "[Borrando filas en R](https://chat.openai.com/share/2b717d8f-7457-4053-9d91-76654452bda4)\n",
        "\n",
        "\n",
        "Por ejemplo si quisieramos borrar del data frame df a las filas que cumplen las condicion que el nombre sea Luis tendriamos que hacer lo siguiente:\n",
        "\n",
        "```\n",
        "df <- df[df$nombre != \"Luis\", ]\n",
        "```\n"
      ],
      "metadata": {
        "id": "LANz16e_ax8d"
      }
    },
    {
      "cell_type": "markdown",
      "source": [
        "**Ejercicio**\n",
        "\n",
        "En la columna Ozone del dataframe airquality del paquete datasets, cambiar los valores NA por 0.\n",
        "\n",
        "**Sugerencia**: Use la función is.na."
      ],
      "metadata": {
        "id": "Gt5CfkeC-qIG"
      }
    },
    {
      "cell_type": "code",
      "source": [
        "sum(is.na(airquality$Ozone))  # count the number of missing values"
      ],
      "metadata": {
        "colab": {
          "base_uri": "https://localhost:8080/",
          "height": 34
        },
        "id": "iDHAriPCEjSl",
        "outputId": "c8784a09-3158-48ff-bfe1-733ec6f1cab6"
      },
      "execution_count": null,
      "outputs": [
        {
          "output_type": "display_data",
          "data": {
            "text/html": [
              "37"
            ],
            "text/markdown": "37",
            "text/latex": "37",
            "text/plain": [
              "[1] 37"
            ]
          },
          "metadata": {}
        }
      ]
    },
    {
      "cell_type": "code",
      "source": [
        "range(airquality$Ozone, na.rm = TRUE)  # min and max values for Ozone variable"
      ],
      "metadata": {
        "colab": {
          "base_uri": "https://localhost:8080/",
          "height": 34
        },
        "id": "LH4yuTOuFM1R",
        "outputId": "0c5136ca-71cf-4252-e859-5b81fe13d329"
      },
      "execution_count": null,
      "outputs": [
        {
          "output_type": "display_data",
          "data": {
            "text/html": [
              "<style>\n",
              ".list-inline {list-style: none; margin:0; padding: 0}\n",
              ".list-inline>li {display: inline-block}\n",
              ".list-inline>li:not(:last-child)::after {content: \"\\00b7\"; padding: 0 .5ex}\n",
              "</style>\n",
              "<ol class=list-inline><li>1</li><li>168</li></ol>\n"
            ],
            "text/markdown": "1. 1\n2. 168\n\n\n",
            "text/latex": "\\begin{enumerate*}\n\\item 1\n\\item 168\n\\end{enumerate*}\n",
            "text/plain": [
              "[1]   1 168"
            ]
          },
          "metadata": {}
        }
      ]
    },
    {
      "cell_type": "code",
      "source": [
        "indexs <- is.na(airquality$Ozone)\n",
        "airquality[ indexs, \"Ozone\" ] <- 0"
      ],
      "metadata": {
        "id": "heQFHLqlF0Hp"
      },
      "execution_count": null,
      "outputs": []
    },
    {
      "cell_type": "code",
      "source": [
        "sum(airquality$Ozone == 0)  # sanity check"
      ],
      "metadata": {
        "colab": {
          "base_uri": "https://localhost:8080/",
          "height": 34
        },
        "id": "RALCk4A7GEmj",
        "outputId": "878a8620-917f-416a-e1fc-4f8f788e6e79"
      },
      "execution_count": null,
      "outputs": [
        {
          "output_type": "display_data",
          "data": {
            "text/html": [
              "37"
            ],
            "text/markdown": "37",
            "text/latex": "37",
            "text/plain": [
              "[1] 37"
            ]
          },
          "metadata": {}
        }
      ]
    },
    {
      "cell_type": "markdown",
      "source": [
        "# Factores\n",
        "\n",
        "Los factores nos permiten representar las variables cualitativas las cuales pueden ser nominales y ordinales. Los niveles de un factor son los valores posibles que puede tomar la variable cualitativa.\n",
        "\n",
        "A continuación vamos a crear un factor y un vector de caracter con la misma información con el siguiente código.\n",
        "\n",
        "```\n",
        "x <- c(\"single\", \"married\", \"married\", \"single\")\n",
        "\n",
        "x\n",
        "\n",
        "x_factor <- factor(x)\n",
        "\n",
        "x_factor\n",
        "```"
      ],
      "metadata": {
        "id": "jo8kCMUVKRug"
      }
    },
    {
      "cell_type": "markdown",
      "source": [
        "Resulta que las funciones de R tratan de manera diferente (polimorfismo) los vectores de caracteres y los factores, prueba de ello es el siguiente código:\n",
        "\n",
        "```\n",
        "summary(x)\n",
        "summary(x_factor)\n",
        "```"
      ],
      "metadata": {
        "id": "3VYwYA7cPJQc"
      }
    },
    {
      "cell_type": "markdown",
      "source": [
        "Tambien podemos definir los valores de los niveles de manera explicita como en el siguiente código.\n",
        "\n",
        "```\n",
        "x_factor <- factor(c(\"single\", \"married\", \"married\", \"single\"), levels = c(\"single\", \"married\", \"divorced\"))\n",
        "x_factor\n",
        "\n",
        "```"
      ],
      "metadata": {
        "id": "3KhYPX2fOg9W"
      }
    },
    {
      "cell_type": "markdown",
      "source": [
        "**Como accesar a los componentes de un factor**\n",
        "\n",
        "Para accesar a los componentes de un factor se hace de la misma manera que con los vectores."
      ],
      "metadata": {
        "id": "vCYnchkdP-lW"
      }
    },
    {
      "cell_type": "markdown",
      "source": [
        "**Como modificar un factor**\n",
        "\n",
        "Para modificar los componentes de  un factor se hace de la misma manera que con vectores, sin embargo, no se puede establecer valores diferentes a los niveles previamente asignados."
      ],
      "metadata": {
        "id": "ycjXd213QJnK"
      }
    },
    {
      "cell_type": "markdown",
      "source": [
        "**Consultando los níveles del factor**\n",
        "\n",
        "Para consultar los niveles de un factor se usa la función levels, a continuación detallo un ejemplo.\n",
        "\n",
        "```\n",
        "levels(x_factor)\n",
        "```"
      ],
      "metadata": {
        "id": "GEdEGcVmR4_d"
      }
    },
    {
      "cell_type": "markdown",
      "source": [
        "**Definiendo un factor ordenado**\n",
        "\n",
        "Para definir un factor ordenado hay que usar la opción ordered = TRUE, además al definir los niveles deben ir de menor a mayor.\n",
        "\n",
        "\n",
        "```\n",
        "x_factor_ordered <- factor(c(\"neutral\", \"good\", \"bad\", \"good\"), levels = c(\"bad\", \"neutral\", \"good\"), ordered = TRUE)\n",
        "x_factor_ordered\n",
        "\n",
        "```"
      ],
      "metadata": {
        "id": "NvZDGwilSkWk"
      }
    },
    {
      "cell_type": "markdown",
      "source": [
        "Podemos hacer comparaciones de orden en factores ordenados, por ejemplo:\n",
        "\n",
        "```\n",
        "x_factor_ordered[1] < x_factor_ordered[2]\n",
        "```"
      ],
      "metadata": {
        "id": "VfLwcX6AXjpU"
      }
    },
    {
      "cell_type": "markdown",
      "source": [
        "**Ejercicio**\n",
        "\n",
        "Realizar las siguientes tareas:\n",
        "\n",
        "1. Crear un vector responses que contenga 50, 10, 20, 30 y 25 observaciones respectivamente para cada uno de estos niveles: \"Very Unsatisfied\", \"Unsatisfied\", \"Neutral\", \"Satisfied\", and \"Very Satisfied\".\n",
        "\n",
        "2. Convertir el vector responses en un factor ordenado.\n",
        "\n",
        "3. Usar summary para desplegar un resumen del factor ordenado.\n",
        "\n"
      ],
      "metadata": {
        "id": "Tohl2NV7AFWx"
      }
    },
    {
      "cell_type": "markdown",
      "source": [
        "**Ejercicios suplementarios**\n",
        "\n",
        "1. Crear un código en R que permita codificar los meses del año como un factor no-ordenado.\n",
        "\n",
        "2. Si\n",
        "\n",
        "```\n",
        "x <- c(1, 2, 3, 3, 5, 3, 2, 4, NA)\n",
        "```\n",
        "\n",
        "Cuales son los niveles del factor(x)?\n",
        "\n",
        "    a. 1, 2, 3, 4, 5\n",
        "\n",
        "    b. NA\n",
        "\n",
        "    c. 1, 2, 3, 4, 5, NA\n",
        "\n",
        "3. Sea\n",
        "\n",
        "```\n",
        "\n",
        "x <- c(11, 22, 47, 47, 11, 47, 11)\n",
        "\n",
        "```\n",
        "\n",
        "Si la siguiente expressión es ejecutada\n",
        "\n",
        "```\n",
        "\n",
        "factor(x, levels=c(11, 22, 47), ordered=TRUE)\n",
        "\n",
        "```\n",
        "\n",
        "Cual va a ser el cuarto elemento en la salida?\n",
        "\n",
        "4. Si\n",
        "\n",
        "```\n",
        "z <- c(\"p\", \"a\" , \"g\", \"t\", \"b\")\n",
        "```\n",
        "\n",
        "Entonces cual de las siguientes expresiones de R reemplazará el tercer elemento en z con \"b\".\n",
        "\n",
        "    a. factor(z[3]) <- \"b\"\n",
        "    b. levels(z[3]) <- \"b\"\n",
        "    c. z[3] <- \"b\"\n",
        "\n",
        "\n",
        "5. Si\n",
        "\n",
        "```\n",
        "z <- factor(c(\"p\", \"q\", \"p\", \"r\", \"q\"))\n",
        "```\n",
        "\n",
        "Y los niveles de z son \"p\", \"q\", y \"r\", escribir\n",
        "una expresión en R que\n",
        "cambie los niveles de \"p\" a \"w\" con lo que z sea igual a:\n",
        "\n",
        "\"w\", \"q\" , \"w\", \"r\" , \"q\".\n",
        "\n",
        "\n",
        "6. Considere el dataset iris en R. Escriba una expresión en R que corte la variable Sepal.Length y cree el siguiente factor con cinco niveles.\n",
        "\n",
        "```\n",
        "(4.3, 5.02] (5.02, 5.74] (5.74, 6.46] (6.46, 7.18] (7.18, 7.9]\n",
        "32 41 42 24 11\n",
        "```\n"
      ],
      "metadata": {
        "id": "zYueeH8PKKwD"
      }
    },
    {
      "cell_type": "markdown",
      "source": [
        "# La instrucción if else\n",
        "\n",
        "**La instrucción if**\n",
        "\n",
        "La sintaxis de la instrucción if es:\n",
        "\n",
        "```\n",
        "if (test_expression){\n",
        "   statement\n",
        "}\n",
        "```\n",
        "\n"
      ],
      "metadata": {
        "id": "GWu4shqhakw2"
      }
    },
    {
      "cell_type": "markdown",
      "source": [
        "Si test_expression es verdadero (TRUE), la instrucción statement es ejecutada. Pero si es falsa (FALSE), el control del programa pasa a la línea despues de las llaves de cierre.\n",
        "\n",
        "Aquí, test_expression puede ser un vector lógico o vector númerico, pero solo el primer elemento es tomado en consideración.\n",
        "\n",
        "En el caso de vectores númericos, cero es tomado como falso (FALSE) y cualquier otro valor es tomado como verdadero (TRUE). A continuación mostramos el diagrama de flujo de la instrucción if.\n"
      ],
      "metadata": {
        "id": "tR3ivi9idNhK"
      }
    },
    {
      "cell_type": "markdown",
      "source": [
        "\n",
        "\n",
        "![If statement](https://raw.githubusercontent.com/ricardo-rios/fund_prog_est/main/UnidadI/if_statement.png \"If statement\")"
      ],
      "metadata": {
        "id": "FIxD1xL8hvSc"
      }
    },
    {
      "cell_type": "markdown",
      "source": [
        "A continuación mostramos un ejemplo de uso de la instrucción if.\n",
        "\n",
        "```\n",
        "x <- 5\n",
        "if (x > 0){\n",
        "   print(\"Positive number\")\n",
        "}\n",
        "```"
      ],
      "metadata": {
        "id": "K4EMob96iUmW"
      }
    },
    {
      "cell_type": "markdown",
      "source": [
        "**La instrucción if else**\n",
        "\n",
        "La sintaxis de la instrucción if else es:\n",
        "\n",
        "```\n",
        "if (test_expression){\n",
        "   statement1\n",
        "} else{\n",
        "   statement2\n",
        "}\n",
        "```"
      ],
      "metadata": {
        "id": "4wvtpKaiQyTG"
      }
    },
    {
      "cell_type": "markdown",
      "source": [
        "El else es opcional y solo es evaluado si test_expression es Falso.\n",
        "\n",
        "**Nota**: La instrucción else debe estar en la misma línea que las llaves de cierre de la instrucción if. A continuación mostramos el diagrama de flujo de la instrucción if-else."
      ],
      "metadata": {
        "id": "mjb_TPooRMbZ"
      }
    },
    {
      "cell_type": "markdown",
      "source": [
        "![If-Else statement](https://raw.githubusercontent.com/ricardo-rios/fund_prog_est/main/UnidadI/if_else_statement.png \"If-Else statement\")"
      ],
      "metadata": {
        "id": "zhb3yDENSrPo"
      }
    },
    {
      "cell_type": "markdown",
      "source": [
        "A continuación mostramos un ejemplo de uso de la instrucción if-else.\n",
        "\n",
        "```\n",
        "x <- -5\n",
        "\n",
        "if(x > 0){\n",
        "   print(\"Non-negative number\")\n",
        "} else{\n",
        "   print(\"Negative number\")\n",
        "}\n",
        "```\n"
      ],
      "metadata": {
        "id": "iafkFp_xTx2g"
      }
    },
    {
      "cell_type": "markdown",
      "source": [
        "Como -5 no es mayor que 0, así la condición del if se evalua como Falsa. Por lo tanto, el código procede a la declaración else e imprime la cadena \"Negative number\"."
      ],
      "metadata": {
        "id": "6R_YjH0fUFCD"
      }
    },
    {
      "cell_type": "markdown",
      "source": [
        "**La escalera if else**\n",
        "\n",
        "La escalera if..else (if..else..if) permite ejecutar un bloque de código entre más de dos alternativas. La sintaxis es:\n",
        "\n",
        "\n",
        "\n",
        "```\n",
        "if (test_expression1){\n",
        "   statement1\n",
        "} else if(test_expression2){\n",
        "   statement2\n",
        "} else if(test_expression3){\n",
        "   statement3\n",
        "} else{\n",
        "   statement4\n",
        "}\n",
        "```\n",
        "\n",
        "Solo una instrucción será ejecutada dependiendo de las test_expressions. A continuación mostramos un ejemplo de la escalera if else."
      ],
      "metadata": {
        "id": "bB9YO_4WVQoY"
      }
    },
    {
      "cell_type": "markdown",
      "source": [
        "```\n",
        "\n",
        "x <- 0\n",
        "\n",
        "if (x < 0) {\n",
        "   print(\"Negative number\")\n",
        "} else if (x > 0) {\n",
        "   print(\"Positive number\")\n",
        "} else {\n",
        "   print(\"Zero\")\n",
        "}\n",
        "\n",
        "\n",
        "```"
      ],
      "metadata": {
        "id": "JsTyE3cRWXwY"
      }
    },
    {
      "cell_type": "markdown",
      "source": [
        "La variable x es asignada cero, la cual no es menor que 0, así la condición x < 0 se evalua como Falsa.\n",
        "\n",
        "Ya que la condición en la declaración  else if es tambien Falsa, el código procede a la declaración else y se ejecuta el correspondiente bloque, resultando en la salida \"Zero\"."
      ],
      "metadata": {
        "id": "HSObrRjoWl9N"
      }
    },
    {
      "cell_type": "markdown",
      "source": [
        "**Ejercicio**:\n",
        "\n",
        "**Objetivo**:\n",
        "\n",
        "Escribir un código en R que categorize estudiantes en los siguientes grupos (A, B, C, D, F) basado en sus notas en una escala que va de 0 a 100.\n",
        "\n",
        "**Instrucciones:**\n",
        "\n",
        "1. Defina una variable nota que almacene la nota de un estudiante.\n",
        "\n",
        "2. Determine la pertenencia al grupo usando la siguiente escala:\n",
        "   * A: De 90 hasta 100\n",
        "   * B: De 80 hasta 89\n",
        "   * C: De 70 hasta 79\n",
        "   * D: De 60 hasta 69\n",
        "   * F: Abajo de 60\n",
        "\n",
        "3. El código imprimira el grupo al que pertenece la nota definida en 1.\n"
      ],
      "metadata": {
        "id": "MDK3Fpd8ZT7a"
      }
    },
    {
      "cell_type": "markdown",
      "source": [
        "**Ejercicios suplementarios**\n",
        "\n",
        "1. En el siguiente código:\n",
        "\n",
        "```\n",
        "x <- 12\n",
        "\n",
        "if(is.numeric(x)){\n",
        "   y=x*2\n",
        "}\n",
        "\n",
        "```\n",
        "\n",
        "Cuál es el valor almacenado en y?\n",
        "\n",
        "2. En el siguiente código:\n",
        "\n",
        "```\n",
        "z <- -1\n",
        "\n",
        "if(z<0){\n",
        "  x <- abs(z)\n",
        "  y <- z*3\n",
        "}\n",
        "\n",
        "```\n",
        "\n",
        "\n",
        "Cuál es el valor almacenado en x e y?\n",
        "\n",
        "\n",
        "3. En el siguiente código:  \n",
        "\n",
        "```\n",
        "z <- 6\n",
        "\n",
        "if(z<0){\n",
        "  y <- z*3\n",
        "} else {\n",
        "  y <- z*5\n",
        "}\n",
        "    \n",
        "```\n",
        "\n",
        "Cuál es el valor almacenado en y?\n",
        "\n",
        "\n",
        "\n",
        "4. En el siguiente código\n",
        "\n",
        "```\n",
        "z <- 'i'\n",
        "\n",
        "if (z %in% letters)\n",
        "\n",
        "if (z=='a') n <- 1 else\n",
        "\n",
        "  if (z=='e') n <- 2 else\n",
        "\n",
        "    if (z=='i') n <- 3 else\n",
        "\n",
        "      if (z=='o') n <- 4 else n <- 5\n",
        "\n",
        "\n",
        "```\n",
        "\n",
        "Cuál es el valor almacenado en n?\n",
        "\n",
        "\n",
        "5. En el siguiente código\n",
        "\n",
        "```\n",
        "\n",
        "z  <- 'u'\n",
        "\n",
        "if (z %in% letters)\n",
        "\n",
        "if (z=='a') n <- 1 else\n",
        "\n",
        "  if (z=='e') n <- 2 else\n",
        "\n",
        "    if (z=='i') n <- 3 else\n",
        "\n",
        "      if (z=='o') n <- 4 else n <- 5\n",
        "\n",
        "```\n",
        "\n",
        "\n",
        "Cuál es el valor almacenado en n?\n"
      ],
      "metadata": {
        "id": "pRVzFfyCWgEe"
      }
    },
    {
      "cell_type": "markdown",
      "source": [
        "# La función ifelse\n",
        "\n",
        "Existe un equivalente para vectores de las anteriores estructuras de bifurcación. La función ifelse() es una función condicional en R que permite realizar operaciones condicionales elemento a elemento en vectores o data frames.\n",
        "\n",
        "La sintaxis de la función ifelse() es:\n",
        "\n",
        "```\n",
        "ifelse(test_expression, x, y)\n",
        "```\n",
        "\n",
        "Donde:\n",
        "\n",
        "* test_expression: Una condición lógica o un vector lógico que especifica la condición a ser evaluada. Puede ser un solo valor lógico o un vector de valores lógicos.\n",
        "\n",
        "* x: El valor o expresión a ser returnado cuando la condición es verdadera. Puede ser un solo valor, vector o una expresión.\n",
        "\n",
        "* y: El valor o expresión a ser returnado cuando la condición es falsa. Puede ser un solo valor, vector o una expresión.\n",
        "\n",
        "El valor de retorno es un vector de la misma longitud como test_expression. A continuación mostramos un ejemplo de la función ifelse.\n",
        "\n",
        "```\n",
        "x <- c(5, 7, 2, 9)\n",
        "\n",
        "ifelse(x %% 2 == 0, \"even\", \"odd\")\n",
        "\n",
        "```\n"
      ],
      "metadata": {
        "id": "M_qphZpMZNsW"
      }
    },
    {
      "cell_type": "markdown",
      "source": [
        "**Ejercicio**:\n",
        "\n",
        "Se tienen las siguiente notas correspondientes a un curso de loǵica matemática almacenadas en un vector.\n",
        "\n",
        "```\n",
        "notas <- c(5.6, 7.8, 5.0, 8.0, 10, 2.5, 6, 2.1)\n",
        "```\n",
        "\n",
        "El criterio de aprobación es el siguiente:\n",
        "\n",
        "Si es mayor o igual a 6.0 es aprobado y en caso contrario es reprobado.\n",
        "\n",
        "Se pide generar un vector de caracteres con el estado de aprobación usando la función ifelse."
      ],
      "metadata": {
        "id": "AOkxQjF-lfZx"
      }
    },
    {
      "cell_type": "markdown",
      "source": [
        "**Ejercicio**\n",
        "\n",
        "Tenemos el siguiente vector de temperaturas:\n",
        "\n",
        "```\n",
        "temperatures <- c(13, 22, 7, 19, 28, 15, 24, 30)\n",
        "\n",
        "```\n",
        "\n",
        "Queremos categorizar el anterior vector de temperaturas en grados celsius usando el siguiente criterio:\n",
        "\n",
        "* Cold: Abajo de 15 grados celsius\n",
        "* Moderate: Entre 15 y 25 grados celsius\n",
        "* Hot: Arriba de 25 grados celsius\n",
        "\n",
        "**Sugerencia**: Usar la función ifelse y expresar el resultado final como un factor ordenado."
      ],
      "metadata": {
        "id": "Ow5Bvp3DBzL1"
      }
    },
    {
      "cell_type": "markdown",
      "source": [
        "# El bucle for\n",
        "\n",
        "Los bucles son usados en programación para repetir bloques específicos de código. El bucle for de R es usado para iterar en un vector. A continuación mostramos la sintaxis:\n",
        "\n",
        "```\n",
        "for (val in sequence){\n",
        "   statement\n",
        "}\n",
        "\n",
        "```\n",
        "\n",
        "En el snippet anterior sequence es un vector y val adquiere cada uno de los valores del vector durante el bucle. En cada iteración, statement es evaluado. A continuación mostramos el diagrama de flujo del bucle for.\n",
        "\n",
        "\n",
        "\n"
      ],
      "metadata": {
        "id": "hY--bduO5zFW"
      }
    },
    {
      "cell_type": "markdown",
      "source": [
        "![For-Loop statement](https://raw.githubusercontent.com/ricardo-rios/fund_prog_est/main/UnidadI/for_loop.png \"For-Loop statement\")"
      ],
      "metadata": {
        "id": "9G7ZJpOo7mo1"
      }
    },
    {
      "cell_type": "markdown",
      "source": [
        "A continuación mostramos un ejemplo que cuenta el número de números pares en un vector.\n",
        "\n",
        "```\n",
        "x <- c(2,5,3,9,8,11,6)\n",
        "count <- 0\n",
        "\n",
        "for (val in x) {\n",
        "   if(val %% 2 == 0){\n",
        "      count <- count+1\n",
        "   }  \n",
        "}\n",
        "\n",
        "print(count)\n",
        "\n",
        "```"
      ],
      "metadata": {
        "id": "s1dnSlMH8LlA"
      }
    },
    {
      "cell_type": "markdown",
      "source": [
        "**Ejercicios**\n",
        "\n",
        "1. Escriba un bucle for que itere sobre los números del 1 al 7 e imprima el cubo de cada número usando print()\n",
        "\n",
        "\n",
        "2. Escriba un código que sume los números del 1 al 100, verifique su respuesta utilizando la siguiente famosa fórmula:\n",
        "\n",
        "$$  $$\n",
        "\n",
        "\n",
        "**Nota**: Siempre que se pueda es mejor utilizar opciones vectorizadas en lugar de bucles. A continuación mostramos un ejemplo de esto.\n",
        "\n",
        "\n",
        "\n"
      ],
      "metadata": {
        "id": "nBqlJXJM85K4"
      }
    },
    {
      "cell_type": "markdown",
      "source": [
        "**Ejercicio**\n",
        "\n",
        "Se tiene la siguiente matriz la cual tiene valores ausentes.\n",
        "\n",
        "```\n",
        "my_matrix <- matrix(c(1, NA, 3, 4, 5, NA, 7, 8, NA), nrow = 3, ncol = 3)\n",
        "```\n",
        "\n",
        "Se pide sustituir los valores  NA por 0 usando:\n",
        "\n",
        "* Bucles for\n",
        "* Usando la función vectorizada apply\n",
        "* Usando indices lógicos"
      ],
      "metadata": {
        "id": "bBDvgJVqB7qQ"
      }
    },
    {
      "cell_type": "markdown",
      "source": [
        "# El bucle while\n",
        "\n",
        "Bucles son usados en programación para repetir un bloque específico de código. A continuación vamos a aprender como crear un bucle while.\n",
        "\n",
        "En R, los bucles while son usados para iterar en un bucle siempre que se cumpla una condición. A continuación mostramos la sintaxis:\n",
        "\n",
        "```\n",
        "while (test_expression){\n",
        "\n",
        "   statement\n",
        "\n",
        "}\n",
        "\n",
        "```\n",
        "\n",
        "En el anterior código, test_expression es evaluado y se entra en el cuerpo del bucle si el resultado es verdadero.\n",
        "\n",
        "Esto es repetido hasta test_expression se evalua Falso, en tal caso el bucle termina. A continuación mostramos el diagrama de flujo del bucle while."
      ],
      "metadata": {
        "id": "-wlpGm97tLPp"
      }
    },
    {
      "cell_type": "markdown",
      "source": [
        "![While-Loop statement](https://raw.githubusercontent.com/ricardo-rios/fund_prog_est/main/UnidadI/while_loop.png \"While-Loop statement\")"
      ],
      "metadata": {
        "id": "mkbaQ65ryUPG"
      }
    },
    {
      "cell_type": "markdown",
      "source": [
        "A continuación mostramos un ejemplo de uso del bucle while.\n",
        "\n",
        "\n",
        "```\n",
        "\n",
        "i <- 1\n",
        "\n",
        "while (i < 6){\n",
        "   print(i)\n",
        "   i = i+1\n",
        "}\n",
        "\n",
        "\n",
        "```"
      ],
      "metadata": {
        "id": "LNA-ADsFyDR8"
      }
    },
    {
      "cell_type": "markdown",
      "source": [
        "En el código anterior, $i$ es inicializado a 1.\n",
        "\n",
        "La condición del bucle es $ i < 6 $ el cual se evalua como verdadero ya que 1 es menor que 6. Así, se entra en el cuerpo del bucle y i es imprimeso e incrementado.\n",
        "\n",
        "En la siguiente iteración, el valor de $i$ es 2 y el bucle continua.\n",
        "\n",
        "Esto continuará hasta que $i$ toma el valor de 6. La condición $ 6 < 6  $ es falsa y el bucle while finalmente termina."
      ],
      "metadata": {
        "id": "K_wznWE2zbC1"
      }
    },
    {
      "cell_type": "markdown",
      "source": [
        "# Instrucciones break y next\n",
        "\n",
        "A continuación vamos a aprender acerca de las instruccioens break y next.\n",
        "\n",
        "En R, las instrucciones break y next son usadas dentro de bucles para controlar la ejecución del flujo.\n",
        "\n",
        "Podemos alterar el flujo normal en un bucle usando break y next.\n",
        "\n",
        "**Instrucción break**\n",
        "\n",
        "Una instrucción break es usada dentro de un bucle (repeat, for, while) para parar las iteraciones y el control del flujo pasa afuera del bucle.\n",
        "\n",
        "En un bucle anidado, donde hay un bucle adentro de otro bucle, esta instrucción sale del bucle más interno que es evaluado.\n",
        "\n",
        "La sintaxis de la declaración break es:\n",
        "\n",
        "```\n",
        "\n",
        "if (test_expression){\n",
        "   break\n",
        "}\n",
        "\n",
        "\n",
        "```\n",
        "\n",
        "Aquí, test_expression es evaluada. Si resulta que es verdadera, la instrucción break es ejecutada.\n",
        "\n",
        "Cuando la instrucción break es alcanzada, el bucle en el cual reside termina, y el programa continua con la instrucción que esta después del bucle.\n",
        "\n",
        "A continuación mostramos un diagrama de flujo de la instrucción break."
      ],
      "metadata": {
        "id": "dBv8shGgG5yJ"
      }
    },
    {
      "cell_type": "markdown",
      "source": [
        "![Break statement](https://raw.githubusercontent.com/ricardo-rios/fund_prog_est/main/UnidadI/break_statement.png \"Break statement\")"
      ],
      "metadata": {
        "id": "M3ZaKIPJXHdV"
      }
    },
    {
      "cell_type": "markdown",
      "source": [
        "A continuación vamos a ver un ejemplo de uso de la instrucción break.\n",
        "\n",
        "```\n",
        "x <- 1:5\n",
        "\n",
        "for (val in x){\n",
        "\n",
        "  if (val == 3){\n",
        "    break\n",
        "  }\n",
        "  \n",
        "  print(val)\n",
        "}\n",
        "\n",
        "```\n",
        "\n",
        "En el anterior ejemplo, iteramos sobre el vector x, el cual tiene los números del 1 al 5.\n",
        "\n",
        "Dentro del bucle for se ha usado una condición if que rompe el bucle si el valor actual es 3.\n",
        "\n",
        "A continuación explicamos la instrucción next, la instrucción next es útil para saltar la iteración actual de un bucle sin terminarlo.\n",
        "\n",
        "Cuando se encuentra con una instrucción next, R salta posteriores evaluaciones e inicia la siguiente iteración del bucle.\n",
        "\n",
        "A continuación mostramos la sintaxis de la declaración next.\n",
        "\n",
        "```\n",
        "if (test_condition){\n",
        "\n",
        "  next\n",
        "\n",
        "}\n",
        "```\n",
        "\n",
        "Aqui, test_condition es evaluado. Si el resultado de test_condition es verdadero, la instrucción next es ejecutada.\n",
        "\n",
        "Cuando la instrucción next es ejecutada, se salta la actual iteración del bucle, y el programa se mueve a la siguiente iteración del bucle.\n",
        "\n",
        "A continuación mostramos el diagrama de flujo de la instrucción next."
      ],
      "metadata": {
        "id": "IpQ2zPesc1Wt"
      }
    },
    {
      "cell_type": "markdown",
      "source": [
        "![Next statement](https://raw.githubusercontent.com/ricardo-rios/fund_prog_est/main/UnidadI/next_statement.png \"Next statement\")"
      ],
      "metadata": {
        "id": "iS-qTOuFtpbn"
      }
    },
    {
      "cell_type": "markdown",
      "source": [
        "A continuación vamos a ver un ejemplo de uso de la instrucción next.\n",
        "\n",
        "```\n",
        "x <- 1:5\n",
        "\n",
        "for (val in x) {\n",
        "  \n",
        "  if (val == 3){\n",
        "    next\n",
        "  }\n",
        "  \n",
        "  print(val)\n",
        "}\n",
        "```"
      ],
      "metadata": {
        "id": "zGj82Z8OuO03"
      }
    },
    {
      "cell_type": "markdown",
      "source": [
        "En el anterior ejemplo, usamos la instrucción next dentro de una condición para verificar is un valor es igual a 3.\n",
        "\n",
        "Si el valor es igual a 3, la actual iteración para (el valor no es impreso) pero el bucle continua con la siguiente iteración."
      ],
      "metadata": {
        "id": "M2H2KvHAug3r"
      }
    },
    {
      "cell_type": "markdown",
      "source": [
        "# Funciones de R\n",
        "\n",
        "Las funciones en R nos permiten modularizar nuestro código permitiendo que sean reutilizables. A continuación presentamos la sintaxis de las funciones.\n",
        "\n",
        "```\n",
        "\n",
        "func_name <- function (argument) {\n",
        "statement\n",
        "}\n",
        "\n",
        "```\n",
        "\n",
        "Observamos que la palabra reservada function nos permite declarar una función en R.\n",
        "\n",
        "La declaración (statement) dentro de las llaves es el cuerpo de la función. A la función se le asigna un nombre que en el caso anterior es func_name.\n",
        "\n"
      ],
      "metadata": {
        "id": "I7uNfcHFge5l"
      }
    },
    {
      "cell_type": "markdown",
      "source": [
        "Ejemplo de una función:\n",
        "\n",
        "```\n",
        "\n",
        "pow <- function(x, y) {\n",
        "  result <- x^y\n",
        "  print(paste(x,\"raised to the power\", y, \"is\", result))\n",
        "}\n",
        "\n",
        "\n",
        "```\n",
        "\n"
      ],
      "metadata": {
        "id": "lmcMDQkPkuV_"
      }
    },
    {
      "cell_type": "markdown",
      "source": [
        "Aquí hemos creado una función llamada pow().\n",
        "\n",
        "Esta función toma dos argumentos, almacena en un variable el resultado de elevar el primer argumento al segundo argumento e imprime el resultado.\n",
        "\n",
        "La función paste() se usa para concatenar dos cadenas.\n",
        "\n",
        "**Como llamar a una función**\n",
        "\n",
        "```\n",
        "pow(8, 2)\n",
        "pow(2, 8)\n",
        "```\n",
        "\n"
      ],
      "metadata": {
        "id": "uM-97gUrku12"
      }
    },
    {
      "cell_type": "markdown",
      "source": [
        "**Argumentos con nombres**\n",
        "\n",
        "En la llamada anterior pow(8, 2), el argumento formal x e y son asignados a 8 y 2 respectivamente.\n",
        "\n",
        "Podemos llamar a una función con argumentos con nombres de la siguiente manera.\n",
        "\n",
        "```\n",
        "pow(x = 8, y = 2)\n",
        "pow(y = 2, x = 8)\n",
        "```"
      ],
      "metadata": {
        "id": "4zq-R9Dbku9-"
      }
    },
    {
      "cell_type": "markdown",
      "source": [
        "**Valores por defecto para argumentos**\n",
        "\n",
        "Podemos asignar valores por defecto a los argumentos de una función en R.\n",
        "\n",
        "A continuación presentamos un ejemplo.\n",
        "\n",
        "```\n",
        "\n",
        "pow <- function(x, y = 2) {\n",
        "   result <- x^y\n",
        "   print(paste(x,\"raised to the power\", y, \"is\", result))\n",
        "}\n",
        "\n",
        "\n",
        "```"
      ],
      "metadata": {
        "id": "qz4R_vSPkvF2"
      }
    },
    {
      "cell_type": "markdown",
      "source": [
        "El uso del valor por defecto es opcional, prueba de ello es el siguiente código.\n",
        "\n",
        "\n",
        "```\n",
        "pow(3)\n",
        "pow(3,1)\n",
        "\n",
        "```"
      ],
      "metadata": {
        "id": "97p9XuRxlsvp"
      }
    },
    {
      "cell_type": "markdown",
      "source": [
        "**Valor de retorno de una función**\n",
        "\n",
        "Usualmente vamos a requerir que nuestras funciones hagan algun procesamiento y luego retornen el resultado. Esto se logra con la función de R return().\n",
        "\n",
        "La sintaxis de la función return() es:\n",
        "\n",
        "```\n",
        "return(expression)\n",
        "```\n",
        "\n",
        "Aquí expression es evaluado, y su valor es almacenado como el resultado de la función.\n",
        "\n",
        "El valor especificado en la instrucción return() es pasado como la salida de la función.\n",
        "\n",
        "A continuación damos un ejemplo de uso de la función return en el cual retorna si un número es positivo, negativo o cero.\n",
        "\n",
        "```\n",
        "\n",
        "check <- function(x) {\n",
        "if (x > 0) {\n",
        "result <- \"Positive\"\n",
        "}\n",
        "else if (x < 0) {\n",
        "result <- \"Negative\"\n",
        "}\n",
        "else {\n",
        "result <- \"Zero\"\n",
        "}\n",
        "return(result)\n",
        "}\n",
        "\n",
        "\n",
        "```\n"
      ],
      "metadata": {
        "id": "nW61QVmcN9uj"
      }
    },
    {
      "cell_type": "markdown",
      "source": [
        "A continuación llamamos a la recien creada función con algunos valores.\n",
        "\n",
        "\n",
        "```\n",
        "\n",
        "check(1)\n",
        "check(-10)\n",
        "check(0)\n",
        "\n",
        "\n",
        "```"
      ],
      "metadata": {
        "id": "c1zvKbktPrWJ"
      }
    },
    {
      "cell_type": "markdown",
      "source": [
        "**Funciones sin instrucción return**\n",
        "\n",
        "Si no hay una instrucción de retorno, el valor de la última expresión es retornada automáticamente en R.\n",
        "\n",
        "La siguiente función es equivalente a la anterior.\n",
        "\n",
        "```\n",
        "\n",
        "check2 <- function(x) {\n",
        "if (x > 0) {\n",
        "result <- \"Positive\"\n",
        "}\n",
        "else if (x < 0) {\n",
        "result <- \"Negative\"\n",
        "}\n",
        "else {\n",
        "result <- \"Zero\"\n",
        "}\n",
        "result\n",
        "}\n",
        "\n",
        "```\n"
      ],
      "metadata": {
        "id": "kWOtdRxwQnd7"
      }
    },
    {
      "cell_type": "markdown",
      "source": [
        "Podemos llamarla de la siguiente manera:\n",
        "\n",
        "```\n",
        "\n",
        "check(1)\n",
        "check(-10)\n",
        "check(0)\n",
        "\n",
        "```\n"
      ],
      "metadata": {
        "id": "nAZ4sE4cRXDN"
      }
    },
    {
      "cell_type": "markdown",
      "source": [
        "Si lo que quiero es retornar varios valores debo usar una lista como en el siguiente ejemplo.\n",
        "\n",
        "```\n",
        "\n",
        "multi_return <- function() {\n",
        "my_list <- list(\"color\" = \"red\", \"size\" = 20, \"shape\" = \"round\")\n",
        "return(my_list)\n",
        "}\n",
        "\n",
        "\n",
        "```"
      ],
      "metadata": {
        "id": "ZytGTQInRpYM"
      }
    },
    {
      "cell_type": "markdown",
      "source": [
        "A continuación invocamos a la anterior función y al ser el valor de retorno una lista podemos accesar a sus componentes con el operador $.\n",
        "\n",
        "\n",
        "```\n",
        "\n",
        "a <- multi_return()\n",
        "a$color\n",
        "a$size\n",
        "a$shape\n",
        "\n",
        "```\n",
        "\n"
      ],
      "metadata": {
        "id": "s1UK24OXR3HI"
      }
    },
    {
      "cell_type": "markdown",
      "source": [
        "**Ejercicio**\n",
        "\n",
        "Encuentre los números perfectos menores que 10,000. **Nota**: Un número perfecto es un número entero positivo que es igual a la suma de sus divisores propios positivos. 6 es el primer número perfecto."
      ],
      "metadata": {
        "id": "YViVCtgj7ATi"
      }
    },
    {
      "cell_type": "markdown",
      "source": [
        "# Gráficos\n",
        "\n",
        "En R hay tres sistemas principales para hacer gráficos los cuales son:\n",
        "\n",
        "* Sistema base: es el sistema de gŕaficos original de R. Los gŕaficos son creados paso a paso, agregando elementos como puntos, líneas o texto. Son menos útiles para gŕaficos complejos.  \n",
        "* Lattice: Son particularmente útiles para gráficos condicionales donde el mismo tipo de gráfico es repetido para diferentes niveles de un factor.  \n",
        "* ggplot2: Es un sistema de gráficos avanzado construido bajo el concepto de la \"Gramática de gráficos\".\n",
        "\n",
        "Entre las sugerencias para hacer buenos gráficos podemos mencionar:\n",
        "\n",
        "* Mostrar los datos\n",
        "* Hacer que los patrones en los datos sean fáciles de ver\n",
        "* Representar magnitudes de manera honesta\n",
        "* Dibujar los elementos del gráfico con claridad\n",
        "\n",
        "\n",
        "\n",
        "A continuación examinaremos algunos ejemplos del sistema base de gráficos, en la Unidad II examinaremos ggplot2.\n",
        "\n",
        "**Gráficos univariados**\n",
        "\n",
        "**Gráfico de barras**\n",
        "\n",
        "\n",
        "```\n",
        "\n",
        "gear_counts <- table(mtcars$gear)\n",
        "\n",
        "\n",
        "barplot(gear_counts,\n",
        "        main = \"Number of Cars by Number of Gears\",\n",
        "        xlab = \"Number of Gears\",\n",
        "        ylab = \"Number of Cars\",\n",
        "        col = \"steelblue\",\n",
        "        ylim = c(0, max(gear_counts) + 1))\n",
        "\n",
        "```"
      ],
      "metadata": {
        "id": "nBQwI9KnTAW4"
      }
    },
    {
      "cell_type": "markdown",
      "source": [
        "**Histograma**\n",
        "\n",
        "\n",
        "\n",
        "```\n",
        "\n",
        "hist(mtcars$mpg,\n",
        "     main = \"Histogram of Miles Per Gallon\",\n",
        "     xlab = \"Miles Per Gallon\",\n",
        "     ylab = \"Frequency\",\n",
        "     col = \"steelblue\",\n",
        "     border = \"black\")\n",
        "\n",
        "```\n"
      ],
      "metadata": {
        "id": "qhOJmfJ3hV9N"
      }
    },
    {
      "cell_type": "markdown",
      "source": [
        "**Gráficos bivariados**\n",
        "\n",
        "**Gráfico de mosaico**\n",
        "\n",
        "\n",
        "```\n",
        "\n",
        "# HairEyeColor es un array tri-dimensional\n",
        "# La tercera dimensión es 'Sex'\n",
        "HairEyeColor\n",
        "\n",
        "# Agregamos datos a lo largo de la dimensión 'Sex'\n",
        "# para enfocarnos en Hair y Eye color\n",
        "hair_eye_table <- apply(HairEyeColor, c(1, 2), sum)\n",
        "\n",
        "\n",
        "\n",
        "mosaicplot(hair_eye_table,\n",
        "           main = \"Mosaic Plot of Hair and Eye Color\",\n",
        "           xlab = \"Hair Color\",\n",
        "           ylab = \"Eye Color\",\n",
        "           col = c(\"gray80\", \"gray60\", \"gray40\", \"gray20\"))\n",
        "\n",
        "\n",
        "```\n"
      ],
      "metadata": {
        "id": "igOw1ugEhTmv"
      }
    },
    {
      "cell_type": "markdown",
      "source": [
        "**Scatter plot**\n",
        "\n",
        "\n",
        "```\n",
        "\n",
        "# Crear un scatter plot para mpg vs wt\n",
        "plot(mtcars$wt, mtcars$mpg,\n",
        "     main = \"Scatter Plot of MPG vs Car Weight\",\n",
        "     xlab = \"Weight (1000 lbs)\",\n",
        "     ylab = \"Miles Per Gallon (MPG)\",\n",
        "     pch = 19,  # Type of point\n",
        "     col = \"blue\")  # Color of points\n",
        "\n",
        "```     \n"
      ],
      "metadata": {
        "id": "V_fDblYnlt_C"
      }
    },
    {
      "cell_type": "code",
      "source": [],
      "metadata": {
        "id": "_oPNI-OjnDdT"
      },
      "execution_count": null,
      "outputs": []
    }
  ]
}