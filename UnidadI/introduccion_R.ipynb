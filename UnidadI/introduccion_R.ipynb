{
  "nbformat": 4,
  "nbformat_minor": 0,
  "metadata": {
    "colab": {
      "provenance": []
    },
    "kernelspec": {
      "name": "ir",
      "display_name": "R"
    },
    "language_info": {
      "name": "R"
    }
  },
  "cells": [
    {
      "cell_type": "markdown",
      "source": [
        "# Practicando Markdown en google colab\n",
        "\n",
        "En la siguiente celda de texto y digitar lo siguiente:\n",
        "\n",
        "```markdown\n",
        "# Sección 1\n",
        "# Sección 2\n",
        "## Sub-sección bajo Sección 2\n",
        "```"
      ],
      "metadata": {
        "id": "2ZM7p3WzcVEM"
      }
    },
    {
      "cell_type": "markdown",
      "source": [],
      "metadata": {
        "id": "1ImaWm8bdCne"
      }
    },
    {
      "cell_type": "markdown",
      "source": [
        "En la siguiente celda de texto digitar lo siguiente:\n",
        "\n",
        "```markdown\n",
        "`**texto en negrita**`\n",
        "`*texto en italica*`\n",
        "`~~subrayado~~`\n",
        "```"
      ],
      "metadata": {
        "id": "SwwhZVumdEK9"
      }
    },
    {
      "cell_type": "markdown",
      "source": [],
      "metadata": {
        "id": "LXfTINE1d-t6"
      }
    },
    {
      "cell_type": "markdown",
      "source": [
        "En la siguiente celda de texto digitar lo siguiente:\n",
        "\n",
        "```markdown\n",
        "\n",
        "`[Enlace a Google](https://www.google.com)`\n",
        "\n",
        "```"
      ],
      "metadata": {
        "id": "j_thiDKXeFFH"
      }
    },
    {
      "cell_type": "markdown",
      "source": [],
      "metadata": {
        "id": "EPRaX4wWejQF"
      }
    },
    {
      "cell_type": "markdown",
      "source": [
        "En la siguiente celda de texto digitar lo siguiente:\n",
        "\n",
        "```markdown\n",
        "\n",
        "\n",
        "`![Una imagen](https://www.google.com/images/rss.png)`\n",
        "\n",
        "\n",
        "```"
      ],
      "metadata": {
        "id": "kQtGuDvKeufK"
      }
    },
    {
      "cell_type": "markdown",
      "source": [],
      "metadata": {
        "id": "mAYJkB90fAnF"
      }
    },
    {
      "cell_type": "markdown",
      "source": [
        "En la siguiente celda de código digitar:\n",
        "\n",
        "Bloque de código\n",
        "\n",
        "````\n",
        "```python\n",
        "print(\"a\")\n",
        "```\n",
        "````\n"
      ],
      "metadata": {
        "id": "09tbPKGmfRgE"
      }
    },
    {
      "cell_type": "markdown",
      "source": [],
      "metadata": {
        "id": "tYUHKf1bfcNB"
      }
    },
    {
      "cell_type": "markdown",
      "source": [
        "En la siguiente celda digitar:\n",
        "\n",
        "Listas ordenadas\n",
        "\n",
        "1. uno\n",
        "2. dos\n",
        "3. tres"
      ],
      "metadata": {
        "id": "xMbjvhBkfcsC"
      }
    },
    {
      "cell_type": "markdown",
      "source": [],
      "metadata": {
        "id": "XxadlYBkfwST"
      }
    },
    {
      "cell_type": "markdown",
      "source": [
        "En la siguiente celda digitar:\n",
        "\n",
        "Listas no-ordenadas\n",
        "\n",
        "* uno\n",
        "* dos\n",
        "* tres"
      ],
      "metadata": {
        "id": "xARiySSlfy_U"
      }
    },
    {
      "cell_type": "markdown",
      "source": [],
      "metadata": {
        "id": "804j6AaJf-2H"
      }
    },
    {
      "cell_type": "markdown",
      "source": [
        "En la siguiente celda digitar:\n",
        "\n",
        "```markdown\n",
        "\n",
        "$y=x^2$\n",
        "\n",
        "$\\frac{n!}{k!(n-k)!} = {n \\choose k}$\n",
        "\n",
        "```"
      ],
      "metadata": {
        "id": "5dPbmek9f_Z_"
      }
    },
    {
      "cell_type": "markdown",
      "source": [],
      "metadata": {
        "id": "-ho3t0CigWPd"
      }
    },
    {
      "cell_type": "markdown",
      "source": [
        "En la siguiente celda digitar:\n",
        "\n",
        "```markdown\n",
        "Nombre de primera columna  | Nombre de segunda columna\n",
        "-------------------|------------------\n",
        "Fila 1, Columna 1       | Fila 1, Columna 2\n",
        "Fila 2, Columna 1       | Fila 2, Columna 2\n",
        "\n",
        "```\n"
      ],
      "metadata": {
        "id": "izLmCg5kgXZu"
      }
    },
    {
      "cell_type": "markdown",
      "source": [],
      "metadata": {
        "id": "KtxkkFXzhWl0"
      }
    },
    {
      "cell_type": "markdown",
      "source": [
        "En la siguiente celda digitar:\n",
        "\n",
        "```markdown\n",
        "---\n",
        "```\n"
      ],
      "metadata": {
        "id": "HrehHPJhhaoM"
      }
    },
    {
      "cell_type": "markdown",
      "source": [],
      "metadata": {
        "id": "pe0iXS2Thzpx"
      }
    },
    {
      "cell_type": "markdown",
      "source": [
        "# Palabras reservadas en R\n",
        "\n",
        "Palabras reservadas en R son un conjunto de palabras que tienen un significado especial y no pueden ser usadas como identificadores (nombres de variables, nombres de funciones, etc)\n",
        "\n",
        "Digitar lo siguiente en una celda de código:\n",
        "\n",
        "```\n",
        "    help(reserved)\n",
        "```\n"
      ],
      "metadata": {
        "id": "-HJUyV2lh0OI"
      }
    },
    {
      "cell_type": "code",
      "source": [
        "help(reserved)"
      ],
      "metadata": {
        "id": "fODS59KLhUt1"
      },
      "execution_count": null,
      "outputs": []
    },
    {
      "cell_type": "markdown",
      "source": [
        "# Variables en R\n",
        "\n",
        "Variables en R son usadas para almacenar datos, cuyos valores pueden ser cambiados según los requerimientos. Nombres unicos dados a una variable (funciones y objetos) es un identificador.\n",
        "\n",
        "Reglas para escribir identificadores en R\n",
        "\n",
        "1.  Identificadores pueden ser una combinación de letras, dígitos, punto (.) y guion bajo (\\_)\n",
        "2.  Debe iniciar con una letra o un punto. Si este inicia con un punto, este no puede ser seguido por un digito\n",
        "3.  Palabras reservadas en R no pueden ser usadas como identificadores\n",
        "\n",
        "\n",
        "Ejemplo de identificadores validos\n",
        "\n",
        "```r\n",
        "    total, Sum, .fine.with.dot, this_is_acceptable, Number5\n",
        "```\n",
        "\n",
        "Ejemplo de identificadores invalidos\n",
        "\n",
        "```r\n",
        "    tot@l, 5um, _fine, TRUE, .0ne\n",
        "```\n",
        "\n",
        "\n",
        "**Buenas prácticas**\n",
        "\n",
        "Viejas versiones de R usaron el guion bajo (*) como operador de asignación. Así, el punto (.) fue usado en nombres de variables con múltiples palabras. Versiones actuales de R soportan el guion bajo (*) como identificador válido pero es una buena práctica usar punto como separador de palabras.\n",
        "\n",
        "Por ejemplo, a.variable.name es preferible sobre a_variable_name o tambien podemos usar la notación camello aVariableName.\n",
        "\n",
        "**Ejercicio**\n",
        "\n",
        "En la siguiente celda realizar lo siguiente:\n",
        "\n",
        "-   En una celda de código crear una variable con el nombre enero que tenga el valor de 100 correspondiente al número de tuercas en un almacen en enero\n",
        "-   En otra celda de código crear una variable con el nombre febrero que tenga el valor de 50 correspondiente al número de tuercas en un almacen en febrero\n",
        "-   En otra celda sumar las variables definidas anteriormente\n",
        "\n",
        "*Sugerencia*: Usar el operador de asignación \\<-\n"
      ],
      "metadata": {
        "id": "Er0ex40GideR"
      }
    },
    {
      "cell_type": "code",
      "source": [
        "enero <- 100"
      ],
      "metadata": {
        "id": "D0JnqMhjJmrk"
      },
      "execution_count": null,
      "outputs": []
    },
    {
      "cell_type": "code",
      "source": [
        "febrero <- 50"
      ],
      "metadata": {
        "id": "EWYHY7PYJtPZ"
      },
      "execution_count": null,
      "outputs": []
    },
    {
      "cell_type": "code",
      "source": [
        "enero + febrero"
      ],
      "metadata": {
        "colab": {
          "base_uri": "https://localhost:8080/",
          "height": 34
        },
        "id": "hFqXGCJSJv78",
        "outputId": "a9cfa4e1-53b5-4053-a12a-1f5a5ebc88b5"
      },
      "execution_count": null,
      "outputs": [
        {
          "output_type": "display_data",
          "data": {
            "text/html": [
              "150"
            ],
            "text/markdown": "150",
            "text/latex": "150",
            "text/plain": [
              "[1] 150"
            ]
          },
          "metadata": {}
        }
      ]
    },
    {
      "cell_type": "markdown",
      "source": [
        "# Constantes en R\n",
        "\n",
        "Constantes, como su nombre sugiere, son entidades cuyos valores no pueden ser alterados. Tipos básicos de constantes son constantes númericas y constantes de caracter.\n",
        "\n",
        "**Constantes númericas**\n",
        "\n",
        "Todos los números caen en esta categoria. Pueden ser de tipo integer, double y complex.\n",
        "\n",
        "Digitar y ejecutar lo siguiente en celdas de código distintas.\n",
        "\n",
        "```\n",
        "typeof(5)\n",
        "typeof(5L)\n",
        "typeof(5i)\n",
        "```\n"
      ],
      "metadata": {
        "id": "a3C_6dmxjoY9"
      }
    },
    {
      "cell_type": "code",
      "source": [
        "typeof(5)"
      ],
      "metadata": {
        "colab": {
          "base_uri": "https://localhost:8080/",
          "height": 34
        },
        "id": "PwypBbQfKUV2",
        "outputId": "f3a01113-d134-456a-9bd6-cde48ade276b"
      },
      "execution_count": null,
      "outputs": [
        {
          "output_type": "display_data",
          "data": {
            "text/html": [
              "'double'"
            ],
            "text/markdown": "'double'",
            "text/latex": "'double'",
            "text/plain": [
              "[1] \"double\""
            ]
          },
          "metadata": {}
        }
      ]
    },
    {
      "cell_type": "code",
      "source": [
        "typeof(5L)"
      ],
      "metadata": {
        "colab": {
          "base_uri": "https://localhost:8080/",
          "height": 34
        },
        "id": "a5vRiunWKcNT",
        "outputId": "01cfff8c-66a3-4ecc-cb47-85e6642ee1e3"
      },
      "execution_count": null,
      "outputs": [
        {
          "output_type": "display_data",
          "data": {
            "text/html": [
              "'integer'"
            ],
            "text/markdown": "'integer'",
            "text/latex": "'integer'",
            "text/plain": [
              "[1] \"integer\""
            ]
          },
          "metadata": {}
        }
      ]
    },
    {
      "cell_type": "code",
      "source": [
        "typeof(5i)"
      ],
      "metadata": {
        "colab": {
          "base_uri": "https://localhost:8080/",
          "height": 34
        },
        "id": "1iukuRqrKj6R",
        "outputId": "97d2f7f2-2430-4572-b68d-8a3bec302f5f"
      },
      "execution_count": null,
      "outputs": [
        {
          "output_type": "display_data",
          "data": {
            "text/html": [
              "'complex'"
            ],
            "text/markdown": "'complex'",
            "text/latex": "'complex'",
            "text/plain": [
              "[1] \"complex\""
            ]
          },
          "metadata": {}
        }
      ]
    },
    {
      "cell_type": "markdown",
      "source": [
        "**Constantes de caracter**\n",
        "\n",
        "Caracteres pueden ser representados con comilla simple ' o comillas dobles \".\n",
        "\n",
        "Digitar y ejecutar lo siguiente en celdas de código distintas.\n",
        "\n",
        "```\n",
        "'example'\n",
        "typeof(\"5\")\n",
        "```\n"
      ],
      "metadata": {
        "id": "QMQ55Rvgj8t2"
      }
    },
    {
      "cell_type": "code",
      "source": [
        "'example'"
      ],
      "metadata": {
        "colab": {
          "base_uri": "https://localhost:8080/",
          "height": 34
        },
        "id": "YQqeUtdnK5k-",
        "outputId": "01e702f7-e87f-42fc-ee25-fd5886ffd39e"
      },
      "execution_count": null,
      "outputs": [
        {
          "output_type": "display_data",
          "data": {
            "text/html": [
              "'example'"
            ],
            "text/markdown": "'example'",
            "text/latex": "'example'",
            "text/plain": [
              "[1] \"example\""
            ]
          },
          "metadata": {}
        }
      ]
    },
    {
      "cell_type": "code",
      "source": [
        "typeof(\"5\")"
      ],
      "metadata": {
        "colab": {
          "base_uri": "https://localhost:8080/",
          "height": 34
        },
        "id": "eQCRh2d2K6Xf",
        "outputId": "2b56a825-9604-4f32-e2b8-e09ce49f522d"
      },
      "execution_count": null,
      "outputs": [
        {
          "output_type": "display_data",
          "data": {
            "text/html": [
              "'character'"
            ],
            "text/markdown": "'character'",
            "text/latex": "'character'",
            "text/plain": [
              "[1] \"character\""
            ]
          },
          "metadata": {}
        }
      ]
    },
    {
      "cell_type": "markdown",
      "source": [
        "**Constantes ya incorporadas en el paquete base**\n",
        "\n",
        "\n",
        "Digitar y ejecutar lo siguiente en celdas de código distintas.\n",
        "\n",
        "```\n",
        "LETTERS\n",
        "letters\n",
        "pi\n",
        "month.name\n",
        "month.abb\n",
        "```\n"
      ],
      "metadata": {
        "id": "e6DRxT0jlumu"
      }
    },
    {
      "cell_type": "code",
      "source": [
        "help(LETTERS)"
      ],
      "metadata": {
        "id": "IEHde-ZILe19"
      },
      "execution_count": null,
      "outputs": []
    },
    {
      "cell_type": "code",
      "source": [
        "LETTERS"
      ],
      "metadata": {
        "colab": {
          "base_uri": "https://localhost:8080/",
          "height": 34
        },
        "id": "KU_-4tI7Lvs9",
        "outputId": "1b47bf1a-1e60-40e7-fbec-a46edb1cc1d1"
      },
      "execution_count": null,
      "outputs": [
        {
          "output_type": "display_data",
          "data": {
            "text/html": [
              "<style>\n",
              ".list-inline {list-style: none; margin:0; padding: 0}\n",
              ".list-inline>li {display: inline-block}\n",
              ".list-inline>li:not(:last-child)::after {content: \"\\00b7\"; padding: 0 .5ex}\n",
              "</style>\n",
              "<ol class=list-inline><li>'A'</li><li>'B'</li><li>'C'</li><li>'D'</li><li>'E'</li><li>'F'</li><li>'G'</li><li>'H'</li><li>'I'</li><li>'J'</li><li>'K'</li><li>'L'</li><li>'M'</li><li>'N'</li><li>'O'</li><li>'P'</li><li>'Q'</li><li>'R'</li><li>'S'</li><li>'T'</li><li>'U'</li><li>'V'</li><li>'W'</li><li>'X'</li><li>'Y'</li><li>'Z'</li></ol>\n"
            ],
            "text/markdown": "1. 'A'\n2. 'B'\n3. 'C'\n4. 'D'\n5. 'E'\n6. 'F'\n7. 'G'\n8. 'H'\n9. 'I'\n10. 'J'\n11. 'K'\n12. 'L'\n13. 'M'\n14. 'N'\n15. 'O'\n16. 'P'\n17. 'Q'\n18. 'R'\n19. 'S'\n20. 'T'\n21. 'U'\n22. 'V'\n23. 'W'\n24. 'X'\n25. 'Y'\n26. 'Z'\n\n\n",
            "text/latex": "\\begin{enumerate*}\n\\item 'A'\n\\item 'B'\n\\item 'C'\n\\item 'D'\n\\item 'E'\n\\item 'F'\n\\item 'G'\n\\item 'H'\n\\item 'I'\n\\item 'J'\n\\item 'K'\n\\item 'L'\n\\item 'M'\n\\item 'N'\n\\item 'O'\n\\item 'P'\n\\item 'Q'\n\\item 'R'\n\\item 'S'\n\\item 'T'\n\\item 'U'\n\\item 'V'\n\\item 'W'\n\\item 'X'\n\\item 'Y'\n\\item 'Z'\n\\end{enumerate*}\n",
            "text/plain": [
              " [1] \"A\" \"B\" \"C\" \"D\" \"E\" \"F\" \"G\" \"H\" \"I\" \"J\" \"K\" \"L\" \"M\" \"N\" \"O\" \"P\" \"Q\" \"R\" \"S\"\n",
              "[20] \"T\" \"U\" \"V\" \"W\" \"X\" \"Y\" \"Z\""
            ]
          },
          "metadata": {}
        }
      ]
    },
    {
      "cell_type": "code",
      "source": [
        "letters"
      ],
      "metadata": {
        "colab": {
          "base_uri": "https://localhost:8080/",
          "height": 34
        },
        "id": "qWPH4peTLyLj",
        "outputId": "f4f2b028-c343-4a26-caf7-4ce3265f9838"
      },
      "execution_count": null,
      "outputs": [
        {
          "output_type": "display_data",
          "data": {
            "text/html": [
              "<style>\n",
              ".list-inline {list-style: none; margin:0; padding: 0}\n",
              ".list-inline>li {display: inline-block}\n",
              ".list-inline>li:not(:last-child)::after {content: \"\\00b7\"; padding: 0 .5ex}\n",
              "</style>\n",
              "<ol class=list-inline><li>'a'</li><li>'b'</li><li>'c'</li><li>'d'</li><li>'e'</li><li>'f'</li><li>'g'</li><li>'h'</li><li>'i'</li><li>'j'</li><li>'k'</li><li>'l'</li><li>'m'</li><li>'n'</li><li>'o'</li><li>'p'</li><li>'q'</li><li>'r'</li><li>'s'</li><li>'t'</li><li>'u'</li><li>'v'</li><li>'w'</li><li>'x'</li><li>'y'</li><li>'z'</li></ol>\n"
            ],
            "text/markdown": "1. 'a'\n2. 'b'\n3. 'c'\n4. 'd'\n5. 'e'\n6. 'f'\n7. 'g'\n8. 'h'\n9. 'i'\n10. 'j'\n11. 'k'\n12. 'l'\n13. 'm'\n14. 'n'\n15. 'o'\n16. 'p'\n17. 'q'\n18. 'r'\n19. 's'\n20. 't'\n21. 'u'\n22. 'v'\n23. 'w'\n24. 'x'\n25. 'y'\n26. 'z'\n\n\n",
            "text/latex": "\\begin{enumerate*}\n\\item 'a'\n\\item 'b'\n\\item 'c'\n\\item 'd'\n\\item 'e'\n\\item 'f'\n\\item 'g'\n\\item 'h'\n\\item 'i'\n\\item 'j'\n\\item 'k'\n\\item 'l'\n\\item 'm'\n\\item 'n'\n\\item 'o'\n\\item 'p'\n\\item 'q'\n\\item 'r'\n\\item 's'\n\\item 't'\n\\item 'u'\n\\item 'v'\n\\item 'w'\n\\item 'x'\n\\item 'y'\n\\item 'z'\n\\end{enumerate*}\n",
            "text/plain": [
              " [1] \"a\" \"b\" \"c\" \"d\" \"e\" \"f\" \"g\" \"h\" \"i\" \"j\" \"k\" \"l\" \"m\" \"n\" \"o\" \"p\" \"q\" \"r\" \"s\"\n",
              "[20] \"t\" \"u\" \"v\" \"w\" \"x\" \"y\" \"z\""
            ]
          },
          "metadata": {}
        }
      ]
    },
    {
      "cell_type": "code",
      "source": [
        "pi"
      ],
      "metadata": {
        "colab": {
          "base_uri": "https://localhost:8080/",
          "height": 34
        },
        "id": "HXhUxQ_mMqAY",
        "outputId": "c8231c74-053e-40a9-e886-d709c404475c"
      },
      "execution_count": null,
      "outputs": [
        {
          "output_type": "display_data",
          "data": {
            "text/html": [
              "3.14159265358979"
            ],
            "text/markdown": "3.14159265358979",
            "text/latex": "3.14159265358979",
            "text/plain": [
              "[1] 3.141593"
            ]
          },
          "metadata": {}
        }
      ]
    },
    {
      "cell_type": "code",
      "source": [
        "month.name"
      ],
      "metadata": {
        "colab": {
          "base_uri": "https://localhost:8080/",
          "height": 34
        },
        "id": "xPevXD86MthK",
        "outputId": "f9a5481b-f969-4075-ae24-d552de216ac2"
      },
      "execution_count": null,
      "outputs": [
        {
          "output_type": "display_data",
          "data": {
            "text/html": [
              "<style>\n",
              ".list-inline {list-style: none; margin:0; padding: 0}\n",
              ".list-inline>li {display: inline-block}\n",
              ".list-inline>li:not(:last-child)::after {content: \"\\00b7\"; padding: 0 .5ex}\n",
              "</style>\n",
              "<ol class=list-inline><li>'January'</li><li>'February'</li><li>'March'</li><li>'April'</li><li>'May'</li><li>'June'</li><li>'July'</li><li>'August'</li><li>'September'</li><li>'October'</li><li>'November'</li><li>'December'</li></ol>\n"
            ],
            "text/markdown": "1. 'January'\n2. 'February'\n3. 'March'\n4. 'April'\n5. 'May'\n6. 'June'\n7. 'July'\n8. 'August'\n9. 'September'\n10. 'October'\n11. 'November'\n12. 'December'\n\n\n",
            "text/latex": "\\begin{enumerate*}\n\\item 'January'\n\\item 'February'\n\\item 'March'\n\\item 'April'\n\\item 'May'\n\\item 'June'\n\\item 'July'\n\\item 'August'\n\\item 'September'\n\\item 'October'\n\\item 'November'\n\\item 'December'\n\\end{enumerate*}\n",
            "text/plain": [
              " [1] \"January\"   \"February\"  \"March\"     \"April\"     \"May\"       \"June\"     \n",
              " [7] \"July\"      \"August\"    \"September\" \"October\"   \"November\"  \"December\" "
            ]
          },
          "metadata": {}
        }
      ]
    },
    {
      "cell_type": "code",
      "source": [
        "month.abb"
      ],
      "metadata": {
        "colab": {
          "base_uri": "https://localhost:8080/",
          "height": 34
        },
        "id": "6AMUywmxMv0I",
        "outputId": "4ac76e59-fe59-479b-f92e-0bcbae00c8fa"
      },
      "execution_count": null,
      "outputs": [
        {
          "output_type": "display_data",
          "data": {
            "text/html": [
              "<style>\n",
              ".list-inline {list-style: none; margin:0; padding: 0}\n",
              ".list-inline>li {display: inline-block}\n",
              ".list-inline>li:not(:last-child)::after {content: \"\\00b7\"; padding: 0 .5ex}\n",
              "</style>\n",
              "<ol class=list-inline><li>'Jan'</li><li>'Feb'</li><li>'Mar'</li><li>'Apr'</li><li>'May'</li><li>'Jun'</li><li>'Jul'</li><li>'Aug'</li><li>'Sep'</li><li>'Oct'</li><li>'Nov'</li><li>'Dec'</li></ol>\n"
            ],
            "text/markdown": "1. 'Jan'\n2. 'Feb'\n3. 'Mar'\n4. 'Apr'\n5. 'May'\n6. 'Jun'\n7. 'Jul'\n8. 'Aug'\n9. 'Sep'\n10. 'Oct'\n11. 'Nov'\n12. 'Dec'\n\n\n",
            "text/latex": "\\begin{enumerate*}\n\\item 'Jan'\n\\item 'Feb'\n\\item 'Mar'\n\\item 'Apr'\n\\item 'May'\n\\item 'Jun'\n\\item 'Jul'\n\\item 'Aug'\n\\item 'Sep'\n\\item 'Oct'\n\\item 'Nov'\n\\item 'Dec'\n\\end{enumerate*}\n",
            "text/plain": [
              " [1] \"Jan\" \"Feb\" \"Mar\" \"Apr\" \"May\" \"Jun\" \"Jul\" \"Aug\" \"Sep\" \"Oct\" \"Nov\" \"Dec\""
            ]
          },
          "metadata": {}
        }
      ]
    },
    {
      "cell_type": "markdown",
      "source": [
        "# Operadores en R\n",
        "\n",
        "R tiene muchos operadores para llevar a cabo operaciones matemáticas y lógicas. Entre los tipos de operadores se detallan los siguientes:\n",
        "\n",
        "* Operadores aritméticos\n",
        "* Operadores relacionales\n",
        "* Operadores lógicos\n",
        "* Operadores de Asignación\n",
        "\n",
        "\n",
        "\n"
      ],
      "metadata": {
        "id": "HbfTdHqLmPTh"
      }
    },
    {
      "cell_type": "markdown",
      "source": [
        "**Operadores aritméticos**\n",
        "\n",
        "| Operador | Descripción                     |\n",
        "|----------|---------------------------------|\n",
        "| `+`      | Suma                        |\n",
        "| `-`      | Resta                     |\n",
        "| `*`      | Multiplicación                  |\n",
        "| `/`      | División                  |\n",
        "| `^`      | Exponenciación                  |\n",
        "| `%%`     | Modulo             |\n",
        "| `%/%`    | División Entera                |\n",
        "\n",
        "\n",
        "Estos operadores son usados para realizar operaciones aritméticas.\n",
        "\n"
      ],
      "metadata": {
        "id": "7wIEc6Ksmna4"
      }
    },
    {
      "cell_type": "code",
      "source": [
        "# Ejercicio\n",
        "\n",
        "4 %% 2"
      ],
      "metadata": {
        "colab": {
          "base_uri": "https://localhost:8080/",
          "height": 34
        },
        "id": "IAOFHmzEPFRj",
        "outputId": "7117261a-5368-44e1-9f25-ce9b57f46d7b"
      },
      "execution_count": null,
      "outputs": [
        {
          "output_type": "display_data",
          "data": {
            "text/html": [
              "0"
            ],
            "text/markdown": "0",
            "text/latex": "0",
            "text/plain": [
              "[1] 0"
            ]
          },
          "metadata": {}
        }
      ]
    },
    {
      "cell_type": "code",
      "source": [
        "29 %% 13"
      ],
      "metadata": {
        "colab": {
          "base_uri": "https://localhost:8080/",
          "height": 34
        },
        "id": "Q5XC45qFPJeK",
        "outputId": "ad95a350-4b8e-40f9-e380-5d6e4384f086"
      },
      "execution_count": null,
      "outputs": [
        {
          "output_type": "display_data",
          "data": {
            "text/html": [
              "3"
            ],
            "text/markdown": "3",
            "text/latex": "3",
            "text/plain": [
              "[1] 3"
            ]
          },
          "metadata": {}
        }
      ]
    },
    {
      "cell_type": "code",
      "source": [
        "10 %/% 3"
      ],
      "metadata": {
        "id": "fkiIh4OJilo2",
        "colab": {
          "base_uri": "https://localhost:8080/",
          "height": 34
        },
        "outputId": "6867519d-9ed4-4bb3-d8c1-d47e16766fcc"
      },
      "execution_count": null,
      "outputs": [
        {
          "output_type": "display_data",
          "data": {
            "text/html": [
              "3"
            ],
            "text/markdown": "3",
            "text/latex": "3",
            "text/plain": [
              "[1] 3"
            ]
          },
          "metadata": {}
        }
      ]
    },
    {
      "cell_type": "code",
      "source": [
        "10 / 3"
      ],
      "metadata": {
        "colab": {
          "base_uri": "https://localhost:8080/",
          "height": 34
        },
        "id": "x5RSQv5BPZml",
        "outputId": "ed9ce74f-c5e8-48e1-c94d-40fa88d66f42"
      },
      "execution_count": null,
      "outputs": [
        {
          "output_type": "display_data",
          "data": {
            "text/html": [
              "3.33333333333333"
            ],
            "text/markdown": "3.33333333333333",
            "text/latex": "3.33333333333333",
            "text/plain": [
              "[1] 3.333333"
            ]
          },
          "metadata": {}
        }
      ]
    },
    {
      "cell_type": "code",
      "source": [
        "10L / 3L"
      ],
      "metadata": {
        "colab": {
          "base_uri": "https://localhost:8080/",
          "height": 34
        },
        "id": "awPh2nMzPbPd",
        "outputId": "b9bfdd5f-b157-44d6-e679-9e6970151b15"
      },
      "execution_count": null,
      "outputs": [
        {
          "output_type": "display_data",
          "data": {
            "text/html": [
              "3.33333333333333"
            ],
            "text/markdown": "3.33333333333333",
            "text/latex": "3.33333333333333",
            "text/plain": [
              "[1] 3.333333"
            ]
          },
          "metadata": {}
        }
      ]
    },
    {
      "cell_type": "code",
      "source": [
        "10 + 2"
      ],
      "metadata": {
        "colab": {
          "base_uri": "https://localhost:8080/",
          "height": 34
        },
        "id": "IH_ITFIyPs5_",
        "outputId": "40628ed9-8a8e-4bb6-e762-acd3937b557f"
      },
      "execution_count": null,
      "outputs": [
        {
          "output_type": "display_data",
          "data": {
            "text/html": [
              "12"
            ],
            "text/markdown": "12",
            "text/latex": "12",
            "text/plain": [
              "[1] 12"
            ]
          },
          "metadata": {}
        }
      ]
    },
    {
      "cell_type": "code",
      "source": [
        "28 - 10"
      ],
      "metadata": {
        "colab": {
          "base_uri": "https://localhost:8080/",
          "height": 34
        },
        "id": "qH4GrZrdPueO",
        "outputId": "45876675-5470-4ebc-8d49-909e1df8aaab"
      },
      "execution_count": null,
      "outputs": [
        {
          "output_type": "display_data",
          "data": {
            "text/html": [
              "18"
            ],
            "text/markdown": "18",
            "text/latex": "18",
            "text/plain": [
              "[1] 18"
            ]
          },
          "metadata": {}
        }
      ]
    },
    {
      "cell_type": "code",
      "source": [
        "2^10"
      ],
      "metadata": {
        "colab": {
          "base_uri": "https://localhost:8080/",
          "height": 34
        },
        "id": "IGVV1z0NP0Eu",
        "outputId": "4b920245-d3b0-4759-8cc8-92ace05e24ba"
      },
      "execution_count": null,
      "outputs": [
        {
          "output_type": "display_data",
          "data": {
            "text/html": [
              "1024"
            ],
            "text/markdown": "1024",
            "text/latex": "1024",
            "text/plain": [
              "[1] 1024"
            ]
          },
          "metadata": {}
        }
      ]
    },
    {
      "cell_type": "markdown",
      "source": [
        "**Ejercicio**: Usando celdas de código:\n",
        "\n",
        "Imagina que tienes un jardín con la figura de un rectángulo, y tu quieres calcular el área, perímetro y la diagonal. La longitud del jardín es 10 metros y su ancho es 5 metros."
      ],
      "metadata": {
        "id": "bBLhUHMQP9VM"
      }
    },
    {
      "cell_type": "code",
      "source": [
        "l <- 10\n",
        "w <- 5\n",
        "l * w"
      ],
      "metadata": {
        "colab": {
          "base_uri": "https://localhost:8080/",
          "height": 34
        },
        "id": "cq3jix0ZP-9I",
        "outputId": "b9bb257b-70e0-4c1a-bc51-9f796232e084"
      },
      "execution_count": null,
      "outputs": [
        {
          "output_type": "display_data",
          "data": {
            "text/html": [
              "50"
            ],
            "text/markdown": "50",
            "text/latex": "50",
            "text/plain": [
              "[1] 50"
            ]
          },
          "metadata": {}
        }
      ]
    },
    {
      "cell_type": "code",
      "source": [
        "(l + w)*2"
      ],
      "metadata": {
        "colab": {
          "base_uri": "https://localhost:8080/",
          "height": 34
        },
        "id": "843CXokCRO6U",
        "outputId": "14053f4b-9952-4dff-a3fd-98c1dbe644bc"
      },
      "execution_count": null,
      "outputs": [
        {
          "output_type": "display_data",
          "data": {
            "text/html": [
              "30"
            ],
            "text/markdown": "30",
            "text/latex": "30",
            "text/plain": [
              "[1] 30"
            ]
          },
          "metadata": {}
        }
      ]
    },
    {
      "cell_type": "code",
      "source": [
        "(l^2 + w^2)^(1/2)"
      ],
      "metadata": {
        "colab": {
          "base_uri": "https://localhost:8080/",
          "height": 34
        },
        "id": "TglXms8wSFGJ",
        "outputId": "1a4dc9ec-3bec-4c1f-efd7-fc047e2f3f0c"
      },
      "execution_count": null,
      "outputs": [
        {
          "output_type": "display_data",
          "data": {
            "text/html": [
              "11.1803398874989"
            ],
            "text/markdown": "11.1803398874989",
            "text/latex": "11.1803398874989",
            "text/plain": [
              "[1] 11.18034"
            ]
          },
          "metadata": {}
        }
      ]
    },
    {
      "cell_type": "code",
      "source": [
        "sqrt((l^2 + w^2))"
      ],
      "metadata": {
        "colab": {
          "base_uri": "https://localhost:8080/",
          "height": 34
        },
        "id": "y5ITHNrESKjV",
        "outputId": "9c7bdba1-7142-4eea-b21a-ea0932d57fe0"
      },
      "execution_count": null,
      "outputs": [
        {
          "output_type": "display_data",
          "data": {
            "text/html": [
              "11.1803398874989"
            ],
            "text/markdown": "11.1803398874989",
            "text/latex": "11.1803398874989",
            "text/plain": [
              "[1] 11.18034"
            ]
          },
          "metadata": {}
        }
      ]
    },
    {
      "cell_type": "markdown",
      "source": [
        "**Operadores relacionales**\n",
        "\n",
        "Los operadores relacionales son usados para comparar valores.\n",
        "\n",
        "| Operador | Descripción                   |\n",
        "|----------|-------------------------------|\n",
        "| `==`     | Igual                    |\n",
        "| `!=`     | No es igual a                  |\n",
        "| `<`      | Menor que                 |\n",
        "| `<=`     | Menor o igual que         |\n",
        "| `>`      | Mayor que                  |\n",
        "| `>=`     | Mayor o igual que      |\n",
        "\n",
        "\n",
        "**Ejercicio**: Usando celdas de códigos calcule lo siguiente:\n",
        "\n",
        "```r\n",
        "x <- 5\n",
        "y <- 16\n",
        "x < y\n",
        "x > y\n",
        "x <= 5\n",
        "y >= 20\n",
        "y == 16\n",
        "x != 5\n",
        "```\n"
      ],
      "metadata": {
        "id": "3D91-Uckmxp-"
      }
    },
    {
      "cell_type": "code",
      "source": [
        "x <- 5\n",
        "y <- 16"
      ],
      "metadata": {
        "id": "3ndOaGpDm1QM"
      },
      "execution_count": null,
      "outputs": []
    },
    {
      "cell_type": "code",
      "source": [
        "x < y"
      ],
      "metadata": {
        "colab": {
          "base_uri": "https://localhost:8080/",
          "height": 34
        },
        "id": "gG7vyL73SlpM",
        "outputId": "24420751-2218-4dab-c906-ea79d246b938"
      },
      "execution_count": null,
      "outputs": [
        {
          "output_type": "display_data",
          "data": {
            "text/html": [
              "TRUE"
            ],
            "text/markdown": "TRUE",
            "text/latex": "TRUE",
            "text/plain": [
              "[1] TRUE"
            ]
          },
          "metadata": {}
        }
      ]
    },
    {
      "cell_type": "code",
      "source": [
        "x > y"
      ],
      "metadata": {
        "colab": {
          "base_uri": "https://localhost:8080/",
          "height": 34
        },
        "id": "ZDz4pTnxSnb8",
        "outputId": "b26e4acb-5a66-4506-85d9-1212172274ac"
      },
      "execution_count": null,
      "outputs": [
        {
          "output_type": "display_data",
          "data": {
            "text/html": [
              "FALSE"
            ],
            "text/markdown": "FALSE",
            "text/latex": "FALSE",
            "text/plain": [
              "[1] FALSE"
            ]
          },
          "metadata": {}
        }
      ]
    },
    {
      "cell_type": "code",
      "source": [
        "x <= 5"
      ],
      "metadata": {
        "colab": {
          "base_uri": "https://localhost:8080/",
          "height": 34
        },
        "id": "pPgeviy6Sn8z",
        "outputId": "ae2de704-0358-444c-b4fc-61a865da6571"
      },
      "execution_count": null,
      "outputs": [
        {
          "output_type": "display_data",
          "data": {
            "text/html": [
              "TRUE"
            ],
            "text/markdown": "TRUE",
            "text/latex": "TRUE",
            "text/plain": [
              "[1] TRUE"
            ]
          },
          "metadata": {}
        }
      ]
    },
    {
      "cell_type": "code",
      "source": [
        "y >= 20"
      ],
      "metadata": {
        "colab": {
          "base_uri": "https://localhost:8080/",
          "height": 34
        },
        "id": "_H8RTtvQSoWL",
        "outputId": "6327ee0e-c6de-4b0e-ed8b-a28e75358f2b"
      },
      "execution_count": null,
      "outputs": [
        {
          "output_type": "display_data",
          "data": {
            "text/html": [
              "FALSE"
            ],
            "text/markdown": "FALSE",
            "text/latex": "FALSE",
            "text/plain": [
              "[1] FALSE"
            ]
          },
          "metadata": {}
        }
      ]
    },
    {
      "cell_type": "code",
      "source": [
        "y == 16"
      ],
      "metadata": {
        "colab": {
          "base_uri": "https://localhost:8080/",
          "height": 34
        },
        "id": "61OkCkq-TBer",
        "outputId": "d02b76e3-b397-4e68-b187-75b836f4dfa3"
      },
      "execution_count": null,
      "outputs": [
        {
          "output_type": "display_data",
          "data": {
            "text/html": [
              "TRUE"
            ],
            "text/markdown": "TRUE",
            "text/latex": "TRUE",
            "text/plain": [
              "[1] TRUE"
            ]
          },
          "metadata": {}
        }
      ]
    },
    {
      "cell_type": "code",
      "source": [
        "x != 5"
      ],
      "metadata": {
        "colab": {
          "base_uri": "https://localhost:8080/",
          "height": 34
        },
        "id": "18ubuyymSoq7",
        "outputId": "534e6b7f-6e16-480a-f4f6-66d85d7afa41"
      },
      "execution_count": null,
      "outputs": [
        {
          "output_type": "display_data",
          "data": {
            "text/html": [
              "FALSE"
            ],
            "text/markdown": "FALSE",
            "text/latex": "FALSE",
            "text/plain": [
              "[1] FALSE"
            ]
          },
          "metadata": {}
        }
      ]
    },
    {
      "cell_type": "markdown",
      "source": [
        "**Operadores lógicos**\n",
        "\n",
        "Los operadores lógicos permiten llevar a cabo operaciones booleanas tales como AND o OR.\n",
        "\n",
        "| Operator | Descripción             |\n",
        "|----------|-------------------------|\n",
        "| `&`      | Y lógico (usa ambos operandos) |\n",
        "| `&&`     | Y lógico              |\n",
        "| `\\|`      | O lógico (usa ambos operandos)         |\n",
        "| `\\|\\|`   | O lógicos              |\n",
        "| `!`      | Negación                     |\n",
        "\n",
        "Cero es considerado FALSE y valores diferentes de cero son tomados como TRUE.\n",
        "\n",
        "**Ejercicio**: Usando celdas de código calcule lo siguiente:\n",
        "\n",
        "```r\n",
        "x <- TRUE\n",
        "y <- FALSE\n",
        "x & y\n",
        "x & x\n",
        "x | y\n",
        "!x\n",
        "```\n"
      ],
      "metadata": {
        "id": "pfuwVWpAnFaG"
      }
    },
    {
      "cell_type": "code",
      "source": [],
      "metadata": {
        "id": "l1cK1bfonS7E"
      },
      "execution_count": null,
      "outputs": []
    },
    {
      "cell_type": "markdown",
      "source": [
        "**Operadores de asignación**\n",
        "\n",
        "\n",
        "| Operator | Descripción             |\n",
        "|----------|-------------------------|\n",
        "| `<-, <<-`      | El operador de asignación hacia la izquierda |\n",
        "| `->, ->>`     | El operador de asignación hacia la derecha              |\n",
        "| `=`      | El operador de asignación que usa el símbolo de igual   |\n",
        "\n",
        "\n",
        "El operador <- y = pueden ser usados indistintamente para asignar variables en el mismo entorno.\n",
        "\n",
        "El operador <<- es usado para asignar variables en el entorno padre. El operador de asignación hacia derecha aunque disponible es raramente usado.\n",
        "\n",
        "\n",
        "**Ejercicio**: Usando celdas de código calcule lo siguiente:\n",
        "\n",
        "\n",
        "```\n",
        "x <- 5\n",
        "x\n",
        "x <- 9\n",
        "x\n",
        "10 -> x\n",
        "x\n",
        "```\n",
        "\n"
      ],
      "metadata": {
        "id": "Vs56q9YbndO1"
      }
    },
    {
      "cell_type": "markdown",
      "source": [
        "# Precedencia de operadores y asociatividad\n",
        "\n",
        "**Precedencia de operadores**\n",
        "\n",
        "Ejecutar lo siguiente:\n",
        "\n",
        "```r\n",
        "2 + 6 * 5\n",
        "```"
      ],
      "metadata": {
        "id": "jY3Q-l3uSvhZ"
      }
    },
    {
      "cell_type": "markdown",
      "source": [
        "En la anterior expresión el operador * tiene mayor precedencia que +. Puedo cambiar la precedencia usando parentesis, ejecutar el sigueinte código.\n",
        "\n",
        "```\n",
        "(2 + 6) * 5\n",
        "```"
      ],
      "metadata": {
        "id": "UP7IxjTGU6jj"
      }
    },
    {
      "cell_type": "markdown",
      "source": [
        "**Asociatividad de los operadores**\n",
        "\n",
        "Ejecutar lo siguiente:\n",
        "\n",
        "```\n",
        "3 / 4 / 5\n",
        "```"
      ],
      "metadata": {
        "id": "3CxcfOz6VTy7"
      }
    },
    {
      "cell_type": "markdown",
      "source": [
        "El operador / es evaluado de izquierda a derecha."
      ],
      "metadata": {
        "id": "_HrNCfrEVg1H"
      }
    },
    {
      "cell_type": "markdown",
      "source": [
        "# Vectores en R\n",
        "\n",
        "Un vector es una estructura en R la cual contiene elementos del mismo tipo. Los tipos de datos pueden ser logicos, enteros, double, character, complex o raw.\n",
        "\n",
        "Otra importante propiedad de un vector es su longitud. Este es el número de elementos en el vector y puede ser verificado con la función length().\n",
        "\n",
        "Digite lo siguiente en celdas de código:\n",
        "\n",
        "```r\n",
        "x <- c(1, 5, 4, 9, 0)\n",
        "typeof(x)\n",
        "\n",
        "length(x)\n",
        "x <- c(1, 5.4, TRUE, \"hello\")\n",
        "x\n",
        "typeof(x)\n",
        "\n",
        "```"
      ],
      "metadata": {
        "id": "CZFyJPHnpZcs"
      }
    },
    {
      "cell_type": "code",
      "source": [],
      "metadata": {
        "id": "cAfEKQAzniVN"
      },
      "execution_count": null,
      "outputs": []
    },
    {
      "cell_type": "markdown",
      "source": [
        "**Creando un vector usando el operador :**\n",
        "\n",
        "Digite lo siguiente en celdas de código:\n",
        "\n",
        "```r\n",
        "# creando el vector x\n",
        "x <- 1:7\n",
        "x\n",
        "# creando el vector y\n",
        "y <- 2:-2\n",
        "y\n",
        "```\n",
        "\n"
      ],
      "metadata": {
        "id": "DnE09T0HqMEe"
      }
    },
    {
      "cell_type": "code",
      "source": [],
      "metadata": {
        "id": "IRDxMu13qQst"
      },
      "execution_count": null,
      "outputs": []
    },
    {
      "cell_type": "markdown",
      "source": [
        "**Creando un vector usando la función seq**\n",
        "\n",
        "La función seq permite generar secuencias.\n",
        "\n",
        "Digite lo siguiente en celdas de código.\n",
        "\n",
        "```r\n",
        "seq(1, 3, by=0.2) # specify step size\n",
        "\n",
        "seq(1, 5, length.out=4) # specify length of the vector\n",
        "```"
      ],
      "metadata": {
        "id": "gAbxPHzaql_-"
      }
    },
    {
      "cell_type": "code",
      "source": [],
      "metadata": {
        "id": "N0w_73DzrCa-"
      },
      "execution_count": null,
      "outputs": []
    },
    {
      "cell_type": "markdown",
      "source": [
        "**Accesando elementos de un vector**\n",
        "\n",
        "**Usando vectores de enteros**\n",
        "\n",
        "Ejecutar lo siguiente:\n",
        "\n",
        "```\n",
        "x <- 1:7\n",
        "\n",
        "x[3]    \n",
        "\n",
        "x[c(2, 4)]     \n",
        "\n",
        "x[-1]          \n",
        "\n",
        "x[c(2, -4)]\n",
        "\n",
        "```"
      ],
      "metadata": {
        "id": "4wQv0P_xY9iy"
      }
    },
    {
      "cell_type": "markdown",
      "source": [
        "**Usando vectores lógicos**\n",
        "\n",
        "Ejecutar lo siguiente.\n",
        "\n",
        "```\n",
        "x <- 1:5\n",
        "x[c(TRUE, FALSE, FALSE, TRUE)]\n",
        "# filtrando basandonos en condiciones\n",
        "# Ojo: vamos a ver mejores formas de hacer esto\n",
        "# con verbos en el tidyverse.\n",
        "x[x < 0]\n",
        "x[x > 0]\n",
        "\n",
        "```"
      ],
      "metadata": {
        "id": "9sDlFPYqap3U"
      }
    },
    {
      "cell_type": "markdown",
      "source": [
        "**Modificando los valores de un vector**\n",
        "\n",
        "\n",
        "Ejecutar lo siguiente:\n",
        "\n",
        "```\n",
        "x <- c(-3,-2,-1,0,1,2)\n",
        "\n",
        "x[2] <- 0\n",
        "x        \n",
        "\n",
        "x[x<0] <- 5\n",
        "x   \n",
        "\n",
        "```"
      ],
      "metadata": {
        "id": "c1dNxs1ycVW3"
      }
    },
    {
      "cell_type": "markdown",
      "source": [
        "**Ejercicio**\n",
        "\n",
        "* La siguiente tabla representa datos de temperatura máxima en El Salvador del 11 al 15 de marzo.\n",
        "\n",
        "| Lunes  | Martes  | Miércoles  | Jueves  | Viernes  |\n",
        "|---|---|---|---|---|\n",
        "| 35  | 33  |  33 | 32  |  30 |\n",
        "\n",
        "* Crear un vector con la anterior información.\n",
        "\n",
        "* Calcular el máximo valor de temperatura usando la función max\n",
        "\n",
        "* Usar la función summary sobre el vector\n",
        "\n",
        "* Accesar a los elementos que van de Lunes a Jueves\n",
        "\n",
        "* Modificar el valor de Jueves por 35\n",
        "\n",
        "* Investigar como poner nombres a los elementos del vector anterior. Puede usar ChatGPT o google."
      ],
      "metadata": {
        "id": "vIfP3CxMjw2N"
      }
    },
    {
      "cell_type": "markdown",
      "source": [
        "# Matrices\n",
        "\n",
        "Para crear matrices debo usar la función matrix. Ejecutar lo siguiente:\n",
        "\n",
        "```\n",
        "matrix(1:9, nrow = 3, ncol = 3)\n",
        "```"
      ],
      "metadata": {
        "id": "a9Rq5oOXc2WV"
      }
    },
    {
      "cell_type": "markdown",
      "source": [
        "Ejecutar lo siguiente y verificar que da el mismo resultado de la celda anterior.\n",
        "\n",
        "```\n",
        "matrix(1:9, nrow = 3)\n",
        "```"
      ],
      "metadata": {
        "id": "pz0PFVJAdGIn"
      }
    },
    {
      "cell_type": "markdown",
      "source": [
        "Para llenar por filas, probar con el siguiente código:\n",
        "\n",
        "\n",
        "```\n",
        "matrix(1:9, nrow = 3, byrow=TRUE)\n",
        "```"
      ],
      "metadata": {
        "id": "4VRhMpz4dWay"
      }
    },
    {
      "cell_type": "markdown",
      "source": [
        "**Accesando elementos de una matriz.**\n",
        "\n",
        "Suponiendo que tenemos la matriz var la sintaxis para accesar a la fila 1 y columna 2 es:\n",
        "\n",
        "```\n",
        "var[1, 2]\n",
        "```"
      ],
      "metadata": {
        "id": "aa35CXtKd5de"
      }
    },
    {
      "cell_type": "markdown",
      "source": [
        "Ejecutar lo siguiente:\n",
        "\n",
        "```\n",
        "x <- matrix(1:9, nrow = 3, ncol = 3, byrow = TRUE)\n",
        "\n",
        "# selecccionando filas 1 y 2, y columnas 2 y 3.\n",
        "x[c(1,2),c(2,3)]    \n",
        "\n",
        "# dejando vacia una dimensión implica que\n",
        "# selecciona todos los elementos de esa dimensión\n",
        "x[c(3,2),]    \n",
        "\n",
        "\n",
        "# Selecciona todas las filas exceptuando la primera.\n",
        "x[-1,]    \n",
        "\n",
        "```"
      ],
      "metadata": {
        "id": "aErYUUDVeSgm"
      }
    },
    {
      "cell_type": "markdown",
      "source": [
        "**Ejercicio**:\n",
        "\n",
        "* Encontrar un ejemplo de como modificar una matriz\n",
        "* Encontrar un ejemplo de como asignar vectores de caracteres a los elementos de cada una de las dimensiones (filas y columnas)\n",
        "* Encontrar un ejemplo de como usar los nombres en las dimensiones para seleccionar ya sea conjuntos de columnas, filas o elementos individuales de una matriz."
      ],
      "metadata": {
        "id": "8YqjgggyfFdU"
      }
    },
    {
      "cell_type": "markdown",
      "source": [
        "Calcular lo siguiente:\n",
        "\n",
        "Matrix A:\n",
        "\n",
        "$$\n",
        "A = \\begin{pmatrix} 1 & 2 \\\\ 3 & 4 \\end{pmatrix}\n",
        "$$\n",
        "\n",
        "Matrix B:\n",
        "\n",
        "$$\n",
        "B = \\begin{pmatrix} 5 & 6 \\\\ 7 & 8 \\end{pmatrix}\n",
        "$$\n",
        "\n",
        "$$ A + B $$\n",
        "\n",
        "$$ A \\times B $$\n",
        "\n",
        "\n",
        "$$\n",
        "A^{-1}\n",
        "$$\n",
        "\n"
      ],
      "metadata": {
        "id": "OvnDqiPnfyLs"
      }
    },
    {
      "cell_type": "markdown",
      "source": [
        "# Listas\n",
        "\n",
        "Una lista puede ser definida como un vector donde los elementos son de distinto tipo.\n",
        "\n",
        "Vamos a ver un ejemplo de como crear una lista, ejecutar lo siguiente en una celda de código.\n",
        "\n",
        "```\n",
        "x <- list(\"a\" = 2.5, \"b\" = TRUE, \"c\" = 1:3)\n",
        "x\n",
        "```"
      ],
      "metadata": {
        "id": "aWRQIC7loEP9"
      }
    },
    {
      "cell_type": "markdown",
      "source": [
        "La estructura de la lista puede ser examinada con la función str. Ejecutar lo siguiente en una celda de código.\n",
        "\n",
        "```\n",
        "str(x)\n",
        "```\n"
      ],
      "metadata": {
        "id": "GXPeVbfDou7v"
      }
    },
    {
      "cell_type": "markdown",
      "source": [
        "Las etiquetas en los componentes de la lista son opcionales, ejecutemos lo siguiente en una celda de código:\n",
        "\n",
        "```\n",
        "x <- list(2.5,TRUE,1:3)\n",
        "x\n",
        "```"
      ],
      "metadata": {
        "id": "XuIz0aiHpHTD"
      }
    },
    {
      "cell_type": "markdown",
      "source": [
        "**Accesando elementos en una lista**\n",
        "\n",
        "Las listas pueden ser accesadas de una manera parecida a la que se usa con los vectores. Ejecutar lo siguiente en una celda de código.\n",
        "\n",
        "\n",
        "```\n",
        "x <- list(name = \"John\", age = 19, speaks = c(\"English\", \"French\"))\n",
        "\n",
        "# accesando elementos por nombre\n",
        "x$name\n",
        "x$age\n",
        "x$speaks\n",
        "\n",
        "# accesando elementos por índice entero\n",
        "x[c(1, 2)]\n",
        "x[-2]\n",
        "\n",
        "# accesando elementos usando índice lógico\n",
        "x[c(TRUE, FALSE, FALSE)]\n",
        "\n",
        "# accesando elementos por índice de caracter\n",
        "x[c(\"age\", \"speaks\")]\n",
        "\n",
        "```"
      ],
      "metadata": {
        "id": "J9rvaFlqppdq"
      }
    },
    {
      "cell_type": "markdown",
      "source": [
        "**Usando corchetes para accesar a elementos en una lista**\n",
        "\n",
        "Ejecutar lo siguiente en celdas de código.\n",
        "\n",
        "```\n",
        "\n",
        "x[\"age\"]\n",
        "\n",
        "typeof(x[\"age\"])\n",
        "\n",
        "x[[\"age\"]]\n",
        "\n",
        "typeof(x[[\"age\"]])\n",
        "\n",
        "\n",
        "```\n",
        "\n"
      ],
      "metadata": {
        "id": "KltpzwQTq7RV"
      }
    },
    {
      "cell_type": "markdown",
      "source": [
        "Hay que notar que cuando solo se usa un corchete se devuelve una lista."
      ],
      "metadata": {
        "id": "CVFkzSaqrfPZ"
      }
    },
    {
      "cell_type": "code",
      "source": [
        "x[\"age\"]"
      ],
      "metadata": {
        "colab": {
          "base_uri": "https://localhost:8080/",
          "height": 34
        },
        "id": "r86YzXzKrek5",
        "outputId": "9089316f-06d6-447f-b0e0-a72aa4301235"
      },
      "execution_count": 16,
      "outputs": [
        {
          "output_type": "display_data",
          "data": {
            "text/html": [
              "<strong>$age</strong> = 19"
            ],
            "text/markdown": "**$age** = 19",
            "text/latex": "\\textbf{\\$age} = 19",
            "text/plain": [
              "$age\n",
              "[1] 19\n"
            ]
          },
          "metadata": {}
        }
      ]
    },
    {
      "cell_type": "markdown",
      "source": [
        "**Como modificar elementos de una lista**\n",
        "\n",
        "Usamos las técnicas vistas anteriormente y el operador de asignación <-. Ejecutar el siguiente código en una celda.\n",
        "\n",
        "\n",
        "```\n",
        "x <- list(name = \"John\", age = 19, speaks = c(\"English\", \"French\"))\n",
        "\n",
        "x\n",
        "\n",
        "#  accesando elementos usando [[]] y actualizando su valor\n",
        "x[[\"name\"]] <- \"Clair\"\n",
        "\n",
        "x\n",
        "```"
      ],
      "metadata": {
        "id": "lHVFgIlSr_EG"
      }
    },
    {
      "cell_type": "markdown",
      "source": [
        "**Como agregar elementos a una lista**\n",
        "\n",
        "Agregando elementos a una lista es fácil. Asignamos valores usando nuevos labels.\n",
        "\n",
        "\n",
        "```\n",
        "x <- list(name = \"Clair\", age = 19, speaks = c(\"English\", \"French\"))\n",
        "\n",
        "x\n",
        "\n",
        "# asignar un nuevo elemento a una lista usando corchetes dobles [[]]\n",
        "\n",
        "x[[\"married\"]] <- FALSE\n",
        "\n",
        "\n",
        "x\n",
        "\n",
        "```"
      ],
      "metadata": {
        "id": "0y51Dd52trbq"
      }
    },
    {
      "cell_type": "markdown",
      "source": [
        "**Borrando elementos de una lista**\n",
        "\n",
        "Para borrar elementos de una lista debes de asignar al componente a borrar el valor NULL. Ejecutar lo siguiente en una celda de código.\n",
        "\n",
        "\n",
        "```\n",
        "x `- list(name = \"Clair\", age = 19, speaks = c(\"English\", \"French\"))\n",
        "\n",
        "# removiendo un elemento de la lista.\n",
        "x[[\"age\"]] <- NULL\n",
        "\n",
        "str(x)\n",
        "\n",
        "# removiendo un elemento de la lista\n",
        "x$married <- NULL\n",
        "\n",
        "\n",
        "str(x)\n",
        "\n",
        "```"
      ],
      "metadata": {
        "id": "nyLPkynKulzn"
      }
    },
    {
      "cell_type": "markdown",
      "source": [
        "**Ejercicio**:\n",
        "\n",
        "Imagina que estás gestionando una lista de cursos para una pequeña empresa de capacitación. Cada curso tiene un nombre, un instructor y un número de estudiantes inscritos. Representarás cada curso como una lista y luego crearás una lista de estos cursos.\n",
        "\n",
        "Crea una lista llamada curso1 que represente un curso con los siguientes detalles:\n",
        "\n",
        "    Nombre: \"Introducción a R\"\n",
        "    Instructor: \"Juan Perez\"\n",
        "    Estudiantes inscritos: 30\n",
        "\n",
        "Crea una segunda lista llamada curso2 con los siguientes detalles:\n",
        "        \n",
        "    Nombre: \"Python Avanzado\"\n",
        "    Instructor: \"Pedro Ramírez\"\n",
        "    Estudiantes inscritos: 25\n",
        "\n",
        "Combina curso1 y curso2 en una lista llamada listaCursos.\n",
        "\n",
        "* Accediendo a Elementos: Imprime el nombre del primer curso. Imprime el número de estudiantes inscritos en el segundo curso.\n",
        "\n",
        "* Actualizando Elementos: El instructor de \"Pedro Ramírez\" ha cambiado a \"Luis Gonzalez\". Actualiza el nombre del instructor en curso2.\n",
        "\n",
        "* Agregando Elementos: Agrega un nuevo curso a listaCursos con los siguientes detalles:\n",
        "    Nombre: \"Fundamentos de Ciencia de Datos\"\n",
        "    Instructor: \"Virgilio Hernandez\"\n",
        "    Estudiantes inscritos: 40\n",
        "\n",
        "* Eliminando Elementos: Elimina curso1 de listaCursos."
      ],
      "metadata": {
        "id": "hf0RFwMNv4zq"
      }
    },
    {
      "cell_type": "code",
      "source": [],
      "metadata": {
        "id": "d9aRFq7AriaH"
      },
      "execution_count": null,
      "outputs": []
    }
  ]
}