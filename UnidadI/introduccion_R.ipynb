{
  "nbformat": 4,
  "nbformat_minor": 0,
  "metadata": {
    "colab": {
      "provenance": []
    },
    "kernelspec": {
      "name": "ir",
      "display_name": "R"
    },
    "language_info": {
      "name": "R"
    }
  },
  "cells": [
    {
      "cell_type": "markdown",
      "source": [
        "# Practicando Markdown en google colab\n",
        "\n",
        "En la siguiente celda de texto y digitar lo siguiente:\n",
        "\n",
        "```markdown\n",
        "# Sección 1\n",
        "# Sección 2\n",
        "## Sub-sección bajo Sección 2\n",
        "```"
      ],
      "metadata": {
        "id": "2ZM7p3WzcVEM"
      }
    },
    {
      "cell_type": "markdown",
      "source": [],
      "metadata": {
        "id": "1ImaWm8bdCne"
      }
    },
    {
      "cell_type": "markdown",
      "source": [
        "En la siguiente celda de texto digitar lo siguiente:\n",
        "\n",
        "```markdown\n",
        "`**texto en negrita**`\n",
        "`*texto en italica*`\n",
        "`~~subrayado~~`\n",
        "```"
      ],
      "metadata": {
        "id": "SwwhZVumdEK9"
      }
    },
    {
      "cell_type": "markdown",
      "source": [],
      "metadata": {
        "id": "LXfTINE1d-t6"
      }
    },
    {
      "cell_type": "markdown",
      "source": [
        "En la siguiente celda de texto digitar lo siguiente:\n",
        "\n",
        "```markdown\n",
        "\n",
        "`[Enlace a Google](https://www.google.com)`\n",
        "\n",
        "```"
      ],
      "metadata": {
        "id": "j_thiDKXeFFH"
      }
    },
    {
      "cell_type": "markdown",
      "source": [],
      "metadata": {
        "id": "EPRaX4wWejQF"
      }
    },
    {
      "cell_type": "markdown",
      "source": [
        "En la siguiente celda de texto digitar lo siguiente:\n",
        "\n",
        "```markdown\n",
        "\n",
        "\n",
        "`![Una imagen](https://www.google.com/images/rss.png)`\n",
        "\n",
        "\n",
        "```"
      ],
      "metadata": {
        "id": "kQtGuDvKeufK"
      }
    },
    {
      "cell_type": "markdown",
      "source": [],
      "metadata": {
        "id": "mAYJkB90fAnF"
      }
    },
    {
      "cell_type": "markdown",
      "source": [
        "En la siguiente celda de código digitar:\n",
        "\n",
        "Bloque de código\n",
        "\n",
        "````\n",
        "```python\n",
        "print(\"a\")\n",
        "```\n",
        "````\n"
      ],
      "metadata": {
        "id": "09tbPKGmfRgE"
      }
    },
    {
      "cell_type": "markdown",
      "source": [],
      "metadata": {
        "id": "tYUHKf1bfcNB"
      }
    },
    {
      "cell_type": "markdown",
      "source": [
        "En la siguiente celda digitar:\n",
        "\n",
        "Listas ordenadas\n",
        "\n",
        "1. uno\n",
        "2. dos\n",
        "3. tres"
      ],
      "metadata": {
        "id": "xMbjvhBkfcsC"
      }
    },
    {
      "cell_type": "markdown",
      "source": [],
      "metadata": {
        "id": "XxadlYBkfwST"
      }
    },
    {
      "cell_type": "markdown",
      "source": [
        "En la siguiente celda digitar:\n",
        "\n",
        "Listas no-ordenadas\n",
        "\n",
        "* uno\n",
        "* dos\n",
        "* tres"
      ],
      "metadata": {
        "id": "xARiySSlfy_U"
      }
    },
    {
      "cell_type": "markdown",
      "source": [],
      "metadata": {
        "id": "804j6AaJf-2H"
      }
    },
    {
      "cell_type": "markdown",
      "source": [
        "En la siguiente celda digitar:\n",
        "\n",
        "```markdown\n",
        "\n",
        "$y=x^2$\n",
        "\n",
        "$\\frac{n!}{k!(n-k)!} = {n \\choose k}$\n",
        "\n",
        "```"
      ],
      "metadata": {
        "id": "5dPbmek9f_Z_"
      }
    },
    {
      "cell_type": "markdown",
      "source": [],
      "metadata": {
        "id": "-ho3t0CigWPd"
      }
    },
    {
      "cell_type": "markdown",
      "source": [
        "En la siguiente celda digitar:\n",
        "\n",
        "```markdown\n",
        "Nombre de primera columna  | Nombre de segunda columna\n",
        "-------------------|------------------\n",
        "Fila 1, Columna 1       | Fila 1, Columna 2\n",
        "Fila 2, Columna 1       | Fila 2, Columna 2\n",
        "\n",
        "```\n"
      ],
      "metadata": {
        "id": "izLmCg5kgXZu"
      }
    },
    {
      "cell_type": "markdown",
      "source": [],
      "metadata": {
        "id": "KtxkkFXzhWl0"
      }
    },
    {
      "cell_type": "markdown",
      "source": [
        "En la siguiente celda digitar:\n",
        "\n",
        "```markdown\n",
        "---\n",
        "```\n"
      ],
      "metadata": {
        "id": "HrehHPJhhaoM"
      }
    },
    {
      "cell_type": "markdown",
      "source": [],
      "metadata": {
        "id": "pe0iXS2Thzpx"
      }
    },
    {
      "cell_type": "markdown",
      "source": [
        "# Palabras reservadas en R\n",
        "\n",
        "Palabras reservadas en R son un conjunto de palabras que tienen un significado especial y no pueden ser usadas como identificadores (nombres de variables, nombres de funciones, etc)\n",
        "\n",
        "Digitar lo siguiente en una celda de código:\n",
        "\n",
        "```\n",
        "    help(reserved)\n",
        "```\n"
      ],
      "metadata": {
        "id": "-HJUyV2lh0OI"
      }
    },
    {
      "cell_type": "code",
      "source": [
        "help(reserved)"
      ],
      "metadata": {
        "id": "fODS59KLhUt1"
      },
      "execution_count": null,
      "outputs": []
    },
    {
      "cell_type": "markdown",
      "source": [
        "# Variables en R\n",
        "\n",
        "Variables en R son usadas para almacenar datos, cuyos valores pueden ser cambiados según los requerimientos. Nombres unicos dados a una variable (funciones y objetos) es un identificador.\n",
        "\n",
        "Reglas para escribir identificadores en R\n",
        "\n",
        "1.  Identificadores pueden ser una combinación de letras, dígitos, punto (.) y guion bajo (\\_)\n",
        "2.  Debe iniciar con una letra o un punto. Si este inicia con un punto, este no puede ser seguido por un digito\n",
        "3.  Palabras reservadas en R no pueden ser usadas como identificadores\n",
        "\n",
        "\n",
        "Ejemplo de identificadores validos\n",
        "\n",
        "```r\n",
        "    total, Sum, .fine.with.dot, this_is_acceptable, Number5\n",
        "```\n",
        "\n",
        "Ejemplo de identificadores invalidos\n",
        "\n",
        "```r\n",
        "    tot@l, 5um, _fine, TRUE, .0ne\n",
        "```\n",
        "\n",
        "\n",
        "**Buenas prácticas**\n",
        "\n",
        "Viejas versiones de R usaron el guion bajo (*) como operador de asignación. Así, el punto (.) fue usado en nombres de variables con múltiples palabras. Versiones actuales de R soportan el guion bajo (*) como identificador válido pero es una buena práctica usar punto como separador de palabras.\n",
        "\n",
        "Por ejemplo, a.variable.name es preferible sobre a_variable_name o tambien podemos usar la notación camello aVariableName.\n",
        "\n",
        "**Ejercicio**\n",
        "\n",
        "En la siguiente celda realizar lo siguiente:\n",
        "\n",
        "-   En una celda de código crear una variable con el nombre enero que tenga el valor de 100 correspondiente al número de tuercas en un almacen en enero\n",
        "-   En otra celda de código crear una variable con el nombre febrero que tenga el valor de 50 correspondiente al número de tuercas en un almacen en febrero\n",
        "-   En otra celda sumar las variables definidas anteriormente\n",
        "\n",
        "*Sugerencia*: Usar el operador de asignación \\<-\n"
      ],
      "metadata": {
        "id": "Er0ex40GideR"
      }
    },
    {
      "cell_type": "code",
      "source": [
        "enero <- 100"
      ],
      "metadata": {
        "id": "D0JnqMhjJmrk"
      },
      "execution_count": null,
      "outputs": []
    },
    {
      "cell_type": "code",
      "source": [
        "febrero <- 50"
      ],
      "metadata": {
        "id": "EWYHY7PYJtPZ"
      },
      "execution_count": null,
      "outputs": []
    },
    {
      "cell_type": "code",
      "source": [
        "enero + febrero"
      ],
      "metadata": {
        "colab": {
          "base_uri": "https://localhost:8080/",
          "height": 34
        },
        "id": "hFqXGCJSJv78",
        "outputId": "8ae847e3-d3a0-4518-e131-3b8afbb31d60"
      },
      "execution_count": null,
      "outputs": [
        {
          "output_type": "display_data",
          "data": {
            "text/html": [
              "150"
            ],
            "text/markdown": "150",
            "text/latex": "150",
            "text/plain": [
              "[1] 150"
            ]
          },
          "metadata": {}
        }
      ]
    },
    {
      "cell_type": "markdown",
      "source": [
        "# Constantes en R\n",
        "\n",
        "Constantes, como su nombre sugiere, son entidades cuyos valores no pueden ser alterados. Tipos básicos de constantes son constantes númericas y constantes de caracter.\n",
        "\n",
        "**Constantes númericas**\n",
        "\n",
        "Todos los números caen en esta categoria. Pueden ser de tipo integer, double y complex.\n",
        "\n",
        "Digitar y ejecutar lo siguiente en celdas de código distintas.\n",
        "\n",
        "```\n",
        "typeof(5)\n",
        "typeof(5L)\n",
        "typeof(5i)\n",
        "```\n"
      ],
      "metadata": {
        "id": "a3C_6dmxjoY9"
      }
    },
    {
      "cell_type": "code",
      "source": [
        "typeof(5)"
      ],
      "metadata": {
        "colab": {
          "base_uri": "https://localhost:8080/",
          "height": 34
        },
        "id": "PwypBbQfKUV2",
        "outputId": "3e9a7847-d7b5-4fc6-eab6-84932f8236c0"
      },
      "execution_count": null,
      "outputs": [
        {
          "output_type": "display_data",
          "data": {
            "text/html": [
              "'double'"
            ],
            "text/markdown": "'double'",
            "text/latex": "'double'",
            "text/plain": [
              "[1] \"double\""
            ]
          },
          "metadata": {}
        }
      ]
    },
    {
      "cell_type": "code",
      "source": [
        "typeof(5L)"
      ],
      "metadata": {
        "colab": {
          "base_uri": "https://localhost:8080/",
          "height": 34
        },
        "id": "a5vRiunWKcNT",
        "outputId": "4e76f9a4-e948-4087-dc2f-294294a78b8c"
      },
      "execution_count": null,
      "outputs": [
        {
          "output_type": "display_data",
          "data": {
            "text/html": [
              "'integer'"
            ],
            "text/markdown": "'integer'",
            "text/latex": "'integer'",
            "text/plain": [
              "[1] \"integer\""
            ]
          },
          "metadata": {}
        }
      ]
    },
    {
      "cell_type": "code",
      "source": [
        "typeof(5i)"
      ],
      "metadata": {
        "colab": {
          "base_uri": "https://localhost:8080/",
          "height": 34
        },
        "id": "1iukuRqrKj6R",
        "outputId": "caf79f6a-d399-473e-c878-46e666c20b43"
      },
      "execution_count": null,
      "outputs": [
        {
          "output_type": "display_data",
          "data": {
            "text/html": [
              "'complex'"
            ],
            "text/markdown": "'complex'",
            "text/latex": "'complex'",
            "text/plain": [
              "[1] \"complex\""
            ]
          },
          "metadata": {}
        }
      ]
    },
    {
      "cell_type": "markdown",
      "source": [
        "**Constantes de caracter**\n",
        "\n",
        "Caracteres pueden ser representados con comilla simple ' o comillas dobles \".\n",
        "\n",
        "Digitar y ejecutar lo siguiente en celdas de código distintas.\n",
        "\n",
        "```\n",
        "'example'\n",
        "typeof(\"5\")\n",
        "```\n"
      ],
      "metadata": {
        "id": "QMQ55Rvgj8t2"
      }
    },
    {
      "cell_type": "code",
      "source": [
        "'example'"
      ],
      "metadata": {
        "colab": {
          "base_uri": "https://localhost:8080/",
          "height": 34
        },
        "id": "YQqeUtdnK5k-",
        "outputId": "04f058a4-9fcf-421e-9c6c-b82a1e7c85df"
      },
      "execution_count": null,
      "outputs": [
        {
          "output_type": "display_data",
          "data": {
            "text/html": [
              "'example'"
            ],
            "text/markdown": "'example'",
            "text/latex": "'example'",
            "text/plain": [
              "[1] \"example\""
            ]
          },
          "metadata": {}
        }
      ]
    },
    {
      "cell_type": "code",
      "source": [
        "typeof(\"5\")"
      ],
      "metadata": {
        "colab": {
          "base_uri": "https://localhost:8080/",
          "height": 34
        },
        "id": "eQCRh2d2K6Xf",
        "outputId": "d2574868-1249-46d0-edd7-3bfb3331d260"
      },
      "execution_count": null,
      "outputs": [
        {
          "output_type": "display_data",
          "data": {
            "text/html": [
              "'character'"
            ],
            "text/markdown": "'character'",
            "text/latex": "'character'",
            "text/plain": [
              "[1] \"character\""
            ]
          },
          "metadata": {}
        }
      ]
    },
    {
      "cell_type": "markdown",
      "source": [
        "**Constantes ya incorporadas en el paquete base**\n",
        "\n",
        "\n",
        "Digitar y ejecutar lo siguiente en celdas de código distintas.\n",
        "\n",
        "```\n",
        "LETTERS\n",
        "letters\n",
        "pi\n",
        "month.name\n",
        "month.abb\n",
        "```\n"
      ],
      "metadata": {
        "id": "e6DRxT0jlumu"
      }
    },
    {
      "cell_type": "code",
      "source": [
        "help(LETTERS)"
      ],
      "metadata": {
        "id": "IEHde-ZILe19"
      },
      "execution_count": null,
      "outputs": []
    },
    {
      "cell_type": "code",
      "source": [
        "LETTERS"
      ],
      "metadata": {
        "colab": {
          "base_uri": "https://localhost:8080/",
          "height": 34
        },
        "id": "KU_-4tI7Lvs9",
        "outputId": "cecda1ce-6729-4b0f-9df7-ea996f2952fc"
      },
      "execution_count": null,
      "outputs": [
        {
          "output_type": "display_data",
          "data": {
            "text/html": [
              "<style>\n",
              ".list-inline {list-style: none; margin:0; padding: 0}\n",
              ".list-inline>li {display: inline-block}\n",
              ".list-inline>li:not(:last-child)::after {content: \"\\00b7\"; padding: 0 .5ex}\n",
              "</style>\n",
              "<ol class=list-inline><li>'A'</li><li>'B'</li><li>'C'</li><li>'D'</li><li>'E'</li><li>'F'</li><li>'G'</li><li>'H'</li><li>'I'</li><li>'J'</li><li>'K'</li><li>'L'</li><li>'M'</li><li>'N'</li><li>'O'</li><li>'P'</li><li>'Q'</li><li>'R'</li><li>'S'</li><li>'T'</li><li>'U'</li><li>'V'</li><li>'W'</li><li>'X'</li><li>'Y'</li><li>'Z'</li></ol>\n"
            ],
            "text/markdown": "1. 'A'\n2. 'B'\n3. 'C'\n4. 'D'\n5. 'E'\n6. 'F'\n7. 'G'\n8. 'H'\n9. 'I'\n10. 'J'\n11. 'K'\n12. 'L'\n13. 'M'\n14. 'N'\n15. 'O'\n16. 'P'\n17. 'Q'\n18. 'R'\n19. 'S'\n20. 'T'\n21. 'U'\n22. 'V'\n23. 'W'\n24. 'X'\n25. 'Y'\n26. 'Z'\n\n\n",
            "text/latex": "\\begin{enumerate*}\n\\item 'A'\n\\item 'B'\n\\item 'C'\n\\item 'D'\n\\item 'E'\n\\item 'F'\n\\item 'G'\n\\item 'H'\n\\item 'I'\n\\item 'J'\n\\item 'K'\n\\item 'L'\n\\item 'M'\n\\item 'N'\n\\item 'O'\n\\item 'P'\n\\item 'Q'\n\\item 'R'\n\\item 'S'\n\\item 'T'\n\\item 'U'\n\\item 'V'\n\\item 'W'\n\\item 'X'\n\\item 'Y'\n\\item 'Z'\n\\end{enumerate*}\n",
            "text/plain": [
              " [1] \"A\" \"B\" \"C\" \"D\" \"E\" \"F\" \"G\" \"H\" \"I\" \"J\" \"K\" \"L\" \"M\" \"N\" \"O\" \"P\" \"Q\" \"R\" \"S\"\n",
              "[20] \"T\" \"U\" \"V\" \"W\" \"X\" \"Y\" \"Z\""
            ]
          },
          "metadata": {}
        }
      ]
    },
    {
      "cell_type": "code",
      "source": [
        "letters"
      ],
      "metadata": {
        "colab": {
          "base_uri": "https://localhost:8080/",
          "height": 34
        },
        "id": "qWPH4peTLyLj",
        "outputId": "2ad9c294-8fd0-44bd-c502-780b4183ea2c"
      },
      "execution_count": null,
      "outputs": [
        {
          "output_type": "display_data",
          "data": {
            "text/html": [
              "<style>\n",
              ".list-inline {list-style: none; margin:0; padding: 0}\n",
              ".list-inline>li {display: inline-block}\n",
              ".list-inline>li:not(:last-child)::after {content: \"\\00b7\"; padding: 0 .5ex}\n",
              "</style>\n",
              "<ol class=list-inline><li>'a'</li><li>'b'</li><li>'c'</li><li>'d'</li><li>'e'</li><li>'f'</li><li>'g'</li><li>'h'</li><li>'i'</li><li>'j'</li><li>'k'</li><li>'l'</li><li>'m'</li><li>'n'</li><li>'o'</li><li>'p'</li><li>'q'</li><li>'r'</li><li>'s'</li><li>'t'</li><li>'u'</li><li>'v'</li><li>'w'</li><li>'x'</li><li>'y'</li><li>'z'</li></ol>\n"
            ],
            "text/markdown": "1. 'a'\n2. 'b'\n3. 'c'\n4. 'd'\n5. 'e'\n6. 'f'\n7. 'g'\n8. 'h'\n9. 'i'\n10. 'j'\n11. 'k'\n12. 'l'\n13. 'm'\n14. 'n'\n15. 'o'\n16. 'p'\n17. 'q'\n18. 'r'\n19. 's'\n20. 't'\n21. 'u'\n22. 'v'\n23. 'w'\n24. 'x'\n25. 'y'\n26. 'z'\n\n\n",
            "text/latex": "\\begin{enumerate*}\n\\item 'a'\n\\item 'b'\n\\item 'c'\n\\item 'd'\n\\item 'e'\n\\item 'f'\n\\item 'g'\n\\item 'h'\n\\item 'i'\n\\item 'j'\n\\item 'k'\n\\item 'l'\n\\item 'm'\n\\item 'n'\n\\item 'o'\n\\item 'p'\n\\item 'q'\n\\item 'r'\n\\item 's'\n\\item 't'\n\\item 'u'\n\\item 'v'\n\\item 'w'\n\\item 'x'\n\\item 'y'\n\\item 'z'\n\\end{enumerate*}\n",
            "text/plain": [
              " [1] \"a\" \"b\" \"c\" \"d\" \"e\" \"f\" \"g\" \"h\" \"i\" \"j\" \"k\" \"l\" \"m\" \"n\" \"o\" \"p\" \"q\" \"r\" \"s\"\n",
              "[20] \"t\" \"u\" \"v\" \"w\" \"x\" \"y\" \"z\""
            ]
          },
          "metadata": {}
        }
      ]
    },
    {
      "cell_type": "code",
      "source": [
        "pi"
      ],
      "metadata": {
        "colab": {
          "base_uri": "https://localhost:8080/",
          "height": 34
        },
        "id": "HXhUxQ_mMqAY",
        "outputId": "c3770be3-cf0b-45c4-b55f-8e2063ecda66"
      },
      "execution_count": null,
      "outputs": [
        {
          "output_type": "display_data",
          "data": {
            "text/html": [
              "3.14159265358979"
            ],
            "text/markdown": "3.14159265358979",
            "text/latex": "3.14159265358979",
            "text/plain": [
              "[1] 3.141593"
            ]
          },
          "metadata": {}
        }
      ]
    },
    {
      "cell_type": "code",
      "source": [
        "month.name"
      ],
      "metadata": {
        "colab": {
          "base_uri": "https://localhost:8080/",
          "height": 34
        },
        "id": "xPevXD86MthK",
        "outputId": "60f89abf-653d-40d9-a45c-162c01cc549a"
      },
      "execution_count": null,
      "outputs": [
        {
          "output_type": "display_data",
          "data": {
            "text/html": [
              "<style>\n",
              ".list-inline {list-style: none; margin:0; padding: 0}\n",
              ".list-inline>li {display: inline-block}\n",
              ".list-inline>li:not(:last-child)::after {content: \"\\00b7\"; padding: 0 .5ex}\n",
              "</style>\n",
              "<ol class=list-inline><li>'January'</li><li>'February'</li><li>'March'</li><li>'April'</li><li>'May'</li><li>'June'</li><li>'July'</li><li>'August'</li><li>'September'</li><li>'October'</li><li>'November'</li><li>'December'</li></ol>\n"
            ],
            "text/markdown": "1. 'January'\n2. 'February'\n3. 'March'\n4. 'April'\n5. 'May'\n6. 'June'\n7. 'July'\n8. 'August'\n9. 'September'\n10. 'October'\n11. 'November'\n12. 'December'\n\n\n",
            "text/latex": "\\begin{enumerate*}\n\\item 'January'\n\\item 'February'\n\\item 'March'\n\\item 'April'\n\\item 'May'\n\\item 'June'\n\\item 'July'\n\\item 'August'\n\\item 'September'\n\\item 'October'\n\\item 'November'\n\\item 'December'\n\\end{enumerate*}\n",
            "text/plain": [
              " [1] \"January\"   \"February\"  \"March\"     \"April\"     \"May\"       \"June\"     \n",
              " [7] \"July\"      \"August\"    \"September\" \"October\"   \"November\"  \"December\" "
            ]
          },
          "metadata": {}
        }
      ]
    },
    {
      "cell_type": "code",
      "source": [
        "month.abb"
      ],
      "metadata": {
        "colab": {
          "base_uri": "https://localhost:8080/",
          "height": 34
        },
        "id": "6AMUywmxMv0I",
        "outputId": "426e6408-e181-467c-b558-bf62ee3b28dc"
      },
      "execution_count": null,
      "outputs": [
        {
          "output_type": "display_data",
          "data": {
            "text/html": [
              "<style>\n",
              ".list-inline {list-style: none; margin:0; padding: 0}\n",
              ".list-inline>li {display: inline-block}\n",
              ".list-inline>li:not(:last-child)::after {content: \"\\00b7\"; padding: 0 .5ex}\n",
              "</style>\n",
              "<ol class=list-inline><li>'Jan'</li><li>'Feb'</li><li>'Mar'</li><li>'Apr'</li><li>'May'</li><li>'Jun'</li><li>'Jul'</li><li>'Aug'</li><li>'Sep'</li><li>'Oct'</li><li>'Nov'</li><li>'Dec'</li></ol>\n"
            ],
            "text/markdown": "1. 'Jan'\n2. 'Feb'\n3. 'Mar'\n4. 'Apr'\n5. 'May'\n6. 'Jun'\n7. 'Jul'\n8. 'Aug'\n9. 'Sep'\n10. 'Oct'\n11. 'Nov'\n12. 'Dec'\n\n\n",
            "text/latex": "\\begin{enumerate*}\n\\item 'Jan'\n\\item 'Feb'\n\\item 'Mar'\n\\item 'Apr'\n\\item 'May'\n\\item 'Jun'\n\\item 'Jul'\n\\item 'Aug'\n\\item 'Sep'\n\\item 'Oct'\n\\item 'Nov'\n\\item 'Dec'\n\\end{enumerate*}\n",
            "text/plain": [
              " [1] \"Jan\" \"Feb\" \"Mar\" \"Apr\" \"May\" \"Jun\" \"Jul\" \"Aug\" \"Sep\" \"Oct\" \"Nov\" \"Dec\""
            ]
          },
          "metadata": {}
        }
      ]
    },
    {
      "cell_type": "markdown",
      "source": [
        "# Operadores en R\n",
        "\n",
        "R tiene muchos operadores para llevar a cabo operaciones matemáticas y lógicas. Entre los tipos de operadores se detallan los siguientes:\n",
        "\n",
        "* Operadores aritméticos\n",
        "* Operadores relacionales\n",
        "* Operadores lógicos\n",
        "* Operadores de Asignación\n",
        "\n",
        "\n",
        "\n"
      ],
      "metadata": {
        "id": "HbfTdHqLmPTh"
      }
    },
    {
      "cell_type": "markdown",
      "source": [
        "**Operadores aritméticos**\n",
        "\n",
        "| Operador | Descripción                     |\n",
        "|----------|---------------------------------|\n",
        "| `+`      | Suma                        |\n",
        "| `-`      | Resta                     |\n",
        "| `*`      | Multiplicación                  |\n",
        "| `/`      | División                  |\n",
        "| `^`      | Exponenciación                  |\n",
        "| `%%`     | Modulo             |\n",
        "| `%/%`    | División Entera                |\n",
        "\n",
        "\n",
        "Estos operadores son usados para realizar operaciones aritméticas.\n",
        "\n"
      ],
      "metadata": {
        "id": "7wIEc6Ksmna4"
      }
    },
    {
      "cell_type": "code",
      "source": [
        "# Ejercicio\n",
        "\n",
        "4 %% 2"
      ],
      "metadata": {
        "colab": {
          "base_uri": "https://localhost:8080/",
          "height": 34
        },
        "id": "IAOFHmzEPFRj",
        "outputId": "372b98fc-4c2e-4f36-dcb3-18e40f759aab"
      },
      "execution_count": null,
      "outputs": [
        {
          "output_type": "display_data",
          "data": {
            "text/html": [
              "0"
            ],
            "text/markdown": "0",
            "text/latex": "0",
            "text/plain": [
              "[1] 0"
            ]
          },
          "metadata": {}
        }
      ]
    },
    {
      "cell_type": "code",
      "source": [
        "29 %% 13"
      ],
      "metadata": {
        "colab": {
          "base_uri": "https://localhost:8080/",
          "height": 34
        },
        "id": "Q5XC45qFPJeK",
        "outputId": "3d814fc8-c96d-4b0b-ce5b-02e1b5154baa"
      },
      "execution_count": null,
      "outputs": [
        {
          "output_type": "display_data",
          "data": {
            "text/html": [
              "3"
            ],
            "text/markdown": "3",
            "text/latex": "3",
            "text/plain": [
              "[1] 3"
            ]
          },
          "metadata": {}
        }
      ]
    },
    {
      "cell_type": "code",
      "source": [
        "10 %/% 3"
      ],
      "metadata": {
        "id": "fkiIh4OJilo2",
        "colab": {
          "base_uri": "https://localhost:8080/",
          "height": 34
        },
        "outputId": "181bd0bf-659e-4fe3-c744-4fa107a6a8cf"
      },
      "execution_count": null,
      "outputs": [
        {
          "output_type": "display_data",
          "data": {
            "text/html": [
              "3"
            ],
            "text/markdown": "3",
            "text/latex": "3",
            "text/plain": [
              "[1] 3"
            ]
          },
          "metadata": {}
        }
      ]
    },
    {
      "cell_type": "code",
      "source": [
        "10 / 3"
      ],
      "metadata": {
        "colab": {
          "base_uri": "https://localhost:8080/",
          "height": 34
        },
        "id": "x5RSQv5BPZml",
        "outputId": "22cefe47-76b5-49e9-b2f5-a051b30e671e"
      },
      "execution_count": null,
      "outputs": [
        {
          "output_type": "display_data",
          "data": {
            "text/html": [
              "3.33333333333333"
            ],
            "text/markdown": "3.33333333333333",
            "text/latex": "3.33333333333333",
            "text/plain": [
              "[1] 3.333333"
            ]
          },
          "metadata": {}
        }
      ]
    },
    {
      "cell_type": "code",
      "source": [
        "10L / 3L"
      ],
      "metadata": {
        "colab": {
          "base_uri": "https://localhost:8080/",
          "height": 34
        },
        "id": "awPh2nMzPbPd",
        "outputId": "d4bb1d13-849d-4b1e-8d84-f5652b6566a0"
      },
      "execution_count": null,
      "outputs": [
        {
          "output_type": "display_data",
          "data": {
            "text/html": [
              "3.33333333333333"
            ],
            "text/markdown": "3.33333333333333",
            "text/latex": "3.33333333333333",
            "text/plain": [
              "[1] 3.333333"
            ]
          },
          "metadata": {}
        }
      ]
    },
    {
      "cell_type": "code",
      "source": [
        "10 + 2"
      ],
      "metadata": {
        "colab": {
          "base_uri": "https://localhost:8080/",
          "height": 34
        },
        "id": "IH_ITFIyPs5_",
        "outputId": "111684b0-c29e-4b63-eb1e-19f39c08661e"
      },
      "execution_count": null,
      "outputs": [
        {
          "output_type": "display_data",
          "data": {
            "text/html": [
              "12"
            ],
            "text/markdown": "12",
            "text/latex": "12",
            "text/plain": [
              "[1] 12"
            ]
          },
          "metadata": {}
        }
      ]
    },
    {
      "cell_type": "code",
      "source": [
        "28 - 10"
      ],
      "metadata": {
        "colab": {
          "base_uri": "https://localhost:8080/",
          "height": 34
        },
        "id": "qH4GrZrdPueO",
        "outputId": "00fa515f-7289-433d-95ad-7139ed141366"
      },
      "execution_count": null,
      "outputs": [
        {
          "output_type": "display_data",
          "data": {
            "text/html": [
              "18"
            ],
            "text/markdown": "18",
            "text/latex": "18",
            "text/plain": [
              "[1] 18"
            ]
          },
          "metadata": {}
        }
      ]
    },
    {
      "cell_type": "code",
      "source": [
        "2^10"
      ],
      "metadata": {
        "colab": {
          "base_uri": "https://localhost:8080/",
          "height": 34
        },
        "id": "IGVV1z0NP0Eu",
        "outputId": "66cf264d-2a03-429b-a3bf-bbde35f30b49"
      },
      "execution_count": null,
      "outputs": [
        {
          "output_type": "display_data",
          "data": {
            "text/html": [
              "1024"
            ],
            "text/markdown": "1024",
            "text/latex": "1024",
            "text/plain": [
              "[1] 1024"
            ]
          },
          "metadata": {}
        }
      ]
    },
    {
      "cell_type": "markdown",
      "source": [
        "**Ejercicio**: Usando celdas de código:\n",
        "\n",
        "Imagina que tienes un jardín con la figura de un rectángulo, y tu quieres calcular el área, perímetro y la diagonal. La longitud del jardín es 10 metros y su ancho es 5 metros."
      ],
      "metadata": {
        "id": "bBLhUHMQP9VM"
      }
    },
    {
      "cell_type": "code",
      "source": [
        "l <- 10\n",
        "w <- 5\n",
        "l * w"
      ],
      "metadata": {
        "colab": {
          "base_uri": "https://localhost:8080/",
          "height": 34
        },
        "id": "cq3jix0ZP-9I",
        "outputId": "5616e3bd-ac92-4af7-c6a5-0806ff5f4953"
      },
      "execution_count": null,
      "outputs": [
        {
          "output_type": "display_data",
          "data": {
            "text/html": [
              "50"
            ],
            "text/markdown": "50",
            "text/latex": "50",
            "text/plain": [
              "[1] 50"
            ]
          },
          "metadata": {}
        }
      ]
    },
    {
      "cell_type": "code",
      "source": [
        "(l + w)*2"
      ],
      "metadata": {
        "colab": {
          "base_uri": "https://localhost:8080/",
          "height": 34
        },
        "id": "843CXokCRO6U",
        "outputId": "feda6323-b835-419f-bf6b-92afece9b202"
      },
      "execution_count": null,
      "outputs": [
        {
          "output_type": "display_data",
          "data": {
            "text/html": [
              "30"
            ],
            "text/markdown": "30",
            "text/latex": "30",
            "text/plain": [
              "[1] 30"
            ]
          },
          "metadata": {}
        }
      ]
    },
    {
      "cell_type": "code",
      "source": [
        "(l^2 + w^2)^(1/2)"
      ],
      "metadata": {
        "colab": {
          "base_uri": "https://localhost:8080/",
          "height": 34
        },
        "id": "TglXms8wSFGJ",
        "outputId": "bec74793-8ee4-45d7-f207-34dda2e447fb"
      },
      "execution_count": null,
      "outputs": [
        {
          "output_type": "display_data",
          "data": {
            "text/html": [
              "11.1803398874989"
            ],
            "text/markdown": "11.1803398874989",
            "text/latex": "11.1803398874989",
            "text/plain": [
              "[1] 11.18034"
            ]
          },
          "metadata": {}
        }
      ]
    },
    {
      "cell_type": "code",
      "source": [
        "sqrt((l^2 + w^2))"
      ],
      "metadata": {
        "colab": {
          "base_uri": "https://localhost:8080/",
          "height": 34
        },
        "id": "y5ITHNrESKjV",
        "outputId": "724cb067-b716-4469-887e-c8e253fe8744"
      },
      "execution_count": null,
      "outputs": [
        {
          "output_type": "display_data",
          "data": {
            "text/html": [
              "11.1803398874989"
            ],
            "text/markdown": "11.1803398874989",
            "text/latex": "11.1803398874989",
            "text/plain": [
              "[1] 11.18034"
            ]
          },
          "metadata": {}
        }
      ]
    },
    {
      "cell_type": "markdown",
      "source": [
        "**Operadores relacionales**\n",
        "\n",
        "Los operadores relacionales son usados para comparar valores.\n",
        "\n",
        "| Operador | Descripción                   |\n",
        "|----------|-------------------------------|\n",
        "| `==`     | Igual                    |\n",
        "| `!=`     | No es igual a                  |\n",
        "| `<`      | Menor que                 |\n",
        "| `<=`     | Menor o igual que         |\n",
        "| `>`      | Mayor que                  |\n",
        "| `>=`     | Mayor o igual que      |\n",
        "\n",
        "\n",
        "**Ejercicio**: Usando celdas de códigos calcule lo siguiente:\n",
        "\n",
        "```r\n",
        "x <- 5\n",
        "y <- 16\n",
        "x < y\n",
        "x > y\n",
        "x <= 5\n",
        "y >= 20\n",
        "y == 16\n",
        "x != 5\n",
        "```\n"
      ],
      "metadata": {
        "id": "3D91-Uckmxp-"
      }
    },
    {
      "cell_type": "code",
      "source": [
        "x <- 5\n",
        "y <- 16"
      ],
      "metadata": {
        "id": "3ndOaGpDm1QM"
      },
      "execution_count": null,
      "outputs": []
    },
    {
      "cell_type": "code",
      "source": [
        "x < y"
      ],
      "metadata": {
        "colab": {
          "base_uri": "https://localhost:8080/",
          "height": 34
        },
        "id": "gG7vyL73SlpM",
        "outputId": "8f5588ce-a8fd-43f6-df4c-43541c28c97b"
      },
      "execution_count": null,
      "outputs": [
        {
          "output_type": "display_data",
          "data": {
            "text/html": [
              "TRUE"
            ],
            "text/markdown": "TRUE",
            "text/latex": "TRUE",
            "text/plain": [
              "[1] TRUE"
            ]
          },
          "metadata": {}
        }
      ]
    },
    {
      "cell_type": "code",
      "source": [
        "x > y"
      ],
      "metadata": {
        "colab": {
          "base_uri": "https://localhost:8080/",
          "height": 34
        },
        "id": "ZDz4pTnxSnb8",
        "outputId": "75714564-b771-4fd1-b9a7-0402d2f3cf64"
      },
      "execution_count": null,
      "outputs": [
        {
          "output_type": "display_data",
          "data": {
            "text/html": [
              "FALSE"
            ],
            "text/markdown": "FALSE",
            "text/latex": "FALSE",
            "text/plain": [
              "[1] FALSE"
            ]
          },
          "metadata": {}
        }
      ]
    },
    {
      "cell_type": "code",
      "source": [
        "x <= 5"
      ],
      "metadata": {
        "colab": {
          "base_uri": "https://localhost:8080/",
          "height": 34
        },
        "id": "pPgeviy6Sn8z",
        "outputId": "48476833-fb78-4bc6-d032-84deff1505ca"
      },
      "execution_count": null,
      "outputs": [
        {
          "output_type": "display_data",
          "data": {
            "text/html": [
              "TRUE"
            ],
            "text/markdown": "TRUE",
            "text/latex": "TRUE",
            "text/plain": [
              "[1] TRUE"
            ]
          },
          "metadata": {}
        }
      ]
    },
    {
      "cell_type": "code",
      "source": [
        "y >= 20"
      ],
      "metadata": {
        "colab": {
          "base_uri": "https://localhost:8080/",
          "height": 34
        },
        "id": "_H8RTtvQSoWL",
        "outputId": "cb0494a0-8f7f-44c7-c691-d82b2e965f2f"
      },
      "execution_count": null,
      "outputs": [
        {
          "output_type": "display_data",
          "data": {
            "text/html": [
              "FALSE"
            ],
            "text/markdown": "FALSE",
            "text/latex": "FALSE",
            "text/plain": [
              "[1] FALSE"
            ]
          },
          "metadata": {}
        }
      ]
    },
    {
      "cell_type": "code",
      "source": [
        "y == 16"
      ],
      "metadata": {
        "colab": {
          "base_uri": "https://localhost:8080/",
          "height": 34
        },
        "id": "61OkCkq-TBer",
        "outputId": "37078d5d-00e5-4435-b730-04befa11f96d"
      },
      "execution_count": null,
      "outputs": [
        {
          "output_type": "display_data",
          "data": {
            "text/html": [
              "TRUE"
            ],
            "text/markdown": "TRUE",
            "text/latex": "TRUE",
            "text/plain": [
              "[1] TRUE"
            ]
          },
          "metadata": {}
        }
      ]
    },
    {
      "cell_type": "code",
      "source": [
        "x != 5"
      ],
      "metadata": {
        "colab": {
          "base_uri": "https://localhost:8080/",
          "height": 34
        },
        "id": "18ubuyymSoq7",
        "outputId": "e3fd70a8-6f4b-4655-db5b-a5c2f0539fdc"
      },
      "execution_count": null,
      "outputs": [
        {
          "output_type": "display_data",
          "data": {
            "text/html": [
              "FALSE"
            ],
            "text/markdown": "FALSE",
            "text/latex": "FALSE",
            "text/plain": [
              "[1] FALSE"
            ]
          },
          "metadata": {}
        }
      ]
    },
    {
      "cell_type": "markdown",
      "source": [
        "**Operadores lógicos**\n",
        "\n",
        "Los operadores lógicos permiten llevar a cabo operaciones booleanas tales como AND o OR.\n",
        "\n",
        "| Operator | Descripción             |\n",
        "|----------|-------------------------|\n",
        "| `&`      | Y lógico (usa ambos operandos) |\n",
        "| `&&`     | Y lógico              |\n",
        "| `\\|`      | O lógico (usa ambos operandos)         |\n",
        "| `\\|\\|`   | O lógicos              |\n",
        "| `!`      | Negación                     |\n",
        "\n",
        "Cero es considerado FALSE y valores diferentes de cero son tomados como TRUE.\n",
        "\n",
        "**Ejercicio**: Usando celdas de código calcule lo siguiente:\n",
        "\n",
        "```r\n",
        "x <- TRUE\n",
        "y <- FALSE\n",
        "x & y\n",
        "x & x\n",
        "x | y\n",
        "!x\n",
        "```\n"
      ],
      "metadata": {
        "id": "pfuwVWpAnFaG"
      }
    },
    {
      "cell_type": "code",
      "source": [],
      "metadata": {
        "id": "l1cK1bfonS7E"
      },
      "execution_count": null,
      "outputs": []
    },
    {
      "cell_type": "markdown",
      "source": [
        "**Operadores de asignación**\n",
        "\n",
        "\n",
        "| Operator | Descripción             |\n",
        "|----------|-------------------------|\n",
        "| `<-, <<-`      | El operador de asignación hacia la izquierda |\n",
        "| `->, ->>`     | El operador de asignación hacia la derecha              |\n",
        "| `=`      | El operador de asignación que usa el símbolo de igual   |\n",
        "\n",
        "\n",
        "El operador <- y = pueden ser usados indistintamente para asignar variables en el mismo entorno.\n",
        "\n",
        "El operador <<- es usado para asignar variables en el entorno padre. El operador de asignación hacia derecha aunque disponible es raramente usado.\n",
        "\n",
        "\n",
        "**Ejercicio**: Usando celdas de código calcule lo siguiente:\n",
        "\n",
        "\n",
        "```\n",
        "x <- 5\n",
        "x\n",
        "x <- 9\n",
        "x\n",
        "10 -> x\n",
        "x\n",
        "```\n",
        "\n"
      ],
      "metadata": {
        "id": "Vs56q9YbndO1"
      }
    },
    {
      "cell_type": "markdown",
      "source": [
        "# Precedencia de operadores y asociatividad\n",
        "\n",
        "**Precedencia de operadores**\n",
        "\n",
        "Ejecutar lo siguiente:\n",
        "\n",
        "```r\n",
        "2 + 6 * 5\n",
        "```"
      ],
      "metadata": {
        "id": "jY3Q-l3uSvhZ"
      }
    },
    {
      "cell_type": "markdown",
      "source": [
        "En la anterior expresión el operador * tiene mayor precedencia que +. Puedo cambiar la precedencia usando parentesis, ejecutar el sigueinte código.\n",
        "\n",
        "```\n",
        "(2 + 6) * 5\n",
        "```"
      ],
      "metadata": {
        "id": "UP7IxjTGU6jj"
      }
    },
    {
      "cell_type": "markdown",
      "source": [
        "**Asociatividad de los operadores**\n",
        "\n",
        "Ejecutar lo siguiente:\n",
        "\n",
        "```\n",
        "3 / 4 / 5\n",
        "```"
      ],
      "metadata": {
        "id": "3CxcfOz6VTy7"
      }
    },
    {
      "cell_type": "markdown",
      "source": [
        "El operador / es evaluado de izquierda a derecha."
      ],
      "metadata": {
        "id": "_HrNCfrEVg1H"
      }
    },
    {
      "cell_type": "markdown",
      "source": [
        "# Vectores en R\n",
        "\n",
        "Un vector es una estructura en R la cual contiene elementos del mismo tipo. Los tipos de datos pueden ser logicos, enteros, double, character, complex o raw.\n",
        "\n",
        "Otra importante propiedad de un vector es su longitud. Este es el número de elementos en el vector y puede ser verificado con la función length().\n",
        "\n",
        "Digite lo siguiente en celdas de código:\n",
        "\n",
        "```r\n",
        "x <- c(1, 5, 4, 9, 0)\n",
        "typeof(x)\n",
        "\n",
        "length(x)\n",
        "x <- c(1, 5.4, TRUE, \"hello\")\n",
        "x\n",
        "typeof(x)\n",
        "\n",
        "```"
      ],
      "metadata": {
        "id": "CZFyJPHnpZcs"
      }
    },
    {
      "cell_type": "code",
      "source": [],
      "metadata": {
        "id": "cAfEKQAzniVN"
      },
      "execution_count": null,
      "outputs": []
    },
    {
      "cell_type": "markdown",
      "source": [
        "**Creando un vector usando el operador :**\n",
        "\n",
        "Digite lo siguiente en celdas de código:\n",
        "\n",
        "```r\n",
        "# creando el vector x\n",
        "x <- 1:7\n",
        "x\n",
        "# creando el vector y\n",
        "y <- 2:-2\n",
        "y\n",
        "```\n",
        "\n"
      ],
      "metadata": {
        "id": "DnE09T0HqMEe"
      }
    },
    {
      "cell_type": "code",
      "source": [
        "x <- 1:7\n",
        "x\n",
        "# creando el vector y\n",
        "y <- 2:-2\n",
        "y"
      ],
      "metadata": {
        "id": "IJ-VWJN9BD3n",
        "outputId": "59023f6a-c1f9-4f98-e83b-9096d10d9eaf",
        "colab": {
          "base_uri": "https://localhost:8080/",
          "height": 52
        }
      },
      "execution_count": null,
      "outputs": [
        {
          "output_type": "display_data",
          "data": {
            "text/html": [
              "<style>\n",
              ".list-inline {list-style: none; margin:0; padding: 0}\n",
              ".list-inline>li {display: inline-block}\n",
              ".list-inline>li:not(:last-child)::after {content: \"\\00b7\"; padding: 0 .5ex}\n",
              "</style>\n",
              "<ol class=list-inline><li>1</li><li>2</li><li>3</li><li>4</li><li>5</li><li>6</li><li>7</li></ol>\n"
            ],
            "text/markdown": "1. 1\n2. 2\n3. 3\n4. 4\n5. 5\n6. 6\n7. 7\n\n\n",
            "text/latex": "\\begin{enumerate*}\n\\item 1\n\\item 2\n\\item 3\n\\item 4\n\\item 5\n\\item 6\n\\item 7\n\\end{enumerate*}\n",
            "text/plain": [
              "[1] 1 2 3 4 5 6 7"
            ]
          },
          "metadata": {}
        },
        {
          "output_type": "display_data",
          "data": {
            "text/html": [
              "<style>\n",
              ".list-inline {list-style: none; margin:0; padding: 0}\n",
              ".list-inline>li {display: inline-block}\n",
              ".list-inline>li:not(:last-child)::after {content: \"\\00b7\"; padding: 0 .5ex}\n",
              "</style>\n",
              "<ol class=list-inline><li>2</li><li>1</li><li>0</li><li>-1</li><li>-2</li></ol>\n"
            ],
            "text/markdown": "1. 2\n2. 1\n3. 0\n4. -1\n5. -2\n\n\n",
            "text/latex": "\\begin{enumerate*}\n\\item 2\n\\item 1\n\\item 0\n\\item -1\n\\item -2\n\\end{enumerate*}\n",
            "text/plain": [
              "[1]  2  1  0 -1 -2"
            ]
          },
          "metadata": {}
        }
      ]
    },
    {
      "cell_type": "code",
      "source": [],
      "metadata": {
        "id": "IRDxMu13qQst"
      },
      "execution_count": null,
      "outputs": []
    },
    {
      "cell_type": "markdown",
      "source": [
        "**Creando un vector usando la función seq**\n",
        "\n",
        "La función seq permite generar secuencias.\n",
        "\n",
        "Digite lo siguiente en celdas de código.\n",
        "\n",
        "```r\n",
        "seq(1, 3, by=0.2) # specify step size\n",
        "\n",
        "seq(1, 5, length.out=4) # specify length of the vector\n",
        "```"
      ],
      "metadata": {
        "id": "gAbxPHzaql_-"
      }
    },
    {
      "cell_type": "code",
      "source": [],
      "metadata": {
        "id": "N0w_73DzrCa-"
      },
      "execution_count": null,
      "outputs": []
    },
    {
      "cell_type": "markdown",
      "source": [
        "**Accesando elementos de un vector**\n",
        "\n",
        "**Usando vectores de enteros**\n",
        "\n",
        "Ejecutar lo siguiente:\n",
        "\n",
        "```\n",
        "x <- 1:7\n",
        "\n",
        "x[3]    \n",
        "\n",
        "x[c(2, 4)]     \n",
        "\n",
        "x[-1]          \n",
        "\n",
        "x[c(2, -4)]\n",
        "\n",
        "```"
      ],
      "metadata": {
        "id": "4wQv0P_xY9iy"
      }
    },
    {
      "cell_type": "code",
      "source": [
        "x <- 1:7\n",
        "x\n",
        "\n",
        "x[3]\n",
        "\n",
        "x[c(2, 4)]\n",
        "\n",
        "x[-1]"
      ],
      "metadata": {
        "id": "RzaulIEnBYGV",
        "outputId": "34af42ec-2675-4621-c034-bd32d0fb2b87",
        "colab": {
          "base_uri": "https://localhost:8080/",
          "height": 86
        }
      },
      "execution_count": null,
      "outputs": [
        {
          "output_type": "display_data",
          "data": {
            "text/html": [
              "<style>\n",
              ".list-inline {list-style: none; margin:0; padding: 0}\n",
              ".list-inline>li {display: inline-block}\n",
              ".list-inline>li:not(:last-child)::after {content: \"\\00b7\"; padding: 0 .5ex}\n",
              "</style>\n",
              "<ol class=list-inline><li>1</li><li>2</li><li>3</li><li>4</li><li>5</li><li>6</li><li>7</li></ol>\n"
            ],
            "text/markdown": "1. 1\n2. 2\n3. 3\n4. 4\n5. 5\n6. 6\n7. 7\n\n\n",
            "text/latex": "\\begin{enumerate*}\n\\item 1\n\\item 2\n\\item 3\n\\item 4\n\\item 5\n\\item 6\n\\item 7\n\\end{enumerate*}\n",
            "text/plain": [
              "[1] 1 2 3 4 5 6 7"
            ]
          },
          "metadata": {}
        },
        {
          "output_type": "display_data",
          "data": {
            "text/html": [
              "3"
            ],
            "text/markdown": "3",
            "text/latex": "3",
            "text/plain": [
              "[1] 3"
            ]
          },
          "metadata": {}
        },
        {
          "output_type": "display_data",
          "data": {
            "text/html": [
              "<style>\n",
              ".list-inline {list-style: none; margin:0; padding: 0}\n",
              ".list-inline>li {display: inline-block}\n",
              ".list-inline>li:not(:last-child)::after {content: \"\\00b7\"; padding: 0 .5ex}\n",
              "</style>\n",
              "<ol class=list-inline><li>2</li><li>4</li></ol>\n"
            ],
            "text/markdown": "1. 2\n2. 4\n\n\n",
            "text/latex": "\\begin{enumerate*}\n\\item 2\n\\item 4\n\\end{enumerate*}\n",
            "text/plain": [
              "[1] 2 4"
            ]
          },
          "metadata": {}
        },
        {
          "output_type": "display_data",
          "data": {
            "text/html": [
              "<style>\n",
              ".list-inline {list-style: none; margin:0; padding: 0}\n",
              ".list-inline>li {display: inline-block}\n",
              ".list-inline>li:not(:last-child)::after {content: \"\\00b7\"; padding: 0 .5ex}\n",
              "</style>\n",
              "<ol class=list-inline><li>2</li><li>3</li><li>4</li><li>5</li><li>6</li><li>7</li></ol>\n"
            ],
            "text/markdown": "1. 2\n2. 3\n3. 4\n4. 5\n5. 6\n6. 7\n\n\n",
            "text/latex": "\\begin{enumerate*}\n\\item 2\n\\item 3\n\\item 4\n\\item 5\n\\item 6\n\\item 7\n\\end{enumerate*}\n",
            "text/plain": [
              "[1] 2 3 4 5 6 7"
            ]
          },
          "metadata": {}
        }
      ]
    },
    {
      "cell_type": "code",
      "source": [
        "x[c(2, -4)]"
      ],
      "metadata": {
        "id": "fguDAHMSDc76",
        "outputId": "b3b0b060-6c91-4ee3-8584-f46344d1a943",
        "colab": {
          "base_uri": "https://localhost:8080/",
          "height": 72
        }
      },
      "execution_count": null,
      "outputs": [
        {
          "output_type": "error",
          "ename": "ERROR",
          "evalue": "Error in x[c(2, -4)]: only 0's may be mixed with negative subscripts\n",
          "traceback": [
            "Error in x[c(2, -4)]: only 0's may be mixed with negative subscripts\nTraceback:\n"
          ]
        }
      ]
    },
    {
      "cell_type": "markdown",
      "source": [
        "**Usando vectores lógicos**\n",
        "\n",
        "Ejecutar lo siguiente.\n",
        "\n",
        "```\n",
        "x <- 1:5\n",
        "x[c(TRUE, FALSE, FALSE, TRUE)]\n",
        "# filtrando basandonos en condiciones\n",
        "# Ojo: vamos a ver mejores formas de hacer esto\n",
        "# con verbos en el tidyverse.\n",
        "x[x < 0]\n",
        "x[x > 0]\n",
        "\n",
        "```"
      ],
      "metadata": {
        "id": "9sDlFPYqap3U"
      }
    },
    {
      "cell_type": "code",
      "source": [
        "x <- 1:5\n",
        "x\n",
        "c(TRUE, FALSE, FALSE, TRUE)\n",
        "x[c(TRUE, FALSE, FALSE, TRUE)]"
      ],
      "metadata": {
        "id": "ZJbA-C5MGgZ4",
        "outputId": "23a33337-52ac-4ced-f3e6-bc93db9fd4c0",
        "colab": {
          "base_uri": "https://localhost:8080/",
          "height": 69
        }
      },
      "execution_count": null,
      "outputs": [
        {
          "output_type": "display_data",
          "data": {
            "text/html": [
              "<style>\n",
              ".list-inline {list-style: none; margin:0; padding: 0}\n",
              ".list-inline>li {display: inline-block}\n",
              ".list-inline>li:not(:last-child)::after {content: \"\\00b7\"; padding: 0 .5ex}\n",
              "</style>\n",
              "<ol class=list-inline><li>1</li><li>2</li><li>3</li><li>4</li><li>5</li></ol>\n"
            ],
            "text/markdown": "1. 1\n2. 2\n3. 3\n4. 4\n5. 5\n\n\n",
            "text/latex": "\\begin{enumerate*}\n\\item 1\n\\item 2\n\\item 3\n\\item 4\n\\item 5\n\\end{enumerate*}\n",
            "text/plain": [
              "[1] 1 2 3 4 5"
            ]
          },
          "metadata": {}
        },
        {
          "output_type": "display_data",
          "data": {
            "text/html": [
              "<style>\n",
              ".list-inline {list-style: none; margin:0; padding: 0}\n",
              ".list-inline>li {display: inline-block}\n",
              ".list-inline>li:not(:last-child)::after {content: \"\\00b7\"; padding: 0 .5ex}\n",
              "</style>\n",
              "<ol class=list-inline><li>TRUE</li><li>FALSE</li><li>FALSE</li><li>TRUE</li></ol>\n"
            ],
            "text/markdown": "1. TRUE\n2. FALSE\n3. FALSE\n4. TRUE\n\n\n",
            "text/latex": "\\begin{enumerate*}\n\\item TRUE\n\\item FALSE\n\\item FALSE\n\\item TRUE\n\\end{enumerate*}\n",
            "text/plain": [
              "[1]  TRUE FALSE FALSE  TRUE"
            ]
          },
          "metadata": {}
        },
        {
          "output_type": "display_data",
          "data": {
            "text/html": [
              "<style>\n",
              ".list-inline {list-style: none; margin:0; padding: 0}\n",
              ".list-inline>li {display: inline-block}\n",
              ".list-inline>li:not(:last-child)::after {content: \"\\00b7\"; padding: 0 .5ex}\n",
              "</style>\n",
              "<ol class=list-inline><li>1</li><li>4</li><li>5</li></ol>\n"
            ],
            "text/markdown": "1. 1\n2. 4\n3. 5\n\n\n",
            "text/latex": "\\begin{enumerate*}\n\\item 1\n\\item 4\n\\item 5\n\\end{enumerate*}\n",
            "text/plain": [
              "[1] 1 4 5"
            ]
          },
          "metadata": {}
        }
      ]
    },
    {
      "cell_type": "code",
      "source": [
        "x"
      ],
      "metadata": {
        "id": "oj2Zy5htG6Wq",
        "outputId": "c852af3a-873c-4bc2-ff22-bc8d71cd7d2a",
        "colab": {
          "base_uri": "https://localhost:8080/",
          "height": 34
        }
      },
      "execution_count": null,
      "outputs": [
        {
          "output_type": "display_data",
          "data": {
            "text/html": [
              "<style>\n",
              ".list-inline {list-style: none; margin:0; padding: 0}\n",
              ".list-inline>li {display: inline-block}\n",
              ".list-inline>li:not(:last-child)::after {content: \"\\00b7\"; padding: 0 .5ex}\n",
              "</style>\n",
              "<ol class=list-inline><li>1</li><li>2</li><li>3</li><li>4</li><li>5</li></ol>\n"
            ],
            "text/markdown": "1. 1\n2. 2\n3. 3\n4. 4\n5. 5\n\n\n",
            "text/latex": "\\begin{enumerate*}\n\\item 1\n\\item 2\n\\item 3\n\\item 4\n\\item 5\n\\end{enumerate*}\n",
            "text/plain": [
              "[1] 1 2 3 4 5"
            ]
          },
          "metadata": {}
        }
      ]
    },
    {
      "cell_type": "code",
      "source": [
        "x < 0"
      ],
      "metadata": {
        "id": "5Dug4hzjG9fQ",
        "outputId": "243005b6-3e5d-45ba-a84a-dbfef7ca8e92",
        "colab": {
          "base_uri": "https://localhost:8080/",
          "height": 34
        }
      },
      "execution_count": null,
      "outputs": [
        {
          "output_type": "display_data",
          "data": {
            "text/html": [
              "<style>\n",
              ".list-inline {list-style: none; margin:0; padding: 0}\n",
              ".list-inline>li {display: inline-block}\n",
              ".list-inline>li:not(:last-child)::after {content: \"\\00b7\"; padding: 0 .5ex}\n",
              "</style>\n",
              "<ol class=list-inline><li>FALSE</li><li>FALSE</li><li>FALSE</li><li>FALSE</li><li>FALSE</li></ol>\n"
            ],
            "text/markdown": "1. FALSE\n2. FALSE\n3. FALSE\n4. FALSE\n5. FALSE\n\n\n",
            "text/latex": "\\begin{enumerate*}\n\\item FALSE\n\\item FALSE\n\\item FALSE\n\\item FALSE\n\\item FALSE\n\\end{enumerate*}\n",
            "text/plain": [
              "[1] FALSE FALSE FALSE FALSE FALSE"
            ]
          },
          "metadata": {}
        }
      ]
    },
    {
      "cell_type": "code",
      "source": [
        "print(x[x < 0]) # vector de longitud 0\n"
      ],
      "metadata": {
        "id": "XABSb50qG1BK",
        "outputId": "92be447f-4d53-4aa1-a78f-2012d4ea5503",
        "colab": {
          "base_uri": "https://localhost:8080/"
        }
      },
      "execution_count": null,
      "outputs": [
        {
          "output_type": "stream",
          "name": "stdout",
          "text": [
            "integer(0)\n"
          ]
        }
      ]
    },
    {
      "cell_type": "code",
      "source": [
        "x[x > 0]"
      ],
      "metadata": {
        "id": "Gr5qDZaLG2Ep",
        "outputId": "f658597f-04bd-431e-c873-7a7792c3aa8a",
        "colab": {
          "base_uri": "https://localhost:8080/",
          "height": 34
        }
      },
      "execution_count": null,
      "outputs": [
        {
          "output_type": "display_data",
          "data": {
            "text/html": [
              "<style>\n",
              ".list-inline {list-style: none; margin:0; padding: 0}\n",
              ".list-inline>li {display: inline-block}\n",
              ".list-inline>li:not(:last-child)::after {content: \"\\00b7\"; padding: 0 .5ex}\n",
              "</style>\n",
              "<ol class=list-inline><li>1</li><li>2</li><li>3</li><li>4</li><li>5</li></ol>\n"
            ],
            "text/markdown": "1. 1\n2. 2\n3. 3\n4. 4\n5. 5\n\n\n",
            "text/latex": "\\begin{enumerate*}\n\\item 1\n\\item 2\n\\item 3\n\\item 4\n\\item 5\n\\end{enumerate*}\n",
            "text/plain": [
              "[1] 1 2 3 4 5"
            ]
          },
          "metadata": {}
        }
      ]
    },
    {
      "cell_type": "markdown",
      "source": [
        "**Modificando los valores de un vector**\n",
        "\n",
        "\n",
        "Ejecutar lo siguiente:\n",
        "\n",
        "```\n",
        "x <- c(-3,-2,-1,0,1,2)\n",
        "\n",
        "x[2] <- 0\n",
        "x        \n",
        "\n",
        "x[x<0] <- 5\n",
        "x   \n",
        "\n",
        "```"
      ],
      "metadata": {
        "id": "c1dNxs1ycVW3"
      }
    },
    {
      "cell_type": "code",
      "source": [
        "x <- c(-3,-2,-1,0,1,2)\n",
        "\n",
        "x[2] <- 0\n",
        "x\n",
        "\n",
        "x[x<0] <- 5\n",
        "x"
      ],
      "metadata": {
        "id": "baLAPTDgJNkF",
        "outputId": "f97add1b-2d97-4878-be14-e59063802e03",
        "colab": {
          "base_uri": "https://localhost:8080/",
          "height": 52
        }
      },
      "execution_count": null,
      "outputs": [
        {
          "output_type": "display_data",
          "data": {
            "text/html": [
              "<style>\n",
              ".list-inline {list-style: none; margin:0; padding: 0}\n",
              ".list-inline>li {display: inline-block}\n",
              ".list-inline>li:not(:last-child)::after {content: \"\\00b7\"; padding: 0 .5ex}\n",
              "</style>\n",
              "<ol class=list-inline><li>-3</li><li>0</li><li>-1</li><li>0</li><li>1</li><li>2</li></ol>\n"
            ],
            "text/markdown": "1. -3\n2. 0\n3. -1\n4. 0\n5. 1\n6. 2\n\n\n",
            "text/latex": "\\begin{enumerate*}\n\\item -3\n\\item 0\n\\item -1\n\\item 0\n\\item 1\n\\item 2\n\\end{enumerate*}\n",
            "text/plain": [
              "[1] -3  0 -1  0  1  2"
            ]
          },
          "metadata": {}
        },
        {
          "output_type": "display_data",
          "data": {
            "text/html": [
              "<style>\n",
              ".list-inline {list-style: none; margin:0; padding: 0}\n",
              ".list-inline>li {display: inline-block}\n",
              ".list-inline>li:not(:last-child)::after {content: \"\\00b7\"; padding: 0 .5ex}\n",
              "</style>\n",
              "<ol class=list-inline><li>5</li><li>0</li><li>5</li><li>0</li><li>1</li><li>2</li></ol>\n"
            ],
            "text/markdown": "1. 5\n2. 0\n3. 5\n4. 0\n5. 1\n6. 2\n\n\n",
            "text/latex": "\\begin{enumerate*}\n\\item 5\n\\item 0\n\\item 5\n\\item 0\n\\item 1\n\\item 2\n\\end{enumerate*}\n",
            "text/plain": [
              "[1] 5 0 5 0 1 2"
            ]
          },
          "metadata": {}
        }
      ]
    },
    {
      "cell_type": "markdown",
      "source": [
        "**Ejercicio**\n",
        "\n",
        "* La siguiente tabla representa datos de temperatura máxima en El Salvador del 11 al 15 de marzo.\n",
        "\n",
        "| Lunes  | Martes  | Miércoles  | Jueves  | Viernes  |\n",
        "|---|---|---|---|---|\n",
        "| 35  | 33  |  33 | 32  |  30 |\n",
        "\n",
        "* Crear un vector con la anterior información.\n",
        "\n",
        "* Calcular el máximo valor de temperatura usando la función max\n",
        "\n",
        "* Investigar como poner nombres a los elementos del vector anterior. Puede usar ChatGPT o google.\n",
        "\n",
        "* Usar la función summary sobre el vector\n",
        "\n",
        "* Accesar a los elementos que van de Lunes a Jueves\n",
        "\n",
        "* Modificar el valor de Jueves por 35\n",
        "\n"
      ],
      "metadata": {
        "id": "vIfP3CxMjw2N"
      }
    },
    {
      "cell_type": "code",
      "source": [
        " temper <-c(35  , 33  ,  33 , 32  ,  30 )"
      ],
      "metadata": {
        "id": "jc5A5wZfLnlr"
      },
      "execution_count": null,
      "outputs": []
    },
    {
      "cell_type": "code",
      "source": [
        "temper"
      ],
      "metadata": {
        "id": "FtqldewILyQ7",
        "outputId": "c3c05958-8e32-4389-922c-3305e2d8c390",
        "colab": {
          "base_uri": "https://localhost:8080/",
          "height": 34
        }
      },
      "execution_count": null,
      "outputs": [
        {
          "output_type": "display_data",
          "data": {
            "text/html": [
              "<style>\n",
              ".list-inline {list-style: none; margin:0; padding: 0}\n",
              ".list-inline>li {display: inline-block}\n",
              ".list-inline>li:not(:last-child)::after {content: \"\\00b7\"; padding: 0 .5ex}\n",
              "</style>\n",
              "<ol class=list-inline><li>35</li><li>33</li><li>33</li><li>32</li><li>30</li></ol>\n"
            ],
            "text/markdown": "1. 35\n2. 33\n3. 33\n4. 32\n5. 30\n\n\n",
            "text/latex": "\\begin{enumerate*}\n\\item 35\n\\item 33\n\\item 33\n\\item 32\n\\item 30\n\\end{enumerate*}\n",
            "text/plain": [
              "[1] 35 33 33 32 30"
            ]
          },
          "metadata": {}
        }
      ]
    },
    {
      "cell_type": "code",
      "source": [
        "temper"
      ],
      "metadata": {
        "id": "nxMGVpK7NUzt",
        "outputId": "57d6844a-0c6d-4261-ef64-1d8a3e52b2f5",
        "colab": {
          "base_uri": "https://localhost:8080/",
          "height": 34
        }
      },
      "execution_count": null,
      "outputs": [
        {
          "output_type": "display_data",
          "data": {
            "text/html": [
              "<style>\n",
              ".list-inline {list-style: none; margin:0; padding: 0}\n",
              ".list-inline>li {display: inline-block}\n",
              ".list-inline>li:not(:last-child)::after {content: \"\\00b7\"; padding: 0 .5ex}\n",
              "</style>\n",
              "<ol class=list-inline><li>35</li><li>33</li><li>33</li><li>32</li><li>30</li></ol>\n"
            ],
            "text/markdown": "1. 35\n2. 33\n3. 33\n4. 32\n5. 30\n\n\n",
            "text/latex": "\\begin{enumerate*}\n\\item 35\n\\item 33\n\\item 33\n\\item 32\n\\item 30\n\\end{enumerate*}\n",
            "text/plain": [
              "[1] 35 33 33 32 30"
            ]
          },
          "metadata": {}
        }
      ]
    },
    {
      "cell_type": "code",
      "source": [
        "max(temper)"
      ],
      "metadata": {
        "colab": {
          "base_uri": "https://localhost:8080/",
          "height": 34
        },
        "id": "zSeEvlbs27zk",
        "outputId": "4edbc257-fe3b-4c66-e15b-e6fce52b0d21"
      },
      "execution_count": null,
      "outputs": [
        {
          "output_type": "display_data",
          "data": {
            "text/html": [
              "35"
            ],
            "text/markdown": "35",
            "text/latex": "35",
            "text/plain": [
              "[1] 35"
            ]
          },
          "metadata": {}
        }
      ]
    },
    {
      "cell_type": "code",
      "source": [
        "names(temper) <- c(\"Lunes\", \"Martes\", \"Miércoles\", \"Jueves\", \"Viernes\")"
      ],
      "metadata": {
        "id": "8v_c1vN2284C"
      },
      "execution_count": null,
      "outputs": []
    },
    {
      "cell_type": "code",
      "source": [
        "as.matrix(temper)"
      ],
      "metadata": {
        "id": "URq-RWpeNfKJ",
        "outputId": "f15cad16-d697-4a71-91f6-14226eb5913c",
        "colab": {
          "base_uri": "https://localhost:8080/",
          "height": 209
        }
      },
      "execution_count": null,
      "outputs": [
        {
          "output_type": "display_data",
          "data": {
            "text/html": [
              "<table class=\"dataframe\">\n",
              "<caption>A matrix: 5 × 1 of type dbl</caption>\n",
              "<tbody>\n",
              "\t<tr><th scope=row>Lunes</th><td>35</td></tr>\n",
              "\t<tr><th scope=row>Martes</th><td>33</td></tr>\n",
              "\t<tr><th scope=row>Miércoles</th><td>33</td></tr>\n",
              "\t<tr><th scope=row>Jueves</th><td>32</td></tr>\n",
              "\t<tr><th scope=row>Viernes</th><td>30</td></tr>\n",
              "</tbody>\n",
              "</table>\n"
            ],
            "text/markdown": "\nA matrix: 5 × 1 of type dbl\n\n| Lunes | 35 |\n| Martes | 33 |\n| Miércoles | 33 |\n| Jueves | 32 |\n| Viernes | 30 |\n\n",
            "text/latex": "A matrix: 5 × 1 of type dbl\n\\begin{tabular}{r|l}\n\tLunes & 35\\\\\n\tMartes & 33\\\\\n\tMiércoles & 33\\\\\n\tJueves & 32\\\\\n\tViernes & 30\\\\\n\\end{tabular}\n",
            "text/plain": [
              "          [,1]\n",
              "Lunes     35  \n",
              "Martes    33  \n",
              "Miércoles 33  \n",
              "Jueves    32  \n",
              "Viernes   30  "
            ]
          },
          "metadata": {}
        }
      ]
    },
    {
      "cell_type": "code",
      "source": [
        "t(as.matrix(temper))"
      ],
      "metadata": {
        "id": "8_sVNY1GNxxK",
        "outputId": "cd10f3a7-fa58-4251-c379-798453ad278f",
        "colab": {
          "base_uri": "https://localhost:8080/",
          "height": 98
        }
      },
      "execution_count": null,
      "outputs": [
        {
          "output_type": "display_data",
          "data": {
            "text/html": [
              "<table class=\"dataframe\">\n",
              "<caption>A matrix: 1 × 5 of type dbl</caption>\n",
              "<thead>\n",
              "\t<tr><th scope=col>Lunes</th><th scope=col>Martes</th><th scope=col>Miércoles</th><th scope=col>Jueves</th><th scope=col>Viernes</th></tr>\n",
              "</thead>\n",
              "<tbody>\n",
              "\t<tr><td>35</td><td>33</td><td>33</td><td>32</td><td>30</td></tr>\n",
              "</tbody>\n",
              "</table>\n"
            ],
            "text/markdown": "\nA matrix: 1 × 5 of type dbl\n\n| Lunes | Martes | Miércoles | Jueves | Viernes |\n|---|---|---|---|---|\n| 35 | 33 | 33 | 32 | 30 |\n\n",
            "text/latex": "A matrix: 1 × 5 of type dbl\n\\begin{tabular}{lllll}\n Lunes & Martes & Miércoles & Jueves & Viernes\\\\\n\\hline\n\t 35 & 33 & 33 & 32 & 30\\\\\n\\end{tabular}\n",
            "text/plain": [
              "     Lunes Martes Miércoles Jueves Viernes\n",
              "[1,] 35    33     33        32     30     "
            ]
          },
          "metadata": {}
        }
      ]
    },
    {
      "cell_type": "code",
      "source": [
        "summary(temper)"
      ],
      "metadata": {
        "id": "3hKAOiUbL-lx",
        "outputId": "111af4ec-fe06-4f3e-f986-fdf3acb31498",
        "colab": {
          "base_uri": "https://localhost:8080/",
          "height": 52
        }
      },
      "execution_count": null,
      "outputs": [
        {
          "output_type": "display_data",
          "data": {
            "text/plain": [
              "   Min. 1st Qu.  Median    Mean 3rd Qu.    Max. \n",
              "   30.0    32.0    33.0    32.6    33.0    35.0 "
            ]
          },
          "metadata": {}
        }
      ]
    },
    {
      "cell_type": "code",
      "source": [
        "temper[1:4]"
      ],
      "metadata": {
        "id": "XMAfUhHmN6Er",
        "outputId": "c867e5e6-d64e-4ff4-b002-f3922995d2f9",
        "colab": {
          "base_uri": "https://localhost:8080/",
          "height": 34
        }
      },
      "execution_count": null,
      "outputs": [
        {
          "output_type": "display_data",
          "data": {
            "text/html": [
              "<style>\n",
              ".dl-inline {width: auto; margin:0; padding: 0}\n",
              ".dl-inline>dt, .dl-inline>dd {float: none; width: auto; display: inline-block}\n",
              ".dl-inline>dt::after {content: \":\\0020\"; padding-right: .5ex}\n",
              ".dl-inline>dt:not(:first-of-type) {padding-left: .5ex}\n",
              "</style><dl class=dl-inline><dt>Lunes</dt><dd>35</dd><dt>Martes</dt><dd>33</dd><dt>Miércoles</dt><dd>33</dd><dt>Jueves</dt><dd>32</dd></dl>\n"
            ],
            "text/markdown": "Lunes\n:   35Martes\n:   33Miércoles\n:   33Jueves\n:   32\n\n",
            "text/latex": "\\begin{description*}\n\\item[Lunes] 35\n\\item[Martes] 33\n\\item[Miércoles] 33\n\\item[Jueves] 32\n\\end{description*}\n",
            "text/plain": [
              "    Lunes    Martes Miércoles    Jueves \n",
              "       35        33        33        32 "
            ]
          },
          "metadata": {}
        }
      ]
    },
    {
      "cell_type": "code",
      "source": [
        "temper[\"Jueves\"] <- 35"
      ],
      "metadata": {
        "id": "J1zm1IJeOFIL"
      },
      "execution_count": null,
      "outputs": []
    },
    {
      "cell_type": "code",
      "source": [
        "temper[1:4]"
      ],
      "metadata": {
        "id": "56DKVaYaOVBZ",
        "outputId": "8b1f34b4-e798-4d57-98c6-e075b0b1d776",
        "colab": {
          "base_uri": "https://localhost:8080/",
          "height": 34
        }
      },
      "execution_count": null,
      "outputs": [
        {
          "output_type": "display_data",
          "data": {
            "text/html": [
              "<style>\n",
              ".dl-inline {width: auto; margin:0; padding: 0}\n",
              ".dl-inline>dt, .dl-inline>dd {float: none; width: auto; display: inline-block}\n",
              ".dl-inline>dt::after {content: \":\\0020\"; padding-right: .5ex}\n",
              ".dl-inline>dt:not(:first-of-type) {padding-left: .5ex}\n",
              "</style><dl class=dl-inline><dt>Lunes</dt><dd>35</dd><dt>Martes</dt><dd>33</dd><dt>Miércoles</dt><dd>33</dd><dt>Jueves</dt><dd>35</dd></dl>\n"
            ],
            "text/markdown": "Lunes\n:   35Martes\n:   33Miércoles\n:   33Jueves\n:   35\n\n",
            "text/latex": "\\begin{description*}\n\\item[Lunes] 35\n\\item[Martes] 33\n\\item[Miércoles] 33\n\\item[Jueves] 35\n\\end{description*}\n",
            "text/plain": [
              "    Lunes    Martes Miércoles    Jueves \n",
              "       35        33        33        35 "
            ]
          },
          "metadata": {}
        }
      ]
    },
    {
      "cell_type": "markdown",
      "source": [
        "# Matrices\n",
        "\n",
        "Para crear matrices debo usar la función matrix. Ejecutar lo siguiente:\n",
        "\n",
        "```\n",
        "matrix(1:9, nrow = 3, ncol = 3)\n",
        "```"
      ],
      "metadata": {
        "id": "a9Rq5oOXc2WV"
      }
    },
    {
      "cell_type": "markdown",
      "source": [
        "Ejecutar lo siguiente y verificar que da el mismo resultado de la celda anterior.\n",
        "\n",
        "```\n",
        "matrix(1:9, nrow = 3)\n",
        "```"
      ],
      "metadata": {
        "id": "pz0PFVJAdGIn"
      }
    },
    {
      "cell_type": "markdown",
      "source": [
        "Para llenar por filas, probar con el siguiente código:\n",
        "\n",
        "\n",
        "```\n",
        "matrix(1:9, nrow = 3, byrow=TRUE)\n",
        "```"
      ],
      "metadata": {
        "id": "4VRhMpz4dWay"
      }
    },
    {
      "cell_type": "markdown",
      "source": [
        "**Accesando elementos de una matriz.**\n",
        "\n",
        "Suponiendo que tenemos la matriz var la sintaxis para accesar a la fila 1 y columna 2 es:\n",
        "\n",
        "```\n",
        "var[1, 2]\n",
        "```"
      ],
      "metadata": {
        "id": "aa35CXtKd5de"
      }
    },
    {
      "cell_type": "markdown",
      "source": [
        "Ejecutar lo siguiente:\n",
        "\n",
        "```\n",
        "x <- matrix(1:9, nrow = 3, ncol = 3, byrow = TRUE)\n",
        "\n",
        "# selecccionando filas 1 y 2, y columnas 2 y 3.\n",
        "x[c(1,2),c(2,3)]    \n",
        "\n",
        "# dejando vacia una dimensión implica que\n",
        "# selecciona todos los elementos de esa dimensión\n",
        "x[c(3,2),]    \n",
        "\n",
        "\n",
        "# Selecciona todas las filas exceptuando la primera.\n",
        "x[-1,]    \n",
        "\n",
        "```"
      ],
      "metadata": {
        "id": "aErYUUDVeSgm"
      }
    },
    {
      "cell_type": "markdown",
      "source": [
        "**Ejercicio**:\n",
        "\n",
        "* Encontrar un ejemplo de como modificar una matriz\n",
        "* Encontrar un ejemplo de como asignar vectores de caracteres a los elementos de cada una de las dimensiones (filas y columnas)\n",
        "* Encontrar un ejemplo de como usar los nombres en las dimensiones para seleccionar ya sea conjuntos de columnas, filas o elementos individuales de una matriz."
      ],
      "metadata": {
        "id": "8YqjgggyfFdU"
      }
    },
    {
      "cell_type": "markdown",
      "source": [
        "Calcular lo siguiente:\n",
        "\n",
        "Matrix A:\n",
        "\n",
        "$$\n",
        "A = \\begin{pmatrix} 1 & 2 \\\\ 3 & 4 \\end{pmatrix}\n",
        "$$\n",
        "\n",
        "Matrix B:\n",
        "\n",
        "$$\n",
        "B = \\begin{pmatrix} 5 & 6 \\\\ 7 & 8 \\end{pmatrix}\n",
        "$$\n",
        "\n",
        "$$ A + B $$\n",
        "\n",
        "$$ A \\times B $$\n",
        "\n",
        "\n",
        "$$\n",
        "A^{-1}\n",
        "$$\n",
        "\n"
      ],
      "metadata": {
        "id": "OvnDqiPnfyLs"
      }
    },
    {
      "cell_type": "markdown",
      "source": [
        "Otra forma de crear matrices es usando rbind y cbind. A continuación vamos a crear dos vectores con la misma longitud con el siguiente código:\n",
        "\n",
        "```\n",
        "vec1 <- c(1, 2, 3)\n",
        "vec2 <- c(4, 5, 6)\n",
        "```"
      ],
      "metadata": {
        "id": "FKVhc_twJ0I8"
      }
    },
    {
      "cell_type": "markdown",
      "source": [
        "A partir de los anteriores vectores puedo crear una matriz de orden 2 x 3 donde los elementos del vector consituyen las filas de la nueva matriz de la siguiente forma:\n",
        "\n",
        "```\n",
        "rbind(vec1, vec2)\n",
        "```"
      ],
      "metadata": {
        "id": "mFHnxmrLKR1K"
      }
    },
    {
      "cell_type": "markdown",
      "source": [
        "Tambien puedo crear una matriz 3 x 2 con la información de los anteriores vectores con la función cbind."
      ],
      "metadata": {
        "id": "ZOc7BCgZLC-a"
      }
    },
    {
      "cell_type": "markdown",
      "source": [
        "```\n",
        "cbind(vec1, vec2)\n",
        "```"
      ],
      "metadata": {
        "id": "yc3loL5ULFAY"
      }
    },
    {
      "cell_type": "markdown",
      "source": [
        "# Listas\n",
        "\n",
        "Una lista puede ser definida como un vector donde los elementos son de distinto tipo.\n",
        "\n",
        "Vamos a ver un ejemplo de como crear una lista, ejecutar lo siguiente en una celda de código.\n",
        "\n",
        "```\n",
        "x <- list(\"a\" = 2.5, \"b\" = TRUE, \"c\" = 1:3)\n",
        "x\n",
        "```"
      ],
      "metadata": {
        "id": "aWRQIC7loEP9"
      }
    },
    {
      "cell_type": "markdown",
      "source": [
        "La estructura de la lista puede ser examinada con la función str. Ejecutar lo siguiente en una celda de código.\n",
        "\n",
        "```\n",
        "str(x)\n",
        "```\n"
      ],
      "metadata": {
        "id": "GXPeVbfDou7v"
      }
    },
    {
      "cell_type": "markdown",
      "source": [
        "Las etiquetas en los componentes de la lista son opcionales, ejecutemos lo siguiente en una celda de código:\n",
        "\n",
        "```\n",
        "x <- list(2.5,TRUE,1:3)\n",
        "x\n",
        "```"
      ],
      "metadata": {
        "id": "XuIz0aiHpHTD"
      }
    },
    {
      "cell_type": "markdown",
      "source": [
        "**Accesando elementos en una lista**\n",
        "\n",
        "Las listas pueden ser accesadas de una manera parecida a la que se usa con los vectores. Ejecutar lo siguiente en una celda de código.\n",
        "\n",
        "\n",
        "```\n",
        "x <- list(name = \"John\", age = 19, speaks = c(\"English\", \"French\"))\n",
        "\n",
        "# accesando elementos por nombre\n",
        "x$name\n",
        "x$age\n",
        "x$speaks\n",
        "\n",
        "# accesando elementos por índice entero\n",
        "x[c(1, 2)]\n",
        "x[-2]\n",
        "\n",
        "# accesando elementos usando índice lógico\n",
        "x[c(TRUE, FALSE, FALSE)]\n",
        "\n",
        "# accesando elementos por índice de caracter\n",
        "x[c(\"age\", \"speaks\")]\n",
        "\n",
        "```"
      ],
      "metadata": {
        "id": "J9rvaFlqppdq"
      }
    },
    {
      "cell_type": "markdown",
      "source": [
        "**Usando corchetes para accesar a elementos en una lista**\n",
        "\n",
        "Ejecutar lo siguiente en celdas de código.\n",
        "\n",
        "```\n",
        "\n",
        "x[\"age\"]\n",
        "\n",
        "typeof(x[\"age\"])\n",
        "\n",
        "x[[\"age\"]]\n",
        "\n",
        "typeof(x[[\"age\"]])\n",
        "\n",
        "\n",
        "```\n",
        "\n"
      ],
      "metadata": {
        "id": "KltpzwQTq7RV"
      }
    },
    {
      "cell_type": "markdown",
      "source": [
        "Hay que notar que cuando solo se usa un corchete se devuelve una lista."
      ],
      "metadata": {
        "id": "CVFkzSaqrfPZ"
      }
    },
    {
      "cell_type": "code",
      "source": [
        "x[\"age\"]"
      ],
      "metadata": {
        "colab": {
          "base_uri": "https://localhost:8080/",
          "height": 34
        },
        "id": "r86YzXzKrek5",
        "outputId": "9089316f-06d6-447f-b0e0-a72aa4301235"
      },
      "execution_count": null,
      "outputs": [
        {
          "output_type": "display_data",
          "data": {
            "text/html": [
              "<strong>$age</strong> = 19"
            ],
            "text/markdown": "**$age** = 19",
            "text/latex": "\\textbf{\\$age} = 19",
            "text/plain": [
              "$age\n",
              "[1] 19\n"
            ]
          },
          "metadata": {}
        }
      ]
    },
    {
      "cell_type": "markdown",
      "source": [
        "**Como modificar elementos de una lista**\n",
        "\n",
        "Usamos las técnicas vistas anteriormente y el operador de asignación <-. Ejecutar el siguiente código en una celda.\n",
        "\n",
        "\n",
        "```\n",
        "x <- list(name = \"John\", age = 19, speaks = c(\"English\", \"French\"))\n",
        "\n",
        "x\n",
        "\n",
        "#  accesando elementos usando [[]] y actualizando su valor\n",
        "x[[\"name\"]] <- \"Clair\"\n",
        "\n",
        "x\n",
        "```"
      ],
      "metadata": {
        "id": "lHVFgIlSr_EG"
      }
    },
    {
      "cell_type": "code",
      "source": [
        "x <- list(name = \"John\", age = 19, speaks = c(\"English\", \"French\"))"
      ],
      "metadata": {
        "id": "9a7oiL9OOvUB"
      },
      "execution_count": null,
      "outputs": []
    },
    {
      "cell_type": "code",
      "source": [
        "x"
      ],
      "metadata": {
        "colab": {
          "base_uri": "https://localhost:8080/",
          "height": 149
        },
        "id": "WlaAdQqjOz_n",
        "outputId": "2ffd965a-30f5-49db-e004-b494c5ea7219"
      },
      "execution_count": null,
      "outputs": [
        {
          "output_type": "display_data",
          "data": {
            "text/html": [
              "<dl>\n",
              "\t<dt>$name</dt>\n",
              "\t\t<dd>'John'</dd>\n",
              "\t<dt>$age</dt>\n",
              "\t\t<dd>19</dd>\n",
              "\t<dt>$speaks</dt>\n",
              "\t\t<dd><style>\n",
              ".list-inline {list-style: none; margin:0; padding: 0}\n",
              ".list-inline>li {display: inline-block}\n",
              ".list-inline>li:not(:last-child)::after {content: \"\\00b7\"; padding: 0 .5ex}\n",
              "</style>\n",
              "<ol class=list-inline><li>'English'</li><li>'French'</li></ol>\n",
              "</dd>\n",
              "</dl>\n"
            ],
            "text/markdown": "$name\n:   'John'\n$age\n:   19\n$speaks\n:   1. 'English'\n2. 'French'\n\n\n\n\n\n",
            "text/latex": "\\begin{description}\n\\item[\\$name] 'John'\n\\item[\\$age] 19\n\\item[\\$speaks] \\begin{enumerate*}\n\\item 'English'\n\\item 'French'\n\\end{enumerate*}\n\n\\end{description}\n",
            "text/plain": [
              "$name\n",
              "[1] \"John\"\n",
              "\n",
              "$age\n",
              "[1] 19\n",
              "\n",
              "$speaks\n",
              "[1] \"English\" \"French\" \n"
            ]
          },
          "metadata": {}
        }
      ]
    },
    {
      "cell_type": "code",
      "source": [
        "x[[\"name\"]] <- \"Clair\""
      ],
      "metadata": {
        "id": "1qlGU4YgPEKY"
      },
      "execution_count": null,
      "outputs": []
    },
    {
      "cell_type": "code",
      "source": [
        "x"
      ],
      "metadata": {
        "colab": {
          "base_uri": "https://localhost:8080/",
          "height": 149
        },
        "id": "SGEwliqZPTCc",
        "outputId": "b5664126-3cd8-4830-f309-e5d4b86c7dc4"
      },
      "execution_count": null,
      "outputs": [
        {
          "output_type": "display_data",
          "data": {
            "text/html": [
              "<dl>\n",
              "\t<dt>$name</dt>\n",
              "\t\t<dd>'Clair'</dd>\n",
              "\t<dt>$age</dt>\n",
              "\t\t<dd>19</dd>\n",
              "\t<dt>$speaks</dt>\n",
              "\t\t<dd><style>\n",
              ".list-inline {list-style: none; margin:0; padding: 0}\n",
              ".list-inline>li {display: inline-block}\n",
              ".list-inline>li:not(:last-child)::after {content: \"\\00b7\"; padding: 0 .5ex}\n",
              "</style>\n",
              "<ol class=list-inline><li>'English'</li><li>'French'</li></ol>\n",
              "</dd>\n",
              "</dl>\n"
            ],
            "text/markdown": "$name\n:   'Clair'\n$age\n:   19\n$speaks\n:   1. 'English'\n2. 'French'\n\n\n\n\n\n",
            "text/latex": "\\begin{description}\n\\item[\\$name] 'Clair'\n\\item[\\$age] 19\n\\item[\\$speaks] \\begin{enumerate*}\n\\item 'English'\n\\item 'French'\n\\end{enumerate*}\n\n\\end{description}\n",
            "text/plain": [
              "$name\n",
              "[1] \"Clair\"\n",
              "\n",
              "$age\n",
              "[1] 19\n",
              "\n",
              "$speaks\n",
              "[1] \"English\" \"French\" \n"
            ]
          },
          "metadata": {}
        }
      ]
    },
    {
      "cell_type": "markdown",
      "source": [
        "**Como agregar elementos a una lista**\n",
        "\n",
        "Agregando elementos a una lista es fácil. Asignamos valores usando nuevos labels.\n",
        "\n",
        "\n",
        "```\n",
        "x <- list(name = \"Clair\", age = 19, speaks = c(\"English\", \"French\"))\n",
        "\n",
        "x\n",
        "\n",
        "# asignar un nuevo elemento a una lista usando corchetes dobles [[]]\n",
        "\n",
        "x[[\"married\"]] <- FALSE\n",
        "\n",
        "\n",
        "x\n",
        "\n",
        "```"
      ],
      "metadata": {
        "id": "0y51Dd52trbq"
      }
    },
    {
      "cell_type": "code",
      "source": [
        "x"
      ],
      "metadata": {
        "colab": {
          "base_uri": "https://localhost:8080/",
          "height": 149
        },
        "id": "Mlk-j7S4PZgR",
        "outputId": "f0106f20-46b2-4249-e126-37092595c453"
      },
      "execution_count": null,
      "outputs": [
        {
          "output_type": "display_data",
          "data": {
            "text/html": [
              "<dl>\n",
              "\t<dt>$name</dt>\n",
              "\t\t<dd>'Clair'</dd>\n",
              "\t<dt>$age</dt>\n",
              "\t\t<dd>19</dd>\n",
              "\t<dt>$speaks</dt>\n",
              "\t\t<dd><style>\n",
              ".list-inline {list-style: none; margin:0; padding: 0}\n",
              ".list-inline>li {display: inline-block}\n",
              ".list-inline>li:not(:last-child)::after {content: \"\\00b7\"; padding: 0 .5ex}\n",
              "</style>\n",
              "<ol class=list-inline><li>'English'</li><li>'French'</li></ol>\n",
              "</dd>\n",
              "</dl>\n"
            ],
            "text/markdown": "$name\n:   'Clair'\n$age\n:   19\n$speaks\n:   1. 'English'\n2. 'French'\n\n\n\n\n\n",
            "text/latex": "\\begin{description}\n\\item[\\$name] 'Clair'\n\\item[\\$age] 19\n\\item[\\$speaks] \\begin{enumerate*}\n\\item 'English'\n\\item 'French'\n\\end{enumerate*}\n\n\\end{description}\n",
            "text/plain": [
              "$name\n",
              "[1] \"Clair\"\n",
              "\n",
              "$age\n",
              "[1] 19\n",
              "\n",
              "$speaks\n",
              "[1] \"English\" \"French\" \n"
            ]
          },
          "metadata": {}
        }
      ]
    },
    {
      "cell_type": "code",
      "source": [
        "x[[\"married\"]] <- FALSE"
      ],
      "metadata": {
        "id": "N-3wyIzdPgfg"
      },
      "execution_count": null,
      "outputs": []
    },
    {
      "cell_type": "code",
      "source": [
        "x"
      ],
      "metadata": {
        "colab": {
          "base_uri": "https://localhost:8080/",
          "height": 184
        },
        "id": "QwWEFIVsPowI",
        "outputId": "9be8ac18-0e2e-4256-8504-b89d38cbe5d8"
      },
      "execution_count": null,
      "outputs": [
        {
          "output_type": "display_data",
          "data": {
            "text/html": [
              "<dl>\n",
              "\t<dt>$name</dt>\n",
              "\t\t<dd>'Clair'</dd>\n",
              "\t<dt>$age</dt>\n",
              "\t\t<dd>19</dd>\n",
              "\t<dt>$speaks</dt>\n",
              "\t\t<dd><style>\n",
              ".list-inline {list-style: none; margin:0; padding: 0}\n",
              ".list-inline>li {display: inline-block}\n",
              ".list-inline>li:not(:last-child)::after {content: \"\\00b7\"; padding: 0 .5ex}\n",
              "</style>\n",
              "<ol class=list-inline><li>'English'</li><li>'French'</li></ol>\n",
              "</dd>\n",
              "\t<dt>$married</dt>\n",
              "\t\t<dd>FALSE</dd>\n",
              "</dl>\n"
            ],
            "text/markdown": "$name\n:   'Clair'\n$age\n:   19\n$speaks\n:   1. 'English'\n2. 'French'\n\n\n\n$married\n:   FALSE\n\n\n",
            "text/latex": "\\begin{description}\n\\item[\\$name] 'Clair'\n\\item[\\$age] 19\n\\item[\\$speaks] \\begin{enumerate*}\n\\item 'English'\n\\item 'French'\n\\end{enumerate*}\n\n\\item[\\$married] FALSE\n\\end{description}\n",
            "text/plain": [
              "$name\n",
              "[1] \"Clair\"\n",
              "\n",
              "$age\n",
              "[1] 19\n",
              "\n",
              "$speaks\n",
              "[1] \"English\" \"French\" \n",
              "\n",
              "$married\n",
              "[1] FALSE\n"
            ]
          },
          "metadata": {}
        }
      ]
    },
    {
      "cell_type": "markdown",
      "source": [
        "**Borrando elementos de una lista**\n",
        "\n",
        "Para borrar elementos de una lista debes de asignar al componente a borrar el valor NULL. Ejecutar lo siguiente en una celda de código.\n",
        "\n",
        "\n",
        "```\n",
        "x <- list(name = \"Clair\", age = 19, speaks = c(\"English\", \"French\"))\n",
        "\n",
        "# removiendo un elemento de la lista.\n",
        "x[[\"age\"]] <- NULL\n",
        "\n",
        "str(x)\n",
        "\n",
        "\n",
        "```"
      ],
      "metadata": {
        "id": "nyLPkynKulzn"
      }
    },
    {
      "cell_type": "code",
      "source": [
        "x <- list(name = \"Clair\", age = 19, speaks = c(\"English\", \"French\"))"
      ],
      "metadata": {
        "id": "uqwg1tdxROk-"
      },
      "execution_count": null,
      "outputs": []
    },
    {
      "cell_type": "code",
      "source": [
        "x"
      ],
      "metadata": {
        "colab": {
          "base_uri": "https://localhost:8080/",
          "height": 149
        },
        "id": "U1DgGch2RUVE",
        "outputId": "96770634-76c8-4e21-90ac-2d0f830d1b7d"
      },
      "execution_count": null,
      "outputs": [
        {
          "output_type": "display_data",
          "data": {
            "text/html": [
              "<dl>\n",
              "\t<dt>$name</dt>\n",
              "\t\t<dd>'Clair'</dd>\n",
              "\t<dt>$age</dt>\n",
              "\t\t<dd>19</dd>\n",
              "\t<dt>$speaks</dt>\n",
              "\t\t<dd><style>\n",
              ".list-inline {list-style: none; margin:0; padding: 0}\n",
              ".list-inline>li {display: inline-block}\n",
              ".list-inline>li:not(:last-child)::after {content: \"\\00b7\"; padding: 0 .5ex}\n",
              "</style>\n",
              "<ol class=list-inline><li>'English'</li><li>'French'</li></ol>\n",
              "</dd>\n",
              "</dl>\n"
            ],
            "text/markdown": "$name\n:   'Clair'\n$age\n:   19\n$speaks\n:   1. 'English'\n2. 'French'\n\n\n\n\n\n",
            "text/latex": "\\begin{description}\n\\item[\\$name] 'Clair'\n\\item[\\$age] 19\n\\item[\\$speaks] \\begin{enumerate*}\n\\item 'English'\n\\item 'French'\n\\end{enumerate*}\n\n\\end{description}\n",
            "text/plain": [
              "$name\n",
              "[1] \"Clair\"\n",
              "\n",
              "$age\n",
              "[1] 19\n",
              "\n",
              "$speaks\n",
              "[1] \"English\" \"French\" \n"
            ]
          },
          "metadata": {}
        }
      ]
    },
    {
      "cell_type": "code",
      "source": [
        "x[[\"age\"]] <- NULL"
      ],
      "metadata": {
        "id": "u6jhJ1faRcBC"
      },
      "execution_count": null,
      "outputs": []
    },
    {
      "cell_type": "code",
      "source": [
        "x"
      ],
      "metadata": {
        "colab": {
          "base_uri": "https://localhost:8080/",
          "height": 114
        },
        "id": "iHGnznyZRqaA",
        "outputId": "5136ef4c-fdc4-4025-991d-ac6b32079d71"
      },
      "execution_count": null,
      "outputs": [
        {
          "output_type": "display_data",
          "data": {
            "text/html": [
              "<dl>\n",
              "\t<dt>$name</dt>\n",
              "\t\t<dd>'Clair'</dd>\n",
              "\t<dt>$speaks</dt>\n",
              "\t\t<dd><style>\n",
              ".list-inline {list-style: none; margin:0; padding: 0}\n",
              ".list-inline>li {display: inline-block}\n",
              ".list-inline>li:not(:last-child)::after {content: \"\\00b7\"; padding: 0 .5ex}\n",
              "</style>\n",
              "<ol class=list-inline><li>'English'</li><li>'French'</li></ol>\n",
              "</dd>\n",
              "</dl>\n"
            ],
            "text/markdown": "$name\n:   'Clair'\n$speaks\n:   1. 'English'\n2. 'French'\n\n\n\n\n\n",
            "text/latex": "\\begin{description}\n\\item[\\$name] 'Clair'\n\\item[\\$speaks] \\begin{enumerate*}\n\\item 'English'\n\\item 'French'\n\\end{enumerate*}\n\n\\end{description}\n",
            "text/plain": [
              "$name\n",
              "[1] \"Clair\"\n",
              "\n",
              "$speaks\n",
              "[1] \"English\" \"French\" \n"
            ]
          },
          "metadata": {}
        }
      ]
    },
    {
      "cell_type": "code",
      "source": [
        "str(x)"
      ],
      "metadata": {
        "colab": {
          "base_uri": "https://localhost:8080/"
        },
        "id": "kbMbS_I5SBXU",
        "outputId": "93e61b25-2a18-430e-b807-be71f4eea92d"
      },
      "execution_count": null,
      "outputs": [
        {
          "output_type": "stream",
          "name": "stdout",
          "text": [
            "List of 2\n",
            " $ name  : chr \"Clair\"\n",
            " $ speaks: chr [1:2] \"English\" \"French\"\n"
          ]
        }
      ]
    },
    {
      "cell_type": "markdown",
      "source": [
        "**Ejercicio**:\n",
        "\n",
        "Imagina que estás gestionando una lista de cursos para una pequeña empresa de capacitación. Cada curso tiene un nombre, un instructor y un número de estudiantes inscritos. Representarás cada curso como una lista y luego crearás una lista de estos cursos.\n",
        "\n",
        "Crea una lista llamada curso1 que represente un curso con los siguientes detalles:\n",
        "\n",
        "    Nombre: \"Introducción a R\"\n",
        "    Instructor: \"Juan Perez\"\n",
        "    Estudiantes inscritos: 30\n",
        "\n",
        "Crea una segunda lista llamada curso2 con los siguientes detalles:\n",
        "        \n",
        "    Nombre: \"Python Avanzado\"\n",
        "    Instructor: \"Pedro Ramírez\"\n",
        "    Estudiantes inscritos: 25\n",
        "\n",
        "Combina curso1 y curso2 en una lista llamada listaCursos.\n",
        "\n",
        "* Accediendo a Elementos: Imprime el nombre del primer curso. Imprime el número de estudiantes inscritos en el segundo curso.\n",
        "\n",
        "* Actualizando Elementos: El instructor de \"Pedro Ramírez\" ha cambiado a \"Luis Gonzalez\". Actualiza el nombre del instructor en curso2.\n",
        "\n",
        "* Agregando Elementos: Agrega un nuevo curso a listaCursos con los siguientes detalles:\n",
        "    Nombre: \"Fundamentos de Ciencia de Datos\"\n",
        "    Instructor: \"Virgilio Hernandez\"\n",
        "    Estudiantes inscritos: 40\n",
        "\n",
        "* Eliminando Elementos: Elimina curso1 de listaCursos."
      ],
      "metadata": {
        "id": "hf0RFwMNv4zq"
      }
    },
    {
      "cell_type": "markdown",
      "source": [
        "**Nota**: Las listas son usadas para devolver información de una función."
      ],
      "metadata": {
        "id": "SDvntl2BN4et"
      }
    },
    {
      "cell_type": "markdown",
      "source": [
        "**Solución**:"
      ],
      "metadata": {
        "id": "ujNVJvC3XN4L"
      }
    },
    {
      "cell_type": "code",
      "source": [
        "curso1 <- list(\"Nombre\" = \"Introducción a R\",\n",
        "               \"Instructor\" = \"Juan Perez\",\n",
        "               \"Estudiantes_inscritos\" = 30)"
      ],
      "metadata": {
        "id": "ubk-OyT-WS2h"
      },
      "execution_count": null,
      "outputs": []
    },
    {
      "cell_type": "code",
      "source": [
        "curso1"
      ],
      "metadata": {
        "colab": {
          "base_uri": "https://localhost:8080/",
          "height": 149
        },
        "id": "4ij1VaQPWr1I",
        "outputId": "e51cf830-b9bd-489e-bdf6-5142d4468245"
      },
      "execution_count": null,
      "outputs": [
        {
          "output_type": "display_data",
          "data": {
            "text/html": [
              "<dl>\n",
              "\t<dt>$Nombre</dt>\n",
              "\t\t<dd>'Introducción a R'</dd>\n",
              "\t<dt>$Instructor</dt>\n",
              "\t\t<dd>'Juan Perez'</dd>\n",
              "\t<dt>$Estudiantes_inscritos</dt>\n",
              "\t\t<dd>30</dd>\n",
              "</dl>\n"
            ],
            "text/markdown": "$Nombre\n:   'Introducción a R'\n$Instructor\n:   'Juan Perez'\n$Estudiantes_inscritos\n:   30\n\n\n",
            "text/latex": "\\begin{description}\n\\item[\\$Nombre] 'Introducción a R'\n\\item[\\$Instructor] 'Juan Perez'\n\\item[\\$Estudiantes\\_inscritos] 30\n\\end{description}\n",
            "text/plain": [
              "$Nombre\n",
              "[1] \"Introducción a R\"\n",
              "\n",
              "$Instructor\n",
              "[1] \"Juan Perez\"\n",
              "\n",
              "$Estudiantes_inscritos\n",
              "[1] 30\n"
            ]
          },
          "metadata": {}
        }
      ]
    },
    {
      "cell_type": "code",
      "source": [
        "curso2 <- list(\"Nombre\" = \"Python Avanzado\",\n",
        "               \"Instructor\" = \"Pedro Ramírez\",\n",
        "               \"Estudiantes_inscritos\" = 25)"
      ],
      "metadata": {
        "id": "W7Lx1tggWxo2"
      },
      "execution_count": null,
      "outputs": []
    },
    {
      "cell_type": "code",
      "source": [
        "curso2"
      ],
      "metadata": {
        "colab": {
          "base_uri": "https://localhost:8080/",
          "height": 149
        },
        "id": "F_qdMTgkXCRS",
        "outputId": "e792732a-57f6-4e93-b536-bdb1b426f1ae"
      },
      "execution_count": null,
      "outputs": [
        {
          "output_type": "display_data",
          "data": {
            "text/html": [
              "<dl>\n",
              "\t<dt>$Nombre</dt>\n",
              "\t\t<dd>'Python Avanzado'</dd>\n",
              "\t<dt>$Instructor</dt>\n",
              "\t\t<dd>'Pedro Ramírez'</dd>\n",
              "\t<dt>$Estudiantes_inscritos</dt>\n",
              "\t\t<dd>25</dd>\n",
              "</dl>\n"
            ],
            "text/markdown": "$Nombre\n:   'Python Avanzado'\n$Instructor\n:   'Pedro Ramírez'\n$Estudiantes_inscritos\n:   25\n\n\n",
            "text/latex": "\\begin{description}\n\\item[\\$Nombre] 'Python Avanzado'\n\\item[\\$Instructor] 'Pedro Ramírez'\n\\item[\\$Estudiantes\\_inscritos] 25\n\\end{description}\n",
            "text/plain": [
              "$Nombre\n",
              "[1] \"Python Avanzado\"\n",
              "\n",
              "$Instructor\n",
              "[1] \"Pedro Ramírez\"\n",
              "\n",
              "$Estudiantes_inscritos\n",
              "[1] 25\n"
            ]
          },
          "metadata": {}
        }
      ]
    },
    {
      "cell_type": "markdown",
      "source": [
        "Combina curso1 y curso2 en una lista llamada listaCursos.\n"
      ],
      "metadata": {
        "id": "PiJ6lmwhXRLA"
      }
    },
    {
      "cell_type": "code",
      "source": [
        "listaCursos <- list( curso1 = curso1, curso2 = curso2 )"
      ],
      "metadata": {
        "id": "fmkF0zWIXYiu"
      },
      "execution_count": null,
      "outputs": []
    },
    {
      "cell_type": "code",
      "source": [
        "listaCursos"
      ],
      "metadata": {
        "colab": {
          "base_uri": "https://localhost:8080/",
          "height": 288
        },
        "id": "5Xgcc6chXgxk",
        "outputId": "143a9ad3-1047-49e5-a0b8-39d0548abd0d"
      },
      "execution_count": null,
      "outputs": [
        {
          "output_type": "display_data",
          "data": {
            "text/html": [
              "<dl>\n",
              "\t<dt>$curso1</dt>\n",
              "\t\t<dd><dl>\n",
              "\t<dt>$Nombre</dt>\n",
              "\t\t<dd>'Introducción a R'</dd>\n",
              "\t<dt>$Instructor</dt>\n",
              "\t\t<dd>'Juan Perez'</dd>\n",
              "\t<dt>$Estudiantes_inscritos</dt>\n",
              "\t\t<dd>30</dd>\n",
              "</dl>\n",
              "</dd>\n",
              "\t<dt>$curso2</dt>\n",
              "\t\t<dd><dl>\n",
              "\t<dt>$Nombre</dt>\n",
              "\t\t<dd>'Python Avanzado'</dd>\n",
              "\t<dt>$Instructor</dt>\n",
              "\t\t<dd>'Pedro Ramírez'</dd>\n",
              "\t<dt>$Estudiantes_inscritos</dt>\n",
              "\t\t<dd>25</dd>\n",
              "</dl>\n",
              "</dd>\n",
              "</dl>\n"
            ],
            "text/markdown": "$curso1\n:   $Nombre\n:   'Introducción a R'\n$Instructor\n:   'Juan Perez'\n$Estudiantes_inscritos\n:   30\n\n\n\n$curso2\n:   $Nombre\n:   'Python Avanzado'\n$Instructor\n:   'Pedro Ramírez'\n$Estudiantes_inscritos\n:   25\n\n\n\n\n\n",
            "text/latex": "\\begin{description}\n\\item[\\$curso1] \\begin{description}\n\\item[\\$Nombre] 'Introducción a R'\n\\item[\\$Instructor] 'Juan Perez'\n\\item[\\$Estudiantes\\_inscritos] 30\n\\end{description}\n\n\\item[\\$curso2] \\begin{description}\n\\item[\\$Nombre] 'Python Avanzado'\n\\item[\\$Instructor] 'Pedro Ramírez'\n\\item[\\$Estudiantes\\_inscritos] 25\n\\end{description}\n\n\\end{description}\n",
            "text/plain": [
              "$curso1\n",
              "$curso1$Nombre\n",
              "[1] \"Introducción a R\"\n",
              "\n",
              "$curso1$Instructor\n",
              "[1] \"Juan Perez\"\n",
              "\n",
              "$curso1$Estudiantes_inscritos\n",
              "[1] 30\n",
              "\n",
              "\n",
              "$curso2\n",
              "$curso2$Nombre\n",
              "[1] \"Python Avanzado\"\n",
              "\n",
              "$curso2$Instructor\n",
              "[1] \"Pedro Ramírez\"\n",
              "\n",
              "$curso2$Estudiantes_inscritos\n",
              "[1] 25\n",
              "\n"
            ]
          },
          "metadata": {}
        }
      ]
    },
    {
      "cell_type": "markdown",
      "source": [
        "Accediendo a Elementos: Imprime el nombre del primer curso. Imprime el número de estudiantes inscritos en el segundo curso."
      ],
      "metadata": {
        "id": "t0kBCpu4X2G7"
      }
    },
    {
      "cell_type": "code",
      "source": [
        "listaCursos$curso1$Nombre"
      ],
      "metadata": {
        "colab": {
          "base_uri": "https://localhost:8080/",
          "height": 34
        },
        "id": "EIkSTxYcX6tk",
        "outputId": "83dc7231-46ca-4a74-b1d1-275705e06e10"
      },
      "execution_count": null,
      "outputs": [
        {
          "output_type": "display_data",
          "data": {
            "text/html": [
              "'Introducción a R'"
            ],
            "text/markdown": "'Introducción a R'",
            "text/latex": "'Introducción a R'",
            "text/plain": [
              "[1] \"Introducción a R\""
            ]
          },
          "metadata": {}
        }
      ]
    },
    {
      "cell_type": "code",
      "source": [
        "listaCursos$curso1$Estudiantes_inscritos"
      ],
      "metadata": {
        "colab": {
          "base_uri": "https://localhost:8080/",
          "height": 34
        },
        "id": "rntClO1FYLKz",
        "outputId": "da04c2fd-57ee-4048-8afc-95186be1035d"
      },
      "execution_count": null,
      "outputs": [
        {
          "output_type": "display_data",
          "data": {
            "text/html": [
              "30"
            ],
            "text/markdown": "30",
            "text/latex": "30",
            "text/plain": [
              "[1] 30"
            ]
          },
          "metadata": {}
        }
      ]
    },
    {
      "cell_type": "markdown",
      "source": [
        "Actualizando Elementos: El instructor de \"Pedro Ramírez\" ha cambiado a \"Luis Gonzalez\". Actualiza el nombre del instructor en curso2."
      ],
      "metadata": {
        "id": "3_pNBxgKYaD4"
      }
    },
    {
      "cell_type": "code",
      "source": [
        "listaCursos$curso2$Instructor"
      ],
      "metadata": {
        "colab": {
          "base_uri": "https://localhost:8080/",
          "height": 34
        },
        "id": "z9Z0lSZXYw3x",
        "outputId": "f56bfbb1-4f11-45bf-d0d7-80c44c6e818a"
      },
      "execution_count": null,
      "outputs": [
        {
          "output_type": "display_data",
          "data": {
            "text/html": [
              "'Pedro Ramírez'"
            ],
            "text/markdown": "'Pedro Ramírez'",
            "text/latex": "'Pedro Ramírez'",
            "text/plain": [
              "[1] \"Pedro Ramírez\""
            ]
          },
          "metadata": {}
        }
      ]
    },
    {
      "cell_type": "code",
      "source": [
        "listaCursos$curso2$Instructor <- \"Luis Gonzalez\""
      ],
      "metadata": {
        "id": "uYiNFJAjYb9F"
      },
      "execution_count": null,
      "outputs": []
    },
    {
      "cell_type": "code",
      "source": [
        "listaCursos$curso2$Instructor"
      ],
      "metadata": {
        "colab": {
          "base_uri": "https://localhost:8080/",
          "height": 34
        },
        "id": "Fkman2glY1lU",
        "outputId": "5e7a6ca7-5f85-45b0-c49c-c50e638e4fe8"
      },
      "execution_count": null,
      "outputs": [
        {
          "output_type": "display_data",
          "data": {
            "text/html": [
              "'Luis Gonzalez'"
            ],
            "text/markdown": "'Luis Gonzalez'",
            "text/latex": "'Luis Gonzalez'",
            "text/plain": [
              "[1] \"Luis Gonzalez\""
            ]
          },
          "metadata": {}
        }
      ]
    },
    {
      "cell_type": "markdown",
      "source": [
        "Agregando Elementos: Agrega un nuevo curso a listaCursos con los siguientes detalles: Nombre: \"Fundamentos de Ciencia de Datos\" Instructor: \"Virgilio Hernandez\" Estudiantes inscritos: 40"
      ],
      "metadata": {
        "id": "7PVai1JVZEAG"
      }
    },
    {
      "cell_type": "code",
      "source": [
        "curso3 <- list(\"Nombre\" = \"Fundamentos de Ciencia de Datos\",\n",
        "               \"Instructor\" = \"Virgilio Hernandez\",\n",
        "               \"Estudiantes_inscritos\" = 40)"
      ],
      "metadata": {
        "id": "QKf-8wobZFzm"
      },
      "execution_count": null,
      "outputs": []
    },
    {
      "cell_type": "code",
      "source": [
        "listaCursos"
      ],
      "metadata": {
        "colab": {
          "base_uri": "https://localhost:8080/",
          "height": 288
        },
        "id": "IrpM15TDZZp1",
        "outputId": "6472e0ec-fbdf-4109-aedf-7405db57efc8"
      },
      "execution_count": null,
      "outputs": [
        {
          "output_type": "display_data",
          "data": {
            "text/html": [
              "<dl>\n",
              "\t<dt>$curso1</dt>\n",
              "\t\t<dd><dl>\n",
              "\t<dt>$Nombre</dt>\n",
              "\t\t<dd>'Introducción a R'</dd>\n",
              "\t<dt>$Instructor</dt>\n",
              "\t\t<dd>'Juan Perez'</dd>\n",
              "\t<dt>$Estudiantes_inscritos</dt>\n",
              "\t\t<dd>30</dd>\n",
              "</dl>\n",
              "</dd>\n",
              "\t<dt>$curso2</dt>\n",
              "\t\t<dd><dl>\n",
              "\t<dt>$Nombre</dt>\n",
              "\t\t<dd>'Python Avanzado'</dd>\n",
              "\t<dt>$Instructor</dt>\n",
              "\t\t<dd>'Luis Gonzalez'</dd>\n",
              "\t<dt>$Estudiantes_inscritos</dt>\n",
              "\t\t<dd>25</dd>\n",
              "</dl>\n",
              "</dd>\n",
              "</dl>\n"
            ],
            "text/markdown": "$curso1\n:   $Nombre\n:   'Introducción a R'\n$Instructor\n:   'Juan Perez'\n$Estudiantes_inscritos\n:   30\n\n\n\n$curso2\n:   $Nombre\n:   'Python Avanzado'\n$Instructor\n:   'Luis Gonzalez'\n$Estudiantes_inscritos\n:   25\n\n\n\n\n\n",
            "text/latex": "\\begin{description}\n\\item[\\$curso1] \\begin{description}\n\\item[\\$Nombre] 'Introducción a R'\n\\item[\\$Instructor] 'Juan Perez'\n\\item[\\$Estudiantes\\_inscritos] 30\n\\end{description}\n\n\\item[\\$curso2] \\begin{description}\n\\item[\\$Nombre] 'Python Avanzado'\n\\item[\\$Instructor] 'Luis Gonzalez'\n\\item[\\$Estudiantes\\_inscritos] 25\n\\end{description}\n\n\\end{description}\n",
            "text/plain": [
              "$curso1\n",
              "$curso1$Nombre\n",
              "[1] \"Introducción a R\"\n",
              "\n",
              "$curso1$Instructor\n",
              "[1] \"Juan Perez\"\n",
              "\n",
              "$curso1$Estudiantes_inscritos\n",
              "[1] 30\n",
              "\n",
              "\n",
              "$curso2\n",
              "$curso2$Nombre\n",
              "[1] \"Python Avanzado\"\n",
              "\n",
              "$curso2$Instructor\n",
              "[1] \"Luis Gonzalez\"\n",
              "\n",
              "$curso2$Estudiantes_inscritos\n",
              "[1] 25\n",
              "\n"
            ]
          },
          "metadata": {}
        }
      ]
    },
    {
      "cell_type": "code",
      "source": [
        "listaCursos$curso3 <- curso3"
      ],
      "metadata": {
        "id": "6btv55iOZUzy"
      },
      "execution_count": null,
      "outputs": []
    },
    {
      "cell_type": "code",
      "source": [
        "listaCursos"
      ],
      "metadata": {
        "colab": {
          "base_uri": "https://localhost:8080/",
          "height": 410
        },
        "id": "qUoMU5XfZeIE",
        "outputId": "9c3b8338-98b5-42f8-c755-cd53761dbc49"
      },
      "execution_count": null,
      "outputs": [
        {
          "output_type": "display_data",
          "data": {
            "text/html": [
              "<dl>\n",
              "\t<dt>$curso1</dt>\n",
              "\t\t<dd><dl>\n",
              "\t<dt>$Nombre</dt>\n",
              "\t\t<dd>'Introducción a R'</dd>\n",
              "\t<dt>$Instructor</dt>\n",
              "\t\t<dd>'Juan Perez'</dd>\n",
              "\t<dt>$Estudiantes_inscritos</dt>\n",
              "\t\t<dd>30</dd>\n",
              "</dl>\n",
              "</dd>\n",
              "\t<dt>$curso2</dt>\n",
              "\t\t<dd><dl>\n",
              "\t<dt>$Nombre</dt>\n",
              "\t\t<dd>'Python Avanzado'</dd>\n",
              "\t<dt>$Instructor</dt>\n",
              "\t\t<dd>'Luis Gonzalez'</dd>\n",
              "\t<dt>$Estudiantes_inscritos</dt>\n",
              "\t\t<dd>25</dd>\n",
              "</dl>\n",
              "</dd>\n",
              "\t<dt>$curso3</dt>\n",
              "\t\t<dd><dl>\n",
              "\t<dt>$Nombre</dt>\n",
              "\t\t<dd>'Fundamentos de Ciencia de Datos'</dd>\n",
              "\t<dt>$Instructor</dt>\n",
              "\t\t<dd>'Virgilio Hernandez'</dd>\n",
              "\t<dt>$Estudiantes_inscritos</dt>\n",
              "\t\t<dd>40</dd>\n",
              "</dl>\n",
              "</dd>\n",
              "</dl>\n"
            ],
            "text/markdown": "$curso1\n:   $Nombre\n:   'Introducción a R'\n$Instructor\n:   'Juan Perez'\n$Estudiantes_inscritos\n:   30\n\n\n\n$curso2\n:   $Nombre\n:   'Python Avanzado'\n$Instructor\n:   'Luis Gonzalez'\n$Estudiantes_inscritos\n:   25\n\n\n\n$curso3\n:   $Nombre\n:   'Fundamentos de Ciencia de Datos'\n$Instructor\n:   'Virgilio Hernandez'\n$Estudiantes_inscritos\n:   40\n\n\n\n\n\n",
            "text/latex": "\\begin{description}\n\\item[\\$curso1] \\begin{description}\n\\item[\\$Nombre] 'Introducción a R'\n\\item[\\$Instructor] 'Juan Perez'\n\\item[\\$Estudiantes\\_inscritos] 30\n\\end{description}\n\n\\item[\\$curso2] \\begin{description}\n\\item[\\$Nombre] 'Python Avanzado'\n\\item[\\$Instructor] 'Luis Gonzalez'\n\\item[\\$Estudiantes\\_inscritos] 25\n\\end{description}\n\n\\item[\\$curso3] \\begin{description}\n\\item[\\$Nombre] 'Fundamentos de Ciencia de Datos'\n\\item[\\$Instructor] 'Virgilio Hernandez'\n\\item[\\$Estudiantes\\_inscritos] 40\n\\end{description}\n\n\\end{description}\n",
            "text/plain": [
              "$curso1\n",
              "$curso1$Nombre\n",
              "[1] \"Introducción a R\"\n",
              "\n",
              "$curso1$Instructor\n",
              "[1] \"Juan Perez\"\n",
              "\n",
              "$curso1$Estudiantes_inscritos\n",
              "[1] 30\n",
              "\n",
              "\n",
              "$curso2\n",
              "$curso2$Nombre\n",
              "[1] \"Python Avanzado\"\n",
              "\n",
              "$curso2$Instructor\n",
              "[1] \"Luis Gonzalez\"\n",
              "\n",
              "$curso2$Estudiantes_inscritos\n",
              "[1] 25\n",
              "\n",
              "\n",
              "$curso3\n",
              "$curso3$Nombre\n",
              "[1] \"Fundamentos de Ciencia de Datos\"\n",
              "\n",
              "$curso3$Instructor\n",
              "[1] \"Virgilio Hernandez\"\n",
              "\n",
              "$curso3$Estudiantes_inscritos\n",
              "[1] 40\n",
              "\n"
            ]
          },
          "metadata": {}
        }
      ]
    },
    {
      "cell_type": "markdown",
      "source": [
        "Eliminando Elementos: Elimina curso1 de listaCursos."
      ],
      "metadata": {
        "id": "Ny8vUZAZZnJh"
      }
    },
    {
      "cell_type": "code",
      "source": [
        "listaCursos"
      ],
      "metadata": {
        "colab": {
          "base_uri": "https://localhost:8080/",
          "height": 410
        },
        "id": "Cis3HNK5Zomf",
        "outputId": "8897b651-77cc-407e-b782-77d853e3fc7b"
      },
      "execution_count": null,
      "outputs": [
        {
          "output_type": "display_data",
          "data": {
            "text/html": [
              "<dl>\n",
              "\t<dt>$curso1</dt>\n",
              "\t\t<dd><dl>\n",
              "\t<dt>$Nombre</dt>\n",
              "\t\t<dd>'Introducción a R'</dd>\n",
              "\t<dt>$Instructor</dt>\n",
              "\t\t<dd>'Juan Perez'</dd>\n",
              "\t<dt>$Estudiantes_inscritos</dt>\n",
              "\t\t<dd>30</dd>\n",
              "</dl>\n",
              "</dd>\n",
              "\t<dt>$curso2</dt>\n",
              "\t\t<dd><dl>\n",
              "\t<dt>$Nombre</dt>\n",
              "\t\t<dd>'Python Avanzado'</dd>\n",
              "\t<dt>$Instructor</dt>\n",
              "\t\t<dd>'Luis Gonzalez'</dd>\n",
              "\t<dt>$Estudiantes_inscritos</dt>\n",
              "\t\t<dd>25</dd>\n",
              "</dl>\n",
              "</dd>\n",
              "\t<dt>$curso3</dt>\n",
              "\t\t<dd><dl>\n",
              "\t<dt>$Nombre</dt>\n",
              "\t\t<dd>'Fundamentos de Ciencia de Datos'</dd>\n",
              "\t<dt>$Instructor</dt>\n",
              "\t\t<dd>'Virgilio Hernandez'</dd>\n",
              "\t<dt>$Estudiantes_inscritos</dt>\n",
              "\t\t<dd>40</dd>\n",
              "</dl>\n",
              "</dd>\n",
              "</dl>\n"
            ],
            "text/markdown": "$curso1\n:   $Nombre\n:   'Introducción a R'\n$Instructor\n:   'Juan Perez'\n$Estudiantes_inscritos\n:   30\n\n\n\n$curso2\n:   $Nombre\n:   'Python Avanzado'\n$Instructor\n:   'Luis Gonzalez'\n$Estudiantes_inscritos\n:   25\n\n\n\n$curso3\n:   $Nombre\n:   'Fundamentos de Ciencia de Datos'\n$Instructor\n:   'Virgilio Hernandez'\n$Estudiantes_inscritos\n:   40\n\n\n\n\n\n",
            "text/latex": "\\begin{description}\n\\item[\\$curso1] \\begin{description}\n\\item[\\$Nombre] 'Introducción a R'\n\\item[\\$Instructor] 'Juan Perez'\n\\item[\\$Estudiantes\\_inscritos] 30\n\\end{description}\n\n\\item[\\$curso2] \\begin{description}\n\\item[\\$Nombre] 'Python Avanzado'\n\\item[\\$Instructor] 'Luis Gonzalez'\n\\item[\\$Estudiantes\\_inscritos] 25\n\\end{description}\n\n\\item[\\$curso3] \\begin{description}\n\\item[\\$Nombre] 'Fundamentos de Ciencia de Datos'\n\\item[\\$Instructor] 'Virgilio Hernandez'\n\\item[\\$Estudiantes\\_inscritos] 40\n\\end{description}\n\n\\end{description}\n",
            "text/plain": [
              "$curso1\n",
              "$curso1$Nombre\n",
              "[1] \"Introducción a R\"\n",
              "\n",
              "$curso1$Instructor\n",
              "[1] \"Juan Perez\"\n",
              "\n",
              "$curso1$Estudiantes_inscritos\n",
              "[1] 30\n",
              "\n",
              "\n",
              "$curso2\n",
              "$curso2$Nombre\n",
              "[1] \"Python Avanzado\"\n",
              "\n",
              "$curso2$Instructor\n",
              "[1] \"Luis Gonzalez\"\n",
              "\n",
              "$curso2$Estudiantes_inscritos\n",
              "[1] 25\n",
              "\n",
              "\n",
              "$curso3\n",
              "$curso3$Nombre\n",
              "[1] \"Fundamentos de Ciencia de Datos\"\n",
              "\n",
              "$curso3$Instructor\n",
              "[1] \"Virgilio Hernandez\"\n",
              "\n",
              "$curso3$Estudiantes_inscritos\n",
              "[1] 40\n",
              "\n"
            ]
          },
          "metadata": {}
        }
      ]
    },
    {
      "cell_type": "code",
      "source": [
        "listaCursos$curso1 <- NULL"
      ],
      "metadata": {
        "id": "aY30hqkoZvSN"
      },
      "execution_count": null,
      "outputs": []
    },
    {
      "cell_type": "code",
      "source": [
        "listaCursos"
      ],
      "metadata": {
        "colab": {
          "base_uri": "https://localhost:8080/",
          "height": 288
        },
        "id": "hHCp4Yj7Z1r9",
        "outputId": "f98ce251-5e21-4456-f06f-54732d47c5a4"
      },
      "execution_count": null,
      "outputs": [
        {
          "output_type": "display_data",
          "data": {
            "text/html": [
              "<dl>\n",
              "\t<dt>$curso2</dt>\n",
              "\t\t<dd><dl>\n",
              "\t<dt>$Nombre</dt>\n",
              "\t\t<dd>'Python Avanzado'</dd>\n",
              "\t<dt>$Instructor</dt>\n",
              "\t\t<dd>'Luis Gonzalez'</dd>\n",
              "\t<dt>$Estudiantes_inscritos</dt>\n",
              "\t\t<dd>25</dd>\n",
              "</dl>\n",
              "</dd>\n",
              "\t<dt>$curso3</dt>\n",
              "\t\t<dd><dl>\n",
              "\t<dt>$Nombre</dt>\n",
              "\t\t<dd>'Fundamentos de Ciencia de Datos'</dd>\n",
              "\t<dt>$Instructor</dt>\n",
              "\t\t<dd>'Virgilio Hernandez'</dd>\n",
              "\t<dt>$Estudiantes_inscritos</dt>\n",
              "\t\t<dd>40</dd>\n",
              "</dl>\n",
              "</dd>\n",
              "</dl>\n"
            ],
            "text/markdown": "$curso2\n:   $Nombre\n:   'Python Avanzado'\n$Instructor\n:   'Luis Gonzalez'\n$Estudiantes_inscritos\n:   25\n\n\n\n$curso3\n:   $Nombre\n:   'Fundamentos de Ciencia de Datos'\n$Instructor\n:   'Virgilio Hernandez'\n$Estudiantes_inscritos\n:   40\n\n\n\n\n\n",
            "text/latex": "\\begin{description}\n\\item[\\$curso2] \\begin{description}\n\\item[\\$Nombre] 'Python Avanzado'\n\\item[\\$Instructor] 'Luis Gonzalez'\n\\item[\\$Estudiantes\\_inscritos] 25\n\\end{description}\n\n\\item[\\$curso3] \\begin{description}\n\\item[\\$Nombre] 'Fundamentos de Ciencia de Datos'\n\\item[\\$Instructor] 'Virgilio Hernandez'\n\\item[\\$Estudiantes\\_inscritos] 40\n\\end{description}\n\n\\end{description}\n",
            "text/plain": [
              "$curso2\n",
              "$curso2$Nombre\n",
              "[1] \"Python Avanzado\"\n",
              "\n",
              "$curso2$Instructor\n",
              "[1] \"Luis Gonzalez\"\n",
              "\n",
              "$curso2$Estudiantes_inscritos\n",
              "[1] 25\n",
              "\n",
              "\n",
              "$curso3\n",
              "$curso3$Nombre\n",
              "[1] \"Fundamentos de Ciencia de Datos\"\n",
              "\n",
              "$curso3$Instructor\n",
              "[1] \"Virgilio Hernandez\"\n",
              "\n",
              "$curso3$Estudiantes_inscritos\n",
              "[1] 40\n",
              "\n"
            ]
          },
          "metadata": {}
        }
      ]
    },
    {
      "cell_type": "markdown",
      "source": [
        "# Data Frame\n",
        "\n",
        "Un data frame es una estructura de datos bidimensional. Es un caso especial de una lista donde cada uno de sus elementos o componente tiene igual longitud. Cada componente forman las columnas y el contenido de los componentes forman las filas.\n",
        "\n",
        "**Como crear un dataframe en R**\n",
        "Para crear un dataframe en R hay que usar la función data.frame. Como en el siguiente código.\n",
        "\n",
        "```\n",
        "\n",
        "df <- data.frame( dui = 1:7, edad = c(21, 23, 27, 28, 29, 30, 35),\n",
        "                  nombre = c(\"Juan\", \"Dora\", \"Hugo\",\n",
        "                             \"Francisco\", \"Luis\", \"Carlos\",  \n",
        "                             \"Mauricio\"))\n",
        "\n",
        "```"
      ],
      "metadata": {
        "id": "mypk4aS5OV0i"
      }
    },
    {
      "cell_type": "code",
      "source": [],
      "metadata": {
        "id": "egW3DSjdZufe"
      },
      "execution_count": null,
      "outputs": []
    },
    {
      "cell_type": "code",
      "source": [],
      "metadata": {
        "id": "RnToyLvHXf5T"
      },
      "execution_count": null,
      "outputs": []
    },
    {
      "cell_type": "code",
      "source": [],
      "metadata": {
        "id": "n1Tw_RyTWq--"
      },
      "execution_count": null,
      "outputs": []
    },
    {
      "cell_type": "markdown",
      "source": [
        "Funciones usuales para visualizar la información en un data frame son:\n",
        "\n",
        "* head: muestra por defecto las primeras 6 observaciones de un data frame.\n",
        "* tail: muestra por defecto las últimas 6 observaciones de un data frame.\n",
        "* str: permite ver la estructura interna de un data frame.\n",
        "\n",
        "**Ejercicio** Probar las anteriores funciones en el data frame df.\n",
        "\n"
      ],
      "metadata": {
        "id": "43tXW-6YrT6O"
      }
    },
    {
      "cell_type": "markdown",
      "source": [
        "**Como accesar a los componentes de un data frame.**\n",
        "\n",
        "La forma más usual para accesar a los componentes de un data frame es usando el operador $ que se ha usado previamente en las listas. Ejecutar lo siguiente para accesar a los elementos individuales del data frame df.\n",
        "\n",
        "```\n",
        "df$dui\n",
        "df$edad\n",
        "df$nombre\n",
        "```"
      ],
      "metadata": {
        "id": "7ol1KpK7yDtm"
      }
    },
    {
      "cell_type": "markdown",
      "source": [
        "**Accesando a elementos de un data frame como una matriz**\n",
        "\n",
        "Ejecutar lo siguiente en una celda de código.\n",
        "\n",
        "```\n",
        "library(help=\"datasets\")\n",
        "```"
      ],
      "metadata": {
        "id": "21D4SufZ2kEH"
      }
    },
    {
      "cell_type": "markdown",
      "source": [
        "El anterior código nos permite visualizar los conjuntos de datos que estan en el paquete datasets, los paquetes en R nos permiten extender la funcionalidad de R. Hay una serie de paquetes en R que se cargan por defecto uno de ellos es el paquete datasets que tienen conjuntos de datos, lo podemos verificar con el siguiente código.\n",
        "\n",
        "```\n",
        "\"package:datasets\" %in% search()\n",
        "```"
      ],
      "metadata": {
        "id": "h-GJV-fI3VzZ"
      }
    },
    {
      "cell_type": "markdown",
      "source": [
        "**Ejercicio**:\n",
        "\n",
        "Cuando se ejecuta R automáticamente se carga el data frame tree, ejecutar los siguientes comandos para tener una idea de este conjunto de datos.\n",
        "\n",
        "```\n",
        "str(trees)\n",
        "\n",
        "head(trees)\n",
        "\n",
        "head(trees, n = 10)\n",
        "\n",
        "tail(trees)\n",
        "\n",
        "tail(trees, n = 10)\n",
        "\n",
        "```"
      ],
      "metadata": {
        "id": "tvMpY-C65ti9"
      }
    },
    {
      "cell_type": "markdown",
      "source": [
        "**Nota**: Puedes tener más información del data frame trees con el siguiente comando.\n",
        "\n",
        "```\n",
        "help(trees)\n",
        "```\n",
        "\n",
        "A continuación vamos a ejecutar funciones que nos permiten *seleccionar* parte del data frame trees.\n",
        "\n",
        "```\n",
        "# seleccionando filas 2 y 3 del data frame trees\n",
        "trees[2:3, ]\n",
        "\n",
        "```\n",
        "\n"
      ],
      "metadata": {
        "id": "FBI_xH036t4L"
      }
    },
    {
      "cell_type": "markdown",
      "source": [
        "```\n",
        "# seleccionar la columna Height y las filas de la 10 a la 12\n",
        "trees[10:12, \"Height\"]\n",
        "\n",
        "```\n"
      ],
      "metadata": {
        "id": "8zK5NgId76tw"
      }
    },
    {
      "cell_type": "markdown",
      "source": [
        "```\n",
        "# seleccionar las columnas \"Height\" y \"Volume\", y las filas 1, 3, y 10.\n",
        "trees[c(1,3,10), c(\"Height\", \"Volume\")]\n",
        "\n",
        "```\n"
      ],
      "metadata": {
        "id": "YZ4AEspc_C0_"
      }
    },
    {
      "cell_type": "markdown",
      "source": [
        "```\n",
        "# seleccionar las filas que cumplen la siguiente cóndición:\n",
        "\n",
        "# Seleccionar filas donde Girth es mayor que 10 pulgadas y Height es mayor que 70 pies.\n",
        "\n",
        "trees[trees$Girth > 10 & trees$Height > 70, ]\n",
        "\n",
        "\n",
        "```"
      ],
      "metadata": {
        "id": "AdhY77QwBGGL"
      }
    },
    {
      "cell_type": "markdown",
      "source": [
        "```\n",
        "# seleccionar las filas que cumplen la siguiente cóndición:\n",
        "\n",
        "# Seleccionar filas donde Girth es mayor que 18 pulgadas o Height es mayor que 75 pies.\n",
        "\n",
        "trees[trees$Girth > 18 | trees$Height > 75, ]\n",
        "\n",
        "\n",
        "```"
      ],
      "metadata": {
        "id": "vvkVZ724DJWl"
      }
    },
    {
      "cell_type": "markdown",
      "source": [
        "```\n",
        "\n",
        "# Seleccionar filas donde Girth no es mayor que 18 pulgadas.\n",
        "\n",
        "trees[!trees$Girth > 18, ]\n",
        "\n",
        "```"
      ],
      "metadata": {
        "id": "6T2Dofv0Df_l"
      }
    },
    {
      "cell_type": "markdown",
      "source": [
        "```\n",
        "\n",
        "# Seleccionar filas donde Girth es mayor que 10 pulgadas y Height no es mayor que 75 pies.\n",
        "\n",
        "trees[trees$Girth > 10 & !(trees$Height > 75), ]\n",
        "\n",
        "```"
      ],
      "metadata": {
        "id": "AdSLC6zQExSQ"
      }
    },
    {
      "cell_type": "markdown",
      "source": [
        "**Ejercicio**\n",
        "\n",
        "Con respecto al dataset iris perteneciente al paquete datasets, realizar lo siguiente:\n",
        "\n",
        "* Realizar exploraciones iniciales usando las funciones head, tail, y str.\n",
        "* Usar la función summary para obtener resumenes númericos del dataset iris.  \n",
        "* Seleccionar filas donde el Sepal.Length es mayor o igual que 5.0 y Sepal.Width es menor que 3.5.\n",
        "* Seleccionar filas donde la especie es setosa o el Petal.Width es mayor que 2.0.\n",
        "* Seleccionar filas donde la especie no es Virginica\n",
        "* Seleccionar filas donde no se cumpla lo siguiente el Petal.Width sea mayor que 0.5 y que el Petal.Width sea menor que 1.5.\n",
        "* Seleccionar filas donde la especie sea virginica y se cumpla lo siguiente Petal.Length es mayor que 5.0 o Petal.Width es menor que 1.5.\n",
        "\n"
      ],
      "metadata": {
        "id": "sC1Ef2473jee"
      }
    },
    {
      "cell_type": "code",
      "source": [
        "head(iris)"
      ],
      "metadata": {
        "colab": {
          "base_uri": "https://localhost:8080/",
          "height": 286
        },
        "id": "XQuZv7hrAdA-",
        "outputId": "b25d9f28-d446-4b4d-8725-a53163ec3df6"
      },
      "execution_count": null,
      "outputs": [
        {
          "output_type": "display_data",
          "data": {
            "text/html": [
              "<table class=\"dataframe\">\n",
              "<caption>A data.frame: 6 × 5</caption>\n",
              "<thead>\n",
              "\t<tr><th></th><th scope=col>Sepal.Length</th><th scope=col>Sepal.Width</th><th scope=col>Petal.Length</th><th scope=col>Petal.Width</th><th scope=col>Species</th></tr>\n",
              "\t<tr><th></th><th scope=col>&lt;dbl&gt;</th><th scope=col>&lt;dbl&gt;</th><th scope=col>&lt;dbl&gt;</th><th scope=col>&lt;dbl&gt;</th><th scope=col>&lt;fct&gt;</th></tr>\n",
              "</thead>\n",
              "<tbody>\n",
              "\t<tr><th scope=row>1</th><td>5.1</td><td>3.5</td><td>1.4</td><td>0.2</td><td>setosa</td></tr>\n",
              "\t<tr><th scope=row>2</th><td>4.9</td><td>3.0</td><td>1.4</td><td>0.2</td><td>setosa</td></tr>\n",
              "\t<tr><th scope=row>3</th><td>4.7</td><td>3.2</td><td>1.3</td><td>0.2</td><td>setosa</td></tr>\n",
              "\t<tr><th scope=row>4</th><td>4.6</td><td>3.1</td><td>1.5</td><td>0.2</td><td>setosa</td></tr>\n",
              "\t<tr><th scope=row>5</th><td>5.0</td><td>3.6</td><td>1.4</td><td>0.2</td><td>setosa</td></tr>\n",
              "\t<tr><th scope=row>6</th><td>5.4</td><td>3.9</td><td>1.7</td><td>0.4</td><td>setosa</td></tr>\n",
              "</tbody>\n",
              "</table>\n"
            ],
            "text/markdown": "\nA data.frame: 6 × 5\n\n| <!--/--> | Sepal.Length &lt;dbl&gt; | Sepal.Width &lt;dbl&gt; | Petal.Length &lt;dbl&gt; | Petal.Width &lt;dbl&gt; | Species &lt;fct&gt; |\n|---|---|---|---|---|---|\n| 1 | 5.1 | 3.5 | 1.4 | 0.2 | setosa |\n| 2 | 4.9 | 3.0 | 1.4 | 0.2 | setosa |\n| 3 | 4.7 | 3.2 | 1.3 | 0.2 | setosa |\n| 4 | 4.6 | 3.1 | 1.5 | 0.2 | setosa |\n| 5 | 5.0 | 3.6 | 1.4 | 0.2 | setosa |\n| 6 | 5.4 | 3.9 | 1.7 | 0.4 | setosa |\n\n",
            "text/latex": "A data.frame: 6 × 5\n\\begin{tabular}{r|lllll}\n  & Sepal.Length & Sepal.Width & Petal.Length & Petal.Width & Species\\\\\n  & <dbl> & <dbl> & <dbl> & <dbl> & <fct>\\\\\n\\hline\n\t1 & 5.1 & 3.5 & 1.4 & 0.2 & setosa\\\\\n\t2 & 4.9 & 3.0 & 1.4 & 0.2 & setosa\\\\\n\t3 & 4.7 & 3.2 & 1.3 & 0.2 & setosa\\\\\n\t4 & 4.6 & 3.1 & 1.5 & 0.2 & setosa\\\\\n\t5 & 5.0 & 3.6 & 1.4 & 0.2 & setosa\\\\\n\t6 & 5.4 & 3.9 & 1.7 & 0.4 & setosa\\\\\n\\end{tabular}\n",
            "text/plain": [
              "  Sepal.Length Sepal.Width Petal.Length Petal.Width Species\n",
              "1 5.1          3.5         1.4          0.2         setosa \n",
              "2 4.9          3.0         1.4          0.2         setosa \n",
              "3 4.7          3.2         1.3          0.2         setosa \n",
              "4 4.6          3.1         1.5          0.2         setosa \n",
              "5 5.0          3.6         1.4          0.2         setosa \n",
              "6 5.4          3.9         1.7          0.4         setosa "
            ]
          },
          "metadata": {}
        }
      ]
    },
    {
      "cell_type": "code",
      "source": [
        "tail(iris)"
      ],
      "metadata": {
        "colab": {
          "base_uri": "https://localhost:8080/",
          "height": 286
        },
        "id": "N-O5I1bCAsVp",
        "outputId": "550fe411-7122-4501-a783-c95ac7295f27"
      },
      "execution_count": null,
      "outputs": [
        {
          "output_type": "display_data",
          "data": {
            "text/html": [
              "<table class=\"dataframe\">\n",
              "<caption>A data.frame: 6 × 5</caption>\n",
              "<thead>\n",
              "\t<tr><th></th><th scope=col>Sepal.Length</th><th scope=col>Sepal.Width</th><th scope=col>Petal.Length</th><th scope=col>Petal.Width</th><th scope=col>Species</th></tr>\n",
              "\t<tr><th></th><th scope=col>&lt;dbl&gt;</th><th scope=col>&lt;dbl&gt;</th><th scope=col>&lt;dbl&gt;</th><th scope=col>&lt;dbl&gt;</th><th scope=col>&lt;fct&gt;</th></tr>\n",
              "</thead>\n",
              "<tbody>\n",
              "\t<tr><th scope=row>145</th><td>6.7</td><td>3.3</td><td>5.7</td><td>2.5</td><td>virginica</td></tr>\n",
              "\t<tr><th scope=row>146</th><td>6.7</td><td>3.0</td><td>5.2</td><td>2.3</td><td>virginica</td></tr>\n",
              "\t<tr><th scope=row>147</th><td>6.3</td><td>2.5</td><td>5.0</td><td>1.9</td><td>virginica</td></tr>\n",
              "\t<tr><th scope=row>148</th><td>6.5</td><td>3.0</td><td>5.2</td><td>2.0</td><td>virginica</td></tr>\n",
              "\t<tr><th scope=row>149</th><td>6.2</td><td>3.4</td><td>5.4</td><td>2.3</td><td>virginica</td></tr>\n",
              "\t<tr><th scope=row>150</th><td>5.9</td><td>3.0</td><td>5.1</td><td>1.8</td><td>virginica</td></tr>\n",
              "</tbody>\n",
              "</table>\n"
            ],
            "text/markdown": "\nA data.frame: 6 × 5\n\n| <!--/--> | Sepal.Length &lt;dbl&gt; | Sepal.Width &lt;dbl&gt; | Petal.Length &lt;dbl&gt; | Petal.Width &lt;dbl&gt; | Species &lt;fct&gt; |\n|---|---|---|---|---|---|\n| 145 | 6.7 | 3.3 | 5.7 | 2.5 | virginica |\n| 146 | 6.7 | 3.0 | 5.2 | 2.3 | virginica |\n| 147 | 6.3 | 2.5 | 5.0 | 1.9 | virginica |\n| 148 | 6.5 | 3.0 | 5.2 | 2.0 | virginica |\n| 149 | 6.2 | 3.4 | 5.4 | 2.3 | virginica |\n| 150 | 5.9 | 3.0 | 5.1 | 1.8 | virginica |\n\n",
            "text/latex": "A data.frame: 6 × 5\n\\begin{tabular}{r|lllll}\n  & Sepal.Length & Sepal.Width & Petal.Length & Petal.Width & Species\\\\\n  & <dbl> & <dbl> & <dbl> & <dbl> & <fct>\\\\\n\\hline\n\t145 & 6.7 & 3.3 & 5.7 & 2.5 & virginica\\\\\n\t146 & 6.7 & 3.0 & 5.2 & 2.3 & virginica\\\\\n\t147 & 6.3 & 2.5 & 5.0 & 1.9 & virginica\\\\\n\t148 & 6.5 & 3.0 & 5.2 & 2.0 & virginica\\\\\n\t149 & 6.2 & 3.4 & 5.4 & 2.3 & virginica\\\\\n\t150 & 5.9 & 3.0 & 5.1 & 1.8 & virginica\\\\\n\\end{tabular}\n",
            "text/plain": [
              "    Sepal.Length Sepal.Width Petal.Length Petal.Width Species  \n",
              "145 6.7          3.3         5.7          2.5         virginica\n",
              "146 6.7          3.0         5.2          2.3         virginica\n",
              "147 6.3          2.5         5.0          1.9         virginica\n",
              "148 6.5          3.0         5.2          2.0         virginica\n",
              "149 6.2          3.4         5.4          2.3         virginica\n",
              "150 5.9          3.0         5.1          1.8         virginica"
            ]
          },
          "metadata": {}
        }
      ]
    },
    {
      "cell_type": "code",
      "source": [
        "str(iris)"
      ],
      "metadata": {
        "colab": {
          "base_uri": "https://localhost:8080/"
        },
        "id": "Eqs-Uj2tAstR",
        "outputId": "7c5b73ab-149e-498f-839d-22b1525f6164"
      },
      "execution_count": null,
      "outputs": [
        {
          "output_type": "stream",
          "name": "stdout",
          "text": [
            "'data.frame':\t150 obs. of  5 variables:\n",
            " $ Sepal.Length: num  5.1 4.9 4.7 4.6 5 5.4 4.6 5 4.4 4.9 ...\n",
            " $ Sepal.Width : num  3.5 3 3.2 3.1 3.6 3.9 3.4 3.4 2.9 3.1 ...\n",
            " $ Petal.Length: num  1.4 1.4 1.3 1.5 1.4 1.7 1.4 1.5 1.4 1.5 ...\n",
            " $ Petal.Width : num  0.2 0.2 0.2 0.2 0.2 0.4 0.3 0.2 0.2 0.1 ...\n",
            " $ Species     : Factor w/ 3 levels \"setosa\",\"versicolor\",..: 1 1 1 1 1 1 1 1 1 1 ...\n"
          ]
        }
      ]
    },
    {
      "cell_type": "code",
      "source": [
        "summary(iris)"
      ],
      "metadata": {
        "colab": {
          "base_uri": "https://localhost:8080/",
          "height": 260
        },
        "id": "7s4z_4f1A2CW",
        "outputId": "c7365461-d3ea-4410-8429-be704df0cb5d"
      },
      "execution_count": null,
      "outputs": [
        {
          "output_type": "display_data",
          "data": {
            "text/plain": [
              "  Sepal.Length    Sepal.Width     Petal.Length    Petal.Width   \n",
              " Min.   :4.300   Min.   :2.000   Min.   :1.000   Min.   :0.100  \n",
              " 1st Qu.:5.100   1st Qu.:2.800   1st Qu.:1.600   1st Qu.:0.300  \n",
              " Median :5.800   Median :3.000   Median :4.350   Median :1.300  \n",
              " Mean   :5.843   Mean   :3.057   Mean   :3.758   Mean   :1.199  \n",
              " 3rd Qu.:6.400   3rd Qu.:3.300   3rd Qu.:5.100   3rd Qu.:1.800  \n",
              " Max.   :7.900   Max.   :4.400   Max.   :6.900   Max.   :2.500  \n",
              "       Species  \n",
              " setosa    :50  \n",
              " versicolor:50  \n",
              " virginica :50  \n",
              "                \n",
              "                \n",
              "                "
            ]
          },
          "metadata": {}
        }
      ]
    },
    {
      "cell_type": "markdown",
      "source": [
        "Seleccionar filas donde el Sepal.Length es mayor o igual que 5.0 y Sepal.Width es menor que 3.5."
      ],
      "metadata": {
        "id": "_PmIN_eWBFpi"
      }
    },
    {
      "cell_type": "code",
      "source": [
        "iris[ iris$Sepal.Length >= 5.5 & iris$Sepal.Width < 3.5 , ]"
      ],
      "metadata": {
        "colab": {
          "base_uri": "https://localhost:8080/",
          "height": 1000
        },
        "id": "xF8htht0BBmT",
        "outputId": "a983f0cd-a5a4-4f35-e45f-1adb58135a16"
      },
      "execution_count": null,
      "outputs": [
        {
          "output_type": "display_data",
          "data": {
            "text/html": [
              "<table class=\"dataframe\">\n",
              "<caption>A data.frame: 90 × 5</caption>\n",
              "<thead>\n",
              "\t<tr><th></th><th scope=col>Sepal.Length</th><th scope=col>Sepal.Width</th><th scope=col>Petal.Length</th><th scope=col>Petal.Width</th><th scope=col>Species</th></tr>\n",
              "\t<tr><th></th><th scope=col>&lt;dbl&gt;</th><th scope=col>&lt;dbl&gt;</th><th scope=col>&lt;dbl&gt;</th><th scope=col>&lt;dbl&gt;</th><th scope=col>&lt;fct&gt;</th></tr>\n",
              "</thead>\n",
              "<tbody>\n",
              "\t<tr><th scope=row>51</th><td>7.0</td><td>3.2</td><td>4.7</td><td>1.4</td><td>versicolor</td></tr>\n",
              "\t<tr><th scope=row>52</th><td>6.4</td><td>3.2</td><td>4.5</td><td>1.5</td><td>versicolor</td></tr>\n",
              "\t<tr><th scope=row>53</th><td>6.9</td><td>3.1</td><td>4.9</td><td>1.5</td><td>versicolor</td></tr>\n",
              "\t<tr><th scope=row>54</th><td>5.5</td><td>2.3</td><td>4.0</td><td>1.3</td><td>versicolor</td></tr>\n",
              "\t<tr><th scope=row>55</th><td>6.5</td><td>2.8</td><td>4.6</td><td>1.5</td><td>versicolor</td></tr>\n",
              "\t<tr><th scope=row>56</th><td>5.7</td><td>2.8</td><td>4.5</td><td>1.3</td><td>versicolor</td></tr>\n",
              "\t<tr><th scope=row>57</th><td>6.3</td><td>3.3</td><td>4.7</td><td>1.6</td><td>versicolor</td></tr>\n",
              "\t<tr><th scope=row>59</th><td>6.6</td><td>2.9</td><td>4.6</td><td>1.3</td><td>versicolor</td></tr>\n",
              "\t<tr><th scope=row>62</th><td>5.9</td><td>3.0</td><td>4.2</td><td>1.5</td><td>versicolor</td></tr>\n",
              "\t<tr><th scope=row>63</th><td>6.0</td><td>2.2</td><td>4.0</td><td>1.0</td><td>versicolor</td></tr>\n",
              "\t<tr><th scope=row>64</th><td>6.1</td><td>2.9</td><td>4.7</td><td>1.4</td><td>versicolor</td></tr>\n",
              "\t<tr><th scope=row>65</th><td>5.6</td><td>2.9</td><td>3.6</td><td>1.3</td><td>versicolor</td></tr>\n",
              "\t<tr><th scope=row>66</th><td>6.7</td><td>3.1</td><td>4.4</td><td>1.4</td><td>versicolor</td></tr>\n",
              "\t<tr><th scope=row>67</th><td>5.6</td><td>3.0</td><td>4.5</td><td>1.5</td><td>versicolor</td></tr>\n",
              "\t<tr><th scope=row>68</th><td>5.8</td><td>2.7</td><td>4.1</td><td>1.0</td><td>versicolor</td></tr>\n",
              "\t<tr><th scope=row>69</th><td>6.2</td><td>2.2</td><td>4.5</td><td>1.5</td><td>versicolor</td></tr>\n",
              "\t<tr><th scope=row>70</th><td>5.6</td><td>2.5</td><td>3.9</td><td>1.1</td><td>versicolor</td></tr>\n",
              "\t<tr><th scope=row>71</th><td>5.9</td><td>3.2</td><td>4.8</td><td>1.8</td><td>versicolor</td></tr>\n",
              "\t<tr><th scope=row>72</th><td>6.1</td><td>2.8</td><td>4.0</td><td>1.3</td><td>versicolor</td></tr>\n",
              "\t<tr><th scope=row>73</th><td>6.3</td><td>2.5</td><td>4.9</td><td>1.5</td><td>versicolor</td></tr>\n",
              "\t<tr><th scope=row>74</th><td>6.1</td><td>2.8</td><td>4.7</td><td>1.2</td><td>versicolor</td></tr>\n",
              "\t<tr><th scope=row>75</th><td>6.4</td><td>2.9</td><td>4.3</td><td>1.3</td><td>versicolor</td></tr>\n",
              "\t<tr><th scope=row>76</th><td>6.6</td><td>3.0</td><td>4.4</td><td>1.4</td><td>versicolor</td></tr>\n",
              "\t<tr><th scope=row>77</th><td>6.8</td><td>2.8</td><td>4.8</td><td>1.4</td><td>versicolor</td></tr>\n",
              "\t<tr><th scope=row>78</th><td>6.7</td><td>3.0</td><td>5.0</td><td>1.7</td><td>versicolor</td></tr>\n",
              "\t<tr><th scope=row>79</th><td>6.0</td><td>2.9</td><td>4.5</td><td>1.5</td><td>versicolor</td></tr>\n",
              "\t<tr><th scope=row>80</th><td>5.7</td><td>2.6</td><td>3.5</td><td>1.0</td><td>versicolor</td></tr>\n",
              "\t<tr><th scope=row>81</th><td>5.5</td><td>2.4</td><td>3.8</td><td>1.1</td><td>versicolor</td></tr>\n",
              "\t<tr><th scope=row>82</th><td>5.5</td><td>2.4</td><td>3.7</td><td>1.0</td><td>versicolor</td></tr>\n",
              "\t<tr><th scope=row>83</th><td>5.8</td><td>2.7</td><td>3.9</td><td>1.2</td><td>versicolor</td></tr>\n",
              "\t<tr><th scope=row>⋮</th><td>⋮</td><td>⋮</td><td>⋮</td><td>⋮</td><td>⋮</td></tr>\n",
              "\t<tr><th scope=row>120</th><td>6.0</td><td>2.2</td><td>5.0</td><td>1.5</td><td>virginica</td></tr>\n",
              "\t<tr><th scope=row>121</th><td>6.9</td><td>3.2</td><td>5.7</td><td>2.3</td><td>virginica</td></tr>\n",
              "\t<tr><th scope=row>122</th><td>5.6</td><td>2.8</td><td>4.9</td><td>2.0</td><td>virginica</td></tr>\n",
              "\t<tr><th scope=row>123</th><td>7.7</td><td>2.8</td><td>6.7</td><td>2.0</td><td>virginica</td></tr>\n",
              "\t<tr><th scope=row>124</th><td>6.3</td><td>2.7</td><td>4.9</td><td>1.8</td><td>virginica</td></tr>\n",
              "\t<tr><th scope=row>125</th><td>6.7</td><td>3.3</td><td>5.7</td><td>2.1</td><td>virginica</td></tr>\n",
              "\t<tr><th scope=row>126</th><td>7.2</td><td>3.2</td><td>6.0</td><td>1.8</td><td>virginica</td></tr>\n",
              "\t<tr><th scope=row>127</th><td>6.2</td><td>2.8</td><td>4.8</td><td>1.8</td><td>virginica</td></tr>\n",
              "\t<tr><th scope=row>128</th><td>6.1</td><td>3.0</td><td>4.9</td><td>1.8</td><td>virginica</td></tr>\n",
              "\t<tr><th scope=row>129</th><td>6.4</td><td>2.8</td><td>5.6</td><td>2.1</td><td>virginica</td></tr>\n",
              "\t<tr><th scope=row>130</th><td>7.2</td><td>3.0</td><td>5.8</td><td>1.6</td><td>virginica</td></tr>\n",
              "\t<tr><th scope=row>131</th><td>7.4</td><td>2.8</td><td>6.1</td><td>1.9</td><td>virginica</td></tr>\n",
              "\t<tr><th scope=row>133</th><td>6.4</td><td>2.8</td><td>5.6</td><td>2.2</td><td>virginica</td></tr>\n",
              "\t<tr><th scope=row>134</th><td>6.3</td><td>2.8</td><td>5.1</td><td>1.5</td><td>virginica</td></tr>\n",
              "\t<tr><th scope=row>135</th><td>6.1</td><td>2.6</td><td>5.6</td><td>1.4</td><td>virginica</td></tr>\n",
              "\t<tr><th scope=row>136</th><td>7.7</td><td>3.0</td><td>6.1</td><td>2.3</td><td>virginica</td></tr>\n",
              "\t<tr><th scope=row>137</th><td>6.3</td><td>3.4</td><td>5.6</td><td>2.4</td><td>virginica</td></tr>\n",
              "\t<tr><th scope=row>138</th><td>6.4</td><td>3.1</td><td>5.5</td><td>1.8</td><td>virginica</td></tr>\n",
              "\t<tr><th scope=row>139</th><td>6.0</td><td>3.0</td><td>4.8</td><td>1.8</td><td>virginica</td></tr>\n",
              "\t<tr><th scope=row>140</th><td>6.9</td><td>3.1</td><td>5.4</td><td>2.1</td><td>virginica</td></tr>\n",
              "\t<tr><th scope=row>141</th><td>6.7</td><td>3.1</td><td>5.6</td><td>2.4</td><td>virginica</td></tr>\n",
              "\t<tr><th scope=row>142</th><td>6.9</td><td>3.1</td><td>5.1</td><td>2.3</td><td>virginica</td></tr>\n",
              "\t<tr><th scope=row>143</th><td>5.8</td><td>2.7</td><td>5.1</td><td>1.9</td><td>virginica</td></tr>\n",
              "\t<tr><th scope=row>144</th><td>6.8</td><td>3.2</td><td>5.9</td><td>2.3</td><td>virginica</td></tr>\n",
              "\t<tr><th scope=row>145</th><td>6.7</td><td>3.3</td><td>5.7</td><td>2.5</td><td>virginica</td></tr>\n",
              "\t<tr><th scope=row>146</th><td>6.7</td><td>3.0</td><td>5.2</td><td>2.3</td><td>virginica</td></tr>\n",
              "\t<tr><th scope=row>147</th><td>6.3</td><td>2.5</td><td>5.0</td><td>1.9</td><td>virginica</td></tr>\n",
              "\t<tr><th scope=row>148</th><td>6.5</td><td>3.0</td><td>5.2</td><td>2.0</td><td>virginica</td></tr>\n",
              "\t<tr><th scope=row>149</th><td>6.2</td><td>3.4</td><td>5.4</td><td>2.3</td><td>virginica</td></tr>\n",
              "\t<tr><th scope=row>150</th><td>5.9</td><td>3.0</td><td>5.1</td><td>1.8</td><td>virginica</td></tr>\n",
              "</tbody>\n",
              "</table>\n"
            ],
            "text/markdown": "\nA data.frame: 90 × 5\n\n| <!--/--> | Sepal.Length &lt;dbl&gt; | Sepal.Width &lt;dbl&gt; | Petal.Length &lt;dbl&gt; | Petal.Width &lt;dbl&gt; | Species &lt;fct&gt; |\n|---|---|---|---|---|---|\n| 51 | 7.0 | 3.2 | 4.7 | 1.4 | versicolor |\n| 52 | 6.4 | 3.2 | 4.5 | 1.5 | versicolor |\n| 53 | 6.9 | 3.1 | 4.9 | 1.5 | versicolor |\n| 54 | 5.5 | 2.3 | 4.0 | 1.3 | versicolor |\n| 55 | 6.5 | 2.8 | 4.6 | 1.5 | versicolor |\n| 56 | 5.7 | 2.8 | 4.5 | 1.3 | versicolor |\n| 57 | 6.3 | 3.3 | 4.7 | 1.6 | versicolor |\n| 59 | 6.6 | 2.9 | 4.6 | 1.3 | versicolor |\n| 62 | 5.9 | 3.0 | 4.2 | 1.5 | versicolor |\n| 63 | 6.0 | 2.2 | 4.0 | 1.0 | versicolor |\n| 64 | 6.1 | 2.9 | 4.7 | 1.4 | versicolor |\n| 65 | 5.6 | 2.9 | 3.6 | 1.3 | versicolor |\n| 66 | 6.7 | 3.1 | 4.4 | 1.4 | versicolor |\n| 67 | 5.6 | 3.0 | 4.5 | 1.5 | versicolor |\n| 68 | 5.8 | 2.7 | 4.1 | 1.0 | versicolor |\n| 69 | 6.2 | 2.2 | 4.5 | 1.5 | versicolor |\n| 70 | 5.6 | 2.5 | 3.9 | 1.1 | versicolor |\n| 71 | 5.9 | 3.2 | 4.8 | 1.8 | versicolor |\n| 72 | 6.1 | 2.8 | 4.0 | 1.3 | versicolor |\n| 73 | 6.3 | 2.5 | 4.9 | 1.5 | versicolor |\n| 74 | 6.1 | 2.8 | 4.7 | 1.2 | versicolor |\n| 75 | 6.4 | 2.9 | 4.3 | 1.3 | versicolor |\n| 76 | 6.6 | 3.0 | 4.4 | 1.4 | versicolor |\n| 77 | 6.8 | 2.8 | 4.8 | 1.4 | versicolor |\n| 78 | 6.7 | 3.0 | 5.0 | 1.7 | versicolor |\n| 79 | 6.0 | 2.9 | 4.5 | 1.5 | versicolor |\n| 80 | 5.7 | 2.6 | 3.5 | 1.0 | versicolor |\n| 81 | 5.5 | 2.4 | 3.8 | 1.1 | versicolor |\n| 82 | 5.5 | 2.4 | 3.7 | 1.0 | versicolor |\n| 83 | 5.8 | 2.7 | 3.9 | 1.2 | versicolor |\n| ⋮ | ⋮ | ⋮ | ⋮ | ⋮ | ⋮ |\n| 120 | 6.0 | 2.2 | 5.0 | 1.5 | virginica |\n| 121 | 6.9 | 3.2 | 5.7 | 2.3 | virginica |\n| 122 | 5.6 | 2.8 | 4.9 | 2.0 | virginica |\n| 123 | 7.7 | 2.8 | 6.7 | 2.0 | virginica |\n| 124 | 6.3 | 2.7 | 4.9 | 1.8 | virginica |\n| 125 | 6.7 | 3.3 | 5.7 | 2.1 | virginica |\n| 126 | 7.2 | 3.2 | 6.0 | 1.8 | virginica |\n| 127 | 6.2 | 2.8 | 4.8 | 1.8 | virginica |\n| 128 | 6.1 | 3.0 | 4.9 | 1.8 | virginica |\n| 129 | 6.4 | 2.8 | 5.6 | 2.1 | virginica |\n| 130 | 7.2 | 3.0 | 5.8 | 1.6 | virginica |\n| 131 | 7.4 | 2.8 | 6.1 | 1.9 | virginica |\n| 133 | 6.4 | 2.8 | 5.6 | 2.2 | virginica |\n| 134 | 6.3 | 2.8 | 5.1 | 1.5 | virginica |\n| 135 | 6.1 | 2.6 | 5.6 | 1.4 | virginica |\n| 136 | 7.7 | 3.0 | 6.1 | 2.3 | virginica |\n| 137 | 6.3 | 3.4 | 5.6 | 2.4 | virginica |\n| 138 | 6.4 | 3.1 | 5.5 | 1.8 | virginica |\n| 139 | 6.0 | 3.0 | 4.8 | 1.8 | virginica |\n| 140 | 6.9 | 3.1 | 5.4 | 2.1 | virginica |\n| 141 | 6.7 | 3.1 | 5.6 | 2.4 | virginica |\n| 142 | 6.9 | 3.1 | 5.1 | 2.3 | virginica |\n| 143 | 5.8 | 2.7 | 5.1 | 1.9 | virginica |\n| 144 | 6.8 | 3.2 | 5.9 | 2.3 | virginica |\n| 145 | 6.7 | 3.3 | 5.7 | 2.5 | virginica |\n| 146 | 6.7 | 3.0 | 5.2 | 2.3 | virginica |\n| 147 | 6.3 | 2.5 | 5.0 | 1.9 | virginica |\n| 148 | 6.5 | 3.0 | 5.2 | 2.0 | virginica |\n| 149 | 6.2 | 3.4 | 5.4 | 2.3 | virginica |\n| 150 | 5.9 | 3.0 | 5.1 | 1.8 | virginica |\n\n",
            "text/latex": "A data.frame: 90 × 5\n\\begin{tabular}{r|lllll}\n  & Sepal.Length & Sepal.Width & Petal.Length & Petal.Width & Species\\\\\n  & <dbl> & <dbl> & <dbl> & <dbl> & <fct>\\\\\n\\hline\n\t51 & 7.0 & 3.2 & 4.7 & 1.4 & versicolor\\\\\n\t52 & 6.4 & 3.2 & 4.5 & 1.5 & versicolor\\\\\n\t53 & 6.9 & 3.1 & 4.9 & 1.5 & versicolor\\\\\n\t54 & 5.5 & 2.3 & 4.0 & 1.3 & versicolor\\\\\n\t55 & 6.5 & 2.8 & 4.6 & 1.5 & versicolor\\\\\n\t56 & 5.7 & 2.8 & 4.5 & 1.3 & versicolor\\\\\n\t57 & 6.3 & 3.3 & 4.7 & 1.6 & versicolor\\\\\n\t59 & 6.6 & 2.9 & 4.6 & 1.3 & versicolor\\\\\n\t62 & 5.9 & 3.0 & 4.2 & 1.5 & versicolor\\\\\n\t63 & 6.0 & 2.2 & 4.0 & 1.0 & versicolor\\\\\n\t64 & 6.1 & 2.9 & 4.7 & 1.4 & versicolor\\\\\n\t65 & 5.6 & 2.9 & 3.6 & 1.3 & versicolor\\\\\n\t66 & 6.7 & 3.1 & 4.4 & 1.4 & versicolor\\\\\n\t67 & 5.6 & 3.0 & 4.5 & 1.5 & versicolor\\\\\n\t68 & 5.8 & 2.7 & 4.1 & 1.0 & versicolor\\\\\n\t69 & 6.2 & 2.2 & 4.5 & 1.5 & versicolor\\\\\n\t70 & 5.6 & 2.5 & 3.9 & 1.1 & versicolor\\\\\n\t71 & 5.9 & 3.2 & 4.8 & 1.8 & versicolor\\\\\n\t72 & 6.1 & 2.8 & 4.0 & 1.3 & versicolor\\\\\n\t73 & 6.3 & 2.5 & 4.9 & 1.5 & versicolor\\\\\n\t74 & 6.1 & 2.8 & 4.7 & 1.2 & versicolor\\\\\n\t75 & 6.4 & 2.9 & 4.3 & 1.3 & versicolor\\\\\n\t76 & 6.6 & 3.0 & 4.4 & 1.4 & versicolor\\\\\n\t77 & 6.8 & 2.8 & 4.8 & 1.4 & versicolor\\\\\n\t78 & 6.7 & 3.0 & 5.0 & 1.7 & versicolor\\\\\n\t79 & 6.0 & 2.9 & 4.5 & 1.5 & versicolor\\\\\n\t80 & 5.7 & 2.6 & 3.5 & 1.0 & versicolor\\\\\n\t81 & 5.5 & 2.4 & 3.8 & 1.1 & versicolor\\\\\n\t82 & 5.5 & 2.4 & 3.7 & 1.0 & versicolor\\\\\n\t83 & 5.8 & 2.7 & 3.9 & 1.2 & versicolor\\\\\n\t⋮ & ⋮ & ⋮ & ⋮ & ⋮ & ⋮\\\\\n\t120 & 6.0 & 2.2 & 5.0 & 1.5 & virginica\\\\\n\t121 & 6.9 & 3.2 & 5.7 & 2.3 & virginica\\\\\n\t122 & 5.6 & 2.8 & 4.9 & 2.0 & virginica\\\\\n\t123 & 7.7 & 2.8 & 6.7 & 2.0 & virginica\\\\\n\t124 & 6.3 & 2.7 & 4.9 & 1.8 & virginica\\\\\n\t125 & 6.7 & 3.3 & 5.7 & 2.1 & virginica\\\\\n\t126 & 7.2 & 3.2 & 6.0 & 1.8 & virginica\\\\\n\t127 & 6.2 & 2.8 & 4.8 & 1.8 & virginica\\\\\n\t128 & 6.1 & 3.0 & 4.9 & 1.8 & virginica\\\\\n\t129 & 6.4 & 2.8 & 5.6 & 2.1 & virginica\\\\\n\t130 & 7.2 & 3.0 & 5.8 & 1.6 & virginica\\\\\n\t131 & 7.4 & 2.8 & 6.1 & 1.9 & virginica\\\\\n\t133 & 6.4 & 2.8 & 5.6 & 2.2 & virginica\\\\\n\t134 & 6.3 & 2.8 & 5.1 & 1.5 & virginica\\\\\n\t135 & 6.1 & 2.6 & 5.6 & 1.4 & virginica\\\\\n\t136 & 7.7 & 3.0 & 6.1 & 2.3 & virginica\\\\\n\t137 & 6.3 & 3.4 & 5.6 & 2.4 & virginica\\\\\n\t138 & 6.4 & 3.1 & 5.5 & 1.8 & virginica\\\\\n\t139 & 6.0 & 3.0 & 4.8 & 1.8 & virginica\\\\\n\t140 & 6.9 & 3.1 & 5.4 & 2.1 & virginica\\\\\n\t141 & 6.7 & 3.1 & 5.6 & 2.4 & virginica\\\\\n\t142 & 6.9 & 3.1 & 5.1 & 2.3 & virginica\\\\\n\t143 & 5.8 & 2.7 & 5.1 & 1.9 & virginica\\\\\n\t144 & 6.8 & 3.2 & 5.9 & 2.3 & virginica\\\\\n\t145 & 6.7 & 3.3 & 5.7 & 2.5 & virginica\\\\\n\t146 & 6.7 & 3.0 & 5.2 & 2.3 & virginica\\\\\n\t147 & 6.3 & 2.5 & 5.0 & 1.9 & virginica\\\\\n\t148 & 6.5 & 3.0 & 5.2 & 2.0 & virginica\\\\\n\t149 & 6.2 & 3.4 & 5.4 & 2.3 & virginica\\\\\n\t150 & 5.9 & 3.0 & 5.1 & 1.8 & virginica\\\\\n\\end{tabular}\n",
            "text/plain": [
              "    Sepal.Length Sepal.Width Petal.Length Petal.Width Species   \n",
              "51  7.0          3.2         4.7          1.4         versicolor\n",
              "52  6.4          3.2         4.5          1.5         versicolor\n",
              "53  6.9          3.1         4.9          1.5         versicolor\n",
              "54  5.5          2.3         4.0          1.3         versicolor\n",
              "55  6.5          2.8         4.6          1.5         versicolor\n",
              "56  5.7          2.8         4.5          1.3         versicolor\n",
              "57  6.3          3.3         4.7          1.6         versicolor\n",
              "59  6.6          2.9         4.6          1.3         versicolor\n",
              "62  5.9          3.0         4.2          1.5         versicolor\n",
              "63  6.0          2.2         4.0          1.0         versicolor\n",
              "64  6.1          2.9         4.7          1.4         versicolor\n",
              "65  5.6          2.9         3.6          1.3         versicolor\n",
              "66  6.7          3.1         4.4          1.4         versicolor\n",
              "67  5.6          3.0         4.5          1.5         versicolor\n",
              "68  5.8          2.7         4.1          1.0         versicolor\n",
              "69  6.2          2.2         4.5          1.5         versicolor\n",
              "70  5.6          2.5         3.9          1.1         versicolor\n",
              "71  5.9          3.2         4.8          1.8         versicolor\n",
              "72  6.1          2.8         4.0          1.3         versicolor\n",
              "73  6.3          2.5         4.9          1.5         versicolor\n",
              "74  6.1          2.8         4.7          1.2         versicolor\n",
              "75  6.4          2.9         4.3          1.3         versicolor\n",
              "76  6.6          3.0         4.4          1.4         versicolor\n",
              "77  6.8          2.8         4.8          1.4         versicolor\n",
              "78  6.7          3.0         5.0          1.7         versicolor\n",
              "79  6.0          2.9         4.5          1.5         versicolor\n",
              "80  5.7          2.6         3.5          1.0         versicolor\n",
              "81  5.5          2.4         3.8          1.1         versicolor\n",
              "82  5.5          2.4         3.7          1.0         versicolor\n",
              "83  5.8          2.7         3.9          1.2         versicolor\n",
              "⋮   ⋮            ⋮           ⋮            ⋮           ⋮         \n",
              "120 6.0          2.2         5.0          1.5         virginica \n",
              "121 6.9          3.2         5.7          2.3         virginica \n",
              "122 5.6          2.8         4.9          2.0         virginica \n",
              "123 7.7          2.8         6.7          2.0         virginica \n",
              "124 6.3          2.7         4.9          1.8         virginica \n",
              "125 6.7          3.3         5.7          2.1         virginica \n",
              "126 7.2          3.2         6.0          1.8         virginica \n",
              "127 6.2          2.8         4.8          1.8         virginica \n",
              "128 6.1          3.0         4.9          1.8         virginica \n",
              "129 6.4          2.8         5.6          2.1         virginica \n",
              "130 7.2          3.0         5.8          1.6         virginica \n",
              "131 7.4          2.8         6.1          1.9         virginica \n",
              "133 6.4          2.8         5.6          2.2         virginica \n",
              "134 6.3          2.8         5.1          1.5         virginica \n",
              "135 6.1          2.6         5.6          1.4         virginica \n",
              "136 7.7          3.0         6.1          2.3         virginica \n",
              "137 6.3          3.4         5.6          2.4         virginica \n",
              "138 6.4          3.1         5.5          1.8         virginica \n",
              "139 6.0          3.0         4.8          1.8         virginica \n",
              "140 6.9          3.1         5.4          2.1         virginica \n",
              "141 6.7          3.1         5.6          2.4         virginica \n",
              "142 6.9          3.1         5.1          2.3         virginica \n",
              "143 5.8          2.7         5.1          1.9         virginica \n",
              "144 6.8          3.2         5.9          2.3         virginica \n",
              "145 6.7          3.3         5.7          2.5         virginica \n",
              "146 6.7          3.0         5.2          2.3         virginica \n",
              "147 6.3          2.5         5.0          1.9         virginica \n",
              "148 6.5          3.0         5.2          2.0         virginica \n",
              "149 6.2          3.4         5.4          2.3         virginica \n",
              "150 5.9          3.0         5.1          1.8         virginica "
            ]
          },
          "metadata": {}
        }
      ]
    },
    {
      "cell_type": "markdown",
      "source": [
        "Seleccionar filas donde la especie es setosa o el Petal.Width es mayor que 2.0."
      ],
      "metadata": {
        "id": "3OudZrWVDZ9p"
      }
    },
    {
      "cell_type": "code",
      "source": [
        "iris[iris$Species == \"setosa\" | iris$Petal.Width > 2.0, ]"
      ],
      "metadata": {
        "colab": {
          "base_uri": "https://localhost:8080/",
          "height": 1000
        },
        "id": "-gwAcjBBEShQ",
        "outputId": "dbe6a518-d3de-4264-aec3-737a251b1687"
      },
      "execution_count": null,
      "outputs": [
        {
          "output_type": "display_data",
          "data": {
            "text/html": [
              "<table class=\"dataframe\">\n",
              "<caption>A data.frame: 73 × 5</caption>\n",
              "<thead>\n",
              "\t<tr><th></th><th scope=col>Sepal.Length</th><th scope=col>Sepal.Width</th><th scope=col>Petal.Length</th><th scope=col>Petal.Width</th><th scope=col>Species</th></tr>\n",
              "\t<tr><th></th><th scope=col>&lt;dbl&gt;</th><th scope=col>&lt;dbl&gt;</th><th scope=col>&lt;dbl&gt;</th><th scope=col>&lt;dbl&gt;</th><th scope=col>&lt;fct&gt;</th></tr>\n",
              "</thead>\n",
              "<tbody>\n",
              "\t<tr><th scope=row>1</th><td>5.1</td><td>3.5</td><td>1.4</td><td>0.2</td><td>setosa</td></tr>\n",
              "\t<tr><th scope=row>2</th><td>4.9</td><td>3.0</td><td>1.4</td><td>0.2</td><td>setosa</td></tr>\n",
              "\t<tr><th scope=row>3</th><td>4.7</td><td>3.2</td><td>1.3</td><td>0.2</td><td>setosa</td></tr>\n",
              "\t<tr><th scope=row>4</th><td>4.6</td><td>3.1</td><td>1.5</td><td>0.2</td><td>setosa</td></tr>\n",
              "\t<tr><th scope=row>5</th><td>5.0</td><td>3.6</td><td>1.4</td><td>0.2</td><td>setosa</td></tr>\n",
              "\t<tr><th scope=row>6</th><td>5.4</td><td>3.9</td><td>1.7</td><td>0.4</td><td>setosa</td></tr>\n",
              "\t<tr><th scope=row>7</th><td>4.6</td><td>3.4</td><td>1.4</td><td>0.3</td><td>setosa</td></tr>\n",
              "\t<tr><th scope=row>8</th><td>5.0</td><td>3.4</td><td>1.5</td><td>0.2</td><td>setosa</td></tr>\n",
              "\t<tr><th scope=row>9</th><td>4.4</td><td>2.9</td><td>1.4</td><td>0.2</td><td>setosa</td></tr>\n",
              "\t<tr><th scope=row>10</th><td>4.9</td><td>3.1</td><td>1.5</td><td>0.1</td><td>setosa</td></tr>\n",
              "\t<tr><th scope=row>11</th><td>5.4</td><td>3.7</td><td>1.5</td><td>0.2</td><td>setosa</td></tr>\n",
              "\t<tr><th scope=row>12</th><td>4.8</td><td>3.4</td><td>1.6</td><td>0.2</td><td>setosa</td></tr>\n",
              "\t<tr><th scope=row>13</th><td>4.8</td><td>3.0</td><td>1.4</td><td>0.1</td><td>setosa</td></tr>\n",
              "\t<tr><th scope=row>14</th><td>4.3</td><td>3.0</td><td>1.1</td><td>0.1</td><td>setosa</td></tr>\n",
              "\t<tr><th scope=row>15</th><td>5.8</td><td>4.0</td><td>1.2</td><td>0.2</td><td>setosa</td></tr>\n",
              "\t<tr><th scope=row>16</th><td>5.7</td><td>4.4</td><td>1.5</td><td>0.4</td><td>setosa</td></tr>\n",
              "\t<tr><th scope=row>17</th><td>5.4</td><td>3.9</td><td>1.3</td><td>0.4</td><td>setosa</td></tr>\n",
              "\t<tr><th scope=row>18</th><td>5.1</td><td>3.5</td><td>1.4</td><td>0.3</td><td>setosa</td></tr>\n",
              "\t<tr><th scope=row>19</th><td>5.7</td><td>3.8</td><td>1.7</td><td>0.3</td><td>setosa</td></tr>\n",
              "\t<tr><th scope=row>20</th><td>5.1</td><td>3.8</td><td>1.5</td><td>0.3</td><td>setosa</td></tr>\n",
              "\t<tr><th scope=row>21</th><td>5.4</td><td>3.4</td><td>1.7</td><td>0.2</td><td>setosa</td></tr>\n",
              "\t<tr><th scope=row>22</th><td>5.1</td><td>3.7</td><td>1.5</td><td>0.4</td><td>setosa</td></tr>\n",
              "\t<tr><th scope=row>23</th><td>4.6</td><td>3.6</td><td>1.0</td><td>0.2</td><td>setosa</td></tr>\n",
              "\t<tr><th scope=row>24</th><td>5.1</td><td>3.3</td><td>1.7</td><td>0.5</td><td>setosa</td></tr>\n",
              "\t<tr><th scope=row>25</th><td>4.8</td><td>3.4</td><td>1.9</td><td>0.2</td><td>setosa</td></tr>\n",
              "\t<tr><th scope=row>26</th><td>5.0</td><td>3.0</td><td>1.6</td><td>0.2</td><td>setosa</td></tr>\n",
              "\t<tr><th scope=row>27</th><td>5.0</td><td>3.4</td><td>1.6</td><td>0.4</td><td>setosa</td></tr>\n",
              "\t<tr><th scope=row>28</th><td>5.2</td><td>3.5</td><td>1.5</td><td>0.2</td><td>setosa</td></tr>\n",
              "\t<tr><th scope=row>29</th><td>5.2</td><td>3.4</td><td>1.4</td><td>0.2</td><td>setosa</td></tr>\n",
              "\t<tr><th scope=row>30</th><td>4.7</td><td>3.2</td><td>1.6</td><td>0.2</td><td>setosa</td></tr>\n",
              "\t<tr><th scope=row>⋮</th><td>⋮</td><td>⋮</td><td>⋮</td><td>⋮</td><td>⋮</td></tr>\n",
              "\t<tr><th scope=row>44</th><td>5.0</td><td>3.5</td><td>1.6</td><td>0.6</td><td>setosa   </td></tr>\n",
              "\t<tr><th scope=row>45</th><td>5.1</td><td>3.8</td><td>1.9</td><td>0.4</td><td>setosa   </td></tr>\n",
              "\t<tr><th scope=row>46</th><td>4.8</td><td>3.0</td><td>1.4</td><td>0.3</td><td>setosa   </td></tr>\n",
              "\t<tr><th scope=row>47</th><td>5.1</td><td>3.8</td><td>1.6</td><td>0.2</td><td>setosa   </td></tr>\n",
              "\t<tr><th scope=row>48</th><td>4.6</td><td>3.2</td><td>1.4</td><td>0.2</td><td>setosa   </td></tr>\n",
              "\t<tr><th scope=row>49</th><td>5.3</td><td>3.7</td><td>1.5</td><td>0.2</td><td>setosa   </td></tr>\n",
              "\t<tr><th scope=row>50</th><td>5.0</td><td>3.3</td><td>1.4</td><td>0.2</td><td>setosa   </td></tr>\n",
              "\t<tr><th scope=row>101</th><td>6.3</td><td>3.3</td><td>6.0</td><td>2.5</td><td>virginica</td></tr>\n",
              "\t<tr><th scope=row>103</th><td>7.1</td><td>3.0</td><td>5.9</td><td>2.1</td><td>virginica</td></tr>\n",
              "\t<tr><th scope=row>105</th><td>6.5</td><td>3.0</td><td>5.8</td><td>2.2</td><td>virginica</td></tr>\n",
              "\t<tr><th scope=row>106</th><td>7.6</td><td>3.0</td><td>6.6</td><td>2.1</td><td>virginica</td></tr>\n",
              "\t<tr><th scope=row>110</th><td>7.2</td><td>3.6</td><td>6.1</td><td>2.5</td><td>virginica</td></tr>\n",
              "\t<tr><th scope=row>113</th><td>6.8</td><td>3.0</td><td>5.5</td><td>2.1</td><td>virginica</td></tr>\n",
              "\t<tr><th scope=row>115</th><td>5.8</td><td>2.8</td><td>5.1</td><td>2.4</td><td>virginica</td></tr>\n",
              "\t<tr><th scope=row>116</th><td>6.4</td><td>3.2</td><td>5.3</td><td>2.3</td><td>virginica</td></tr>\n",
              "\t<tr><th scope=row>118</th><td>7.7</td><td>3.8</td><td>6.7</td><td>2.2</td><td>virginica</td></tr>\n",
              "\t<tr><th scope=row>119</th><td>7.7</td><td>2.6</td><td>6.9</td><td>2.3</td><td>virginica</td></tr>\n",
              "\t<tr><th scope=row>121</th><td>6.9</td><td>3.2</td><td>5.7</td><td>2.3</td><td>virginica</td></tr>\n",
              "\t<tr><th scope=row>125</th><td>6.7</td><td>3.3</td><td>5.7</td><td>2.1</td><td>virginica</td></tr>\n",
              "\t<tr><th scope=row>129</th><td>6.4</td><td>2.8</td><td>5.6</td><td>2.1</td><td>virginica</td></tr>\n",
              "\t<tr><th scope=row>133</th><td>6.4</td><td>2.8</td><td>5.6</td><td>2.2</td><td>virginica</td></tr>\n",
              "\t<tr><th scope=row>136</th><td>7.7</td><td>3.0</td><td>6.1</td><td>2.3</td><td>virginica</td></tr>\n",
              "\t<tr><th scope=row>137</th><td>6.3</td><td>3.4</td><td>5.6</td><td>2.4</td><td>virginica</td></tr>\n",
              "\t<tr><th scope=row>140</th><td>6.9</td><td>3.1</td><td>5.4</td><td>2.1</td><td>virginica</td></tr>\n",
              "\t<tr><th scope=row>141</th><td>6.7</td><td>3.1</td><td>5.6</td><td>2.4</td><td>virginica</td></tr>\n",
              "\t<tr><th scope=row>142</th><td>6.9</td><td>3.1</td><td>5.1</td><td>2.3</td><td>virginica</td></tr>\n",
              "\t<tr><th scope=row>144</th><td>6.8</td><td>3.2</td><td>5.9</td><td>2.3</td><td>virginica</td></tr>\n",
              "\t<tr><th scope=row>145</th><td>6.7</td><td>3.3</td><td>5.7</td><td>2.5</td><td>virginica</td></tr>\n",
              "\t<tr><th scope=row>146</th><td>6.7</td><td>3.0</td><td>5.2</td><td>2.3</td><td>virginica</td></tr>\n",
              "\t<tr><th scope=row>149</th><td>6.2</td><td>3.4</td><td>5.4</td><td>2.3</td><td>virginica</td></tr>\n",
              "</tbody>\n",
              "</table>\n"
            ],
            "text/markdown": "\nA data.frame: 73 × 5\n\n| <!--/--> | Sepal.Length &lt;dbl&gt; | Sepal.Width &lt;dbl&gt; | Petal.Length &lt;dbl&gt; | Petal.Width &lt;dbl&gt; | Species &lt;fct&gt; |\n|---|---|---|---|---|---|\n| 1 | 5.1 | 3.5 | 1.4 | 0.2 | setosa |\n| 2 | 4.9 | 3.0 | 1.4 | 0.2 | setosa |\n| 3 | 4.7 | 3.2 | 1.3 | 0.2 | setosa |\n| 4 | 4.6 | 3.1 | 1.5 | 0.2 | setosa |\n| 5 | 5.0 | 3.6 | 1.4 | 0.2 | setosa |\n| 6 | 5.4 | 3.9 | 1.7 | 0.4 | setosa |\n| 7 | 4.6 | 3.4 | 1.4 | 0.3 | setosa |\n| 8 | 5.0 | 3.4 | 1.5 | 0.2 | setosa |\n| 9 | 4.4 | 2.9 | 1.4 | 0.2 | setosa |\n| 10 | 4.9 | 3.1 | 1.5 | 0.1 | setosa |\n| 11 | 5.4 | 3.7 | 1.5 | 0.2 | setosa |\n| 12 | 4.8 | 3.4 | 1.6 | 0.2 | setosa |\n| 13 | 4.8 | 3.0 | 1.4 | 0.1 | setosa |\n| 14 | 4.3 | 3.0 | 1.1 | 0.1 | setosa |\n| 15 | 5.8 | 4.0 | 1.2 | 0.2 | setosa |\n| 16 | 5.7 | 4.4 | 1.5 | 0.4 | setosa |\n| 17 | 5.4 | 3.9 | 1.3 | 0.4 | setosa |\n| 18 | 5.1 | 3.5 | 1.4 | 0.3 | setosa |\n| 19 | 5.7 | 3.8 | 1.7 | 0.3 | setosa |\n| 20 | 5.1 | 3.8 | 1.5 | 0.3 | setosa |\n| 21 | 5.4 | 3.4 | 1.7 | 0.2 | setosa |\n| 22 | 5.1 | 3.7 | 1.5 | 0.4 | setosa |\n| 23 | 4.6 | 3.6 | 1.0 | 0.2 | setosa |\n| 24 | 5.1 | 3.3 | 1.7 | 0.5 | setosa |\n| 25 | 4.8 | 3.4 | 1.9 | 0.2 | setosa |\n| 26 | 5.0 | 3.0 | 1.6 | 0.2 | setosa |\n| 27 | 5.0 | 3.4 | 1.6 | 0.4 | setosa |\n| 28 | 5.2 | 3.5 | 1.5 | 0.2 | setosa |\n| 29 | 5.2 | 3.4 | 1.4 | 0.2 | setosa |\n| 30 | 4.7 | 3.2 | 1.6 | 0.2 | setosa |\n| ⋮ | ⋮ | ⋮ | ⋮ | ⋮ | ⋮ |\n| 44 | 5.0 | 3.5 | 1.6 | 0.6 | setosa    |\n| 45 | 5.1 | 3.8 | 1.9 | 0.4 | setosa    |\n| 46 | 4.8 | 3.0 | 1.4 | 0.3 | setosa    |\n| 47 | 5.1 | 3.8 | 1.6 | 0.2 | setosa    |\n| 48 | 4.6 | 3.2 | 1.4 | 0.2 | setosa    |\n| 49 | 5.3 | 3.7 | 1.5 | 0.2 | setosa    |\n| 50 | 5.0 | 3.3 | 1.4 | 0.2 | setosa    |\n| 101 | 6.3 | 3.3 | 6.0 | 2.5 | virginica |\n| 103 | 7.1 | 3.0 | 5.9 | 2.1 | virginica |\n| 105 | 6.5 | 3.0 | 5.8 | 2.2 | virginica |\n| 106 | 7.6 | 3.0 | 6.6 | 2.1 | virginica |\n| 110 | 7.2 | 3.6 | 6.1 | 2.5 | virginica |\n| 113 | 6.8 | 3.0 | 5.5 | 2.1 | virginica |\n| 115 | 5.8 | 2.8 | 5.1 | 2.4 | virginica |\n| 116 | 6.4 | 3.2 | 5.3 | 2.3 | virginica |\n| 118 | 7.7 | 3.8 | 6.7 | 2.2 | virginica |\n| 119 | 7.7 | 2.6 | 6.9 | 2.3 | virginica |\n| 121 | 6.9 | 3.2 | 5.7 | 2.3 | virginica |\n| 125 | 6.7 | 3.3 | 5.7 | 2.1 | virginica |\n| 129 | 6.4 | 2.8 | 5.6 | 2.1 | virginica |\n| 133 | 6.4 | 2.8 | 5.6 | 2.2 | virginica |\n| 136 | 7.7 | 3.0 | 6.1 | 2.3 | virginica |\n| 137 | 6.3 | 3.4 | 5.6 | 2.4 | virginica |\n| 140 | 6.9 | 3.1 | 5.4 | 2.1 | virginica |\n| 141 | 6.7 | 3.1 | 5.6 | 2.4 | virginica |\n| 142 | 6.9 | 3.1 | 5.1 | 2.3 | virginica |\n| 144 | 6.8 | 3.2 | 5.9 | 2.3 | virginica |\n| 145 | 6.7 | 3.3 | 5.7 | 2.5 | virginica |\n| 146 | 6.7 | 3.0 | 5.2 | 2.3 | virginica |\n| 149 | 6.2 | 3.4 | 5.4 | 2.3 | virginica |\n\n",
            "text/latex": "A data.frame: 73 × 5\n\\begin{tabular}{r|lllll}\n  & Sepal.Length & Sepal.Width & Petal.Length & Petal.Width & Species\\\\\n  & <dbl> & <dbl> & <dbl> & <dbl> & <fct>\\\\\n\\hline\n\t1 & 5.1 & 3.5 & 1.4 & 0.2 & setosa\\\\\n\t2 & 4.9 & 3.0 & 1.4 & 0.2 & setosa\\\\\n\t3 & 4.7 & 3.2 & 1.3 & 0.2 & setosa\\\\\n\t4 & 4.6 & 3.1 & 1.5 & 0.2 & setosa\\\\\n\t5 & 5.0 & 3.6 & 1.4 & 0.2 & setosa\\\\\n\t6 & 5.4 & 3.9 & 1.7 & 0.4 & setosa\\\\\n\t7 & 4.6 & 3.4 & 1.4 & 0.3 & setosa\\\\\n\t8 & 5.0 & 3.4 & 1.5 & 0.2 & setosa\\\\\n\t9 & 4.4 & 2.9 & 1.4 & 0.2 & setosa\\\\\n\t10 & 4.9 & 3.1 & 1.5 & 0.1 & setosa\\\\\n\t11 & 5.4 & 3.7 & 1.5 & 0.2 & setosa\\\\\n\t12 & 4.8 & 3.4 & 1.6 & 0.2 & setosa\\\\\n\t13 & 4.8 & 3.0 & 1.4 & 0.1 & setosa\\\\\n\t14 & 4.3 & 3.0 & 1.1 & 0.1 & setosa\\\\\n\t15 & 5.8 & 4.0 & 1.2 & 0.2 & setosa\\\\\n\t16 & 5.7 & 4.4 & 1.5 & 0.4 & setosa\\\\\n\t17 & 5.4 & 3.9 & 1.3 & 0.4 & setosa\\\\\n\t18 & 5.1 & 3.5 & 1.4 & 0.3 & setosa\\\\\n\t19 & 5.7 & 3.8 & 1.7 & 0.3 & setosa\\\\\n\t20 & 5.1 & 3.8 & 1.5 & 0.3 & setosa\\\\\n\t21 & 5.4 & 3.4 & 1.7 & 0.2 & setosa\\\\\n\t22 & 5.1 & 3.7 & 1.5 & 0.4 & setosa\\\\\n\t23 & 4.6 & 3.6 & 1.0 & 0.2 & setosa\\\\\n\t24 & 5.1 & 3.3 & 1.7 & 0.5 & setosa\\\\\n\t25 & 4.8 & 3.4 & 1.9 & 0.2 & setosa\\\\\n\t26 & 5.0 & 3.0 & 1.6 & 0.2 & setosa\\\\\n\t27 & 5.0 & 3.4 & 1.6 & 0.4 & setosa\\\\\n\t28 & 5.2 & 3.5 & 1.5 & 0.2 & setosa\\\\\n\t29 & 5.2 & 3.4 & 1.4 & 0.2 & setosa\\\\\n\t30 & 4.7 & 3.2 & 1.6 & 0.2 & setosa\\\\\n\t⋮ & ⋮ & ⋮ & ⋮ & ⋮ & ⋮\\\\\n\t44 & 5.0 & 3.5 & 1.6 & 0.6 & setosa   \\\\\n\t45 & 5.1 & 3.8 & 1.9 & 0.4 & setosa   \\\\\n\t46 & 4.8 & 3.0 & 1.4 & 0.3 & setosa   \\\\\n\t47 & 5.1 & 3.8 & 1.6 & 0.2 & setosa   \\\\\n\t48 & 4.6 & 3.2 & 1.4 & 0.2 & setosa   \\\\\n\t49 & 5.3 & 3.7 & 1.5 & 0.2 & setosa   \\\\\n\t50 & 5.0 & 3.3 & 1.4 & 0.2 & setosa   \\\\\n\t101 & 6.3 & 3.3 & 6.0 & 2.5 & virginica\\\\\n\t103 & 7.1 & 3.0 & 5.9 & 2.1 & virginica\\\\\n\t105 & 6.5 & 3.0 & 5.8 & 2.2 & virginica\\\\\n\t106 & 7.6 & 3.0 & 6.6 & 2.1 & virginica\\\\\n\t110 & 7.2 & 3.6 & 6.1 & 2.5 & virginica\\\\\n\t113 & 6.8 & 3.0 & 5.5 & 2.1 & virginica\\\\\n\t115 & 5.8 & 2.8 & 5.1 & 2.4 & virginica\\\\\n\t116 & 6.4 & 3.2 & 5.3 & 2.3 & virginica\\\\\n\t118 & 7.7 & 3.8 & 6.7 & 2.2 & virginica\\\\\n\t119 & 7.7 & 2.6 & 6.9 & 2.3 & virginica\\\\\n\t121 & 6.9 & 3.2 & 5.7 & 2.3 & virginica\\\\\n\t125 & 6.7 & 3.3 & 5.7 & 2.1 & virginica\\\\\n\t129 & 6.4 & 2.8 & 5.6 & 2.1 & virginica\\\\\n\t133 & 6.4 & 2.8 & 5.6 & 2.2 & virginica\\\\\n\t136 & 7.7 & 3.0 & 6.1 & 2.3 & virginica\\\\\n\t137 & 6.3 & 3.4 & 5.6 & 2.4 & virginica\\\\\n\t140 & 6.9 & 3.1 & 5.4 & 2.1 & virginica\\\\\n\t141 & 6.7 & 3.1 & 5.6 & 2.4 & virginica\\\\\n\t142 & 6.9 & 3.1 & 5.1 & 2.3 & virginica\\\\\n\t144 & 6.8 & 3.2 & 5.9 & 2.3 & virginica\\\\\n\t145 & 6.7 & 3.3 & 5.7 & 2.5 & virginica\\\\\n\t146 & 6.7 & 3.0 & 5.2 & 2.3 & virginica\\\\\n\t149 & 6.2 & 3.4 & 5.4 & 2.3 & virginica\\\\\n\\end{tabular}\n",
            "text/plain": [
              "    Sepal.Length Sepal.Width Petal.Length Petal.Width Species  \n",
              "1   5.1          3.5         1.4          0.2         setosa   \n",
              "2   4.9          3.0         1.4          0.2         setosa   \n",
              "3   4.7          3.2         1.3          0.2         setosa   \n",
              "4   4.6          3.1         1.5          0.2         setosa   \n",
              "5   5.0          3.6         1.4          0.2         setosa   \n",
              "6   5.4          3.9         1.7          0.4         setosa   \n",
              "7   4.6          3.4         1.4          0.3         setosa   \n",
              "8   5.0          3.4         1.5          0.2         setosa   \n",
              "9   4.4          2.9         1.4          0.2         setosa   \n",
              "10  4.9          3.1         1.5          0.1         setosa   \n",
              "11  5.4          3.7         1.5          0.2         setosa   \n",
              "12  4.8          3.4         1.6          0.2         setosa   \n",
              "13  4.8          3.0         1.4          0.1         setosa   \n",
              "14  4.3          3.0         1.1          0.1         setosa   \n",
              "15  5.8          4.0         1.2          0.2         setosa   \n",
              "16  5.7          4.4         1.5          0.4         setosa   \n",
              "17  5.4          3.9         1.3          0.4         setosa   \n",
              "18  5.1          3.5         1.4          0.3         setosa   \n",
              "19  5.7          3.8         1.7          0.3         setosa   \n",
              "20  5.1          3.8         1.5          0.3         setosa   \n",
              "21  5.4          3.4         1.7          0.2         setosa   \n",
              "22  5.1          3.7         1.5          0.4         setosa   \n",
              "23  4.6          3.6         1.0          0.2         setosa   \n",
              "24  5.1          3.3         1.7          0.5         setosa   \n",
              "25  4.8          3.4         1.9          0.2         setosa   \n",
              "26  5.0          3.0         1.6          0.2         setosa   \n",
              "27  5.0          3.4         1.6          0.4         setosa   \n",
              "28  5.2          3.5         1.5          0.2         setosa   \n",
              "29  5.2          3.4         1.4          0.2         setosa   \n",
              "30  4.7          3.2         1.6          0.2         setosa   \n",
              "⋮   ⋮            ⋮           ⋮            ⋮           ⋮        \n",
              "44  5.0          3.5         1.6          0.6         setosa   \n",
              "45  5.1          3.8         1.9          0.4         setosa   \n",
              "46  4.8          3.0         1.4          0.3         setosa   \n",
              "47  5.1          3.8         1.6          0.2         setosa   \n",
              "48  4.6          3.2         1.4          0.2         setosa   \n",
              "49  5.3          3.7         1.5          0.2         setosa   \n",
              "50  5.0          3.3         1.4          0.2         setosa   \n",
              "101 6.3          3.3         6.0          2.5         virginica\n",
              "103 7.1          3.0         5.9          2.1         virginica\n",
              "105 6.5          3.0         5.8          2.2         virginica\n",
              "106 7.6          3.0         6.6          2.1         virginica\n",
              "110 7.2          3.6         6.1          2.5         virginica\n",
              "113 6.8          3.0         5.5          2.1         virginica\n",
              "115 5.8          2.8         5.1          2.4         virginica\n",
              "116 6.4          3.2         5.3          2.3         virginica\n",
              "118 7.7          3.8         6.7          2.2         virginica\n",
              "119 7.7          2.6         6.9          2.3         virginica\n",
              "121 6.9          3.2         5.7          2.3         virginica\n",
              "125 6.7          3.3         5.7          2.1         virginica\n",
              "129 6.4          2.8         5.6          2.1         virginica\n",
              "133 6.4          2.8         5.6          2.2         virginica\n",
              "136 7.7          3.0         6.1          2.3         virginica\n",
              "137 6.3          3.4         5.6          2.4         virginica\n",
              "140 6.9          3.1         5.4          2.1         virginica\n",
              "141 6.7          3.1         5.6          2.4         virginica\n",
              "142 6.9          3.1         5.1          2.3         virginica\n",
              "144 6.8          3.2         5.9          2.3         virginica\n",
              "145 6.7          3.3         5.7          2.5         virginica\n",
              "146 6.7          3.0         5.2          2.3         virginica\n",
              "149 6.2          3.4         5.4          2.3         virginica"
            ]
          },
          "metadata": {}
        }
      ]
    },
    {
      "cell_type": "markdown",
      "source": [
        "Seleccionar filas donde la especie no es Virginica"
      ],
      "metadata": {
        "id": "St9PlFqCE_qN"
      }
    },
    {
      "cell_type": "code",
      "source": [
        "iris[iris$Species != \"virginica\", ]"
      ],
      "metadata": {
        "colab": {
          "base_uri": "https://localhost:8080/",
          "height": 1000
        },
        "id": "lbs9CSSEGbPg",
        "outputId": "c0907b7a-2ae6-4f58-af0a-bc41283e7723"
      },
      "execution_count": null,
      "outputs": [
        {
          "output_type": "display_data",
          "data": {
            "text/html": [
              "<table class=\"dataframe\">\n",
              "<caption>A data.frame: 100 × 5</caption>\n",
              "<thead>\n",
              "\t<tr><th></th><th scope=col>Sepal.Length</th><th scope=col>Sepal.Width</th><th scope=col>Petal.Length</th><th scope=col>Petal.Width</th><th scope=col>Species</th></tr>\n",
              "\t<tr><th></th><th scope=col>&lt;dbl&gt;</th><th scope=col>&lt;dbl&gt;</th><th scope=col>&lt;dbl&gt;</th><th scope=col>&lt;dbl&gt;</th><th scope=col>&lt;fct&gt;</th></tr>\n",
              "</thead>\n",
              "<tbody>\n",
              "\t<tr><th scope=row>1</th><td>5.1</td><td>3.5</td><td>1.4</td><td>0.2</td><td>setosa</td></tr>\n",
              "\t<tr><th scope=row>2</th><td>4.9</td><td>3.0</td><td>1.4</td><td>0.2</td><td>setosa</td></tr>\n",
              "\t<tr><th scope=row>3</th><td>4.7</td><td>3.2</td><td>1.3</td><td>0.2</td><td>setosa</td></tr>\n",
              "\t<tr><th scope=row>4</th><td>4.6</td><td>3.1</td><td>1.5</td><td>0.2</td><td>setosa</td></tr>\n",
              "\t<tr><th scope=row>5</th><td>5.0</td><td>3.6</td><td>1.4</td><td>0.2</td><td>setosa</td></tr>\n",
              "\t<tr><th scope=row>6</th><td>5.4</td><td>3.9</td><td>1.7</td><td>0.4</td><td>setosa</td></tr>\n",
              "\t<tr><th scope=row>7</th><td>4.6</td><td>3.4</td><td>1.4</td><td>0.3</td><td>setosa</td></tr>\n",
              "\t<tr><th scope=row>8</th><td>5.0</td><td>3.4</td><td>1.5</td><td>0.2</td><td>setosa</td></tr>\n",
              "\t<tr><th scope=row>9</th><td>4.4</td><td>2.9</td><td>1.4</td><td>0.2</td><td>setosa</td></tr>\n",
              "\t<tr><th scope=row>10</th><td>4.9</td><td>3.1</td><td>1.5</td><td>0.1</td><td>setosa</td></tr>\n",
              "\t<tr><th scope=row>11</th><td>5.4</td><td>3.7</td><td>1.5</td><td>0.2</td><td>setosa</td></tr>\n",
              "\t<tr><th scope=row>12</th><td>4.8</td><td>3.4</td><td>1.6</td><td>0.2</td><td>setosa</td></tr>\n",
              "\t<tr><th scope=row>13</th><td>4.8</td><td>3.0</td><td>1.4</td><td>0.1</td><td>setosa</td></tr>\n",
              "\t<tr><th scope=row>14</th><td>4.3</td><td>3.0</td><td>1.1</td><td>0.1</td><td>setosa</td></tr>\n",
              "\t<tr><th scope=row>15</th><td>5.8</td><td>4.0</td><td>1.2</td><td>0.2</td><td>setosa</td></tr>\n",
              "\t<tr><th scope=row>16</th><td>5.7</td><td>4.4</td><td>1.5</td><td>0.4</td><td>setosa</td></tr>\n",
              "\t<tr><th scope=row>17</th><td>5.4</td><td>3.9</td><td>1.3</td><td>0.4</td><td>setosa</td></tr>\n",
              "\t<tr><th scope=row>18</th><td>5.1</td><td>3.5</td><td>1.4</td><td>0.3</td><td>setosa</td></tr>\n",
              "\t<tr><th scope=row>19</th><td>5.7</td><td>3.8</td><td>1.7</td><td>0.3</td><td>setosa</td></tr>\n",
              "\t<tr><th scope=row>20</th><td>5.1</td><td>3.8</td><td>1.5</td><td>0.3</td><td>setosa</td></tr>\n",
              "\t<tr><th scope=row>21</th><td>5.4</td><td>3.4</td><td>1.7</td><td>0.2</td><td>setosa</td></tr>\n",
              "\t<tr><th scope=row>22</th><td>5.1</td><td>3.7</td><td>1.5</td><td>0.4</td><td>setosa</td></tr>\n",
              "\t<tr><th scope=row>23</th><td>4.6</td><td>3.6</td><td>1.0</td><td>0.2</td><td>setosa</td></tr>\n",
              "\t<tr><th scope=row>24</th><td>5.1</td><td>3.3</td><td>1.7</td><td>0.5</td><td>setosa</td></tr>\n",
              "\t<tr><th scope=row>25</th><td>4.8</td><td>3.4</td><td>1.9</td><td>0.2</td><td>setosa</td></tr>\n",
              "\t<tr><th scope=row>26</th><td>5.0</td><td>3.0</td><td>1.6</td><td>0.2</td><td>setosa</td></tr>\n",
              "\t<tr><th scope=row>27</th><td>5.0</td><td>3.4</td><td>1.6</td><td>0.4</td><td>setosa</td></tr>\n",
              "\t<tr><th scope=row>28</th><td>5.2</td><td>3.5</td><td>1.5</td><td>0.2</td><td>setosa</td></tr>\n",
              "\t<tr><th scope=row>29</th><td>5.2</td><td>3.4</td><td>1.4</td><td>0.2</td><td>setosa</td></tr>\n",
              "\t<tr><th scope=row>30</th><td>4.7</td><td>3.2</td><td>1.6</td><td>0.2</td><td>setosa</td></tr>\n",
              "\t<tr><th scope=row>⋮</th><td>⋮</td><td>⋮</td><td>⋮</td><td>⋮</td><td>⋮</td></tr>\n",
              "\t<tr><th scope=row>71</th><td>5.9</td><td>3.2</td><td>4.8</td><td>1.8</td><td>versicolor</td></tr>\n",
              "\t<tr><th scope=row>72</th><td>6.1</td><td>2.8</td><td>4.0</td><td>1.3</td><td>versicolor</td></tr>\n",
              "\t<tr><th scope=row>73</th><td>6.3</td><td>2.5</td><td>4.9</td><td>1.5</td><td>versicolor</td></tr>\n",
              "\t<tr><th scope=row>74</th><td>6.1</td><td>2.8</td><td>4.7</td><td>1.2</td><td>versicolor</td></tr>\n",
              "\t<tr><th scope=row>75</th><td>6.4</td><td>2.9</td><td>4.3</td><td>1.3</td><td>versicolor</td></tr>\n",
              "\t<tr><th scope=row>76</th><td>6.6</td><td>3.0</td><td>4.4</td><td>1.4</td><td>versicolor</td></tr>\n",
              "\t<tr><th scope=row>77</th><td>6.8</td><td>2.8</td><td>4.8</td><td>1.4</td><td>versicolor</td></tr>\n",
              "\t<tr><th scope=row>78</th><td>6.7</td><td>3.0</td><td>5.0</td><td>1.7</td><td>versicolor</td></tr>\n",
              "\t<tr><th scope=row>79</th><td>6.0</td><td>2.9</td><td>4.5</td><td>1.5</td><td>versicolor</td></tr>\n",
              "\t<tr><th scope=row>80</th><td>5.7</td><td>2.6</td><td>3.5</td><td>1.0</td><td>versicolor</td></tr>\n",
              "\t<tr><th scope=row>81</th><td>5.5</td><td>2.4</td><td>3.8</td><td>1.1</td><td>versicolor</td></tr>\n",
              "\t<tr><th scope=row>82</th><td>5.5</td><td>2.4</td><td>3.7</td><td>1.0</td><td>versicolor</td></tr>\n",
              "\t<tr><th scope=row>83</th><td>5.8</td><td>2.7</td><td>3.9</td><td>1.2</td><td>versicolor</td></tr>\n",
              "\t<tr><th scope=row>84</th><td>6.0</td><td>2.7</td><td>5.1</td><td>1.6</td><td>versicolor</td></tr>\n",
              "\t<tr><th scope=row>85</th><td>5.4</td><td>3.0</td><td>4.5</td><td>1.5</td><td>versicolor</td></tr>\n",
              "\t<tr><th scope=row>86</th><td>6.0</td><td>3.4</td><td>4.5</td><td>1.6</td><td>versicolor</td></tr>\n",
              "\t<tr><th scope=row>87</th><td>6.7</td><td>3.1</td><td>4.7</td><td>1.5</td><td>versicolor</td></tr>\n",
              "\t<tr><th scope=row>88</th><td>6.3</td><td>2.3</td><td>4.4</td><td>1.3</td><td>versicolor</td></tr>\n",
              "\t<tr><th scope=row>89</th><td>5.6</td><td>3.0</td><td>4.1</td><td>1.3</td><td>versicolor</td></tr>\n",
              "\t<tr><th scope=row>90</th><td>5.5</td><td>2.5</td><td>4.0</td><td>1.3</td><td>versicolor</td></tr>\n",
              "\t<tr><th scope=row>91</th><td>5.5</td><td>2.6</td><td>4.4</td><td>1.2</td><td>versicolor</td></tr>\n",
              "\t<tr><th scope=row>92</th><td>6.1</td><td>3.0</td><td>4.6</td><td>1.4</td><td>versicolor</td></tr>\n",
              "\t<tr><th scope=row>93</th><td>5.8</td><td>2.6</td><td>4.0</td><td>1.2</td><td>versicolor</td></tr>\n",
              "\t<tr><th scope=row>94</th><td>5.0</td><td>2.3</td><td>3.3</td><td>1.0</td><td>versicolor</td></tr>\n",
              "\t<tr><th scope=row>95</th><td>5.6</td><td>2.7</td><td>4.2</td><td>1.3</td><td>versicolor</td></tr>\n",
              "\t<tr><th scope=row>96</th><td>5.7</td><td>3.0</td><td>4.2</td><td>1.2</td><td>versicolor</td></tr>\n",
              "\t<tr><th scope=row>97</th><td>5.7</td><td>2.9</td><td>4.2</td><td>1.3</td><td>versicolor</td></tr>\n",
              "\t<tr><th scope=row>98</th><td>6.2</td><td>2.9</td><td>4.3</td><td>1.3</td><td>versicolor</td></tr>\n",
              "\t<tr><th scope=row>99</th><td>5.1</td><td>2.5</td><td>3.0</td><td>1.1</td><td>versicolor</td></tr>\n",
              "\t<tr><th scope=row>100</th><td>5.7</td><td>2.8</td><td>4.1</td><td>1.3</td><td>versicolor</td></tr>\n",
              "</tbody>\n",
              "</table>\n"
            ],
            "text/markdown": "\nA data.frame: 100 × 5\n\n| <!--/--> | Sepal.Length &lt;dbl&gt; | Sepal.Width &lt;dbl&gt; | Petal.Length &lt;dbl&gt; | Petal.Width &lt;dbl&gt; | Species &lt;fct&gt; |\n|---|---|---|---|---|---|\n| 1 | 5.1 | 3.5 | 1.4 | 0.2 | setosa |\n| 2 | 4.9 | 3.0 | 1.4 | 0.2 | setosa |\n| 3 | 4.7 | 3.2 | 1.3 | 0.2 | setosa |\n| 4 | 4.6 | 3.1 | 1.5 | 0.2 | setosa |\n| 5 | 5.0 | 3.6 | 1.4 | 0.2 | setosa |\n| 6 | 5.4 | 3.9 | 1.7 | 0.4 | setosa |\n| 7 | 4.6 | 3.4 | 1.4 | 0.3 | setosa |\n| 8 | 5.0 | 3.4 | 1.5 | 0.2 | setosa |\n| 9 | 4.4 | 2.9 | 1.4 | 0.2 | setosa |\n| 10 | 4.9 | 3.1 | 1.5 | 0.1 | setosa |\n| 11 | 5.4 | 3.7 | 1.5 | 0.2 | setosa |\n| 12 | 4.8 | 3.4 | 1.6 | 0.2 | setosa |\n| 13 | 4.8 | 3.0 | 1.4 | 0.1 | setosa |\n| 14 | 4.3 | 3.0 | 1.1 | 0.1 | setosa |\n| 15 | 5.8 | 4.0 | 1.2 | 0.2 | setosa |\n| 16 | 5.7 | 4.4 | 1.5 | 0.4 | setosa |\n| 17 | 5.4 | 3.9 | 1.3 | 0.4 | setosa |\n| 18 | 5.1 | 3.5 | 1.4 | 0.3 | setosa |\n| 19 | 5.7 | 3.8 | 1.7 | 0.3 | setosa |\n| 20 | 5.1 | 3.8 | 1.5 | 0.3 | setosa |\n| 21 | 5.4 | 3.4 | 1.7 | 0.2 | setosa |\n| 22 | 5.1 | 3.7 | 1.5 | 0.4 | setosa |\n| 23 | 4.6 | 3.6 | 1.0 | 0.2 | setosa |\n| 24 | 5.1 | 3.3 | 1.7 | 0.5 | setosa |\n| 25 | 4.8 | 3.4 | 1.9 | 0.2 | setosa |\n| 26 | 5.0 | 3.0 | 1.6 | 0.2 | setosa |\n| 27 | 5.0 | 3.4 | 1.6 | 0.4 | setosa |\n| 28 | 5.2 | 3.5 | 1.5 | 0.2 | setosa |\n| 29 | 5.2 | 3.4 | 1.4 | 0.2 | setosa |\n| 30 | 4.7 | 3.2 | 1.6 | 0.2 | setosa |\n| ⋮ | ⋮ | ⋮ | ⋮ | ⋮ | ⋮ |\n| 71 | 5.9 | 3.2 | 4.8 | 1.8 | versicolor |\n| 72 | 6.1 | 2.8 | 4.0 | 1.3 | versicolor |\n| 73 | 6.3 | 2.5 | 4.9 | 1.5 | versicolor |\n| 74 | 6.1 | 2.8 | 4.7 | 1.2 | versicolor |\n| 75 | 6.4 | 2.9 | 4.3 | 1.3 | versicolor |\n| 76 | 6.6 | 3.0 | 4.4 | 1.4 | versicolor |\n| 77 | 6.8 | 2.8 | 4.8 | 1.4 | versicolor |\n| 78 | 6.7 | 3.0 | 5.0 | 1.7 | versicolor |\n| 79 | 6.0 | 2.9 | 4.5 | 1.5 | versicolor |\n| 80 | 5.7 | 2.6 | 3.5 | 1.0 | versicolor |\n| 81 | 5.5 | 2.4 | 3.8 | 1.1 | versicolor |\n| 82 | 5.5 | 2.4 | 3.7 | 1.0 | versicolor |\n| 83 | 5.8 | 2.7 | 3.9 | 1.2 | versicolor |\n| 84 | 6.0 | 2.7 | 5.1 | 1.6 | versicolor |\n| 85 | 5.4 | 3.0 | 4.5 | 1.5 | versicolor |\n| 86 | 6.0 | 3.4 | 4.5 | 1.6 | versicolor |\n| 87 | 6.7 | 3.1 | 4.7 | 1.5 | versicolor |\n| 88 | 6.3 | 2.3 | 4.4 | 1.3 | versicolor |\n| 89 | 5.6 | 3.0 | 4.1 | 1.3 | versicolor |\n| 90 | 5.5 | 2.5 | 4.0 | 1.3 | versicolor |\n| 91 | 5.5 | 2.6 | 4.4 | 1.2 | versicolor |\n| 92 | 6.1 | 3.0 | 4.6 | 1.4 | versicolor |\n| 93 | 5.8 | 2.6 | 4.0 | 1.2 | versicolor |\n| 94 | 5.0 | 2.3 | 3.3 | 1.0 | versicolor |\n| 95 | 5.6 | 2.7 | 4.2 | 1.3 | versicolor |\n| 96 | 5.7 | 3.0 | 4.2 | 1.2 | versicolor |\n| 97 | 5.7 | 2.9 | 4.2 | 1.3 | versicolor |\n| 98 | 6.2 | 2.9 | 4.3 | 1.3 | versicolor |\n| 99 | 5.1 | 2.5 | 3.0 | 1.1 | versicolor |\n| 100 | 5.7 | 2.8 | 4.1 | 1.3 | versicolor |\n\n",
            "text/latex": "A data.frame: 100 × 5\n\\begin{tabular}{r|lllll}\n  & Sepal.Length & Sepal.Width & Petal.Length & Petal.Width & Species\\\\\n  & <dbl> & <dbl> & <dbl> & <dbl> & <fct>\\\\\n\\hline\n\t1 & 5.1 & 3.5 & 1.4 & 0.2 & setosa\\\\\n\t2 & 4.9 & 3.0 & 1.4 & 0.2 & setosa\\\\\n\t3 & 4.7 & 3.2 & 1.3 & 0.2 & setosa\\\\\n\t4 & 4.6 & 3.1 & 1.5 & 0.2 & setosa\\\\\n\t5 & 5.0 & 3.6 & 1.4 & 0.2 & setosa\\\\\n\t6 & 5.4 & 3.9 & 1.7 & 0.4 & setosa\\\\\n\t7 & 4.6 & 3.4 & 1.4 & 0.3 & setosa\\\\\n\t8 & 5.0 & 3.4 & 1.5 & 0.2 & setosa\\\\\n\t9 & 4.4 & 2.9 & 1.4 & 0.2 & setosa\\\\\n\t10 & 4.9 & 3.1 & 1.5 & 0.1 & setosa\\\\\n\t11 & 5.4 & 3.7 & 1.5 & 0.2 & setosa\\\\\n\t12 & 4.8 & 3.4 & 1.6 & 0.2 & setosa\\\\\n\t13 & 4.8 & 3.0 & 1.4 & 0.1 & setosa\\\\\n\t14 & 4.3 & 3.0 & 1.1 & 0.1 & setosa\\\\\n\t15 & 5.8 & 4.0 & 1.2 & 0.2 & setosa\\\\\n\t16 & 5.7 & 4.4 & 1.5 & 0.4 & setosa\\\\\n\t17 & 5.4 & 3.9 & 1.3 & 0.4 & setosa\\\\\n\t18 & 5.1 & 3.5 & 1.4 & 0.3 & setosa\\\\\n\t19 & 5.7 & 3.8 & 1.7 & 0.3 & setosa\\\\\n\t20 & 5.1 & 3.8 & 1.5 & 0.3 & setosa\\\\\n\t21 & 5.4 & 3.4 & 1.7 & 0.2 & setosa\\\\\n\t22 & 5.1 & 3.7 & 1.5 & 0.4 & setosa\\\\\n\t23 & 4.6 & 3.6 & 1.0 & 0.2 & setosa\\\\\n\t24 & 5.1 & 3.3 & 1.7 & 0.5 & setosa\\\\\n\t25 & 4.8 & 3.4 & 1.9 & 0.2 & setosa\\\\\n\t26 & 5.0 & 3.0 & 1.6 & 0.2 & setosa\\\\\n\t27 & 5.0 & 3.4 & 1.6 & 0.4 & setosa\\\\\n\t28 & 5.2 & 3.5 & 1.5 & 0.2 & setosa\\\\\n\t29 & 5.2 & 3.4 & 1.4 & 0.2 & setosa\\\\\n\t30 & 4.7 & 3.2 & 1.6 & 0.2 & setosa\\\\\n\t⋮ & ⋮ & ⋮ & ⋮ & ⋮ & ⋮\\\\\n\t71 & 5.9 & 3.2 & 4.8 & 1.8 & versicolor\\\\\n\t72 & 6.1 & 2.8 & 4.0 & 1.3 & versicolor\\\\\n\t73 & 6.3 & 2.5 & 4.9 & 1.5 & versicolor\\\\\n\t74 & 6.1 & 2.8 & 4.7 & 1.2 & versicolor\\\\\n\t75 & 6.4 & 2.9 & 4.3 & 1.3 & versicolor\\\\\n\t76 & 6.6 & 3.0 & 4.4 & 1.4 & versicolor\\\\\n\t77 & 6.8 & 2.8 & 4.8 & 1.4 & versicolor\\\\\n\t78 & 6.7 & 3.0 & 5.0 & 1.7 & versicolor\\\\\n\t79 & 6.0 & 2.9 & 4.5 & 1.5 & versicolor\\\\\n\t80 & 5.7 & 2.6 & 3.5 & 1.0 & versicolor\\\\\n\t81 & 5.5 & 2.4 & 3.8 & 1.1 & versicolor\\\\\n\t82 & 5.5 & 2.4 & 3.7 & 1.0 & versicolor\\\\\n\t83 & 5.8 & 2.7 & 3.9 & 1.2 & versicolor\\\\\n\t84 & 6.0 & 2.7 & 5.1 & 1.6 & versicolor\\\\\n\t85 & 5.4 & 3.0 & 4.5 & 1.5 & versicolor\\\\\n\t86 & 6.0 & 3.4 & 4.5 & 1.6 & versicolor\\\\\n\t87 & 6.7 & 3.1 & 4.7 & 1.5 & versicolor\\\\\n\t88 & 6.3 & 2.3 & 4.4 & 1.3 & versicolor\\\\\n\t89 & 5.6 & 3.0 & 4.1 & 1.3 & versicolor\\\\\n\t90 & 5.5 & 2.5 & 4.0 & 1.3 & versicolor\\\\\n\t91 & 5.5 & 2.6 & 4.4 & 1.2 & versicolor\\\\\n\t92 & 6.1 & 3.0 & 4.6 & 1.4 & versicolor\\\\\n\t93 & 5.8 & 2.6 & 4.0 & 1.2 & versicolor\\\\\n\t94 & 5.0 & 2.3 & 3.3 & 1.0 & versicolor\\\\\n\t95 & 5.6 & 2.7 & 4.2 & 1.3 & versicolor\\\\\n\t96 & 5.7 & 3.0 & 4.2 & 1.2 & versicolor\\\\\n\t97 & 5.7 & 2.9 & 4.2 & 1.3 & versicolor\\\\\n\t98 & 6.2 & 2.9 & 4.3 & 1.3 & versicolor\\\\\n\t99 & 5.1 & 2.5 & 3.0 & 1.1 & versicolor\\\\\n\t100 & 5.7 & 2.8 & 4.1 & 1.3 & versicolor\\\\\n\\end{tabular}\n",
            "text/plain": [
              "    Sepal.Length Sepal.Width Petal.Length Petal.Width Species   \n",
              "1   5.1          3.5         1.4          0.2         setosa    \n",
              "2   4.9          3.0         1.4          0.2         setosa    \n",
              "3   4.7          3.2         1.3          0.2         setosa    \n",
              "4   4.6          3.1         1.5          0.2         setosa    \n",
              "5   5.0          3.6         1.4          0.2         setosa    \n",
              "6   5.4          3.9         1.7          0.4         setosa    \n",
              "7   4.6          3.4         1.4          0.3         setosa    \n",
              "8   5.0          3.4         1.5          0.2         setosa    \n",
              "9   4.4          2.9         1.4          0.2         setosa    \n",
              "10  4.9          3.1         1.5          0.1         setosa    \n",
              "11  5.4          3.7         1.5          0.2         setosa    \n",
              "12  4.8          3.4         1.6          0.2         setosa    \n",
              "13  4.8          3.0         1.4          0.1         setosa    \n",
              "14  4.3          3.0         1.1          0.1         setosa    \n",
              "15  5.8          4.0         1.2          0.2         setosa    \n",
              "16  5.7          4.4         1.5          0.4         setosa    \n",
              "17  5.4          3.9         1.3          0.4         setosa    \n",
              "18  5.1          3.5         1.4          0.3         setosa    \n",
              "19  5.7          3.8         1.7          0.3         setosa    \n",
              "20  5.1          3.8         1.5          0.3         setosa    \n",
              "21  5.4          3.4         1.7          0.2         setosa    \n",
              "22  5.1          3.7         1.5          0.4         setosa    \n",
              "23  4.6          3.6         1.0          0.2         setosa    \n",
              "24  5.1          3.3         1.7          0.5         setosa    \n",
              "25  4.8          3.4         1.9          0.2         setosa    \n",
              "26  5.0          3.0         1.6          0.2         setosa    \n",
              "27  5.0          3.4         1.6          0.4         setosa    \n",
              "28  5.2          3.5         1.5          0.2         setosa    \n",
              "29  5.2          3.4         1.4          0.2         setosa    \n",
              "30  4.7          3.2         1.6          0.2         setosa    \n",
              "⋮   ⋮            ⋮           ⋮            ⋮           ⋮         \n",
              "71  5.9          3.2         4.8          1.8         versicolor\n",
              "72  6.1          2.8         4.0          1.3         versicolor\n",
              "73  6.3          2.5         4.9          1.5         versicolor\n",
              "74  6.1          2.8         4.7          1.2         versicolor\n",
              "75  6.4          2.9         4.3          1.3         versicolor\n",
              "76  6.6          3.0         4.4          1.4         versicolor\n",
              "77  6.8          2.8         4.8          1.4         versicolor\n",
              "78  6.7          3.0         5.0          1.7         versicolor\n",
              "79  6.0          2.9         4.5          1.5         versicolor\n",
              "80  5.7          2.6         3.5          1.0         versicolor\n",
              "81  5.5          2.4         3.8          1.1         versicolor\n",
              "82  5.5          2.4         3.7          1.0         versicolor\n",
              "83  5.8          2.7         3.9          1.2         versicolor\n",
              "84  6.0          2.7         5.1          1.6         versicolor\n",
              "85  5.4          3.0         4.5          1.5         versicolor\n",
              "86  6.0          3.4         4.5          1.6         versicolor\n",
              "87  6.7          3.1         4.7          1.5         versicolor\n",
              "88  6.3          2.3         4.4          1.3         versicolor\n",
              "89  5.6          3.0         4.1          1.3         versicolor\n",
              "90  5.5          2.5         4.0          1.3         versicolor\n",
              "91  5.5          2.6         4.4          1.2         versicolor\n",
              "92  6.1          3.0         4.6          1.4         versicolor\n",
              "93  5.8          2.6         4.0          1.2         versicolor\n",
              "94  5.0          2.3         3.3          1.0         versicolor\n",
              "95  5.6          2.7         4.2          1.3         versicolor\n",
              "96  5.7          3.0         4.2          1.2         versicolor\n",
              "97  5.7          2.9         4.2          1.3         versicolor\n",
              "98  6.2          2.9         4.3          1.3         versicolor\n",
              "99  5.1          2.5         3.0          1.1         versicolor\n",
              "100 5.7          2.8         4.1          1.3         versicolor"
            ]
          },
          "metadata": {}
        }
      ]
    },
    {
      "cell_type": "markdown",
      "source": [
        "Seleccionar filas donde no se cumpla lo siguiente el Petal.Width sea mayor que 0.5 y además que el Petal.Width sea menor que 1.5."
      ],
      "metadata": {
        "id": "M_ME4K3LGzY4"
      }
    },
    {
      "cell_type": "code",
      "source": [
        "iris[! ( iris$Petal.Width > 0.5 & iris$Petal.Width < 1.5 ), ]"
      ],
      "metadata": {
        "colab": {
          "base_uri": "https://localhost:8080/",
          "height": 1000
        },
        "id": "gETGwuQPIfig",
        "outputId": "77c14bf8-2800-4abb-99d5-6d3f024f57e2"
      },
      "execution_count": null,
      "outputs": [
        {
          "output_type": "display_data",
          "data": {
            "text/html": [
              "<table class=\"dataframe\">\n",
              "<caption>A data.frame: 113 × 5</caption>\n",
              "<thead>\n",
              "\t<tr><th></th><th scope=col>Sepal.Length</th><th scope=col>Sepal.Width</th><th scope=col>Petal.Length</th><th scope=col>Petal.Width</th><th scope=col>Species</th></tr>\n",
              "\t<tr><th></th><th scope=col>&lt;dbl&gt;</th><th scope=col>&lt;dbl&gt;</th><th scope=col>&lt;dbl&gt;</th><th scope=col>&lt;dbl&gt;</th><th scope=col>&lt;fct&gt;</th></tr>\n",
              "</thead>\n",
              "<tbody>\n",
              "\t<tr><th scope=row>1</th><td>5.1</td><td>3.5</td><td>1.4</td><td>0.2</td><td>setosa</td></tr>\n",
              "\t<tr><th scope=row>2</th><td>4.9</td><td>3.0</td><td>1.4</td><td>0.2</td><td>setosa</td></tr>\n",
              "\t<tr><th scope=row>3</th><td>4.7</td><td>3.2</td><td>1.3</td><td>0.2</td><td>setosa</td></tr>\n",
              "\t<tr><th scope=row>4</th><td>4.6</td><td>3.1</td><td>1.5</td><td>0.2</td><td>setosa</td></tr>\n",
              "\t<tr><th scope=row>5</th><td>5.0</td><td>3.6</td><td>1.4</td><td>0.2</td><td>setosa</td></tr>\n",
              "\t<tr><th scope=row>6</th><td>5.4</td><td>3.9</td><td>1.7</td><td>0.4</td><td>setosa</td></tr>\n",
              "\t<tr><th scope=row>7</th><td>4.6</td><td>3.4</td><td>1.4</td><td>0.3</td><td>setosa</td></tr>\n",
              "\t<tr><th scope=row>8</th><td>5.0</td><td>3.4</td><td>1.5</td><td>0.2</td><td>setosa</td></tr>\n",
              "\t<tr><th scope=row>9</th><td>4.4</td><td>2.9</td><td>1.4</td><td>0.2</td><td>setosa</td></tr>\n",
              "\t<tr><th scope=row>10</th><td>4.9</td><td>3.1</td><td>1.5</td><td>0.1</td><td>setosa</td></tr>\n",
              "\t<tr><th scope=row>11</th><td>5.4</td><td>3.7</td><td>1.5</td><td>0.2</td><td>setosa</td></tr>\n",
              "\t<tr><th scope=row>12</th><td>4.8</td><td>3.4</td><td>1.6</td><td>0.2</td><td>setosa</td></tr>\n",
              "\t<tr><th scope=row>13</th><td>4.8</td><td>3.0</td><td>1.4</td><td>0.1</td><td>setosa</td></tr>\n",
              "\t<tr><th scope=row>14</th><td>4.3</td><td>3.0</td><td>1.1</td><td>0.1</td><td>setosa</td></tr>\n",
              "\t<tr><th scope=row>15</th><td>5.8</td><td>4.0</td><td>1.2</td><td>0.2</td><td>setosa</td></tr>\n",
              "\t<tr><th scope=row>16</th><td>5.7</td><td>4.4</td><td>1.5</td><td>0.4</td><td>setosa</td></tr>\n",
              "\t<tr><th scope=row>17</th><td>5.4</td><td>3.9</td><td>1.3</td><td>0.4</td><td>setosa</td></tr>\n",
              "\t<tr><th scope=row>18</th><td>5.1</td><td>3.5</td><td>1.4</td><td>0.3</td><td>setosa</td></tr>\n",
              "\t<tr><th scope=row>19</th><td>5.7</td><td>3.8</td><td>1.7</td><td>0.3</td><td>setosa</td></tr>\n",
              "\t<tr><th scope=row>20</th><td>5.1</td><td>3.8</td><td>1.5</td><td>0.3</td><td>setosa</td></tr>\n",
              "\t<tr><th scope=row>21</th><td>5.4</td><td>3.4</td><td>1.7</td><td>0.2</td><td>setosa</td></tr>\n",
              "\t<tr><th scope=row>22</th><td>5.1</td><td>3.7</td><td>1.5</td><td>0.4</td><td>setosa</td></tr>\n",
              "\t<tr><th scope=row>23</th><td>4.6</td><td>3.6</td><td>1.0</td><td>0.2</td><td>setosa</td></tr>\n",
              "\t<tr><th scope=row>24</th><td>5.1</td><td>3.3</td><td>1.7</td><td>0.5</td><td>setosa</td></tr>\n",
              "\t<tr><th scope=row>25</th><td>4.8</td><td>3.4</td><td>1.9</td><td>0.2</td><td>setosa</td></tr>\n",
              "\t<tr><th scope=row>26</th><td>5.0</td><td>3.0</td><td>1.6</td><td>0.2</td><td>setosa</td></tr>\n",
              "\t<tr><th scope=row>27</th><td>5.0</td><td>3.4</td><td>1.6</td><td>0.4</td><td>setosa</td></tr>\n",
              "\t<tr><th scope=row>28</th><td>5.2</td><td>3.5</td><td>1.5</td><td>0.2</td><td>setosa</td></tr>\n",
              "\t<tr><th scope=row>29</th><td>5.2</td><td>3.4</td><td>1.4</td><td>0.2</td><td>setosa</td></tr>\n",
              "\t<tr><th scope=row>30</th><td>4.7</td><td>3.2</td><td>1.6</td><td>0.2</td><td>setosa</td></tr>\n",
              "\t<tr><th scope=row>⋮</th><td>⋮</td><td>⋮</td><td>⋮</td><td>⋮</td><td>⋮</td></tr>\n",
              "\t<tr><th scope=row>120</th><td>6.0</td><td>2.2</td><td>5.0</td><td>1.5</td><td>virginica</td></tr>\n",
              "\t<tr><th scope=row>121</th><td>6.9</td><td>3.2</td><td>5.7</td><td>2.3</td><td>virginica</td></tr>\n",
              "\t<tr><th scope=row>122</th><td>5.6</td><td>2.8</td><td>4.9</td><td>2.0</td><td>virginica</td></tr>\n",
              "\t<tr><th scope=row>123</th><td>7.7</td><td>2.8</td><td>6.7</td><td>2.0</td><td>virginica</td></tr>\n",
              "\t<tr><th scope=row>124</th><td>6.3</td><td>2.7</td><td>4.9</td><td>1.8</td><td>virginica</td></tr>\n",
              "\t<tr><th scope=row>125</th><td>6.7</td><td>3.3</td><td>5.7</td><td>2.1</td><td>virginica</td></tr>\n",
              "\t<tr><th scope=row>126</th><td>7.2</td><td>3.2</td><td>6.0</td><td>1.8</td><td>virginica</td></tr>\n",
              "\t<tr><th scope=row>127</th><td>6.2</td><td>2.8</td><td>4.8</td><td>1.8</td><td>virginica</td></tr>\n",
              "\t<tr><th scope=row>128</th><td>6.1</td><td>3.0</td><td>4.9</td><td>1.8</td><td>virginica</td></tr>\n",
              "\t<tr><th scope=row>129</th><td>6.4</td><td>2.8</td><td>5.6</td><td>2.1</td><td>virginica</td></tr>\n",
              "\t<tr><th scope=row>130</th><td>7.2</td><td>3.0</td><td>5.8</td><td>1.6</td><td>virginica</td></tr>\n",
              "\t<tr><th scope=row>131</th><td>7.4</td><td>2.8</td><td>6.1</td><td>1.9</td><td>virginica</td></tr>\n",
              "\t<tr><th scope=row>132</th><td>7.9</td><td>3.8</td><td>6.4</td><td>2.0</td><td>virginica</td></tr>\n",
              "\t<tr><th scope=row>133</th><td>6.4</td><td>2.8</td><td>5.6</td><td>2.2</td><td>virginica</td></tr>\n",
              "\t<tr><th scope=row>134</th><td>6.3</td><td>2.8</td><td>5.1</td><td>1.5</td><td>virginica</td></tr>\n",
              "\t<tr><th scope=row>136</th><td>7.7</td><td>3.0</td><td>6.1</td><td>2.3</td><td>virginica</td></tr>\n",
              "\t<tr><th scope=row>137</th><td>6.3</td><td>3.4</td><td>5.6</td><td>2.4</td><td>virginica</td></tr>\n",
              "\t<tr><th scope=row>138</th><td>6.4</td><td>3.1</td><td>5.5</td><td>1.8</td><td>virginica</td></tr>\n",
              "\t<tr><th scope=row>139</th><td>6.0</td><td>3.0</td><td>4.8</td><td>1.8</td><td>virginica</td></tr>\n",
              "\t<tr><th scope=row>140</th><td>6.9</td><td>3.1</td><td>5.4</td><td>2.1</td><td>virginica</td></tr>\n",
              "\t<tr><th scope=row>141</th><td>6.7</td><td>3.1</td><td>5.6</td><td>2.4</td><td>virginica</td></tr>\n",
              "\t<tr><th scope=row>142</th><td>6.9</td><td>3.1</td><td>5.1</td><td>2.3</td><td>virginica</td></tr>\n",
              "\t<tr><th scope=row>143</th><td>5.8</td><td>2.7</td><td>5.1</td><td>1.9</td><td>virginica</td></tr>\n",
              "\t<tr><th scope=row>144</th><td>6.8</td><td>3.2</td><td>5.9</td><td>2.3</td><td>virginica</td></tr>\n",
              "\t<tr><th scope=row>145</th><td>6.7</td><td>3.3</td><td>5.7</td><td>2.5</td><td>virginica</td></tr>\n",
              "\t<tr><th scope=row>146</th><td>6.7</td><td>3.0</td><td>5.2</td><td>2.3</td><td>virginica</td></tr>\n",
              "\t<tr><th scope=row>147</th><td>6.3</td><td>2.5</td><td>5.0</td><td>1.9</td><td>virginica</td></tr>\n",
              "\t<tr><th scope=row>148</th><td>6.5</td><td>3.0</td><td>5.2</td><td>2.0</td><td>virginica</td></tr>\n",
              "\t<tr><th scope=row>149</th><td>6.2</td><td>3.4</td><td>5.4</td><td>2.3</td><td>virginica</td></tr>\n",
              "\t<tr><th scope=row>150</th><td>5.9</td><td>3.0</td><td>5.1</td><td>1.8</td><td>virginica</td></tr>\n",
              "</tbody>\n",
              "</table>\n"
            ],
            "text/markdown": "\nA data.frame: 113 × 5\n\n| <!--/--> | Sepal.Length &lt;dbl&gt; | Sepal.Width &lt;dbl&gt; | Petal.Length &lt;dbl&gt; | Petal.Width &lt;dbl&gt; | Species &lt;fct&gt; |\n|---|---|---|---|---|---|\n| 1 | 5.1 | 3.5 | 1.4 | 0.2 | setosa |\n| 2 | 4.9 | 3.0 | 1.4 | 0.2 | setosa |\n| 3 | 4.7 | 3.2 | 1.3 | 0.2 | setosa |\n| 4 | 4.6 | 3.1 | 1.5 | 0.2 | setosa |\n| 5 | 5.0 | 3.6 | 1.4 | 0.2 | setosa |\n| 6 | 5.4 | 3.9 | 1.7 | 0.4 | setosa |\n| 7 | 4.6 | 3.4 | 1.4 | 0.3 | setosa |\n| 8 | 5.0 | 3.4 | 1.5 | 0.2 | setosa |\n| 9 | 4.4 | 2.9 | 1.4 | 0.2 | setosa |\n| 10 | 4.9 | 3.1 | 1.5 | 0.1 | setosa |\n| 11 | 5.4 | 3.7 | 1.5 | 0.2 | setosa |\n| 12 | 4.8 | 3.4 | 1.6 | 0.2 | setosa |\n| 13 | 4.8 | 3.0 | 1.4 | 0.1 | setosa |\n| 14 | 4.3 | 3.0 | 1.1 | 0.1 | setosa |\n| 15 | 5.8 | 4.0 | 1.2 | 0.2 | setosa |\n| 16 | 5.7 | 4.4 | 1.5 | 0.4 | setosa |\n| 17 | 5.4 | 3.9 | 1.3 | 0.4 | setosa |\n| 18 | 5.1 | 3.5 | 1.4 | 0.3 | setosa |\n| 19 | 5.7 | 3.8 | 1.7 | 0.3 | setosa |\n| 20 | 5.1 | 3.8 | 1.5 | 0.3 | setosa |\n| 21 | 5.4 | 3.4 | 1.7 | 0.2 | setosa |\n| 22 | 5.1 | 3.7 | 1.5 | 0.4 | setosa |\n| 23 | 4.6 | 3.6 | 1.0 | 0.2 | setosa |\n| 24 | 5.1 | 3.3 | 1.7 | 0.5 | setosa |\n| 25 | 4.8 | 3.4 | 1.9 | 0.2 | setosa |\n| 26 | 5.0 | 3.0 | 1.6 | 0.2 | setosa |\n| 27 | 5.0 | 3.4 | 1.6 | 0.4 | setosa |\n| 28 | 5.2 | 3.5 | 1.5 | 0.2 | setosa |\n| 29 | 5.2 | 3.4 | 1.4 | 0.2 | setosa |\n| 30 | 4.7 | 3.2 | 1.6 | 0.2 | setosa |\n| ⋮ | ⋮ | ⋮ | ⋮ | ⋮ | ⋮ |\n| 120 | 6.0 | 2.2 | 5.0 | 1.5 | virginica |\n| 121 | 6.9 | 3.2 | 5.7 | 2.3 | virginica |\n| 122 | 5.6 | 2.8 | 4.9 | 2.0 | virginica |\n| 123 | 7.7 | 2.8 | 6.7 | 2.0 | virginica |\n| 124 | 6.3 | 2.7 | 4.9 | 1.8 | virginica |\n| 125 | 6.7 | 3.3 | 5.7 | 2.1 | virginica |\n| 126 | 7.2 | 3.2 | 6.0 | 1.8 | virginica |\n| 127 | 6.2 | 2.8 | 4.8 | 1.8 | virginica |\n| 128 | 6.1 | 3.0 | 4.9 | 1.8 | virginica |\n| 129 | 6.4 | 2.8 | 5.6 | 2.1 | virginica |\n| 130 | 7.2 | 3.0 | 5.8 | 1.6 | virginica |\n| 131 | 7.4 | 2.8 | 6.1 | 1.9 | virginica |\n| 132 | 7.9 | 3.8 | 6.4 | 2.0 | virginica |\n| 133 | 6.4 | 2.8 | 5.6 | 2.2 | virginica |\n| 134 | 6.3 | 2.8 | 5.1 | 1.5 | virginica |\n| 136 | 7.7 | 3.0 | 6.1 | 2.3 | virginica |\n| 137 | 6.3 | 3.4 | 5.6 | 2.4 | virginica |\n| 138 | 6.4 | 3.1 | 5.5 | 1.8 | virginica |\n| 139 | 6.0 | 3.0 | 4.8 | 1.8 | virginica |\n| 140 | 6.9 | 3.1 | 5.4 | 2.1 | virginica |\n| 141 | 6.7 | 3.1 | 5.6 | 2.4 | virginica |\n| 142 | 6.9 | 3.1 | 5.1 | 2.3 | virginica |\n| 143 | 5.8 | 2.7 | 5.1 | 1.9 | virginica |\n| 144 | 6.8 | 3.2 | 5.9 | 2.3 | virginica |\n| 145 | 6.7 | 3.3 | 5.7 | 2.5 | virginica |\n| 146 | 6.7 | 3.0 | 5.2 | 2.3 | virginica |\n| 147 | 6.3 | 2.5 | 5.0 | 1.9 | virginica |\n| 148 | 6.5 | 3.0 | 5.2 | 2.0 | virginica |\n| 149 | 6.2 | 3.4 | 5.4 | 2.3 | virginica |\n| 150 | 5.9 | 3.0 | 5.1 | 1.8 | virginica |\n\n",
            "text/latex": "A data.frame: 113 × 5\n\\begin{tabular}{r|lllll}\n  & Sepal.Length & Sepal.Width & Petal.Length & Petal.Width & Species\\\\\n  & <dbl> & <dbl> & <dbl> & <dbl> & <fct>\\\\\n\\hline\n\t1 & 5.1 & 3.5 & 1.4 & 0.2 & setosa\\\\\n\t2 & 4.9 & 3.0 & 1.4 & 0.2 & setosa\\\\\n\t3 & 4.7 & 3.2 & 1.3 & 0.2 & setosa\\\\\n\t4 & 4.6 & 3.1 & 1.5 & 0.2 & setosa\\\\\n\t5 & 5.0 & 3.6 & 1.4 & 0.2 & setosa\\\\\n\t6 & 5.4 & 3.9 & 1.7 & 0.4 & setosa\\\\\n\t7 & 4.6 & 3.4 & 1.4 & 0.3 & setosa\\\\\n\t8 & 5.0 & 3.4 & 1.5 & 0.2 & setosa\\\\\n\t9 & 4.4 & 2.9 & 1.4 & 0.2 & setosa\\\\\n\t10 & 4.9 & 3.1 & 1.5 & 0.1 & setosa\\\\\n\t11 & 5.4 & 3.7 & 1.5 & 0.2 & setosa\\\\\n\t12 & 4.8 & 3.4 & 1.6 & 0.2 & setosa\\\\\n\t13 & 4.8 & 3.0 & 1.4 & 0.1 & setosa\\\\\n\t14 & 4.3 & 3.0 & 1.1 & 0.1 & setosa\\\\\n\t15 & 5.8 & 4.0 & 1.2 & 0.2 & setosa\\\\\n\t16 & 5.7 & 4.4 & 1.5 & 0.4 & setosa\\\\\n\t17 & 5.4 & 3.9 & 1.3 & 0.4 & setosa\\\\\n\t18 & 5.1 & 3.5 & 1.4 & 0.3 & setosa\\\\\n\t19 & 5.7 & 3.8 & 1.7 & 0.3 & setosa\\\\\n\t20 & 5.1 & 3.8 & 1.5 & 0.3 & setosa\\\\\n\t21 & 5.4 & 3.4 & 1.7 & 0.2 & setosa\\\\\n\t22 & 5.1 & 3.7 & 1.5 & 0.4 & setosa\\\\\n\t23 & 4.6 & 3.6 & 1.0 & 0.2 & setosa\\\\\n\t24 & 5.1 & 3.3 & 1.7 & 0.5 & setosa\\\\\n\t25 & 4.8 & 3.4 & 1.9 & 0.2 & setosa\\\\\n\t26 & 5.0 & 3.0 & 1.6 & 0.2 & setosa\\\\\n\t27 & 5.0 & 3.4 & 1.6 & 0.4 & setosa\\\\\n\t28 & 5.2 & 3.5 & 1.5 & 0.2 & setosa\\\\\n\t29 & 5.2 & 3.4 & 1.4 & 0.2 & setosa\\\\\n\t30 & 4.7 & 3.2 & 1.6 & 0.2 & setosa\\\\\n\t⋮ & ⋮ & ⋮ & ⋮ & ⋮ & ⋮\\\\\n\t120 & 6.0 & 2.2 & 5.0 & 1.5 & virginica\\\\\n\t121 & 6.9 & 3.2 & 5.7 & 2.3 & virginica\\\\\n\t122 & 5.6 & 2.8 & 4.9 & 2.0 & virginica\\\\\n\t123 & 7.7 & 2.8 & 6.7 & 2.0 & virginica\\\\\n\t124 & 6.3 & 2.7 & 4.9 & 1.8 & virginica\\\\\n\t125 & 6.7 & 3.3 & 5.7 & 2.1 & virginica\\\\\n\t126 & 7.2 & 3.2 & 6.0 & 1.8 & virginica\\\\\n\t127 & 6.2 & 2.8 & 4.8 & 1.8 & virginica\\\\\n\t128 & 6.1 & 3.0 & 4.9 & 1.8 & virginica\\\\\n\t129 & 6.4 & 2.8 & 5.6 & 2.1 & virginica\\\\\n\t130 & 7.2 & 3.0 & 5.8 & 1.6 & virginica\\\\\n\t131 & 7.4 & 2.8 & 6.1 & 1.9 & virginica\\\\\n\t132 & 7.9 & 3.8 & 6.4 & 2.0 & virginica\\\\\n\t133 & 6.4 & 2.8 & 5.6 & 2.2 & virginica\\\\\n\t134 & 6.3 & 2.8 & 5.1 & 1.5 & virginica\\\\\n\t136 & 7.7 & 3.0 & 6.1 & 2.3 & virginica\\\\\n\t137 & 6.3 & 3.4 & 5.6 & 2.4 & virginica\\\\\n\t138 & 6.4 & 3.1 & 5.5 & 1.8 & virginica\\\\\n\t139 & 6.0 & 3.0 & 4.8 & 1.8 & virginica\\\\\n\t140 & 6.9 & 3.1 & 5.4 & 2.1 & virginica\\\\\n\t141 & 6.7 & 3.1 & 5.6 & 2.4 & virginica\\\\\n\t142 & 6.9 & 3.1 & 5.1 & 2.3 & virginica\\\\\n\t143 & 5.8 & 2.7 & 5.1 & 1.9 & virginica\\\\\n\t144 & 6.8 & 3.2 & 5.9 & 2.3 & virginica\\\\\n\t145 & 6.7 & 3.3 & 5.7 & 2.5 & virginica\\\\\n\t146 & 6.7 & 3.0 & 5.2 & 2.3 & virginica\\\\\n\t147 & 6.3 & 2.5 & 5.0 & 1.9 & virginica\\\\\n\t148 & 6.5 & 3.0 & 5.2 & 2.0 & virginica\\\\\n\t149 & 6.2 & 3.4 & 5.4 & 2.3 & virginica\\\\\n\t150 & 5.9 & 3.0 & 5.1 & 1.8 & virginica\\\\\n\\end{tabular}\n",
            "text/plain": [
              "    Sepal.Length Sepal.Width Petal.Length Petal.Width Species  \n",
              "1   5.1          3.5         1.4          0.2         setosa   \n",
              "2   4.9          3.0         1.4          0.2         setosa   \n",
              "3   4.7          3.2         1.3          0.2         setosa   \n",
              "4   4.6          3.1         1.5          0.2         setosa   \n",
              "5   5.0          3.6         1.4          0.2         setosa   \n",
              "6   5.4          3.9         1.7          0.4         setosa   \n",
              "7   4.6          3.4         1.4          0.3         setosa   \n",
              "8   5.0          3.4         1.5          0.2         setosa   \n",
              "9   4.4          2.9         1.4          0.2         setosa   \n",
              "10  4.9          3.1         1.5          0.1         setosa   \n",
              "11  5.4          3.7         1.5          0.2         setosa   \n",
              "12  4.8          3.4         1.6          0.2         setosa   \n",
              "13  4.8          3.0         1.4          0.1         setosa   \n",
              "14  4.3          3.0         1.1          0.1         setosa   \n",
              "15  5.8          4.0         1.2          0.2         setosa   \n",
              "16  5.7          4.4         1.5          0.4         setosa   \n",
              "17  5.4          3.9         1.3          0.4         setosa   \n",
              "18  5.1          3.5         1.4          0.3         setosa   \n",
              "19  5.7          3.8         1.7          0.3         setosa   \n",
              "20  5.1          3.8         1.5          0.3         setosa   \n",
              "21  5.4          3.4         1.7          0.2         setosa   \n",
              "22  5.1          3.7         1.5          0.4         setosa   \n",
              "23  4.6          3.6         1.0          0.2         setosa   \n",
              "24  5.1          3.3         1.7          0.5         setosa   \n",
              "25  4.8          3.4         1.9          0.2         setosa   \n",
              "26  5.0          3.0         1.6          0.2         setosa   \n",
              "27  5.0          3.4         1.6          0.4         setosa   \n",
              "28  5.2          3.5         1.5          0.2         setosa   \n",
              "29  5.2          3.4         1.4          0.2         setosa   \n",
              "30  4.7          3.2         1.6          0.2         setosa   \n",
              "⋮   ⋮            ⋮           ⋮            ⋮           ⋮        \n",
              "120 6.0          2.2         5.0          1.5         virginica\n",
              "121 6.9          3.2         5.7          2.3         virginica\n",
              "122 5.6          2.8         4.9          2.0         virginica\n",
              "123 7.7          2.8         6.7          2.0         virginica\n",
              "124 6.3          2.7         4.9          1.8         virginica\n",
              "125 6.7          3.3         5.7          2.1         virginica\n",
              "126 7.2          3.2         6.0          1.8         virginica\n",
              "127 6.2          2.8         4.8          1.8         virginica\n",
              "128 6.1          3.0         4.9          1.8         virginica\n",
              "129 6.4          2.8         5.6          2.1         virginica\n",
              "130 7.2          3.0         5.8          1.6         virginica\n",
              "131 7.4          2.8         6.1          1.9         virginica\n",
              "132 7.9          3.8         6.4          2.0         virginica\n",
              "133 6.4          2.8         5.6          2.2         virginica\n",
              "134 6.3          2.8         5.1          1.5         virginica\n",
              "136 7.7          3.0         6.1          2.3         virginica\n",
              "137 6.3          3.4         5.6          2.4         virginica\n",
              "138 6.4          3.1         5.5          1.8         virginica\n",
              "139 6.0          3.0         4.8          1.8         virginica\n",
              "140 6.9          3.1         5.4          2.1         virginica\n",
              "141 6.7          3.1         5.6          2.4         virginica\n",
              "142 6.9          3.1         5.1          2.3         virginica\n",
              "143 5.8          2.7         5.1          1.9         virginica\n",
              "144 6.8          3.2         5.9          2.3         virginica\n",
              "145 6.7          3.3         5.7          2.5         virginica\n",
              "146 6.7          3.0         5.2          2.3         virginica\n",
              "147 6.3          2.5         5.0          1.9         virginica\n",
              "148 6.5          3.0         5.2          2.0         virginica\n",
              "149 6.2          3.4         5.4          2.3         virginica\n",
              "150 5.9          3.0         5.1          1.8         virginica"
            ]
          },
          "metadata": {}
        }
      ]
    },
    {
      "cell_type": "markdown",
      "source": [
        "Seleccionar filas donde la especie sea virginica y se cumpla lo siguiente Petal.Length es mayor que 5.0 o Petal.Width es menor que 1.5."
      ],
      "metadata": {
        "id": "DmIpKLb0JraC"
      }
    },
    {
      "cell_type": "code",
      "source": [
        "ind <- iris$Species == \"virginica\" & ( iris$Petal.Length > 5.0 | iris$Petal.Width < 1.5 )\n",
        "iris[ind, ]"
      ],
      "metadata": {
        "colab": {
          "base_uri": "https://localhost:8080/",
          "height": 1000
        },
        "id": "jwV-RKIdJtyR",
        "outputId": "dd58c5e3-d9fa-42be-8be6-8683f8fd15c1"
      },
      "execution_count": null,
      "outputs": [
        {
          "output_type": "display_data",
          "data": {
            "text/html": [
              "<table class=\"dataframe\">\n",
              "<caption>A data.frame: 41 × 5</caption>\n",
              "<thead>\n",
              "\t<tr><th></th><th scope=col>Sepal.Length</th><th scope=col>Sepal.Width</th><th scope=col>Petal.Length</th><th scope=col>Petal.Width</th><th scope=col>Species</th></tr>\n",
              "\t<tr><th></th><th scope=col>&lt;dbl&gt;</th><th scope=col>&lt;dbl&gt;</th><th scope=col>&lt;dbl&gt;</th><th scope=col>&lt;dbl&gt;</th><th scope=col>&lt;fct&gt;</th></tr>\n",
              "</thead>\n",
              "<tbody>\n",
              "\t<tr><th scope=row>101</th><td>6.3</td><td>3.3</td><td>6.0</td><td>2.5</td><td>virginica</td></tr>\n",
              "\t<tr><th scope=row>102</th><td>5.8</td><td>2.7</td><td>5.1</td><td>1.9</td><td>virginica</td></tr>\n",
              "\t<tr><th scope=row>103</th><td>7.1</td><td>3.0</td><td>5.9</td><td>2.1</td><td>virginica</td></tr>\n",
              "\t<tr><th scope=row>104</th><td>6.3</td><td>2.9</td><td>5.6</td><td>1.8</td><td>virginica</td></tr>\n",
              "\t<tr><th scope=row>105</th><td>6.5</td><td>3.0</td><td>5.8</td><td>2.2</td><td>virginica</td></tr>\n",
              "\t<tr><th scope=row>106</th><td>7.6</td><td>3.0</td><td>6.6</td><td>2.1</td><td>virginica</td></tr>\n",
              "\t<tr><th scope=row>108</th><td>7.3</td><td>2.9</td><td>6.3</td><td>1.8</td><td>virginica</td></tr>\n",
              "\t<tr><th scope=row>109</th><td>6.7</td><td>2.5</td><td>5.8</td><td>1.8</td><td>virginica</td></tr>\n",
              "\t<tr><th scope=row>110</th><td>7.2</td><td>3.6</td><td>6.1</td><td>2.5</td><td>virginica</td></tr>\n",
              "\t<tr><th scope=row>111</th><td>6.5</td><td>3.2</td><td>5.1</td><td>2.0</td><td>virginica</td></tr>\n",
              "\t<tr><th scope=row>112</th><td>6.4</td><td>2.7</td><td>5.3</td><td>1.9</td><td>virginica</td></tr>\n",
              "\t<tr><th scope=row>113</th><td>6.8</td><td>3.0</td><td>5.5</td><td>2.1</td><td>virginica</td></tr>\n",
              "\t<tr><th scope=row>115</th><td>5.8</td><td>2.8</td><td>5.1</td><td>2.4</td><td>virginica</td></tr>\n",
              "\t<tr><th scope=row>116</th><td>6.4</td><td>3.2</td><td>5.3</td><td>2.3</td><td>virginica</td></tr>\n",
              "\t<tr><th scope=row>117</th><td>6.5</td><td>3.0</td><td>5.5</td><td>1.8</td><td>virginica</td></tr>\n",
              "\t<tr><th scope=row>118</th><td>7.7</td><td>3.8</td><td>6.7</td><td>2.2</td><td>virginica</td></tr>\n",
              "\t<tr><th scope=row>119</th><td>7.7</td><td>2.6</td><td>6.9</td><td>2.3</td><td>virginica</td></tr>\n",
              "\t<tr><th scope=row>121</th><td>6.9</td><td>3.2</td><td>5.7</td><td>2.3</td><td>virginica</td></tr>\n",
              "\t<tr><th scope=row>123</th><td>7.7</td><td>2.8</td><td>6.7</td><td>2.0</td><td>virginica</td></tr>\n",
              "\t<tr><th scope=row>125</th><td>6.7</td><td>3.3</td><td>5.7</td><td>2.1</td><td>virginica</td></tr>\n",
              "\t<tr><th scope=row>126</th><td>7.2</td><td>3.2</td><td>6.0</td><td>1.8</td><td>virginica</td></tr>\n",
              "\t<tr><th scope=row>129</th><td>6.4</td><td>2.8</td><td>5.6</td><td>2.1</td><td>virginica</td></tr>\n",
              "\t<tr><th scope=row>130</th><td>7.2</td><td>3.0</td><td>5.8</td><td>1.6</td><td>virginica</td></tr>\n",
              "\t<tr><th scope=row>131</th><td>7.4</td><td>2.8</td><td>6.1</td><td>1.9</td><td>virginica</td></tr>\n",
              "\t<tr><th scope=row>132</th><td>7.9</td><td>3.8</td><td>6.4</td><td>2.0</td><td>virginica</td></tr>\n",
              "\t<tr><th scope=row>133</th><td>6.4</td><td>2.8</td><td>5.6</td><td>2.2</td><td>virginica</td></tr>\n",
              "\t<tr><th scope=row>134</th><td>6.3</td><td>2.8</td><td>5.1</td><td>1.5</td><td>virginica</td></tr>\n",
              "\t<tr><th scope=row>135</th><td>6.1</td><td>2.6</td><td>5.6</td><td>1.4</td><td>virginica</td></tr>\n",
              "\t<tr><th scope=row>136</th><td>7.7</td><td>3.0</td><td>6.1</td><td>2.3</td><td>virginica</td></tr>\n",
              "\t<tr><th scope=row>137</th><td>6.3</td><td>3.4</td><td>5.6</td><td>2.4</td><td>virginica</td></tr>\n",
              "\t<tr><th scope=row>138</th><td>6.4</td><td>3.1</td><td>5.5</td><td>1.8</td><td>virginica</td></tr>\n",
              "\t<tr><th scope=row>140</th><td>6.9</td><td>3.1</td><td>5.4</td><td>2.1</td><td>virginica</td></tr>\n",
              "\t<tr><th scope=row>141</th><td>6.7</td><td>3.1</td><td>5.6</td><td>2.4</td><td>virginica</td></tr>\n",
              "\t<tr><th scope=row>142</th><td>6.9</td><td>3.1</td><td>5.1</td><td>2.3</td><td>virginica</td></tr>\n",
              "\t<tr><th scope=row>143</th><td>5.8</td><td>2.7</td><td>5.1</td><td>1.9</td><td>virginica</td></tr>\n",
              "\t<tr><th scope=row>144</th><td>6.8</td><td>3.2</td><td>5.9</td><td>2.3</td><td>virginica</td></tr>\n",
              "\t<tr><th scope=row>145</th><td>6.7</td><td>3.3</td><td>5.7</td><td>2.5</td><td>virginica</td></tr>\n",
              "\t<tr><th scope=row>146</th><td>6.7</td><td>3.0</td><td>5.2</td><td>2.3</td><td>virginica</td></tr>\n",
              "\t<tr><th scope=row>148</th><td>6.5</td><td>3.0</td><td>5.2</td><td>2.0</td><td>virginica</td></tr>\n",
              "\t<tr><th scope=row>149</th><td>6.2</td><td>3.4</td><td>5.4</td><td>2.3</td><td>virginica</td></tr>\n",
              "\t<tr><th scope=row>150</th><td>5.9</td><td>3.0</td><td>5.1</td><td>1.8</td><td>virginica</td></tr>\n",
              "</tbody>\n",
              "</table>\n"
            ],
            "text/markdown": "\nA data.frame: 41 × 5\n\n| <!--/--> | Sepal.Length &lt;dbl&gt; | Sepal.Width &lt;dbl&gt; | Petal.Length &lt;dbl&gt; | Petal.Width &lt;dbl&gt; | Species &lt;fct&gt; |\n|---|---|---|---|---|---|\n| 101 | 6.3 | 3.3 | 6.0 | 2.5 | virginica |\n| 102 | 5.8 | 2.7 | 5.1 | 1.9 | virginica |\n| 103 | 7.1 | 3.0 | 5.9 | 2.1 | virginica |\n| 104 | 6.3 | 2.9 | 5.6 | 1.8 | virginica |\n| 105 | 6.5 | 3.0 | 5.8 | 2.2 | virginica |\n| 106 | 7.6 | 3.0 | 6.6 | 2.1 | virginica |\n| 108 | 7.3 | 2.9 | 6.3 | 1.8 | virginica |\n| 109 | 6.7 | 2.5 | 5.8 | 1.8 | virginica |\n| 110 | 7.2 | 3.6 | 6.1 | 2.5 | virginica |\n| 111 | 6.5 | 3.2 | 5.1 | 2.0 | virginica |\n| 112 | 6.4 | 2.7 | 5.3 | 1.9 | virginica |\n| 113 | 6.8 | 3.0 | 5.5 | 2.1 | virginica |\n| 115 | 5.8 | 2.8 | 5.1 | 2.4 | virginica |\n| 116 | 6.4 | 3.2 | 5.3 | 2.3 | virginica |\n| 117 | 6.5 | 3.0 | 5.5 | 1.8 | virginica |\n| 118 | 7.7 | 3.8 | 6.7 | 2.2 | virginica |\n| 119 | 7.7 | 2.6 | 6.9 | 2.3 | virginica |\n| 121 | 6.9 | 3.2 | 5.7 | 2.3 | virginica |\n| 123 | 7.7 | 2.8 | 6.7 | 2.0 | virginica |\n| 125 | 6.7 | 3.3 | 5.7 | 2.1 | virginica |\n| 126 | 7.2 | 3.2 | 6.0 | 1.8 | virginica |\n| 129 | 6.4 | 2.8 | 5.6 | 2.1 | virginica |\n| 130 | 7.2 | 3.0 | 5.8 | 1.6 | virginica |\n| 131 | 7.4 | 2.8 | 6.1 | 1.9 | virginica |\n| 132 | 7.9 | 3.8 | 6.4 | 2.0 | virginica |\n| 133 | 6.4 | 2.8 | 5.6 | 2.2 | virginica |\n| 134 | 6.3 | 2.8 | 5.1 | 1.5 | virginica |\n| 135 | 6.1 | 2.6 | 5.6 | 1.4 | virginica |\n| 136 | 7.7 | 3.0 | 6.1 | 2.3 | virginica |\n| 137 | 6.3 | 3.4 | 5.6 | 2.4 | virginica |\n| 138 | 6.4 | 3.1 | 5.5 | 1.8 | virginica |\n| 140 | 6.9 | 3.1 | 5.4 | 2.1 | virginica |\n| 141 | 6.7 | 3.1 | 5.6 | 2.4 | virginica |\n| 142 | 6.9 | 3.1 | 5.1 | 2.3 | virginica |\n| 143 | 5.8 | 2.7 | 5.1 | 1.9 | virginica |\n| 144 | 6.8 | 3.2 | 5.9 | 2.3 | virginica |\n| 145 | 6.7 | 3.3 | 5.7 | 2.5 | virginica |\n| 146 | 6.7 | 3.0 | 5.2 | 2.3 | virginica |\n| 148 | 6.5 | 3.0 | 5.2 | 2.0 | virginica |\n| 149 | 6.2 | 3.4 | 5.4 | 2.3 | virginica |\n| 150 | 5.9 | 3.0 | 5.1 | 1.8 | virginica |\n\n",
            "text/latex": "A data.frame: 41 × 5\n\\begin{tabular}{r|lllll}\n  & Sepal.Length & Sepal.Width & Petal.Length & Petal.Width & Species\\\\\n  & <dbl> & <dbl> & <dbl> & <dbl> & <fct>\\\\\n\\hline\n\t101 & 6.3 & 3.3 & 6.0 & 2.5 & virginica\\\\\n\t102 & 5.8 & 2.7 & 5.1 & 1.9 & virginica\\\\\n\t103 & 7.1 & 3.0 & 5.9 & 2.1 & virginica\\\\\n\t104 & 6.3 & 2.9 & 5.6 & 1.8 & virginica\\\\\n\t105 & 6.5 & 3.0 & 5.8 & 2.2 & virginica\\\\\n\t106 & 7.6 & 3.0 & 6.6 & 2.1 & virginica\\\\\n\t108 & 7.3 & 2.9 & 6.3 & 1.8 & virginica\\\\\n\t109 & 6.7 & 2.5 & 5.8 & 1.8 & virginica\\\\\n\t110 & 7.2 & 3.6 & 6.1 & 2.5 & virginica\\\\\n\t111 & 6.5 & 3.2 & 5.1 & 2.0 & virginica\\\\\n\t112 & 6.4 & 2.7 & 5.3 & 1.9 & virginica\\\\\n\t113 & 6.8 & 3.0 & 5.5 & 2.1 & virginica\\\\\n\t115 & 5.8 & 2.8 & 5.1 & 2.4 & virginica\\\\\n\t116 & 6.4 & 3.2 & 5.3 & 2.3 & virginica\\\\\n\t117 & 6.5 & 3.0 & 5.5 & 1.8 & virginica\\\\\n\t118 & 7.7 & 3.8 & 6.7 & 2.2 & virginica\\\\\n\t119 & 7.7 & 2.6 & 6.9 & 2.3 & virginica\\\\\n\t121 & 6.9 & 3.2 & 5.7 & 2.3 & virginica\\\\\n\t123 & 7.7 & 2.8 & 6.7 & 2.0 & virginica\\\\\n\t125 & 6.7 & 3.3 & 5.7 & 2.1 & virginica\\\\\n\t126 & 7.2 & 3.2 & 6.0 & 1.8 & virginica\\\\\n\t129 & 6.4 & 2.8 & 5.6 & 2.1 & virginica\\\\\n\t130 & 7.2 & 3.0 & 5.8 & 1.6 & virginica\\\\\n\t131 & 7.4 & 2.8 & 6.1 & 1.9 & virginica\\\\\n\t132 & 7.9 & 3.8 & 6.4 & 2.0 & virginica\\\\\n\t133 & 6.4 & 2.8 & 5.6 & 2.2 & virginica\\\\\n\t134 & 6.3 & 2.8 & 5.1 & 1.5 & virginica\\\\\n\t135 & 6.1 & 2.6 & 5.6 & 1.4 & virginica\\\\\n\t136 & 7.7 & 3.0 & 6.1 & 2.3 & virginica\\\\\n\t137 & 6.3 & 3.4 & 5.6 & 2.4 & virginica\\\\\n\t138 & 6.4 & 3.1 & 5.5 & 1.8 & virginica\\\\\n\t140 & 6.9 & 3.1 & 5.4 & 2.1 & virginica\\\\\n\t141 & 6.7 & 3.1 & 5.6 & 2.4 & virginica\\\\\n\t142 & 6.9 & 3.1 & 5.1 & 2.3 & virginica\\\\\n\t143 & 5.8 & 2.7 & 5.1 & 1.9 & virginica\\\\\n\t144 & 6.8 & 3.2 & 5.9 & 2.3 & virginica\\\\\n\t145 & 6.7 & 3.3 & 5.7 & 2.5 & virginica\\\\\n\t146 & 6.7 & 3.0 & 5.2 & 2.3 & virginica\\\\\n\t148 & 6.5 & 3.0 & 5.2 & 2.0 & virginica\\\\\n\t149 & 6.2 & 3.4 & 5.4 & 2.3 & virginica\\\\\n\t150 & 5.9 & 3.0 & 5.1 & 1.8 & virginica\\\\\n\\end{tabular}\n",
            "text/plain": [
              "    Sepal.Length Sepal.Width Petal.Length Petal.Width Species  \n",
              "101 6.3          3.3         6.0          2.5         virginica\n",
              "102 5.8          2.7         5.1          1.9         virginica\n",
              "103 7.1          3.0         5.9          2.1         virginica\n",
              "104 6.3          2.9         5.6          1.8         virginica\n",
              "105 6.5          3.0         5.8          2.2         virginica\n",
              "106 7.6          3.0         6.6          2.1         virginica\n",
              "108 7.3          2.9         6.3          1.8         virginica\n",
              "109 6.7          2.5         5.8          1.8         virginica\n",
              "110 7.2          3.6         6.1          2.5         virginica\n",
              "111 6.5          3.2         5.1          2.0         virginica\n",
              "112 6.4          2.7         5.3          1.9         virginica\n",
              "113 6.8          3.0         5.5          2.1         virginica\n",
              "115 5.8          2.8         5.1          2.4         virginica\n",
              "116 6.4          3.2         5.3          2.3         virginica\n",
              "117 6.5          3.0         5.5          1.8         virginica\n",
              "118 7.7          3.8         6.7          2.2         virginica\n",
              "119 7.7          2.6         6.9          2.3         virginica\n",
              "121 6.9          3.2         5.7          2.3         virginica\n",
              "123 7.7          2.8         6.7          2.0         virginica\n",
              "125 6.7          3.3         5.7          2.1         virginica\n",
              "126 7.2          3.2         6.0          1.8         virginica\n",
              "129 6.4          2.8         5.6          2.1         virginica\n",
              "130 7.2          3.0         5.8          1.6         virginica\n",
              "131 7.4          2.8         6.1          1.9         virginica\n",
              "132 7.9          3.8         6.4          2.0         virginica\n",
              "133 6.4          2.8         5.6          2.2         virginica\n",
              "134 6.3          2.8         5.1          1.5         virginica\n",
              "135 6.1          2.6         5.6          1.4         virginica\n",
              "136 7.7          3.0         6.1          2.3         virginica\n",
              "137 6.3          3.4         5.6          2.4         virginica\n",
              "138 6.4          3.1         5.5          1.8         virginica\n",
              "140 6.9          3.1         5.4          2.1         virginica\n",
              "141 6.7          3.1         5.6          2.4         virginica\n",
              "142 6.9          3.1         5.1          2.3         virginica\n",
              "143 5.8          2.7         5.1          1.9         virginica\n",
              "144 6.8          3.2         5.9          2.3         virginica\n",
              "145 6.7          3.3         5.7          2.5         virginica\n",
              "146 6.7          3.0         5.2          2.3         virginica\n",
              "148 6.5          3.0         5.2          2.0         virginica\n",
              "149 6.2          3.4         5.4          2.3         virginica\n",
              "150 5.9          3.0         5.1          1.8         virginica"
            ]
          },
          "metadata": {}
        }
      ]
    },
    {
      "cell_type": "markdown",
      "source": [
        "**Como modificar un data frame**\n",
        "\n",
        "Para modificar un data frame debemos usar el operador de asignación (o reasignación), por ejemplo con el siguiente data frame:\n",
        "\n",
        "```\n",
        "df <- data.frame( dui = 1:7, edad = c(21, 23, 27, 28, 29, 30, 35),\n",
        "                  nombre = c(\"Juan\", \"Dora\", \"Hugo\",\n",
        "                             \"Francisco\", \"Luis\", \"Carlos\",  \n",
        "                             \"Mauricio\"))\n",
        "```    \n",
        "\n",
        "Podemos modificar el valor del nombre de la primera fila con la siguiente re-asignación:\n",
        "\n",
        "```\n",
        "df[1, \"nombre\"] <- \"Francisco\"\n",
        "```"
      ],
      "metadata": {
        "id": "0i5QeoXQUgpS"
      }
    },
    {
      "cell_type": "code",
      "source": [],
      "metadata": {
        "id": "LBura0_2JtI5"
      },
      "execution_count": null,
      "outputs": []
    },
    {
      "cell_type": "markdown",
      "source": [
        "**Como agregar filas a un data frame**\n",
        "\n",
        "Podemos agregar filas a un data frame usando la función rbind y creando una lista de la siguiente forma:\n",
        "\n",
        "```\n",
        "new_row <- list(dui = 8, edad = 46, nombre = \"Andres\")\n",
        "df <- rbind(df, new_row)\n",
        "```"
      ],
      "metadata": {
        "id": "xttNdUgnZrYp"
      }
    },
    {
      "cell_type": "code",
      "source": [
        "new_row <- list(dui = 8, edad = 46, nombre = \"Andres\")\n",
        "df <- rbind(df, new_row)"
      ],
      "metadata": {
        "id": "XW6qZWSlaQz-"
      },
      "execution_count": null,
      "outputs": []
    },
    {
      "cell_type": "markdown",
      "source": [
        "**Borrando columnas de un data frame**\n",
        "\n",
        "Para borrar las columnas de un data frame se debe asignar la columna al valor NULL, a continuación vamos a borrar la variable edad del data frame df.\n",
        "\n",
        "```\n",
        "head(df)\n",
        "df$edad <- NULL\n",
        "head(df)\n",
        "```"
      ],
      "metadata": {
        "id": "_8pwRurcYbk0"
      }
    },
    {
      "cell_type": "markdown",
      "source": [
        "**Borrando filas en un data frame**\n",
        "\n",
        "Para borrar filas en un data frame se puede hacer de dos formas:\n",
        "\n",
        "* Borrando filas basandome en una condición específica.  \n",
        "* Borrando filas por su índice.\n",
        "\n",
        "Puedes ver más detalles en el siguiente enlace:\n",
        "\n",
        "[Borrando filas en R](https://chat.openai.com/share/2b717d8f-7457-4053-9d91-76654452bda4)\n",
        "\n",
        "\n",
        "Por ejemplo si quisieramos borrar del data frame df a las filas que cumplen las condicion que el nombre sea Luis tendriamos que hacer lo siguiente:\n",
        "\n",
        "```\n",
        "df <- df[df$nombre != \"Luis\", ]\n",
        "```\n"
      ],
      "metadata": {
        "id": "LANz16e_ax8d"
      }
    },
    {
      "cell_type": "markdown",
      "source": [
        "**Ejercicio**\n",
        "\n",
        "En la columna Ozone del dataframe airquality del paquete datasets, cambiar los valores NA por 0.\n",
        "\n",
        "**Sugerencia**: Use la función is.na."
      ],
      "metadata": {
        "id": "Gt5CfkeC-qIG"
      }
    },
    {
      "cell_type": "markdown",
      "source": [
        "# Factores\n",
        "\n",
        "Los factores nos permiten representar las variables cualitativas las cuales pueden ser nominales y ordinales. Los niveles de un factor son los valores posibles que puede tomar la variable cualitativa.\n",
        "\n",
        "A continuación vamos a crear un factor y un vector de caracter con la misma información con el siguiente código.\n",
        "\n",
        "```\n",
        "x <- c(\"single\", \"married\", \"married\", \"single\")\n",
        "\n",
        "x\n",
        "\n",
        "x_factor <- factor(c(\"single\", \"married\", \"married\", \"single\"))\n",
        "\n",
        "x_factor\n",
        "```"
      ],
      "metadata": {
        "id": "jo8kCMUVKRug"
      }
    },
    {
      "cell_type": "markdown",
      "source": [
        "Resulta que las funciones de R tratan de manera diferente (polimorfismo) los vectores de caracteres y los factores, prueba de ello es el siguiente código:\n",
        "\n",
        "```\n",
        "summary(x)\n",
        "summary(x_factor)\n",
        "```"
      ],
      "metadata": {
        "id": "3VYwYA7cPJQc"
      }
    },
    {
      "cell_type": "markdown",
      "source": [
        "Tambien podemos definir los valores de los niveles de manera explicita como en el siguiente código.\n",
        "\n",
        "```\n",
        "x_factor <- factor(c(\"single\", \"married\", \"married\", \"single\"), levels = c(\"single\", \"married\", \"divorced\"))\n",
        "x_factor\n",
        "\n",
        "```"
      ],
      "metadata": {
        "id": "3KhYPX2fOg9W"
      }
    },
    {
      "cell_type": "markdown",
      "source": [
        "**Como accesar a los componentes de un factor**\n",
        "\n",
        "Para accesar a los componentes de un factor se hace de la misma manera que con los vectores."
      ],
      "metadata": {
        "id": "vCYnchkdP-lW"
      }
    },
    {
      "cell_type": "markdown",
      "source": [
        "**Como modificar un factor**\n",
        "\n",
        "Para modificar los componentes de  un factor se hace de la misma manera que con vectores, sin embargo, no se puede establecer valores diferentes a los niveles previamente asignados."
      ],
      "metadata": {
        "id": "ycjXd213QJnK"
      }
    },
    {
      "cell_type": "markdown",
      "source": [
        "**Consultando los níveles del factor**\n",
        "\n",
        "Para consultar los niveles de un factor se usa la función levels, a continuación detallo un ejemplo.\n",
        "\n",
        "```\n",
        "levels(x_factor)\n",
        "```"
      ],
      "metadata": {
        "id": "GEdEGcVmR4_d"
      }
    },
    {
      "cell_type": "markdown",
      "source": [
        "**Definiendo un factor ordernado**\n",
        "\n",
        "Para definir un factor ordenado hay que usar la opción ordered = TRUE, además al definir los niveles deben ir de menor a mayor.\n",
        "\n",
        "\n",
        "```\n",
        "x_factor_ordered <- factor(c(\"neutral\", \"good\", \"bad\", \"good\"), levels = c(\"bad\", \"neutral\", \"good\"), ordered = TRUE)\n",
        "x_factor_ordered\n",
        "\n",
        "```"
      ],
      "metadata": {
        "id": "NvZDGwilSkWk"
      }
    },
    {
      "cell_type": "markdown",
      "source": [
        "Podemos hacer comparaciones de orden en factores ordenados, por ejemplo:\n",
        "\n",
        "```\n",
        "x_factor_ordered[1] < x_factor_ordered[2]\n",
        "```"
      ],
      "metadata": {
        "id": "VfLwcX6AXjpU"
      }
    },
    {
      "cell_type": "markdown",
      "source": [
        "**Ejercicio**\n",
        "\n",
        "Realizar las siguientes tareas:\n",
        "\n",
        "1. Crear un vector responses que contenga 50, 10, 20, 30 y 25 observaciones respectivamente para cada uno de estos niveles: \"Very Unsatisfied\", \"Unsatisfied\", \"Neutral\", \"Satisfied\", and \"Very Satisfied\".\n",
        "\n",
        "2. Convertir el vector responses en un factor ordenado.\n",
        "\n",
        "3. Usar summary para desplegar un resumen del factor ordenado."
      ],
      "metadata": {
        "id": "Tohl2NV7AFWx"
      }
    },
    {
      "cell_type": "markdown",
      "source": [
        "# La instrucción if else\n",
        "\n",
        "**La instrucción if**\n",
        "\n",
        "La sintaxis de la instrucción if es:\n",
        "\n",
        "```\n",
        "if (test_expression){\n",
        "   statement\n",
        "}\n",
        "```\n",
        "\n"
      ],
      "metadata": {
        "id": "GWu4shqhakw2"
      }
    },
    {
      "cell_type": "markdown",
      "source": [
        "Si test_expression es verdadero (TRUE), la instrucción statement es ejecutada. Pero si es falsa (FALSE), el control del programa pasa a la línea despues de las llaves de cierre.\n",
        "\n",
        "Aquí, test_expression puede ser un vector lógico o vector númerico, pero solo el primer elemento es tomado en consideración.\n",
        "\n",
        "En el caso de vectores númericos, cero es tomado como falso (FALSE) y cualquier otro valor es tomado como verdadero (TRUE). A continuación mostramos el diagrama de flujo de la instrucción if.\n"
      ],
      "metadata": {
        "id": "tR3ivi9idNhK"
      }
    },
    {
      "cell_type": "markdown",
      "source": [
        "\n",
        "\n",
        "![If statement](https://raw.githubusercontent.com/ricardo-rios/fund_prog_est/main/UnidadI/if_statement.png \"If statement\")"
      ],
      "metadata": {
        "id": "FIxD1xL8hvSc"
      }
    },
    {
      "cell_type": "markdown",
      "source": [
        "A continuación mostramos un ejemplo de uso de la instrucción if.\n",
        "\n",
        "```\n",
        "x <- 5\n",
        "if (x > 0){\n",
        "   print(\"Positive number\")\n",
        "}\n",
        "```"
      ],
      "metadata": {
        "id": "K4EMob96iUmW"
      }
    }
  ]
}