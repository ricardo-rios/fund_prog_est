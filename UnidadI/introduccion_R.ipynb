{
  "nbformat": 4,
  "nbformat_minor": 0,
  "metadata": {
    "colab": {
      "provenance": []
    },
    "kernelspec": {
      "name": "ir",
      "display_name": "R"
    },
    "language_info": {
      "name": "R"
    }
  },
  "cells": [
    {
      "cell_type": "markdown",
      "source": [
        "# Practicando Markdown en google colab\n",
        "\n",
        "En la siguiente celda de texto y digitar lo siguiente:\n",
        "\n",
        "```markdown\n",
        "# Sección 1\n",
        "# Sección 2\n",
        "## Sub-sección bajo Sección 2\n",
        "```"
      ],
      "metadata": {
        "id": "2ZM7p3WzcVEM"
      }
    },
    {
      "cell_type": "markdown",
      "source": [],
      "metadata": {
        "id": "1ImaWm8bdCne"
      }
    },
    {
      "cell_type": "markdown",
      "source": [
        "En la siguiente celda de texto digitar lo siguiente:\n",
        "\n",
        "```markdown\n",
        "`**texto en negrita**`\n",
        "`*texto en italica*`\n",
        "`~~subrayado~~`\n",
        "```"
      ],
      "metadata": {
        "id": "SwwhZVumdEK9"
      }
    },
    {
      "cell_type": "markdown",
      "source": [],
      "metadata": {
        "id": "LXfTINE1d-t6"
      }
    },
    {
      "cell_type": "markdown",
      "source": [
        "En la siguiente celda de texto digitar lo siguiente:\n",
        "\n",
        "```markdown\n",
        "\n",
        "`[Enlace a Google](https://www.google.com)`\n",
        "\n",
        "```"
      ],
      "metadata": {
        "id": "j_thiDKXeFFH"
      }
    },
    {
      "cell_type": "markdown",
      "source": [],
      "metadata": {
        "id": "EPRaX4wWejQF"
      }
    },
    {
      "cell_type": "markdown",
      "source": [
        "En la siguiente celda de texto digitar lo siguiente:\n",
        "\n",
        "```markdown\n",
        "\n",
        "\n",
        "`![Una imagen](https://www.google.com/images/rss.png)`\n",
        "\n",
        "\n",
        "```"
      ],
      "metadata": {
        "id": "kQtGuDvKeufK"
      }
    },
    {
      "cell_type": "markdown",
      "source": [],
      "metadata": {
        "id": "mAYJkB90fAnF"
      }
    },
    {
      "cell_type": "markdown",
      "source": [
        "En la siguiente celda de código digitar:\n",
        "\n",
        "Bloque de código\n",
        "\n",
        "````\n",
        "```python\n",
        "print(\"a\")\n",
        "```\n",
        "````\n"
      ],
      "metadata": {
        "id": "09tbPKGmfRgE"
      }
    },
    {
      "cell_type": "markdown",
      "source": [],
      "metadata": {
        "id": "tYUHKf1bfcNB"
      }
    },
    {
      "cell_type": "markdown",
      "source": [
        "En la siguiente celda digitar:\n",
        "\n",
        "Listas ordenadas\n",
        "\n",
        "1. uno\n",
        "2. dos\n",
        "3. tres"
      ],
      "metadata": {
        "id": "xMbjvhBkfcsC"
      }
    },
    {
      "cell_type": "markdown",
      "source": [],
      "metadata": {
        "id": "XxadlYBkfwST"
      }
    },
    {
      "cell_type": "markdown",
      "source": [
        "En la siguiente celda digitar:\n",
        "\n",
        "Listas no-ordenadas\n",
        "\n",
        "* uno\n",
        "* dos\n",
        "* tres"
      ],
      "metadata": {
        "id": "xARiySSlfy_U"
      }
    },
    {
      "cell_type": "markdown",
      "source": [],
      "metadata": {
        "id": "804j6AaJf-2H"
      }
    },
    {
      "cell_type": "markdown",
      "source": [
        "En la siguiente celda digitar:\n",
        "\n",
        "```markdown\n",
        "\n",
        "$y=x^2$\n",
        "\n",
        "$\\frac{n!}{k!(n-k)!} = {n \\choose k}$\n",
        "\n",
        "```"
      ],
      "metadata": {
        "id": "5dPbmek9f_Z_"
      }
    },
    {
      "cell_type": "markdown",
      "source": [],
      "metadata": {
        "id": "-ho3t0CigWPd"
      }
    },
    {
      "cell_type": "markdown",
      "source": [
        "En la siguiente celda digitar:\n",
        "\n",
        "```markdown\n",
        "Nombre de primera columna  | Nombre de segunda columna\n",
        "-------------------|------------------\n",
        "Fila 1, Columna 1       | Fila 1, Columna 2\n",
        "Fila 2, Columna 1       | Fila 2, Columna 2\n",
        "\n",
        "```\n"
      ],
      "metadata": {
        "id": "izLmCg5kgXZu"
      }
    },
    {
      "cell_type": "markdown",
      "source": [],
      "metadata": {
        "id": "KtxkkFXzhWl0"
      }
    },
    {
      "cell_type": "markdown",
      "source": [
        "En la siguiente celda digitar:\n",
        "\n",
        "```markdown\n",
        "---\n",
        "```\n"
      ],
      "metadata": {
        "id": "HrehHPJhhaoM"
      }
    },
    {
      "cell_type": "markdown",
      "source": [],
      "metadata": {
        "id": "pe0iXS2Thzpx"
      }
    },
    {
      "cell_type": "markdown",
      "source": [
        "# Palabras reservadas en R\n",
        "\n",
        "Palabras reservadas en R son un conjunto de palabras que tienen un significado especial y no pueden ser usadas como identificadores (nombres de variables, nombres de funciones, etc)\n",
        "\n",
        "Digitar lo siguiente en una celda de código:\n",
        "\n",
        "```\n",
        "    help(reserved)\n",
        "```\n"
      ],
      "metadata": {
        "id": "-HJUyV2lh0OI"
      }
    },
    {
      "cell_type": "code",
      "source": [
        "help(reserved)"
      ],
      "metadata": {
        "id": "fODS59KLhUt1"
      },
      "execution_count": null,
      "outputs": []
    },
    {
      "cell_type": "markdown",
      "source": [
        "# Variables en R\n",
        "\n",
        "Variables en R son usadas para almacenar datos, cuyos valores pueden ser cambiados según los requerimientos. Nombres unicos dados a una variable (funciones y objetos) es un identificador.\n",
        "\n",
        "Reglas para escribir identificadores en R\n",
        "\n",
        "1.  Identificadores pueden ser una combinación de letras, dígitos, punto (.) y guion bajo (\\_)\n",
        "2.  Debe iniciar con una letra o un punto. Si este inicia con un punto, este no puede ser seguido por un digito\n",
        "3.  Palabras reservadas en R no pueden ser usadas como identificadores\n",
        "\n",
        "\n",
        "Ejemplo de identificadores validos\n",
        "\n",
        "```r\n",
        "    total, Sum, .fine.with.dot, this_is_acceptable, Number5\n",
        "```\n",
        "\n",
        "Ejemplo de identificadores invalidos\n",
        "\n",
        "```r\n",
        "    tot@l, 5um, _fine, TRUE, .0ne\n",
        "```\n",
        "\n",
        "\n",
        "**Buenas prácticas**\n",
        "\n",
        "Viejas versiones de R usaron el guion bajo (*) como operador de asignación. Así, el punto (.) fue usado en nombres de variables con múltiples palabras. Versiones actuales de R soportan el guion bajo (*) como identificador válido pero es una buena práctica usar punto como separador de palabras.\n",
        "\n",
        "Por ejemplo, a.variable.name es preferible sobre a_variable_name o tambien podemos usar la notación camello aVariableName.\n",
        "\n",
        "**Ejercicio**\n",
        "\n",
        "En la siguiente celda realizar lo siguiente:\n",
        "\n",
        "-   En una celda de código crear una variable con el nombre enero que tenga el valor de 100 correspondiente al número de tuercas en un almacen en enero\n",
        "-   En otra celda de código crear una variable con el nombre febrero que tenga el valor de 50 correspondiente al número de tuercas en un almacen en febrero\n",
        "-   En otra celda sumar las variables definidas anteriormente\n",
        "\n",
        "*Sugerencia*: Usar el operador de asignación \\<-\n"
      ],
      "metadata": {
        "id": "Er0ex40GideR"
      }
    },
    {
      "cell_type": "code",
      "source": [
        "enero <- 100"
      ],
      "metadata": {
        "id": "D0JnqMhjJmrk"
      },
      "execution_count": null,
      "outputs": []
    },
    {
      "cell_type": "code",
      "source": [
        "febrero <- 50"
      ],
      "metadata": {
        "id": "EWYHY7PYJtPZ"
      },
      "execution_count": null,
      "outputs": []
    },
    {
      "cell_type": "code",
      "source": [
        "enero + febrero"
      ],
      "metadata": {
        "colab": {
          "base_uri": "https://localhost:8080/",
          "height": 34
        },
        "id": "hFqXGCJSJv78",
        "outputId": "8ae847e3-d3a0-4518-e131-3b8afbb31d60"
      },
      "execution_count": null,
      "outputs": [
        {
          "output_type": "display_data",
          "data": {
            "text/html": [
              "150"
            ],
            "text/markdown": "150",
            "text/latex": "150",
            "text/plain": [
              "[1] 150"
            ]
          },
          "metadata": {}
        }
      ]
    },
    {
      "cell_type": "markdown",
      "source": [
        "# Constantes en R\n",
        "\n",
        "Constantes, como su nombre sugiere, son entidades cuyos valores no pueden ser alterados. Tipos básicos de constantes son constantes númericas y constantes de caracter.\n",
        "\n",
        "**Constantes númericas**\n",
        "\n",
        "Todos los números caen en esta categoria. Pueden ser de tipo integer, double y complex.\n",
        "\n",
        "Digitar y ejecutar lo siguiente en celdas de código distintas.\n",
        "\n",
        "```\n",
        "typeof(5)\n",
        "typeof(5L)\n",
        "typeof(5i)\n",
        "```\n"
      ],
      "metadata": {
        "id": "a3C_6dmxjoY9"
      }
    },
    {
      "cell_type": "code",
      "source": [
        "typeof(5)"
      ],
      "metadata": {
        "colab": {
          "base_uri": "https://localhost:8080/",
          "height": 34
        },
        "id": "PwypBbQfKUV2",
        "outputId": "3e9a7847-d7b5-4fc6-eab6-84932f8236c0"
      },
      "execution_count": null,
      "outputs": [
        {
          "output_type": "display_data",
          "data": {
            "text/html": [
              "'double'"
            ],
            "text/markdown": "'double'",
            "text/latex": "'double'",
            "text/plain": [
              "[1] \"double\""
            ]
          },
          "metadata": {}
        }
      ]
    },
    {
      "cell_type": "code",
      "source": [
        "typeof(5L)"
      ],
      "metadata": {
        "colab": {
          "base_uri": "https://localhost:8080/",
          "height": 34
        },
        "id": "a5vRiunWKcNT",
        "outputId": "4e76f9a4-e948-4087-dc2f-294294a78b8c"
      },
      "execution_count": null,
      "outputs": [
        {
          "output_type": "display_data",
          "data": {
            "text/html": [
              "'integer'"
            ],
            "text/markdown": "'integer'",
            "text/latex": "'integer'",
            "text/plain": [
              "[1] \"integer\""
            ]
          },
          "metadata": {}
        }
      ]
    },
    {
      "cell_type": "code",
      "source": [
        "typeof(5i)"
      ],
      "metadata": {
        "colab": {
          "base_uri": "https://localhost:8080/",
          "height": 34
        },
        "id": "1iukuRqrKj6R",
        "outputId": "caf79f6a-d399-473e-c878-46e666c20b43"
      },
      "execution_count": null,
      "outputs": [
        {
          "output_type": "display_data",
          "data": {
            "text/html": [
              "'complex'"
            ],
            "text/markdown": "'complex'",
            "text/latex": "'complex'",
            "text/plain": [
              "[1] \"complex\""
            ]
          },
          "metadata": {}
        }
      ]
    },
    {
      "cell_type": "markdown",
      "source": [
        "**Constantes de caracter**\n",
        "\n",
        "Caracteres pueden ser representados con comilla simple ' o comillas dobles \".\n",
        "\n",
        "Digitar y ejecutar lo siguiente en celdas de código distintas.\n",
        "\n",
        "```\n",
        "'example'\n",
        "typeof(\"5\")\n",
        "```\n"
      ],
      "metadata": {
        "id": "QMQ55Rvgj8t2"
      }
    },
    {
      "cell_type": "code",
      "source": [
        "'example'"
      ],
      "metadata": {
        "colab": {
          "base_uri": "https://localhost:8080/",
          "height": 34
        },
        "id": "YQqeUtdnK5k-",
        "outputId": "04f058a4-9fcf-421e-9c6c-b82a1e7c85df"
      },
      "execution_count": null,
      "outputs": [
        {
          "output_type": "display_data",
          "data": {
            "text/html": [
              "'example'"
            ],
            "text/markdown": "'example'",
            "text/latex": "'example'",
            "text/plain": [
              "[1] \"example\""
            ]
          },
          "metadata": {}
        }
      ]
    },
    {
      "cell_type": "code",
      "source": [
        "typeof(\"5\")"
      ],
      "metadata": {
        "colab": {
          "base_uri": "https://localhost:8080/",
          "height": 34
        },
        "id": "eQCRh2d2K6Xf",
        "outputId": "d2574868-1249-46d0-edd7-3bfb3331d260"
      },
      "execution_count": null,
      "outputs": [
        {
          "output_type": "display_data",
          "data": {
            "text/html": [
              "'character'"
            ],
            "text/markdown": "'character'",
            "text/latex": "'character'",
            "text/plain": [
              "[1] \"character\""
            ]
          },
          "metadata": {}
        }
      ]
    },
    {
      "cell_type": "markdown",
      "source": [
        "**Constantes ya incorporadas en el paquete base**\n",
        "\n",
        "\n",
        "Digitar y ejecutar lo siguiente en celdas de código distintas.\n",
        "\n",
        "```\n",
        "LETTERS\n",
        "letters\n",
        "pi\n",
        "month.name\n",
        "month.abb\n",
        "```\n"
      ],
      "metadata": {
        "id": "e6DRxT0jlumu"
      }
    },
    {
      "cell_type": "code",
      "source": [
        "help(LETTERS)"
      ],
      "metadata": {
        "id": "IEHde-ZILe19"
      },
      "execution_count": null,
      "outputs": []
    },
    {
      "cell_type": "code",
      "source": [
        "LETTERS"
      ],
      "metadata": {
        "colab": {
          "base_uri": "https://localhost:8080/",
          "height": 34
        },
        "id": "KU_-4tI7Lvs9",
        "outputId": "cecda1ce-6729-4b0f-9df7-ea996f2952fc"
      },
      "execution_count": null,
      "outputs": [
        {
          "output_type": "display_data",
          "data": {
            "text/html": [
              "<style>\n",
              ".list-inline {list-style: none; margin:0; padding: 0}\n",
              ".list-inline>li {display: inline-block}\n",
              ".list-inline>li:not(:last-child)::after {content: \"\\00b7\"; padding: 0 .5ex}\n",
              "</style>\n",
              "<ol class=list-inline><li>'A'</li><li>'B'</li><li>'C'</li><li>'D'</li><li>'E'</li><li>'F'</li><li>'G'</li><li>'H'</li><li>'I'</li><li>'J'</li><li>'K'</li><li>'L'</li><li>'M'</li><li>'N'</li><li>'O'</li><li>'P'</li><li>'Q'</li><li>'R'</li><li>'S'</li><li>'T'</li><li>'U'</li><li>'V'</li><li>'W'</li><li>'X'</li><li>'Y'</li><li>'Z'</li></ol>\n"
            ],
            "text/markdown": "1. 'A'\n2. 'B'\n3. 'C'\n4. 'D'\n5. 'E'\n6. 'F'\n7. 'G'\n8. 'H'\n9. 'I'\n10. 'J'\n11. 'K'\n12. 'L'\n13. 'M'\n14. 'N'\n15. 'O'\n16. 'P'\n17. 'Q'\n18. 'R'\n19. 'S'\n20. 'T'\n21. 'U'\n22. 'V'\n23. 'W'\n24. 'X'\n25. 'Y'\n26. 'Z'\n\n\n",
            "text/latex": "\\begin{enumerate*}\n\\item 'A'\n\\item 'B'\n\\item 'C'\n\\item 'D'\n\\item 'E'\n\\item 'F'\n\\item 'G'\n\\item 'H'\n\\item 'I'\n\\item 'J'\n\\item 'K'\n\\item 'L'\n\\item 'M'\n\\item 'N'\n\\item 'O'\n\\item 'P'\n\\item 'Q'\n\\item 'R'\n\\item 'S'\n\\item 'T'\n\\item 'U'\n\\item 'V'\n\\item 'W'\n\\item 'X'\n\\item 'Y'\n\\item 'Z'\n\\end{enumerate*}\n",
            "text/plain": [
              " [1] \"A\" \"B\" \"C\" \"D\" \"E\" \"F\" \"G\" \"H\" \"I\" \"J\" \"K\" \"L\" \"M\" \"N\" \"O\" \"P\" \"Q\" \"R\" \"S\"\n",
              "[20] \"T\" \"U\" \"V\" \"W\" \"X\" \"Y\" \"Z\""
            ]
          },
          "metadata": {}
        }
      ]
    },
    {
      "cell_type": "code",
      "source": [
        "letters"
      ],
      "metadata": {
        "colab": {
          "base_uri": "https://localhost:8080/",
          "height": 34
        },
        "id": "qWPH4peTLyLj",
        "outputId": "2ad9c294-8fd0-44bd-c502-780b4183ea2c"
      },
      "execution_count": null,
      "outputs": [
        {
          "output_type": "display_data",
          "data": {
            "text/html": [
              "<style>\n",
              ".list-inline {list-style: none; margin:0; padding: 0}\n",
              ".list-inline>li {display: inline-block}\n",
              ".list-inline>li:not(:last-child)::after {content: \"\\00b7\"; padding: 0 .5ex}\n",
              "</style>\n",
              "<ol class=list-inline><li>'a'</li><li>'b'</li><li>'c'</li><li>'d'</li><li>'e'</li><li>'f'</li><li>'g'</li><li>'h'</li><li>'i'</li><li>'j'</li><li>'k'</li><li>'l'</li><li>'m'</li><li>'n'</li><li>'o'</li><li>'p'</li><li>'q'</li><li>'r'</li><li>'s'</li><li>'t'</li><li>'u'</li><li>'v'</li><li>'w'</li><li>'x'</li><li>'y'</li><li>'z'</li></ol>\n"
            ],
            "text/markdown": "1. 'a'\n2. 'b'\n3. 'c'\n4. 'd'\n5. 'e'\n6. 'f'\n7. 'g'\n8. 'h'\n9. 'i'\n10. 'j'\n11. 'k'\n12. 'l'\n13. 'm'\n14. 'n'\n15. 'o'\n16. 'p'\n17. 'q'\n18. 'r'\n19. 's'\n20. 't'\n21. 'u'\n22. 'v'\n23. 'w'\n24. 'x'\n25. 'y'\n26. 'z'\n\n\n",
            "text/latex": "\\begin{enumerate*}\n\\item 'a'\n\\item 'b'\n\\item 'c'\n\\item 'd'\n\\item 'e'\n\\item 'f'\n\\item 'g'\n\\item 'h'\n\\item 'i'\n\\item 'j'\n\\item 'k'\n\\item 'l'\n\\item 'm'\n\\item 'n'\n\\item 'o'\n\\item 'p'\n\\item 'q'\n\\item 'r'\n\\item 's'\n\\item 't'\n\\item 'u'\n\\item 'v'\n\\item 'w'\n\\item 'x'\n\\item 'y'\n\\item 'z'\n\\end{enumerate*}\n",
            "text/plain": [
              " [1] \"a\" \"b\" \"c\" \"d\" \"e\" \"f\" \"g\" \"h\" \"i\" \"j\" \"k\" \"l\" \"m\" \"n\" \"o\" \"p\" \"q\" \"r\" \"s\"\n",
              "[20] \"t\" \"u\" \"v\" \"w\" \"x\" \"y\" \"z\""
            ]
          },
          "metadata": {}
        }
      ]
    },
    {
      "cell_type": "code",
      "source": [
        "pi"
      ],
      "metadata": {
        "colab": {
          "base_uri": "https://localhost:8080/",
          "height": 34
        },
        "id": "HXhUxQ_mMqAY",
        "outputId": "c3770be3-cf0b-45c4-b55f-8e2063ecda66"
      },
      "execution_count": null,
      "outputs": [
        {
          "output_type": "display_data",
          "data": {
            "text/html": [
              "3.14159265358979"
            ],
            "text/markdown": "3.14159265358979",
            "text/latex": "3.14159265358979",
            "text/plain": [
              "[1] 3.141593"
            ]
          },
          "metadata": {}
        }
      ]
    },
    {
      "cell_type": "code",
      "source": [
        "month.name"
      ],
      "metadata": {
        "colab": {
          "base_uri": "https://localhost:8080/",
          "height": 34
        },
        "id": "xPevXD86MthK",
        "outputId": "60f89abf-653d-40d9-a45c-162c01cc549a"
      },
      "execution_count": null,
      "outputs": [
        {
          "output_type": "display_data",
          "data": {
            "text/html": [
              "<style>\n",
              ".list-inline {list-style: none; margin:0; padding: 0}\n",
              ".list-inline>li {display: inline-block}\n",
              ".list-inline>li:not(:last-child)::after {content: \"\\00b7\"; padding: 0 .5ex}\n",
              "</style>\n",
              "<ol class=list-inline><li>'January'</li><li>'February'</li><li>'March'</li><li>'April'</li><li>'May'</li><li>'June'</li><li>'July'</li><li>'August'</li><li>'September'</li><li>'October'</li><li>'November'</li><li>'December'</li></ol>\n"
            ],
            "text/markdown": "1. 'January'\n2. 'February'\n3. 'March'\n4. 'April'\n5. 'May'\n6. 'June'\n7. 'July'\n8. 'August'\n9. 'September'\n10. 'October'\n11. 'November'\n12. 'December'\n\n\n",
            "text/latex": "\\begin{enumerate*}\n\\item 'January'\n\\item 'February'\n\\item 'March'\n\\item 'April'\n\\item 'May'\n\\item 'June'\n\\item 'July'\n\\item 'August'\n\\item 'September'\n\\item 'October'\n\\item 'November'\n\\item 'December'\n\\end{enumerate*}\n",
            "text/plain": [
              " [1] \"January\"   \"February\"  \"March\"     \"April\"     \"May\"       \"June\"     \n",
              " [7] \"July\"      \"August\"    \"September\" \"October\"   \"November\"  \"December\" "
            ]
          },
          "metadata": {}
        }
      ]
    },
    {
      "cell_type": "code",
      "source": [
        "month.abb"
      ],
      "metadata": {
        "colab": {
          "base_uri": "https://localhost:8080/",
          "height": 34
        },
        "id": "6AMUywmxMv0I",
        "outputId": "426e6408-e181-467c-b558-bf62ee3b28dc"
      },
      "execution_count": null,
      "outputs": [
        {
          "output_type": "display_data",
          "data": {
            "text/html": [
              "<style>\n",
              ".list-inline {list-style: none; margin:0; padding: 0}\n",
              ".list-inline>li {display: inline-block}\n",
              ".list-inline>li:not(:last-child)::after {content: \"\\00b7\"; padding: 0 .5ex}\n",
              "</style>\n",
              "<ol class=list-inline><li>'Jan'</li><li>'Feb'</li><li>'Mar'</li><li>'Apr'</li><li>'May'</li><li>'Jun'</li><li>'Jul'</li><li>'Aug'</li><li>'Sep'</li><li>'Oct'</li><li>'Nov'</li><li>'Dec'</li></ol>\n"
            ],
            "text/markdown": "1. 'Jan'\n2. 'Feb'\n3. 'Mar'\n4. 'Apr'\n5. 'May'\n6. 'Jun'\n7. 'Jul'\n8. 'Aug'\n9. 'Sep'\n10. 'Oct'\n11. 'Nov'\n12. 'Dec'\n\n\n",
            "text/latex": "\\begin{enumerate*}\n\\item 'Jan'\n\\item 'Feb'\n\\item 'Mar'\n\\item 'Apr'\n\\item 'May'\n\\item 'Jun'\n\\item 'Jul'\n\\item 'Aug'\n\\item 'Sep'\n\\item 'Oct'\n\\item 'Nov'\n\\item 'Dec'\n\\end{enumerate*}\n",
            "text/plain": [
              " [1] \"Jan\" \"Feb\" \"Mar\" \"Apr\" \"May\" \"Jun\" \"Jul\" \"Aug\" \"Sep\" \"Oct\" \"Nov\" \"Dec\""
            ]
          },
          "metadata": {}
        }
      ]
    },
    {
      "cell_type": "markdown",
      "source": [
        "# Operadores en R\n",
        "\n",
        "R tiene muchos operadores para llevar a cabo operaciones matemáticas y lógicas. Entre los tipos de operadores se detallan los siguientes:\n",
        "\n",
        "* Operadores aritméticos\n",
        "* Operadores relacionales\n",
        "* Operadores lógicos\n",
        "* Operadores de Asignación\n",
        "\n",
        "\n",
        "\n"
      ],
      "metadata": {
        "id": "HbfTdHqLmPTh"
      }
    },
    {
      "cell_type": "markdown",
      "source": [
        "**Operadores aritméticos**\n",
        "\n",
        "| Operador | Descripción                     |\n",
        "|----------|---------------------------------|\n",
        "| `+`      | Suma                        |\n",
        "| `-`      | Resta                     |\n",
        "| `*`      | Multiplicación                  |\n",
        "| `/`      | División                  |\n",
        "| `^`      | Exponenciación                  |\n",
        "| `%%`     | Modulo             |\n",
        "| `%/%`    | División Entera                |\n",
        "\n",
        "\n",
        "Estos operadores son usados para realizar operaciones aritméticas.\n",
        "\n"
      ],
      "metadata": {
        "id": "7wIEc6Ksmna4"
      }
    },
    {
      "cell_type": "code",
      "source": [
        "# Ejercicio\n",
        "\n",
        "4 %% 2"
      ],
      "metadata": {
        "colab": {
          "base_uri": "https://localhost:8080/",
          "height": 34
        },
        "id": "IAOFHmzEPFRj",
        "outputId": "372b98fc-4c2e-4f36-dcb3-18e40f759aab"
      },
      "execution_count": null,
      "outputs": [
        {
          "output_type": "display_data",
          "data": {
            "text/html": [
              "0"
            ],
            "text/markdown": "0",
            "text/latex": "0",
            "text/plain": [
              "[1] 0"
            ]
          },
          "metadata": {}
        }
      ]
    },
    {
      "cell_type": "code",
      "source": [
        "29 %% 13"
      ],
      "metadata": {
        "colab": {
          "base_uri": "https://localhost:8080/",
          "height": 34
        },
        "id": "Q5XC45qFPJeK",
        "outputId": "3d814fc8-c96d-4b0b-ce5b-02e1b5154baa"
      },
      "execution_count": null,
      "outputs": [
        {
          "output_type": "display_data",
          "data": {
            "text/html": [
              "3"
            ],
            "text/markdown": "3",
            "text/latex": "3",
            "text/plain": [
              "[1] 3"
            ]
          },
          "metadata": {}
        }
      ]
    },
    {
      "cell_type": "code",
      "source": [
        "10 %/% 3"
      ],
      "metadata": {
        "id": "fkiIh4OJilo2",
        "colab": {
          "base_uri": "https://localhost:8080/",
          "height": 34
        },
        "outputId": "181bd0bf-659e-4fe3-c744-4fa107a6a8cf"
      },
      "execution_count": null,
      "outputs": [
        {
          "output_type": "display_data",
          "data": {
            "text/html": [
              "3"
            ],
            "text/markdown": "3",
            "text/latex": "3",
            "text/plain": [
              "[1] 3"
            ]
          },
          "metadata": {}
        }
      ]
    },
    {
      "cell_type": "code",
      "source": [
        "10 / 3"
      ],
      "metadata": {
        "colab": {
          "base_uri": "https://localhost:8080/",
          "height": 34
        },
        "id": "x5RSQv5BPZml",
        "outputId": "22cefe47-76b5-49e9-b2f5-a051b30e671e"
      },
      "execution_count": null,
      "outputs": [
        {
          "output_type": "display_data",
          "data": {
            "text/html": [
              "3.33333333333333"
            ],
            "text/markdown": "3.33333333333333",
            "text/latex": "3.33333333333333",
            "text/plain": [
              "[1] 3.333333"
            ]
          },
          "metadata": {}
        }
      ]
    },
    {
      "cell_type": "code",
      "source": [
        "10L / 3L"
      ],
      "metadata": {
        "colab": {
          "base_uri": "https://localhost:8080/",
          "height": 34
        },
        "id": "awPh2nMzPbPd",
        "outputId": "d4bb1d13-849d-4b1e-8d84-f5652b6566a0"
      },
      "execution_count": null,
      "outputs": [
        {
          "output_type": "display_data",
          "data": {
            "text/html": [
              "3.33333333333333"
            ],
            "text/markdown": "3.33333333333333",
            "text/latex": "3.33333333333333",
            "text/plain": [
              "[1] 3.333333"
            ]
          },
          "metadata": {}
        }
      ]
    },
    {
      "cell_type": "code",
      "source": [
        "10 + 2"
      ],
      "metadata": {
        "colab": {
          "base_uri": "https://localhost:8080/",
          "height": 34
        },
        "id": "IH_ITFIyPs5_",
        "outputId": "111684b0-c29e-4b63-eb1e-19f39c08661e"
      },
      "execution_count": null,
      "outputs": [
        {
          "output_type": "display_data",
          "data": {
            "text/html": [
              "12"
            ],
            "text/markdown": "12",
            "text/latex": "12",
            "text/plain": [
              "[1] 12"
            ]
          },
          "metadata": {}
        }
      ]
    },
    {
      "cell_type": "code",
      "source": [
        "28 - 10"
      ],
      "metadata": {
        "colab": {
          "base_uri": "https://localhost:8080/",
          "height": 34
        },
        "id": "qH4GrZrdPueO",
        "outputId": "00fa515f-7289-433d-95ad-7139ed141366"
      },
      "execution_count": null,
      "outputs": [
        {
          "output_type": "display_data",
          "data": {
            "text/html": [
              "18"
            ],
            "text/markdown": "18",
            "text/latex": "18",
            "text/plain": [
              "[1] 18"
            ]
          },
          "metadata": {}
        }
      ]
    },
    {
      "cell_type": "code",
      "source": [
        "2^10"
      ],
      "metadata": {
        "colab": {
          "base_uri": "https://localhost:8080/",
          "height": 34
        },
        "id": "IGVV1z0NP0Eu",
        "outputId": "66cf264d-2a03-429b-a3bf-bbde35f30b49"
      },
      "execution_count": null,
      "outputs": [
        {
          "output_type": "display_data",
          "data": {
            "text/html": [
              "1024"
            ],
            "text/markdown": "1024",
            "text/latex": "1024",
            "text/plain": [
              "[1] 1024"
            ]
          },
          "metadata": {}
        }
      ]
    },
    {
      "cell_type": "markdown",
      "source": [
        "**Ejercicio**: Usando celdas de código:\n",
        "\n",
        "Imagina que tienes un jardín con la figura de un rectángulo, y tu quieres calcular el área, perímetro y la diagonal. La longitud del jardín es 10 metros y su ancho es 5 metros."
      ],
      "metadata": {
        "id": "bBLhUHMQP9VM"
      }
    },
    {
      "cell_type": "code",
      "source": [
        "l <- 10\n",
        "w <- 5\n",
        "l * w"
      ],
      "metadata": {
        "colab": {
          "base_uri": "https://localhost:8080/",
          "height": 34
        },
        "id": "cq3jix0ZP-9I",
        "outputId": "5616e3bd-ac92-4af7-c6a5-0806ff5f4953"
      },
      "execution_count": null,
      "outputs": [
        {
          "output_type": "display_data",
          "data": {
            "text/html": [
              "50"
            ],
            "text/markdown": "50",
            "text/latex": "50",
            "text/plain": [
              "[1] 50"
            ]
          },
          "metadata": {}
        }
      ]
    },
    {
      "cell_type": "code",
      "source": [
        "(l + w)*2"
      ],
      "metadata": {
        "colab": {
          "base_uri": "https://localhost:8080/",
          "height": 34
        },
        "id": "843CXokCRO6U",
        "outputId": "feda6323-b835-419f-bf6b-92afece9b202"
      },
      "execution_count": null,
      "outputs": [
        {
          "output_type": "display_data",
          "data": {
            "text/html": [
              "30"
            ],
            "text/markdown": "30",
            "text/latex": "30",
            "text/plain": [
              "[1] 30"
            ]
          },
          "metadata": {}
        }
      ]
    },
    {
      "cell_type": "code",
      "source": [
        "(l^2 + w^2)^(1/2)"
      ],
      "metadata": {
        "colab": {
          "base_uri": "https://localhost:8080/",
          "height": 34
        },
        "id": "TglXms8wSFGJ",
        "outputId": "bec74793-8ee4-45d7-f207-34dda2e447fb"
      },
      "execution_count": null,
      "outputs": [
        {
          "output_type": "display_data",
          "data": {
            "text/html": [
              "11.1803398874989"
            ],
            "text/markdown": "11.1803398874989",
            "text/latex": "11.1803398874989",
            "text/plain": [
              "[1] 11.18034"
            ]
          },
          "metadata": {}
        }
      ]
    },
    {
      "cell_type": "code",
      "source": [
        "sqrt((l^2 + w^2))"
      ],
      "metadata": {
        "colab": {
          "base_uri": "https://localhost:8080/",
          "height": 34
        },
        "id": "y5ITHNrESKjV",
        "outputId": "724cb067-b716-4469-887e-c8e253fe8744"
      },
      "execution_count": null,
      "outputs": [
        {
          "output_type": "display_data",
          "data": {
            "text/html": [
              "11.1803398874989"
            ],
            "text/markdown": "11.1803398874989",
            "text/latex": "11.1803398874989",
            "text/plain": [
              "[1] 11.18034"
            ]
          },
          "metadata": {}
        }
      ]
    },
    {
      "cell_type": "markdown",
      "source": [
        "**Operadores relacionales**\n",
        "\n",
        "Los operadores relacionales son usados para comparar valores.\n",
        "\n",
        "| Operador | Descripción                   |\n",
        "|----------|-------------------------------|\n",
        "| `==`     | Igual                    |\n",
        "| `!=`     | No es igual a                  |\n",
        "| `<`      | Menor que                 |\n",
        "| `<=`     | Menor o igual que         |\n",
        "| `>`      | Mayor que                  |\n",
        "| `>=`     | Mayor o igual que      |\n",
        "\n",
        "\n",
        "**Ejercicio**: Usando celdas de códigos calcule lo siguiente:\n",
        "\n",
        "```r\n",
        "x <- 5\n",
        "y <- 16\n",
        "x < y\n",
        "x > y\n",
        "x <= 5\n",
        "y >= 20\n",
        "y == 16\n",
        "x != 5\n",
        "```\n"
      ],
      "metadata": {
        "id": "3D91-Uckmxp-"
      }
    },
    {
      "cell_type": "code",
      "source": [
        "x <- 5\n",
        "y <- 16"
      ],
      "metadata": {
        "id": "3ndOaGpDm1QM"
      },
      "execution_count": null,
      "outputs": []
    },
    {
      "cell_type": "code",
      "source": [
        "x < y"
      ],
      "metadata": {
        "colab": {
          "base_uri": "https://localhost:8080/",
          "height": 34
        },
        "id": "gG7vyL73SlpM",
        "outputId": "8f5588ce-a8fd-43f6-df4c-43541c28c97b"
      },
      "execution_count": null,
      "outputs": [
        {
          "output_type": "display_data",
          "data": {
            "text/html": [
              "TRUE"
            ],
            "text/markdown": "TRUE",
            "text/latex": "TRUE",
            "text/plain": [
              "[1] TRUE"
            ]
          },
          "metadata": {}
        }
      ]
    },
    {
      "cell_type": "code",
      "source": [
        "x > y"
      ],
      "metadata": {
        "colab": {
          "base_uri": "https://localhost:8080/",
          "height": 34
        },
        "id": "ZDz4pTnxSnb8",
        "outputId": "75714564-b771-4fd1-b9a7-0402d2f3cf64"
      },
      "execution_count": null,
      "outputs": [
        {
          "output_type": "display_data",
          "data": {
            "text/html": [
              "FALSE"
            ],
            "text/markdown": "FALSE",
            "text/latex": "FALSE",
            "text/plain": [
              "[1] FALSE"
            ]
          },
          "metadata": {}
        }
      ]
    },
    {
      "cell_type": "code",
      "source": [
        "x <= 5"
      ],
      "metadata": {
        "colab": {
          "base_uri": "https://localhost:8080/",
          "height": 34
        },
        "id": "pPgeviy6Sn8z",
        "outputId": "48476833-fb78-4bc6-d032-84deff1505ca"
      },
      "execution_count": null,
      "outputs": [
        {
          "output_type": "display_data",
          "data": {
            "text/html": [
              "TRUE"
            ],
            "text/markdown": "TRUE",
            "text/latex": "TRUE",
            "text/plain": [
              "[1] TRUE"
            ]
          },
          "metadata": {}
        }
      ]
    },
    {
      "cell_type": "code",
      "source": [
        "y >= 20"
      ],
      "metadata": {
        "colab": {
          "base_uri": "https://localhost:8080/",
          "height": 34
        },
        "id": "_H8RTtvQSoWL",
        "outputId": "cb0494a0-8f7f-44c7-c691-d82b2e965f2f"
      },
      "execution_count": null,
      "outputs": [
        {
          "output_type": "display_data",
          "data": {
            "text/html": [
              "FALSE"
            ],
            "text/markdown": "FALSE",
            "text/latex": "FALSE",
            "text/plain": [
              "[1] FALSE"
            ]
          },
          "metadata": {}
        }
      ]
    },
    {
      "cell_type": "code",
      "source": [
        "y == 16"
      ],
      "metadata": {
        "colab": {
          "base_uri": "https://localhost:8080/",
          "height": 34
        },
        "id": "61OkCkq-TBer",
        "outputId": "37078d5d-00e5-4435-b730-04befa11f96d"
      },
      "execution_count": null,
      "outputs": [
        {
          "output_type": "display_data",
          "data": {
            "text/html": [
              "TRUE"
            ],
            "text/markdown": "TRUE",
            "text/latex": "TRUE",
            "text/plain": [
              "[1] TRUE"
            ]
          },
          "metadata": {}
        }
      ]
    },
    {
      "cell_type": "code",
      "source": [
        "x != 5"
      ],
      "metadata": {
        "colab": {
          "base_uri": "https://localhost:8080/",
          "height": 34
        },
        "id": "18ubuyymSoq7",
        "outputId": "e3fd70a8-6f4b-4655-db5b-a5c2f0539fdc"
      },
      "execution_count": null,
      "outputs": [
        {
          "output_type": "display_data",
          "data": {
            "text/html": [
              "FALSE"
            ],
            "text/markdown": "FALSE",
            "text/latex": "FALSE",
            "text/plain": [
              "[1] FALSE"
            ]
          },
          "metadata": {}
        }
      ]
    },
    {
      "cell_type": "markdown",
      "source": [
        "**Operadores lógicos**\n",
        "\n",
        "Los operadores lógicos permiten llevar a cabo operaciones booleanas tales como AND o OR.\n",
        "\n",
        "| Operator | Descripción             |\n",
        "|----------|-------------------------|\n",
        "| `&`      | Y lógico (usa ambos operandos) |\n",
        "| `&&`     | Y lógico              |\n",
        "| `\\|`      | O lógico (usa ambos operandos)         |\n",
        "| `\\|\\|`   | O lógicos              |\n",
        "| `!`      | Negación                     |\n",
        "\n",
        "Cero es considerado FALSE y valores diferentes de cero son tomados como TRUE.\n",
        "\n",
        "**Ejercicio**: Usando celdas de código calcule lo siguiente:\n",
        "\n",
        "```r\n",
        "x <- TRUE\n",
        "y <- FALSE\n",
        "x & y\n",
        "x & x\n",
        "x | y\n",
        "!x\n",
        "```\n"
      ],
      "metadata": {
        "id": "pfuwVWpAnFaG"
      }
    },
    {
      "cell_type": "code",
      "source": [],
      "metadata": {
        "id": "l1cK1bfonS7E"
      },
      "execution_count": null,
      "outputs": []
    },
    {
      "cell_type": "markdown",
      "source": [
        "**Operadores de asignación**\n",
        "\n",
        "\n",
        "| Operator | Descripción             |\n",
        "|----------|-------------------------|\n",
        "| `<-, <<-`      | El operador de asignación hacia la izquierda |\n",
        "| `->, ->>`     | El operador de asignación hacia la derecha              |\n",
        "| `=`      | El operador de asignación que usa el símbolo de igual   |\n",
        "\n",
        "\n",
        "El operador <- y = pueden ser usados indistintamente para asignar variables en el mismo entorno.\n",
        "\n",
        "El operador <<- es usado para asignar variables en el entorno padre. El operador de asignación hacia derecha aunque disponible es raramente usado.\n",
        "\n",
        "\n",
        "**Ejercicio**: Usando celdas de código calcule lo siguiente:\n",
        "\n",
        "\n",
        "```\n",
        "x <- 5\n",
        "x\n",
        "x <- 9\n",
        "x\n",
        "10 -> x\n",
        "x\n",
        "```\n",
        "\n"
      ],
      "metadata": {
        "id": "Vs56q9YbndO1"
      }
    },
    {
      "cell_type": "markdown",
      "source": [
        "# Precedencia de operadores y asociatividad\n",
        "\n",
        "**Precedencia de operadores**\n",
        "\n",
        "Ejecutar lo siguiente:\n",
        "\n",
        "```r\n",
        "2 + 6 * 5\n",
        "```"
      ],
      "metadata": {
        "id": "jY3Q-l3uSvhZ"
      }
    },
    {
      "cell_type": "markdown",
      "source": [
        "En la anterior expresión el operador * tiene mayor precedencia que +. Puedo cambiar la precedencia usando parentesis, ejecutar el sigueinte código.\n",
        "\n",
        "```\n",
        "(2 + 6) * 5\n",
        "```"
      ],
      "metadata": {
        "id": "UP7IxjTGU6jj"
      }
    },
    {
      "cell_type": "markdown",
      "source": [
        "**Asociatividad de los operadores**\n",
        "\n",
        "Ejecutar lo siguiente:\n",
        "\n",
        "```\n",
        "3 / 4 / 5\n",
        "```"
      ],
      "metadata": {
        "id": "3CxcfOz6VTy7"
      }
    },
    {
      "cell_type": "markdown",
      "source": [
        "El operador / es evaluado de izquierda a derecha."
      ],
      "metadata": {
        "id": "_HrNCfrEVg1H"
      }
    },
    {
      "cell_type": "markdown",
      "source": [
        "# Vectores en R\n",
        "\n",
        "Un vector es una estructura en R la cual contiene elementos del mismo tipo. Los tipos de datos pueden ser logicos, enteros, double, character, complex o raw.\n",
        "\n",
        "Otra importante propiedad de un vector es su longitud. Este es el número de elementos en el vector y puede ser verificado con la función length().\n",
        "\n",
        "Digite lo siguiente en celdas de código:\n",
        "\n",
        "```r\n",
        "x <- c(1, 5, 4, 9, 0)\n",
        "typeof(x)\n",
        "\n",
        "length(x)\n",
        "x <- c(1, 5.4, TRUE, \"hello\")\n",
        "x\n",
        "typeof(x)\n",
        "\n",
        "```"
      ],
      "metadata": {
        "id": "CZFyJPHnpZcs"
      }
    },
    {
      "cell_type": "code",
      "source": [],
      "metadata": {
        "id": "cAfEKQAzniVN"
      },
      "execution_count": null,
      "outputs": []
    },
    {
      "cell_type": "markdown",
      "source": [
        "**Creando un vector usando el operador :**\n",
        "\n",
        "Digite lo siguiente en celdas de código:\n",
        "\n",
        "```r\n",
        "# creando el vector x\n",
        "x <- 1:7\n",
        "x\n",
        "# creando el vector y\n",
        "y <- 2:-2\n",
        "y\n",
        "```\n",
        "\n"
      ],
      "metadata": {
        "id": "DnE09T0HqMEe"
      }
    },
    {
      "cell_type": "code",
      "source": [
        "x <- 1:7\n",
        "x\n",
        "# creando el vector y\n",
        "y <- 2:-2\n",
        "y"
      ],
      "metadata": {
        "id": "IJ-VWJN9BD3n",
        "outputId": "59023f6a-c1f9-4f98-e83b-9096d10d9eaf",
        "colab": {
          "base_uri": "https://localhost:8080/",
          "height": 52
        }
      },
      "execution_count": null,
      "outputs": [
        {
          "output_type": "display_data",
          "data": {
            "text/html": [
              "<style>\n",
              ".list-inline {list-style: none; margin:0; padding: 0}\n",
              ".list-inline>li {display: inline-block}\n",
              ".list-inline>li:not(:last-child)::after {content: \"\\00b7\"; padding: 0 .5ex}\n",
              "</style>\n",
              "<ol class=list-inline><li>1</li><li>2</li><li>3</li><li>4</li><li>5</li><li>6</li><li>7</li></ol>\n"
            ],
            "text/markdown": "1. 1\n2. 2\n3. 3\n4. 4\n5. 5\n6. 6\n7. 7\n\n\n",
            "text/latex": "\\begin{enumerate*}\n\\item 1\n\\item 2\n\\item 3\n\\item 4\n\\item 5\n\\item 6\n\\item 7\n\\end{enumerate*}\n",
            "text/plain": [
              "[1] 1 2 3 4 5 6 7"
            ]
          },
          "metadata": {}
        },
        {
          "output_type": "display_data",
          "data": {
            "text/html": [
              "<style>\n",
              ".list-inline {list-style: none; margin:0; padding: 0}\n",
              ".list-inline>li {display: inline-block}\n",
              ".list-inline>li:not(:last-child)::after {content: \"\\00b7\"; padding: 0 .5ex}\n",
              "</style>\n",
              "<ol class=list-inline><li>2</li><li>1</li><li>0</li><li>-1</li><li>-2</li></ol>\n"
            ],
            "text/markdown": "1. 2\n2. 1\n3. 0\n4. -1\n5. -2\n\n\n",
            "text/latex": "\\begin{enumerate*}\n\\item 2\n\\item 1\n\\item 0\n\\item -1\n\\item -2\n\\end{enumerate*}\n",
            "text/plain": [
              "[1]  2  1  0 -1 -2"
            ]
          },
          "metadata": {}
        }
      ]
    },
    {
      "cell_type": "code",
      "source": [],
      "metadata": {
        "id": "IRDxMu13qQst"
      },
      "execution_count": null,
      "outputs": []
    },
    {
      "cell_type": "markdown",
      "source": [
        "**Creando un vector usando la función seq**\n",
        "\n",
        "La función seq permite generar secuencias.\n",
        "\n",
        "Digite lo siguiente en celdas de código.\n",
        "\n",
        "```r\n",
        "seq(1, 3, by=0.2) # specify step size\n",
        "\n",
        "seq(1, 5, length.out=4) # specify length of the vector\n",
        "```"
      ],
      "metadata": {
        "id": "gAbxPHzaql_-"
      }
    },
    {
      "cell_type": "code",
      "source": [],
      "metadata": {
        "id": "N0w_73DzrCa-"
      },
      "execution_count": null,
      "outputs": []
    },
    {
      "cell_type": "markdown",
      "source": [
        "**Accesando elementos de un vector**\n",
        "\n",
        "**Usando vectores de enteros**\n",
        "\n",
        "Ejecutar lo siguiente:\n",
        "\n",
        "```\n",
        "x <- 1:7\n",
        "\n",
        "x[3]    \n",
        "\n",
        "x[c(2, 4)]     \n",
        "\n",
        "x[-1]          \n",
        "\n",
        "x[c(2, -4)]\n",
        "\n",
        "```"
      ],
      "metadata": {
        "id": "4wQv0P_xY9iy"
      }
    },
    {
      "cell_type": "code",
      "source": [
        "x <- 1:7\n",
        "x\n",
        "\n",
        "x[3]\n",
        "\n",
        "x[c(2, 4)]\n",
        "\n",
        "x[-1]"
      ],
      "metadata": {
        "id": "RzaulIEnBYGV",
        "outputId": "34af42ec-2675-4621-c034-bd32d0fb2b87",
        "colab": {
          "base_uri": "https://localhost:8080/",
          "height": 86
        }
      },
      "execution_count": null,
      "outputs": [
        {
          "output_type": "display_data",
          "data": {
            "text/html": [
              "<style>\n",
              ".list-inline {list-style: none; margin:0; padding: 0}\n",
              ".list-inline>li {display: inline-block}\n",
              ".list-inline>li:not(:last-child)::after {content: \"\\00b7\"; padding: 0 .5ex}\n",
              "</style>\n",
              "<ol class=list-inline><li>1</li><li>2</li><li>3</li><li>4</li><li>5</li><li>6</li><li>7</li></ol>\n"
            ],
            "text/markdown": "1. 1\n2. 2\n3. 3\n4. 4\n5. 5\n6. 6\n7. 7\n\n\n",
            "text/latex": "\\begin{enumerate*}\n\\item 1\n\\item 2\n\\item 3\n\\item 4\n\\item 5\n\\item 6\n\\item 7\n\\end{enumerate*}\n",
            "text/plain": [
              "[1] 1 2 3 4 5 6 7"
            ]
          },
          "metadata": {}
        },
        {
          "output_type": "display_data",
          "data": {
            "text/html": [
              "3"
            ],
            "text/markdown": "3",
            "text/latex": "3",
            "text/plain": [
              "[1] 3"
            ]
          },
          "metadata": {}
        },
        {
          "output_type": "display_data",
          "data": {
            "text/html": [
              "<style>\n",
              ".list-inline {list-style: none; margin:0; padding: 0}\n",
              ".list-inline>li {display: inline-block}\n",
              ".list-inline>li:not(:last-child)::after {content: \"\\00b7\"; padding: 0 .5ex}\n",
              "</style>\n",
              "<ol class=list-inline><li>2</li><li>4</li></ol>\n"
            ],
            "text/markdown": "1. 2\n2. 4\n\n\n",
            "text/latex": "\\begin{enumerate*}\n\\item 2\n\\item 4\n\\end{enumerate*}\n",
            "text/plain": [
              "[1] 2 4"
            ]
          },
          "metadata": {}
        },
        {
          "output_type": "display_data",
          "data": {
            "text/html": [
              "<style>\n",
              ".list-inline {list-style: none; margin:0; padding: 0}\n",
              ".list-inline>li {display: inline-block}\n",
              ".list-inline>li:not(:last-child)::after {content: \"\\00b7\"; padding: 0 .5ex}\n",
              "</style>\n",
              "<ol class=list-inline><li>2</li><li>3</li><li>4</li><li>5</li><li>6</li><li>7</li></ol>\n"
            ],
            "text/markdown": "1. 2\n2. 3\n3. 4\n4. 5\n5. 6\n6. 7\n\n\n",
            "text/latex": "\\begin{enumerate*}\n\\item 2\n\\item 3\n\\item 4\n\\item 5\n\\item 6\n\\item 7\n\\end{enumerate*}\n",
            "text/plain": [
              "[1] 2 3 4 5 6 7"
            ]
          },
          "metadata": {}
        }
      ]
    },
    {
      "cell_type": "code",
      "source": [
        "x[c(2, -4)]"
      ],
      "metadata": {
        "id": "fguDAHMSDc76",
        "outputId": "b3b0b060-6c91-4ee3-8584-f46344d1a943",
        "colab": {
          "base_uri": "https://localhost:8080/",
          "height": 72
        }
      },
      "execution_count": null,
      "outputs": [
        {
          "output_type": "error",
          "ename": "ERROR",
          "evalue": "Error in x[c(2, -4)]: only 0's may be mixed with negative subscripts\n",
          "traceback": [
            "Error in x[c(2, -4)]: only 0's may be mixed with negative subscripts\nTraceback:\n"
          ]
        }
      ]
    },
    {
      "cell_type": "markdown",
      "source": [
        "**Usando vectores lógicos**\n",
        "\n",
        "Ejecutar lo siguiente.\n",
        "\n",
        "```\n",
        "x <- 1:5\n",
        "x[c(TRUE, FALSE, FALSE, TRUE)]\n",
        "# filtrando basandonos en condiciones\n",
        "# Ojo: vamos a ver mejores formas de hacer esto\n",
        "# con verbos en el tidyverse.\n",
        "x[x < 0]\n",
        "x[x > 0]\n",
        "\n",
        "```"
      ],
      "metadata": {
        "id": "9sDlFPYqap3U"
      }
    },
    {
      "cell_type": "code",
      "source": [
        "x <- 1:5\n",
        "x\n",
        "c(TRUE, FALSE, FALSE, TRUE)\n",
        "x[c(TRUE, FALSE, FALSE, TRUE)]"
      ],
      "metadata": {
        "id": "ZJbA-C5MGgZ4",
        "outputId": "23a33337-52ac-4ced-f3e6-bc93db9fd4c0",
        "colab": {
          "base_uri": "https://localhost:8080/",
          "height": 69
        }
      },
      "execution_count": null,
      "outputs": [
        {
          "output_type": "display_data",
          "data": {
            "text/html": [
              "<style>\n",
              ".list-inline {list-style: none; margin:0; padding: 0}\n",
              ".list-inline>li {display: inline-block}\n",
              ".list-inline>li:not(:last-child)::after {content: \"\\00b7\"; padding: 0 .5ex}\n",
              "</style>\n",
              "<ol class=list-inline><li>1</li><li>2</li><li>3</li><li>4</li><li>5</li></ol>\n"
            ],
            "text/markdown": "1. 1\n2. 2\n3. 3\n4. 4\n5. 5\n\n\n",
            "text/latex": "\\begin{enumerate*}\n\\item 1\n\\item 2\n\\item 3\n\\item 4\n\\item 5\n\\end{enumerate*}\n",
            "text/plain": [
              "[1] 1 2 3 4 5"
            ]
          },
          "metadata": {}
        },
        {
          "output_type": "display_data",
          "data": {
            "text/html": [
              "<style>\n",
              ".list-inline {list-style: none; margin:0; padding: 0}\n",
              ".list-inline>li {display: inline-block}\n",
              ".list-inline>li:not(:last-child)::after {content: \"\\00b7\"; padding: 0 .5ex}\n",
              "</style>\n",
              "<ol class=list-inline><li>TRUE</li><li>FALSE</li><li>FALSE</li><li>TRUE</li></ol>\n"
            ],
            "text/markdown": "1. TRUE\n2. FALSE\n3. FALSE\n4. TRUE\n\n\n",
            "text/latex": "\\begin{enumerate*}\n\\item TRUE\n\\item FALSE\n\\item FALSE\n\\item TRUE\n\\end{enumerate*}\n",
            "text/plain": [
              "[1]  TRUE FALSE FALSE  TRUE"
            ]
          },
          "metadata": {}
        },
        {
          "output_type": "display_data",
          "data": {
            "text/html": [
              "<style>\n",
              ".list-inline {list-style: none; margin:0; padding: 0}\n",
              ".list-inline>li {display: inline-block}\n",
              ".list-inline>li:not(:last-child)::after {content: \"\\00b7\"; padding: 0 .5ex}\n",
              "</style>\n",
              "<ol class=list-inline><li>1</li><li>4</li><li>5</li></ol>\n"
            ],
            "text/markdown": "1. 1\n2. 4\n3. 5\n\n\n",
            "text/latex": "\\begin{enumerate*}\n\\item 1\n\\item 4\n\\item 5\n\\end{enumerate*}\n",
            "text/plain": [
              "[1] 1 4 5"
            ]
          },
          "metadata": {}
        }
      ]
    },
    {
      "cell_type": "code",
      "source": [
        "x"
      ],
      "metadata": {
        "id": "oj2Zy5htG6Wq",
        "outputId": "c852af3a-873c-4bc2-ff22-bc8d71cd7d2a",
        "colab": {
          "base_uri": "https://localhost:8080/",
          "height": 34
        }
      },
      "execution_count": null,
      "outputs": [
        {
          "output_type": "display_data",
          "data": {
            "text/html": [
              "<style>\n",
              ".list-inline {list-style: none; margin:0; padding: 0}\n",
              ".list-inline>li {display: inline-block}\n",
              ".list-inline>li:not(:last-child)::after {content: \"\\00b7\"; padding: 0 .5ex}\n",
              "</style>\n",
              "<ol class=list-inline><li>1</li><li>2</li><li>3</li><li>4</li><li>5</li></ol>\n"
            ],
            "text/markdown": "1. 1\n2. 2\n3. 3\n4. 4\n5. 5\n\n\n",
            "text/latex": "\\begin{enumerate*}\n\\item 1\n\\item 2\n\\item 3\n\\item 4\n\\item 5\n\\end{enumerate*}\n",
            "text/plain": [
              "[1] 1 2 3 4 5"
            ]
          },
          "metadata": {}
        }
      ]
    },
    {
      "cell_type": "code",
      "source": [
        "x < 0"
      ],
      "metadata": {
        "id": "5Dug4hzjG9fQ",
        "outputId": "243005b6-3e5d-45ba-a84a-dbfef7ca8e92",
        "colab": {
          "base_uri": "https://localhost:8080/",
          "height": 34
        }
      },
      "execution_count": null,
      "outputs": [
        {
          "output_type": "display_data",
          "data": {
            "text/html": [
              "<style>\n",
              ".list-inline {list-style: none; margin:0; padding: 0}\n",
              ".list-inline>li {display: inline-block}\n",
              ".list-inline>li:not(:last-child)::after {content: \"\\00b7\"; padding: 0 .5ex}\n",
              "</style>\n",
              "<ol class=list-inline><li>FALSE</li><li>FALSE</li><li>FALSE</li><li>FALSE</li><li>FALSE</li></ol>\n"
            ],
            "text/markdown": "1. FALSE\n2. FALSE\n3. FALSE\n4. FALSE\n5. FALSE\n\n\n",
            "text/latex": "\\begin{enumerate*}\n\\item FALSE\n\\item FALSE\n\\item FALSE\n\\item FALSE\n\\item FALSE\n\\end{enumerate*}\n",
            "text/plain": [
              "[1] FALSE FALSE FALSE FALSE FALSE"
            ]
          },
          "metadata": {}
        }
      ]
    },
    {
      "cell_type": "code",
      "source": [
        "print(x[x < 0]) # vector de longitud 0\n"
      ],
      "metadata": {
        "id": "XABSb50qG1BK",
        "outputId": "92be447f-4d53-4aa1-a78f-2012d4ea5503",
        "colab": {
          "base_uri": "https://localhost:8080/"
        }
      },
      "execution_count": null,
      "outputs": [
        {
          "output_type": "stream",
          "name": "stdout",
          "text": [
            "integer(0)\n"
          ]
        }
      ]
    },
    {
      "cell_type": "code",
      "source": [
        "x[x > 0]"
      ],
      "metadata": {
        "id": "Gr5qDZaLG2Ep",
        "outputId": "f658597f-04bd-431e-c873-7a7792c3aa8a",
        "colab": {
          "base_uri": "https://localhost:8080/",
          "height": 34
        }
      },
      "execution_count": null,
      "outputs": [
        {
          "output_type": "display_data",
          "data": {
            "text/html": [
              "<style>\n",
              ".list-inline {list-style: none; margin:0; padding: 0}\n",
              ".list-inline>li {display: inline-block}\n",
              ".list-inline>li:not(:last-child)::after {content: \"\\00b7\"; padding: 0 .5ex}\n",
              "</style>\n",
              "<ol class=list-inline><li>1</li><li>2</li><li>3</li><li>4</li><li>5</li></ol>\n"
            ],
            "text/markdown": "1. 1\n2. 2\n3. 3\n4. 4\n5. 5\n\n\n",
            "text/latex": "\\begin{enumerate*}\n\\item 1\n\\item 2\n\\item 3\n\\item 4\n\\item 5\n\\end{enumerate*}\n",
            "text/plain": [
              "[1] 1 2 3 4 5"
            ]
          },
          "metadata": {}
        }
      ]
    },
    {
      "cell_type": "markdown",
      "source": [
        "**Modificando los valores de un vector**\n",
        "\n",
        "\n",
        "Ejecutar lo siguiente:\n",
        "\n",
        "```\n",
        "x <- c(-3,-2,-1,0,1,2)\n",
        "\n",
        "x[2] <- 0\n",
        "x        \n",
        "\n",
        "x[x<0] <- 5\n",
        "x   \n",
        "\n",
        "```"
      ],
      "metadata": {
        "id": "c1dNxs1ycVW3"
      }
    },
    {
      "cell_type": "code",
      "source": [
        "x <- c(-3,-2,-1,0,1,2)\n",
        "\n",
        "x[2] <- 0\n",
        "x\n",
        "\n",
        "x[x<0] <- 5\n",
        "x"
      ],
      "metadata": {
        "id": "baLAPTDgJNkF",
        "outputId": "f97add1b-2d97-4878-be14-e59063802e03",
        "colab": {
          "base_uri": "https://localhost:8080/",
          "height": 52
        }
      },
      "execution_count": null,
      "outputs": [
        {
          "output_type": "display_data",
          "data": {
            "text/html": [
              "<style>\n",
              ".list-inline {list-style: none; margin:0; padding: 0}\n",
              ".list-inline>li {display: inline-block}\n",
              ".list-inline>li:not(:last-child)::after {content: \"\\00b7\"; padding: 0 .5ex}\n",
              "</style>\n",
              "<ol class=list-inline><li>-3</li><li>0</li><li>-1</li><li>0</li><li>1</li><li>2</li></ol>\n"
            ],
            "text/markdown": "1. -3\n2. 0\n3. -1\n4. 0\n5. 1\n6. 2\n\n\n",
            "text/latex": "\\begin{enumerate*}\n\\item -3\n\\item 0\n\\item -1\n\\item 0\n\\item 1\n\\item 2\n\\end{enumerate*}\n",
            "text/plain": [
              "[1] -3  0 -1  0  1  2"
            ]
          },
          "metadata": {}
        },
        {
          "output_type": "display_data",
          "data": {
            "text/html": [
              "<style>\n",
              ".list-inline {list-style: none; margin:0; padding: 0}\n",
              ".list-inline>li {display: inline-block}\n",
              ".list-inline>li:not(:last-child)::after {content: \"\\00b7\"; padding: 0 .5ex}\n",
              "</style>\n",
              "<ol class=list-inline><li>5</li><li>0</li><li>5</li><li>0</li><li>1</li><li>2</li></ol>\n"
            ],
            "text/markdown": "1. 5\n2. 0\n3. 5\n4. 0\n5. 1\n6. 2\n\n\n",
            "text/latex": "\\begin{enumerate*}\n\\item 5\n\\item 0\n\\item 5\n\\item 0\n\\item 1\n\\item 2\n\\end{enumerate*}\n",
            "text/plain": [
              "[1] 5 0 5 0 1 2"
            ]
          },
          "metadata": {}
        }
      ]
    },
    {
      "cell_type": "markdown",
      "source": [
        "**Ejercicio**\n",
        "\n",
        "* La siguiente tabla representa datos de temperatura máxima en El Salvador del 11 al 15 de marzo.\n",
        "\n",
        "| Lunes  | Martes  | Miércoles  | Jueves  | Viernes  |\n",
        "|---|---|---|---|---|\n",
        "| 35  | 33  |  33 | 32  |  30 |\n",
        "\n",
        "* Crear un vector con la anterior información.\n",
        "\n",
        "* Calcular el máximo valor de temperatura usando la función max\n",
        "\n",
        "* Investigar como poner nombres a los elementos del vector anterior. Puede usar ChatGPT o google.\n",
        "\n",
        "* Usar la función summary sobre el vector\n",
        "\n",
        "* Accesar a los elementos que van de Lunes a Jueves\n",
        "\n",
        "* Modificar el valor de Jueves por 35\n",
        "\n"
      ],
      "metadata": {
        "id": "vIfP3CxMjw2N"
      }
    },
    {
      "cell_type": "code",
      "source": [
        " temper <-c(35  , 33  ,  33 , 32  ,  30 )"
      ],
      "metadata": {
        "id": "jc5A5wZfLnlr"
      },
      "execution_count": null,
      "outputs": []
    },
    {
      "cell_type": "code",
      "source": [
        "temper"
      ],
      "metadata": {
        "id": "FtqldewILyQ7",
        "outputId": "c3c05958-8e32-4389-922c-3305e2d8c390",
        "colab": {
          "base_uri": "https://localhost:8080/",
          "height": 34
        }
      },
      "execution_count": null,
      "outputs": [
        {
          "output_type": "display_data",
          "data": {
            "text/html": [
              "<style>\n",
              ".list-inline {list-style: none; margin:0; padding: 0}\n",
              ".list-inline>li {display: inline-block}\n",
              ".list-inline>li:not(:last-child)::after {content: \"\\00b7\"; padding: 0 .5ex}\n",
              "</style>\n",
              "<ol class=list-inline><li>35</li><li>33</li><li>33</li><li>32</li><li>30</li></ol>\n"
            ],
            "text/markdown": "1. 35\n2. 33\n3. 33\n4. 32\n5. 30\n\n\n",
            "text/latex": "\\begin{enumerate*}\n\\item 35\n\\item 33\n\\item 33\n\\item 32\n\\item 30\n\\end{enumerate*}\n",
            "text/plain": [
              "[1] 35 33 33 32 30"
            ]
          },
          "metadata": {}
        }
      ]
    },
    {
      "cell_type": "code",
      "source": [
        "temper"
      ],
      "metadata": {
        "id": "nxMGVpK7NUzt",
        "outputId": "57d6844a-0c6d-4261-ef64-1d8a3e52b2f5",
        "colab": {
          "base_uri": "https://localhost:8080/",
          "height": 34
        }
      },
      "execution_count": null,
      "outputs": [
        {
          "output_type": "display_data",
          "data": {
            "text/html": [
              "<style>\n",
              ".list-inline {list-style: none; margin:0; padding: 0}\n",
              ".list-inline>li {display: inline-block}\n",
              ".list-inline>li:not(:last-child)::after {content: \"\\00b7\"; padding: 0 .5ex}\n",
              "</style>\n",
              "<ol class=list-inline><li>35</li><li>33</li><li>33</li><li>32</li><li>30</li></ol>\n"
            ],
            "text/markdown": "1. 35\n2. 33\n3. 33\n4. 32\n5. 30\n\n\n",
            "text/latex": "\\begin{enumerate*}\n\\item 35\n\\item 33\n\\item 33\n\\item 32\n\\item 30\n\\end{enumerate*}\n",
            "text/plain": [
              "[1] 35 33 33 32 30"
            ]
          },
          "metadata": {}
        }
      ]
    },
    {
      "cell_type": "code",
      "source": [
        "max(temper)"
      ],
      "metadata": {
        "colab": {
          "base_uri": "https://localhost:8080/",
          "height": 34
        },
        "id": "zSeEvlbs27zk",
        "outputId": "4edbc257-fe3b-4c66-e15b-e6fce52b0d21"
      },
      "execution_count": null,
      "outputs": [
        {
          "output_type": "display_data",
          "data": {
            "text/html": [
              "35"
            ],
            "text/markdown": "35",
            "text/latex": "35",
            "text/plain": [
              "[1] 35"
            ]
          },
          "metadata": {}
        }
      ]
    },
    {
      "cell_type": "code",
      "source": [
        "names(temper) <- c(\"Lunes\", \"Martes\", \"Miércoles\", \"Jueves\", \"Viernes\")"
      ],
      "metadata": {
        "id": "8v_c1vN2284C"
      },
      "execution_count": null,
      "outputs": []
    },
    {
      "cell_type": "code",
      "source": [
        "as.matrix(temper)"
      ],
      "metadata": {
        "id": "URq-RWpeNfKJ",
        "outputId": "f15cad16-d697-4a71-91f6-14226eb5913c",
        "colab": {
          "base_uri": "https://localhost:8080/",
          "height": 209
        }
      },
      "execution_count": null,
      "outputs": [
        {
          "output_type": "display_data",
          "data": {
            "text/html": [
              "<table class=\"dataframe\">\n",
              "<caption>A matrix: 5 × 1 of type dbl</caption>\n",
              "<tbody>\n",
              "\t<tr><th scope=row>Lunes</th><td>35</td></tr>\n",
              "\t<tr><th scope=row>Martes</th><td>33</td></tr>\n",
              "\t<tr><th scope=row>Miércoles</th><td>33</td></tr>\n",
              "\t<tr><th scope=row>Jueves</th><td>32</td></tr>\n",
              "\t<tr><th scope=row>Viernes</th><td>30</td></tr>\n",
              "</tbody>\n",
              "</table>\n"
            ],
            "text/markdown": "\nA matrix: 5 × 1 of type dbl\n\n| Lunes | 35 |\n| Martes | 33 |\n| Miércoles | 33 |\n| Jueves | 32 |\n| Viernes | 30 |\n\n",
            "text/latex": "A matrix: 5 × 1 of type dbl\n\\begin{tabular}{r|l}\n\tLunes & 35\\\\\n\tMartes & 33\\\\\n\tMiércoles & 33\\\\\n\tJueves & 32\\\\\n\tViernes & 30\\\\\n\\end{tabular}\n",
            "text/plain": [
              "          [,1]\n",
              "Lunes     35  \n",
              "Martes    33  \n",
              "Miércoles 33  \n",
              "Jueves    32  \n",
              "Viernes   30  "
            ]
          },
          "metadata": {}
        }
      ]
    },
    {
      "cell_type": "code",
      "source": [
        "t(as.matrix(temper))"
      ],
      "metadata": {
        "id": "8_sVNY1GNxxK",
        "outputId": "cd10f3a7-fa58-4251-c379-798453ad278f",
        "colab": {
          "base_uri": "https://localhost:8080/",
          "height": 98
        }
      },
      "execution_count": null,
      "outputs": [
        {
          "output_type": "display_data",
          "data": {
            "text/html": [
              "<table class=\"dataframe\">\n",
              "<caption>A matrix: 1 × 5 of type dbl</caption>\n",
              "<thead>\n",
              "\t<tr><th scope=col>Lunes</th><th scope=col>Martes</th><th scope=col>Miércoles</th><th scope=col>Jueves</th><th scope=col>Viernes</th></tr>\n",
              "</thead>\n",
              "<tbody>\n",
              "\t<tr><td>35</td><td>33</td><td>33</td><td>32</td><td>30</td></tr>\n",
              "</tbody>\n",
              "</table>\n"
            ],
            "text/markdown": "\nA matrix: 1 × 5 of type dbl\n\n| Lunes | Martes | Miércoles | Jueves | Viernes |\n|---|---|---|---|---|\n| 35 | 33 | 33 | 32 | 30 |\n\n",
            "text/latex": "A matrix: 1 × 5 of type dbl\n\\begin{tabular}{lllll}\n Lunes & Martes & Miércoles & Jueves & Viernes\\\\\n\\hline\n\t 35 & 33 & 33 & 32 & 30\\\\\n\\end{tabular}\n",
            "text/plain": [
              "     Lunes Martes Miércoles Jueves Viernes\n",
              "[1,] 35    33     33        32     30     "
            ]
          },
          "metadata": {}
        }
      ]
    },
    {
      "cell_type": "code",
      "source": [
        "summary(temper)"
      ],
      "metadata": {
        "id": "3hKAOiUbL-lx",
        "outputId": "111af4ec-fe06-4f3e-f986-fdf3acb31498",
        "colab": {
          "base_uri": "https://localhost:8080/",
          "height": 52
        }
      },
      "execution_count": null,
      "outputs": [
        {
          "output_type": "display_data",
          "data": {
            "text/plain": [
              "   Min. 1st Qu.  Median    Mean 3rd Qu.    Max. \n",
              "   30.0    32.0    33.0    32.6    33.0    35.0 "
            ]
          },
          "metadata": {}
        }
      ]
    },
    {
      "cell_type": "code",
      "source": [
        "temper[1:4]"
      ],
      "metadata": {
        "id": "XMAfUhHmN6Er",
        "outputId": "c867e5e6-d64e-4ff4-b002-f3922995d2f9",
        "colab": {
          "base_uri": "https://localhost:8080/",
          "height": 34
        }
      },
      "execution_count": null,
      "outputs": [
        {
          "output_type": "display_data",
          "data": {
            "text/html": [
              "<style>\n",
              ".dl-inline {width: auto; margin:0; padding: 0}\n",
              ".dl-inline>dt, .dl-inline>dd {float: none; width: auto; display: inline-block}\n",
              ".dl-inline>dt::after {content: \":\\0020\"; padding-right: .5ex}\n",
              ".dl-inline>dt:not(:first-of-type) {padding-left: .5ex}\n",
              "</style><dl class=dl-inline><dt>Lunes</dt><dd>35</dd><dt>Martes</dt><dd>33</dd><dt>Miércoles</dt><dd>33</dd><dt>Jueves</dt><dd>32</dd></dl>\n"
            ],
            "text/markdown": "Lunes\n:   35Martes\n:   33Miércoles\n:   33Jueves\n:   32\n\n",
            "text/latex": "\\begin{description*}\n\\item[Lunes] 35\n\\item[Martes] 33\n\\item[Miércoles] 33\n\\item[Jueves] 32\n\\end{description*}\n",
            "text/plain": [
              "    Lunes    Martes Miércoles    Jueves \n",
              "       35        33        33        32 "
            ]
          },
          "metadata": {}
        }
      ]
    },
    {
      "cell_type": "code",
      "source": [
        "temper[\"Jueves\"] <- 35"
      ],
      "metadata": {
        "id": "J1zm1IJeOFIL"
      },
      "execution_count": null,
      "outputs": []
    },
    {
      "cell_type": "code",
      "source": [
        "temper[1:4]"
      ],
      "metadata": {
        "id": "56DKVaYaOVBZ",
        "outputId": "8b1f34b4-e798-4d57-98c6-e075b0b1d776",
        "colab": {
          "base_uri": "https://localhost:8080/",
          "height": 34
        }
      },
      "execution_count": null,
      "outputs": [
        {
          "output_type": "display_data",
          "data": {
            "text/html": [
              "<style>\n",
              ".dl-inline {width: auto; margin:0; padding: 0}\n",
              ".dl-inline>dt, .dl-inline>dd {float: none; width: auto; display: inline-block}\n",
              ".dl-inline>dt::after {content: \":\\0020\"; padding-right: .5ex}\n",
              ".dl-inline>dt:not(:first-of-type) {padding-left: .5ex}\n",
              "</style><dl class=dl-inline><dt>Lunes</dt><dd>35</dd><dt>Martes</dt><dd>33</dd><dt>Miércoles</dt><dd>33</dd><dt>Jueves</dt><dd>35</dd></dl>\n"
            ],
            "text/markdown": "Lunes\n:   35Martes\n:   33Miércoles\n:   33Jueves\n:   35\n\n",
            "text/latex": "\\begin{description*}\n\\item[Lunes] 35\n\\item[Martes] 33\n\\item[Miércoles] 33\n\\item[Jueves] 35\n\\end{description*}\n",
            "text/plain": [
              "    Lunes    Martes Miércoles    Jueves \n",
              "       35        33        33        35 "
            ]
          },
          "metadata": {}
        }
      ]
    },
    {
      "cell_type": "markdown",
      "source": [
        "# Matrices\n",
        "\n",
        "Para crear matrices debo usar la función matrix. Ejecutar lo siguiente:\n",
        "\n",
        "```\n",
        "matrix(1:9, nrow = 3, ncol = 3)\n",
        "```"
      ],
      "metadata": {
        "id": "a9Rq5oOXc2WV"
      }
    },
    {
      "cell_type": "markdown",
      "source": [
        "Ejecutar lo siguiente y verificar que da el mismo resultado de la celda anterior.\n",
        "\n",
        "```\n",
        "matrix(1:9, nrow = 3)\n",
        "```"
      ],
      "metadata": {
        "id": "pz0PFVJAdGIn"
      }
    },
    {
      "cell_type": "markdown",
      "source": [
        "Para llenar por filas, probar con el siguiente código:\n",
        "\n",
        "\n",
        "```\n",
        "matrix(1:9, nrow = 3, byrow=TRUE)\n",
        "```"
      ],
      "metadata": {
        "id": "4VRhMpz4dWay"
      }
    },
    {
      "cell_type": "markdown",
      "source": [
        "**Accesando elementos de una matriz.**\n",
        "\n",
        "Suponiendo que tenemos la matriz var la sintaxis para accesar a la fila 1 y columna 2 es:\n",
        "\n",
        "```\n",
        "var[1, 2]\n",
        "```"
      ],
      "metadata": {
        "id": "aa35CXtKd5de"
      }
    },
    {
      "cell_type": "markdown",
      "source": [
        "Ejecutar lo siguiente:\n",
        "\n",
        "```\n",
        "x <- matrix(1:9, nrow = 3, ncol = 3, byrow = TRUE)\n",
        "\n",
        "# selecccionando filas 1 y 2, y columnas 2 y 3.\n",
        "x[c(1,2),c(2,3)]    \n",
        "\n",
        "# dejando vacia una dimensión implica que\n",
        "# selecciona todos los elementos de esa dimensión\n",
        "x[c(3,2),]    \n",
        "\n",
        "\n",
        "# Selecciona todas las filas exceptuando la primera.\n",
        "x[-1,]    \n",
        "\n",
        "```"
      ],
      "metadata": {
        "id": "aErYUUDVeSgm"
      }
    },
    {
      "cell_type": "markdown",
      "source": [
        "**Ejercicio**:\n",
        "\n",
        "* Encontrar un ejemplo de como modificar una matriz\n",
        "* Encontrar un ejemplo de como asignar vectores de caracteres a los elementos de cada una de las dimensiones (filas y columnas)\n",
        "* Encontrar un ejemplo de como usar los nombres en las dimensiones para seleccionar ya sea conjuntos de columnas, filas o elementos individuales de una matriz."
      ],
      "metadata": {
        "id": "8YqjgggyfFdU"
      }
    },
    {
      "cell_type": "markdown",
      "source": [
        "Calcular lo siguiente:\n",
        "\n",
        "Matrix A:\n",
        "\n",
        "$$\n",
        "A = \\begin{pmatrix} 1 & 2 \\\\ 3 & 4 \\end{pmatrix}\n",
        "$$\n",
        "\n",
        "Matrix B:\n",
        "\n",
        "$$\n",
        "B = \\begin{pmatrix} 5 & 6 \\\\ 7 & 8 \\end{pmatrix}\n",
        "$$\n",
        "\n",
        "$$ A + B $$\n",
        "\n",
        "$$ A \\times B $$\n",
        "\n",
        "\n",
        "$$\n",
        "A^{-1}\n",
        "$$\n",
        "\n"
      ],
      "metadata": {
        "id": "OvnDqiPnfyLs"
      }
    },
    {
      "cell_type": "markdown",
      "source": [
        "Otra forma de crear matrices es usando rbind y cbind. A continuación vamos a crear dos vectores con la misma longitud con el siguiente código:\n",
        "\n",
        "```\n",
        "vec1 <- c(1, 2, 3)\n",
        "vec2 <- c(4, 5, 6)\n",
        "```"
      ],
      "metadata": {
        "id": "FKVhc_twJ0I8"
      }
    },
    {
      "cell_type": "markdown",
      "source": [
        "A partir de los anteriores vectores puedo crear una matriz de orden 2 x 3 donde los elementos del vector consituyen las filas de la nueva matriz de la siguiente forma:\n",
        "\n",
        "```\n",
        "rbind(vec1, vec2)\n",
        "```"
      ],
      "metadata": {
        "id": "mFHnxmrLKR1K"
      }
    },
    {
      "cell_type": "markdown",
      "source": [
        "Tambien puedo crear una matriz 3 x 2 con la información de los anteriores vectores con la función cbind."
      ],
      "metadata": {
        "id": "ZOc7BCgZLC-a"
      }
    },
    {
      "cell_type": "markdown",
      "source": [
        "```\n",
        "cbind(vec1, vec2)\n",
        "```"
      ],
      "metadata": {
        "id": "yc3loL5ULFAY"
      }
    },
    {
      "cell_type": "markdown",
      "source": [
        "# Listas\n",
        "\n",
        "Una lista puede ser definida como un vector donde los elementos son de distinto tipo.\n",
        "\n",
        "Vamos a ver un ejemplo de como crear una lista, ejecutar lo siguiente en una celda de código.\n",
        "\n",
        "```\n",
        "x <- list(\"a\" = 2.5, \"b\" = TRUE, \"c\" = 1:3)\n",
        "x\n",
        "```"
      ],
      "metadata": {
        "id": "aWRQIC7loEP9"
      }
    },
    {
      "cell_type": "markdown",
      "source": [
        "La estructura de la lista puede ser examinada con la función str. Ejecutar lo siguiente en una celda de código.\n",
        "\n",
        "```\n",
        "str(x)\n",
        "```\n"
      ],
      "metadata": {
        "id": "GXPeVbfDou7v"
      }
    },
    {
      "cell_type": "markdown",
      "source": [
        "Las etiquetas en los componentes de la lista son opcionales, ejecutemos lo siguiente en una celda de código:\n",
        "\n",
        "```\n",
        "x <- list(2.5,TRUE,1:3)\n",
        "x\n",
        "```"
      ],
      "metadata": {
        "id": "XuIz0aiHpHTD"
      }
    },
    {
      "cell_type": "markdown",
      "source": [
        "**Accesando elementos en una lista**\n",
        "\n",
        "Las listas pueden ser accesadas de una manera parecida a la que se usa con los vectores. Ejecutar lo siguiente en una celda de código.\n",
        "\n",
        "\n",
        "```\n",
        "x <- list(name = \"John\", age = 19, speaks = c(\"English\", \"French\"))\n",
        "\n",
        "# accesando elementos por nombre\n",
        "x$name\n",
        "x$age\n",
        "x$speaks\n",
        "\n",
        "# accesando elementos por índice entero\n",
        "x[c(1, 2)]\n",
        "x[-2]\n",
        "\n",
        "# accesando elementos usando índice lógico\n",
        "x[c(TRUE, FALSE, FALSE)]\n",
        "\n",
        "# accesando elementos por índice de caracter\n",
        "x[c(\"age\", \"speaks\")]\n",
        "\n",
        "```"
      ],
      "metadata": {
        "id": "J9rvaFlqppdq"
      }
    },
    {
      "cell_type": "markdown",
      "source": [
        "**Usando corchetes para accesar a elementos en una lista**\n",
        "\n",
        "Ejecutar lo siguiente en celdas de código.\n",
        "\n",
        "```\n",
        "\n",
        "x[\"age\"]\n",
        "\n",
        "typeof(x[\"age\"])\n",
        "\n",
        "x[[\"age\"]]\n",
        "\n",
        "typeof(x[[\"age\"]])\n",
        "\n",
        "\n",
        "```\n",
        "\n"
      ],
      "metadata": {
        "id": "KltpzwQTq7RV"
      }
    },
    {
      "cell_type": "markdown",
      "source": [
        "Hay que notar que cuando solo se usa un corchete se devuelve una lista."
      ],
      "metadata": {
        "id": "CVFkzSaqrfPZ"
      }
    },
    {
      "cell_type": "code",
      "source": [
        "x[\"age\"]"
      ],
      "metadata": {
        "colab": {
          "base_uri": "https://localhost:8080/",
          "height": 34
        },
        "id": "r86YzXzKrek5",
        "outputId": "9089316f-06d6-447f-b0e0-a72aa4301235"
      },
      "execution_count": null,
      "outputs": [
        {
          "output_type": "display_data",
          "data": {
            "text/html": [
              "<strong>$age</strong> = 19"
            ],
            "text/markdown": "**$age** = 19",
            "text/latex": "\\textbf{\\$age} = 19",
            "text/plain": [
              "$age\n",
              "[1] 19\n"
            ]
          },
          "metadata": {}
        }
      ]
    },
    {
      "cell_type": "markdown",
      "source": [
        "**Como modificar elementos de una lista**\n",
        "\n",
        "Usamos las técnicas vistas anteriormente y el operador de asignación <-. Ejecutar el siguiente código en una celda.\n",
        "\n",
        "\n",
        "```\n",
        "x <- list(name = \"John\", age = 19, speaks = c(\"English\", \"French\"))\n",
        "\n",
        "x\n",
        "\n",
        "#  accesando elementos usando [[]] y actualizando su valor\n",
        "x[[\"name\"]] <- \"Clair\"\n",
        "\n",
        "x\n",
        "```"
      ],
      "metadata": {
        "id": "lHVFgIlSr_EG"
      }
    },
    {
      "cell_type": "code",
      "source": [
        "x <- list(name = \"John\", age = 19, speaks = c(\"English\", \"French\"))"
      ],
      "metadata": {
        "id": "9a7oiL9OOvUB"
      },
      "execution_count": null,
      "outputs": []
    },
    {
      "cell_type": "code",
      "source": [
        "x"
      ],
      "metadata": {
        "colab": {
          "base_uri": "https://localhost:8080/",
          "height": 149
        },
        "id": "WlaAdQqjOz_n",
        "outputId": "2ffd965a-30f5-49db-e004-b494c5ea7219"
      },
      "execution_count": null,
      "outputs": [
        {
          "output_type": "display_data",
          "data": {
            "text/html": [
              "<dl>\n",
              "\t<dt>$name</dt>\n",
              "\t\t<dd>'John'</dd>\n",
              "\t<dt>$age</dt>\n",
              "\t\t<dd>19</dd>\n",
              "\t<dt>$speaks</dt>\n",
              "\t\t<dd><style>\n",
              ".list-inline {list-style: none; margin:0; padding: 0}\n",
              ".list-inline>li {display: inline-block}\n",
              ".list-inline>li:not(:last-child)::after {content: \"\\00b7\"; padding: 0 .5ex}\n",
              "</style>\n",
              "<ol class=list-inline><li>'English'</li><li>'French'</li></ol>\n",
              "</dd>\n",
              "</dl>\n"
            ],
            "text/markdown": "$name\n:   'John'\n$age\n:   19\n$speaks\n:   1. 'English'\n2. 'French'\n\n\n\n\n\n",
            "text/latex": "\\begin{description}\n\\item[\\$name] 'John'\n\\item[\\$age] 19\n\\item[\\$speaks] \\begin{enumerate*}\n\\item 'English'\n\\item 'French'\n\\end{enumerate*}\n\n\\end{description}\n",
            "text/plain": [
              "$name\n",
              "[1] \"John\"\n",
              "\n",
              "$age\n",
              "[1] 19\n",
              "\n",
              "$speaks\n",
              "[1] \"English\" \"French\" \n"
            ]
          },
          "metadata": {}
        }
      ]
    },
    {
      "cell_type": "code",
      "source": [
        "x[[\"name\"]] <- \"Clair\""
      ],
      "metadata": {
        "id": "1qlGU4YgPEKY"
      },
      "execution_count": null,
      "outputs": []
    },
    {
      "cell_type": "code",
      "source": [
        "x"
      ],
      "metadata": {
        "colab": {
          "base_uri": "https://localhost:8080/",
          "height": 149
        },
        "id": "SGEwliqZPTCc",
        "outputId": "b5664126-3cd8-4830-f309-e5d4b86c7dc4"
      },
      "execution_count": null,
      "outputs": [
        {
          "output_type": "display_data",
          "data": {
            "text/html": [
              "<dl>\n",
              "\t<dt>$name</dt>\n",
              "\t\t<dd>'Clair'</dd>\n",
              "\t<dt>$age</dt>\n",
              "\t\t<dd>19</dd>\n",
              "\t<dt>$speaks</dt>\n",
              "\t\t<dd><style>\n",
              ".list-inline {list-style: none; margin:0; padding: 0}\n",
              ".list-inline>li {display: inline-block}\n",
              ".list-inline>li:not(:last-child)::after {content: \"\\00b7\"; padding: 0 .5ex}\n",
              "</style>\n",
              "<ol class=list-inline><li>'English'</li><li>'French'</li></ol>\n",
              "</dd>\n",
              "</dl>\n"
            ],
            "text/markdown": "$name\n:   'Clair'\n$age\n:   19\n$speaks\n:   1. 'English'\n2. 'French'\n\n\n\n\n\n",
            "text/latex": "\\begin{description}\n\\item[\\$name] 'Clair'\n\\item[\\$age] 19\n\\item[\\$speaks] \\begin{enumerate*}\n\\item 'English'\n\\item 'French'\n\\end{enumerate*}\n\n\\end{description}\n",
            "text/plain": [
              "$name\n",
              "[1] \"Clair\"\n",
              "\n",
              "$age\n",
              "[1] 19\n",
              "\n",
              "$speaks\n",
              "[1] \"English\" \"French\" \n"
            ]
          },
          "metadata": {}
        }
      ]
    },
    {
      "cell_type": "markdown",
      "source": [
        "**Como agregar elementos a una lista**\n",
        "\n",
        "Agregando elementos a una lista es fácil. Asignamos valores usando nuevos labels.\n",
        "\n",
        "\n",
        "```\n",
        "x <- list(name = \"Clair\", age = 19, speaks = c(\"English\", \"French\"))\n",
        "\n",
        "x\n",
        "\n",
        "# asignar un nuevo elemento a una lista usando corchetes dobles [[]]\n",
        "\n",
        "x[[\"married\"]] <- FALSE\n",
        "\n",
        "\n",
        "x\n",
        "\n",
        "```"
      ],
      "metadata": {
        "id": "0y51Dd52trbq"
      }
    },
    {
      "cell_type": "code",
      "source": [
        "x"
      ],
      "metadata": {
        "colab": {
          "base_uri": "https://localhost:8080/",
          "height": 149
        },
        "id": "Mlk-j7S4PZgR",
        "outputId": "f0106f20-46b2-4249-e126-37092595c453"
      },
      "execution_count": null,
      "outputs": [
        {
          "output_type": "display_data",
          "data": {
            "text/html": [
              "<dl>\n",
              "\t<dt>$name</dt>\n",
              "\t\t<dd>'Clair'</dd>\n",
              "\t<dt>$age</dt>\n",
              "\t\t<dd>19</dd>\n",
              "\t<dt>$speaks</dt>\n",
              "\t\t<dd><style>\n",
              ".list-inline {list-style: none; margin:0; padding: 0}\n",
              ".list-inline>li {display: inline-block}\n",
              ".list-inline>li:not(:last-child)::after {content: \"\\00b7\"; padding: 0 .5ex}\n",
              "</style>\n",
              "<ol class=list-inline><li>'English'</li><li>'French'</li></ol>\n",
              "</dd>\n",
              "</dl>\n"
            ],
            "text/markdown": "$name\n:   'Clair'\n$age\n:   19\n$speaks\n:   1. 'English'\n2. 'French'\n\n\n\n\n\n",
            "text/latex": "\\begin{description}\n\\item[\\$name] 'Clair'\n\\item[\\$age] 19\n\\item[\\$speaks] \\begin{enumerate*}\n\\item 'English'\n\\item 'French'\n\\end{enumerate*}\n\n\\end{description}\n",
            "text/plain": [
              "$name\n",
              "[1] \"Clair\"\n",
              "\n",
              "$age\n",
              "[1] 19\n",
              "\n",
              "$speaks\n",
              "[1] \"English\" \"French\" \n"
            ]
          },
          "metadata": {}
        }
      ]
    },
    {
      "cell_type": "code",
      "source": [
        "x[[\"married\"]] <- FALSE"
      ],
      "metadata": {
        "id": "N-3wyIzdPgfg"
      },
      "execution_count": null,
      "outputs": []
    },
    {
      "cell_type": "code",
      "source": [
        "x"
      ],
      "metadata": {
        "colab": {
          "base_uri": "https://localhost:8080/",
          "height": 184
        },
        "id": "QwWEFIVsPowI",
        "outputId": "9be8ac18-0e2e-4256-8504-b89d38cbe5d8"
      },
      "execution_count": null,
      "outputs": [
        {
          "output_type": "display_data",
          "data": {
            "text/html": [
              "<dl>\n",
              "\t<dt>$name</dt>\n",
              "\t\t<dd>'Clair'</dd>\n",
              "\t<dt>$age</dt>\n",
              "\t\t<dd>19</dd>\n",
              "\t<dt>$speaks</dt>\n",
              "\t\t<dd><style>\n",
              ".list-inline {list-style: none; margin:0; padding: 0}\n",
              ".list-inline>li {display: inline-block}\n",
              ".list-inline>li:not(:last-child)::after {content: \"\\00b7\"; padding: 0 .5ex}\n",
              "</style>\n",
              "<ol class=list-inline><li>'English'</li><li>'French'</li></ol>\n",
              "</dd>\n",
              "\t<dt>$married</dt>\n",
              "\t\t<dd>FALSE</dd>\n",
              "</dl>\n"
            ],
            "text/markdown": "$name\n:   'Clair'\n$age\n:   19\n$speaks\n:   1. 'English'\n2. 'French'\n\n\n\n$married\n:   FALSE\n\n\n",
            "text/latex": "\\begin{description}\n\\item[\\$name] 'Clair'\n\\item[\\$age] 19\n\\item[\\$speaks] \\begin{enumerate*}\n\\item 'English'\n\\item 'French'\n\\end{enumerate*}\n\n\\item[\\$married] FALSE\n\\end{description}\n",
            "text/plain": [
              "$name\n",
              "[1] \"Clair\"\n",
              "\n",
              "$age\n",
              "[1] 19\n",
              "\n",
              "$speaks\n",
              "[1] \"English\" \"French\" \n",
              "\n",
              "$married\n",
              "[1] FALSE\n"
            ]
          },
          "metadata": {}
        }
      ]
    },
    {
      "cell_type": "markdown",
      "source": [
        "**Borrando elementos de una lista**\n",
        "\n",
        "Para borrar elementos de una lista debes de asignar al componente a borrar el valor NULL. Ejecutar lo siguiente en una celda de código.\n",
        "\n",
        "\n",
        "```\n",
        "x <- list(name = \"Clair\", age = 19, speaks = c(\"English\", \"French\"))\n",
        "\n",
        "# removiendo un elemento de la lista.\n",
        "x[[\"age\"]] <- NULL\n",
        "\n",
        "str(x)\n",
        "\n",
        "\n",
        "```"
      ],
      "metadata": {
        "id": "nyLPkynKulzn"
      }
    },
    {
      "cell_type": "code",
      "source": [
        "x <- list(name = \"Clair\", age = 19, speaks = c(\"English\", \"French\"))"
      ],
      "metadata": {
        "id": "uqwg1tdxROk-"
      },
      "execution_count": null,
      "outputs": []
    },
    {
      "cell_type": "code",
      "source": [
        "x"
      ],
      "metadata": {
        "colab": {
          "base_uri": "https://localhost:8080/",
          "height": 149
        },
        "id": "U1DgGch2RUVE",
        "outputId": "96770634-76c8-4e21-90ac-2d0f830d1b7d"
      },
      "execution_count": null,
      "outputs": [
        {
          "output_type": "display_data",
          "data": {
            "text/html": [
              "<dl>\n",
              "\t<dt>$name</dt>\n",
              "\t\t<dd>'Clair'</dd>\n",
              "\t<dt>$age</dt>\n",
              "\t\t<dd>19</dd>\n",
              "\t<dt>$speaks</dt>\n",
              "\t\t<dd><style>\n",
              ".list-inline {list-style: none; margin:0; padding: 0}\n",
              ".list-inline>li {display: inline-block}\n",
              ".list-inline>li:not(:last-child)::after {content: \"\\00b7\"; padding: 0 .5ex}\n",
              "</style>\n",
              "<ol class=list-inline><li>'English'</li><li>'French'</li></ol>\n",
              "</dd>\n",
              "</dl>\n"
            ],
            "text/markdown": "$name\n:   'Clair'\n$age\n:   19\n$speaks\n:   1. 'English'\n2. 'French'\n\n\n\n\n\n",
            "text/latex": "\\begin{description}\n\\item[\\$name] 'Clair'\n\\item[\\$age] 19\n\\item[\\$speaks] \\begin{enumerate*}\n\\item 'English'\n\\item 'French'\n\\end{enumerate*}\n\n\\end{description}\n",
            "text/plain": [
              "$name\n",
              "[1] \"Clair\"\n",
              "\n",
              "$age\n",
              "[1] 19\n",
              "\n",
              "$speaks\n",
              "[1] \"English\" \"French\" \n"
            ]
          },
          "metadata": {}
        }
      ]
    },
    {
      "cell_type": "code",
      "source": [
        "x[[\"age\"]] <- NULL"
      ],
      "metadata": {
        "id": "u6jhJ1faRcBC"
      },
      "execution_count": null,
      "outputs": []
    },
    {
      "cell_type": "code",
      "source": [
        "x"
      ],
      "metadata": {
        "colab": {
          "base_uri": "https://localhost:8080/",
          "height": 114
        },
        "id": "iHGnznyZRqaA",
        "outputId": "5136ef4c-fdc4-4025-991d-ac6b32079d71"
      },
      "execution_count": null,
      "outputs": [
        {
          "output_type": "display_data",
          "data": {
            "text/html": [
              "<dl>\n",
              "\t<dt>$name</dt>\n",
              "\t\t<dd>'Clair'</dd>\n",
              "\t<dt>$speaks</dt>\n",
              "\t\t<dd><style>\n",
              ".list-inline {list-style: none; margin:0; padding: 0}\n",
              ".list-inline>li {display: inline-block}\n",
              ".list-inline>li:not(:last-child)::after {content: \"\\00b7\"; padding: 0 .5ex}\n",
              "</style>\n",
              "<ol class=list-inline><li>'English'</li><li>'French'</li></ol>\n",
              "</dd>\n",
              "</dl>\n"
            ],
            "text/markdown": "$name\n:   'Clair'\n$speaks\n:   1. 'English'\n2. 'French'\n\n\n\n\n\n",
            "text/latex": "\\begin{description}\n\\item[\\$name] 'Clair'\n\\item[\\$speaks] \\begin{enumerate*}\n\\item 'English'\n\\item 'French'\n\\end{enumerate*}\n\n\\end{description}\n",
            "text/plain": [
              "$name\n",
              "[1] \"Clair\"\n",
              "\n",
              "$speaks\n",
              "[1] \"English\" \"French\" \n"
            ]
          },
          "metadata": {}
        }
      ]
    },
    {
      "cell_type": "code",
      "source": [
        "str(x)"
      ],
      "metadata": {
        "colab": {
          "base_uri": "https://localhost:8080/"
        },
        "id": "kbMbS_I5SBXU",
        "outputId": "93e61b25-2a18-430e-b807-be71f4eea92d"
      },
      "execution_count": null,
      "outputs": [
        {
          "output_type": "stream",
          "name": "stdout",
          "text": [
            "List of 2\n",
            " $ name  : chr \"Clair\"\n",
            " $ speaks: chr [1:2] \"English\" \"French\"\n"
          ]
        }
      ]
    },
    {
      "cell_type": "markdown",
      "source": [
        "**Ejercicio**:\n",
        "\n",
        "Imagina que estás gestionando una lista de cursos para una pequeña empresa de capacitación. Cada curso tiene un nombre, un instructor y un número de estudiantes inscritos. Representarás cada curso como una lista y luego crearás una lista de estos cursos.\n",
        "\n",
        "Crea una lista llamada curso1 que represente un curso con los siguientes detalles:\n",
        "\n",
        "    Nombre: \"Introducción a R\"\n",
        "    Instructor: \"Juan Perez\"\n",
        "    Estudiantes inscritos: 30\n",
        "\n",
        "Crea una segunda lista llamada curso2 con los siguientes detalles:\n",
        "        \n",
        "    Nombre: \"Python Avanzado\"\n",
        "    Instructor: \"Pedro Ramírez\"\n",
        "    Estudiantes inscritos: 25\n",
        "\n",
        "Combina curso1 y curso2 en una lista llamada listaCursos.\n",
        "\n",
        "* Accediendo a Elementos: Imprime el nombre del primer curso. Imprime el número de estudiantes inscritos en el segundo curso.\n",
        "\n",
        "* Actualizando Elementos: El instructor de \"Pedro Ramírez\" ha cambiado a \"Luis Gonzalez\". Actualiza el nombre del instructor en curso2.\n",
        "\n",
        "* Agregando Elementos: Agrega un nuevo curso a listaCursos con los siguientes detalles:\n",
        "    Nombre: \"Fundamentos de Ciencia de Datos\"\n",
        "    Instructor: \"Virgilio Hernandez\"\n",
        "    Estudiantes inscritos: 40\n",
        "\n",
        "* Eliminando Elementos: Elimina curso1 de listaCursos."
      ],
      "metadata": {
        "id": "hf0RFwMNv4zq"
      }
    },
    {
      "cell_type": "markdown",
      "source": [
        "**Nota**: Las listas son usadas para devolver información de una función."
      ],
      "metadata": {
        "id": "SDvntl2BN4et"
      }
    },
    {
      "cell_type": "markdown",
      "source": [
        "**Solución**:"
      ],
      "metadata": {
        "id": "ujNVJvC3XN4L"
      }
    },
    {
      "cell_type": "code",
      "source": [
        "curso1 <- list(\"Nombre\" = \"Introducción a R\",\n",
        "               \"Instructor\" = \"Juan Perez\",\n",
        "               \"Estudiantes_inscritos\" = 30)"
      ],
      "metadata": {
        "id": "ubk-OyT-WS2h"
      },
      "execution_count": null,
      "outputs": []
    },
    {
      "cell_type": "code",
      "source": [
        "curso1"
      ],
      "metadata": {
        "colab": {
          "base_uri": "https://localhost:8080/",
          "height": 149
        },
        "id": "4ij1VaQPWr1I",
        "outputId": "e51cf830-b9bd-489e-bdf6-5142d4468245"
      },
      "execution_count": null,
      "outputs": [
        {
          "output_type": "display_data",
          "data": {
            "text/html": [
              "<dl>\n",
              "\t<dt>$Nombre</dt>\n",
              "\t\t<dd>'Introducción a R'</dd>\n",
              "\t<dt>$Instructor</dt>\n",
              "\t\t<dd>'Juan Perez'</dd>\n",
              "\t<dt>$Estudiantes_inscritos</dt>\n",
              "\t\t<dd>30</dd>\n",
              "</dl>\n"
            ],
            "text/markdown": "$Nombre\n:   'Introducción a R'\n$Instructor\n:   'Juan Perez'\n$Estudiantes_inscritos\n:   30\n\n\n",
            "text/latex": "\\begin{description}\n\\item[\\$Nombre] 'Introducción a R'\n\\item[\\$Instructor] 'Juan Perez'\n\\item[\\$Estudiantes\\_inscritos] 30\n\\end{description}\n",
            "text/plain": [
              "$Nombre\n",
              "[1] \"Introducción a R\"\n",
              "\n",
              "$Instructor\n",
              "[1] \"Juan Perez\"\n",
              "\n",
              "$Estudiantes_inscritos\n",
              "[1] 30\n"
            ]
          },
          "metadata": {}
        }
      ]
    },
    {
      "cell_type": "code",
      "source": [
        "curso2 <- list(\"Nombre\" = \"Python Avanzado\",\n",
        "               \"Instructor\" = \"Pedro Ramírez\",\n",
        "               \"Estudiantes_inscritos\" = 25)"
      ],
      "metadata": {
        "id": "W7Lx1tggWxo2"
      },
      "execution_count": null,
      "outputs": []
    },
    {
      "cell_type": "code",
      "source": [
        "curso2"
      ],
      "metadata": {
        "colab": {
          "base_uri": "https://localhost:8080/",
          "height": 149
        },
        "id": "F_qdMTgkXCRS",
        "outputId": "e792732a-57f6-4e93-b536-bdb1b426f1ae"
      },
      "execution_count": null,
      "outputs": [
        {
          "output_type": "display_data",
          "data": {
            "text/html": [
              "<dl>\n",
              "\t<dt>$Nombre</dt>\n",
              "\t\t<dd>'Python Avanzado'</dd>\n",
              "\t<dt>$Instructor</dt>\n",
              "\t\t<dd>'Pedro Ramírez'</dd>\n",
              "\t<dt>$Estudiantes_inscritos</dt>\n",
              "\t\t<dd>25</dd>\n",
              "</dl>\n"
            ],
            "text/markdown": "$Nombre\n:   'Python Avanzado'\n$Instructor\n:   'Pedro Ramírez'\n$Estudiantes_inscritos\n:   25\n\n\n",
            "text/latex": "\\begin{description}\n\\item[\\$Nombre] 'Python Avanzado'\n\\item[\\$Instructor] 'Pedro Ramírez'\n\\item[\\$Estudiantes\\_inscritos] 25\n\\end{description}\n",
            "text/plain": [
              "$Nombre\n",
              "[1] \"Python Avanzado\"\n",
              "\n",
              "$Instructor\n",
              "[1] \"Pedro Ramírez\"\n",
              "\n",
              "$Estudiantes_inscritos\n",
              "[1] 25\n"
            ]
          },
          "metadata": {}
        }
      ]
    },
    {
      "cell_type": "markdown",
      "source": [
        "Combina curso1 y curso2 en una lista llamada listaCursos.\n"
      ],
      "metadata": {
        "id": "PiJ6lmwhXRLA"
      }
    },
    {
      "cell_type": "code",
      "source": [
        "listaCursos <- list( curso1 = curso1, curso2 = curso2 )"
      ],
      "metadata": {
        "id": "fmkF0zWIXYiu"
      },
      "execution_count": null,
      "outputs": []
    },
    {
      "cell_type": "code",
      "source": [
        "listaCursos"
      ],
      "metadata": {
        "colab": {
          "base_uri": "https://localhost:8080/",
          "height": 288
        },
        "id": "5Xgcc6chXgxk",
        "outputId": "143a9ad3-1047-49e5-a0b8-39d0548abd0d"
      },
      "execution_count": null,
      "outputs": [
        {
          "output_type": "display_data",
          "data": {
            "text/html": [
              "<dl>\n",
              "\t<dt>$curso1</dt>\n",
              "\t\t<dd><dl>\n",
              "\t<dt>$Nombre</dt>\n",
              "\t\t<dd>'Introducción a R'</dd>\n",
              "\t<dt>$Instructor</dt>\n",
              "\t\t<dd>'Juan Perez'</dd>\n",
              "\t<dt>$Estudiantes_inscritos</dt>\n",
              "\t\t<dd>30</dd>\n",
              "</dl>\n",
              "</dd>\n",
              "\t<dt>$curso2</dt>\n",
              "\t\t<dd><dl>\n",
              "\t<dt>$Nombre</dt>\n",
              "\t\t<dd>'Python Avanzado'</dd>\n",
              "\t<dt>$Instructor</dt>\n",
              "\t\t<dd>'Pedro Ramírez'</dd>\n",
              "\t<dt>$Estudiantes_inscritos</dt>\n",
              "\t\t<dd>25</dd>\n",
              "</dl>\n",
              "</dd>\n",
              "</dl>\n"
            ],
            "text/markdown": "$curso1\n:   $Nombre\n:   'Introducción a R'\n$Instructor\n:   'Juan Perez'\n$Estudiantes_inscritos\n:   30\n\n\n\n$curso2\n:   $Nombre\n:   'Python Avanzado'\n$Instructor\n:   'Pedro Ramírez'\n$Estudiantes_inscritos\n:   25\n\n\n\n\n\n",
            "text/latex": "\\begin{description}\n\\item[\\$curso1] \\begin{description}\n\\item[\\$Nombre] 'Introducción a R'\n\\item[\\$Instructor] 'Juan Perez'\n\\item[\\$Estudiantes\\_inscritos] 30\n\\end{description}\n\n\\item[\\$curso2] \\begin{description}\n\\item[\\$Nombre] 'Python Avanzado'\n\\item[\\$Instructor] 'Pedro Ramírez'\n\\item[\\$Estudiantes\\_inscritos] 25\n\\end{description}\n\n\\end{description}\n",
            "text/plain": [
              "$curso1\n",
              "$curso1$Nombre\n",
              "[1] \"Introducción a R\"\n",
              "\n",
              "$curso1$Instructor\n",
              "[1] \"Juan Perez\"\n",
              "\n",
              "$curso1$Estudiantes_inscritos\n",
              "[1] 30\n",
              "\n",
              "\n",
              "$curso2\n",
              "$curso2$Nombre\n",
              "[1] \"Python Avanzado\"\n",
              "\n",
              "$curso2$Instructor\n",
              "[1] \"Pedro Ramírez\"\n",
              "\n",
              "$curso2$Estudiantes_inscritos\n",
              "[1] 25\n",
              "\n"
            ]
          },
          "metadata": {}
        }
      ]
    },
    {
      "cell_type": "markdown",
      "source": [
        "Accediendo a Elementos: Imprime el nombre del primer curso. Imprime el número de estudiantes inscritos en el segundo curso."
      ],
      "metadata": {
        "id": "t0kBCpu4X2G7"
      }
    },
    {
      "cell_type": "code",
      "source": [
        "listaCursos$curso1$Nombre"
      ],
      "metadata": {
        "colab": {
          "base_uri": "https://localhost:8080/",
          "height": 34
        },
        "id": "EIkSTxYcX6tk",
        "outputId": "83dc7231-46ca-4a74-b1d1-275705e06e10"
      },
      "execution_count": null,
      "outputs": [
        {
          "output_type": "display_data",
          "data": {
            "text/html": [
              "'Introducción a R'"
            ],
            "text/markdown": "'Introducción a R'",
            "text/latex": "'Introducción a R'",
            "text/plain": [
              "[1] \"Introducción a R\""
            ]
          },
          "metadata": {}
        }
      ]
    },
    {
      "cell_type": "code",
      "source": [
        "listaCursos$curso1$Estudiantes_inscritos"
      ],
      "metadata": {
        "colab": {
          "base_uri": "https://localhost:8080/",
          "height": 34
        },
        "id": "rntClO1FYLKz",
        "outputId": "da04c2fd-57ee-4048-8afc-95186be1035d"
      },
      "execution_count": null,
      "outputs": [
        {
          "output_type": "display_data",
          "data": {
            "text/html": [
              "30"
            ],
            "text/markdown": "30",
            "text/latex": "30",
            "text/plain": [
              "[1] 30"
            ]
          },
          "metadata": {}
        }
      ]
    },
    {
      "cell_type": "markdown",
      "source": [
        "Actualizando Elementos: El instructor de \"Pedro Ramírez\" ha cambiado a \"Luis Gonzalez\". Actualiza el nombre del instructor en curso2."
      ],
      "metadata": {
        "id": "3_pNBxgKYaD4"
      }
    },
    {
      "cell_type": "code",
      "source": [
        "listaCursos$curso2$Instructor"
      ],
      "metadata": {
        "colab": {
          "base_uri": "https://localhost:8080/",
          "height": 34
        },
        "id": "z9Z0lSZXYw3x",
        "outputId": "f56bfbb1-4f11-45bf-d0d7-80c44c6e818a"
      },
      "execution_count": null,
      "outputs": [
        {
          "output_type": "display_data",
          "data": {
            "text/html": [
              "'Pedro Ramírez'"
            ],
            "text/markdown": "'Pedro Ramírez'",
            "text/latex": "'Pedro Ramírez'",
            "text/plain": [
              "[1] \"Pedro Ramírez\""
            ]
          },
          "metadata": {}
        }
      ]
    },
    {
      "cell_type": "code",
      "source": [
        "listaCursos$curso2$Instructor <- \"Luis Gonzalez\""
      ],
      "metadata": {
        "id": "uYiNFJAjYb9F"
      },
      "execution_count": null,
      "outputs": []
    },
    {
      "cell_type": "code",
      "source": [
        "listaCursos$curso2$Instructor"
      ],
      "metadata": {
        "colab": {
          "base_uri": "https://localhost:8080/",
          "height": 34
        },
        "id": "Fkman2glY1lU",
        "outputId": "5e7a6ca7-5f85-45b0-c49c-c50e638e4fe8"
      },
      "execution_count": null,
      "outputs": [
        {
          "output_type": "display_data",
          "data": {
            "text/html": [
              "'Luis Gonzalez'"
            ],
            "text/markdown": "'Luis Gonzalez'",
            "text/latex": "'Luis Gonzalez'",
            "text/plain": [
              "[1] \"Luis Gonzalez\""
            ]
          },
          "metadata": {}
        }
      ]
    },
    {
      "cell_type": "markdown",
      "source": [
        "Agregando Elementos: Agrega un nuevo curso a listaCursos con los siguientes detalles: Nombre: \"Fundamentos de Ciencia de Datos\" Instructor: \"Virgilio Hernandez\" Estudiantes inscritos: 40"
      ],
      "metadata": {
        "id": "7PVai1JVZEAG"
      }
    },
    {
      "cell_type": "code",
      "source": [
        "curso3 <- list(\"Nombre\" = \"Fundamentos de Ciencia de Datos\",\n",
        "               \"Instructor\" = \"Virgilio Hernandez\",\n",
        "               \"Estudiantes_inscritos\" = 40)"
      ],
      "metadata": {
        "id": "QKf-8wobZFzm"
      },
      "execution_count": null,
      "outputs": []
    },
    {
      "cell_type": "code",
      "source": [
        "listaCursos"
      ],
      "metadata": {
        "colab": {
          "base_uri": "https://localhost:8080/",
          "height": 288
        },
        "id": "IrpM15TDZZp1",
        "outputId": "6472e0ec-fbdf-4109-aedf-7405db57efc8"
      },
      "execution_count": null,
      "outputs": [
        {
          "output_type": "display_data",
          "data": {
            "text/html": [
              "<dl>\n",
              "\t<dt>$curso1</dt>\n",
              "\t\t<dd><dl>\n",
              "\t<dt>$Nombre</dt>\n",
              "\t\t<dd>'Introducción a R'</dd>\n",
              "\t<dt>$Instructor</dt>\n",
              "\t\t<dd>'Juan Perez'</dd>\n",
              "\t<dt>$Estudiantes_inscritos</dt>\n",
              "\t\t<dd>30</dd>\n",
              "</dl>\n",
              "</dd>\n",
              "\t<dt>$curso2</dt>\n",
              "\t\t<dd><dl>\n",
              "\t<dt>$Nombre</dt>\n",
              "\t\t<dd>'Python Avanzado'</dd>\n",
              "\t<dt>$Instructor</dt>\n",
              "\t\t<dd>'Luis Gonzalez'</dd>\n",
              "\t<dt>$Estudiantes_inscritos</dt>\n",
              "\t\t<dd>25</dd>\n",
              "</dl>\n",
              "</dd>\n",
              "</dl>\n"
            ],
            "text/markdown": "$curso1\n:   $Nombre\n:   'Introducción a R'\n$Instructor\n:   'Juan Perez'\n$Estudiantes_inscritos\n:   30\n\n\n\n$curso2\n:   $Nombre\n:   'Python Avanzado'\n$Instructor\n:   'Luis Gonzalez'\n$Estudiantes_inscritos\n:   25\n\n\n\n\n\n",
            "text/latex": "\\begin{description}\n\\item[\\$curso1] \\begin{description}\n\\item[\\$Nombre] 'Introducción a R'\n\\item[\\$Instructor] 'Juan Perez'\n\\item[\\$Estudiantes\\_inscritos] 30\n\\end{description}\n\n\\item[\\$curso2] \\begin{description}\n\\item[\\$Nombre] 'Python Avanzado'\n\\item[\\$Instructor] 'Luis Gonzalez'\n\\item[\\$Estudiantes\\_inscritos] 25\n\\end{description}\n\n\\end{description}\n",
            "text/plain": [
              "$curso1\n",
              "$curso1$Nombre\n",
              "[1] \"Introducción a R\"\n",
              "\n",
              "$curso1$Instructor\n",
              "[1] \"Juan Perez\"\n",
              "\n",
              "$curso1$Estudiantes_inscritos\n",
              "[1] 30\n",
              "\n",
              "\n",
              "$curso2\n",
              "$curso2$Nombre\n",
              "[1] \"Python Avanzado\"\n",
              "\n",
              "$curso2$Instructor\n",
              "[1] \"Luis Gonzalez\"\n",
              "\n",
              "$curso2$Estudiantes_inscritos\n",
              "[1] 25\n",
              "\n"
            ]
          },
          "metadata": {}
        }
      ]
    },
    {
      "cell_type": "code",
      "source": [
        "listaCursos$curso3 <- curso3"
      ],
      "metadata": {
        "id": "6btv55iOZUzy"
      },
      "execution_count": null,
      "outputs": []
    },
    {
      "cell_type": "code",
      "source": [
        "listaCursos"
      ],
      "metadata": {
        "colab": {
          "base_uri": "https://localhost:8080/",
          "height": 410
        },
        "id": "qUoMU5XfZeIE",
        "outputId": "9c3b8338-98b5-42f8-c755-cd53761dbc49"
      },
      "execution_count": null,
      "outputs": [
        {
          "output_type": "display_data",
          "data": {
            "text/html": [
              "<dl>\n",
              "\t<dt>$curso1</dt>\n",
              "\t\t<dd><dl>\n",
              "\t<dt>$Nombre</dt>\n",
              "\t\t<dd>'Introducción a R'</dd>\n",
              "\t<dt>$Instructor</dt>\n",
              "\t\t<dd>'Juan Perez'</dd>\n",
              "\t<dt>$Estudiantes_inscritos</dt>\n",
              "\t\t<dd>30</dd>\n",
              "</dl>\n",
              "</dd>\n",
              "\t<dt>$curso2</dt>\n",
              "\t\t<dd><dl>\n",
              "\t<dt>$Nombre</dt>\n",
              "\t\t<dd>'Python Avanzado'</dd>\n",
              "\t<dt>$Instructor</dt>\n",
              "\t\t<dd>'Luis Gonzalez'</dd>\n",
              "\t<dt>$Estudiantes_inscritos</dt>\n",
              "\t\t<dd>25</dd>\n",
              "</dl>\n",
              "</dd>\n",
              "\t<dt>$curso3</dt>\n",
              "\t\t<dd><dl>\n",
              "\t<dt>$Nombre</dt>\n",
              "\t\t<dd>'Fundamentos de Ciencia de Datos'</dd>\n",
              "\t<dt>$Instructor</dt>\n",
              "\t\t<dd>'Virgilio Hernandez'</dd>\n",
              "\t<dt>$Estudiantes_inscritos</dt>\n",
              "\t\t<dd>40</dd>\n",
              "</dl>\n",
              "</dd>\n",
              "</dl>\n"
            ],
            "text/markdown": "$curso1\n:   $Nombre\n:   'Introducción a R'\n$Instructor\n:   'Juan Perez'\n$Estudiantes_inscritos\n:   30\n\n\n\n$curso2\n:   $Nombre\n:   'Python Avanzado'\n$Instructor\n:   'Luis Gonzalez'\n$Estudiantes_inscritos\n:   25\n\n\n\n$curso3\n:   $Nombre\n:   'Fundamentos de Ciencia de Datos'\n$Instructor\n:   'Virgilio Hernandez'\n$Estudiantes_inscritos\n:   40\n\n\n\n\n\n",
            "text/latex": "\\begin{description}\n\\item[\\$curso1] \\begin{description}\n\\item[\\$Nombre] 'Introducción a R'\n\\item[\\$Instructor] 'Juan Perez'\n\\item[\\$Estudiantes\\_inscritos] 30\n\\end{description}\n\n\\item[\\$curso2] \\begin{description}\n\\item[\\$Nombre] 'Python Avanzado'\n\\item[\\$Instructor] 'Luis Gonzalez'\n\\item[\\$Estudiantes\\_inscritos] 25\n\\end{description}\n\n\\item[\\$curso3] \\begin{description}\n\\item[\\$Nombre] 'Fundamentos de Ciencia de Datos'\n\\item[\\$Instructor] 'Virgilio Hernandez'\n\\item[\\$Estudiantes\\_inscritos] 40\n\\end{description}\n\n\\end{description}\n",
            "text/plain": [
              "$curso1\n",
              "$curso1$Nombre\n",
              "[1] \"Introducción a R\"\n",
              "\n",
              "$curso1$Instructor\n",
              "[1] \"Juan Perez\"\n",
              "\n",
              "$curso1$Estudiantes_inscritos\n",
              "[1] 30\n",
              "\n",
              "\n",
              "$curso2\n",
              "$curso2$Nombre\n",
              "[1] \"Python Avanzado\"\n",
              "\n",
              "$curso2$Instructor\n",
              "[1] \"Luis Gonzalez\"\n",
              "\n",
              "$curso2$Estudiantes_inscritos\n",
              "[1] 25\n",
              "\n",
              "\n",
              "$curso3\n",
              "$curso3$Nombre\n",
              "[1] \"Fundamentos de Ciencia de Datos\"\n",
              "\n",
              "$curso3$Instructor\n",
              "[1] \"Virgilio Hernandez\"\n",
              "\n",
              "$curso3$Estudiantes_inscritos\n",
              "[1] 40\n",
              "\n"
            ]
          },
          "metadata": {}
        }
      ]
    },
    {
      "cell_type": "markdown",
      "source": [
        "Eliminando Elementos: Elimina curso1 de listaCursos."
      ],
      "metadata": {
        "id": "Ny8vUZAZZnJh"
      }
    },
    {
      "cell_type": "code",
      "source": [
        "listaCursos"
      ],
      "metadata": {
        "colab": {
          "base_uri": "https://localhost:8080/",
          "height": 410
        },
        "id": "Cis3HNK5Zomf",
        "outputId": "8897b651-77cc-407e-b782-77d853e3fc7b"
      },
      "execution_count": null,
      "outputs": [
        {
          "output_type": "display_data",
          "data": {
            "text/html": [
              "<dl>\n",
              "\t<dt>$curso1</dt>\n",
              "\t\t<dd><dl>\n",
              "\t<dt>$Nombre</dt>\n",
              "\t\t<dd>'Introducción a R'</dd>\n",
              "\t<dt>$Instructor</dt>\n",
              "\t\t<dd>'Juan Perez'</dd>\n",
              "\t<dt>$Estudiantes_inscritos</dt>\n",
              "\t\t<dd>30</dd>\n",
              "</dl>\n",
              "</dd>\n",
              "\t<dt>$curso2</dt>\n",
              "\t\t<dd><dl>\n",
              "\t<dt>$Nombre</dt>\n",
              "\t\t<dd>'Python Avanzado'</dd>\n",
              "\t<dt>$Instructor</dt>\n",
              "\t\t<dd>'Luis Gonzalez'</dd>\n",
              "\t<dt>$Estudiantes_inscritos</dt>\n",
              "\t\t<dd>25</dd>\n",
              "</dl>\n",
              "</dd>\n",
              "\t<dt>$curso3</dt>\n",
              "\t\t<dd><dl>\n",
              "\t<dt>$Nombre</dt>\n",
              "\t\t<dd>'Fundamentos de Ciencia de Datos'</dd>\n",
              "\t<dt>$Instructor</dt>\n",
              "\t\t<dd>'Virgilio Hernandez'</dd>\n",
              "\t<dt>$Estudiantes_inscritos</dt>\n",
              "\t\t<dd>40</dd>\n",
              "</dl>\n",
              "</dd>\n",
              "</dl>\n"
            ],
            "text/markdown": "$curso1\n:   $Nombre\n:   'Introducción a R'\n$Instructor\n:   'Juan Perez'\n$Estudiantes_inscritos\n:   30\n\n\n\n$curso2\n:   $Nombre\n:   'Python Avanzado'\n$Instructor\n:   'Luis Gonzalez'\n$Estudiantes_inscritos\n:   25\n\n\n\n$curso3\n:   $Nombre\n:   'Fundamentos de Ciencia de Datos'\n$Instructor\n:   'Virgilio Hernandez'\n$Estudiantes_inscritos\n:   40\n\n\n\n\n\n",
            "text/latex": "\\begin{description}\n\\item[\\$curso1] \\begin{description}\n\\item[\\$Nombre] 'Introducción a R'\n\\item[\\$Instructor] 'Juan Perez'\n\\item[\\$Estudiantes\\_inscritos] 30\n\\end{description}\n\n\\item[\\$curso2] \\begin{description}\n\\item[\\$Nombre] 'Python Avanzado'\n\\item[\\$Instructor] 'Luis Gonzalez'\n\\item[\\$Estudiantes\\_inscritos] 25\n\\end{description}\n\n\\item[\\$curso3] \\begin{description}\n\\item[\\$Nombre] 'Fundamentos de Ciencia de Datos'\n\\item[\\$Instructor] 'Virgilio Hernandez'\n\\item[\\$Estudiantes\\_inscritos] 40\n\\end{description}\n\n\\end{description}\n",
            "text/plain": [
              "$curso1\n",
              "$curso1$Nombre\n",
              "[1] \"Introducción a R\"\n",
              "\n",
              "$curso1$Instructor\n",
              "[1] \"Juan Perez\"\n",
              "\n",
              "$curso1$Estudiantes_inscritos\n",
              "[1] 30\n",
              "\n",
              "\n",
              "$curso2\n",
              "$curso2$Nombre\n",
              "[1] \"Python Avanzado\"\n",
              "\n",
              "$curso2$Instructor\n",
              "[1] \"Luis Gonzalez\"\n",
              "\n",
              "$curso2$Estudiantes_inscritos\n",
              "[1] 25\n",
              "\n",
              "\n",
              "$curso3\n",
              "$curso3$Nombre\n",
              "[1] \"Fundamentos de Ciencia de Datos\"\n",
              "\n",
              "$curso3$Instructor\n",
              "[1] \"Virgilio Hernandez\"\n",
              "\n",
              "$curso3$Estudiantes_inscritos\n",
              "[1] 40\n",
              "\n"
            ]
          },
          "metadata": {}
        }
      ]
    },
    {
      "cell_type": "code",
      "source": [
        "listaCursos$curso1 <- NULL"
      ],
      "metadata": {
        "id": "aY30hqkoZvSN"
      },
      "execution_count": null,
      "outputs": []
    },
    {
      "cell_type": "code",
      "source": [
        "listaCursos"
      ],
      "metadata": {
        "colab": {
          "base_uri": "https://localhost:8080/",
          "height": 288
        },
        "id": "hHCp4Yj7Z1r9",
        "outputId": "f98ce251-5e21-4456-f06f-54732d47c5a4"
      },
      "execution_count": null,
      "outputs": [
        {
          "output_type": "display_data",
          "data": {
            "text/html": [
              "<dl>\n",
              "\t<dt>$curso2</dt>\n",
              "\t\t<dd><dl>\n",
              "\t<dt>$Nombre</dt>\n",
              "\t\t<dd>'Python Avanzado'</dd>\n",
              "\t<dt>$Instructor</dt>\n",
              "\t\t<dd>'Luis Gonzalez'</dd>\n",
              "\t<dt>$Estudiantes_inscritos</dt>\n",
              "\t\t<dd>25</dd>\n",
              "</dl>\n",
              "</dd>\n",
              "\t<dt>$curso3</dt>\n",
              "\t\t<dd><dl>\n",
              "\t<dt>$Nombre</dt>\n",
              "\t\t<dd>'Fundamentos de Ciencia de Datos'</dd>\n",
              "\t<dt>$Instructor</dt>\n",
              "\t\t<dd>'Virgilio Hernandez'</dd>\n",
              "\t<dt>$Estudiantes_inscritos</dt>\n",
              "\t\t<dd>40</dd>\n",
              "</dl>\n",
              "</dd>\n",
              "</dl>\n"
            ],
            "text/markdown": "$curso2\n:   $Nombre\n:   'Python Avanzado'\n$Instructor\n:   'Luis Gonzalez'\n$Estudiantes_inscritos\n:   25\n\n\n\n$curso3\n:   $Nombre\n:   'Fundamentos de Ciencia de Datos'\n$Instructor\n:   'Virgilio Hernandez'\n$Estudiantes_inscritos\n:   40\n\n\n\n\n\n",
            "text/latex": "\\begin{description}\n\\item[\\$curso2] \\begin{description}\n\\item[\\$Nombre] 'Python Avanzado'\n\\item[\\$Instructor] 'Luis Gonzalez'\n\\item[\\$Estudiantes\\_inscritos] 25\n\\end{description}\n\n\\item[\\$curso3] \\begin{description}\n\\item[\\$Nombre] 'Fundamentos de Ciencia de Datos'\n\\item[\\$Instructor] 'Virgilio Hernandez'\n\\item[\\$Estudiantes\\_inscritos] 40\n\\end{description}\n\n\\end{description}\n",
            "text/plain": [
              "$curso2\n",
              "$curso2$Nombre\n",
              "[1] \"Python Avanzado\"\n",
              "\n",
              "$curso2$Instructor\n",
              "[1] \"Luis Gonzalez\"\n",
              "\n",
              "$curso2$Estudiantes_inscritos\n",
              "[1] 25\n",
              "\n",
              "\n",
              "$curso3\n",
              "$curso3$Nombre\n",
              "[1] \"Fundamentos de Ciencia de Datos\"\n",
              "\n",
              "$curso3$Instructor\n",
              "[1] \"Virgilio Hernandez\"\n",
              "\n",
              "$curso3$Estudiantes_inscritos\n",
              "[1] 40\n",
              "\n"
            ]
          },
          "metadata": {}
        }
      ]
    },
    {
      "cell_type": "markdown",
      "source": [
        "# Data Frame\n",
        "\n",
        "Un data frame es una estructura de datos bidimensional. Es un caso especial de una lista donde cada uno de sus elementos o componente tiene igual longitud. Cada componente forman las columnas y el contenido de los componentes forman las filas.\n",
        "\n",
        "**Como crear un dataframe en R**\n",
        "Para crear un dataframe en R hay que usar la función data.frame. Como en el siguiente código.\n",
        "\n",
        "```\n",
        "\n",
        "df <- data.frame( dui = 1:7, edad = c(21, 23, 27, 28, 29, 30, 35),\n",
        "                  nombre = c(\"Juan\", \"Dora\", \"Hugo\",\n",
        "                             \"Francisco\", \"Luis\", \"Carlos\",  \n",
        "                             \"Mauricio\"))\n",
        "\n",
        "```"
      ],
      "metadata": {
        "id": "mypk4aS5OV0i"
      }
    },
    {
      "cell_type": "code",
      "source": [],
      "metadata": {
        "id": "egW3DSjdZufe"
      },
      "execution_count": null,
      "outputs": []
    },
    {
      "cell_type": "code",
      "source": [],
      "metadata": {
        "id": "RnToyLvHXf5T"
      },
      "execution_count": null,
      "outputs": []
    },
    {
      "cell_type": "code",
      "source": [],
      "metadata": {
        "id": "n1Tw_RyTWq--"
      },
      "execution_count": null,
      "outputs": []
    },
    {
      "cell_type": "markdown",
      "source": [
        "Funciones usuales para visualizar la información en un data frame son:\n",
        "\n",
        "* head: muestra por defecto las primeras 6 observaciones de un data frame.\n",
        "* tail: muestra por defecto las últimas 6 observaciones de un data frame.\n",
        "* str: permite ver la estructura interna de un data frame.\n",
        "\n",
        "**Ejercicio** Probar las anteriores funciones en el data frame df.\n",
        "\n"
      ],
      "metadata": {
        "id": "43tXW-6YrT6O"
      }
    },
    {
      "cell_type": "markdown",
      "source": [
        "**Como accesar a los componentes de un data frame.**\n",
        "\n",
        "La forma más usual para accesar a los componentes de un data frame es usando el operador $ que se ha usado previamente en las listas. Ejecutar lo siguiente para accesar a los elementos individuales del data frame df.\n",
        "\n",
        "```\n",
        "df$dui\n",
        "df$edad\n",
        "df$nombre\n",
        "```"
      ],
      "metadata": {
        "id": "7ol1KpK7yDtm"
      }
    },
    {
      "cell_type": "markdown",
      "source": [
        "**Accesando a elementos de un data frame como una matriz**\n",
        "\n",
        "Ejecutar lo siguiente en una celda de código.\n",
        "\n",
        "```\n",
        "library(help=\"datasets\")\n",
        "```"
      ],
      "metadata": {
        "id": "21D4SufZ2kEH"
      }
    },
    {
      "cell_type": "markdown",
      "source": [
        "El anterior código nos permite visualizar los conjuntos de datos que estan en el paquete datasets, los paquetes en R nos permiten extender la funcionalidad de R. Hay una serie de paquetes en R que se cargan por defecto uno de ellos es el paquete datasets que tienen conjuntos de datos, lo podemos verificar con el siguiente código.\n",
        "\n",
        "```\n",
        "\"package:datasets\" %in% search()\n",
        "```"
      ],
      "metadata": {
        "id": "h-GJV-fI3VzZ"
      }
    },
    {
      "cell_type": "markdown",
      "source": [
        "**Ejercicio**:\n",
        "\n",
        "Cuando se ejecuta R automáticamente se carga el data frame tree, ejecutar los siguientes comandos para tener una idea de este conjunto de datos.\n",
        "\n",
        "```\n",
        "str(trees)\n",
        "\n",
        "head(trees)\n",
        "\n",
        "head(trees, n = 10)\n",
        "\n",
        "tail(trees)\n",
        "\n",
        "tail(trees, n = 10)\n",
        "\n",
        "```"
      ],
      "metadata": {
        "id": "tvMpY-C65ti9"
      }
    },
    {
      "cell_type": "markdown",
      "source": [
        "**Nota**: Puedes tener más información del data frame trees con el siguiente comando.\n",
        "\n",
        "```\n",
        "help(trees)\n",
        "```\n",
        "\n",
        "A continuación vamos a ejecutar funciones que nos permiten *seleccionar* parte del data frame trees.\n",
        "\n",
        "```\n",
        "# seleccionando filas 2 y 3 del data frame trees\n",
        "trees[2:3, ]\n",
        "\n",
        "```\n",
        "\n"
      ],
      "metadata": {
        "id": "FBI_xH036t4L"
      }
    },
    {
      "cell_type": "markdown",
      "source": [
        "```\n",
        "# seleccionar la columna Height y las filas de la 10 a la 12\n",
        "trees[10:12, \"Height\"]\n",
        "\n",
        "```\n"
      ],
      "metadata": {
        "id": "8zK5NgId76tw"
      }
    },
    {
      "cell_type": "markdown",
      "source": [
        "```\n",
        "# seleccionar las columnas \"Height\" y \"Volume\", y las filas 1, 3, y 10.\n",
        "trees[10:12, \"Height\"]\n",
        "\n",
        "```\n"
      ],
      "metadata": {
        "id": "YZ4AEspc_C0_"
      }
    },
    {
      "cell_type": "markdown",
      "source": [
        "```\n",
        "# seleccionar las filas que cumplen la siguiente cóndición:\n",
        "\n",
        "# Seleccionar filas donde Girth es mayor que 10 pulgadas y Height es mayor que 70 pies.\n",
        "\n",
        "trees[trees$Girth > 10 & trees$Height > 70, ]\n",
        "\n",
        "\n",
        "```"
      ],
      "metadata": {
        "id": "AdhY77QwBGGL"
      }
    },
    {
      "cell_type": "markdown",
      "source": [
        "```\n",
        "# seleccionar las filas que cumplen la siguiente cóndición:\n",
        "\n",
        "# Seleccionar filas donde Girth es mayor que 18 pulgadas o Height es mayor que 75 pies.\n",
        "\n",
        "trees[trees$Girth > 18 | trees$Height > 75, ]\n",
        "\n",
        "\n",
        "```"
      ],
      "metadata": {
        "id": "vvkVZ724DJWl"
      }
    },
    {
      "cell_type": "markdown",
      "source": [
        "```\n",
        "\n",
        "# Seleccionar filas donde Girth no es mayor que 18 pulgadas.\n",
        "\n",
        "trees[!trees$Girth > 18, ]\n",
        "\n",
        "```"
      ],
      "metadata": {
        "id": "6T2Dofv0Df_l"
      }
    },
    {
      "cell_type": "markdown",
      "source": [
        "```\n",
        "\n",
        "# Seleccionar filas donde Girth es mayor que 10 pulgadas y Height no es mayor que 75 pies.\n",
        "\n",
        "trees[trees$Girth > 10 & !(trees$Height > 75), ]\n",
        "\n",
        "```"
      ],
      "metadata": {
        "id": "AdSLC6zQExSQ"
      }
    },
    {
      "cell_type": "markdown",
      "source": [
        "**Ejercicio**\n",
        "\n",
        "Con respecto al dataset iris perteneciente al paquete datasets, realizar lo siguiente:\n",
        "\n",
        "* Realizar exploraciones iniciales usando las funciones head, tail, y str.\n",
        "* Usar la función summary para obtener resumenes númericos del dataset iris.  \n",
        "* Seleccionar filas donde el Sepal.Length es mayor o igual que 5.0 y Sepal.Width es menor que 3.5.\n",
        "* Seleccionar filas donde la especie es setosa o el Petal.Width es mayor que 2.0.\n",
        "* Seleccionar filas donde la especie no es Virginica\n",
        "* Seleccionar filas donde no se cumpla lo siguiente el Petal.Width sea mayor que 0.5 y que el Petal.Width sea menor que 1.5.\n",
        "* Seleccionar filas donde la especie sea virginica y se cumpla lo siguiente Petal.Length es mayor que 5.0 o Petal.Width es menor que 1.5.\n",
        "\n"
      ],
      "metadata": {
        "id": "sC1Ef2473jee"
      }
    },
    {
      "cell_type": "markdown",
      "source": [
        "**Como modificar un data frame**\n",
        "\n",
        "Para modificar un data frame debemos usar el operador de asignación (o reasignación), por ejemplo con el siguiente data frame:\n",
        "\n",
        "```\n",
        "df <- data.frame( dui = 1:7, edad = c(21, 23, 27, 28, 29, 30, 35),\n",
        "                  nombre = c(\"Juan\", \"Dora\", \"Hugo\",\n",
        "                             \"Francisco\", \"Luis\", \"Carlos\",  \n",
        "                             \"Mauricio\"))\n",
        "```    \n",
        "\n",
        "Podemos modificar el valor del nombre de la primera fila con la siguiente re-asignación:\n",
        "\n",
        "```\n",
        "df[1, \"nombre\"] <- \"Francisco\"\n",
        "```"
      ],
      "metadata": {
        "id": "0i5QeoXQUgpS"
      }
    },
    {
      "cell_type": "markdown",
      "source": [
        "**Como agregar filas a un data frame**\n",
        "\n",
        "Podemos agregar filas a un data frame usando la función rbind y creando una lista de la siguiente forma:\n",
        "\n",
        "```\n",
        "new_row <- list(dui = 8, edad = 46, nombre = \"Andres\")\n",
        "df <- rbind(df, new_row)\n",
        "```"
      ],
      "metadata": {
        "id": "xttNdUgnZrYp"
      }
    },
    {
      "cell_type": "code",
      "source": [
        "new_row <- list(dui = 8, edad = 46, nombre = \"Andres\")\n",
        "df <- rbind(df, new_row)"
      ],
      "metadata": {
        "id": "XW6qZWSlaQz-"
      },
      "execution_count": null,
      "outputs": []
    },
    {
      "cell_type": "markdown",
      "source": [
        "**Borrando columnas de un data frame**\n",
        "\n",
        "Para borrar las columnas de un data frame se debe asignar la columna al valor NULL, a continuación vamos a borrar la variable edad del data frame df.\n",
        "\n",
        "```\n",
        "head(df)\n",
        "df$edad <- NULL\n",
        "head(df)\n",
        "```"
      ],
      "metadata": {
        "id": "_8pwRurcYbk0"
      }
    },
    {
      "cell_type": "markdown",
      "source": [
        "**Borrando filas en un data frame**\n",
        "\n",
        "Para borrar filas en un data frame se puede hacer de dos formas:\n",
        "\n",
        "* Borrando filas basandome en una condición específica.  \n",
        "* Borrando filas por su índice.\n",
        "\n",
        "Puedes ver más detalles en el siguiente enlace:\n",
        "\n",
        "[Borrando filas en R](https://chat.openai.com/share/2b717d8f-7457-4053-9d91-76654452bda4)\n",
        "\n",
        "\n",
        "Por ejemplo si quisieramos borrar del data frame df a las filas que cumplen las condicion que el nombre sea Luis tendriamos que hacer lo siguiente:\n",
        "\n",
        "```\n",
        "df <- df[df$nombre != \"Luis\", ]\n",
        "```\n"
      ],
      "metadata": {
        "id": "LANz16e_ax8d"
      }
    },
    {
      "cell_type": "markdown",
      "source": [
        "# Factores\n",
        "\n",
        "Los factores nos permiten representar las variables cualitativas las cuales pueden ser nominales y ordinales. Los niveles de un factor son los valores posibles que puede tomar la variable cualitativa.\n",
        "\n",
        "A continuación vamos a crear un factor y un vector de caracter con la misma información con el siguiente código.\n",
        "\n",
        "```\n",
        "x <- c(\"single\", \"married\", \"married\", \"single\")\n",
        "\n",
        "x\n",
        "\n",
        "x_factor <- factor(c(\"single\", \"married\", \"married\", \"single\"))\n",
        "\n",
        "x_factor\n",
        "```"
      ],
      "metadata": {
        "id": "jo8kCMUVKRug"
      }
    },
    {
      "cell_type": "markdown",
      "source": [
        "Resulta que las funciones de R tratan de manera diferente (polimorfismo) los vectores de caracteres y los factores, prueba de ello es el siguiente código:\n",
        "\n",
        "```\n",
        "summary(x)\n",
        "summary(x_factor)\n",
        "```"
      ],
      "metadata": {
        "id": "3VYwYA7cPJQc"
      }
    },
    {
      "cell_type": "markdown",
      "source": [
        "Tambien podemos definir los valores de los niveles de manera explicita como en el siguiente código.\n",
        "\n",
        "```\n",
        "x_factor <- factor(c(\"single\", \"married\", \"married\", \"single\"), levels = c(\"single\", \"married\", \"divorced\"))\n",
        "x_factor![r-if-statement.jpg](data:image/jpeg;base64,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![r-if-statement.jpg](data:image/jpeg;base64,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![r-if-statement.png](data:image/png;base64,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)))\n",
        "```"
      ],
      "metadata": {
        "id": "3KhYPX2fOg9W"
      }
    },
    {
      "cell_type": "markdown",
      "source": [
        "**Como accesar a los componentes de un factor**\n",
        "\n",
        "Para accesar a los componentes de un factor se hace de la misma manera que con los vectores."
      ],
      "metadata": {
        "id": "vCYnchkdP-lW"
      }
    },
    {
      "cell_type": "markdown",
      "source": [
        "**Como modificar un factor**\n",
        "\n",
        "Para modificar los componentes de  un factor se hace de la misma manera que con vectores, sin embargo, no se puede establecer valores diferentes a los niveles previamente asignados."
      ],
      "metadata": {
        "id": "ycjXd213QJnK"
      }
    },
    {
      "cell_type": "markdown",
      "source": [
        "**Consultando los níveles del factor**\n",
        "\n",
        "Para consultar los niveles de un factor se usa la función levels, a continuación detallo un ejemplo.\n",
        "\n",
        "```\n",
        "levels(x_factor)\n",
        "```"
      ],
      "metadata": {
        "id": "GEdEGcVmR4_d"
      }
    },
    {
      "cell_type": "markdown",
      "source": [
        "**Definiendo un factor ordernado**\n",
        "\n",
        "Para definir un factor ordenado hay que usar la opción ordered = TRUE, además al definir los niveles deben ir de menor a mayor.\n",
        "\n",
        "\n",
        "```\n",
        "x_factor_ordered <- factor(c(\"neutral\", \"good\", \"bad\", \"good\"), levels = c(\"bad\", \"neutral\", \"good\"), ordered = TRUE)\n",
        "x_factor_ordered\n",
        "\n",
        "```"
      ],
      "metadata": {
        "id": "NvZDGwilSkWk"
      }
    },
    {
      "cell_type": "markdown",
      "source": [
        "Podemos hacer comparaciones de orden en factores ordenados, por ejemplo:\n",
        "\n",
        "```\n",
        "x_factor_ordered[1] < x_factor_ordered[2]\n",
        "```"
      ],
      "metadata": {
        "id": "VfLwcX6AXjpU"
      }
    },
    {
      "cell_type": "markdown",
      "source": [
        "# La instrucción if else\n",
        "\n",
        "**La instrucción if**\n",
        "\n",
        "La sintaxis de la instrucción if es:\n",
        "\n",
        "```\n",
        "if (test_expression){\n",
        "   statement\n",
        "}\n",
        "```\n",
        "\n"
      ],
      "metadata": {
        "id": "GWu4shqhakw2"
      }
    },
    {
      "cell_type": "markdown",
      "source": [
        "Si test_expression es verdadero (TRUE), la instrucción statement es ejecutada. Pero si es falsa (FALSE), el control del programa pasa a la línea despues de las llaves de cierre.\n",
        "\n",
        "Aquí, test_expression puede ser un vector lógico o vector númerico, pero solo el primer elemento es tomado en consideración.\n",
        "\n",
        "En el caso de vectores númericos, cero es tomado como falso (FALSE) y cualquier otro valor es tomado como verdadero (TRUE). A continuación mostramos el diagrama de flujo de la instrucción if.\n"
      ],
      "metadata": {
        "id": "tR3ivi9idNhK"
      }
    },
    {
      "cell_type": "markdown",
      "source": [
        "\n",
        "\n",
        "![If statement](https://raw.githubusercontent.com/ricardo-rios/fund_prog_est/main/UnidadI/if_statement.png \"If statement\")"
      ],
      "metadata": {
        "id": "FIxD1xL8hvSc"
      }
    },
    {
      "cell_type": "markdown",
      "source": [
        "A continuación mostramos un ejemplo de uso de la instrucción if.\n",
        "\n",
        "```\n",
        "x <- 5\n",
        "if (x > 0){\n",
        "   print(\"Positive number\")\n",
        "}\n",
        "```"
      ],
      "metadata": {
        "id": "K4EMob96iUmW"
      }
    }
  ]
}