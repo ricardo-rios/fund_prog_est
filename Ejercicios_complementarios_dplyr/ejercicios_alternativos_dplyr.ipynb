{
  "nbformat": 4,
  "nbformat_minor": 0,
  "metadata": {
    "colab": {
      "provenance": []
    },
    "kernelspec": {
      "name": "ir",
      "display_name": "R"
    },
    "language_info": {
      "name": "R"
    }
  },
  "cells": [
    {
      "cell_type": "markdown",
      "source": [
        "# Cargando librerias"
      ],
      "metadata": {
        "id": "DIWrjNMWqVZv"
      }
    },
    {
      "cell_type": "code",
      "source": [
        "library(tidyverse)"
      ],
      "metadata": {
        "id": "QWNjLmU1qXIH"
      },
      "execution_count": null,
      "outputs": []
    },
    {
      "cell_type": "markdown",
      "source": [
        "Usando dplyr, desarrolle los ejercicios siguientes poniendo el respectivo código en la celda correspondiente.\n",
        "\n",
        "Problema 1\n",
        "\n",
        "Con respecto al dataframe iris el cual se carga por defecto, seleccione las filas que cumplen lo siguiente:\n",
        "\n",
        "La especie es setosa y la longitud del petalo es mayor que 1.4."
      ],
      "metadata": {
        "id": "ha-b6QR1qbrF"
      }
    },
    {
      "cell_type": "code",
      "source": [],
      "metadata": {
        "id": "ypJrvLHsrjQa"
      },
      "execution_count": null,
      "outputs": []
    },
    {
      "cell_type": "markdown",
      "source": [
        "Problema 2\n",
        "\n",
        "Con respecto al dataframe iris el cual se carga por defecto, seleccione las filas que cumplen lo siguiente:\n",
        "\n",
        "La especie es versicolor o la longitud del sepalo es mayor que 3.5."
      ],
      "metadata": {
        "id": "n-Vz1riPuSbm"
      }
    },
    {
      "cell_type": "code",
      "source": [],
      "metadata": {
        "id": "9kR22fhSuTXf"
      },
      "execution_count": null,
      "outputs": []
    },
    {
      "cell_type": "markdown",
      "source": [
        "Problema 3\n",
        "\n",
        "Con respecto al data frame iris del paquete datasets, seleccione las filas que no cumplan el siguiente criterio:\n",
        "\n",
        "La especie es setosa o el ancho del sépalo es mayor que 3.5."
      ],
      "metadata": {
        "id": "83PFCEmzwefb"
      }
    },
    {
      "cell_type": "code",
      "source": [],
      "metadata": {
        "id": "yIpube8Qw50Z"
      },
      "execution_count": null,
      "outputs": []
    },
    {
      "cell_type": "markdown",
      "source": [
        "Problema 4\n",
        "\n",
        "Con respecto al dataframe iris del paquete datasets, calcule la media del largo del sépalo por cada nivel de la variable especie."
      ],
      "metadata": {
        "id": "c_TatfuvxDS1"
      }
    },
    {
      "cell_type": "code",
      "source": [],
      "metadata": {
        "id": "EjsAXmKePXDh"
      },
      "execution_count": null,
      "outputs": []
    },
    {
      "cell_type": "markdown",
      "source": [
        "Problema 5\n",
        "\n",
        "Con respecto al dataframe sleep del paquete datasets, calcule la media de la variable extra para cada combinación de las variables group y ID."
      ],
      "metadata": {
        "id": "9ZqpZP2MPXnC"
      }
    },
    {
      "cell_type": "code",
      "source": [],
      "metadata": {
        "id": "Pd3M48PWRxkb"
      },
      "execution_count": null,
      "outputs": []
    }
  ]
}