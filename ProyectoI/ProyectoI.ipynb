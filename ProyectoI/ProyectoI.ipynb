{
  "nbformat": 4,
  "nbformat_minor": 0,
  "metadata": {
    "colab": {
      "provenance": []
    },
    "kernelspec": {
      "name": "ir",
      "display_name": "R"
    },
    "language_info": {
      "name": "R"
    }
  },
  "cells": [
    {
      "cell_type": "code",
      "source": [],
      "metadata": {
        "id": "VvkoNawu7q4w"
      },
      "execution_count": null,
      "outputs": []
    },
    {
      "cell_type": "markdown",
      "source": [
        "\n",
        "Universidad de El Salvador\n",
        "\n",
        "Facultad de Ciencias Naturales y Matemática\n",
        "\n",
        "Escuela de Matemática\n",
        "\n",
        "Maestria en Estadística y Ciencia de Datos\n",
        "\n",
        "Fundamentos de Programación Estadística\n",
        "\n",
        "Proyecto I\n",
        "\n",
        "Desarrolle los ejercicios siguientes poniendo el respectivo código en la celda correspondiente.\n",
        "\n",
        "\n",
        "Problema 1 [20%]\n",
        "\n",
        "Con respecto al data frame mtcars del paquete datasets, seleccione las filas que cumplan el siguiente criterio:\n",
        "\n",
        "El número de cilindros (cyl) es 6 y el carro tiene transmisión automática (am).\n",
        "\n",
        "Sugerencia: Usar la ayuda del data frame mtcars con la instrucción help(mtcars)."
      ],
      "metadata": {
        "id": "W3CHfgAy5Cip"
      }
    },
    {
      "cell_type": "code",
      "source": [],
      "metadata": {
        "id": "vBMeohyC7-by"
      },
      "execution_count": null,
      "outputs": []
    },
    {
      "cell_type": "markdown",
      "source": [
        "Problema 2 [20%]\n",
        "\n",
        "Con respecto al data frame mtcars del paquete datasets, seleccione las filas que cumplan el siguiente criterio:\n",
        "\n",
        "El número de cilindros (cyl) es 6 o el carro tiene alta relación de transmisión (gear igual a 5).\n",
        "\n",
        "Sugerencia: Usar la ayuda del data frame mtcars con la instrucción help(mtcars)."
      ],
      "metadata": {
        "id": "YDDb2Nj7-hMM"
      }
    },
    {
      "cell_type": "code",
      "source": [],
      "metadata": {
        "id": "gwuedzDZ_Qmj"
      },
      "execution_count": null,
      "outputs": []
    },
    {
      "cell_type": "markdown",
      "source": [
        "Problema 3 [20%]\n",
        "\n",
        "Con respecto al data frame mtcars del paquete datasets, seleccione las filas que no cumplan el siguiente criterio:\n",
        "\n",
        "El número de cilindros (cyl) es 6 o el carro es de transmisión automática (am).\n",
        "\n",
        "Sugerencia: Usar la ayuda del data frame mtcars con la instrucción help(mtcars).\n"
      ],
      "metadata": {
        "id": "aZk3MFtXZ5JG"
      }
    },
    {
      "cell_type": "code",
      "source": [],
      "metadata": {
        "id": "CIHLFN1veMVj"
      },
      "execution_count": null,
      "outputs": []
    },
    {
      "cell_type": "markdown",
      "source": [
        "Problema 4 [20%]\n",
        "\n",
        "Los siguientes son datos de una encuesta de satisfacción al cliente en una pizzeria de New York.\n",
        "\n",
        "|  |       |  |  |  |\n",
        "|------|-----------|-----------|------|------|\n",
        "| Fair | Excellent | Excellent | Fair | Fair |\n",
        "| Poor | Fair      | Excellent | Good | Good |\n",
        "| Fair | Good | Good | Good | Fair |\n",
        "| Poor | Poor      | Excellent | Fair | Good |\n",
        "\n",
        "\n",
        "\n",
        "Se pide crear un factor ordenado con la anterior información. Sugerencia: Puede usar la función rep."
      ],
      "metadata": {
        "id": "UxWUbt0ueT7I"
      }
    },
    {
      "cell_type": "code",
      "source": [],
      "metadata": {
        "id": "VTbJH1PReYj-"
      },
      "execution_count": null,
      "outputs": []
    },
    {
      "cell_type": "markdown",
      "source": [
        "Problema 5 [20%]\n",
        "\n",
        "Sabiendo que la edad de Messi es 36 años, use una escalera if-else-if para clasificar su edad en base al siguiente criterio:\n",
        "\n",
        "* Menor que 13 años es categorizado como Niño\n",
        "* Entre 13 y 19 años (ambos valores inclusive) es categorizado como Adolescente\n",
        "* Entre 20 y 64 años (ambos valores inclusive) es categorizado como Adulto\n",
        "* Mayor de 64 años es categorizado como Adulto mayor\n",
        "\n",
        "El código debe imprimir el nombre de Messi y su correspondiente categoria.\n"
      ],
      "metadata": {
        "id": "7qsBrBkBkEjc"
      }
    },
    {
      "cell_type": "code",
      "source": [],
      "metadata": {
        "id": "PhSUn8sOmLi4"
      },
      "execution_count": null,
      "outputs": []
    }
  ]
}