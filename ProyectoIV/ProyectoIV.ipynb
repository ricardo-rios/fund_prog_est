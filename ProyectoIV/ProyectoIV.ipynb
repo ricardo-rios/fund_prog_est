{
  "nbformat": 4,
  "nbformat_minor": 0,
  "metadata": {
    "colab": {
      "provenance": []
    },
    "kernelspec": {
      "name": "ir",
      "display_name": "R"
    },
    "language_info": {
      "name": "R"
    }
  },
  "cells": [
    {
      "cell_type": "markdown",
      "source": [
        "# Cargando librerias"
      ],
      "metadata": {
        "id": "bd1BHfTTjtCf"
      }
    },
    {
      "cell_type": "code",
      "source": [
        "library(tidyverse)"
      ],
      "metadata": {
        "id": "T3hJlhhmjsLP"
      },
      "execution_count": null,
      "outputs": []
    },
    {
      "cell_type": "markdown",
      "source": [
        "\n",
        "Universidad de El Salvador\n",
        "\n",
        "Facultad de Ciencias Naturales y Matemática\n",
        "\n",
        "Escuela de Matemática\n",
        "\n",
        "Maestria en Estadística y Ciencia de Datos\n",
        "\n",
        "Fundamentos de Programación Estadística\n",
        "\n",
        "Proyecto IV\n",
        "\n",
        "\n",
        "\n",
        "Usando dplyr, desarrolle los ejercicios siguientes poniendo el respectivo código en la celda correspondiente.\n",
        "\n",
        "\n",
        "Problema 1 [20%]\n",
        "\n",
        "Con respecto al data frame mtcars del paquete datasets, seleccione las filas que cumplan el siguiente criterio:\n",
        "\n",
        "El número de cilindros (cyl) es 6 y el carro tiene transmisión automática (am).\n",
        "\n",
        "Sugerencia: Usar la ayuda del data frame mtcars con la instrucción help(mtcars)."
      ],
      "metadata": {
        "id": "W3CHfgAy5Cip"
      }
    },
    {
      "cell_type": "code",
      "source": [],
      "metadata": {
        "id": "vBMeohyC7-by"
      },
      "execution_count": null,
      "outputs": []
    },
    {
      "cell_type": "markdown",
      "source": [
        "Problema 2 [20%]\n",
        "\n",
        "Con respecto al data frame mtcars del paquete datasets, seleccione las filas que cumplan el siguiente criterio:\n",
        "\n",
        "El número de cilindros (cyl) es 6 o el carro tiene alta relación de transmisión (gear igual a 5).\n",
        "\n",
        "Sugerencia: Usar la ayuda del data frame mtcars con la instrucción help(mtcars)."
      ],
      "metadata": {
        "id": "YDDb2Nj7-hMM"
      }
    },
    {
      "cell_type": "code",
      "source": [],
      "metadata": {
        "id": "gwuedzDZ_Qmj"
      },
      "execution_count": null,
      "outputs": []
    },
    {
      "cell_type": "markdown",
      "source": [
        "Problema 3 [20%]\n",
        "\n",
        "Con respecto al data frame mtcars del paquete datasets, seleccione las filas que no cumplan el siguiente criterio:\n",
        "\n",
        "El número de cilindros (cyl) es 6 o el carro es de transmisión automática (am).\n",
        "\n",
        "Sugerencia: Usar la ayuda del data frame mtcars con la instrucción help(mtcars).\n"
      ],
      "metadata": {
        "id": "aZk3MFtXZ5JG"
      }
    },
    {
      "cell_type": "code",
      "source": [],
      "metadata": {
        "id": "CIHLFN1veMVj"
      },
      "execution_count": null,
      "outputs": []
    },
    {
      "cell_type": "markdown",
      "source": [
        "Problema 4 [20%]\n",
        "\n",
        "Con respecto al dataframe mtcars del paquete datasets, calcule la media de la variable mpg por cada nivel de la variable cyl.\n",
        "\n",
        "**Sugerencia**: Use group_by en conjunción con summarize. Puede revisar la sección Groups del capítulo 3: Data Transformation del libro R for Data Science."
      ],
      "metadata": {
        "id": "UxWUbt0ueT7I"
      }
    },
    {
      "cell_type": "code",
      "source": [],
      "metadata": {
        "id": "VTbJH1PReYj-"
      },
      "execution_count": null,
      "outputs": []
    },
    {
      "cell_type": "markdown",
      "source": [
        "Problema 5 [20%]\n",
        "\n",
        "Con respecto al dataframe mtcars del paquete datasets, calcule la media de la variable mpg para cada combinación de las variables cyl y am.\n",
        "\n",
        "**Sugerencia**: Use group_by con dos variables en conjunción con summarize. Puede revisar la sección Groups del capítulo 3: Data Transformation del libro R for Data Science.\n"
      ],
      "metadata": {
        "id": "7qsBrBkBkEjc"
      }
    },
    {
      "cell_type": "code",
      "source": [],
      "metadata": {
        "id": "6V6G7RF7ixzx"
      },
      "execution_count": null,
      "outputs": []
    }
  ]
}