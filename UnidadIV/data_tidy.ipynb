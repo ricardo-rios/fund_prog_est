{
  "cells": [
    {
      "cell_type": "markdown",
      "metadata": {
        "id": "2aEkyvP2H4j3"
      },
      "source": [
        "# Data tidying\n",
        "\n",
        "\n",
        "```{r}\n",
        "source(\"https://raw.githubusercontent.com/ricardo-rios/fund_prog_est/main/_common.R\")\n",
        "```\n"
      ]
    },
    {
      "cell_type": "code",
      "source": [],
      "metadata": {
        "id": "MKxoW1FsISxv"
      },
      "execution_count": null,
      "outputs": []
    },
    {
      "cell_type": "markdown",
      "source": [
        "## Introduction\n",
        "\n",
        "> \"Happy families are all alike; every unhappy family is unhappy in its own way.\"\\\n",
        "> --- Leo Tolstoy\n",
        "\n",
        "> \"Tidy datasets are all alike, but every messy dataset is messy in its own way.\"\\\n",
        "> --- Hadley Wickham\n",
        "\n",
        "In this chapter, you will learn a consistent way to organize your data in R using a system called **tidy data**.\n",
        "Getting your data into this format requires some work up front, but that work pays off in the long term.\n",
        "Once you have tidy data and the tidy tools provided by packages in the tidyverse, you will spend much less time munging data from one representation to another, allowing you to spend more time on the data questions you care about.\n",
        "\n",
        "In this chapter, you'll first learn the definition of tidy data and see it applied to a simple toy dataset.\n",
        "Then we'll dive into the primary tool you'll use for tidying data: pivoting.\n",
        "Pivoting allows you to change the form of your data without changing any of the values.\n",
        "\n",
        "### Prerequisites\n",
        "\n",
        "In this chapter, we'll focus on tidyr, a package that provides a bunch of tools to help tidy up your messy datasets.\n",
        "tidyr is a member of the core tidyverse.\n",
        "\n",
        "```{r}\n",
        "library(tidyverse)\n",
        "```\n"
      ],
      "metadata": {
        "id": "jAKdB-cIIZV7"
      }
    },
    {
      "cell_type": "code",
      "source": [
        "library(tidyverse)"
      ],
      "metadata": {
        "colab": {
          "base_uri": "https://localhost:8080/"
        },
        "id": "kALooqYjIfb6",
        "outputId": "7ec2ade3-41b8-4ca0-e47a-2eaea77e37ae"
      },
      "execution_count": null,
      "outputs": [
        {
          "output_type": "stream",
          "name": "stderr",
          "text": [
            "── \u001b[1mAttaching core tidyverse packages\u001b[22m ──────────────────────── tidyverse 2.0.0 ──\n",
            "\u001b[32m✔\u001b[39m \u001b[34mdplyr    \u001b[39m 1.1.4     \u001b[32m✔\u001b[39m \u001b[34mreadr    \u001b[39m 2.1.5\n",
            "\u001b[32m✔\u001b[39m \u001b[34mforcats  \u001b[39m 1.0.0     \u001b[32m✔\u001b[39m \u001b[34mstringr  \u001b[39m 1.5.1\n",
            "\u001b[32m✔\u001b[39m \u001b[34mggplot2  \u001b[39m 3.4.4     \u001b[32m✔\u001b[39m \u001b[34mtibble   \u001b[39m 3.2.1\n",
            "\u001b[32m✔\u001b[39m \u001b[34mlubridate\u001b[39m 1.9.3     \u001b[32m✔\u001b[39m \u001b[34mtidyr    \u001b[39m 1.3.1\n",
            "\u001b[32m✔\u001b[39m \u001b[34mpurrr    \u001b[39m 1.0.2     \n",
            "── \u001b[1mConflicts\u001b[22m ────────────────────────────────────────── tidyverse_conflicts() ──\n",
            "\u001b[31m✖\u001b[39m \u001b[34mpurrr\u001b[39m::\u001b[32m%||%()\u001b[39m   masks \u001b[34mbase\u001b[39m::%||%()\n",
            "\u001b[31m✖\u001b[39m \u001b[34mdplyr\u001b[39m::\u001b[32mfilter()\u001b[39m masks \u001b[34mstats\u001b[39m::filter()\n",
            "\u001b[31m✖\u001b[39m \u001b[34mdplyr\u001b[39m::\u001b[32mlag()\u001b[39m    masks \u001b[34mstats\u001b[39m::lag()\n",
            "\u001b[36mℹ\u001b[39m Use the conflicted package (\u001b[3m\u001b[34m<http://conflicted.r-lib.org/>\u001b[39m\u001b[23m) to force all conflicts to become errors\n"
          ]
        }
      ]
    },
    {
      "cell_type": "markdown",
      "source": [
        "## Tidy data\n",
        "\n",
        "You can represent the same underlying data in multiple ways.\n",
        "The example below shows the same data organized in three different ways.\n",
        "Each dataset shows the same values of four variables: *country*, *year*, *population*, and number of documented *cases* of TB (tuberculosis), but each dataset organizes the values in a different way.\n",
        "\n",
        "```{r}\n",
        "table1\n",
        "\n",
        "table2\n",
        "\n",
        "table3\n",
        "```\n"
      ],
      "metadata": {
        "id": "Ju308PsNNY-I"
      }
    },
    {
      "cell_type": "code",
      "source": [],
      "metadata": {
        "id": "a0Vwe43rNlRK"
      },
      "execution_count": null,
      "outputs": []
    },
    {
      "cell_type": "code",
      "source": [],
      "metadata": {
        "id": "uiZZZJFPOLsk"
      },
      "execution_count": null,
      "outputs": []
    },
    {
      "cell_type": "code",
      "source": [],
      "metadata": {
        "id": "aWxzBlsWNlYN"
      },
      "execution_count": null,
      "outputs": []
    },
    {
      "cell_type": "markdown",
      "source": [
        "These are all representations of the same underlying data, but they are not equally easy to use.\n",
        "One of them, `table1`, will be much easier to work with inside the tidyverse because it's **tidy**.\n",
        "\n",
        "There are three interrelated rules that make a dataset tidy:\n",
        "\n",
        "1.  Each variable is a column; each column is a variable.\n",
        "2.  Each observation is a row; each row is an observation.\n",
        "3.  Each value is a cell; each cell is a single value.\n",
        "\n",
        "The following figure shows the rules visually.\n",
        "\n",
        "![](https://raw.githubusercontent.com/ricardo-rios/fund_prog_est/main/images/tidy-1.png)\n"
      ],
      "metadata": {
        "id": "fW_JDBfiOIZG"
      }
    },
    {
      "cell_type": "markdown",
      "source": [
        "Why ensure that your data is tidy?\n",
        "There are two main advantages:\n",
        "\n",
        "1.  There's a general advantage to picking one consistent way of storing data.\n",
        "    If you have a consistent data structure, it's easier to learn the tools that work with it because they have an underlying uniformity.\n",
        "\n",
        "2.  There's a specific advantage to placing variables in columns because it allows R's vectorized nature to shine.\n",
        "    As you learned in @sec-mutate and @sec-summarize, most built-in R functions work with vectors of values.\n",
        "    That makes transforming tidy data feel particularly natural.\n",
        "\n",
        "dplyr, ggplot2, and all the other packages in the tidyverse are designed to work with tidy data.\n",
        "Here are a few small examples showing how you might work with `table1`.\n",
        "\n",
        "\n",
        "The following figure shows the number of cases in 1999 and 2000 for Afghanistan, Brazil, and China, with year on the x-axis and number of cases on the y-axis. Each point on the plot represents the number of cases in a given country in a given year. The points for each country are differentiated from others by color and shape and connected with a line, resulting in three, non-parallel, non-intersecting lines.\n",
        "\n",
        "The numbers of cases in China are highest for both 1999 and 2000, with values above 200,000 for both years. The number of cases in Brazil is approximately 40,000 in 1999 and approximately 75,000 in 2000. The numbers of cases in Afghanistan are lowest for both 1999 and 2000, with values that appear to be very close to 0 on this scale.\n",
        "\n",
        "\n",
        "```{r}\n",
        "\n",
        "# Compute rate per 10,000\n",
        "table1 |>\n",
        "  mutate(rate = cases / population * 10000)\n",
        "\n",
        "# Compute total cases per year\n",
        "table1 |>\n",
        "  group_by(year) |>\n",
        "  summarize(total_cases = sum(cases))\n",
        "\n",
        "# Visualize changes over time\n",
        "ggplot(table1, aes(x = year, y = cases)) +\n",
        "  geom_line(aes(group = country), color = \"grey50\") +\n",
        "  geom_point(aes(color = country, shape = country)) +\n",
        "  scale_x_continuous(breaks = c(1999, 2000)) # x-axis breaks at 1999 and 2000\n",
        "  \n",
        "```\n",
        "\n"
      ],
      "metadata": {
        "id": "Z67RfLDQQDdT"
      }
    },
    {
      "cell_type": "code",
      "source": [],
      "metadata": {
        "id": "9nVVTZalOU6x"
      },
      "execution_count": null,
      "outputs": []
    },
    {
      "cell_type": "code",
      "source": [],
      "metadata": {
        "id": "DOgvfsSFQoaX"
      },
      "execution_count": null,
      "outputs": []
    },
    {
      "cell_type": "code",
      "source": [],
      "metadata": {
        "id": "Urn2gxbMQoiu"
      },
      "execution_count": null,
      "outputs": []
    },
    {
      "cell_type": "markdown",
      "source": [
        "### Exercises\n",
        "\n",
        "1.  For each of the sample tables, describe what each observation and each column represents.\n",
        "\n",
        "2.  Sketch out the process you'd use to calculate the `rate` for `table2` and `table3`.\n",
        "    You will need to perform four operations:\n",
        "\n",
        "    a.  Extract the number of TB cases per country per year.\n",
        "    b.  Extract the matching population per country per year.\n",
        "    c.  Divide cases by population, and multiply by 10000.\n",
        "    d.  Store back in the appropriate place.\n",
        "\n",
        "    You haven't yet learned all the functions you'd need to actually perform these operations, but you should still be able to think through the transformations you'd need.\n",
        "\n"
      ],
      "metadata": {
        "id": "Lbkv9OG7QpJo"
      }
    },
    {
      "cell_type": "markdown",
      "source": [
        "## Lengthening data\n",
        "\n",
        "The principles of tidy data might seem so obvious that you wonder if you'll ever encounter a dataset that isn't tidy.\n",
        "Unfortunately, however, most real data is untidy.\n",
        "There are two main reasons:\n",
        "\n",
        "1.  Data is often organized to facilitate some goal other than analysis.\n",
        "    For example, it's common for data to be structured to make data entry, not analysis, easy.\n",
        "\n",
        "2.  Most people aren't familiar with the principles of tidy data, and it's hard to derive them yourself unless you spend a lot of time working with data.\n",
        "\n",
        "This means that most real analyses will require at least a little tidying.\n",
        "You'll begin by figuring out what the underlying variables and observations are.\n",
        "Sometimes this is easy; other times you'll need to consult with the people who originally generated the data.\n",
        "Next, you'll **pivot** your data into a tidy form, with variables in the columns and observations in the rows.\n",
        "\n",
        "tidyr provides two functions for pivoting data: `pivot_longer()` and `pivot_wider()`.\n",
        "We'll first start with `pivot_longer()` because it's the most common case.\n",
        "Let's dive into some examples."
      ],
      "metadata": {
        "id": "9KomhPNbTUq0"
      }
    },
    {
      "cell_type": "markdown",
      "source": [
        "### Data in column names\n",
        "\n",
        "The `billboard` dataset records the billboard rank of songs in the year 2000:\n",
        "\n",
        "```{r}\n",
        "billboard\n",
        "```\n"
      ],
      "metadata": {
        "id": "S3m-nm3JTukr"
      }
    },
    {
      "cell_type": "code",
      "source": [],
      "metadata": {
        "id": "8bEFgA45TWsT"
      },
      "execution_count": null,
      "outputs": []
    },
    {
      "cell_type": "markdown",
      "source": [
        "In this dataset, each observation is a song.\n",
        "The first three columns (`artist`, `track` and `date.entered`) are variables that describe the song.\n",
        "Then we have 76 columns (`wk1`-`wk76`) that describe the rank of the song in each week[^data-tidy-1].\n",
        "Here, the column names are one variable (the `week`) and the cell values are another (the `rank`).\n",
        "\n",
        "[^data-tidy-1]: The song will be included as long as it was in the top 100 at some point in 2000, and is tracked for up to 72 weeks after it appears.\n",
        "\n",
        "To tidy this data, we'll use `pivot_longer()`:\n",
        "\n",
        "**Note**: R.options=list(pillar.print_min = 10).  \n",
        "\n",
        "```{r}\n",
        "billboard |>\n",
        "  pivot_longer(\n",
        "    cols = starts_with(\"wk\"),\n",
        "    names_to = \"week\",\n",
        "    values_to = \"rank\"\n",
        "  )\n",
        "```\n"
      ],
      "metadata": {
        "id": "6ewSUuXGTxEa"
      }
    },
    {
      "cell_type": "code",
      "source": [],
      "metadata": {
        "id": "yGVuPcsCT5q_"
      },
      "execution_count": null,
      "outputs": []
    },
    {
      "cell_type": "markdown",
      "source": [
        "After the data, there are three key arguments:\n",
        "\n",
        "-   `cols` specifies which columns need to be pivoted, i.e. which columns aren't variables. This argument uses the same syntax as `select()` so here we could use `!c(artist, track, date.entered)` or `starts_with(\"wk\")`.\n",
        "-   `names_to` names the variable stored in the column names, we named that variable `week`.\n",
        "-   `values_to` names the variable stored in the cell values, we named that variable `rank`.\n",
        "\n",
        "Note that in the code `\"week\"` and `\"rank\"` are quoted because those are new variables we're creating, they don't yet exist in the data when we run the `pivot_longer()` call.\n",
        "\n",
        "Now let's turn our attention to the resulting, longer data frame.\n",
        "What happens if a song is in the top 100 for less than 76 weeks?\n",
        "Take 2 Pac's \"Baby Don't Cry\", for example.\n",
        "The above output suggests that it was only in the top 100 for 7 weeks, and all the remaining weeks are filled in with missing values.\n",
        "These `NA`s don't really represent unknown observations; they were forced to exist by the structure of the dataset[^data-tidy-2], so we can ask `pivot_longer()` to get rid of them by setting `values_drop_na = TRUE`:\n",
        "\n",
        "[^data-tidy-2]: We'll come back to this idea in @sec-missing-values.\n",
        "\n",
        "```{r}\n",
        "billboard |>\n",
        "  pivot_longer(\n",
        "    cols = starts_with(\"wk\"),\n",
        "    names_to = \"week\",\n",
        "    values_to = \"rank\",\n",
        "    values_drop_na = TRUE\n",
        "  )\n",
        "```\n",
        "\n"
      ],
      "metadata": {
        "id": "rPgbhpQ3UI_a"
      }
    },
    {
      "cell_type": "code",
      "source": [],
      "metadata": {
        "id": "kzNjoEFaUPwo"
      },
      "execution_count": null,
      "outputs": []
    },
    {
      "cell_type": "markdown",
      "source": [
        "The number of rows is now much lower, indicating that many rows with `NA`s were dropped.\n",
        "\n",
        "You might also wonder what happens if a song is in the top 100 for more than 76 weeks?\n",
        "We can't tell from this data, but you might guess that additional columns `wk77`, `wk78`, ... would be added to the dataset.\n",
        "\n",
        "This data is now tidy, but we could make future computation a bit easier by converting values of `week` from character strings to numbers using `mutate()` and `readr::parse_number()`.\n",
        "`parse_number()` is a handy function that will extract the first number from a string, ignoring all other text.\n",
        "\n",
        "```{r}\n",
        "billboard_longer <- billboard |>\n",
        "  pivot_longer(\n",
        "    cols = starts_with(\"wk\"),\n",
        "    names_to = \"week\",\n",
        "    values_to = \"rank\",\n",
        "    values_drop_na = TRUE\n",
        "  ) |>\n",
        "  mutate(\n",
        "    week = parse_number(week)\n",
        "  )\n",
        "billboard_longer\n",
        "```\n"
      ],
      "metadata": {
        "id": "6aWdmSB7U4qs"
      }
    },
    {
      "cell_type": "code",
      "source": [],
      "metadata": {
        "id": "cC2kCcA0U92X"
      },
      "execution_count": null,
      "outputs": []
    },
    {
      "cell_type": "markdown",
      "source": [
        "Now that we have all the week numbers in one variable and all the rank values in another, we're in a good position to visualize how song ranks vary over time.\n",
        "The code is shown below and the result is in @fig-billboard-ranks.\n",
        "We can see that very few songs stay in the top 100 for more than 20 weeks.\n",
        "\n",
        "\n",
        "A line plot showing how the rank of a song changes over time. A line plot with week on the x-axis and rank on the y-axis, where each line represents a song. Most songs appear to start at a high rank, rapidly accelerate to a low rank, and then decay again. There are surprisingly few tracks in the region when week is >20 and rank is > 50.\n",
        "\n",
        "\n",
        "\n",
        "```{r}\n",
        "billboard_longer |>\n",
        "  ggplot(aes(x = week, y = rank, group = track)) +\n",
        "  geom_line(alpha = 0.25) +\n",
        "  scale_y_reverse()\n",
        "```\n"
      ],
      "metadata": {
        "id": "nTMyXfNzVG5n"
      }
    },
    {
      "cell_type": "code",
      "source": [],
      "metadata": {
        "id": "jTjsFq6eVd4G"
      },
      "execution_count": null,
      "outputs": []
    },
    {
      "cell_type": "markdown",
      "source": [
        "### How does pivoting work?\n",
        "\n",
        "Now that you've seen how we can use pivoting to reshape our data, let's take a little time to gain some intuition about what pivoting does to the data.\n",
        "Let's start with a very simple dataset to make it easier to see what's happening.\n",
        "Suppose we have three patients with `id`s A, B, and C, and we take two blood pressure measurements on each patient.\n",
        "We'll create the data with `tribble()`, a handy function for constructing small tibbles by hand:\n",
        "\n",
        "\n",
        "```{r}\n",
        "df <- tribble(\n",
        "  ~id,  ~bp1, ~bp2,\n",
        "   \"A\",  100,  120,\n",
        "   \"B\",  140,  115,\n",
        "   \"C\",  120,  125\n",
        ")\n",
        "```\n"
      ],
      "metadata": {
        "id": "TxsuA0UZVggt"
      }
    },
    {
      "cell_type": "code",
      "source": [],
      "metadata": {
        "id": "x276LK1fVk8z"
      },
      "execution_count": null,
      "outputs": []
    },
    {
      "cell_type": "markdown",
      "source": [
        "We want our new dataset to have three variables: `id` (already exists), `measurement` (the column names), and `value` (the cell values).\n",
        "To achieve this, we need to pivot `df` longer:\n",
        "\n",
        "```{r}\n",
        "df |>\n",
        "  pivot_longer(\n",
        "    cols = bp1:bp2,\n",
        "    names_to = \"measurement\",\n",
        "    values_to = \"value\"\n",
        "  )\n",
        "```\n"
      ],
      "metadata": {
        "id": "BIBb1atUVlmk"
      }
    },
    {
      "cell_type": "code",
      "source": [],
      "metadata": {
        "id": "KrU9QZjwVozS"
      },
      "execution_count": null,
      "outputs": []
    },
    {
      "cell_type": "markdown",
      "source": [
        "How does the reshaping work?\n",
        "It's easier to see if we think about it column by column.\n",
        "As shown in @fig-pivot-variables, the values in a column that was already a variable in the original dataset (`id`) need to be repeated, once for each column that is pivoted.\n",
        "\n",
        "Columns that are already variables need to be repeated, once for each column that is pivoted.\n",
        "\n",
        "A diagram showing how `pivot_longer()` transforms a simple dataset, using color to highlight how the values in the `id` column (\"A\", \"B\", \"C\") are each repeated twice in the output because there are two columns being pivoted (\"bp1\" and \"bp2\").\n",
        "\n",
        "![](https://raw.githubusercontent.com/ricardo-rios/fund_prog_est/main/diagrams/tidy-data/variables.png\n",
        ")\n",
        "\n",
        "\n"
      ],
      "metadata": {
        "id": "H0Og-frrVpSd"
      }
    },
    {
      "cell_type": "code",
      "source": [],
      "metadata": {
        "id": "SJv6YKfjVs_L"
      },
      "execution_count": null,
      "outputs": []
    },
    {
      "cell_type": "markdown",
      "source": [
        "The column names become values in a new variable, whose name is defined by `names_to`, as shown in @fig-pivot-names.\n",
        "\n",
        "They need to be repeated once for each row in the original dataset.\n",
        "\n",
        "\n",
        "The column names of pivoted columns become values in a new column. The values need to be repeated once for each row of the original dataset. A diagram showing how `pivot_longer()` transforms a simple data set, using color to highlight how column names (\"bp1\" and \"bp2\") become the values in a new `measurement` column. They are repeated three times because there were three rows in the input.\n",
        "\n",
        "\n",
        "![](https://raw.githubusercontent.com/ricardo-rios/fund_prog_est/main/diagrams/tidy-data/column-names.png)\n",
        "\n"
      ],
      "metadata": {
        "id": "2HlDHxzQX5Ua"
      }
    },
    {
      "cell_type": "code",
      "source": [],
      "metadata": {
        "id": "hCIDOt3dX9Ho"
      },
      "execution_count": null,
      "outputs": []
    },
    {
      "cell_type": "markdown",
      "source": [
        "The cell values also become values in a new variable, with a name defined by `values_to`.\n",
        "They are unwound row by row.\n",
        "@fig-pivot-values illustrates the process.\n",
        "\n",
        "The number of values is preserved (not repeated), but unwound row-by-row.\n",
        "\n",
        "A diagram showing how `pivot_longer()` transforms data,\n",
        "using color to highlight how the cell values (blood pressure measurements) become the values in a new `value` column. They are unwound row-by-row, so the original rows (100,120), then (140,115), then (120,125), become a column running from 100 to 125.\n",
        "\n",
        "\n",
        "\n",
        "![](https://raw.githubusercontent.com/ricardo-rios/fund_prog_est/main/diagrams/tidy-data/cell-values.png)\n",
        "\n"
      ],
      "metadata": {
        "id": "bf2kg8nWacJr"
      }
    },
    {
      "cell_type": "markdown",
      "source": [
        "### Many variables in column names\n",
        "\n",
        "A more challenging situation occurs when you have multiple pieces of information crammed into the column names, and you would like to store these in separate new variables.\n",
        "For example, take the `who2` dataset, the source of `table1` and friends that you saw above:\n",
        "\n",
        "```{r}\n",
        "who2\n",
        "```\n"
      ],
      "metadata": {
        "id": "kJun_MQKZYEQ"
      }
    },
    {
      "cell_type": "code",
      "source": [],
      "metadata": {
        "id": "bhNgVC1ibv1m"
      },
      "execution_count": null,
      "outputs": []
    },
    {
      "cell_type": "markdown",
      "source": [
        "This dataset, collected by the World Health Organisation, records information about tuberculosis diagnoses.\n",
        "There are two columns that are already variables and are easy to interpret: `country` and `year`.\n",
        "They are followed by 56 columns like `sp_m_014`, `ep_m_4554`, and `rel_m_3544`.\n",
        "If you stare at these columns for long enough, you'll notice there's a pattern.\n",
        "Each column name is made up of three pieces separated by `_`.\n",
        "The first piece, `sp`/`rel`/`ep`, describes the method used for the diagnosis, the second piece, `m`/`f` is the `gender` (coded as a binary variable in this dataset), and the third piece, `014`/`1524`/`2534`/`3544`/`4554`/`5564`/`65` is the `age` range (`014` represents 0-14, for example).\n",
        "\n",
        "So in this case we have six pieces of information recorded in `who2`: the country and the year (already columns); the method of diagnosis, the gender category, and the age range category (contained in the other column names); and the count of patients in that category (cell values).\n",
        "To organize these six pieces of information in six separate columns, we use `pivot_longer()` with a vector of column names for `names_to` and instructors for splitting the original variable names into pieces for `names_sep` as well as a column name for `values_to`:\n",
        "\n",
        "\n",
        "```{r}\n",
        "who2 |>\n",
        "  pivot_longer(\n",
        "    cols = !(country:year),\n",
        "    names_to = c(\"diagnosis\", \"gender\", \"age\"),\n",
        "    names_sep = \"_\",\n",
        "    values_to = \"count\"\n",
        "  )\n",
        "```\n"
      ],
      "metadata": {
        "id": "66wl9-gObwwV"
      }
    },
    {
      "cell_type": "code",
      "source": [],
      "metadata": {
        "id": "QOMZEOb9b5Jv"
      },
      "execution_count": null,
      "outputs": []
    },
    {
      "cell_type": "markdown",
      "source": [
        "An alternative to `names_sep` is `names_pattern`, which you can use to extract variables from more complicated naming scenarios, once you've learned about regular expressions in @sec-regular-expressions.\n",
        "\n",
        "Conceptually, this is only a minor variation on the simpler case you've already seen.\n",
        "@fig-pivot-multiple-names shows the basic idea: now, instead of the column names pivoting into a single column, they pivot into multiple columns.\n",
        "You can imagine this happening in two steps (first pivoting and then separating) but under the hood it happens in a single step because that's faster.\n",
        "\n",
        "Pivoting columns with multiple pieces of information in the names means that each column name now fills in values in multiple output columns.\n",
        "\n",
        "A diagram that uses color to illustrate how supplying `names_sep` and multiple `names_to` creates multiple variables in the output.\n",
        "\n",
        "The input has variable names \"x_1\" and \"y_2\" which are split up by \"_\" to create name and number columns in the output. This is a similar case with a single `names_to`, but what would have been a single output variable is now separated into multiple variables.\n",
        "\n",
        "\n",
        "Pivoting columns with multiple pieces of information in the names means that each column name now fills in values in multiple output columns. A diagram that uses color to illustrate how supplying `names_sep` and multiple `names_to` creates multiple variables in the output. The input has variable names \"x_1\" and \"y_2\" which are split up by \"_\" to create name and number columns in the output. This is a similar case with a single `names_to`, but what would have been a single output variable is now separated into multiple variables.\n",
        "\n",
        "\n",
        "![](https://raw.githubusercontent.com/ricardo-rios/fund_prog_est/main/diagrams/tidy-data/multiple-names.png)\n",
        "\n",
        "\n"
      ],
      "metadata": {
        "id": "wGECfJ5Cb-Qr"
      }
    },
    {
      "cell_type": "code",
      "source": [],
      "metadata": {
        "id": "dgqRHI2ZcASY"
      },
      "execution_count": null,
      "outputs": []
    },
    {
      "cell_type": "markdown",
      "source": [
        "### Data and variable names in the column headers\n",
        "\n",
        "The next step up in complexity is when the column names include a mix of variable values and variable names.\n",
        "For example, take the `household` dataset:\n",
        "\n",
        "```{r}\n",
        "household\n",
        "```\n",
        "\n"
      ],
      "metadata": {
        "id": "Q4uTNE6ac8QF"
      }
    },
    {
      "cell_type": "code",
      "source": [],
      "metadata": {
        "id": "VKIwq3vwHqyz"
      },
      "execution_count": null,
      "outputs": []
    },
    {
      "cell_type": "markdown",
      "source": [
        "This dataset contains data about five families, with the names and dates of birth of up to two children.\n",
        "The new challenge in this dataset is that the column names contain the names of two variables (`dob`, `name`) and the values of another (`child`, with values 1 or 2).\n",
        "To solve this problem we again need to supply a vector to `names_to` but this time we use the special `\".value\"` sentinel; this isn't the name of a variable but a unique value that tells `pivot_longer()` to do something different.\n",
        "This overrides the usual `values_to` argument to use the first component of the pivoted column name as a variable name in the output.\n",
        "\n",
        "```{r}\n",
        "household |>\n",
        "  pivot_longer(\n",
        "    cols = !family,\n",
        "    names_to = c(\".value\", \"child\"),\n",
        "    names_sep = \"_\",\n",
        "    values_drop_na = TRUE\n",
        "  )\n",
        "```\n"
      ],
      "metadata": {
        "id": "LEFvb5SSHrVD"
      }
    },
    {
      "cell_type": "code",
      "source": [],
      "metadata": {
        "id": "rhH5QiltHuwJ"
      },
      "execution_count": null,
      "outputs": []
    },
    {
      "cell_type": "markdown",
      "source": [
        "We again use `values_drop_na = TRUE`, since the shape of the input forces the creation of explicit missing variables (e.g., for families with only one child).\n",
        "\n",
        "@fig-pivot-names-and-values illustrates the basic idea with a simpler example.\n",
        "When you use `\".value\"` in `names_to`, the column names in the input contribute to both values and variable names in the output.\n",
        "\n",
        "Pivoting with `names_to = c(\".value\", \"num\")` splits the column names into two components: the first part determines the output column name (`x` or `y`), and the second part determines the value of the `num` column.\n",
        "\n",
        "A diagram that uses color to illustrate how the special \".value\" sentinel works. The input has names \"x_1\", \"x_2\", \"y_1\", and \"y_2\", and we want to use the first component (\"x\", \"y\") as a variable name and the second (\"1\", \"2\") as the value for a new \"num\" column.\n"
      ],
      "metadata": {
        "id": "xvTanFhwHvTo"
      }
    },
    {
      "cell_type": "markdown",
      "source": [
        "![](https://raw.githubusercontent.com/ricardo-rios/fund_prog_est/main/diagrams/tidy-data/names-and-values.png)\n",
        "\n"
      ],
      "metadata": {
        "id": "U1JUWnKYICI0"
      }
    },
    {
      "cell_type": "code",
      "source": [],
      "metadata": {
        "id": "yiFW27H8H95c"
      },
      "execution_count": null,
      "outputs": []
    },
    {
      "cell_type": "markdown",
      "source": [
        "## Widening data\n",
        "\n",
        "So far we've used `pivot_longer()` to solve the common class of problems where values have ended up in column names.\n",
        "Next we'll pivot (HA HA) to `pivot_wider()`, which makes datasets **wider** by increasing columns and reducing rows and helps when one observation is spread across multiple rows.\n",
        "This seems to arise less commonly in the wild, but it does seem to crop up a lot when dealing with governmental data.\n",
        "\n",
        "We'll start by looking at `cms_patient_experience`, a dataset from the Centers of Medicare and Medicaid services that collects data about patient experiences:\n",
        "\n",
        "```{r}\n",
        "cms_patient_experience\n",
        "```\n"
      ],
      "metadata": {
        "id": "n7iRphZyIPn2"
      }
    },
    {
      "cell_type": "code",
      "source": [],
      "metadata": {
        "id": "r4dyYEpgIQTU"
      },
      "execution_count": null,
      "outputs": []
    },
    {
      "cell_type": "markdown",
      "source": [
        "The core unit being studied is an organization, but each organization is spread across six rows, with one row for each measurement taken in the survey organization.\n",
        "We can see the complete set of values for `measure_cd` and `measure_title` by using `distinct()`:\n",
        "\n",
        "```{r}\n",
        "cms_patient_experience |>\n",
        "  distinct(measure_cd, measure_title)\n",
        "```\n"
      ],
      "metadata": {
        "id": "N_dcF_OpIQ08"
      }
    },
    {
      "cell_type": "code",
      "source": [],
      "metadata": {
        "id": "-8Yb_k2KIS5U"
      },
      "execution_count": null,
      "outputs": []
    },
    {
      "cell_type": "markdown",
      "source": [
        "Neither of these columns will make particularly great variable names: `measure_cd` doesn't hint at the meaning of the variable and `measure_title` is a long sentence containing spaces.\n",
        "We'll use `measure_cd` as the source for our new column names for now, but in a real analysis you might want to create your own variable names that are both short and meaningful.\n",
        "\n",
        "`pivot_wider()` has the opposite interface to `pivot_longer()`: instead of choosing new column names, we need to provide the existing columns that define the values (`values_from`) and the column name (`names_from`):\n",
        "\n",
        "```{r}\n",
        "cms_patient_experience |>\n",
        "  pivot_wider(\n",
        "    names_from = measure_cd,\n",
        "    values_from = prf_rate\n",
        "  )\n",
        "```\n"
      ],
      "metadata": {
        "id": "c7XLRdOuITQ7"
      }
    },
    {
      "cell_type": "code",
      "source": [],
      "metadata": {
        "id": "LVkoIRqNIWFq"
      },
      "execution_count": null,
      "outputs": []
    },
    {
      "cell_type": "markdown",
      "source": [
        "The output doesn't look quite right; we still seem to have multiple rows for each organization.\n",
        "That's because, we also need to tell `pivot_wider()` which column or columns have values that uniquely identify each row; in this case those are the variables starting with `\"org\"`:\n",
        "\n",
        "```{r}\n",
        "cms_patient_experience |>\n",
        "  pivot_wider(\n",
        "    id_cols = starts_with(\"org\"),\n",
        "    names_from = measure_cd,\n",
        "    values_from = prf_rate\n",
        "  )\n",
        "```\n"
      ],
      "metadata": {
        "id": "xw_viBvJIWgB"
      }
    },
    {
      "cell_type": "code",
      "source": [],
      "metadata": {
        "id": "9L8CsJMqIZBJ"
      },
      "execution_count": null,
      "outputs": []
    },
    {
      "cell_type": "markdown",
      "source": [
        "This gives us the output that we're looking for.\n"
      ],
      "metadata": {
        "id": "BS--m8WNIZc4"
      }
    },
    {
      "cell_type": "markdown",
      "source": [
        "### How does `pivot_wider()` work?\n",
        "\n",
        "To understand how `pivot_wider()` works, let's again start with a very simple dataset.\n",
        "This time we have two patients with `id`s A and B, we have three blood pressure measurements on patient A and two on patient B:\n",
        "\n",
        "```{r}\n",
        "df <- tribble(\n",
        "  ~id, ~measurement, ~value,\n",
        "  \"A\",        \"bp1\",    100,\n",
        "  \"B\",        \"bp1\",    140,\n",
        "  \"B\",        \"bp2\",    115,\n",
        "  \"A\",        \"bp2\",    120,\n",
        "  \"A\",        \"bp3\",    105\n",
        ")\n",
        "```\n"
      ],
      "metadata": {
        "id": "q7Lx2IPVIfbu"
      }
    },
    {
      "cell_type": "code",
      "source": [],
      "metadata": {
        "id": "mbPZzGf-Ia3X"
      },
      "execution_count": null,
      "outputs": []
    },
    {
      "cell_type": "markdown",
      "source": [
        "We'll take the values from the `value` column and the names from the `measurement` column:\n",
        "\n",
        "```{r}\n",
        "df |>\n",
        "  pivot_wider(\n",
        "    names_from = measurement,\n",
        "    values_from = value\n",
        "  )\n",
        "```\n"
      ],
      "metadata": {
        "id": "6HsijFzWIhx9"
      }
    },
    {
      "cell_type": "code",
      "source": [],
      "metadata": {
        "id": "Us1tljn-Ij9M"
      },
      "execution_count": null,
      "outputs": []
    },
    {
      "cell_type": "markdown",
      "source": [
        "To begin the process `pivot_wider()` needs to first figure out what will go in the rows and columns.\n",
        "The new column names will be the unique values of `measurement`.\n",
        "\n",
        "```{r}\n",
        "df |>\n",
        "  distinct(measurement) |>\n",
        "  pull()\n",
        "```\n"
      ],
      "metadata": {
        "id": "ftFFZH02IkjT"
      }
    },
    {
      "cell_type": "code",
      "source": [],
      "metadata": {
        "id": "a1ytrOTlImNz"
      },
      "execution_count": null,
      "outputs": []
    },
    {
      "cell_type": "markdown",
      "source": [
        "By default, the rows in the output are determined by all the variables that aren't going into the new names or values.\n",
        "These are called the `id_cols`.\n",
        "Here there is only one column, but in general there can be any number.\n",
        "\n",
        "```{r}\n",
        "df |>\n",
        "  select(-measurement, -value) |>\n",
        "  distinct()\n",
        "```\n"
      ],
      "metadata": {
        "id": "IxjgTiidImwa"
      }
    },
    {
      "cell_type": "code",
      "source": [],
      "metadata": {
        "id": "7VJFCTBbIpYp"
      },
      "execution_count": null,
      "outputs": []
    },
    {
      "cell_type": "markdown",
      "source": [
        "`pivot_wider()` then combines these results to generate an empty data frame:\n",
        "\n",
        "```{r}\n",
        "df |>\n",
        "  select(-measurement, -value) |>\n",
        "  distinct() |>\n",
        "  mutate(x = NA, y = NA, z = NA)\n",
        "```\n"
      ],
      "metadata": {
        "id": "ArxQ5C4IIp4C"
      }
    },
    {
      "cell_type": "code",
      "source": [],
      "metadata": {
        "id": "dCPvBcTRIrcx"
      },
      "execution_count": null,
      "outputs": []
    },
    {
      "cell_type": "markdown",
      "source": [
        "It then fills in all the missing values using the data in the input.\n",
        "In this case, not every cell in the output has a corresponding value in the input as there's no third blood pressure measurement for patient B, so that cell remains missing.\n",
        "We'll come back to this idea that `pivot_wider()` can \"make\" missing values in @sec-missing-values.\n",
        "\n",
        "You might also wonder what happens if there are multiple rows in the input that correspond to one cell in the output.\n",
        "The example below has two rows that correspond to `id` \"A\" and `measurement` \"bp1\":\n",
        "\n",
        "```{r}\n",
        "df <- tribble(\n",
        "  ~id, ~measurement, ~value,\n",
        "  \"A\",        \"bp1\",    100,\n",
        "  \"A\",        \"bp1\",    102,\n",
        "  \"A\",        \"bp2\",    120,\n",
        "  \"B\",        \"bp1\",    140,\n",
        "  \"B\",        \"bp2\",    115\n",
        ")\n",
        "```\n"
      ],
      "metadata": {
        "id": "eYd_JJEFIr-h"
      }
    },
    {
      "cell_type": "code",
      "source": [],
      "metadata": {
        "id": "Kjvqbf5LIuJw"
      },
      "execution_count": null,
      "outputs": []
    },
    {
      "cell_type": "markdown",
      "source": [
        "If we attempt to pivot this we get an output that contains list-columns, which you'll learn more about in @sec-rectangling:\n",
        "\n",
        "```{r}\n",
        "df |>\n",
        "  pivot_wider(\n",
        "    names_from = measurement,\n",
        "    values_from = value\n",
        "  )\n",
        "```\n"
      ],
      "metadata": {
        "id": "Qlm240grIusn"
      }
    },
    {
      "cell_type": "code",
      "source": [],
      "metadata": {
        "id": "HUBEpRQWIyr3"
      },
      "execution_count": null,
      "outputs": []
    },
    {
      "cell_type": "markdown",
      "source": [
        "Since you don't know how to work with this sort of data yet, you'll want to follow the hint in the warning to figure out where the problem is:\n",
        "\n",
        "```{r}\n",
        "df |>\n",
        "  group_by(id, measurement) |>\n",
        "  summarize(n = n(), .groups = \"drop\") |>\n",
        "  filter(n > 1)\n",
        "```\n"
      ],
      "metadata": {
        "id": "KLKnIElSIzD9"
      }
    },
    {
      "cell_type": "code",
      "source": [],
      "metadata": {
        "id": "z0CxCpmHI0yG"
      },
      "execution_count": null,
      "outputs": []
    },
    {
      "cell_type": "markdown",
      "source": [
        "It's then up to you to figure out what's gone wrong with your data and either repair the underlying damage or use your grouping and summarizing skills to ensure that each combination of row and column values only has a single row.\n",
        "\n",
        "## Summary\n",
        "\n",
        "In this chapter you learned about tidy data: data that has variables in columns and observations in rows.\n",
        "Tidy data makes working in the tidyverse easier, because it's a consistent structure understood by most functions, the main challenge is transforming the data from whatever structure you receive it in to a tidy format.\n",
        "To that end, you learned about `pivot_longer()` and `pivot_wider()` which allow you to tidy up many untidy datasets.\n",
        "The examples we presented here are a selection of those from `vignette(\"pivot\", package = \"tidyr\")`, so if you encounter a problem that this chapter doesn't help you with, that vignette is a good place to try next.\n",
        "\n",
        "Another challenge is that, for a given dataset, it can be impossible to label the longer or the wider version as the \"tidy\" one.\n",
        "This is partly a reflection of our definition of tidy data, where we said tidy data has one variable in each column, but we didn't actually define what a variable is (and it's surprisingly hard to do so).\n",
        "It's totally fine to be pragmatic and to say a variable is whatever makes your analysis easiest.\n",
        "So if you're stuck figuring out how to do some computation, consider switching up the organisation of your data; don't be afraid to untidy, transform, and re-tidy as needed!\n",
        "\n",
        "If you enjoyed this chapter and want to learn more about the underlying theory, you can learn more about the history and theoretical underpinnings in the [Tidy Data](https://www.jstatsoft.org/article/view/v059i10) paper published in the Journal of Statistical Software.\n",
        "\n",
        "Now that you're writing a substantial amount of R code, it's time to learn more about organizing your code into files and directories.\n",
        "In the next chapter, you'll learn all about the advantages of scripts and projects, and some of the many tools that they provide to make your life easier.\n"
      ],
      "metadata": {
        "id": "JuyKLaU1I1JN"
      }
    },
    {
      "cell_type": "code",
      "source": [],
      "metadata": {
        "id": "VvOj7ukXI4is"
      },
      "execution_count": null,
      "outputs": []
    }
  ],
  "metadata": {
    "kernelspec": {
      "name": "ir",
      "display_name": "R"
    },
    "colab": {
      "provenance": []
    },
    "language_info": {
      "name": "R"
    }
  },
  "nbformat": 4,
  "nbformat_minor": 0
}