{
  "nbformat": 4,
  "nbformat_minor": 0,
  "metadata": {
    "colab": {
      "provenance": []
    },
    "kernelspec": {
      "name": "ir",
      "display_name": "R"
    },
    "language_info": {
      "name": "R"
    }
  },
  "cells": [
    {
      "cell_type": "markdown",
      "source": [
        "# Cargando librerias"
      ],
      "metadata": {
        "id": "DIWrjNMWqVZv"
      }
    },
    {
      "cell_type": "code",
      "source": [
        "library(tidyverse)"
      ],
      "metadata": {
        "id": "QWNjLmU1qXIH"
      },
      "execution_count": null,
      "outputs": []
    },
    {
      "cell_type": "markdown",
      "source": [
        "Usando dplyr, desarrolle los ejercicios siguientes poniendo el respectivo código en la celda correspondiente.\n",
        "\n",
        "Problema 1\n",
        "\n",
        "Con respecto al siguiente tibble que representa ventas de pupusas de una cadena de restaurantes en departamentos de El Salvador:"
      ],
      "metadata": {
        "id": "ha-b6QR1qbrF"
      }
    },
    {
      "cell_type": "code",
      "source": [
        "tb1 <- tribble(\n",
        "  ~departamento, ~marzo, ~abril,\n",
        "  \"La Libertad\", 15000, 18000,\n",
        "  \"San Vicente\", 12000, 17000,\n",
        "  \"Chalatenango\", 9000, 11000,\n",
        ")"
      ],
      "metadata": {
        "id": "ypJrvLHsrjQa"
      },
      "execution_count": null,
      "outputs": []
    },
    {
      "cell_type": "markdown",
      "source": [
        "Usando la función apropiada convierta las variables \"marzo\" y \"abril\" en una variable que se llame mes."
      ],
      "metadata": {
        "id": "mmQqpLacW_Xj"
      }
    },
    {
      "cell_type": "code",
      "source": [],
      "metadata": {
        "id": "oQTX7fysWy3o"
      },
      "execution_count": null,
      "outputs": []
    },
    {
      "cell_type": "markdown",
      "source": [
        "Problema 2\n",
        "\n",
        "Con respecto al siguiente tibble."
      ],
      "metadata": {
        "id": "n-Vz1riPuSbm"
      }
    },
    {
      "cell_type": "code",
      "source": [
        "tb2 <- data.frame(row = rep(c(1, 2), each = 3),\n",
        "                 var = c(\"Height\", \"Weight\", \"Age\"),\n",
        "                 value = c(170, 65, 30, 160, 55, 25))\n",
        "\n",
        "tb2 <- as_tibble(tb2)"
      ],
      "metadata": {
        "id": "9kR22fhSuTXf"
      },
      "execution_count": null,
      "outputs": []
    },
    {
      "cell_type": "code",
      "source": [
        "tb2"
      ],
      "metadata": {
        "id": "xD7veDaEYSKG"
      },
      "execution_count": null,
      "outputs": []
    },
    {
      "cell_type": "markdown",
      "source": [
        "Usando la función apropiada genere columnas a partir de la variable var."
      ],
      "metadata": {
        "id": "gfoqHt_HXkSV"
      }
    },
    {
      "cell_type": "code",
      "source": [],
      "metadata": {
        "id": "hUSanfi3Yd9J"
      },
      "execution_count": null,
      "outputs": []
    }
  ]
}