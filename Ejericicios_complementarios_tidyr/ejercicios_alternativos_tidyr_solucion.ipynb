{
  "nbformat": 4,
  "nbformat_minor": 0,
  "metadata": {
    "colab": {
      "provenance": []
    },
    "kernelspec": {
      "name": "ir",
      "display_name": "R"
    },
    "language_info": {
      "name": "R"
    }
  },
  "cells": [
    {
      "cell_type": "markdown",
      "source": [
        "# Cargando librerias"
      ],
      "metadata": {
        "id": "DIWrjNMWqVZv"
      }
    },
    {
      "cell_type": "code",
      "source": [
        "library(tidyverse)"
      ],
      "metadata": {
        "id": "QWNjLmU1qXIH",
        "outputId": "ae2363df-0366-4088-a643-e6f450d9980b",
        "colab": {
          "base_uri": "https://localhost:8080/"
        }
      },
      "execution_count": 1,
      "outputs": [
        {
          "output_type": "stream",
          "name": "stderr",
          "text": [
            "── \u001b[1mAttaching core tidyverse packages\u001b[22m ──────────────────────── tidyverse 2.0.0 ──\n",
            "\u001b[32m✔\u001b[39m \u001b[34mdplyr    \u001b[39m 1.1.4     \u001b[32m✔\u001b[39m \u001b[34mreadr    \u001b[39m 2.1.5\n",
            "\u001b[32m✔\u001b[39m \u001b[34mforcats  \u001b[39m 1.0.0     \u001b[32m✔\u001b[39m \u001b[34mstringr  \u001b[39m 1.5.1\n",
            "\u001b[32m✔\u001b[39m \u001b[34mggplot2  \u001b[39m 3.4.4     \u001b[32m✔\u001b[39m \u001b[34mtibble   \u001b[39m 3.2.1\n",
            "\u001b[32m✔\u001b[39m \u001b[34mlubridate\u001b[39m 1.9.3     \u001b[32m✔\u001b[39m \u001b[34mtidyr    \u001b[39m 1.3.1\n",
            "\u001b[32m✔\u001b[39m \u001b[34mpurrr    \u001b[39m 1.0.2     \n",
            "── \u001b[1mConflicts\u001b[22m ────────────────────────────────────────── tidyverse_conflicts() ──\n",
            "\u001b[31m✖\u001b[39m \u001b[34mpurrr\u001b[39m::\u001b[32m%||%()\u001b[39m   masks \u001b[34mbase\u001b[39m::%||%()\n",
            "\u001b[31m✖\u001b[39m \u001b[34mdplyr\u001b[39m::\u001b[32mfilter()\u001b[39m masks \u001b[34mstats\u001b[39m::filter()\n",
            "\u001b[31m✖\u001b[39m \u001b[34mdplyr\u001b[39m::\u001b[32mlag()\u001b[39m    masks \u001b[34mstats\u001b[39m::lag()\n",
            "\u001b[36mℹ\u001b[39m Use the conflicted package (\u001b[3m\u001b[34m<http://conflicted.r-lib.org/>\u001b[39m\u001b[23m) to force all conflicts to become errors\n"
          ]
        }
      ]
    },
    {
      "cell_type": "markdown",
      "source": [
        "Usando tidyr, desarrolle los ejercicios siguientes poniendo el respectivo código en la celda correspondiente.\n",
        "\n",
        "Problema 1\n",
        "\n",
        "Con respecto al siguiente tibble que representa ventas de pupusas de una cadena de restaurantes en departamentos de El Salvador:"
      ],
      "metadata": {
        "id": "ha-b6QR1qbrF"
      }
    },
    {
      "cell_type": "code",
      "source": [
        "tb1 <- tribble(\n",
        "  ~departamento, ~marzo, ~abril,\n",
        "  \"La Libertad\", 15000, 18000,\n",
        "  \"San Vicente\", 12000, 17000,\n",
        "  \"Chalatenango\", 9000, 11000,\n",
        ")"
      ],
      "metadata": {
        "id": "ypJrvLHsrjQa"
      },
      "execution_count": 2,
      "outputs": []
    },
    {
      "cell_type": "code",
      "source": [
        "tb1"
      ],
      "metadata": {
        "id": "O16CaSEeH2RS",
        "outputId": "06b23869-91ba-4673-8c47-cee8efc47817",
        "colab": {
          "base_uri": "https://localhost:8080/",
          "height": 192
        }
      },
      "execution_count": 3,
      "outputs": [
        {
          "output_type": "display_data",
          "data": {
            "text/html": [
              "<table class=\"dataframe\">\n",
              "<caption>A tibble: 3 × 3</caption>\n",
              "<thead>\n",
              "\t<tr><th scope=col>departamento</th><th scope=col>marzo</th><th scope=col>abril</th></tr>\n",
              "\t<tr><th scope=col>&lt;chr&gt;</th><th scope=col>&lt;dbl&gt;</th><th scope=col>&lt;dbl&gt;</th></tr>\n",
              "</thead>\n",
              "<tbody>\n",
              "\t<tr><td>La Libertad </td><td>15000</td><td>18000</td></tr>\n",
              "\t<tr><td>San Vicente </td><td>12000</td><td>17000</td></tr>\n",
              "\t<tr><td>Chalatenango</td><td> 9000</td><td>11000</td></tr>\n",
              "</tbody>\n",
              "</table>\n"
            ],
            "text/markdown": "\nA tibble: 3 × 3\n\n| departamento &lt;chr&gt; | marzo &lt;dbl&gt; | abril &lt;dbl&gt; |\n|---|---|---|\n| La Libertad  | 15000 | 18000 |\n| San Vicente  | 12000 | 17000 |\n| Chalatenango |  9000 | 11000 |\n\n",
            "text/latex": "A tibble: 3 × 3\n\\begin{tabular}{lll}\n departamento & marzo & abril\\\\\n <chr> & <dbl> & <dbl>\\\\\n\\hline\n\t La Libertad  & 15000 & 18000\\\\\n\t San Vicente  & 12000 & 17000\\\\\n\t Chalatenango &  9000 & 11000\\\\\n\\end{tabular}\n",
            "text/plain": [
              "  departamento marzo abril\n",
              "1 La Libertad  15000 18000\n",
              "2 San Vicente  12000 17000\n",
              "3 Chalatenango  9000 11000"
            ]
          },
          "metadata": {}
        }
      ]
    },
    {
      "cell_type": "markdown",
      "source": [
        "Usando la función apropiada convierta las variables \"marzo\" y \"abril\" en una variable que se llame mes."
      ],
      "metadata": {
        "id": "mmQqpLacW_Xj"
      }
    },
    {
      "cell_type": "code",
      "source": [
        "tb1 |>\n",
        "  pivot_longer(\n",
        "    cols = c(\"marzo\", \"abril\"),\n",
        "    names_to = \"mes\",\n",
        "    values_to = \"ventas\"\n",
        "  )"
      ],
      "metadata": {
        "id": "oQTX7fysWy3o",
        "outputId": "e6ef1fe0-6485-4747-d9e3-11bda2100cd5",
        "colab": {
          "base_uri": "https://localhost:8080/",
          "height": 286
        }
      },
      "execution_count": 6,
      "outputs": [
        {
          "output_type": "display_data",
          "data": {
            "text/html": [
              "<table class=\"dataframe\">\n",
              "<caption>A tibble: 6 × 3</caption>\n",
              "<thead>\n",
              "\t<tr><th scope=col>departamento</th><th scope=col>mes</th><th scope=col>ventas</th></tr>\n",
              "\t<tr><th scope=col>&lt;chr&gt;</th><th scope=col>&lt;chr&gt;</th><th scope=col>&lt;dbl&gt;</th></tr>\n",
              "</thead>\n",
              "<tbody>\n",
              "\t<tr><td>La Libertad </td><td>marzo</td><td>15000</td></tr>\n",
              "\t<tr><td>La Libertad </td><td>abril</td><td>18000</td></tr>\n",
              "\t<tr><td>San Vicente </td><td>marzo</td><td>12000</td></tr>\n",
              "\t<tr><td>San Vicente </td><td>abril</td><td>17000</td></tr>\n",
              "\t<tr><td>Chalatenango</td><td>marzo</td><td> 9000</td></tr>\n",
              "\t<tr><td>Chalatenango</td><td>abril</td><td>11000</td></tr>\n",
              "</tbody>\n",
              "</table>\n"
            ],
            "text/markdown": "\nA tibble: 6 × 3\n\n| departamento &lt;chr&gt; | mes &lt;chr&gt; | ventas &lt;dbl&gt; |\n|---|---|---|\n| La Libertad  | marzo | 15000 |\n| La Libertad  | abril | 18000 |\n| San Vicente  | marzo | 12000 |\n| San Vicente  | abril | 17000 |\n| Chalatenango | marzo |  9000 |\n| Chalatenango | abril | 11000 |\n\n",
            "text/latex": "A tibble: 6 × 3\n\\begin{tabular}{lll}\n departamento & mes & ventas\\\\\n <chr> & <chr> & <dbl>\\\\\n\\hline\n\t La Libertad  & marzo & 15000\\\\\n\t La Libertad  & abril & 18000\\\\\n\t San Vicente  & marzo & 12000\\\\\n\t San Vicente  & abril & 17000\\\\\n\t Chalatenango & marzo &  9000\\\\\n\t Chalatenango & abril & 11000\\\\\n\\end{tabular}\n",
            "text/plain": [
              "  departamento mes   ventas\n",
              "1 La Libertad  marzo 15000 \n",
              "2 La Libertad  abril 18000 \n",
              "3 San Vicente  marzo 12000 \n",
              "4 San Vicente  abril 17000 \n",
              "5 Chalatenango marzo  9000 \n",
              "6 Chalatenango abril 11000 "
            ]
          },
          "metadata": {}
        }
      ]
    },
    {
      "cell_type": "markdown",
      "source": [
        "Problema 2\n",
        "\n",
        "Con respecto al siguiente tibble."
      ],
      "metadata": {
        "id": "n-Vz1riPuSbm"
      }
    },
    {
      "cell_type": "code",
      "source": [
        "tb2 <- data.frame(row = rep(c(1, 2), each = 3),\n",
        "                 var = c(\"Height\", \"Weight\", \"Age\"),\n",
        "                 value = c(170, 65, 30, 160, 55, 25))\n",
        "\n",
        "tb2 <- as_tibble(tb2)"
      ],
      "metadata": {
        "id": "9kR22fhSuTXf"
      },
      "execution_count": 7,
      "outputs": []
    },
    {
      "cell_type": "code",
      "source": [
        "tb2"
      ],
      "metadata": {
        "id": "xD7veDaEYSKG",
        "outputId": "4d8e2d19-0e9d-4017-b607-5c248416bc1d",
        "colab": {
          "base_uri": "https://localhost:8080/",
          "height": 286
        }
      },
      "execution_count": 8,
      "outputs": [
        {
          "output_type": "display_data",
          "data": {
            "text/html": [
              "<table class=\"dataframe\">\n",
              "<caption>A tibble: 6 × 3</caption>\n",
              "<thead>\n",
              "\t<tr><th scope=col>row</th><th scope=col>var</th><th scope=col>value</th></tr>\n",
              "\t<tr><th scope=col>&lt;dbl&gt;</th><th scope=col>&lt;chr&gt;</th><th scope=col>&lt;dbl&gt;</th></tr>\n",
              "</thead>\n",
              "<tbody>\n",
              "\t<tr><td>1</td><td>Height</td><td>170</td></tr>\n",
              "\t<tr><td>1</td><td>Weight</td><td> 65</td></tr>\n",
              "\t<tr><td>1</td><td>Age   </td><td> 30</td></tr>\n",
              "\t<tr><td>2</td><td>Height</td><td>160</td></tr>\n",
              "\t<tr><td>2</td><td>Weight</td><td> 55</td></tr>\n",
              "\t<tr><td>2</td><td>Age   </td><td> 25</td></tr>\n",
              "</tbody>\n",
              "</table>\n"
            ],
            "text/markdown": "\nA tibble: 6 × 3\n\n| row &lt;dbl&gt; | var &lt;chr&gt; | value &lt;dbl&gt; |\n|---|---|---|\n| 1 | Height | 170 |\n| 1 | Weight |  65 |\n| 1 | Age    |  30 |\n| 2 | Height | 160 |\n| 2 | Weight |  55 |\n| 2 | Age    |  25 |\n\n",
            "text/latex": "A tibble: 6 × 3\n\\begin{tabular}{lll}\n row & var & value\\\\\n <dbl> & <chr> & <dbl>\\\\\n\\hline\n\t 1 & Height & 170\\\\\n\t 1 & Weight &  65\\\\\n\t 1 & Age    &  30\\\\\n\t 2 & Height & 160\\\\\n\t 2 & Weight &  55\\\\\n\t 2 & Age    &  25\\\\\n\\end{tabular}\n",
            "text/plain": [
              "  row var    value\n",
              "1 1   Height 170  \n",
              "2 1   Weight  65  \n",
              "3 1   Age     30  \n",
              "4 2   Height 160  \n",
              "5 2   Weight  55  \n",
              "6 2   Age     25  "
            ]
          },
          "metadata": {}
        }
      ]
    },
    {
      "cell_type": "markdown",
      "source": [
        "Usando la función apropiada genere columnas a partir de la variable var."
      ],
      "metadata": {
        "id": "gfoqHt_HXkSV"
      }
    },
    {
      "cell_type": "code",
      "source": [
        "tb2 |>\n",
        "  pivot_wider(\n",
        "    names_from = var,\n",
        "    values_from = value\n",
        "  )"
      ],
      "metadata": {
        "id": "hUSanfi3Yd9J",
        "outputId": "1756e85b-cff2-4b44-8d39-8e4bad3402ee",
        "colab": {
          "base_uri": "https://localhost:8080/",
          "height": 160
        }
      },
      "execution_count": 9,
      "outputs": [
        {
          "output_type": "display_data",
          "data": {
            "text/html": [
              "<table class=\"dataframe\">\n",
              "<caption>A tibble: 2 × 4</caption>\n",
              "<thead>\n",
              "\t<tr><th scope=col>row</th><th scope=col>Height</th><th scope=col>Weight</th><th scope=col>Age</th></tr>\n",
              "\t<tr><th scope=col>&lt;dbl&gt;</th><th scope=col>&lt;dbl&gt;</th><th scope=col>&lt;dbl&gt;</th><th scope=col>&lt;dbl&gt;</th></tr>\n",
              "</thead>\n",
              "<tbody>\n",
              "\t<tr><td>1</td><td>170</td><td>65</td><td>30</td></tr>\n",
              "\t<tr><td>2</td><td>160</td><td>55</td><td>25</td></tr>\n",
              "</tbody>\n",
              "</table>\n"
            ],
            "text/markdown": "\nA tibble: 2 × 4\n\n| row &lt;dbl&gt; | Height &lt;dbl&gt; | Weight &lt;dbl&gt; | Age &lt;dbl&gt; |\n|---|---|---|---|\n| 1 | 170 | 65 | 30 |\n| 2 | 160 | 55 | 25 |\n\n",
            "text/latex": "A tibble: 2 × 4\n\\begin{tabular}{llll}\n row & Height & Weight & Age\\\\\n <dbl> & <dbl> & <dbl> & <dbl>\\\\\n\\hline\n\t 1 & 170 & 65 & 30\\\\\n\t 2 & 160 & 55 & 25\\\\\n\\end{tabular}\n",
            "text/plain": [
              "  row Height Weight Age\n",
              "1 1   170    65     30 \n",
              "2 2   160    55     25 "
            ]
          },
          "metadata": {}
        }
      ]
    },
    {
      "cell_type": "code",
      "source": [],
      "metadata": {
        "id": "sk3JN5sKKesj"
      },
      "execution_count": null,
      "outputs": []
    }
  ]
}