{
  "nbformat": 4,
  "nbformat_minor": 0,
  "metadata": {
    "colab": {
      "provenance": []
    },
    "kernelspec": {
      "name": "ir",
      "display_name": "R"
    },
    "language_info": {
      "name": "R"
    }
  },
  "cells": [
    {
      "cell_type": "markdown",
      "source": [
        "\n",
        "## Configurando los conjuntos de datos.\n",
        "A continuación vamos a crear los conjuntos de datos  con los que trabajaremos."
      ],
      "metadata": {
        "id": "z8KGdIxsZutw"
      }
    },
    {
      "cell_type": "code",
      "source": [
        "library(tidyverse)"
      ],
      "metadata": {
        "id": "rVrTDVKFbXMz"
      },
      "execution_count": null,
      "outputs": []
    },
    {
      "cell_type": "code",
      "source": [
        "tb1 <- tribble(\n",
        "              ~departamento, ~enero, ~febrero,\n",
        "              \"San Salvador\", 10000, 23000,\n",
        "              \"San Miguel\", 23000, 5000,\n",
        "              \"Santa Ana\", 10000, 2000,\n",
        "             )"
      ],
      "metadata": {
        "id": "TfnB43pZZvqc"
      },
      "execution_count": null,
      "outputs": []
    },
    {
      "cell_type": "code",
      "source": [
        "tb2 <- data.frame(row = rep(c(1, 51), each = 3),\n",
        "                 var = c(\"Sepal.Length\", \"Species\", \"Species_num\"),\n",
        "                 value = c(5.1, \"setosa\", 1, 7.0, \"versicolor\", 2))\n",
        "\n",
        "\n",
        "tb2 <- as_tibble(tb2)"
      ],
      "metadata": {
        "id": "71868iU2buBQ"
      },
      "execution_count": null,
      "outputs": []
    },
    {
      "cell_type": "markdown",
      "source": [
        "Digitar el código que se te pide en las siguientes preguntas."
      ],
      "metadata": {
        "id": "B1jteDgleeW4"
      }
    },
    {
      "cell_type": "markdown",
      "source": [
        "Problema 1 [50%]\n",
        "\n",
        "\n",
        "Con respecto al siguiente tibble que representa ventas de tacos de una cadena de restaurantes en departamentos de El Salvador:"
      ],
      "metadata": {
        "id": "wVhTFZ8UenGX"
      }
    },
    {
      "cell_type": "code",
      "source": [
        "tb1"
      ],
      "metadata": {
        "id": "mcbUhd6IeqbC"
      },
      "execution_count": null,
      "outputs": []
    },
    {
      "cell_type": "markdown",
      "source": [
        "Usando la función apropiada convierta las variables \"enero\" y \"febrero\" en una variable que se llame mes."
      ],
      "metadata": {
        "id": "mnFcNNdKetFR"
      }
    },
    {
      "cell_type": "code",
      "source": [],
      "metadata": {
        "id": "ldYfrJ3Le2EY"
      },
      "execution_count": null,
      "outputs": []
    },
    {
      "cell_type": "markdown",
      "source": [
        "Problema 2 [50%]\n",
        "\n",
        "\n",
        "Con respecto al siguiente tibble:"
      ],
      "metadata": {
        "id": "6KxiHunye3SF"
      }
    },
    {
      "cell_type": "code",
      "source": [
        "tb2"
      ],
      "metadata": {
        "id": "FsDsIufue6Xl"
      },
      "execution_count": null,
      "outputs": []
    },
    {
      "cell_type": "markdown",
      "source": [
        "Usando la función apropiada genere columnas a partir de la variable var."
      ],
      "metadata": {
        "id": "TRjvdVDGgErs"
      }
    },
    {
      "cell_type": "code",
      "source": [],
      "metadata": {
        "id": "c5q8YUCngjEC"
      },
      "execution_count": null,
      "outputs": []
    }
  ]
}