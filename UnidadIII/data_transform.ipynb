{
  "cells": [
    {
      "cell_type": "markdown",
      "metadata": {
        "id": "RFs-IT3aPhyl"
      },
      "source": [
        "# Data transformation\n",
        "\n",
        "```{r}\n",
        "source(\"https://raw.githubusercontent.com/ricardo-rios/fund_prog_est/main/_common.R\")\n",
        "```\n"
      ]
    },
    {
      "cell_type": "code",
      "source": [],
      "metadata": {
        "id": "xSjaFsEeROaR"
      },
      "execution_count": 4,
      "outputs": []
    },
    {
      "cell_type": "markdown",
      "source": [
        "## Introduction\n",
        "\n",
        "Visualization is an important tool for generating insight, but it's rare that you get the data in exactly the right form you need to make the graph you want.\n",
        "Often you'll need to create some new variables or summaries to answer your questions with your data, or maybe you just want to rename the variables or reorder the observations to make the data a little easier to work with.\n",
        "You'll learn how to do all that (and more!) in this chapter, which will introduce you to data transformation using the **dplyr** package and a new dataset on flights that departed from New York City in 2013.\n",
        "\n",
        "The goal of this chapter is to give you an overview of all the key tools for transforming a data frame.\n",
        "We'll start with functions that operate on rows and then columns of a data frame, then circle back to talk more about the pipe, an important tool that you use to combine verbs.\n",
        "We will then introduce the ability to work with groups.\n",
        "We will end the chapter with a case study that showcases these functions in action and we'll come back to the functions in more detail in later chapters, as we start to dig into specific types of data (e.g., numbers, strings, dates).\n",
        "\n",
        "### Prerequisites\n",
        "\n",
        "In this chapter we'll focus on the dplyr package, another core member of the tidyverse.\n",
        "We'll illustrate the key ideas using data from the nycflights13 package, and use ggplot2 to help us understand the data.\n",
        "\n",
        "\n",
        "```{r}\n",
        "install.packages(\"nycflights13\")\n",
        "library(nycflights13)\n",
        "library(tidyverse)\n",
        "```\n"
      ],
      "metadata": {
        "id": "d4bdGCHKRPHp"
      }
    },
    {
      "cell_type": "code",
      "source": [],
      "metadata": {
        "id": "ytaE1I-7RzIu"
      },
      "execution_count": null,
      "outputs": []
    },
    {
      "cell_type": "markdown",
      "source": [
        "Take careful note of the conflicts message that's printed when you load the tidyverse.\n",
        "It tells you that dplyr overwrites some functions in base R.\n",
        "If you want to use the base version of these functions after loading dplyr, you'll need to use their full names: `stats::filter()` and `stats::lag()`.\n",
        "So far we've mostly ignored which package a function comes from because most of the time it doesn't matter.\n",
        "However, knowing the package can help you find help and find related functions, so when we need to be precise about which package a function comes from, we'll use the same syntax as R: `packagename::functionname()`.\n",
        "\n",
        "### nycflights13\n",
        "\n",
        "To explore the basic dplyr verbs, we're going to use `nycflights13::flights`.\n",
        "This dataset contains all `r format(nrow(nycflights13::flights), big.mark = \",\")` flights that departed from New York City in 2013.\n",
        "The data comes from the US [Bureau of Transportation Statistics](https://www.transtats.bts.gov/DL_SelectFields.aspx?gnoyr_VQ=FGJ&QO_fu146_anzr=b0-gvzr), and is documented in `?flights`.\n",
        "\n",
        "```{r}\n",
        "flights\n",
        "```\n"
      ],
      "metadata": {
        "id": "eVt-9WhZRyTl"
      }
    },
    {
      "cell_type": "code",
      "source": [],
      "metadata": {
        "id": "ZRfpVl6cRSZg"
      },
      "execution_count": 7,
      "outputs": []
    },
    {
      "cell_type": "markdown",
      "source": [
        "`flights` is a tibble, a special type of data frame used by the tidyverse to avoid some common gotchas.\n",
        "The most important difference between tibbles and data frames is the way tibbles print; they are designed for large datasets, so they only show the first few rows and only the columns that fit on one screen.\n",
        "There are a few options to see everything.\n",
        "If you're using RStudio, the most convenient is probably `View(flights)`, which will open an interactive scrollable and filterable view.\n",
        "Otherwise you can use `print(flights, width = Inf)` to show all columns, or use `glimpse()`:\n",
        "\n",
        "```{r}\n",
        "glimpse(flights)\n",
        "```\n"
      ],
      "metadata": {
        "id": "s_QY8fzTR4eV"
      }
    },
    {
      "cell_type": "code",
      "source": [],
      "metadata": {
        "id": "9ijIFi11SO0E"
      },
      "execution_count": null,
      "outputs": []
    },
    {
      "cell_type": "markdown",
      "source": [
        "In both views, the variables names are followed by abbreviations that tell you the type of each variable: `<int>` is short for integer, `<dbl>` is short for double (aka real numbers), `<chr>` for character (aka strings), and `<dttm>` for date-time.\n",
        "These are important because the operations you can perform on a column depend so much on its \"type\".\n",
        "\n",
        "### dplyr basics\n",
        "\n",
        "You're about to learn the primary dplyr verbs (functions) which will allow you to solve the vast majority of your data manipulation challenges.\n",
        "But before we discuss their individual differences, it's worth stating what they have in common:\n",
        "\n",
        "1.  The first argument is always a data frame.\n",
        "\n",
        "2.  The subsequent arguments typically describe which columns to operate on, using the variable names (without quotes).\n",
        "\n",
        "3.  The output is always a new data frame.\n",
        "\n",
        "Because each verb does one thing well, solving complex problems will usually require combining multiple verbs, and we'll do so with the pipe, `|>`.\n",
        "We'll discuss the pipe more in @sec-the-pipe, but in brief, the pipe takes the thing on its left and passes it along to the function on its right so that `x |> f(y)` is equivalent to `f(x, y)`, and `x |> f(y) |> g(z)` is equivalent to `g(f(x, y), z)`.\n",
        "The easiest way to pronounce the pipe is \"then\".\n",
        "That makes it possible to get a sense of the following code even though you haven't yet learned the details:\n",
        "\n",
        "```{r}\n",
        "flights |>\n",
        "  filter(dest == \"IAH\") |>\n",
        "  group_by(year, month, day) |>\n",
        "  summarize(\n",
        "    arr_delay = mean(arr_delay, na.rm = TRUE)\n",
        "  )\n",
        "```\n"
      ],
      "metadata": {
        "id": "Mu58yHp6SPWy"
      }
    },
    {
      "cell_type": "code",
      "source": [],
      "metadata": {
        "id": "7rTmxhXMSTVb"
      },
      "execution_count": null,
      "outputs": []
    },
    {
      "cell_type": "markdown",
      "source": [
        "dplyr's verbs are organized into four groups based on what they operate on: **rows**, **columns**, **groups**, or **tables**.\n",
        "In the following sections you'll learn the most important verbs for rows, columns, and groups, then we'll come back to the join verbs that work on tables in @sec-joins.\n",
        "Let's dive in!\n",
        "\n",
        "## Rows\n",
        "\n",
        "The most important verbs that operate on rows of a dataset are `filter()`, which changes which rows are present without changing their order, and `arrange()`, which changes the order of the rows without changing which are present.\n",
        "Both functions only affect the rows, and the columns are left unchanged.\n",
        "We'll also discuss `distinct()` which finds rows with unique values but unlike `arrange()` and `filter()` it can also optionally modify the columns.\n",
        "\n",
        "### `filter()`\n",
        "\n",
        "`filter()` allows you to keep rows based on the values of the columns[^data-transform-1].\n",
        "The first argument is the data frame.\n",
        "The second and subsequent arguments are the conditions that must be true to keep the row.\n",
        "For example, we could find all flights that departed more than 120 minutes (two hours) late:\n",
        "\n",
        "[^data-transform-1]: Later, you'll learn about the `slice_*()` family which allows you to choose rows based on their positions.\n",
        "\n",
        "```{r}\n",
        "flights |>\n",
        "  filter(dep_delay > 120)\n",
        "```\n"
      ],
      "metadata": {
        "id": "1hdglQcGSUkR"
      }
    },
    {
      "cell_type": "code",
      "source": [],
      "metadata": {
        "id": "mLDXdEArSauY"
      },
      "execution_count": null,
      "outputs": []
    },
    {
      "cell_type": "markdown",
      "source": [
        "As well as `>` (greater than), you can use `>=` (greater than or equal to), `<` (less than), `<=` (less than or equal to), `==` (equal to), and `!=` (not equal to).\n",
        "You can also combine conditions with `&` or `,` to indicate \"and\" (check for both conditions) or with `|` to indicate \"or\" (check for either condition):\n",
        "\n",
        "```{r}\n",
        "# Flights that departed on January 1\n",
        "flights |>\n",
        "  filter(month == 1 & day == 1)\n",
        "\n",
        "# Flights that departed in January or February\n",
        "flights |>\n",
        "  filter(month == 1 | month == 2)\n",
        "```\n"
      ],
      "metadata": {
        "id": "85EzF96FSbKu"
      }
    },
    {
      "cell_type": "code",
      "source": [],
      "metadata": {
        "id": "I8runVdHSdr-"
      },
      "execution_count": null,
      "outputs": []
    },
    {
      "cell_type": "markdown",
      "source": [
        "There's a useful shortcut when you're combining `|` and `==`: `%in%`.\n",
        "It keeps rows where the variable equals one of the values on the right:\n",
        "\n",
        "```{r}\n",
        "# A shorter way to select flights that departed in January or February\n",
        "flights |>\n",
        "  filter(month %in% c(1, 2))\n",
        "```\n"
      ],
      "metadata": {
        "id": "cjqDZJb3SeZF"
      }
    },
    {
      "cell_type": "code",
      "source": [],
      "metadata": {
        "id": "26jYbd56ShNV"
      },
      "execution_count": null,
      "outputs": []
    },
    {
      "cell_type": "markdown",
      "source": [
        "We'll come back to these comparisons and logical operators in more detail in @sec-logicals.\n",
        "\n",
        "When you run `filter()` dplyr executes the filtering operation, creating a new data frame, and then prints it.\n",
        "It doesn't modify the existing `flights` dataset because dplyr functions never modify their inputs.\n",
        "To save the result, you need to use the assignment operator, `<-`:\n",
        "\n",
        "```{r}\n",
        "jan1 <- flights |>\n",
        "  filter(month == 1 & day == 1)\n",
        "```\n"
      ],
      "metadata": {
        "id": "btb1Z70HSkez"
      }
    },
    {
      "cell_type": "code",
      "source": [],
      "metadata": {
        "id": "ZYeYjpQ3SmQT"
      },
      "execution_count": null,
      "outputs": []
    },
    {
      "cell_type": "markdown",
      "source": [
        "### Common mistakes\n",
        "\n",
        "When you're starting out with R, the easiest mistake to make is to use `=` instead of `==` when testing for equality.\n",
        "`filter()` will let you know when this happens:\n",
        "\n",
        "```{r}\n",
        "flights |>\n",
        "  filter(month = 1)\n",
        "```\n"
      ],
      "metadata": {
        "id": "_lZMdPOiSmvK"
      }
    },
    {
      "cell_type": "code",
      "source": [],
      "metadata": {
        "id": "Au8IpjCsSpfD"
      },
      "execution_count": null,
      "outputs": []
    },
    {
      "cell_type": "markdown",
      "source": [
        "Another mistakes is you write \"or\" statements like you would in English:\n",
        "\n",
        "```{r}\n",
        "flights |>\n",
        "  filter(month == 1 | 2)\n",
        "```"
      ],
      "metadata": {
        "id": "8T99O6NmSqFh"
      }
    },
    {
      "cell_type": "code",
      "source": [],
      "metadata": {
        "id": "5yftEAyYSuRw"
      },
      "execution_count": null,
      "outputs": []
    },
    {
      "cell_type": "markdown",
      "source": [
        "This \"works\", in the sense that it doesn't throw an error, but it doesn't do what you want because `|` first checks the condition `month == 1` and then checks the condition `2`, which is not a sensible condition to check.\n",
        "We'll learn more about what's happening here and why in @sec-order-operations-boolean.\n",
        "\n"
      ],
      "metadata": {
        "id": "5xM_8DrES4Pr"
      }
    },
    {
      "cell_type": "markdown",
      "source": [
        "### `arrange()`\n",
        "\n",
        "`arrange()` changes the order of the rows based on the value of the columns.\n",
        "It takes a data frame and a set of column names (or more complicated expressions) to order by.\n",
        "If you provide more than one column name, each additional column will be used to break ties in the values of preceding columns.\n",
        "For example, the following code sorts by the departure time, which is spread over four columns.\n",
        "We get the earliest years first, then within a year the earliest months, etc.\n",
        "\n",
        "```{r}\n",
        "flights |>\n",
        "  arrange(year, month, day, dep_time)\n",
        "```\n"
      ],
      "metadata": {
        "id": "l-91smA8S9mK"
      }
    },
    {
      "cell_type": "code",
      "source": [],
      "metadata": {
        "id": "edtkIUtyS-Fz"
      },
      "execution_count": null,
      "outputs": []
    },
    {
      "cell_type": "markdown",
      "source": [
        "You can use `desc()` on a column inside of `arrange()` to re-order the data frame based on that column in descending (big-to-small) order.\n",
        "For example, this code orders flights from most to least delayed:\n",
        "\n",
        "```{r}\n",
        "flights |>\n",
        "  arrange(desc(dep_delay))\n",
        "```\n"
      ],
      "metadata": {
        "id": "oMv0TDUmTBz5"
      }
    },
    {
      "cell_type": "code",
      "source": [],
      "metadata": {
        "id": "QRqG27dcTDQI"
      },
      "execution_count": null,
      "outputs": []
    },
    {
      "cell_type": "markdown",
      "source": [
        "Note that the number of rows has not changed -- we're only arranging the data, we're not filtering it."
      ],
      "metadata": {
        "id": "JhhGDnAyTFAX"
      }
    },
    {
      "cell_type": "markdown",
      "source": [
        "### `distinct()`\n",
        "\n",
        "`distinct()` finds all the unique rows in a dataset, so in a technical sense, it primarily operates on the rows.\n",
        "Most of the time, however, you'll want the distinct combination of some variables, so you can also optionally supply column names:\n",
        "\n",
        "```{r}\n",
        "# Remove duplicate rows, if any\n",
        "flights |>\n",
        "  distinct()\n",
        "\n",
        "# Find all unique origin and destination pairs\n",
        "flights |>\n",
        "  distinct(origin, dest)\n",
        "```\n"
      ],
      "metadata": {
        "id": "BgZug3jPTJJV"
      }
    },
    {
      "cell_type": "code",
      "source": [],
      "metadata": {
        "id": "RFT3ELjTTFXI"
      },
      "execution_count": null,
      "outputs": []
    },
    {
      "cell_type": "markdown",
      "source": [
        "Alternatively, if you want to the keep other columns when filtering for unique rows, you can use the `.keep_all = TRUE` option.\n",
        "\n",
        "```{r}\n",
        "flights |>\n",
        "  distinct(origin, dest, .keep_all = TRUE)\n",
        "```\n"
      ],
      "metadata": {
        "id": "JwBv7Ay9TK-d"
      }
    },
    {
      "cell_type": "code",
      "source": [],
      "metadata": {
        "id": "F1EGCzZBTM4t"
      },
      "execution_count": null,
      "outputs": []
    },
    {
      "cell_type": "markdown",
      "source": [
        "It's not a coincidence that all of these distinct flights are on January 1: `distinct()` will find the first occurrence of a unique row in the dataset and discard the rest.\n",
        "\n",
        "If you want to find the number of occurrences instead, you're better off swapping `distinct()` for `count()`, and with the `sort = TRUE` argument you can arrange them in descending order of number of occurrences.\n",
        "You'll learn more about count in @sec-counts.\n",
        "\n",
        "```{r}\n",
        "flights |>\n",
        "  count(origin, dest, sort = TRUE)\n",
        "```\n"
      ],
      "metadata": {
        "id": "zSDtSylyTQty"
      }
    },
    {
      "cell_type": "code",
      "source": [],
      "metadata": {
        "id": "oGa-wplvTSPM"
      },
      "execution_count": null,
      "outputs": []
    },
    {
      "cell_type": "markdown",
      "source": [
        "### Exercises\n",
        "\n",
        "1.  In a single pipeline for each condition, find all flights that meet the condition:\n",
        "\n",
        "    -   Had an arrival delay of two or more hours\n",
        "    -   Flew to Houston (`IAH` or `HOU`)\n",
        "    -   Were operated by United, American, or Delta\n",
        "    -   Departed in summer (July, August, and September)\n",
        "    -   Arrived more than two hours late, but didn't leave late\n",
        "    -   Were delayed by at least an hour, but made up over 30 minutes in flight\n",
        "\n",
        "2.  Sort `flights` to find the flights with longest departure delays.\n",
        "    Find the flights that left earliest in the morning.\n",
        "\n",
        "3.  Sort `flights` to find the fastest flights.\n",
        "    (Hint: Try including a math calculation inside of your function.)\n",
        "\n",
        "4.  Was there a flight on every day of 2013?\n",
        "\n",
        "5.  Which flights traveled the farthest distance?\n",
        "    Which traveled the least distance?\n",
        "\n",
        "6.  Does it matter what order you used `filter()` and `arrange()` if you're using both?\n",
        "    Why/why not?\n",
        "    Think about the results and how much work the functions would have to do.\n"
      ],
      "metadata": {
        "id": "VPDdRDoGTVrZ"
      }
    },
    {
      "cell_type": "code",
      "source": [],
      "metadata": {
        "id": "zKi7s0J_TWSK"
      },
      "execution_count": null,
      "outputs": []
    },
    {
      "cell_type": "markdown",
      "source": [
        "## Columns\n",
        "\n",
        "There are four important verbs that affect the columns without changing the rows: `mutate()` creates new columns that are derived from the existing columns, `select()` changes which columns are present, `rename()` changes the names of the columns, and `relocate()` changes the positions of the columns.\n",
        "\n",
        "### `mutate()`\n",
        "\n",
        "The job of `mutate()` is to add new columns that are calculated from the existing columns.\n",
        "In the transform chapters, you'll learn a large set of functions that you can use to manipulate different types of variables.\n",
        "For now, we'll stick with basic algebra, which allows us to compute the `gain`, how much time a delayed flight made up in the air, and the `speed` in miles per hour:\n",
        "\n",
        "```{r}\n",
        "flights |>\n",
        "  mutate(\n",
        "    gain = dep_delay - arr_delay,\n",
        "    speed = distance / air_time * 60\n",
        "  )\n",
        "```\n"
      ],
      "metadata": {
        "id": "-klgxYVSTbMp"
      }
    },
    {
      "cell_type": "code",
      "source": [],
      "metadata": {
        "id": "iH64bKtZTd6P"
      },
      "execution_count": null,
      "outputs": []
    },
    {
      "cell_type": "markdown",
      "source": [
        "By default, `mutate()` adds new columns on the right hand side of your dataset, which makes it difficult to see what's happening here.\n",
        "We can use the `.before` argument to instead add the variables to the left hand side[^data-transform-2]:\n",
        "\n",
        "[^data-transform-2]: Remember that in RStudio, the easiest way to see a dataset with many columns is `View()`.\n",
        "\n",
        "```{r}\n",
        "flights |>\n",
        "  mutate(\n",
        "    gain = dep_delay - arr_delay,\n",
        "    speed = distance / air_time * 60,\n",
        "    .before = 1\n",
        "  )\n",
        "```\n"
      ],
      "metadata": {
        "id": "sOiwlFJTTgv1"
      }
    },
    {
      "cell_type": "code",
      "source": [],
      "metadata": {
        "id": "QDwBodhKThx1"
      },
      "execution_count": null,
      "outputs": []
    },
    {
      "cell_type": "markdown",
      "source": [
        "The `.` is a sign that `.before` is an argument to the function, not the name of a third new variable we are creating.\n",
        "You can also use `.after` to add after a variable, and in both `.before` and `.after` you can use the variable name instead of a position.\n",
        "For example, we could add the new variables after `day`:\n",
        "\n",
        "```{r}\n",
        "flights |>\n",
        "  mutate(\n",
        "    gain = dep_delay - arr_delay,\n",
        "    speed = distance / air_time * 60,\n",
        "    .after = day\n",
        "  )\n",
        "```\n"
      ],
      "metadata": {
        "id": "jQqTU-9lTk7K"
      }
    },
    {
      "cell_type": "code",
      "source": [],
      "metadata": {
        "id": "aDyy8PYwTnwu"
      },
      "execution_count": null,
      "outputs": []
    },
    {
      "cell_type": "markdown",
      "source": [
        "Alternatively, you can control which variables are kept with the `.keep` argument.\n",
        "A particularly useful argument is `\"used\"` which specifies that we only keep the columns that were involved or created in the `mutate()` step.\n",
        "For example, the following output will contain only the variables `dep_delay`, `arr_delay`, `air_time`, `gain`, `hours`, and `gain_per_hour`.\n",
        "\n",
        "```{r}\n",
        "flights |>\n",
        "  mutate(\n",
        "    gain = dep_delay - arr_delay,\n",
        "    hours = air_time / 60,\n",
        "    gain_per_hour = gain / hours,\n",
        "    .keep = \"used\"\n",
        "  )\n",
        "```\n"
      ],
      "metadata": {
        "id": "xb75GFPOToMK"
      }
    },
    {
      "cell_type": "code",
      "source": [],
      "metadata": {
        "id": "fKrVGE1uT4Yd"
      },
      "execution_count": null,
      "outputs": []
    },
    {
      "cell_type": "markdown",
      "source": [
        "Note that since we haven't assigned the result of the above computation back to `flights`, the new variables `gain`, `hours`, and `gain_per_hour` will only be printed but will not be stored in a data frame.\n",
        "And if we want them to be available in a data frame for future use, we should think carefully about whether we want the result to be assigned back to `flights`, overwriting the original data frame with many more variables, or to a new object.\n",
        "Often, the right answer is a new object that is named informatively to indicate its contents, e.g., `delay_gain`, but you might also have good reasons for overwriting `flights`.\n",
        "\n",
        "### `select()` {#sec-select}\n",
        "\n",
        "It's not uncommon to get datasets with hundreds or even thousands of variables.\n",
        "In this situation, the first challenge is often just focusing on the variables you're interested in.\n",
        "`select()` allows you to rapidly zoom in on a useful subset using operations based on the names of the variables:\n",
        "\n",
        "-   Select columns by name:\n",
        "\n",
        "    ```{r}\n",
        "    flights |>\n",
        "      select(year, month, day)\n",
        "    ```\n"
      ],
      "metadata": {
        "id": "M2ViXQzHT41M"
      }
    },
    {
      "cell_type": "code",
      "source": [],
      "metadata": {
        "id": "qmtgEnlcT-yr"
      },
      "execution_count": null,
      "outputs": []
    },
    {
      "cell_type": "markdown",
      "source": [
        "-   Select all columns between year and day (inclusive):\n",
        "\n",
        "    ```{r}\n",
        "    flights |>\n",
        "      select(year:day)\n",
        "    ```\n"
      ],
      "metadata": {
        "id": "uOZen5XgT_cR"
      }
    },
    {
      "cell_type": "code",
      "source": [],
      "metadata": {
        "id": "VDsTMl5pUEcY"
      },
      "execution_count": null,
      "outputs": []
    },
    {
      "cell_type": "markdown",
      "source": [
        "-   Select all columns except those from year to day (inclusive):\n",
        "\n",
        "    ```{r}\n",
        "    flights |>\n",
        "      select(!year:day)\n",
        "    ```\n"
      ],
      "metadata": {
        "id": "H9fiQazPUGsW"
      }
    },
    {
      "cell_type": "code",
      "source": [],
      "metadata": {
        "id": "42kiINgmUJl-"
      },
      "execution_count": null,
      "outputs": []
    },
    {
      "cell_type": "markdown",
      "source": [
        "    Historically this operation was done with `-` instead of `!`, so you're likely to see that in the wild.\n",
        "    These two operators serve the same purpose but with subtle differences in behavior.\n",
        "    We recommend using `!` because it reads as \"not\" and combines well with `&` and `|`.\n",
        "\n",
        "-   Select all columns that are characters:\n",
        "\n",
        "    ```{r}\n",
        "    flights |>\n",
        "      select(where(is.character))\n",
        "    ```\n"
      ],
      "metadata": {
        "id": "zss1UGfNUREC"
      }
    },
    {
      "cell_type": "code",
      "source": [],
      "metadata": {
        "id": "9xb_0rCrUSmK"
      },
      "execution_count": null,
      "outputs": []
    },
    {
      "cell_type": "markdown",
      "source": [
        "There are a number of helper functions you can use within `select()`:\n",
        "\n",
        "-   `starts_with(\"abc\")`: matches names that begin with \"abc\".\n",
        "-   `ends_with(\"xyz\")`: matches names that end with \"xyz\".\n",
        "-   `contains(\"ijk\")`: matches names that contain \"ijk\".\n",
        "-   `num_range(\"x\", 1:3)`: matches `x1`, `x2` and `x3`.\n",
        "\n",
        "See `?select` for more details.\n",
        "Once you know regular expressions (the topic of @sec-regular-expressions) you'll also be able to use `matches()` to select variables that match a pattern.\n",
        "\n",
        "You can rename variables as you `select()` them by using `=`.\n",
        "The new name appears on the left hand side of the `=`, and the old variable appears on the right hand side:\n",
        "\n",
        "```{r}\n",
        "flights |>\n",
        "  select(tail_num = tailnum)\n",
        "```\n"
      ],
      "metadata": {
        "id": "BIYZqutWUTFh"
      }
    },
    {
      "cell_type": "code",
      "source": [],
      "metadata": {
        "id": "S-ODQ_-lUVua"
      },
      "execution_count": null,
      "outputs": []
    },
    {
      "cell_type": "markdown",
      "source": [
        "### `rename()`\n",
        "\n",
        "If you want to keep all the existing variables and just want to rename a few, you can use `rename()` instead of `select()`:\n",
        "\n",
        "```{r}\n",
        "flights |>\n",
        "  rename(tail_num = tailnum)\n",
        "```\n"
      ],
      "metadata": {
        "id": "DYq_H1G9UWRw"
      }
    },
    {
      "cell_type": "code",
      "source": [],
      "metadata": {
        "id": "AGcGLXfJUg6c"
      },
      "execution_count": null,
      "outputs": []
    },
    {
      "cell_type": "markdown",
      "source": [
        "If you have a bunch of inconsistently named columns and it would be painful to fix them all by hand, check out `janitor::clean_names()` which provides some useful automated cleaning.\n",
        "\n",
        "### `relocate()`\n",
        "\n",
        "Use `relocate()` to move variables around.\n",
        "You might want to collect related variables together or move important variables to the front.\n",
        "By default `relocate()` moves variables to the front:\n",
        "\n",
        "```{r}\n",
        "flights |>\n",
        "  relocate(time_hour, air_time)\n",
        "```\n"
      ],
      "metadata": {
        "id": "uZZZoKoTUhmu"
      }
    },
    {
      "cell_type": "code",
      "source": [],
      "metadata": {
        "id": "O3nK3cbpUlXL"
      },
      "execution_count": null,
      "outputs": []
    },
    {
      "cell_type": "markdown",
      "source": [
        "You can also specify where to put them using the `.before` and `.after` arguments, just like in `mutate()`:\n",
        "\n",
        "```{r}\n",
        "flights |>\n",
        "  relocate(year:dep_time, .after = time_hour)\n",
        "flights |>\n",
        "  relocate(starts_with(\"arr\"), .before = dep_time)\n",
        "```\n"
      ],
      "metadata": {
        "id": "D4aEs4XZUl9a"
      }
    },
    {
      "cell_type": "code",
      "source": [],
      "metadata": {
        "id": "E95Np-bhUrGq"
      },
      "execution_count": null,
      "outputs": []
    },
    {
      "cell_type": "markdown",
      "source": [
        "### Exercises\n",
        "\n",
        "```{r}\n",
        "flights <- flights |> mutate(\n",
        "  dep_time = hour * 60 + minute,\n",
        "  arr_time = (arr_time %/% 100) * 60 + (arr_time %% 100),\n",
        "  airtime2 = arr_time - dep_time,\n",
        "  dep_sched = dep_time + dep_delay\n",
        ")\n",
        "\n",
        "ggplot(flights, aes(x = dep_sched)) + geom_histogram(binwidth = 60)\n",
        "ggplot(flights, aes(x = dep_sched %% 60)) + geom_histogram(binwidth = 1)\n",
        "ggplot(flights, aes(x = air_time - airtime2)) + geom_histogram()\n",
        "```\n"
      ],
      "metadata": {
        "id": "RZD5_tuZUvkH"
      }
    },
    {
      "cell_type": "code",
      "source": [],
      "metadata": {
        "id": "iTu5h074Uw8Y"
      },
      "execution_count": null,
      "outputs": []
    },
    {
      "cell_type": "markdown",
      "source": [
        "1.  Compare `dep_time`, `sched_dep_time`, and `dep_delay`.\n",
        "    How would you expect those three numbers to be related?\n",
        "\n",
        "2.  Brainstorm as many ways as possible to select `dep_time`, `dep_delay`, `arr_time`, and `arr_delay` from `flights`.\n",
        "\n",
        "3.  What happens if you specify the name of the same variable multiple times in a `select()` call?\n",
        "\n",
        "4.  What does the `any_of()` function do?\n",
        "    Why might it be helpful in conjunction with this vector?\n",
        "\n",
        "    ```{r}\n",
        "    variables <- c(\"year\", \"month\", \"day\", \"dep_delay\", \"arr_delay\")\n",
        "    ```\n"
      ],
      "metadata": {
        "id": "Hac1dt74U0_u"
      }
    },
    {
      "cell_type": "code",
      "source": [],
      "metadata": {
        "id": "EZEfGKGWU1s4"
      },
      "execution_count": null,
      "outputs": []
    },
    {
      "cell_type": "markdown",
      "source": [
        "5.  Does the result of running the following code surprise you?\n",
        "    How do the select helpers deal with upper and lower case by default?\n",
        "    How can you change that default?\n",
        "\n",
        "    ```{r}\n",
        "    flights |> select(contains(\"TIME\"))\n",
        "    ```\n"
      ],
      "metadata": {
        "id": "KN9kvWnZU_hD"
      }
    },
    {
      "cell_type": "code",
      "source": [],
      "metadata": {
        "id": "la4sBv8ZVAxk"
      },
      "execution_count": null,
      "outputs": []
    },
    {
      "cell_type": "markdown",
      "source": [
        "6.  Rename `air_time` to `air_time_min` to indicate units of measurement and move it to the beginning of the data frame.\n",
        "\n",
        "7.  Why doesn't the following work, and what does the error mean?\n",
        "\n",
        "    ```{r}\n",
        "    flights |>\n",
        "      select(tailnum) |>\n",
        "      arrange(arr_delay)\n",
        "    ```\n"
      ],
      "metadata": {
        "id": "cgz6aoWMVDE6"
      }
    },
    {
      "cell_type": "code",
      "source": [],
      "metadata": {
        "id": "2I3mPd5rVEXX"
      },
      "execution_count": null,
      "outputs": []
    },
    {
      "cell_type": "markdown",
      "source": [
        "## The pipe\n",
        "\n",
        "We've shown you simple examples of the pipe above, but its real power arises when you start to combine multiple verbs.\n",
        "For example, imagine that you wanted to find the fastest flights to Houston's IAH airport: you need to combine `filter()`, `mutate()`, `select()`, and `arrange()`:\n",
        "\n",
        "```{r}\n",
        "flights |>\n",
        "  filter(dest == \"IAH\") |>\n",
        "  mutate(speed = distance / air_time * 60) |>\n",
        "  select(year:day, dep_time, carrier, flight, speed) |>\n",
        "  arrange(desc(speed))\n",
        "```\n"
      ],
      "metadata": {
        "id": "gIzsW-ffVIiI"
      }
    },
    {
      "cell_type": "code",
      "source": [],
      "metadata": {
        "id": "kpGpWjpxVKji"
      },
      "execution_count": null,
      "outputs": []
    },
    {
      "cell_type": "markdown",
      "source": [
        "Even though this pipeline has four steps, it's easy to skim because the verbs come at the start of each line: start with the `flights` data, then filter, then mutate, then select, then arrange.\n",
        "\n",
        "What would happen if we didn't have the pipe?\n",
        "We could nest each function call inside the previous call:\n",
        "\n",
        "```{r}\n",
        "arrange(\n",
        "  select(\n",
        "    mutate(\n",
        "      filter(\n",
        "        flights,\n",
        "        dest == \"IAH\"\n",
        "      ),\n",
        "      speed = distance / air_time * 60\n",
        "    ),\n",
        "    year:day, dep_time, carrier, flight, speed\n",
        "  ),\n",
        "  desc(speed)\n",
        ")\n",
        "```\n"
      ],
      "metadata": {
        "id": "Z-1dJo37VLJ5"
      }
    },
    {
      "cell_type": "code",
      "source": [],
      "metadata": {
        "id": "V9HSzhkNVOWY"
      },
      "execution_count": null,
      "outputs": []
    },
    {
      "cell_type": "markdown",
      "source": [
        "Or we could use a bunch of intermediate objects:\n",
        "\n",
        "```{r}\n",
        "flights1 <- filter(flights, dest == \"IAH\")\n",
        "flights2 <- mutate(flights1, speed = distance / air_time * 60)\n",
        "flights3 <- select(flights2, year:day, dep_time, carrier, flight, speed)\n",
        "arrange(flights3, desc(speed))\n",
        "```\n"
      ],
      "metadata": {
        "id": "zRwpMYAVVRzN"
      }
    },
    {
      "cell_type": "markdown",
      "source": [
        "While both forms have their time and place, the pipe generally produces data analysis code that is easier to write and read.\n",
        "\n",
        "To add the pipe to your code, we recommend using the built-in keyboard shortcut Ctrl/Cmd + Shift + M.\n",
        "You'll need to make one change to your RStudio options to use `|>` instead of `%>%` as shown in @fig-pipe-options; more on `%>%` shortly.\n"
      ],
      "metadata": {
        "id": "wLumU86XVO0-"
      }
    },
    {
      "cell_type": "code",
      "source": [],
      "metadata": {
        "id": "SF1a5KM_Vabs"
      },
      "execution_count": null,
      "outputs": []
    },
    {
      "cell_type": "markdown",
      "source": [
        "![Pipe](https://raw.githubusercontent.com/ricardo-rios/fund_prog_est/main/images/rstudio-pipe-options.png)"
      ],
      "metadata": {
        "id": "lwEZIxUYXz-3"
      }
    },
    {
      "cell_type": "code",
      "source": [],
      "metadata": {
        "id": "p0n1zRFKX0UA"
      },
      "execution_count": null,
      "outputs": []
    },
    {
      "cell_type": "markdown",
      "source": [
        "For simple cases, `|>` and `%>%` behave identically.\n",
        "So why do we recommend the base pipe?\n",
        "Firstly, because it's part of base R, it's always available for you to use, even when you're not using the tidyverse.\n",
        "Secondly, `|>` is quite a bit simpler than `%>%`: in the time between the invention of `%>%` in 2014 and the inclusion of `|>` in R 4.1.0 in 2021, we gained a better understanding of the pipe.\n",
        "This allowed the base implementation to jettison infrequently used and less important features.\n",
        ":::\n",
        "\n",
        "\n",
        "\n",
        "If you've been using the tidyverse for a while, you might be familiar with the `%>%` pipe provided by the **magrittr** package.\n",
        "The magrittr package is included in the core tidyverse, so you can use `%>%` whenever you load the tidyverse:\n",
        "\n",
        "```{r}\n",
        "library(tidyverse)\n",
        "\n",
        "mtcars %>%\n",
        "  group_by(cyl) %>%\n",
        "  summarize(n = n())\n",
        "```\n",
        "\n",
        "\n",
        "\n"
      ],
      "metadata": {
        "id": "D4GUSeViX3_v"
      }
    },
    {
      "cell_type": "code",
      "source": [],
      "metadata": {
        "id": "4CtD8wZEX6J2"
      },
      "execution_count": null,
      "outputs": []
    },
    {
      "cell_type": "markdown",
      "source": [
        "## Groups\n",
        "\n",
        "So far you've learned about functions that work with rows and columns.\n",
        "dplyr gets even more powerful when you add in the ability to work with groups.\n",
        "In this section, we'll focus on the most important functions: `group_by()`, `summarize()`, and the slice family of functions.\n",
        "\n",
        "### `group_by()`\n",
        "\n",
        "Use `group_by()` to divide your dataset into groups meaningful for your analysis:\n",
        "\n",
        "```{r}\n",
        "flights |>\n",
        "  group_by(month)\n",
        "```\n"
      ],
      "metadata": {
        "id": "AVJ-MVMIX6lv"
      }
    },
    {
      "cell_type": "code",
      "source": [],
      "metadata": {
        "id": "IED2Tf4bYStu"
      },
      "execution_count": null,
      "outputs": []
    },
    {
      "cell_type": "markdown",
      "source": [
        "`group_by()` doesn't change the data but, if you look closely at the output, you'll notice that the output indicates that it is \"grouped by\" month (`Groups: month [12]`).\n",
        "This means subsequent operations will now work \"by month\".\n",
        "`group_by()` adds this grouped feature (referred to as class) to the data frame, which changes the behavior of the subsequent verbs applied to the data.\n",
        "\n",
        "### `summarize()`\n",
        "\n",
        "The most important grouped operation is a summary, which, if being used to calculate a single summary statistic, reduces the data frame to have a single row for each group.\n",
        "In dplyr, this operation is performed by `summarize()`[^data-transform-3], as shown by the following example, which computes the average departure delay by month:\n",
        "\n",
        "[^data-transform-3]: Or `summarise()`, if you prefer British English.\n",
        "\n",
        "```{r}\n",
        "flights |>\n",
        "  group_by(month) |>\n",
        "  summarize(\n",
        "    avg_delay = mean(dep_delay)\n",
        "  )\n",
        "```\n"
      ],
      "metadata": {
        "id": "0hlYH3KGYXiC"
      }
    },
    {
      "cell_type": "code",
      "source": [],
      "metadata": {
        "id": "db6mAHqxYZWT"
      },
      "execution_count": null,
      "outputs": []
    },
    {
      "cell_type": "markdown",
      "source": [
        "Uhoh!\n",
        "Something has gone wrong and all of our results are `NA`s (pronounced \"N-A\"), R's symbol for missing value.\n",
        "This happened because some of the observed flights had missing data in the delay column, and so when we calculated the mean including those values, we got an `NA` result.\n",
        "We'll come back to discuss missing values in detail in @sec-missing-values, but for now we'll tell the `mean()` function to ignore all missing values by setting the argument `na.rm` to `TRUE`:\n",
        "\n",
        "```{r}\n",
        "flights |>\n",
        "  group_by(month) |>\n",
        "  summarize(\n",
        "    avg_delay = mean(dep_delay, na.rm = TRUE)\n",
        "  )\n",
        "```\n"
      ],
      "metadata": {
        "id": "JrGJRhMsYcmI"
      }
    },
    {
      "cell_type": "code",
      "source": [],
      "metadata": {
        "id": "mhyyqV-YYd-x"
      },
      "execution_count": null,
      "outputs": []
    },
    {
      "cell_type": "markdown",
      "source": [
        "You can create any number of summaries in a single call to `summarize()`.\n",
        "You'll learn various useful summaries in the upcoming chapters, but one very useful summary is `n()`, which returns the number of rows in each group:\n",
        "\n",
        "```{r}\n",
        "flights |>\n",
        "  group_by(month) |>\n",
        "  summarize(\n",
        "    avg_delay = mean(dep_delay, na.rm = TRUE),\n",
        "    n = n()\n",
        "  )\n",
        "```\n"
      ],
      "metadata": {
        "id": "yZtlgO-eYefv"
      }
    },
    {
      "cell_type": "code",
      "source": [],
      "metadata": {
        "id": "e-xKhmn4YhMp"
      },
      "execution_count": null,
      "outputs": []
    },
    {
      "cell_type": "markdown",
      "source": [
        "Means and counts can get you a surprisingly long way in data science!\n",
        "\n",
        "### The `slice_` functions\n",
        "\n",
        "There are five handy functions that allow you extract specific rows within each group:\n",
        "\n",
        "-   `df |> slice_head(n = 1)` takes the first row from each group.\n",
        "-   `df |> slice_tail(n = 1)` takes the last row in each group.\n",
        "-   `df |> slice_min(x, n = 1)` takes the row with the smallest value of column `x`.\n",
        "-   `df |> slice_max(x, n = 1)` takes the row with the largest value of column `x`.\n",
        "-   `df |> slice_sample(n = 1)` takes one random row.\n",
        "\n",
        "You can vary `n` to select more than one row, or instead of `n =`, you can use `prop = 0.1` to select (e.g.) 10% of the rows in each group.\n",
        "For example, the following code finds the flights that are most delayed upon arrival at each destination:\n",
        "\n",
        "```{r}\n",
        "flights |>\n",
        "  group_by(dest) |>\n",
        "  slice_max(arr_delay, n = 1) |>\n",
        "  relocate(dest)\n",
        "```\n"
      ],
      "metadata": {
        "id": "AUfGaj11Yjse"
      }
    },
    {
      "cell_type": "code",
      "source": [],
      "metadata": {
        "id": "oY0O29o7Ym4P"
      },
      "execution_count": null,
      "outputs": []
    },
    {
      "cell_type": "markdown",
      "source": [
        "Note that there are 105 destinations but we get 108 rows here.\n",
        "What's up?\n",
        "`slice_min()` and `slice_max()` keep tied values so `n = 1` means give us all rows with the highest value.\n",
        "If you want exactly one row per group you can set `with_ties = FALSE`.\n",
        "\n",
        "This is similar to computing the max delay with `summarize()`, but you get the whole corresponding row (or rows if there's a tie) instead of the single summary statistic.\n",
        "\n",
        "### Grouping by multiple variables\n",
        "\n",
        "You can create groups using more than one variable.\n",
        "For example, we could make a group for each date.\n",
        "\n",
        "```{r}\n",
        "daily <- flights |>  \n",
        "  group_by(year, month, day)\n",
        "daily\n",
        "```\n"
      ],
      "metadata": {
        "id": "xvAarmk4YneE"
      }
    },
    {
      "cell_type": "code",
      "source": [],
      "metadata": {
        "id": "_F7ZWfyeYp99"
      },
      "execution_count": null,
      "outputs": []
    },
    {
      "cell_type": "markdown",
      "source": [
        "When you summarize a tibble grouped by more than one variable, each summary peels off the last group.\n",
        "In hindsight, this wasn't a great way to make this function work, but it's difficult to change without breaking existing code.\n",
        "To make it obvious what's happening, dplyr displays a message that tells you how you can change this behavior:\n",
        "\n",
        "```{r}\n",
        "daily_flights <- daily |>\n",
        "  summarize(n = n())\n",
        "```\n"
      ],
      "metadata": {
        "id": "62vJreF7YqZb"
      }
    },
    {
      "cell_type": "code",
      "source": [],
      "metadata": {
        "id": "aTKMt33DYsJN"
      },
      "execution_count": null,
      "outputs": []
    },
    {
      "cell_type": "markdown",
      "source": [
        "If you're happy with this behavior, you can explicitly request it in order to suppress the message:\n",
        "\n",
        "```{r}\n",
        "daily_flights <- daily |>\n",
        "  summarize(\n",
        "    n = n(),\n",
        "    .groups = \"drop_last\"\n",
        "  )\n",
        "```\n"
      ],
      "metadata": {
        "id": "w1EJx4RCYsrb"
      }
    },
    {
      "cell_type": "code",
      "source": [],
      "metadata": {
        "id": "5ZAtR_CCYwzy"
      },
      "execution_count": null,
      "outputs": []
    },
    {
      "cell_type": "markdown",
      "source": [
        "Alternatively, change the default behavior by setting a different value, e.g., `\"drop\"` to drop all grouping or `\"keep\"` to preserve the same groups.\n",
        "\n",
        "### Ungrouping\n",
        "\n",
        "You might also want to remove grouping from a data frame without using `summarize()`.\n",
        "You can do this with `ungroup()`.\n",
        "\n",
        "```{r}\n",
        "daily |>\n",
        "  ungroup()\n",
        "```\n"
      ],
      "metadata": {
        "id": "HcFz9R3xY3Dh"
      }
    },
    {
      "cell_type": "code",
      "source": [],
      "metadata": {
        "id": "6BN9CwxYY3qv"
      },
      "execution_count": null,
      "outputs": []
    },
    {
      "cell_type": "markdown",
      "source": [
        "Now let's see what happens when you summarize an ungrouped data frame.\n",
        "\n",
        "```{r}\n",
        "daily |>\n",
        "  ungroup() |>\n",
        "  summarize(\n",
        "    avg_delay = mean(dep_delay, na.rm = TRUE),\n",
        "    flights = n()\n",
        "  )\n",
        "```\n"
      ],
      "metadata": {
        "id": "-Jbytop3Y4LW"
      }
    },
    {
      "cell_type": "code",
      "source": [],
      "metadata": {
        "id": "GPgu-rIEY8Bg"
      },
      "execution_count": null,
      "outputs": []
    },
    {
      "cell_type": "markdown",
      "source": [
        "You get a single row back because dplyr treats all the rows in an ungrouped data frame as belonging to one group.\n",
        "\n",
        "### `.by`\n",
        "\n",
        "dplyr 1.1.0 includes a new, experimental, syntax for per-operation grouping, the `.by` argument.\n",
        "`group_by()` and `ungroup()` aren't going away, but you can now also use the `.by` argument to group within a single operation:\n",
        "\n",
        "```{r}\n",
        "flights |>\n",
        "  summarize(\n",
        "    delay = mean(dep_delay, na.rm = TRUE),\n",
        "    n = n(),\n",
        "    .by = month\n",
        "  )\n",
        "```\n"
      ],
      "metadata": {
        "id": "rvGzNXsGY8tt"
      }
    },
    {
      "cell_type": "code",
      "source": [],
      "metadata": {
        "id": "b3-XGeL8ZFcb"
      },
      "execution_count": null,
      "outputs": []
    },
    {
      "cell_type": "markdown",
      "source": [
        "Or if you want to group by multiple variables:\n",
        "\n",
        "```{r}\n",
        "flights |>\n",
        "  summarize(\n",
        "    delay = mean(dep_delay, na.rm = TRUE),\n",
        "    n = n(),\n",
        "    .by = c(origin, dest)\n",
        "  )\n",
        "```\n"
      ],
      "metadata": {
        "id": "5Ke5gAfZZGBR"
      }
    },
    {
      "cell_type": "code",
      "source": [],
      "metadata": {
        "id": "QBktXG0jZIYb"
      },
      "execution_count": null,
      "outputs": []
    },
    {
      "cell_type": "markdown",
      "source": [
        "`.by` works with all verbs and has the advantage that you don't need to use the `.groups` argument to suppress the grouping message or `ungroup()` when you're done.\n",
        "\n",
        "We didn't focus on this syntax in this chapter because it was very new when we wrote the book.\n",
        "We did want to mention it because we think it has a lot of promise and it's likely to be quite popular.\n",
        "You can learn more about it in the [dplyr 1.1.0 blog post](https://www.tidyverse.org/blog/2023/02/dplyr-1-1-0-per-operation-grouping/).\n",
        "\n",
        "### Exercises\n",
        "\n",
        "1.  Which carrier has the worst average delays?\n",
        "    Challenge: can you disentangle the effects of bad airports vs. bad carriers?\n",
        "    Why/why not?\n",
        "    (Hint: think about `flights |> group_by(carrier, dest) |> summarize(n())`)\n",
        "\n",
        "2.  Find the flights that are most delayed upon departure from each destination.\n",
        "\n",
        "3.  How do delays vary over the course of the day.\n",
        "    Illustrate your answer with a plot.\n",
        "\n",
        "4.  What happens if you supply a negative `n` to `slice_min()` and friends?\n",
        "\n",
        "5.  Explain what `count()` does in terms of the dplyr verbs you just learned.\n",
        "    What does the `sort` argument to `count()` do?\n",
        "\n",
        "6.  Suppose we have the following tiny data frame:\n",
        "\n",
        "    ```{r}\n",
        "    df <- tibble(\n",
        "      x = 1:5,\n",
        "      y = c(\"a\", \"b\", \"a\", \"a\", \"b\"),\n",
        "      z = c(\"K\", \"K\", \"L\", \"L\", \"K\")\n",
        "    )\n",
        "    ```\n",
        "\n",
        "    a.  Write down what you think the output will look like, then check if you were correct, and describe what `group_by()` does.\n",
        "\n",
        "        ```{r}\n",
        "        df |>\n",
        "          group_by(y)\n",
        "        ```\n",
        "\n",
        "    b.  Write down what you think the output will look like, then check if you were correct, and describe what `arrange()` does.\n",
        "        Also comment on how it's different from the `group_by()` in part (a).\n",
        "\n",
        "        ```{r}\n",
        "        df |>\n",
        "          arrange(y)\n",
        "        ```\n",
        "\n",
        "    c.  Write down what you think the output will look like, then check if you were correct, and describe what the pipeline does.\n",
        "\n",
        "        ```{r}\n",
        "        df |>\n",
        "          group_by(y) |>\n",
        "          summarize(mean_x = mean(x))\n",
        "        ```\n",
        "\n",
        "    d.  Write down what you think the output will look like, then check if you were correct, and describe what the pipeline does.\n",
        "        Then, comment on what the message says.\n",
        "\n",
        "        ```{r}\n",
        "        df |>\n",
        "          group_by(y, z) |>\n",
        "          summarize(mean_x = mean(x))\n",
        "        ```\n",
        "\n",
        "    e.  Write down what you think the output will look like, then check if you were correct, and describe what the pipeline does.\n",
        "        How is the output different from the one in part (d)?\n",
        "\n",
        "        ```{r}\n",
        "        df |>\n",
        "          group_by(y, z) |>\n",
        "          summarize(mean_x = mean(x), .groups = \"drop\")\n",
        "        ```\n",
        "\n",
        "    f.  Write down what you think the outputs will look like, then check if you were correct, and describe what each pipeline does.\n",
        "        How are the outputs of the two pipelines different?\n",
        "\n",
        "        ```{r}\n",
        "        df |>\n",
        "          group_by(y, z) |>\n",
        "          summarize(mean_x = mean(x))\n",
        "            \n",
        "        df |>\n",
        "          group_by(y, z) |>\n",
        "          mutate(mean_x = mean(x))\n",
        "        ```\n"
      ],
      "metadata": {
        "id": "F8Jk-5M5ZLGv"
      }
    },
    {
      "cell_type": "code",
      "source": [],
      "metadata": {
        "id": "PsksOHKTZkIY"
      },
      "execution_count": null,
      "outputs": []
    }
  ],
  "metadata": {
    "kernelspec": {
      "name": "ir",
      "display_name": "R"
    },
    "colab": {
      "provenance": []
    },
    "language_info": {
      "name": "R"
    }
  },
  "nbformat": 4,
  "nbformat_minor": 0
}