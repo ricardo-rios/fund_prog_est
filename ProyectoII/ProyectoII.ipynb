{
  "nbformat": 4,
  "nbformat_minor": 0,
  "metadata": {
    "colab": {
      "provenance": []
    },
    "kernelspec": {
      "name": "ir",
      "display_name": "R"
    },
    "language_info": {
      "name": "R"
    }
  },
  "cells": [
    {
      "cell_type": "markdown",
      "source": [
        "# Proyecto II\n",
        "\n",
        "A fin de practicar los temas de visualización de datos realizaremos un análisis exploratorio con algunas variables del siguiente dataset del sitio de kaggle.com:\n",
        "\n",
        "[Técnicas de clasificación con un conjunto de datos académico](https://www.kaggle.com/competitions/playground-series-s4e6)\n",
        "\n",
        "El dataset tiene la licencia creative commons la cual permite su uso y se detalla en el siguiente enlace:\n",
        "\n",
        "[Licencia creative commons](https://creativecommons.org/licenses/by/4.0/)\n",
        "\n",
        "Además los datos son del instituto de Portalegre en Portugal.\n",
        "\n",
        "\n",
        "A continuación vamos a revisar aspectos del dataset los cuales se han traducido del siguiente sitio web:\n",
        "\n",
        "[Sito web del dataset](https://archive.ics.uci.edu/dataset/697/predict+students+dropout+and+academic+success)\n",
        "\n",
        "**Con que próposito se creo el dataset?**\n",
        "El dataset fue creado en un proyecto para contribuir a la reducción de la deserción y falla en educación superior usando para ello técnicas de análisis de datos.\n",
        "\n",
        "El dataset incluye información que se conocia en el tiempo que el estudiante estaba matriculado, camino académico (academic path), demografía, y factores económicos sociales.\n",
        "\n",
        "La variable respuesta o variable a predecir (Target) es cualitativa y tiene tres categorías (deserción, matriculados y egresados) los valores de las variables se registran al final del curso.\n",
        "\n",
        "**Que representan las instancias (filas) del dataset?**\n",
        "Cada instancia es un estudiante.\n",
        "\n",
        "**Se ha realizado algún procesamiento al dataset?**\n",
        "Se realizo un procesamiento riguroso a fin de manejar anomalías, inexplicables outliers, y datos ausentes.\n",
        "\n",
        "**Hay valores ausentes**\n",
        "No\n",
        "\n",
        "A continuación presentaremos un detalle de las variables."
      ],
      "metadata": {
        "id": "a-jvXsgdQ9Ca"
      }
    },
    {
      "cell_type": "markdown",
      "source": [
        "\n",
        "\n",
        "| Variable Name               | Role    | Type       | Demographic     | Description                                                                                                                                                                                                                                                                                                                                                                                                                                                                                                                                                                                                                                                                                                                                                                                   | Units | Missing Values |\n",
        "|-----------------------------|---------|------------|-----------------|-----------------------------------------------------------------------------------------------------------------------------------------------------------------------------------------------------------------------------------------------------------------------------------------------------------------------------------------------------------------------------------------------------------------------------------------------------------------------------------------------------------------------------------------------------------------------------------------------------------------------------------------------------------------------------------------------------------------------------------------------------------------------------------------------|-------|----------------|\n",
        "| Marital Status              | Feature | Integer    | Marital Status  | 1 – single 2 – married 3 – widower 4 – divorced 5 – facto union 6 – legally separated                                                                                                                                                                                                                                                                                                                                                                                                                                                                                                                                                                                                                                                                   |       | no             |\n",
        "| Application mode            | Feature | Integer    |                 | 1 - 1st phase - general contingent 2 - Ordinance No. 612/93 5 - 1st phase - special contingent (Azores Island) 7 - Holders of other higher courses 10 - Ordinance No. 854-B/99 15 - International student (bachelor) 16 - 1st phase - special contingent (Madeira Island) 17 - 2nd phase - general contingent 18 - 3rd phase - general contingent 26 - Ordinance No. 533-A/99, item b2) (Different Plan) 27 - Ordinance No. 533-A/99, item b3 (Other Institution) 39 - Over 23 years old 42 - Transfer 43 - Change of course 44 - Technological specialization diploma holders 51 - Change of institution/course 53 - Short cycle diploma holders 57 - Change of institution/course (International) |       | no             |\n",
        "| Application order           | Feature | Integer    |                 | Application order (between 0 - first choice; and 9 last choice)                                                                                                                                                                                                                                                                                                                                                                                                                                                                                                                                                                                                                                                                                                                                |       | no             |\n",
        "| Course                      | Feature | Integer    |                 | 33 - Biofuel Production Technologies 171 - Animation and Multimedia Design 8014 - Social Service (evening attendance) 9003 - Agronomy 9070 - Communication Design 9085 - Veterinary Nursing 9119 - Informatics Engineering 9130 - Equinculture 9147 - Management 9238 - Social Service 9254 - Tourism 9500 - Nursing 9556 - Oral Hygiene 9670 - Advertising and Marketing Management 9773 - Journalism and Communication 9853 - Basic Education 9991 - Management (evening attendance)                                                                                                                |       | no             |\n",
        "| Daytime/evening attendance  | Feature | Integer    |                 | 1 – daytime 0 - evening                                                                                                                                                                                                                                                                                                                                                                                                                                                                                                                                                                                                                                                                                                                                 |       | no             |\n",
        "| Previous qualification      | Feature | Integer    | Education Level | 1 - Secondary education 2 - Higher education - bachelor's degree 3 - Higher education - degree 4 - Higher education - master's 5 - Higher education - doctorate 6 - Frequency of higher education 9 - 12th year of schooling - not completed 10 - 11th year of schooling - not completed 12 - Other - 11th year of schooling 14 - 10th year of schooling 15 - 10th year of schooling - not completed 19 - Basic education 3rd cycle (9th/10th/11th year) or equiv. 38 - Basic education 2nd cycle (6th/7th/8th year) or equiv. 39 - Technological specialization course 40 - Higher education - degree (1st cycle) 42 - Professional higher technical course 43 - Higher education - master (2nd cycle) |       | no             |\n",
        "| Previous qualification (grade) | Feature | Continuous |                 | Grade of previous qualification (between 0 and 200)                                                                                                                                                                                                                                                                                                                                                                                                                                                                                                                                                                                                                                                                                                                                             |       | no             |\n",
        "| Nationality                 | Feature | Integer    | Nationality     | 1 - Portuguese; 2 - German; 6 - Spanish; 11 - Italian; 13 - Dutch; 14 - English; 17 - Lithuanian; 21 - Angolan; 22 - Cape Verdean; 24 - Guinean; 25 - Mozambican; 26 - Santomean; 32 - Turkish; 41 - Brazilian; 62 - Romanian; 100 - Moldova (Republic of); 101 - Mexican; 103 - Ukrainian; 105 - Russian; 108 - Cuban; 109 - Colombian                                                                                                                                                                                                                                                                                                                                                                                                                    |       | no             |\n",
        "| Mother's qualification      | Feature | Integer    | Education Level | 1 - Secondary Education - 12th Year of Schooling or Eq. 2 - Higher Education - Bachelor's Degree 3 - Higher Education - Degree 4 - Higher Education - Master's 5 - Higher Education - Doctorate 6 - Frequency of Higher Education 9 - 12th Year of Schooling - Not Completed 10 - 11th Year of Schooling - Not Completed 11 - 7th Year (Old) 12 - Other - 11th Year of Schooling 14 - 10th Year of Schooling 18 - General commerce course 19 - Basic Education 3rd Cycle (9th/10th/11th Year) or Equiv. 22 - Technical-professional course 26 - 7th year of schooling 27 - 2nd cycle of the general high school course 29 - 9th Year of Schooling - Not Completed 30 - 8th year of schooling 34 - Unknown 35 - Can't read or write 36 - Can read without having a 4th year of schooling 37 - Basic education 1st cycle (4th/5th year) or equiv. 38 - Basic Education 2nd Cycle (6th/7th/8th Year) or Equiv. 39 - Technological specialization course 40 - Higher education - degree (1st cycle) 41 - Specialized higher studies course 42 - Professional higher technical course 43 - Higher Education - Master (2nd cycle) 44 - Higher Education - Doctorate (3rd cycle) |       | no             |\n",
        "| Father's qualification      | Feature | Integer    | Education Level | 1 - Secondary Education - 12th Year of Schooling or Eq. 2 - Higher Education - Bachelor's Degree 3 - Higher Education - Degree 4 - Higher Education - Master's 5 - Higher Education - Doctorate 6 - Frequency of Higher Education 9 - 12th Year of Schooling - Not Completed 10 - 11th Year of Schooling - Not Completed 11 - 7th Year (Old) 12 - Other - 11th Year of Schooling 13 - 2nd year complementary high school course 14 - 10th Year of Schooling 18 - General commerce course 19 - Basic Education 3rd Cycle (9th/10th/11th Year) or Equiv. 20 - Complementary High School Course 22 - Technical-professional course 25 - Complementary High School Course - not concluded 26 - 7th year of schooling 27 - 2nd cycle of the general high school course 29 - 9th Year of Schooling - Not Completed 30 - 8th year of schooling 31 - General Course of Administration and Commerce 33 - Supplementary Accounting and Administration 34 - Unknown 35 - Can't read or write 36 - Can read without having a 4th year of schooling 37 - Basic education 1st cycle (4th/5th year) or equiv. 38 - Basic Education 2nd Cycle (6th/7th/8th Year) or Equiv. 39 - Technological specialization course 40 - Higher education - degree (1st cycle) 41 - Specialized higher studies course 42 - Professional higher technical course 43 - Higher Education - Master (2nd cycle) 44 - Higher Education - Doctorate (3rd cycle) |       | no             |\n"
      ],
      "metadata": {
        "id": "gLXeMEUAPTTx"
      }
    },
    {
      "cell_type": "markdown",
      "source": [
        "| Variable Name                                 | Role    | Type    | Demographic | Description                                                | Units | Missing Values |\n",
        "|-----------------------------------------------|---------|---------|-------------|------------------------------------------------------------|-------|----------------|\n",
        "| International                                 | Feature | Integer |             | 1 – yes 0 – no                                             |       | no             |\n",
        "| Curricular units 1st sem (credited)           | Feature | Integer |             | Number of curricular units credited in the 1st semester     |       | no             |\n",
        "| Curricular units 1st sem (enrolled)           | Feature | Integer |             | Number of curricular units enrolled in the 1st semester     |       | no             |\n",
        "| Curricular units 1st sem (evaluations)        | Feature | Integer |             | Number of evaluations to curricular units in the 1st semester |       | no             |\n",
        "| Curricular units 1st sem (approved)           | Feature | Integer |             | Number of curricular units approved in the 1st semester     |       | no             |\n",
        "| Curricular units 1st sem (grade)              | Feature | Integer |             | Grade average in the 1st semester (between 0 and 20)        |       | no             |\n",
        "| Curricular units 1st sem (without evaluations)| Feature | Integer |             | Number of curricular units without evaluations in the 1st semester |       | no             |\n",
        "| Curricular units 2nd sem (credited)           | Feature | Integer |             | Number of curricular units credited in the 2nd semester     |       | no             |\n",
        "| Curricular units 2nd sem (enrolled)           | Feature | Integer |             | Number of curricular units enrolled in the 2nd semester     |       | no             |\n",
        "| Curricular units 2nd sem (evaluations)        | Feature | Integer |             | Number of evaluations to curricular units in the 2nd semester |       | no             |\n"
      ],
      "metadata": {
        "id": "2pYoFk9cQ4lz"
      }
    },
    {
      "cell_type": "markdown",
      "source": [
        "| Variable Name                                 | Role    | Type       | Demographic | Description                                                                                                      | Units | Missing Values |\n",
        "|-----------------------------------------------|---------|------------|-------------|------------------------------------------------------------------------------------------------------------------|-------|----------------|\n",
        "| Curricular units 2nd sem (approved)           | Feature | Integer    |             | Number of curricular units approved in the 2nd semester                                                          |       | no             |\n",
        "| Curricular units 2nd sem (grade)              | Feature | Integer    |             | Grade average in the 2nd semester (between 0 and 20)                                                             |       | no             |\n",
        "| Curricular units 2nd sem (without evaluations)| Feature | Integer    |             | Number of curricular units without evaluations in the 1st semester                                               |       | no             |\n",
        "| Unemployment rate                             | Feature | Continuous |             | Unemployment rate (%)                                                                                            |       | no             |\n",
        "| Inflation rate                                | Feature | Continuous |             | Inflation rate (%)                                                                                               |       | no             |\n",
        "| GDP                                           | Feature | Continuous |             | GDP                                                                                                              |       | no             |\n",
        "| Target                                        | Target  | Categorical |             | Target. The problem is formulated as a three category classification task (dropout, enrolled, and graduate) at the end of the normal duration of the course |       | no             |\n"
      ],
      "metadata": {
        "id": "90vdTnbYPSEz"
      }
    },
    {
      "cell_type": "markdown",
      "source": [
        "A continuación practicaremos los conceptos de visualización de datos y análisis exploratorio de datos.\n"
      ],
      "metadata": {
        "id": "RcswD6rGUcQj"
      }
    },
    {
      "cell_type": "markdown",
      "source": [
        "## Instalando paquetes"
      ],
      "metadata": {
        "id": "d9222ZIF5KAI"
      }
    },
    {
      "cell_type": "code",
      "source": [
        "install.packages(\"janitor\")"
      ],
      "metadata": {
        "id": "IsdnXmLwSM2p"
      },
      "execution_count": null,
      "outputs": []
    },
    {
      "cell_type": "markdown",
      "source": [
        "## Cargando paquetes  "
      ],
      "metadata": {
        "id": "W8QHj0AR5PQ_"
      }
    },
    {
      "cell_type": "code",
      "source": [
        "library(tidyverse)\n",
        "library(janitor)"
      ],
      "metadata": {
        "id": "Y_CIdBku4_4V"
      },
      "execution_count": null,
      "outputs": []
    },
    {
      "cell_type": "markdown",
      "source": [
        "## Cargando y procesando los datos"
      ],
      "metadata": {
        "id": "wGZXuC5R55iC"
      }
    },
    {
      "cell_type": "markdown",
      "source": [
        "En la siguiente linea cargamos la información del dataset en la variable dat usando la función del tidyverse read_csv, la variable dat es un tibble el cual es un variable tipo dataframe adaptada para trabajar en el tidyverse."
      ],
      "metadata": {
        "id": "78CbMY8pE_Be"
      }
    },
    {
      "cell_type": "code",
      "source": [
        "dat <- read_csv(\"https://raw.githubusercontent.com/ricardo-rios/fund_prog_est/main/ProyectoII/train.csv\")"
      ],
      "metadata": {
        "id": "GUO_ee1lT8lJ"
      },
      "execution_count": null,
      "outputs": []
    },
    {
      "cell_type": "markdown",
      "source": [
        "En la siguiente linea nos dice que el dataset tiene 76518 observaciones (filas) y 38 variables (columnas)."
      ],
      "metadata": {
        "id": "62yvm6BYE9gy"
      }
    },
    {
      "cell_type": "code",
      "source": [
        "dim(dat)"
      ],
      "metadata": {
        "id": "WI-zrne7UB0X"
      },
      "execution_count": null,
      "outputs": []
    },
    {
      "cell_type": "markdown",
      "source": [
        "A continuación mostramos los nombres de las variables."
      ],
      "metadata": {
        "id": "ggSQ6e_uNsgA"
      }
    },
    {
      "cell_type": "code",
      "source": [
        "names(dat)"
      ],
      "metadata": {
        "id": "O3PsbvuBUF_9"
      },
      "execution_count": null,
      "outputs": []
    },
    {
      "cell_type": "markdown",
      "source": [
        "Los nombres de las variables son un completo desorden, usaremos la función clean_names junto con el operador tuberia \"|>\" para corregir esto en la siguiente linea de código."
      ],
      "metadata": {
        "id": "fvoFp4_7NwN_"
      }
    },
    {
      "cell_type": "code",
      "source": [
        "dat <- dat |> clean_names()"
      ],
      "metadata": {
        "id": "iAfZ023nUJFV"
      },
      "execution_count": null,
      "outputs": []
    },
    {
      "cell_type": "markdown",
      "source": [
        "A continuación volvemos a verificar que los nombres estan corregidos con el siguiente código."
      ],
      "metadata": {
        "id": "KBFTqZM3Oa_z"
      }
    },
    {
      "cell_type": "code",
      "source": [
        "names(dat)"
      ],
      "metadata": {
        "id": "WOCz-56kOZNb"
      },
      "execution_count": null,
      "outputs": []
    },
    {
      "cell_type": "markdown",
      "source": [
        "## Exploraciones iniciales"
      ],
      "metadata": {
        "id": "PyQmtPL0OwRS"
      }
    },
    {
      "cell_type": "markdown",
      "source": [
        "En el siguiente código mostramos las primeras 6 observaciones del dataset."
      ],
      "metadata": {
        "id": "GreA1NedVgQj"
      }
    },
    {
      "cell_type": "code",
      "source": [
        "head(dat)"
      ],
      "metadata": {
        "id": "hqFrv82HOcSr"
      },
      "execution_count": null,
      "outputs": []
    },
    {
      "cell_type": "markdown",
      "source": [
        "A continuación calculamos los números ausentes por columnas."
      ],
      "metadata": {
        "id": "stqnIDf9Vlou"
      }
    },
    {
      "cell_type": "code",
      "source": [
        "dat %>% summarise(across(everything(), ~ sum(is.na(.))))\n"
      ],
      "metadata": {
        "id": "M4IB08iUO68h"
      },
      "execution_count": null,
      "outputs": []
    },
    {
      "cell_type": "markdown",
      "source": [
        "**Problema 1** [25%]\n",
        "\n",
        "Realizar el código necesario para visualizar la variación de la variable Target."
      ],
      "metadata": {
        "id": "oiH1BX8gVPAN"
      }
    },
    {
      "cell_type": "code",
      "source": [],
      "metadata": {
        "id": "QZfdSXKW6PON"
      },
      "execution_count": null,
      "outputs": []
    },
    {
      "cell_type": "markdown",
      "source": [
        "**Problema 2** [25%]\n",
        "\n",
        "Realizar el código necesario para visualizar la co-variación de la variable Target y GDP.\n",
        "\n",
        "\n"
      ],
      "metadata": {
        "id": "v5H49sdCd01R"
      }
    },
    {
      "cell_type": "code",
      "source": [],
      "metadata": {
        "id": "HKaJw4__eKxK"
      },
      "execution_count": null,
      "outputs": []
    },
    {
      "cell_type": "markdown",
      "source": [
        "**Problema 3** [25%]\n",
        "\n",
        "Realizar el código necesario para visualizar la co-variación de la variable Target y International.\n",
        "\n",
        "\n"
      ],
      "metadata": {
        "id": "rBE66uZ-iamH"
      }
    },
    {
      "cell_type": "code",
      "source": [],
      "metadata": {
        "id": "jd55_AT8kYWt"
      },
      "execution_count": null,
      "outputs": []
    },
    {
      "cell_type": "markdown",
      "source": [
        "**Problema 4** [25%]\n",
        "\n",
        "Realizar el código necesario para visualizar la co-variación de la variable Unemployment rate y GDP.\n",
        "\n",
        "\n",
        "\n"
      ],
      "metadata": {
        "id": "jUeLjL5UlZ0Y"
      }
    },
    {
      "cell_type": "code",
      "source": [],
      "metadata": {
        "id": "fvqg8tgp-AR_"
      },
      "execution_count": null,
      "outputs": []
    }
  ]
}